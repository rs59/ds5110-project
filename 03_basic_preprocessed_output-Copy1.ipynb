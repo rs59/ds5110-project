{
 "cells": [
  {
   "cell_type": "markdown",
   "metadata": {},
   "source": [
    "## File 03 - Basic Preprocessed Data Output\n",
    "\n",
    "In this file, we create a small preprocessed data table."
   ]
  },
  {
   "cell_type": "markdown",
   "metadata": {},
   "source": [
    "### Set up Spark session and data schema\n",
    "\n",
    "We can specify more options in the SparkSession creator, but currently the options are at the default settings."
   ]
  },
  {
   "cell_type": "code",
   "execution_count": 25,
   "metadata": {},
   "outputs": [
    {
     "name": "stdout",
     "output_type": "stream",
     "text": [
      "CPU times: user 1.01 ms, sys: 948 µs, total: 1.96 ms\n",
      "Wall time: 8.71 ms\n"
     ]
    }
   ],
   "source": [
    "%%time\n",
    "from pyspark.sql import SparkSession\n",
    "from pyspark.sql import types as T\n",
    "\n",
    "spark = SparkSession.builder \\\n",
    "        .appName(\"project\") \\\n",
    "        .getOrCreate()\n",
    "\n",
    "sc = spark.sparkContext\n",
    "\n",
    "schema = \"`event_time` TIMESTAMP,`event_type` STRING,`product_id` INT,`category_id` BIGINT,`category_code` STRING,`brand` STRING,`price` DECIMAL(7,2),`user_id` INT,`user_session` STRING\"\n",
    "ddl_schema = T._parse_datatype_string(schema)"
   ]
  },
  {
   "cell_type": "markdown",
   "metadata": {},
   "source": [
    "### Read in test & train dataframes"
   ]
  },
  {
   "cell_type": "code",
   "execution_count": 107,
   "metadata": {},
   "outputs": [
    {
     "name": "stdout",
     "output_type": "stream",
     "text": [
      "CPU times: user 2.99 ms, sys: 0 ns, total: 2.99 ms\n",
      "Wall time: 58.7 ms\n"
     ]
    }
   ],
   "source": [
    "%%time\n",
    "'''\n",
    "df1 = spark.read.option(\"header\",\"true\") \\\n",
    "        .schema(ddl_schema) \\\n",
    "        .csv(\"/project/ds5559/group12/raw_data/2020-01.csv\")\n",
    "\n",
    "df2 = spark.read.option(\"header\",\"true\") \\\n",
    "        .schema(ddl_schema) \\\n",
    "        .csv(\"/project/ds5559/group12/raw_data/2020-02.csv\")\n",
    "'''\n",
    "train = spark.read.parquet"
   ]
  },
  {
   "cell_type": "markdown",
   "metadata": {},
   "source": [
    "### Limit number of records in dataframes\n",
    "\n",
    "We can limit each dataframe to a smaller subset. Notably, the dataframe is arranged by time, so this is how the subset will be biased."
   ]
  },
  {
   "cell_type": "code",
   "execution_count": 108,
   "metadata": {},
   "outputs": [],
   "source": [
    "# df1=df1.limit(100000)\n",
    "df1.createOrReplaceTempView(\"m1\")\n",
    "\n",
    "# df2=df11.limit(100000)\n",
    "df2.createOrReplaceTempView(\"m2\")"
   ]
  },
  {
   "cell_type": "markdown",
   "metadata": {},
   "source": [
    "### Create a transformed table containing elements of interest for our model\n",
    "\n",
    "We propose a basic table format (see https://docs.google.com/document/d/1NG4KGticBXn0D3PL5_zMxLV2Pr7A8PQtLcasxCOd1nA/edit).\n",
    "\n",
    "Every row is a user_id who exists in M1 and may or may not exist in M2.\n",
    "Columns include:\n",
    "- `user_id` (ID)\n",
    "- `m2_total_spend` (sum among all purchase events, NB: month 2. Will be 0 is user does not exist in month 2 or makes no purchase events)\n",
    "- `m1_total_spend` (sum among all purchase events)\n",
    "- `m1_user_sessions` (count of distinct user sessions/browsing sessions)\n",
    "- `m1_purchase_events` (count of distinct purchase events)\n",
    "\n",
    "Additional rows may have been added below.\n"
   ]
  },
  {
   "cell_type": "code",
   "execution_count": 121,
   "metadata": {},
   "outputs": [
    {
     "name": "stdout",
     "output_type": "stream",
     "text": [
      "+---------+--------------+--------------+---------------+------------------+----------------+\n",
      "|  user_id|m2_total_spend|m1_total_spend|m1_total_events|m1_purchase_events|m1_user_sessions|\n",
      "+---------+--------------+--------------+---------------+------------------+----------------+\n",
      "|568782581|  238858570.17|   58217352.48|         926856|            227808|             532|\n",
      "|563599039|  238022530.48|   68869280.34|         442758|            133743|             108|\n",
      "|549109608|  182246880.00|   57237229.77|         343000|             88151|             132|\n",
      "|513230794|  205879787.63|   41713336.30|         412115|             85845|              33|\n",
      "|582826305|  196941012.36|   17104022.28|         605784|             61404|             123|\n",
      "|598224683|  157533358.56|   29562396.50|         270300|             58650|             156|\n",
      "|572994775|   81753726.18|   15971794.65|         278478|             52731|             169|\n",
      "|513320236|  115081686.24|   22369278.60|         217890|             48330|              65|\n",
      "|602281209|  123886954.62|   19945883.20|         204320|             39040|             149|\n",
      "|601324663|   85804328.00|   10922415.00|         188000|             30750|              61|\n",
      "|592146169|   22913415.00|    5514538.12|         127400|             29666|              67|\n",
      "|592727922|  116733676.28|    8990452.80|         423648|             29376|              78|\n",
      "|517445697|   41932605.39|    9636030.10|         130355|             29290|             154|\n",
      "|566448225|   86111051.40|    8298110.27|         335820|             28950|             331|\n",
      "|521025518|   58059992.20|   11752005.90|         142590|             28809|              54|\n",
      "|600152037|   24528432.16|    4394389.22|         184544|             27492|             133|\n",
      "|572322956|   22208796.48|    5730729.48|         175896|             26964|             133|\n",
      "|513322839|   24782991.30|    6288004.44|         107970|             26169|              22|\n",
      "|561174161|   62482197.96|    8136881.62|         222183|             25320|             175|\n",
      "|597278112|   49554420.00|   10093505.78|         134000|             24254|             169|\n",
      "|572817408|   30666464.40|    4228053.00|         141168|             23868|             116|\n",
      "|538340540|   67104980.55|    9615336.64|         188370|             23842|             305|\n",
      "|561203381|   74995800.55|    9775213.04|         114395|             23701|             107|\n",
      "|580880864|   28916357.44|    1979694.99|         175418|             21267|             124|\n",
      "|581832564|   16470641.44|    4323962.92|          87368|             20904|              46|\n",
      "|512518772|   44724624.76|    9624894.36|         109446|             18093|             124|\n",
      "|514429354|   15142852.60|    4508072.00|          62540|             17700|             152|\n",
      "|572088087|   16025796.28|    2414767.88|         135442|             17422|              58|\n",
      "|569181579|   24082973.04|    4726249.30|         127190|             17250|             127|\n",
      "|515428951|   70913896.31|   17054528.40|          94926|             17238|             132|\n",
      "|594206080|   11189700.90|    2606906.50|          84150|             16060|             101|\n",
      "|541733144|   38085375.90|    3636531.16|         225940|             15800|              61|\n",
      "|568411069|   46156147.19|    4978137.18|          98842|             14892|             196|\n",
      "|513685594|   28825793.29|    1850180.04|         277542|             14688|             150|\n",
      "|562444578|   21140885.04|    1568527.74|         146718|             14274|              77|\n",
      "|538216048|  117456811.68|   19642999.96|          85312|             14260|             162|\n",
      "|592671397|   28190797.80|    4216388.52|          88596|             14214|             144|\n",
      "|572855504|   14288986.96|    2553706.44|          69052|             14152|              36|\n",
      "|592567756|   17649132.62|    2475712.47|         104951|             14091|             154|\n",
      "|552852475|   11325220.51|    1553338.08|          87066|             13608|              79|\n",
      "|512409624|   48499491.95|    9735478.74|          64974|             13464|             206|\n",
      "|554568653|   56371954.24|    8566707.65|          77615|             13015|             143|\n",
      "|554551310|   33637044.55|    4125039.75|         104715|             12636|             205|\n",
      "|600040542|   12094836.36|    1577711.28|          85656|             12556|              87|\n",
      "|585835507|   18270182.88|    4817638.50|          64800|             12300|              53|\n",
      "|590623686|   10341352.00|    2356840.20|         114576|             12276|              76|\n",
      "|583697927|   16598201.08|    1812667.20|          98688|             12000|             110|\n",
      "|549143389|   29018060.64|    4129082.15|          74241|             11865|              95|\n",
      "|599628994|    7709938.02|    2416981.93|          49389|             11410|              39|\n",
      "|549724553|   21931035.12|    2792569.08|          71928|             11211|              81|\n",
      "+---------+--------------+--------------+---------------+------------------+----------------+\n",
      "only showing top 50 rows\n",
      "\n",
      "CPU times: user 13 ms, sys: 34 ms, total: 47 ms\n",
      "Wall time: 2min 27s\n"
     ]
    }
   ],
   "source": [
    "%%time\n",
    "df = spark.sql(\"\"\"SELECT\n",
    "\n",
    "               /* ID */\n",
    "               m1.user_id AS user_id,\n",
    "               \n",
    "               /* Output: Total spend in month 2; Will be 0 is user does not exist in month 2 or makes no purchase events */\n",
    "               IFNULL(SUM(m2.price),0) AS m2_total_spend,\n",
    "               \n",
    "               \n",
    "               /* Total spend in month 1: we sum the price of any 'purchase' events */\n",
    "               SUM(CAST(m1.event_type=='purchase' AS INT) * m1.price) AS m1_total_spend,\n",
    "               \n",
    "               /* Total events in month 1: includes all event types (multiple per session) */\n",
    "               COUNT(m1.event_type) AS m1_total_events,\n",
    "               \n",
    "               /* Total purchase events in month 1: we sum the occurence of any 'purchase' events */\n",
    "               SUM(CAST(m1.event_type=='purchase' AS INT)) AS m1_purchase_events,\n",
    "               \n",
    "               /* Total user sessions in month 1: we count all distinct user sessions */\n",
    "               COUNT(DISTINCT m1.user_session) AS m1_user_sessions\n",
    "               \n",
    "               FROM m1\n",
    "               \n",
    "            LEFT JOIN \n",
    "            (\n",
    "               SELECT * FROM m2\n",
    "               WHERE event_type='purchase'\n",
    "            ) m2\n",
    "            \n",
    "            ON m1.user_id=m2.user_id\n",
    "            \n",
    "            GROUP BY m1.user_id ORDER BY m1_purchase_events DESC\"\"\")\n",
    "df.show(50)"
   ]
  },
  {
   "cell_type": "code",
   "execution_count": 117,
   "metadata": {},
   "outputs": [
    {
     "name": "stdout",
     "output_type": "stream",
     "text": [
      "CPU times: user 18.6 ms, sys: 33.6 ms, total: 52.2 ms\n",
      "Wall time: 3min 33s\n"
     ]
    }
   ],
   "source": [
    "%%time\n",
    "df.write.mode(\"overwrite\").parquet(\"/project/ds5559/group12/processed_data/output1.parquet\")"
   ]
  }
 ],
 "metadata": {
  "kernelspec": {
   "display_name": "DS 5110 Spark 3.1",
   "language": "python",
   "name": "ds5110_spark3.1"
  },
  "language_info": {
   "codemirror_mode": {
    "name": "ipython",
    "version": 3
   },
   "file_extension": ".py",
   "mimetype": "text/x-python",
   "name": "python",
   "nbconvert_exporter": "python",
   "pygments_lexer": "ipython3",
   "version": "3.7.10"
  }
 },
 "nbformat": 4,
 "nbformat_minor": 4
}
