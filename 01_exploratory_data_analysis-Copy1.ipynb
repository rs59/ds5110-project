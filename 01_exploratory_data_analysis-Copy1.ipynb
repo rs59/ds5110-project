{
 "cells": [
  {
   "cell_type": "markdown",
   "metadata": {},
   "source": [
    "## File 01 - Exploratory Data Analysis of Interaction-level Data\n",
    "\n",
    "In this file, we open the CSV in which the interaction-level ecommerce data is stored and we run some Spark SQL queries on it."
   ]
  },
  {
   "cell_type": "markdown",
   "metadata": {},
   "source": [
    "### Set up Spark session and data schema\n",
    "\n",
    "We can specify more options in the SparkSession creator, but currently the options are at the default settings."
   ]
  },
  {
   "cell_type": "code",
   "execution_count": 1,
   "metadata": {},
   "outputs": [
    {
     "name": "stdout",
     "output_type": "stream",
     "text": [
      "CPU times: user 181 ms, sys: 139 ms, total: 321 ms\n",
      "Wall time: 8.4 s\n"
     ]
    }
   ],
   "source": [
    "%%time\n",
    "from pyspark.sql import SparkSession\n",
    "from pyspark.sql import types as T\n",
    "\n",
    "spark = SparkSession.builder \\\n",
    "        .appName(\"project\") \\\n",
    "        .getOrCreate()\n",
    "\n",
    "sc = spark.sparkContext\n",
    "\n",
    "# In the case of needing to specify a schema (recommended behavior), we can use this code to help design it rapidly\n",
    "#   by using the default Spark settings and then making our own modifications.\n",
    "\n",
    "# To infer schema without using all data:\n",
    "# df = spark.read.option(\"header\",\"true\") \\\n",
    "#         .option(\"samplingRatio\",0.001) \\\n",
    "#         .csv(\"/project/ds5559/group12/raw_data/2019-10.csv\")\n",
    "# To print the basic schema as a DDL:\n",
    "# print(df._jdf.schema().toDDL())\n",
    "\n",
    "# We have completed the above step (this is our more accurate schema)\n",
    "# Defining the schema is unnecessary now that we are reading in parquets. \n",
    "#schema = \"`event_time` TIMESTAMP,`event_type` STRING,`product_id` INT,`category_id` BIGINT,`category_code` STRING,`brand` STRING,`price` FLOAT,`user_id` INT,`user_session` STRING\"\n",
    "#ddl_schema = T._parse_datatype_string(schema)"
   ]
  },
  {
   "cell_type": "markdown",
   "metadata": {},
   "source": [
    "### Read in dataframe"
   ]
  },
  {
   "cell_type": "code",
   "execution_count": 2,
   "metadata": {},
   "outputs": [
    {
     "name": "stdout",
     "output_type": "stream",
     "text": [
      "CPU times: user 1.87 ms, sys: 2.08 ms, total: 3.95 ms\n",
      "Wall time: 2.75 s\n"
     ]
    }
   ],
   "source": [
    "%%time\n",
    "df = spark.read.parquet(\"/project/ds5559/group12/raw_data/Filtered_Original.parquet\")"
   ]
  },
  {
   "cell_type": "markdown",
   "metadata": {},
   "source": [
    "### Print number of records in dataframe\n",
    "\n",
    "N.B.: this takes **>20 s** for perhaps one of the simplest possible operations. So we should be careful to take exploratory actions only on subsets of the data."
   ]
  },
  {
   "cell_type": "code",
   "execution_count": 3,
   "metadata": {},
   "outputs": [
    {
     "name": "stdout",
     "output_type": "stream",
     "text": [
      "root\n",
      " |-- event_time: timestamp (nullable = true)\n",
      " |-- event_type: string (nullable = true)\n",
      " |-- product_id: integer (nullable = true)\n",
      " |-- category_id: long (nullable = true)\n",
      " |-- category_code: string (nullable = true)\n",
      " |-- brand: string (nullable = true)\n",
      " |-- price: decimal(7,2) (nullable = true)\n",
      " |-- user_id: integer (nullable = true)\n",
      " |-- user_session: string (nullable = true)\n",
      "\n",
      "42448764 records\n",
      "CPU times: user 3.43 ms, sys: 23 ms, total: 26.4 ms\n",
      "Wall time: 31.3 s\n"
     ]
    }
   ],
   "source": [
    "%%time\n",
    "df.printSchema()\n",
    "print(str(df.count())+\" records\")"
   ]
  },
  {
   "cell_type": "markdown",
   "metadata": {},
   "source": [
    "### Limit number of records in dataframe\n",
    "\n",
    "We can remove the category_id column, because it is a direct transformation of category_code (this could be turned into another table). It also helps make it easier to print the output here.\n",
    "\n",
    "Next, we limit the dataframe to just a 5000-records subset. Notably, the dataframe is arranged by time, so this is how the subset will be biased."
   ]
  },
  {
   "cell_type": "code",
   "execution_count": 4,
   "metadata": {},
   "outputs": [],
   "source": [
    "df=df.drop(\"category_id\")\n",
    "df=df.limit(5000)\n",
    "df.createOrReplaceTempView(\"records\")"
   ]
  },
  {
   "cell_type": "markdown",
   "metadata": {},
   "source": [
    "#### Print dataframe contents"
   ]
  },
  {
   "cell_type": "code",
   "execution_count": 5,
   "metadata": {},
   "outputs": [
    {
     "name": "stdout",
     "output_type": "stream",
     "text": [
      "+-------------------+----------+----------+--------------------+--------+-------+---------+--------------------+\n",
      "|         event_time|event_type|product_id|       category_code|   brand|  price|  user_id|        user_session|\n",
      "+-------------------+----------+----------+--------------------+--------+-------+---------+--------------------+\n",
      "|2019-10-01 00:00:00|      view|  44600062|                null|shiseido|  35.79|541312140|72d76fde-8bb3-4e0...|\n",
      "|2019-10-01 00:00:00|      view|   3900821|appliances.enviro...|    aqua|  33.20|554748717|9333dfbd-b87a-470...|\n",
      "|2019-10-01 00:00:01|      view|  17200506|furniture.living_...|    null| 543.10|519107250|566511c2-e2e3-422...|\n",
      "|2019-10-01 00:00:01|      view|   1307067|  computers.notebook|  lenovo| 251.74|550050854|7c90fc70-0e80-459...|\n",
      "|2019-10-01 00:00:04|      view|   1004237|electronics.smart...|   apple|1081.98|535871217|c6bd7419-2748-4c5...|\n",
      "|2019-10-01 00:00:05|      view|   1480613|   computers.desktop|  pulser| 908.62|512742880|0d0d91c2-c9c2-4e8...|\n",
      "|2019-10-01 00:00:08|      view|  17300353|                null|   creed| 380.96|555447699|4fe811e9-91de-46d...|\n",
      "|2019-10-01 00:00:08|      view|  31500053|                null|luminarc|  41.16|550978835|6280d577-25c8-414...|\n",
      "|2019-10-01 00:00:10|      view|  28719074|  apparel.shoes.keds|   baden| 102.71|520571932|ac1cd4e5-a3ce-422...|\n",
      "|2019-10-01 00:00:11|      view|   1004545|electronics.smart...|  huawei| 566.01|537918940|406c46ed-90a4-478...|\n",
      "|2019-10-01 00:00:11|      view|   2900536|appliances.kitche...|elenberg|  51.46|555158050|b5bdd0b3-4ca2-4c5...|\n",
      "|2019-10-01 00:00:11|      view|   1005011|electronics.smart...| samsung| 900.64|530282093|50a293fb-5940-41b...|\n",
      "|2019-10-01 00:00:13|      view|   3900746|appliances.enviro...|   haier| 102.38|555444559|98b88fa0-d8fa-4b9...|\n",
      "|2019-10-01 00:00:15|      view|  44600062|                null|shiseido|  35.79|541312140|72d76fde-8bb3-4e0...|\n",
      "|2019-10-01 00:00:16|      view|  13500240|furniture.bedroom...|     brw|  93.18|555446365|7f0062d8-ead0-4e0...|\n",
      "|2019-10-01 00:00:17|      view|  23100006|                null|    null| 357.79|513642368|17566c27-0a8f-450...|\n",
      "|2019-10-01 00:00:18|      view|   1801995|electronics.video.tv|   haier| 193.03|537192226|e3151795-c355-4ef...|\n",
      "|2019-10-01 00:00:18|      view|  10900029|appliances.kitche...|   bosch|  58.95|519528062|901b9e3c-3f8f-414...|\n",
      "|2019-10-01 00:00:19|      view|   1306631|  computers.notebook|      hp| 580.89|550050854|7c90fc70-0e80-459...|\n",
      "|2019-10-01 00:00:19|      view|   1005135|electronics.smart...|   apple|1747.79|535871217|c6bd7419-2748-4c5...|\n",
      "+-------------------+----------+----------+--------------------+--------+-------+---------+--------------------+\n",
      "only showing top 20 rows\n",
      "\n",
      "CPU times: user 2.09 ms, sys: 1.04 ms, total: 3.13 ms\n",
      "Wall time: 8.74 s\n"
     ]
    }
   ],
   "source": [
    "%%time\n",
    "spark.sql(\"SELECT * FROM records\").show()"
   ]
  },
  {
   "cell_type": "markdown",
   "metadata": {},
   "source": [
    "#### Top prices among all event types"
   ]
  },
  {
   "cell_type": "code",
   "execution_count": 6,
   "metadata": {},
   "outputs": [
    {
     "name": "stdout",
     "output_type": "stream",
     "text": [
      "+-------------------+----------+----------+--------------------+------+-------+---------+--------------------+\n",
      "|         event_time|event_type|product_id|       category_code| brand|  price|  user_id|        user_session|\n",
      "+-------------------+----------+----------+--------------------+------+-------+---------+--------------------+\n",
      "|2019-10-01 02:26:24|      view|  21407288|  electronics.clocks|  rado|2574.07|527321544|b25dd047-7fec-489...|\n",
      "|2019-10-01 02:26:42|      view|  29900054|                null|  peda|2557.59|555463012|ff140fa7-261d-495...|\n",
      "|2019-10-01 02:23:25|      view|   1304849|  computers.notebook|  acer|2552.93|539527768|9df85aec-00be-464...|\n",
      "|2019-10-01 02:23:40|      view|  21406787|  electronics.clocks|  null|2522.59|543091275|6a07dd91-2a76-48b...|\n",
      "|2019-10-01 02:20:45|      view|   1305977|  computers.notebook| apple|2496.59|519578504|2a4700ff-7ff2-466...|\n",
      "|2019-10-01 02:24:06|      view|   1306449|  computers.notebook|  acer|2293.24|539527768|9df85aec-00be-464...|\n",
      "|2019-10-01 02:23:38|      view|   1306571|  computers.notebook|  acer|2264.92|539527768|9df85aec-00be-464...|\n",
      "|2019-10-01 02:24:23|      view|   1700796|computers.periphe...|  asus|2202.24|555462575|5ffa5556-648d-45c...|\n",
      "|2019-10-01 02:22:30|      view|  21406789|  electronics.clocks|  null|2162.22|539457640|d3539980-092d-4b0...|\n",
      "|2019-10-01 02:23:56|      view|  21406789|  electronics.clocks|  null|2162.22|539457640|d3539980-092d-4b0...|\n",
      "|2019-10-01 02:28:00|      view|  21406789|  electronics.clocks|  null|2162.22|512549598|b5f38603-c34b-493...|\n",
      "|2019-10-01 02:19:51|      view|   5100798|  electronics.clocks|garmin|2160.92|479233261|44dd8d4a-5fa0-44a...|\n",
      "|2019-10-01 02:20:16|      view|   5100798|  electronics.clocks|garmin|2160.92|512865812|b498b6a4-b623-437...|\n",
      "|2019-10-01 02:20:40|      view|   5100798|  electronics.clocks|garmin|2160.92|479233261|44dd8d4a-5fa0-44a...|\n",
      "|2019-10-01 02:27:53|      view|  21401546|  electronics.clocks| casio|2075.73|512975726|2885756b-57f6-487...|\n",
      "|2019-10-01 02:21:35|      view|   1005142|electronics.smart...| apple|2072.10|522725716|5ce8748a-2b2f-452...|\n",
      "|2019-10-01 02:19:15|      view|   1005139|electronics.smart...| apple|2072.10|527049978|62164f60-662f-4a7...|\n",
      "|2019-10-01 02:28:00|      view|   1005139|electronics.smart...| apple|2072.10|536881715|d34f01c0-f623-4bc...|\n",
      "|2019-10-01 02:22:08|      view|   1005142|electronics.smart...| apple|2072.10|522607262|d41b11b4-fadf-4d3...|\n",
      "|2019-10-01 02:28:04|      view|   1005142|electronics.smart...| apple|2072.10|512367412|3f579602-c425-468...|\n",
      "+-------------------+----------+----------+--------------------+------+-------+---------+--------------------+\n",
      "only showing top 20 rows\n",
      "\n",
      "CPU times: user 1.83 ms, sys: 1.05 ms, total: 2.88 ms\n",
      "Wall time: 5.93 s\n"
     ]
    }
   ],
   "source": [
    "%%time\n",
    "spark.sql(\"SELECT * FROM records ORDER BY price DESC\").show(20)"
   ]
  },
  {
   "cell_type": "markdown",
   "metadata": {},
   "source": [
    "#### Who has bought how much\n",
    "\n",
    "Note: Sum of prices purchased and number of purchases made are not directly correlated. This could lead to an interesting feature about multiple items being bought simultaneously vs. being bought one at a time over a long length of time."
   ]
  },
  {
   "cell_type": "code",
   "execution_count": 7,
   "metadata": {},
   "outputs": [
    {
     "name": "stdout",
     "output_type": "stream",
     "text": [
      "+--------------+----------+---------+\n",
      "|purchases_made|sum(price)|user_id  |\n",
      "+--------------+----------+---------+\n",
      "|3             |525.62    |555110488|\n",
      "|2             |213.65    |517953667|\n",
      "|2             |804.67    |551377651|\n",
      "|2             |4.25      |514127317|\n",
      "|2             |181.12    |549614436|\n",
      "|1             |130.76    |543272936|\n",
      "|1             |54.42     |555332717|\n",
      "|1             |29.51     |514591159|\n",
      "|1             |189.91    |524601178|\n",
      "|1             |515.67    |524325294|\n",
      "+--------------+----------+---------+\n",
      "only showing top 10 rows\n",
      "\n",
      "CPU times: user 1.79 ms, sys: 722 µs, total: 2.51 ms\n",
      "Wall time: 2.36 s\n"
     ]
    }
   ],
   "source": [
    "%%time\n",
    "spark.sql(\"SELECT COUNT(*) AS purchases_made, SUM(price), user_id FROM records WHERE event_type=='purchase' GROUP BY user_id ORDER BY COUNT(*) DESC\").show(10,False)"
   ]
  },
  {
   "cell_type": "markdown",
   "metadata": {},
   "source": [
    "#### Distribution of actions"
   ]
  },
  {
   "cell_type": "code",
   "execution_count": 8,
   "metadata": {},
   "outputs": [
    {
     "name": "stdout",
     "output_type": "stream",
     "text": [
      "+--------+----------+\n",
      "|count(1)|event_type|\n",
      "+--------+----------+\n",
      "|    4896|      view|\n",
      "|      54|  purchase|\n",
      "|      50|      cart|\n",
      "+--------+----------+\n",
      "\n",
      "CPU times: user 1.33 ms, sys: 1.01 ms, total: 2.33 ms\n",
      "Wall time: 1.56 s\n"
     ]
    }
   ],
   "source": [
    "%%time\n",
    "spark.sql(\"SELECT COUNT(*), event_type FROM records GROUP BY event_type ORDER BY COUNT(*) DESC\").show()"
   ]
  }
 ],
 "metadata": {
  "kernelspec": {
   "display_name": "DS 5110 Spark 3.1",
   "language": "python",
   "name": "ds5110_spark3.1"
  },
  "language_info": {
   "codemirror_mode": {
    "name": "ipython",
    "version": 3
   },
   "file_extension": ".py",
   "mimetype": "text/x-python",
   "name": "python",
   "nbconvert_exporter": "python",
   "pygments_lexer": "ipython3",
   "version": "3.7.10"
  }
 },
 "nbformat": 4,
 "nbformat_minor": 4
}
