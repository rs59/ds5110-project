{
 "cells": [
  {
   "cell_type": "markdown",
   "metadata": {},
   "source": [
    "## File 08 - Gradient Boosted Tree\n",
    "##### Group 12:\n",
    "\n",
    "##### Hannah Schmuckler, mmc4cv\n",
    "\n",
    "##### Rob Schwartz, res7cd\n",
    "\n",
    "In this file, we create an ML pipeline based on the output from File 02 (Feature creation).\n",
    "\n",
    "The files needed are `/processed_data/train.parquet` and `/processed_data/test.parquet`.\n",
    "\n",
    "We create a gradient boosted tree model and fine-tune. "
   ]
  },
  {
   "cell_type": "code",
   "execution_count": 1,
   "metadata": {},
   "outputs": [
    {
     "name": "stdout",
     "output_type": "stream",
     "text": [
      "CPU times: user 530 ms, sys: 403 ms, total: 933 ms\n",
      "Wall time: 5.71 s\n"
     ]
    }
   ],
   "source": [
    "%%time\n",
    "from pyspark.sql import SparkSession\n",
    "from pyspark.sql import types as T\n",
    "from pyspark.ml import Pipeline\n",
    "from pyspark.ml.feature import VectorAssembler\n",
    "from pyspark.ml.regression import GBTRegressor\n",
    "from pyspark.mllib.util import MLUtils\n",
    "from pyspark.ml.evaluation import RegressionEvaluator\n",
    "from pyspark.ml.tuning import ParamGridBuilder, CrossValidator\n",
    "from pyspark.sql.functions import col\n",
    "from pyspark.sql.functions import log\n",
    "from pyspark.ml.stat import Correlation\n",
    "\n",
    "\n",
    "import pandas as pd\n",
    "import numpy as np\n",
    "import copy\n",
    "\n",
    "spark = SparkSession.builder \\\n",
    "        .appName(\"project\") \\\n",
    "        .getOrCreate()\n",
    "\n",
    "sc = spark.sparkContext"
   ]
  },
  {
   "cell_type": "markdown",
   "metadata": {},
   "source": [
    "### Read in dataframes for train and test sets\n",
    "\n",
    "This data should have been previously generated: we can find it in the `processed_data` folder."
   ]
  },
  {
   "cell_type": "code",
   "execution_count": 2,
   "metadata": {},
   "outputs": [
    {
     "name": "stdout",
     "output_type": "stream",
     "text": [
      "+---------+------------------+-----------------+------------+--------------+------------------+------------------+----------------------------+---------------------------+----------------------------+----------------------------+------------------------+------------------------+-------------------------+------------------------+-----------+---------------+-----------+----------------------+------------------+------------------+-------------------------+---------------------+------------------+------------------+--------------------+------------------+------------------+--------------------+--------------------+--------------------+--------------------+\n",
      "|  user_id|     T_total_spend|      total_spend|total_events|total_sessions|avg_session_length| sd_session_length|avg_interactions_per_session|sd_interactions_per_session|max_interactions_per_session|purchase_pct_of_total_events|view_pct_of_total_events|cart_pct_of_total_events|avg_purchases_per_session|sd_purchases_per_session|cart_events|purchase_events|view_events|sessions_with_purchase|sessions_with_cart|sessions_with_view|pct_sessions_end_purchase|pct_sessions_end_cart|   total_spend_log|  total_events_log| purchase_events_log|total_sessions_log| T_total_spend_log|     pca_purchases10|     pca_purchases20|     pca_purchases50|    pca_purchases100|\n",
      "+---------+------------------+-----------------+------------+--------------+------------------+------------------+----------------------------+---------------------------+----------------------------+----------------------------+------------------------+------------------------+-------------------------+------------------------+-----------+---------------+-----------+----------------------+------------------+------------------+-------------------------+---------------------+------------------+------------------+--------------------+------------------+------------------+--------------------+--------------------+--------------------+--------------------+\n",
      "|512424146|11270.879859924316|526.6399841308594|         288|             7| 260.7142857142857|262.34564622885983|           5.142857142857143|         2.4784787961282104|                           8|         0.08333333333333333|      0.7777777777777778|      0.1388888888888889|      0.42857142857142855|      0.5345224838248488|          5|              3|         28|                     3|                 4|                 7|      0.42857142857142855|  0.14285714285714285| 6.266519071855391|  5.66296395235214|  1.0989455664582302|1.9460529959950605| 9.329977763688856|[-0.0221225462344...|[-0.0221225462344...|[-0.0221225462344...|[-0.0221225462344...|\n",
      "|512440689|               0.0|640.9400024414062|         113|            16|           566.875| 711.0573230525557|                      7.0625|          6.060459278525569|                          17|        0.008849557522123894|      0.9734513274336283|    0.017699115044247787|                   0.0625|     0.24999999999999997|          2|              1|        110|                     1|                 1|                16|                   0.0625|                  0.0|  6.46293741281174| 4.727396668230706|9.995003330834232E-4|2.7726512202867375|-6.907755278982137|[4.69075176148694...|[4.69075176148694...|[4.69075176148694...|[4.69075176148694...|\n",
      "|512467274| 1532.799949645996|39.90000057220459|          30|             6|39.166666666666664| 75.29785300170694|          1.6666666666666667|         1.2110601416389968|                           4|                         0.1|                     0.8|                     0.1|      0.16666666666666666|       0.408248290463863|          1|              1|          8|                     1|                 1|                 6|      0.16666666666666666|                  0.0| 3.686401400579004|3.4012307144399454|9.995003330834232E-4|1.7919261220073759| 7.334852026766245|[-6.0647773396890...|[-6.0647773396890...|[-6.0647773396890...|[-6.0647773396890...|\n",
      "|512470083|               0.0|385.8500061035156|          16|             5|             101.0|  72.8800384193093|                         3.2|         1.3038404810405297|                           4|                      0.0625|                    0.75|                  0.1875|                      0.2|      0.4472135954999579|          3|              1|         12|                     1|                 3|                 5|                      0.2|                  0.4| 5.955451300399281|2.7726512202867375|9.995003330834232E-4|1.6096378924367667|-6.907755278982137|[-0.0053959415183...|[-0.0053959415183...|[-0.0053959415183...|[-0.0053959415183...|\n",
      "|512474045|               0.0|370.6499938964844|          29|             6|237.16666666666666|229.47541625774787|           4.833333333333333|         2.7141603981096374|                           9|         0.06896551724137931|      0.8620689655172413|     0.06896551724137931|       0.3333333333333333|      0.5163977794943222|          2|              2|         25|                     2|                 2|                 6|       0.3333333333333333|                  0.0|5.9152609025951115| 3.367330312150578|  0.6936470556015963|1.7919261220073759|-6.907755278982137|[-1.9975955387030...|[-1.9975955387030...|[-1.9975955387030...|[-1.9975955387030...|\n",
      "+---------+------------------+-----------------+------------+--------------+------------------+------------------+----------------------------+---------------------------+----------------------------+----------------------------+------------------------+------------------------+-------------------------+------------------------+-----------+---------------+-----------+----------------------+------------------+------------------+-------------------------+---------------------+------------------+------------------+--------------------+------------------+------------------+--------------------+--------------------+--------------------+--------------------+\n",
      "only showing top 5 rows\n",
      "\n",
      "CPU times: user 5.29 ms, sys: 1.27 ms, total: 6.56 ms\n",
      "Wall time: 5.19 s\n"
     ]
    }
   ],
   "source": [
    "%%time\n",
    "trainDF = spark.read.parquet(\"./processed_data/train.parquet\")\n",
    "testDF = spark.read.parquet(\"./processed_data/test.parquet\")\n",
    "trainDF.show(5)"
   ]
  },
  {
   "cell_type": "code",
   "execution_count": null,
   "metadata": {},
   "outputs": [],
   "source": []
  },
  {
   "cell_type": "markdown",
   "metadata": {},
   "source": [
    "### Set up Spark ML pipeline training for random forest\n",
    "\n",
    "We create the function `generatePipeline(inputCols, outputCol)`, Then, we train the pipeline using this function. "
   ]
  },
  {
   "cell_type": "code",
   "execution_count": 3,
   "metadata": {},
   "outputs": [
    {
     "name": "stdout",
     "output_type": "stream",
     "text": [
      "CPU times: user 4 µs, sys: 0 ns, total: 4 µs\n",
      "Wall time: 6.68 µs\n"
     ]
    }
   ],
   "source": [
    "%%time\n",
    "\n",
    "def generatePipeline(inputCols, outputCol):\n",
    "    \n",
    "    # Select input columns for random forest regression\n",
    "    vecAssembler = VectorAssembler(inputCols=inputCols, outputCol=\"features\")\n",
    "\n",
    "    # Select output column for random forest regression\n",
    "    gb = GBTRegressor(featuresCol=\"features\", labelCol=outputCol, seed = 42)#, numTrees=5, maxDepth=5)\n",
    "    \n",
    "    pipeline = Pipeline(stages=[vecAssembler, gb])\n",
    "    return pipeline\n",
    "\n"
   ]
  },
  {
   "cell_type": "code",
   "execution_count": 4,
   "metadata": {},
   "outputs": [],
   "source": [
    "# Calculate adjusted r2 (https://towardsdatascience.com/machine-learning-linear-regression-using-pyspark-9d5d5c772b42)\n",
    "def adj_r2(r2, inputCols, testDF):\n",
    "    n = testDF.count()\n",
    "    p = len(inputCols)\n",
    "    adjusted_r2 = 1-(((1-r2)*(n-1))/(n-p-1))\n",
    "    return adjusted_r2"
   ]
  },
  {
   "cell_type": "code",
   "execution_count": 5,
   "metadata": {},
   "outputs": [],
   "source": [
    "def getEvaluationMetrics(pipelineMode,outputCol,testDF,inputCols):\n",
    "    predDF = pipelineModel.transform(testDF)\n",
    "    predDF.select(outputCol, \"prediction\").show(10)\n",
    "    \n",
    "    regressionEvaluator = RegressionEvaluator(\n",
    "    predictionCol=\"prediction\",\n",
    "    labelCol=outputCol,\n",
    "    metricName=\"rmse\")\n",
    "    rmse = regressionEvaluator.evaluate(predDF)\n",
    "\n",
    "    regressionEvaluator = RegressionEvaluator(\n",
    "    predictionCol=\"prediction\",\n",
    "    labelCol=outputCol,\n",
    "    metricName=\"r2\")\n",
    "    r2 = regressionEvaluator.evaluate(predDF)\n",
    "    \n",
    "    # Manually calculate Adjusted r2\n",
    "    adjusted_r2 = adj_r2(r2, inputCols, testDF)\n",
    "    \n",
    "    return rmse, r2, adjusted_r2\n",
    "\n"
   ]
  },
  {
   "cell_type": "code",
   "execution_count": 6,
   "metadata": {},
   "outputs": [],
   "source": [
    "def modelInfo(inputCols, pipelineModel):\n",
    "    modelCols = pipelineModel.stages[-2].getInputCols()\n",
    "    \n",
    "    feature_importance = pipelineModel.stages[-1].featureImportances\n",
    "    \n",
    "    return pd.DataFrame(list(zip(modelCols, feature_importance)), columns = ['Column name', 'Importance']).sort_values(by=\"Importance\", ascending = False)"
   ]
  },
  {
   "cell_type": "code",
   "execution_count": 7,
   "metadata": {},
   "outputs": [
    {
     "name": "stdout",
     "output_type": "stream",
     "text": [
      "** All normal inputs, normal output **\n",
      "                     Column name  Importance\n",
      "1                   total_events    0.436859\n",
      "0                    total_spend    0.167924\n",
      "7   purchase_pct_of_total_events    0.075284\n",
      "2                purchase_events    0.046957\n",
      "8       view_pct_of_total_events    0.026099\n",
      "13                   view_events    0.026002\n",
      "11                   cart_events    0.022433\n",
      "4             avg_session_length    0.019699\n",
      "15            sessions_with_cart    0.019117\n",
      "6   max_interactions_per_session    0.019015\n",
      "10     avg_purchases_per_session    0.018866\n",
      "21      sd_purchases_per_session    0.018790\n",
      "5   avg_interactions_per_session    0.017099\n",
      "9       cart_pct_of_total_events    0.016905\n",
      "17     pct_sessions_end_purchase    0.016491\n",
      "18         pct_sessions_end_cart    0.015591\n",
      "14        sessions_with_purchase    0.015496\n",
      "19             sd_session_length    0.010190\n",
      "16            sessions_with_view    0.007199\n",
      "20   sd_interactions_per_session    0.002907\n",
      "3                 total_sessions    0.001076\n",
      "12               purchase_events    0.000000\n",
      "+-----------------+------------------+\n",
      "|    T_total_spend|        prediction|\n",
      "+-----------------+------------------+\n",
      "|              0.0|1559.9962030026968|\n",
      "|              0.0|1996.3760085832178|\n",
      "|              0.0|3929.1894961843964|\n",
      "|              0.0| 551.7788290964043|\n",
      "|              0.0|1165.0092785387665|\n",
      "|              0.0| 551.7788290964043|\n",
      "|              0.0|1312.7455670650463|\n",
      "|              0.0| 2036.615774695149|\n",
      "|79118.00024795532|134168.64718560944|\n",
      "|663.1999969482422|1565.3111394173056|\n",
      "+-----------------+------------------+\n",
      "only showing top 10 rows\n",
      "\n",
      "RMSE is 48199.6\n",
      "R^2 is 0.52608\n",
      "Adjusted R^2 is 0.52593\n"
     ]
    }
   ],
   "source": [
    "print(\"** All normal inputs, normal output **\")\n",
    "inputCols = [\"total_spend\",\"total_events\",\"purchase_events\", \"total_sessions\", \"avg_session_length\", \"avg_interactions_per_session\", \"max_interactions_per_session\",\n",
    "             \"purchase_pct_of_total_events\", \"view_pct_of_total_events\", \"cart_pct_of_total_events\",\"avg_purchases_per_session\", \"cart_events\", \"purchase_events\",\n",
    "             \"view_events\", \"sessions_with_purchase\", \"sessions_with_cart\",\"sessions_with_view\", \"pct_sessions_end_purchase\", \"pct_sessions_end_cart\", 'sd_session_length', \n",
    "             'sd_interactions_per_session', 'sd_purchases_per_session']\n",
    "\n",
    "outputCol = \"T_total_spend\"\n",
    "\n",
    "pipeline = generatePipeline(inputCols, outputCol)\n",
    "pipelineModel = pipeline.fit(trainDF)\n",
    "\n",
    "print(modelInfo(inputCols, pipelineModel))\n",
    "\n",
    "evaluationMetrics = getEvaluationMetrics(pipelineModel,outputCol,testDF, inputCols)\n",
    "print(f\"RMSE is {evaluationMetrics[0]:.1f}\")\n",
    "print(f\"R^2 is {evaluationMetrics[1]:.5f}\")\n",
    "print(f\"Adjusted R^2 is {evaluationMetrics[2]:.5f}\")"
   ]
  },
  {
   "cell_type": "code",
   "execution_count": 8,
   "metadata": {},
   "outputs": [
    {
     "name": "stdout",
     "output_type": "stream",
     "text": [
      "** All normal inputs + log inputs (25 total), normal output **\n",
      "                     Column name  Importance\n",
      "1                   total_events    0.435210\n",
      "0                    total_spend    0.169810\n",
      "7   purchase_pct_of_total_events    0.073837\n",
      "2                purchase_events    0.039631\n",
      "12                   view_events    0.026925\n",
      "11                   cart_events    0.025445\n",
      "8       view_pct_of_total_events    0.023211\n",
      "4             avg_session_length    0.021745\n",
      "14            sessions_with_cart    0.019770\n",
      "6   max_interactions_per_session    0.018971\n",
      "10     avg_purchases_per_session    0.018866\n",
      "20      sd_purchases_per_session    0.018752\n",
      "16     pct_sessions_end_purchase    0.016491\n",
      "13        sessions_with_purchase    0.015649\n",
      "17         pct_sessions_end_cart    0.015591\n",
      "9       cart_pct_of_total_events    0.015384\n",
      "5   avg_interactions_per_session    0.013464\n",
      "18             sd_session_length    0.009477\n",
      "15            sessions_with_view    0.007592\n",
      "3                 total_sessions    0.006702\n",
      "19   sd_interactions_per_session    0.003041\n",
      "21               total_spend_log    0.002555\n",
      "22              total_events_log    0.001882\n",
      "23           purchase_events_log    0.000000\n",
      "24            total_sessions_log    0.000000\n",
      "+-----------------+------------------+\n",
      "|    T_total_spend|        prediction|\n",
      "+-----------------+------------------+\n",
      "|              0.0| 1559.966192208205|\n",
      "|              0.0|1996.3346671896973|\n",
      "|              0.0|3929.4765492875595|\n",
      "|              0.0| 551.7777848422966|\n",
      "|              0.0|1165.0082189992495|\n",
      "|              0.0| 551.7777848422966|\n",
      "|              0.0|1312.7391964524425|\n",
      "|              0.0|2036.6073089556182|\n",
      "|79118.00024795532|134168.62285882203|\n",
      "|663.1999969482422| 1565.306315255581|\n",
      "+-----------------+------------------+\n",
      "only showing top 10 rows\n",
      "\n",
      "RMSE is 48250.9\n",
      "R^2 is 0.52507\n",
      "Adjusted R^2 is 0.52490\n"
     ]
    }
   ],
   "source": [
    "print(\"** All normal inputs + log inputs (25 total), normal output **\")\n",
    "inputCols = [\"total_spend\",\"total_events\",\"purchase_events\", \"total_sessions\", \"avg_session_length\", \"avg_interactions_per_session\", \"max_interactions_per_session\",\n",
    "             \"purchase_pct_of_total_events\", \"view_pct_of_total_events\", \"cart_pct_of_total_events\",\"avg_purchases_per_session\", \"cart_events\", \n",
    "             \"view_events\", \"sessions_with_purchase\", \"sessions_with_cart\",\"sessions_with_view\", \"pct_sessions_end_purchase\", \"pct_sessions_end_cart\", 'sd_session_length', \n",
    "             'sd_interactions_per_session', 'sd_purchases_per_session', 'total_spend_log', 'total_events_log', 'purchase_events_log', 'total_sessions_log']\n",
    "\n",
    "outputCol = \"T_total_spend\"\n",
    "\n",
    "pipeline = generatePipeline(inputCols, outputCol)\n",
    "pipelineModel = pipeline.fit(trainDF)\n",
    "\n",
    "print(modelInfo(inputCols, pipelineModel))\n",
    "\n",
    "evaluationMetrics = getEvaluationMetrics(pipelineModel,outputCol,testDF, inputCols)\n",
    "print(f\"RMSE is {evaluationMetrics[0]:.1f}\")\n",
    "print(f\"R^2 is {evaluationMetrics[1]:.5f}\")\n",
    "print(f\"Adjusted R^2 is {evaluationMetrics[2]:.5f}\")"
   ]
  },
  {
   "cell_type": "markdown",
   "metadata": {},
   "source": [
    "#### How interesting! Three of the four log values wound up with importances of 0. How does a log output work for this one?"
   ]
  },
  {
   "cell_type": "code",
   "execution_count": 9,
   "metadata": {},
   "outputs": [
    {
     "name": "stdout",
     "output_type": "stream",
     "text": [
      "** All normal inputs + log inputs (25 total), log output **\n",
      "                     Column name  Importance\n",
      "1                   total_events    0.380251\n",
      "12                   view_events    0.262296\n",
      "0                    total_spend    0.158733\n",
      "11                   cart_events    0.076981\n",
      "22              total_events_log    0.025315\n",
      "2                purchase_events    0.023530\n",
      "8       view_pct_of_total_events    0.016044\n",
      "7   purchase_pct_of_total_events    0.014833\n",
      "4             avg_session_length    0.014179\n",
      "3                 total_sessions    0.008440\n",
      "5   avg_interactions_per_session    0.003375\n",
      "9       cart_pct_of_total_events    0.003367\n",
      "10     avg_purchases_per_session    0.002819\n",
      "6   max_interactions_per_session    0.002395\n",
      "15            sessions_with_view    0.002045\n",
      "18             sd_session_length    0.001559\n",
      "20      sd_purchases_per_session    0.001318\n",
      "13        sessions_with_purchase    0.001147\n",
      "14            sessions_with_cart    0.001102\n",
      "17         pct_sessions_end_cart    0.000123\n",
      "16     pct_sessions_end_purchase    0.000082\n",
      "21               total_spend_log    0.000066\n",
      "19   sd_interactions_per_session    0.000000\n",
      "23           purchase_events_log    0.000000\n",
      "24            total_sessions_log    0.000000\n",
      "+------------------+------------------+\n",
      "| T_total_spend_log|        prediction|\n",
      "+------------------+------------------+\n",
      "|-6.907755278982137|-5.423539518511273|\n",
      "|-6.907755278982137|-4.688813268250693|\n",
      "|-6.907755278982137|-4.156023921352993|\n",
      "|-6.907755278982137|-5.909373797952089|\n",
      "|-6.907755278982137|-5.574177992091768|\n",
      "|-6.907755278982137|-5.416975781927327|\n",
      "|-6.907755278982137|-4.926066732892055|\n",
      "|-6.907755278982137|-4.844086951097103|\n",
      "|11.278695703691795|12.719366352952653|\n",
      "|6.4970781070591626|  8.16206247803465|\n",
      "+------------------+------------------+\n",
      "only showing top 10 rows\n",
      "\n",
      "RMSE is 4.5\n",
      "R^2 is 0.59940\n",
      "Adjusted R^2 is 0.59925\n"
     ]
    }
   ],
   "source": [
    "print(\"** All normal inputs + log inputs (25 total), log output **\")\n",
    "inputCols = [\"total_spend\",\"total_events\",\"purchase_events\", \"total_sessions\", \"avg_session_length\", \"avg_interactions_per_session\", \"max_interactions_per_session\",\n",
    "             \"purchase_pct_of_total_events\", \"view_pct_of_total_events\", \"cart_pct_of_total_events\",\"avg_purchases_per_session\", \"cart_events\", \n",
    "             \"view_events\", \"sessions_with_purchase\", \"sessions_with_cart\",\"sessions_with_view\", \"pct_sessions_end_purchase\", \"pct_sessions_end_cart\", 'sd_session_length', \n",
    "             'sd_interactions_per_session', 'sd_purchases_per_session', 'total_spend_log', 'total_events_log', 'purchase_events_log', 'total_sessions_log']\n",
    "\n",
    "outputCol = \"T_total_spend_log\"\n",
    "\n",
    "pipeline = generatePipeline(inputCols, outputCol)\n",
    "pipelineModel = pipeline.fit(trainDF)\n",
    "\n",
    "print(modelInfo(inputCols, pipelineModel))\n",
    "\n",
    "evaluationMetrics = getEvaluationMetrics(pipelineModel,outputCol,testDF, inputCols)\n",
    "print(f\"RMSE is {evaluationMetrics[0]:.1f}\")\n",
    "print(f\"R^2 is {evaluationMetrics[1]:.5f}\")\n",
    "print(f\"Adjusted R^2 is {evaluationMetrics[2]:.5f}\")"
   ]
  },
  {
   "cell_type": "markdown",
   "metadata": {},
   "source": [
    "#### Dang! The log output actually worked significantly better this time. We'll use that for the remainder. Time for tuning..."
   ]
  },
  {
   "cell_type": "code",
   "execution_count": 10,
   "metadata": {},
   "outputs": [
    {
     "name": "stdout",
     "output_type": "stream",
     "text": [
      "** Smaller model, log output **\n",
      "    Column name  Importance\n",
      "1  total_events    0.428642\n",
      "3   view_events    0.265078\n",
      "0   total_spend    0.169663\n",
      "2   cart_events    0.136617\n",
      "+------------------+------------------+\n",
      "| T_total_spend_log|        prediction|\n",
      "+------------------+------------------+\n",
      "|-6.907755278982137|-5.401702215435658|\n",
      "|-6.907755278982137|-5.116493226972563|\n",
      "|-6.907755278982137|-4.613897781605019|\n",
      "|-6.907755278982137|-5.756182796571637|\n",
      "|-6.907755278982137|-5.572453561657388|\n",
      "|-6.907755278982137|-5.736000545638466|\n",
      "|-6.907755278982137|-5.182997024887596|\n",
      "|-6.907755278982137|-5.402200848194742|\n",
      "|11.278695703691795|11.953560429151835|\n",
      "|6.4970781070591626| 8.014701964359105|\n",
      "+------------------+------------------+\n",
      "only showing top 10 rows\n",
      "\n",
      "RMSE is 4.5\n",
      "R^2 is 0.60888\n",
      "Adjusted R^2 is 0.60886\n"
     ]
    }
   ],
   "source": [
    "print(\"** Smaller model, log output **\")\n",
    "inputCols = [\"total_spend\",\"total_events\",\"cart_events\", \"view_events\"]\n",
    "\n",
    "outputCol = \"T_total_spend_log\"\n",
    "\n",
    "pipeline = generatePipeline(inputCols, outputCol)\n",
    "pipelineModel = pipeline.fit(trainDF)\n",
    "\n",
    "print(modelInfo(inputCols, pipelineModel))\n",
    "\n",
    "evaluationMetrics = getEvaluationMetrics(pipelineModel,outputCol,testDF, inputCols)\n",
    "print(f\"RMSE is {evaluationMetrics[0]:.1f}\")\n",
    "print(f\"R^2 is {evaluationMetrics[1]:.5f}\")\n",
    "print(f\"Adjusted R^2 is {evaluationMetrics[2]:.5f}\")"
   ]
  },
  {
   "cell_type": "markdown",
   "metadata": {},
   "source": [
    "#### The champion model with the best adjusted r-square (.60886) has only 4 input columns, and uses the log output. But is it using the best hyperparameters? "
   ]
  },
  {
   "cell_type": "code",
   "execution_count": 11,
   "metadata": {},
   "outputs": [
    {
     "name": "stdout",
     "output_type": "stream",
     "text": [
      "CPU times: user 23 ms, sys: 4.32 ms, total: 27.3 ms\n",
      "Wall time: 7.18 s\n"
     ]
    }
   ],
   "source": [
    "%%time\n",
    "inputCols = [\"total_spend\",\"total_events\",\"cart_events\", \"view_events\"]\n",
    "\n",
    "outputCol = \"T_total_spend_log\"\n",
    "\n",
    "pipeline = generatePipeline(inputCols, outputCol)\n",
    "pipelineModel = pipeline.fit(trainDF)\n",
    "\n",
    "vecAssembler = VectorAssembler(inputCols=inputCols, outputCol=\"features\")\n",
    "\n",
    "gb = GBTRegressor(featuresCol=\"features\", labelCol=outputCol, seed = 42)\n",
    "\n",
    "pipeline = Pipeline(stages=[vecAssembler, gb])\n",
    "\n",
    "# Set parameters to test\n",
    "paramGrid = ParamGridBuilder() \\\n",
    "    .addGrid(gb.maxIter, [10, 20, 30]) \\\n",
    "    .addGrid(gb.stepSize, [.01, .1, .5]) \\\n",
    "    .build()\n",
    "\n",
    "crossval = CrossValidator(estimator=pipeline,\n",
    "                          estimatorParamMaps=paramGrid,\n",
    "                          evaluator=RegressionEvaluator().setLabelCol(\"T_total_spend_log\"),\n",
    "                          numFolds=4)"
   ]
  },
  {
   "cell_type": "code",
   "execution_count": 12,
   "metadata": {},
   "outputs": [
    {
     "name": "stdout",
     "output_type": "stream",
     "text": [
      "CPU times: user 2.08 s, sys: 610 ms, total: 2.69 s\n",
      "Wall time: 5min 18s\n"
     ]
    }
   ],
   "source": [
    "%%time\n",
    "cvModel = crossval.fit(trainDF)"
   ]
  },
  {
   "cell_type": "code",
   "execution_count": 13,
   "metadata": {},
   "outputs": [
    {
     "name": "stdout",
     "output_type": "stream",
     "text": [
      "\n",
      "{Param(parent='GBTRegressor_d3ddeb2a7ab6', name='maxIter', doc='max number of iterations (>= 0).'): 10, Param(parent='GBTRegressor_d3ddeb2a7ab6', name='stepSize', doc='Step size (a.k.a. learning rate) in interval (0, 1] for shrinking the contribution of each estimator.'): 0.01}\n",
      "+-----------------+------------------+\n",
      "|    T_total_spend|        prediction|\n",
      "+-----------------+------------------+\n",
      "|              0.0|-5.401702215435658|\n",
      "|              0.0|-5.116493226972563|\n",
      "|              0.0|-4.613897781605019|\n",
      "|              0.0|-5.756182796571637|\n",
      "|              0.0|-5.572453561657388|\n",
      "|              0.0|-5.736000545638466|\n",
      "|              0.0|-5.182997024887596|\n",
      "|              0.0|-5.402200848194742|\n",
      "|79118.00024795532|11.953560429151835|\n",
      "|663.1999969482422| 8.014701964359105|\n",
      "+-----------------+------------------+\n",
      "only showing top 10 rows\n",
      "\n",
      "RMSE is 71326.9\n",
      "R^2 is -0.03782\n",
      "Adjusted R^2 is -0.03788\n"
     ]
    }
   ],
   "source": [
    "print()\n",
    "print(cvModel.getEstimatorParamMaps()[np.argmax(cvModel.avgMetrics)])\n",
    "\n",
    "evaluationMetrics = getEvaluationMetrics(cvModel.bestModel,\"T_total_spend\",testDF,inputCols)\n",
    "print(f\"RMSE is {evaluationMetrics[0]:.1f}\")\n",
    "print(f\"R^2 is {evaluationMetrics[1]:.5f}\")\n",
    "print(f\"Adjusted R^2 is {evaluationMetrics[2]:.5f}\")"
   ]
  },
  {
   "cell_type": "markdown",
   "metadata": {},
   "source": [
    "#### For some reason, doing cross validation/parameter tuning doesn't work at all on the gradient boosted tree. "
   ]
  }
 ],
 "metadata": {
  "kernelspec": {
   "display_name": "DS 5110 Spark 3.1",
   "language": "python",
   "name": "ds5110_spark3.1"
  },
  "language_info": {
   "codemirror_mode": {
    "name": "ipython",
    "version": 3
   },
   "file_extension": ".py",
   "mimetype": "text/x-python",
   "name": "python",
   "nbconvert_exporter": "python",
   "pygments_lexer": "ipython3",
   "version": "3.7.10"
  }
 },
 "nbformat": 4,
 "nbformat_minor": 4
}
