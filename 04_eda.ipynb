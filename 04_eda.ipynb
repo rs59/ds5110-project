{
 "cells": [
  {
   "cell_type": "markdown",
   "metadata": {},
   "source": [
    "### 05: Exploratory Data Analysis, Individual Level\n",
    "##### Group 12:\n",
    "\n",
    "##### Hannah Schmuckler, mmc4cv\n",
    "\n",
    "##### Rob Schwartz, res7cd"
   ]
  },
  {
   "cell_type": "markdown",
   "metadata": {},
   "source": [
    "At a minimum, the file should include a summary containing:\n",
    "* Number of records\n",
    "* Number of columns\n",
    "* Statistical summary of response variable\n",
    "* Statistical summary of potential predictor variables (if there are a large number of predictors, select the top 10)\n",
    "* Note: Summarize categorical variables with counts and percentages for each level and summarize numerical variables with mean/quantiles/standard deviation.\n",
    "* Include up to five helpful graphs"
   ]
  },
  {
   "cell_type": "code",
   "execution_count": null,
   "metadata": {},
   "outputs": [],
   "source": []
  },
  {
   "cell_type": "code",
   "execution_count": 32,
   "metadata": {},
   "outputs": [
    {
     "name": "stdout",
     "output_type": "stream",
     "text": [
      "CPU times: user 221 µs, sys: 1.08 ms, total: 1.3 ms\n",
      "Wall time: 957 µs\n"
     ]
    }
   ],
   "source": [
    "%%time\n",
    "from pyspark.sql import SparkSession\n",
    "from pyspark.sql import types as T\n",
    "import matplotlib.pyplot as plt\n",
    "from pyspark.sql.functions import col\n",
    "import pandas as pd\n",
    "import pyspark.sql.functions as f\n",
    "from pyspark.sql.window import Window\n",
    "\n",
    "\n",
    "import sys\n",
    "spark = SparkSession.builder \\\n",
    "        .appName(\"project\") \\\n",
    "        .getOrCreate()\n",
    "\n",
    "sc = spark.sparkContext"
   ]
  },
  {
   "cell_type": "markdown",
   "metadata": {},
   "source": [
    "### Read in data"
   ]
  },
  {
   "cell_type": "markdown",
   "metadata": {},
   "source": [
    "#### Note: Our data was originally formatted in a 'tall' file forma with 9 columns:\n",
    "* event_time\n",
    "* event_type\n",
    "* product_id\n",
    "* category_code\n",
    "* brand\n",
    "* price\n",
    "* user_id\n",
    "* user_session"
   ]
  },
  {
   "cell_type": "markdown",
   "metadata": {},
   "source": [
    "It was also significantly larger than the 3gb limitation for class. To address the size issue, we selected a random sample of individuals. \n",
    "\n",
    "All of the features in the dataset below have been engineered by us on an individual level, instead of the event-level data originally provided. "
   ]
  },
  {
   "cell_type": "code",
   "execution_count": 33,
   "metadata": {},
   "outputs": [],
   "source": [
    "full = spark.read.parquet(\"./processed_data/engineered_features.parquet\")"
   ]
  },
  {
   "cell_type": "code",
   "execution_count": 34,
   "metadata": {},
   "outputs": [
    {
     "name": "stdout",
     "output_type": "stream",
     "text": [
      "root\n",
      " |-- user_id: integer (nullable = true)\n",
      " |-- T_total_spend: double (nullable = true)\n",
      " |-- total_spend: double (nullable = true)\n",
      " |-- total_events: long (nullable = true)\n",
      " |-- total_sessions: long (nullable = true)\n",
      " |-- avg_session_length: double (nullable = true)\n",
      " |-- sd_session_length: double (nullable = true)\n",
      " |-- avg_interactions_per_session: double (nullable = true)\n",
      " |-- sd_interactions_per_session: double (nullable = true)\n",
      " |-- max_interactions_per_session: long (nullable = true)\n",
      " |-- purchase_pct_of_total_events: double (nullable = true)\n",
      " |-- view_pct_of_total_events: double (nullable = true)\n",
      " |-- cart_pct_of_total_events: double (nullable = true)\n",
      " |-- avg_purchases_per_session: double (nullable = true)\n",
      " |-- sd_purchases_per_session: double (nullable = true)\n",
      " |-- cart_events: long (nullable = true)\n",
      " |-- purchase_events: long (nullable = true)\n",
      " |-- view_events: long (nullable = true)\n",
      " |-- sessions_with_purchase: long (nullable = true)\n",
      " |-- sessions_with_cart: long (nullable = true)\n",
      " |-- sessions_with_view: long (nullable = true)\n",
      " |-- pct_sessions_end_purchase: double (nullable = true)\n",
      " |-- pct_sessions_end_cart: double (nullable = true)\n",
      "\n"
     ]
    }
   ],
   "source": [
    "full.printSchema()"
   ]
  },
  {
   "cell_type": "code",
   "execution_count": 35,
   "metadata": {},
   "outputs": [
    {
     "data": {
      "text/plain": [
       "23"
      ]
     },
     "execution_count": 35,
     "metadata": {},
     "output_type": "execute_result"
    }
   ],
   "source": [
    "# Number of columns\n",
    "len(full.schema)"
   ]
  },
  {
   "cell_type": "markdown",
   "metadata": {},
   "source": [
    "##### A single record looks like this:"
   ]
  },
  {
   "cell_type": "code",
   "execution_count": 36,
   "metadata": {},
   "outputs": [
    {
     "name": "stdout",
     "output_type": "stream",
     "text": [
      "-RECORD 0------------------------------------------\n",
      " user_id                      | 413580824          \n",
      " T_total_spend                | 0.0                \n",
      " total_spend                  | 0.0                \n",
      " total_events                 | 3                  \n",
      " total_sessions               | 2                  \n",
      " avg_session_length           | 38.5               \n",
      " sd_session_length            | 54.44722215136416  \n",
      " avg_interactions_per_session | 1.5                \n",
      " sd_interactions_per_session  | 0.7071067811865476 \n",
      " max_interactions_per_session | 2                  \n",
      " purchase_pct_of_total_events | 0.0                \n",
      " view_pct_of_total_events     | 1.0                \n",
      " cart_pct_of_total_events     | 0.0                \n",
      " avg_purchases_per_session    | 0.0                \n",
      " sd_purchases_per_session     | 0.0                \n",
      " cart_events                  | 0                  \n",
      " purchase_events              | 0                  \n",
      " view_events                  | 3                  \n",
      " sessions_with_purchase       | 0                  \n",
      " sessions_with_cart           | 0                  \n",
      " sessions_with_view           | 2                  \n",
      " pct_sessions_end_purchase    | 0.0                \n",
      " pct_sessions_end_cart        | 0.0                \n",
      "only showing top 1 row\n",
      "\n",
      "CPU times: user 1.14 ms, sys: 1.28 ms, total: 2.43 ms\n",
      "Wall time: 89.5 ms\n"
     ]
    }
   ],
   "source": [
    "%%time\n",
    "full.show(1, vertical=True)"
   ]
  },
  {
   "cell_type": "code",
   "execution_count": 37,
   "metadata": {},
   "outputs": [
    {
     "name": "stdout",
     "output_type": "stream",
     "text": [
      "+-------+------------------+\n",
      "|summary|     T_total_spend|\n",
      "+-------+------------------+\n",
      "|  count|            215313|\n",
      "|   mean|1509.2924871178852|\n",
      "| stddev|22105.917164693652|\n",
      "|    min|               0.0|\n",
      "|    25%|               0.0|\n",
      "|    50%|               0.0|\n",
      "|    75%|               0.0|\n",
      "|    max| 2293198.715698242|\n",
      "+-------+------------------+\n",
      "\n",
      "+-------+------------------+\n",
      "|summary|       total_spend|\n",
      "+-------+------------------+\n",
      "|  count|            215313|\n",
      "|   mean|113.57483035133664|\n",
      "| stddev| 1597.494258748976|\n",
      "|    min|               0.0|\n",
      "|    25%|               0.0|\n",
      "|    50%|               0.0|\n",
      "|    75%|               0.0|\n",
      "|    max| 97969.59899902344|\n",
      "+-------+------------------+\n",
      "\n",
      "+-------+------------------+\n",
      "|summary|      total_events|\n",
      "+-------+------------------+\n",
      "|  count|            215313|\n",
      "|   mean|15.916674794369127|\n",
      "| stddev| 65.83642775757598|\n",
      "|    min|                 1|\n",
      "|    25%|                 1|\n",
      "|    50%|                 3|\n",
      "|    75%|                11|\n",
      "|    max|              3000|\n",
      "+-------+------------------+\n",
      "\n",
      "+-------+------------------+\n",
      "|summary|    total_sessions|\n",
      "+-------+------------------+\n",
      "|  count|            215313|\n",
      "|   mean|2.9895082972231126|\n",
      "| stddev| 4.994101493659029|\n",
      "|    min|                 1|\n",
      "|    25%|                 1|\n",
      "|    50%|                 1|\n",
      "|    75%|                 3|\n",
      "|    max|               290|\n",
      "+-------+------------------+\n",
      "\n",
      "+-------+------------------+\n",
      "|summary|avg_session_length|\n",
      "+-------+------------------+\n",
      "|  count|            215313|\n",
      "|   mean| 281.2779799080897|\n",
      "| stddev|1401.8950762350592|\n",
      "|    min|               0.0|\n",
      "|    25%|               0.0|\n",
      "|    50%|              37.0|\n",
      "|    75%|             196.0|\n",
      "|    max|           28780.5|\n",
      "+-------+------------------+\n",
      "\n",
      "+-------+------------------+\n",
      "|summary| sd_session_length|\n",
      "+-------+------------------+\n",
      "|  count|            105296|\n",
      "|   mean| 720.5437808242535|\n",
      "| stddev| 4787.820306291201|\n",
      "|    min|               0.0|\n",
      "|    25%|18.335757415498275|\n",
      "|    50%|112.07289294621306|\n",
      "|    75%| 327.1273961827919|\n",
      "|    max|208611.09654511116|\n",
      "+-------+------------------+\n",
      "\n",
      "+-------+----------------------------+\n",
      "|summary|avg_interactions_per_session|\n",
      "+-------+----------------------------+\n",
      "|  count|                      215313|\n",
      "|   mean|          3.5410639877836676|\n",
      "| stddev|           8.102494371732982|\n",
      "|    min|                         1.0|\n",
      "|    25%|                         1.0|\n",
      "|    50%|                         2.0|\n",
      "|    75%|                         4.0|\n",
      "|    max|                      1934.0|\n",
      "+-------+----------------------------+\n",
      "\n",
      "+-------+---------------------------+\n",
      "|summary|sd_interactions_per_session|\n",
      "+-------+---------------------------+\n",
      "|  count|                     105296|\n",
      "|   mean|         3.1591133192924636|\n",
      "| stddev|          4.499826217239079|\n",
      "|    min|                        0.0|\n",
      "|    25%|         0.5773502691896257|\n",
      "|    50%|         1.7043362064926932|\n",
      "|    75%|          4.187825066532602|\n",
      "|    max|         171.82694782833104|\n",
      "+-------+---------------------------+\n",
      "\n",
      "+-------+----------------------------+\n",
      "|summary|max_interactions_per_session|\n",
      "+-------+----------------------------+\n",
      "|  count|                      215313|\n",
      "|   mean|           5.873022065551082|\n",
      "| stddev|           11.49163627500105|\n",
      "|    min|                           1|\n",
      "|    25%|                           1|\n",
      "|    50%|                           2|\n",
      "|    75%|                           6|\n",
      "|    max|                        1934|\n",
      "+-------+----------------------------+\n",
      "\n",
      "+-------+----------------------------+\n",
      "|summary|purchase_pct_of_total_events|\n",
      "+-------+----------------------------+\n",
      "|  count|                      215313|\n",
      "|   mean|        0.008356114445985413|\n",
      "| stddev|         0.03738068879416683|\n",
      "|    min|                         0.0|\n",
      "|    25%|                         0.0|\n",
      "|    50%|                         0.0|\n",
      "|    75%|                         0.0|\n",
      "|    max|                         1.0|\n",
      "+-------+----------------------------+\n",
      "\n",
      "+-------+------------------------+\n",
      "|summary|view_pct_of_total_events|\n",
      "+-------+------------------------+\n",
      "|  count|                  215313|\n",
      "|   mean|      0.9633508584879225|\n",
      "| stddev|     0.11006772563393476|\n",
      "|    min|                     0.0|\n",
      "|    25%|                     1.0|\n",
      "|    50%|                     1.0|\n",
      "|    75%|                     1.0|\n",
      "|    max|                     1.0|\n",
      "+-------+------------------------+\n",
      "\n",
      "+-------+------------------------+\n",
      "|summary|cart_pct_of_total_events|\n",
      "+-------+------------------------+\n",
      "|  count|                  215313|\n",
      "|   mean|    0.028293027066088782|\n",
      "| stddev|     0.08616582454042325|\n",
      "|    min|                     0.0|\n",
      "|    25%|                     0.0|\n",
      "|    50%|                     0.0|\n",
      "|    75%|                     0.0|\n",
      "|    max|                     1.0|\n",
      "+-------+------------------------+\n",
      "\n",
      "+-------+-------------------------+\n",
      "|summary|avg_purchases_per_session|\n",
      "+-------+-------------------------+\n",
      "|  count|                   215313|\n",
      "|   mean|      0.04274734764827641|\n",
      "| stddev|      0.19732117751102865|\n",
      "|    min|                      0.0|\n",
      "|    25%|                      0.0|\n",
      "|    50%|                      0.0|\n",
      "|    75%|                      0.0|\n",
      "|    max|                      6.0|\n",
      "+-------+-------------------------+\n",
      "\n",
      "+-------+------------------------+\n",
      "|summary|sd_purchases_per_session|\n",
      "+-------+------------------------+\n",
      "|  count|                  105296|\n",
      "|   mean|     0.07266516397213252|\n",
      "| stddev|      0.2169836111924067|\n",
      "|    min|                     0.0|\n",
      "|    25%|                     0.0|\n",
      "|    50%|                     0.0|\n",
      "|    75%|                     0.0|\n",
      "|    max|      7.0710678118654755|\n",
      "+-------+------------------------+\n",
      "\n",
      "+-------+------------------+\n",
      "|summary|       cart_events|\n",
      "+-------+------------------+\n",
      "|  count|            215313|\n",
      "|   mean|0.5373897535216173|\n",
      "| stddev| 2.245508223355463|\n",
      "|    min|                 0|\n",
      "|    25%|                 0|\n",
      "|    50%|                 0|\n",
      "|    75%|                 0|\n",
      "|    max|               151|\n",
      "+-------+------------------+\n",
      "\n",
      "+-------+-------------------+\n",
      "|summary|    purchase_events|\n",
      "+-------+-------------------+\n",
      "|  count|             215313|\n",
      "|   mean|0.16719845062769084|\n",
      "| stddev| 1.0138761380075976|\n",
      "|    min|                  0|\n",
      "|    25%|                  0|\n",
      "|    50%|                  0|\n",
      "|    75%|                  0|\n",
      "|    max|                111|\n",
      "+-------+-------------------+\n",
      "\n",
      "+-------+------------------+\n",
      "|summary|       view_events|\n",
      "+-------+------------------+\n",
      "|  count|            215313|\n",
      "|   mean|11.550561275909955|\n",
      "| stddev|29.810211565216523|\n",
      "|    min|                 0|\n",
      "|    25%|                 1|\n",
      "|    50%|                 3|\n",
      "|    75%|                10|\n",
      "|    max|              2552|\n",
      "+-------+------------------+\n",
      "\n",
      "+-------+----------------------+\n",
      "|summary|sessions_with_purchase|\n",
      "+-------+----------------------+\n",
      "|  count|                215313|\n",
      "|   mean|   0.14127804637899244|\n",
      "| stddev|    0.7510225099476585|\n",
      "|    min|                     0|\n",
      "|    25%|                     0|\n",
      "|    50%|                     0|\n",
      "|    75%|                     0|\n",
      "|    max|                    57|\n",
      "+-------+----------------------+\n",
      "\n",
      "+-------+------------------+\n",
      "|summary|sessions_with_cart|\n",
      "+-------+------------------+\n",
      "|  count|            215313|\n",
      "|   mean|0.3210117364023538|\n",
      "| stddev|1.1105529996425871|\n",
      "|    min|                 0|\n",
      "|    25%|                 0|\n",
      "|    50%|                 0|\n",
      "|    75%|                 0|\n",
      "|    max|                62|\n",
      "+-------+------------------+\n",
      "\n",
      "+-------+------------------+\n",
      "|summary|sessions_with_view|\n",
      "+-------+------------------+\n",
      "|  count|            215313|\n",
      "|   mean|  2.97577480226461|\n",
      "| stddev| 4.975101322712125|\n",
      "|    min|                 0|\n",
      "|    25%|                 1|\n",
      "|    50%|                 1|\n",
      "|    75%|                 3|\n",
      "|    max|               290|\n",
      "+-------+------------------+\n",
      "\n",
      "+-------+-------------------------+\n",
      "|summary|pct_sessions_end_purchase|\n",
      "+-------+-------------------------+\n",
      "|  count|                   215313|\n",
      "|   mean|      0.03692051088989695|\n",
      "| stddev|      0.15693232244185948|\n",
      "|    min|                      0.0|\n",
      "|    25%|                      0.0|\n",
      "|    50%|                      0.0|\n",
      "|    75%|                      0.0|\n",
      "|    max|                      1.0|\n",
      "+-------+-------------------------+\n",
      "\n",
      "+-------+---------------------+\n",
      "|summary|pct_sessions_end_cart|\n",
      "+-------+---------------------+\n",
      "|  count|               215313|\n",
      "|   mean|  0.04820311170960292|\n",
      "| stddev|  0.16976970759709276|\n",
      "|    min|                  0.0|\n",
      "|    25%|                  0.0|\n",
      "|    50%|                  0.0|\n",
      "|    75%|                  0.0|\n",
      "|    max|                  1.0|\n",
      "+-------+---------------------+\n",
      "\n",
      "CPU times: user 53.6 ms, sys: 18.7 ms, total: 72.4 ms\n",
      "Wall time: 5.48 s\n"
     ]
    }
   ],
   "source": [
    "%%time\n",
    "## Note: We have not yet determined our best predictors, but perhaps looking at these outputs will help us.\n",
    "for i in range(1,len(full.columns)):\n",
    "    j = full.columns[i]\n",
    "    full.select(j).summary().show()"
   ]
  },
  {
   "cell_type": "markdown",
   "metadata": {},
   "source": [
    "There are additional features that are not yet fully integrated in our engineered features. Here is our original dataset so we can do some basic summary of things like product_id, brand and individual price. \n",
    "\n",
    "Note that period is a feature that we added after filtering the data to easily keep track of which month a given row is from. This is the month 1 dataset, where all our predictors will come from. The month 2 dataset (not in this document) has been aggregated above to produce our response variable. "
   ]
  },
  {
   "cell_type": "code",
   "execution_count": 38,
   "metadata": {},
   "outputs": [],
   "source": [
    "m1 = spark.read.parquet('./processed_data/month_01_filtered.parquet')"
   ]
  },
  {
   "cell_type": "code",
   "execution_count": 39,
   "metadata": {},
   "outputs": [
    {
     "name": "stdout",
     "output_type": "stream",
     "text": [
      "root\n",
      " |-- user_id: integer (nullable = true)\n",
      " |-- event_time: timestamp (nullable = true)\n",
      " |-- event_type: string (nullable = true)\n",
      " |-- product_id: integer (nullable = true)\n",
      " |-- category_id: long (nullable = true)\n",
      " |-- category_code: string (nullable = true)\n",
      " |-- brand: string (nullable = true)\n",
      " |-- price: float (nullable = true)\n",
      " |-- user_session: string (nullable = true)\n",
      "\n"
     ]
    }
   ],
   "source": [
    "m1.printSchema()"
   ]
  },
  {
   "cell_type": "code",
   "execution_count": 40,
   "metadata": {},
   "outputs": [
    {
     "data": {
      "text/plain": [
       "9"
      ]
     },
     "execution_count": 40,
     "metadata": {},
     "output_type": "execute_result"
    }
   ],
   "source": [
    "# Number of columns\n",
    "len(m1.schema)"
   ]
  },
  {
   "cell_type": "code",
   "execution_count": 41,
   "metadata": {},
   "outputs": [
    {
     "data": {
      "text/plain": [
       "3"
      ]
     },
     "execution_count": 41,
     "metadata": {},
     "output_type": "execute_result"
    }
   ],
   "source": [
    "m1.select('event_type').distinct().count()"
   ]
  },
  {
   "cell_type": "code",
   "execution_count": 42,
   "metadata": {},
   "outputs": [
    {
     "name": "stdout",
     "output_type": "stream",
     "text": [
      "CPU times: user 1.3 ms, sys: 1.91 ms, total: 3.21 ms\n",
      "Wall time: 623 ms\n"
     ]
    },
    {
     "data": {
      "text/plain": [
       "126313"
      ]
     },
     "execution_count": 42,
     "metadata": {},
     "output_type": "execute_result"
    }
   ],
   "source": [
    "%%time\n",
    "m1.select('product_id').distinct().count()\n",
    "# There are 181,283 different products. "
   ]
  },
  {
   "cell_type": "code",
   "execution_count": 43,
   "metadata": {},
   "outputs": [
    {
     "name": "stdout",
     "output_type": "stream",
     "text": [
      "CPU times: user 3.25 ms, sys: 30 µs, total: 3.28 ms\n",
      "Wall time: 455 ms\n"
     ]
    },
    {
     "data": {
      "text/plain": [
       "136"
      ]
     },
     "execution_count": 43,
     "metadata": {},
     "output_type": "execute_result"
    }
   ],
   "source": [
    "%%time\n",
    "m1.select('category_code').distinct().count()\n",
    "# There are 136 different categories"
   ]
  },
  {
   "cell_type": "code",
   "execution_count": 44,
   "metadata": {},
   "outputs": [
    {
     "name": "stdout",
     "output_type": "stream",
     "text": [
      "CPU times: user 2.38 ms, sys: 1.1 ms, total: 3.49 ms\n",
      "Wall time: 461 ms\n"
     ]
    },
    {
     "data": {
      "text/plain": [
       "4351"
      ]
     },
     "execution_count": 44,
     "metadata": {},
     "output_type": "execute_result"
    }
   ],
   "source": [
    "%%time\n",
    "m1.select('brand').distinct().count()\n",
    "# There are 4770 different brands"
   ]
  },
  {
   "cell_type": "code",
   "execution_count": 45,
   "metadata": {},
   "outputs": [
    {
     "name": "stdout",
     "output_type": "stream",
     "text": [
      "+-------+-----------------+\n",
      "|summary|            price|\n",
      "+-------+-----------------+\n",
      "|  count|          2807167|\n",
      "|   mean|  290.59449775653|\n",
      "| stddev|359.6591468002854|\n",
      "|    min|              0.0|\n",
      "|    max|          2574.07|\n",
      "+-------+-----------------+\n",
      "\n"
     ]
    }
   ],
   "source": [
    "m1.describe('price').show()"
   ]
  },
  {
   "cell_type": "code",
   "execution_count": 46,
   "metadata": {},
   "outputs": [
    {
     "name": "stdout",
     "output_type": "stream",
     "text": [
      "CPU times: user 5.16 ms, sys: 462 µs, total: 5.62 ms\n",
      "Wall time: 630 ms\n"
     ]
    },
    {
     "data": {
      "text/plain": [
       "683053"
      ]
     },
     "execution_count": 46,
     "metadata": {},
     "output_type": "execute_result"
    }
   ],
   "source": [
    "%%time\n",
    "m1.select('user_session').distinct().count()\n",
    "# There are 2697902 different user sessions"
   ]
  },
  {
   "cell_type": "markdown",
   "metadata": {},
   "source": [
    "### Visualization"
   ]
  },
  {
   "cell_type": "markdown",
   "metadata": {},
   "source": [
    "##### Response Variable: Spend in month 2"
   ]
  },
  {
   "cell_type": "code",
   "execution_count": 47,
   "metadata": {},
   "outputs": [
    {
     "data": {
      "image/png": "[encoded data removed]",
      "text/plain": [
       "<Figure size 640x480 with 1 Axes>"
      ]
     },
     "metadata": {},
     "output_type": "display_data"
    }
   ],
   "source": [
    "response = full.select('T_total_spend').toPandas()['T_total_spend']\n",
    "plt.boxplot(response)\n",
    "plt.show()"
   ]
  },
  {
   "cell_type": "markdown",
   "metadata": {},
   "source": [
    "That's essentially useless, we're obviously going to have to do some transformation on our response and remove outliers, but here's a histogram:"
   ]
  },
  {
   "cell_type": "code",
   "execution_count": 48,
   "metadata": {},
   "outputs": [
    {
     "data": {
      "image/png": "[encoded data removed]",
      "text/plain": [
       "<Figure size 640x480 with 1 Axes>"
      ]
     },
     "metadata": {},
     "output_type": "display_data"
    }
   ],
   "source": [
    "plt.hist(response)\n",
    "plt.show()"
   ]
  },
  {
   "cell_type": "markdown",
   "metadata": {},
   "source": [
    "### Just to get an idea of how common purchases are..."
   ]
  },
  {
   "cell_type": "code",
   "execution_count": 49,
   "metadata": {},
   "outputs": [
    {
     "data": {
      "image/png": "[encoded data removed]",
      "text/plain": [
       "<Figure size 640x480 with 1 Axes>"
      ]
     },
     "metadata": {},
     "output_type": "display_data"
    }
   ],
   "source": [
    "events = m1.groupBy('event_type').count()\n",
    "x = events.select('event_type').toPandas()['event_type']\n",
    "y = events.select('count').toPandas()['count']\n",
    "\n",
    "plt.bar(x, y)\n",
    "plt.title(\"Count Of Event Type (Total)\")\n",
    "plt.xlabel(\"Event Type\")\n",
    "plt.ylabel(\"Count\")\n",
    "\n",
    "\n",
    "plt.show()"
   ]
  },
  {
   "cell_type": "markdown",
   "metadata": {},
   "source": [
    "#### To get an idea of the variation in behavior...standard deviation of interactions per session"
   ]
  },
  {
   "cell_type": "code",
   "execution_count": 50,
   "metadata": {},
   "outputs": [
    {
     "data": {
      "image/png": "[encoded data removed]",
      "text/plain": [
       "<Figure size 640x480 with 1 Axes>"
      ]
     },
     "metadata": {},
     "output_type": "display_data"
    }
   ],
   "source": [
    "response = full.select('sd_interactions_per_session').toPandas()['sd_interactions_per_session']\n",
    "plt.hist(response)\n",
    "plt.show()"
   ]
  },
  {
   "cell_type": "markdown",
   "metadata": {},
   "source": [
    "#### Average Purchases Per Session"
   ]
  },
  {
   "cell_type": "code",
   "execution_count": 51,
   "metadata": {},
   "outputs": [
    {
     "data": {
      "image/png": "[encoded data removed]",
      "text/plain": [
       "<Figure size 640x480 with 1 Axes>"
      ]
     },
     "metadata": {},
     "output_type": "display_data"
    }
   ],
   "source": [
    "response = full.select('avg_purchases_per_session').toPandas()['avg_purchases_per_session']\n",
    "plt.violinplot(response)\n",
    "plt.show()\n"
   ]
  },
  {
   "cell_type": "code",
   "execution_count": null,
   "metadata": {},
   "outputs": [],
   "source": []
  },
  {
   "cell_type": "code",
   "execution_count": null,
   "metadata": {},
   "outputs": [],
   "source": []
  }
 ],
 "metadata": {
  "kernelspec": {
   "display_name": "DS 5110 Spark 3.1",
   "language": "python",
   "name": "ds5110_spark3.1"
  },
  "language_info": {
   "codemirror_mode": {
    "name": "ipython",
    "version": 3
   },
   "file_extension": ".py",
   "mimetype": "text/x-python",
   "name": "python",
   "nbconvert_exporter": "python",
   "pygments_lexer": "ipython3",
   "version": "3.7.10"
  }
 },
 "nbformat": 4,
 "nbformat_minor": 4
}
