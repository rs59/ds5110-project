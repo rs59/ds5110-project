{
 "cells": [
  {
   "cell_type": "markdown",
   "metadata": {},
   "source": [
    "### 05: Exploratory Data Analysis, Individual Level\n",
    "##### Group 12:\n",
    "\n",
    "##### Hannah Schmuckler, mmc4cv\n",
    "\n",
    "##### Rob Schwartz, res7cd"
   ]
  },
  {
   "cell_type": "markdown",
   "metadata": {},
   "source": [
    "At a minimum, the file should include a summary containing:\n",
    "* Number of records\n",
    "* Number of columns\n",
    "* Statistical summary of response variable\n",
    "* Statistical summary of potential predictor variables (if there are a large number of predictors, select the top 10)\n",
    "* Note: Summarize categorical variables with counts and percentages for each level and summarize numerical variables with mean/quantiles/standard deviation.\n",
    "* Include up to five helpful graphs"
   ]
  },
  {
   "cell_type": "code",
   "execution_count": null,
   "metadata": {},
   "outputs": [],
   "source": []
  },
  {
   "cell_type": "code",
   "execution_count": 1,
   "metadata": {},
   "outputs": [
    {
     "name": "stdout",
     "output_type": "stream",
     "text": [
      "CPU times: user 583 ms, sys: 490 ms, total: 1.07 s\n",
      "Wall time: 6.1 s\n"
     ]
    }
   ],
   "source": [
    "%%time\n",
    "from pyspark.sql import SparkSession\n",
    "from pyspark.sql import types as T\n",
    "import matplotlib.pyplot as plt\n",
    "from pyspark.sql.functions import col\n",
    "import pandas as pd\n",
    "import pyspark.sql.functions as f\n",
    "from pyspark.sql.window import Window\n",
    "\n",
    "\n",
    "import sys\n",
    "spark = SparkSession.builder \\\n",
    "        .appName(\"project\") \\\n",
    "        .getOrCreate()\n",
    "\n",
    "sc = spark.sparkContext"
   ]
  },
  {
   "cell_type": "markdown",
   "metadata": {},
   "source": [
    "### Read in data"
   ]
  },
  {
   "cell_type": "markdown",
   "metadata": {},
   "source": [
    "#### Note: Our data was originally formatted in a 'tall' file forma with 9 columns:\n",
    "* event_time\n",
    "* event_type\n",
    "* product_id\n",
    "* category_code\n",
    "* brand\n",
    "* price\n",
    "* user_id\n",
    "* user_session"
   ]
  },
  {
   "cell_type": "markdown",
   "metadata": {},
   "source": [
    "It was also significantly larger than the 3gb limitation for class. To address the size issue, we selected a random sample of individuals. \n",
    "\n",
    "All of the features in the dataset below have been engineered by us on an individual level, instead of the event-level data originally provided. "
   ]
  },
  {
   "cell_type": "code",
   "execution_count": 2,
   "metadata": {},
   "outputs": [],
   "source": [
    "full = spark.read.parquet(\"./processed_data/engineered_features.parquet\")"
   ]
  },
  {
   "cell_type": "code",
   "execution_count": 3,
   "metadata": {},
   "outputs": [
    {
     "name": "stdout",
     "output_type": "stream",
     "text": [
      "root\n",
      " |-- user_id: integer (nullable = true)\n",
      " |-- T_total_spend: double (nullable = true)\n",
      " |-- total_spend: double (nullable = true)\n",
      " |-- total_events: long (nullable = true)\n",
      " |-- total_sessions: long (nullable = true)\n",
      " |-- avg_session_length: double (nullable = true)\n",
      " |-- sd_session_length: double (nullable = true)\n",
      " |-- avg_interactions_per_session: double (nullable = true)\n",
      " |-- sd_interactions_per_session: double (nullable = true)\n",
      " |-- max_interactions_per_session: long (nullable = true)\n",
      " |-- purchase_pct_of_total_events: double (nullable = true)\n",
      " |-- view_pct_of_total_events: double (nullable = true)\n",
      " |-- cart_pct_of_total_events: double (nullable = true)\n",
      " |-- avg_purchases_per_session: double (nullable = true)\n",
      " |-- sd_purchases_per_session: double (nullable = true)\n",
      " |-- cart_events: long (nullable = true)\n",
      " |-- purchase_events: long (nullable = true)\n",
      " |-- view_events: long (nullable = true)\n",
      " |-- sessions_with_purchase: long (nullable = true)\n",
      " |-- sessions_with_cart: long (nullable = true)\n",
      " |-- sessions_with_view: long (nullable = true)\n",
      " |-- pct_sessions_end_purchase: double (nullable = true)\n",
      " |-- pct_sessions_end_cart: double (nullable = true)\n",
      "\n"
     ]
    }
   ],
   "source": [
    "full.printSchema()"
   ]
  },
  {
   "cell_type": "code",
   "execution_count": 4,
   "metadata": {},
   "outputs": [
    {
     "data": {
      "text/plain": [
       "23"
      ]
     },
     "execution_count": 4,
     "metadata": {},
     "output_type": "execute_result"
    }
   ],
   "source": [
    "# Number of columns\n",
    "len(full.schema)"
   ]
  },
  {
   "cell_type": "markdown",
   "metadata": {},
   "source": [
    "##### A single record looks like this:"
   ]
  },
  {
   "cell_type": "code",
   "execution_count": 5,
   "metadata": {},
   "outputs": [
    {
     "name": "stdout",
     "output_type": "stream",
     "text": [
      "-RECORD 0-------------------------------------------\n",
      " user_id                      | 416898622           \n",
      " T_total_spend                | 0.0                 \n",
      " total_spend                  | 1197.9500122070312  \n",
      " total_events                 | 14                  \n",
      " total_sessions               | 2                   \n",
      " avg_session_length           | 332.0               \n",
      " sd_session_length            | 165.46298679765212  \n",
      " avg_interactions_per_session | 7.0                 \n",
      " sd_interactions_per_session  | 5.656854249492381   \n",
      " max_interactions_per_session | 11                  \n",
      " purchase_pct_of_total_events | 0.14285714285714285 \n",
      " view_pct_of_total_events     | 0.6428571428571429  \n",
      " cart_pct_of_total_events     | 0.21428571428571427 \n",
      " avg_purchases_per_session    | 1.0                 \n",
      " sd_purchases_per_session     | 0.0                 \n",
      " cart_events                  | 3                   \n",
      " purchase_events              | 2                   \n",
      " view_events                  | 9                   \n",
      " sessions_with_purchase       | 2                   \n",
      " sessions_with_cart           | 2                   \n",
      " sessions_with_view           | 2                   \n",
      " pct_sessions_end_purchase    | 1.0                 \n",
      " pct_sessions_end_cart        | 0.0                 \n",
      "only showing top 1 row\n",
      "\n",
      "CPU times: user 1.08 ms, sys: 1.09 ms, total: 2.17 ms\n",
      "Wall time: 1.72 s\n"
     ]
    }
   ],
   "source": [
    "%%time\n",
    "full.show(1, vertical=True)"
   ]
  },
  {
   "cell_type": "code",
   "execution_count": 6,
   "metadata": {},
   "outputs": [
    {
     "name": "stdout",
     "output_type": "stream",
     "text": [
      "+-------+------------------+\n",
      "|summary|     T_total_spend|\n",
      "+-------+------------------+\n",
      "|  count|             34769|\n",
      "|   mean|12973.819962659241|\n",
      "| stddev| 68230.03060957523|\n",
      "|    min|               0.0|\n",
      "|    25%|               0.0|\n",
      "|    50%|               0.0|\n",
      "|    75%|               0.0|\n",
      "|    max| 4302172.777099609|\n",
      "+-------+------------------+\n",
      "\n",
      "+-------+------------------+\n",
      "|summary|       total_spend|\n",
      "+-------+------------------+\n",
      "|  count|             34769|\n",
      "|   mean|1457.3151733480454|\n",
      "| stddev| 5645.505135890194|\n",
      "|    min|0.9700000286102295|\n",
      "|    25%|132.56999969482422|\n",
      "|    50%| 288.2699890136719|\n",
      "|    75%|  847.719970703125|\n",
      "|    max| 99683.20916748047|\n",
      "+-------+------------------+\n",
      "\n",
      "+-------+------------------+\n",
      "|summary|      total_events|\n",
      "+-------+------------------+\n",
      "|  count|             34769|\n",
      "|   mean|  75.2022491299721|\n",
      "| stddev|195.75084785756843|\n",
      "|    min|                 1|\n",
      "|    25%|                11|\n",
      "|    50%|                25|\n",
      "|    75%|                61|\n",
      "|    max|              2928|\n",
      "+-------+------------------+\n",
      "\n",
      "+-------+------------------+\n",
      "|summary|    total_sessions|\n",
      "+-------+------------------+\n",
      "|  count|             34769|\n",
      "|   mean|6.7897264804854895|\n",
      "| stddev| 8.374197096464568|\n",
      "|    min|                 1|\n",
      "|    25%|                 2|\n",
      "|    50%|                 4|\n",
      "|    75%|                 8|\n",
      "|    max|               239|\n",
      "+-------+------------------+\n",
      "\n",
      "+-------+------------------+\n",
      "|summary|avg_session_length|\n",
      "+-------+------------------+\n",
      "|  count|             34769|\n",
      "|   mean|455.87393873529703|\n",
      "| stddev|1412.6723599025515|\n",
      "|    min|               0.0|\n",
      "|    25%|             133.0|\n",
      "|    50%|238.06976744186048|\n",
      "|    75%|429.09090909090907|\n",
      "|    max|28758.166666666668|\n",
      "+-------+------------------+\n",
      "\n",
      "+-------+------------------+\n",
      "|summary| sd_session_length|\n",
      "+-------+------------------+\n",
      "|  count|             34769|\n",
      "|   mean| 763.9065071419873|\n",
      "| stddev|  6163.58336346177|\n",
      "|    min|               0.0|\n",
      "|    25%| 62.47559523525966|\n",
      "|    50%| 190.9125953090027|\n",
      "|    75%|439.07355116578515|\n",
      "|    max| 215782.7017470208|\n",
      "+-------+------------------+\n",
      "\n",
      "+-------+----------------------------+\n",
      "|summary|avg_interactions_per_session|\n",
      "+-------+----------------------------+\n",
      "|  count|                       34769|\n",
      "|   mean|           6.190335909107916|\n",
      "| stddev|           4.524294254342246|\n",
      "|    min|                         1.0|\n",
      "|    25%|                         3.6|\n",
      "|    50%|                         5.0|\n",
      "|    75%|           7.333333333333333|\n",
      "|    max|                       129.0|\n",
      "+-------+----------------------------+\n",
      "\n",
      "+-------+---------------------------+\n",
      "|summary|sd_interactions_per_session|\n",
      "+-------+---------------------------+\n",
      "|  count|                      34769|\n",
      "|   mean|          4.326608866223497|\n",
      "| stddev|          5.159095558682325|\n",
      "|    min|                        0.0|\n",
      "|    25%|         1.1690451944500122|\n",
      "|    50%|         2.9944392908634274|\n",
      "|    75%|         5.7389805223486725|\n",
      "|    max|         142.02816622064793|\n",
      "+-------+---------------------------+\n",
      "\n",
      "+-------+----------------------------+\n",
      "|summary|max_interactions_per_session|\n",
      "+-------+----------------------------+\n",
      "|  count|                       34769|\n",
      "|   mean|          14.171675918202997|\n",
      "| stddev|          14.520981402737538|\n",
      "|    min|                           1|\n",
      "|    25%|                           6|\n",
      "|    50%|                          10|\n",
      "|    75%|                          17|\n",
      "|    max|                         286|\n",
      "+-------+----------------------------+\n",
      "\n",
      "+-------+----------------------------+\n",
      "|summary|purchase_pct_of_total_events|\n",
      "+-------+----------------------------+\n",
      "|  count|                       34769|\n",
      "|   mean|         0.10400831916503885|\n",
      "| stddev|          0.0855203407164777|\n",
      "|    min|         4.19639110365086E-4|\n",
      "|    25%|         0.03571428571428571|\n",
      "|    50%|         0.08108108108108109|\n",
      "|    75%|         0.15384615384615385|\n",
      "|    max|                         1.0|\n",
      "+-------+----------------------------+\n",
      "\n",
      "+-------+------------------------+\n",
      "|summary|view_pct_of_total_events|\n",
      "+-------+------------------------+\n",
      "|  count|                   34769|\n",
      "|   mean|       0.724544458635864|\n",
      "| stddev|     0.17968229512661282|\n",
      "|    min|                     0.0|\n",
      "|    25%|                     0.6|\n",
      "|    50%|                    0.75|\n",
      "|    75%|      0.8787878787878788|\n",
      "|    max|      0.9979018044481746|\n",
      "+-------+------------------------+\n",
      "\n",
      "+-------+------------------------+\n",
      "|summary|cart_pct_of_total_events|\n",
      "+-------+------------------------+\n",
      "|  count|                   34769|\n",
      "|   mean|     0.17144722219909928|\n",
      "| stddev|      0.1179497341850414|\n",
      "|    min|                     0.0|\n",
      "|    25%|     0.07692307692307693|\n",
      "|    50%|     0.15384615384615385|\n",
      "|    75%|                    0.25|\n",
      "|    max|      0.8823529411764706|\n",
      "+-------+------------------------+\n",
      "\n",
      "+-------+-------------------------+\n",
      "|summary|avg_purchases_per_session|\n",
      "+-------+-------------------------+\n",
      "|  count|                    34769|\n",
      "|   mean|       0.5335177330499822|\n",
      "| stddev|       0.4731496460897456|\n",
      "|    min|     0.004424778761061947|\n",
      "|    25%|                      0.2|\n",
      "|    50%|                      0.4|\n",
      "|    75%|                      1.0|\n",
      "|    max|                     10.0|\n",
      "+-------+-------------------------+\n",
      "\n",
      "+-------+------------------------+\n",
      "|summary|sd_purchases_per_session|\n",
      "+-------+------------------------+\n",
      "|  count|                   34769|\n",
      "|   mean|     0.44612089237780755|\n",
      "| stddev|     0.35828798926999555|\n",
      "|    min|                     0.0|\n",
      "|    25%|                    0.25|\n",
      "|    50%|      0.4472135954999579|\n",
      "|    75%|      0.5773502691896257|\n",
      "|    max|       9.391485505499118|\n",
      "+-------+------------------------+\n",
      "\n",
      "+-------+-----------------+\n",
      "|summary|      cart_events|\n",
      "+-------+-----------------+\n",
      "|  count|            34769|\n",
      "|   mean|4.413069113290575|\n",
      "| stddev|6.004819311535439|\n",
      "|    min|                0|\n",
      "|    25%|                1|\n",
      "|    50%|                3|\n",
      "|    75%|                5|\n",
      "|    max|              218|\n",
      "+-------+-----------------+\n",
      "\n",
      "+-------+-----------------+\n",
      "|summary|  purchase_events|\n",
      "+-------+-----------------+\n",
      "|  count|            34769|\n",
      "|   mean|2.077195202623026|\n",
      "| stddev|2.979165304422069|\n",
      "|    min|                1|\n",
      "|    25%|                1|\n",
      "|    50%|                1|\n",
      "|    75%|                2|\n",
      "|    max|              119|\n",
      "+-------+-----------------+\n",
      "\n",
      "+-------+------------------+\n",
      "|summary|       view_events|\n",
      "+-------+------------------+\n",
      "|  count|             34769|\n",
      "|   mean|34.115418907647616|\n",
      "| stddev| 59.75527293342411|\n",
      "|    min|                 0|\n",
      "|    25%|                 6|\n",
      "|    50%|                15|\n",
      "|    75%|                39|\n",
      "|    max|              2378|\n",
      "+-------+------------------+\n",
      "\n",
      "+-------+----------------------+\n",
      "|summary|sessions_with_purchase|\n",
      "+-------+----------------------+\n",
      "|  count|                 34769|\n",
      "|   mean|    1.7567085622249705|\n",
      "| stddev|      2.05931233836563|\n",
      "|    min|                     1|\n",
      "|    25%|                     1|\n",
      "|    50%|                     1|\n",
      "|    75%|                     2|\n",
      "|    max|                    89|\n",
      "+-------+----------------------+\n",
      "\n",
      "+-------+------------------+\n",
      "|summary|sessions_with_cart|\n",
      "+-------+------------------+\n",
      "|  count|             34769|\n",
      "|   mean|  2.48511605165521|\n",
      "| stddev| 2.777648048313854|\n",
      "|    min|                 0|\n",
      "|    25%|                 1|\n",
      "|    50%|                 2|\n",
      "|    75%|                 3|\n",
      "|    max|                88|\n",
      "+-------+------------------+\n",
      "\n",
      "+-------+------------------+\n",
      "|summary|sessions_with_view|\n",
      "+-------+------------------+\n",
      "|  count|             34769|\n",
      "|   mean| 6.740889873162875|\n",
      "| stddev| 8.323795372249561|\n",
      "|    min|                 0|\n",
      "|    25%|                 2|\n",
      "|    50%|                 4|\n",
      "|    75%|                 8|\n",
      "|    max|               239|\n",
      "+-------+------------------+\n",
      "\n",
      "+-------+-------------------------+\n",
      "|summary|pct_sessions_end_purchase|\n",
      "+-------+-------------------------+\n",
      "|  count|                    34769|\n",
      "|   mean|      0.46141611505016555|\n",
      "| stddev|      0.33390361627113974|\n",
      "|    min|     0.004424778761061947|\n",
      "|    25%|      0.16666666666666666|\n",
      "|    50%|       0.3333333333333333|\n",
      "|    75%|       0.6666666666666666|\n",
      "|    max|                      1.0|\n",
      "+-------+-------------------------+\n",
      "\n",
      "+-------+---------------------+\n",
      "|summary|pct_sessions_end_cart|\n",
      "+-------+---------------------+\n",
      "|  count|                34769|\n",
      "|   mean|  0.09473637525341176|\n",
      "| stddev|  0.15223918492055283|\n",
      "|    min|                  0.0|\n",
      "|    25%|                  0.0|\n",
      "|    50%|                  0.0|\n",
      "|    75%|  0.16666666666666666|\n",
      "|    max|   0.9285714285714286|\n",
      "+-------+---------------------+\n",
      "\n",
      "CPU times: user 61.9 ms, sys: 12.5 ms, total: 74.4 ms\n",
      "Wall time: 8.57 s\n"
     ]
    }
   ],
   "source": [
    "%%time\n",
    "## Note: We have not yet determined our best predictors, but perhaps looking at these outputs will help us.\n",
    "for i in range(1,len(full.columns)):\n",
    "    j = full.columns[i]\n",
    "    full.select(j).summary().show()"
   ]
  },
  {
   "cell_type": "markdown",
   "metadata": {},
   "source": [
    "There are additional features that are not yet fully integrated in our engineered features. Here is our original dataset so we can do some basic summary of things like product_id, brand and individual price. \n",
    "\n",
    "Note that period is a feature that we added after filtering the data to easily keep track of which month a given row is from. This is the month 1 dataset, where all our predictors will come from. The month 2 dataset (not in this document) has been aggregated above to produce our response variable. "
   ]
  },
  {
   "cell_type": "code",
   "execution_count": 7,
   "metadata": {},
   "outputs": [],
   "source": [
    "m1 = spark.read.parquet('./processed_data/month_01_filtered.parquet')"
   ]
  },
  {
   "cell_type": "code",
   "execution_count": 8,
   "metadata": {},
   "outputs": [
    {
     "name": "stdout",
     "output_type": "stream",
     "text": [
      "root\n",
      " |-- user_id: integer (nullable = true)\n",
      " |-- event_time: timestamp (nullable = true)\n",
      " |-- event_type: string (nullable = true)\n",
      " |-- product_id: integer (nullable = true)\n",
      " |-- category_id: long (nullable = true)\n",
      " |-- category_code: string (nullable = true)\n",
      " |-- brand: string (nullable = true)\n",
      " |-- price: float (nullable = true)\n",
      " |-- user_session: string (nullable = true)\n",
      "\n"
     ]
    }
   ],
   "source": [
    "m1.printSchema()"
   ]
  },
  {
   "cell_type": "code",
   "execution_count": 9,
   "metadata": {},
   "outputs": [
    {
     "data": {
      "text/plain": [
       "9"
      ]
     },
     "execution_count": 9,
     "metadata": {},
     "output_type": "execute_result"
    }
   ],
   "source": [
    "# Number of columns\n",
    "len(m1.schema)"
   ]
  },
  {
   "cell_type": "code",
   "execution_count": 10,
   "metadata": {},
   "outputs": [
    {
     "data": {
      "text/plain": [
       "3"
      ]
     },
     "execution_count": 10,
     "metadata": {},
     "output_type": "execute_result"
    }
   ],
   "source": [
    "m1.select('event_type').distinct().count()"
   ]
  },
  {
   "cell_type": "code",
   "execution_count": 11,
   "metadata": {},
   "outputs": [
    {
     "name": "stdout",
     "output_type": "stream",
     "text": [
      "CPU times: user 999 µs, sys: 2.01 ms, total: 3.01 ms\n",
      "Wall time: 962 ms\n"
     ]
    },
    {
     "data": {
      "text/plain": [
       "92764"
      ]
     },
     "execution_count": 11,
     "metadata": {},
     "output_type": "execute_result"
    }
   ],
   "source": [
    "%%time\n",
    "m1.select('product_id').distinct().count()\n",
    "# There are 181,283 different products. "
   ]
  },
  {
   "cell_type": "code",
   "execution_count": 12,
   "metadata": {},
   "outputs": [
    {
     "name": "stdout",
     "output_type": "stream",
     "text": [
      "CPU times: user 1.2 ms, sys: 1.2 ms, total: 2.4 ms\n",
      "Wall time: 593 ms\n"
     ]
    },
    {
     "data": {
      "text/plain": [
       "136"
      ]
     },
     "execution_count": 12,
     "metadata": {},
     "output_type": "execute_result"
    }
   ],
   "source": [
    "%%time\n",
    "m1.select('category_code').distinct().count()\n",
    "# There are 136 different categories"
   ]
  },
  {
   "cell_type": "code",
   "execution_count": 13,
   "metadata": {},
   "outputs": [
    {
     "name": "stdout",
     "output_type": "stream",
     "text": [
      "CPU times: user 2.64 ms, sys: 386 µs, total: 3.02 ms\n",
      "Wall time: 589 ms\n"
     ]
    },
    {
     "data": {
      "text/plain": [
       "3897"
      ]
     },
     "execution_count": 13,
     "metadata": {},
     "output_type": "execute_result"
    }
   ],
   "source": [
    "%%time\n",
    "m1.select('brand').distinct().count()\n",
    "# There are 4770 different brands"
   ]
  },
  {
   "cell_type": "code",
   "execution_count": 14,
   "metadata": {},
   "outputs": [
    {
     "name": "stdout",
     "output_type": "stream",
     "text": [
      "+-------+-----------------+\n",
      "|summary|            price|\n",
      "+-------+-----------------+\n",
      "|  count|          1598123|\n",
      "|   mean|274.1030332248468|\n",
      "| stddev|337.0041004688195|\n",
      "|    min|              0.0|\n",
      "|    max|          2574.07|\n",
      "+-------+-----------------+\n",
      "\n"
     ]
    }
   ],
   "source": [
    "m1.describe('price').show()"
   ]
  },
  {
   "cell_type": "code",
   "execution_count": 15,
   "metadata": {},
   "outputs": [
    {
     "name": "stdout",
     "output_type": "stream",
     "text": [
      "CPU times: user 2.17 ms, sys: 1.15 ms, total: 3.32 ms\n",
      "Wall time: 622 ms\n"
     ]
    },
    {
     "data": {
      "text/plain": [
       "268381"
      ]
     },
     "execution_count": 15,
     "metadata": {},
     "output_type": "execute_result"
    }
   ],
   "source": [
    "%%time\n",
    "m1.select('user_session').distinct().count()\n",
    "# There are 2697902 different user sessions"
   ]
  },
  {
   "cell_type": "markdown",
   "metadata": {},
   "source": [
    "### Visualization"
   ]
  },
  {
   "cell_type": "markdown",
   "metadata": {},
   "source": [
    "##### Response Variable: Spend in month 2"
   ]
  },
  {
   "cell_type": "code",
   "execution_count": 16,
   "metadata": {},
   "outputs": [
    {
     "data": {
      "image/png": "[encoded data removed]",
      "text/plain": [
       "<Figure size 640x480 with 1 Axes>"
      ]
     },
     "metadata": {},
     "output_type": "display_data"
    }
   ],
   "source": [
    "response = full.select('T_total_spend').toPandas()['T_total_spend']\n",
    "plt.boxplot(response)\n",
    "plt.show()"
   ]
  },
  {
   "cell_type": "markdown",
   "metadata": {},
   "source": [
    "That's essentially useless, we're obviously going to have to do some transformation on our response and remove outliers, but here's a histogram:"
   ]
  },
  {
   "cell_type": "code",
   "execution_count": 17,
   "metadata": {},
   "outputs": [
    {
     "data": {
      "image/png": "[encoded data removed]",
      "text/plain": [
       "<Figure size 640x480 with 1 Axes>"
      ]
     },
     "metadata": {},
     "output_type": "display_data"
    }
   ],
   "source": [
    "plt.hist(response)\n",
    "plt.show()"
   ]
  },
  {
   "cell_type": "markdown",
   "metadata": {},
   "source": [
    "### Just to get an idea of how common purchases are..."
   ]
  },
  {
   "cell_type": "code",
   "execution_count": 18,
   "metadata": {},
   "outputs": [
    {
     "data": {
      "image/png": "[encoded data removed]",
      "text/plain": [
       "<Figure size 640x480 with 1 Axes>"
      ]
     },
     "metadata": {},
     "output_type": "display_data"
    }
   ],
   "source": [
    "events = m1.groupBy('event_type').count()\n",
    "x = events.select('event_type').toPandas()['event_type']\n",
    "y = events.select('count').toPandas()['count']\n",
    "\n",
    "plt.bar(x, y)\n",
    "plt.title(\"Count Of Event Type (Total)\")\n",
    "plt.xlabel(\"Event Type\")\n",
    "plt.ylabel(\"Count\")\n",
    "\n",
    "\n",
    "plt.show()"
   ]
  },
  {
   "cell_type": "markdown",
   "metadata": {},
   "source": [
    "#### To get an idea of the variation in behavior...standard deviation of interactions per session"
   ]
  },
  {
   "cell_type": "code",
   "execution_count": 19,
   "metadata": {},
   "outputs": [
    {
     "data": {
      "image/png": "[encoded data removed]",
      "text/plain": [
       "<Figure size 640x480 with 1 Axes>"
      ]
     },
     "metadata": {},
     "output_type": "display_data"
    }
   ],
   "source": [
    "response = full.select('sd_interactions_per_session').toPandas()['sd_interactions_per_session']\n",
    "plt.hist(response)\n",
    "plt.show()"
   ]
  },
  {
   "cell_type": "markdown",
   "metadata": {},
   "source": [
    "#### Average Purchases Per Session"
   ]
  },
  {
   "cell_type": "code",
   "execution_count": 20,
   "metadata": {},
   "outputs": [
    {
     "data": {
      "image/png": "[encoded data removed]",
      "text/plain": [
       "<Figure size 640x480 with 1 Axes>"
      ]
     },
     "metadata": {},
     "output_type": "display_data"
    }
   ],
   "source": [
    "response = full.select('avg_purchases_per_session').toPandas()['avg_purchases_per_session']\n",
    "plt.violinplot(response)\n",
    "plt.show()\n"
   ]
  },
  {
   "cell_type": "code",
   "execution_count": null,
   "metadata": {},
   "outputs": [],
   "source": []
  },
  {
   "cell_type": "code",
   "execution_count": null,
   "metadata": {},
   "outputs": [],
   "source": []
  },
  {
   "cell_type": "code",
   "execution_count": null,
   "metadata": {},
   "outputs": [],
   "source": []
  }
 ],
 "metadata": {
  "kernelspec": {
   "display_name": "DS 5110 Spark 3.1",
   "language": "python",
   "name": "ds5110_spark3.1"
  },
  "language_info": {
   "codemirror_mode": {
    "name": "ipython",
    "version": 3
   },
   "file_extension": ".py",
   "mimetype": "text/x-python",
   "name": "python",
   "nbconvert_exporter": "python",
   "pygments_lexer": "ipython3",
   "version": "3.7.10"
  }
 },
 "nbformat": 4,
 "nbformat_minor": 4
}
