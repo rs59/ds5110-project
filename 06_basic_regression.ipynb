{
 "cells": [
  {
   "cell_type": "markdown",
   "metadata": {},
   "source": [
    "## File 05 - Basic Regression\n",
    "\n",
    "In this file, we create a small ML pipeline based on the output from File 03 (Basic Preprocessed Output).\n",
    "The files needed are `/processed_data/train_output.parquet` and `/processed_data/test_output.parquet`.\n",
    "\n",
    "The goal of this file is to provide:\n",
    "- The type of model\n",
    "- Best hyperparameters used\n",
    "- Size of the saved model\n",
    "- Performance metrics"
   ]
  },
  {
   "cell_type": "markdown",
   "metadata": {},
   "source": [
    "### Set up Spark session\n",
    "\n",
    "We can specify more options in the SparkSession creator, but currently the options are at the default settings."
   ]
  },
  {
   "cell_type": "code",
   "execution_count": 1,
   "metadata": {},
   "outputs": [
    {
     "name": "stdout",
     "output_type": "stream",
     "text": [
      "CPU times: user 535 ms, sys: 415 ms, total: 950 ms\n",
      "Wall time: 5.76 s\n"
     ]
    }
   ],
   "source": [
    "%%time\n",
    "from pyspark.sql import SparkSession\n",
    "from pyspark.sql import types as T\n",
    "from pyspark.ml import Pipeline\n",
    "from pyspark.ml.feature import VectorAssembler\n",
    "from pyspark.ml.regression import LinearRegression\n",
    "from pyspark.ml.evaluation import RegressionEvaluator\n",
    "from pyspark.ml.tuning import ParamGridBuilder, CrossValidator\n",
    "from pyspark.sql.functions import col\n",
    "from pyspark.sql.functions import log\n",
    "\n",
    "import pandas as pd\n",
    "import numpy as np\n",
    "import copy\n",
    "\n",
    "spark = SparkSession.builder \\\n",
    "        .appName(\"project\") \\\n",
    "        .getOrCreate()\n",
    "\n",
    "sc = spark.sparkContext"
   ]
  },
  {
   "cell_type": "markdown",
   "metadata": {},
   "source": [
    "### Read in dataframes for train and test sets\n",
    "\n",
    "This data should have been previously generated: we can find it in the `processed_data` folder."
   ]
  },
  {
   "cell_type": "code",
   "execution_count": 5,
   "metadata": {},
   "outputs": [
    {
     "name": "stdout",
     "output_type": "stream",
     "text": [
      "+---------+------------------+------------------+---------------+------------------+----------------+------------------+----------+------------------------+----------------------------+----------------------+----------------------------+----------------------------+------------------------+------------------------+-------------------------+-------------------------+----------------+--------------------+----------------+--------------------+---------------+---------------+-------------+------------+\n",
      "|  user_id|    m2_total_spend|    m1_total_spend|m1_total_events|m1_purchase_events|m1_user_sessions|num_sessions_month|AvgSessLen|stddev_SessionLengthSecs|avg_interactions_per_session|stddev_int_per_session|max_interactions_one_session|purchase_pct_of_total_events|cart_pct_of_total_events|view_pct_of_total_events|avg_purchases_per_session|std_purchases_per_session|monthlyCartTotal|monthlyPurchaseTotal|monthlyViewTotal|NumSessWithPurchases|NumSessWithCart|NumSessWithView|ses_end_purch|ses_end_cart|\n",
      "+---------+------------------+------------------+---------------+------------------+----------------+------------------+----------+------------------------+----------------------------+----------------------+----------------------------+----------------------------+------------------------+------------------------+-------------------------+-------------------------+----------------+--------------------+----------------+--------------------+---------------+---------------+-------------+------------+\n",
      "|413580824|               0.0|               0.0|              3|                 0|               2|                 3|      38.5|       54.44722215136416|                         1.5|    0.7071067811865476|                           2|                         0.0|                     0.0|                     1.0|                      0.0|                      0.0|               0|                   0|               3|                   0|              0|              2|          0.0|         0.0|\n",
      "|428963270|               0.0|               0.0|             68|                 0|               8|                68|   364.125|        538.164721862315|                         8.5|    11.032419757890183|                          34|                         0.0|    0.014705882352941176|      0.9852941176470589|                      0.0|                      0.0|               1|                   0|              67|                   0|              1|              8|          0.0|       0.125|\n",
      "|501050566|               0.0|               0.0|              2|                 0|               1|                 2|     111.0|                    null|                         2.0|                  null|                           2|                         0.0|                     0.0|                     1.0|                      0.0|                     null|               0|                   0|               2|                   0|              0|              1|          0.0|         0.0|\n",
      "|512394054|    39439.12109375|236.82000732421875|             56|                 2|              16|                56|  106.1875|       153.8779684251994|                         3.5|     3.723797345005051|                          16|         0.03571428571428571|     0.07142857142857142|      0.8928571428571429|                    0.125|       0.3415650255319866|               4|                   2|              50|                   2|              3|             16|        0.125|      0.0625|\n",
      "|512456174|1127.9400329589844|               0.0|              3|                 0|               2|                 3|      30.0|       42.42640687119285|                         1.5|    0.7071067811865476|                           2|                         0.0|                     0.0|                     1.0|                      0.0|                      0.0|               0|                   0|               3|                   0|              0|              2|          0.0|         0.0|\n",
      "+---------+------------------+------------------+---------------+------------------+----------------+------------------+----------+------------------------+----------------------------+----------------------+----------------------------+----------------------------+------------------------+------------------------+-------------------------+-------------------------+----------------+--------------------+----------------+--------------------+---------------+---------------+-------------+------------+\n",
      "only showing top 5 rows\n",
      "\n",
      "CPU times: user 3.38 ms, sys: 2.32 ms, total: 5.69 ms\n",
      "Wall time: 4.26 s\n"
     ]
    }
   ],
   "source": [
    "%%time\n",
    "trainDF = spark.read.parquet(\"./processed_data/train.parquet\")\n",
    "testDF = spark.read.parquet(\"./processed_data/test.parquet\")\n",
    "trainDF.show(5)"
   ]
  },
  {
   "cell_type": "markdown",
   "metadata": {},
   "source": [
    "### Set up Spark ML pipeline training for linear regression\n",
    "\n",
    "Here we decide which input columns should be used in order to create our training pipeline. To implement this step, we create the function `generatePipeline(inputCols, outputCol, trainDF)`. Then, we train the pipeline using this function."
   ]
  },
  {
   "cell_type": "code",
   "execution_count": 6,
   "metadata": {},
   "outputs": [
    {
     "name": "stdout",
     "output_type": "stream",
     "text": [
      "CPU times: user 16.6 ms, sys: 4.17 ms, total: 20.7 ms\n",
      "Wall time: 3.17 s\n"
     ]
    }
   ],
   "source": [
    "%%time\n",
    "\n",
    "inputCols = [\"m1_total_spend\",\"m1_total_events\",\"m1_purchase_events\",\"m1_user_sessions\"]\n",
    "\n",
    "def generatePipeline(inputCols, outputCol):\n",
    "    # Select input columns for linear regression\n",
    "    vecAssembler = VectorAssembler(inputCols=inputCols, outputCol=\"features\")\n",
    "\n",
    "    # Select output column for linear regression\n",
    "    lr = LinearRegression(featuresCol=\"features\", labelCol=outputCol)\n",
    "\n",
    "    # The following lines (pipeline creation and fitting) replace these two commented-out lines.\n",
    "    # vecTrainDF = vecAssembler.transform(trainDF)\n",
    " \n",
    "    pipeline = Pipeline(stages=[vecAssembler, lr])\n",
    "    return pipeline\n",
    "    \n",
    "pipeline = generatePipeline(inputCols, \"m2_total_spend\")\n",
    "pipelineModel = pipeline.fit(trainDF)"
   ]
  },
  {
   "cell_type": "markdown",
   "metadata": {},
   "source": [
    "### View the model information\n",
    "\n",
    "Print out the model coefficients and view the RMSE and R^2. We define the functions `modelInfo(inputCols, pipelineModel)` and `getEvaluationMetrics(pipelineModel,outputCol,testDF)` to report this information."
   ]
  },
  {
   "cell_type": "code",
   "execution_count": 7,
   "metadata": {},
   "outputs": [
    {
     "name": "stdout",
     "output_type": "stream",
     "text": [
      "Model coefficients\n",
      "          Column name  Coefficient\n",
      "0           intercept -1917.439876\n",
      "1      m1_total_spend     4.944613\n",
      "2     m1_total_events   318.076873\n",
      "3  m1_purchase_events -2021.617824\n",
      "4    m1_user_sessions  -424.612619\n"
     ]
    }
   ],
   "source": [
    "def modelInfo(inputCols, pipelineModel):\n",
    "    # Create a zipped list containing the coefficients and the data\n",
    "    modelCols = copy.deepcopy(inputCols)\n",
    "    modelCoeffs = list(pipelineModel.stages[-1].coefficients)\n",
    "    modelCoeffs.insert(0,pipelineModel.stages[-1].intercept)\n",
    "    modelCols.insert(0,\"intercept\")\n",
    "    modelZippedList = list(map(list, zip(modelCols, modelCoeffs)))\n",
    "\n",
    "    # Create the pandas DataFrame\n",
    "    modelDF = pd.DataFrame(modelZippedList, columns = ['Column name', 'Coefficient'])\n",
    "    return modelDF\n",
    "\n",
    "print(\"Model coefficients\")\n",
    "print(modelInfo(inputCols, pipelineModel))\n"
   ]
  },
  {
   "cell_type": "code",
   "execution_count": 8,
   "metadata": {},
   "outputs": [
    {
     "name": "stdout",
     "output_type": "stream",
     "text": [
      "+-----------------+-------------------+\n",
      "|   m2_total_spend|         prediction|\n",
      "+-----------------+-------------------+\n",
      "|              0.0|-2023.9756215550901|\n",
      "|              0.0| 12528.061264367017|\n",
      "|              0.0|   4336.03147487643|\n",
      "|              0.0|-2023.9756215550901|\n",
      "|              0.0|  4417.654334931182|\n",
      "|              0.0|  520.6393628286082|\n",
      "|936.8799743652344|    2561.5397477047|\n",
      "|              0.0|-1705.8987485071277|\n",
      "|              0.0| 13875.276937259849|\n",
      "|              0.0|-2023.9756215550901|\n",
      "+-----------------+-------------------+\n",
      "only showing top 10 rows\n",
      "\n",
      "RMSE is 41364.8\n",
      "R^2 is 0.59463\n"
     ]
    }
   ],
   "source": [
    "def getEvaluationMetrics(pipelineModel,outputCol,testDF):\n",
    "    predDF = pipelineModel.transform(testDF)\n",
    "    predDF.select(outputCol, \"prediction\").show(10)\n",
    "\n",
    "    regressionEvaluator = RegressionEvaluator(\n",
    "    predictionCol=\"prediction\",\n",
    "    labelCol=outputCol,\n",
    "    metricName=\"rmse\")\n",
    "    rmse = regressionEvaluator.evaluate(predDF)\n",
    "\n",
    "    regressionEvaluator = RegressionEvaluator(\n",
    "    predictionCol=\"prediction\",\n",
    "    labelCol=outputCol,\n",
    "    metricName=\"r2\")\n",
    "    r2 = regressionEvaluator.evaluate(predDF)\n",
    "    \n",
    "    return rmse, r2\n",
    "\n",
    "evaluationMetrics = getEvaluationMetrics(pipelineModel,\"m2_total_spend\",testDF)\n",
    "print(f\"RMSE is {evaluationMetrics[0]:.1f}\")\n",
    "print(f\"R^2 is {evaluationMetrics[1]:.5f}\")"
   ]
  },
  {
   "cell_type": "markdown",
   "metadata": {},
   "source": [
    "### Train linear regression model using log-transformed coefficients\n",
    "\n",
    "Now that we have used our new functions to test out the model accuracy on untransformed features and untransformed output, let's retrain the linear regression model on transformed features and/or transformed output (log scale). First we create these new features."
   ]
  },
  {
   "cell_type": "code",
   "execution_count": 9,
   "metadata": {},
   "outputs": [
    {
     "name": "stdout",
     "output_type": "stream",
     "text": [
      "+---------+--------------+--------------+---------------+------------------+----------------+------------------+----------+------------------------+----------------------------+----------------------+----------------------------+----------------------------+------------------------+------------------------+-------------------------+-------------------------+----------------+--------------------+----------------+--------------------+---------------+---------------+-------------+------------+------------------+-------------------+----------------------+--------------------+------------------+\n",
      "|  user_id|m2_total_spend|m1_total_spend|m1_total_events|m1_purchase_events|m1_user_sessions|num_sessions_month|AvgSessLen|stddev_SessionLengthSecs|avg_interactions_per_session|stddev_int_per_session|max_interactions_one_session|purchase_pct_of_total_events|cart_pct_of_total_events|view_pct_of_total_events|avg_purchases_per_session|std_purchases_per_session|monthlyCartTotal|monthlyPurchaseTotal|monthlyViewTotal|NumSessWithPurchases|NumSessWithCart|NumSessWithView|ses_end_purch|ses_end_cart|m1_total_spend_log|m1_total_events_log|m1_purchase_events_log|m1_user_sessions_log|m2_total_spend_log|\n",
      "+---------+--------------+--------------+---------------+------------------+----------------+------------------+----------+------------------------+----------------------------+----------------------+----------------------------+----------------------------+------------------------+------------------------+-------------------------+-------------------------+----------------+--------------------+----------------+--------------------+---------------+---------------+-------------+------------+------------------+-------------------+----------------------+--------------------+------------------+\n",
      "|413580824|           0.0|           0.0|              3|                 0|               2|                 3|      38.5|       54.44722215136416|                         1.5|    0.7071067811865476|                           2|                         0.0|                     0.0|                     1.0|                      0.0|                      0.0|               0|                   0|               3|                   0|              0|              2|          0.0|         0.0|-6.907755278982137| 1.0989455664582302|    -6.907755278982137|  0.6936470556015963|-6.907755278982137|\n",
      "|428963270|           0.0|           0.0|             68|                 0|               8|                68|   364.125|        538.164721862315|                         8.5|    11.032419757890183|                          34|                         0.0|    0.014705882352941176|      0.9852941176470589|                      0.0|                      0.0|               1|                   0|              67|                   0|              1|              8|          0.0|       0.125|-6.907755278982137|  4.219522410950329|    -6.907755278982137|   2.079566533867987|-6.907755278982137|\n",
      "+---------+--------------+--------------+---------------+------------------+----------------+------------------+----------+------------------------+----------------------------+----------------------+----------------------------+----------------------------+------------------------+------------------------+-------------------------+-------------------------+----------------+--------------------+----------------+--------------------+---------------+---------------+-------------+------------+------------------+-------------------+----------------------+--------------------+------------------+\n",
      "only showing top 2 rows\n",
      "\n",
      "+---------+--------------+-----------------+---------------+------------------+----------------+------------------+----------------+------------------------+----------------------------+----------------------+----------------------------+----------------------------+------------------------+------------------------+-------------------------+-------------------------+----------------+--------------------+----------------+--------------------+---------------+---------------+-------------------+------------+------------------+--------------------+----------------------+--------------------+------------------+\n",
      "|  user_id|m2_total_spend|   m1_total_spend|m1_total_events|m1_purchase_events|m1_user_sessions|num_sessions_month|      AvgSessLen|stddev_SessionLengthSecs|avg_interactions_per_session|stddev_int_per_session|max_interactions_one_session|purchase_pct_of_total_events|cart_pct_of_total_events|view_pct_of_total_events|avg_purchases_per_session|std_purchases_per_session|monthlyCartTotal|monthlyPurchaseTotal|monthlyViewTotal|NumSessWithPurchases|NumSessWithCart|NumSessWithView|      ses_end_purch|ses_end_cart|m1_total_spend_log| m1_total_events_log|m1_purchase_events_log|m1_user_sessions_log|m2_total_spend_log|\n",
      "+---------+--------------+-----------------+---------------+------------------+----------------+------------------+----------------+------------------------+----------------------------+----------------------+----------------------------+----------------------------+------------------------+------------------------+-------------------------+-------------------------+----------------+--------------------+----------------+--------------------+---------------+---------------+-------------------+------------+------------------+--------------------+----------------------+--------------------+------------------+\n",
      "|262777296|           0.0|              0.0|              1|                 0|               1|                 1|             0.0|                    null|                         1.0|                  null|                           1|                         0.0|                     0.0|                     1.0|                      0.0|                     null|               0|                   0|               1|                   0|              0|              1|                0.0|         0.0|-6.907755278982137|9.995003330834232E-4|    -6.907755278982137|9.995003330834232E-4|-6.907755278982137|\n",
      "|458476148|           0.0|656.2700042724609|             86|                 4|              19|                86|690.421052631579|      1176.4658617982113|           4.526315789473684|     6.842420145700817|                          26|        0.046511627906976744|     0.05813953488372093|      0.8953488372093024|      0.21052631578947367|       0.5353033790313108|               5|                   4|              77|                   3|              3|             19|0.15789473684210525|         0.0| 6.486573819904053|   4.454358924092881|    1.3865443298750981|   2.944491609360395|-6.907755278982137|\n",
      "+---------+--------------+-----------------+---------------+------------------+----------------+------------------+----------------+------------------------+----------------------------+----------------------+----------------------------+----------------------------+------------------------+------------------------+-------------------------+-------------------------+----------------+--------------------+----------------+--------------------+---------------+---------------+-------------------+------------+------------------+--------------------+----------------------+--------------------+------------------+\n",
      "only showing top 2 rows\n",
      "\n"
     ]
    }
   ],
   "source": [
    "trainDF = trainDF \\\n",
    "          .withColumn(\"m1_total_spend_log\", log(col(\"m1_total_spend\")+0.001)) \\\n",
    "          .withColumn(\"m1_total_events_log\", log(col(\"m1_total_events\")+0.001)) \\\n",
    "          .withColumn(\"m1_purchase_events_log\", log(col(\"m1_purchase_events\")+0.001)) \\\n",
    "          .withColumn(\"m1_user_sessions_log\", log(col(\"m1_user_sessions\")+0.001)) \\\n",
    "          .withColumn(\"m2_total_spend_log\", log(col(\"m2_total_spend\")+0.001))\n",
    "\n",
    "testDF = testDF \\\n",
    "          .withColumn(\"m1_total_spend_log\", log(col(\"m1_total_spend\")+0.001)) \\\n",
    "          .withColumn(\"m1_total_events_log\", log(col(\"m1_total_events\")+0.001)) \\\n",
    "          .withColumn(\"m1_purchase_events_log\", log(col(\"m1_purchase_events\")+0.001)) \\\n",
    "          .withColumn(\"m1_user_sessions_log\", log(col(\"m1_user_sessions\")+0.001)) \\\n",
    "          .withColumn(\"m2_total_spend_log\", log(col(\"m2_total_spend\")+0.001))\n",
    "\n",
    "trainDF.show(2)\n",
    "testDF.show(2)\n"
   ]
  },
  {
   "cell_type": "markdown",
   "metadata": {},
   "source": [
    "### Test out different combinations of log-transformed features and outputs\n",
    "\n",
    "Here we test out three additional transformations of the dataset in order to evaluate the linear regression model performance.\n",
    "\n",
    "Total tested model formulations:\n",
    "1. Normal inputs, normal output: `RMSE is 107094.8, R^2 is 0.91824`\n",
    "2. Log-transformed inputs, normal output: `RMSE is 372221.8, R^2 is 0.01233`\n",
    "3. Log-transformed inputs, log-transformed output: `RMSE is 3.1, R^2 is 0.20218` (note: cannot be compared to non-log-transformed outputs)\n",
    "4. Normal inputs, log-transformed output: `RMSE is 3.5, R^2 is 0.01027` (note: cannot be compared to non-log-transformed outputs)\n",
    "5. Normal and log-transformed inputs, normal output: `RMSE is 106947.5, R^2 is 0.91846`\n",
    "\n",
    "Due to the larger R^2 and smaller RMSE, we would suggest adopting the last model. Although linear regression does not take hyperparameters as such, we have made the pre-training choice to log-transform features and include them as well. In the future, it would be useful to do a more in-depth feature selection (perhaps a stepwise feature selection), and use AIC to determine model complexity."
   ]
  },
  {
   "cell_type": "code",
   "execution_count": 10,
   "metadata": {},
   "outputs": [
    {
     "name": "stdout",
     "output_type": "stream",
     "text": [
      "** Log-transformed inputs, normal output **\n",
      "Model coefficients\n",
      "              Column name    Coefficient\n",
      "0               intercept  405548.650250\n",
      "1      m1_total_spend_log  -78721.412670\n",
      "2     m1_total_events_log    9869.487577\n",
      "3  m1_purchase_events_log  139117.122722\n",
      "4    m1_user_sessions_log   -5530.440014\n",
      "+-----------------+-------------------+\n",
      "|   m2_total_spend|         prediction|\n",
      "+-----------------+-------------------+\n",
      "|              0.0| -11645.79780449369|\n",
      "|              0.0| 115486.35930115735|\n",
      "|              0.0| 12450.714808698162|\n",
      "|              0.0| -11645.79780449369|\n",
      "|              0.0|-146342.30326582986|\n",
      "|              0.0| 10030.914857241209|\n",
      "|936.8799743652344| 173359.04247102424|\n",
      "|              0.0| -4809.721362801618|\n",
      "|              0.0| 16505.776933381218|\n",
      "|              0.0| -11645.79780449369|\n",
      "+-----------------+-------------------+\n",
      "only showing top 10 rows\n",
      "\n",
      "RMSE is 64376.4\n",
      "R^2 is 0.01814\n"
     ]
    }
   ],
   "source": [
    "print(\"** Log-transformed inputs, normal output **\")\n",
    "inputCols = [\"m1_total_spend_log\",\"m1_total_events_log\",\"m1_purchase_events_log\",\"m1_user_sessions_log\"]\n",
    "outputCol = \"m2_total_spend\"\n",
    "\n",
    "pipeline = generatePipeline(inputCols, outputCol)\n",
    "pipelineModel = pipeline.fit(trainDF)\n",
    "\n",
    "print(\"Model coefficients\")\n",
    "print(modelInfo(inputCols, pipelineModel))\n",
    "\n",
    "evaluationMetrics = getEvaluationMetrics(pipelineModel,outputCol,testDF)\n",
    "print(f\"RMSE is {evaluationMetrics[0]:.1f}\")\n",
    "print(f\"R^2 is {evaluationMetrics[1]:.5f}\")"
   ]
  },
  {
   "cell_type": "code",
   "execution_count": 11,
   "metadata": {},
   "outputs": [
    {
     "name": "stdout",
     "output_type": "stream",
     "text": [
      "** Log-transformed inputs, log-transformed output **\n",
      "Model coefficients\n",
      "              Column name  Coefficient\n",
      "0               intercept     1.637632\n",
      "1      m1_total_spend_log    -1.334214\n",
      "2     m1_total_events_log     0.907192\n",
      "3  m1_purchase_events_log     2.625446\n",
      "4    m1_user_sessions_log    -0.644856\n",
      "+------------------+--------------------+\n",
      "|m2_total_spend_log|          prediction|\n",
      "+------------------+--------------------+\n",
      "|-6.907755278982137|  -7.281618523265613|\n",
      "|-6.907755278982137| -1.2343610559668314|\n",
      "|-6.907755278982137|  -5.255827046948227|\n",
      "|-6.907755278982137|  -7.281618523265613|\n",
      "|-6.907755278982137|   -6.39052370920676|\n",
      "|-6.907755278982137|  -5.289120033539898|\n",
      "| 6.842556245744051|-0.02871557635196398|\n",
      "|-6.907755278982137|  -6.653254241362046|\n",
      "|-6.907755278982137|  -5.008147167038023|\n",
      "|-6.907755278982137|  -7.281618523265613|\n",
      "+------------------+--------------------+\n",
      "only showing top 10 rows\n",
      "\n",
      "RMSE is 3.1\n",
      "R^2 is 0.20314\n"
     ]
    }
   ],
   "source": [
    "print(\"** Log-transformed inputs, log-transformed output **\")\n",
    "inputCols = [\"m1_total_spend_log\",\"m1_total_events_log\",\"m1_purchase_events_log\",\"m1_user_sessions_log\"]\n",
    "outputCol = \"m2_total_spend_log\"\n",
    "\n",
    "pipeline = generatePipeline(inputCols, outputCol)\n",
    "pipelineModel = pipeline.fit(trainDF)\n",
    "\n",
    "print(\"Model coefficients\")\n",
    "print(modelInfo(inputCols, pipelineModel))\n",
    "\n",
    "evaluationMetrics = getEvaluationMetrics(pipelineModel,outputCol,testDF)\n",
    "print(f\"RMSE is {evaluationMetrics[0]:.1f}\")\n",
    "print(f\"R^2 is {evaluationMetrics[1]:.5f}\")"
   ]
  },
  {
   "cell_type": "code",
   "execution_count": 12,
   "metadata": {},
   "outputs": [
    {
     "name": "stdout",
     "output_type": "stream",
     "text": [
      "** Normal inputs, log-transformed output **\n",
      "Model coefficients\n",
      "          Column name  Coefficient\n",
      "0           intercept    -6.164281\n",
      "1      m1_total_spend     0.000010\n",
      "2     m1_total_events     0.000742\n",
      "3  m1_purchase_events    -0.007871\n",
      "4    m1_user_sessions     0.020023\n",
      "+------------------+-------------------+\n",
      "|m2_total_spend_log|         prediction|\n",
      "+------------------+-------------------+\n",
      "|-6.907755278982137| -6.143516268567878|\n",
      "|-6.907755278982137|  -5.74495533254868|\n",
      "|-6.907755278982137| -6.065642770917223|\n",
      "|-6.907755278982137| -6.143516268567878|\n",
      "|-6.907755278982137| -6.133748908762303|\n",
      "|-6.907755278982137|  -6.13758107993571|\n",
      "| 6.842556245744051| -6.118261665017763|\n",
      "|-6.907755278982137|-6.1427743699888575|\n",
      "|-6.907755278982137| -5.917314761406123|\n",
      "|-6.907755278982137| -6.143516268567878|\n",
      "+------------------+-------------------+\n",
      "only showing top 10 rows\n",
      "\n",
      "RMSE is 3.5\n",
      "R^2 is 0.02057\n"
     ]
    }
   ],
   "source": [
    "print(\"** Normal inputs, log-transformed output **\")\n",
    "inputCols = [\"m1_total_spend\",\"m1_total_events\",\"m1_purchase_events\",\"m1_user_sessions\"]\n",
    "outputCol = \"m2_total_spend_log\"\n",
    "\n",
    "pipeline = generatePipeline(inputCols, outputCol)\n",
    "pipelineModel = pipeline.fit(trainDF)\n",
    "\n",
    "print(\"Model coefficients\")\n",
    "print(modelInfo(inputCols, pipelineModel))\n",
    "\n",
    "evaluationMetrics = getEvaluationMetrics(pipelineModel,outputCol,testDF)\n",
    "print(f\"RMSE is {evaluationMetrics[0]:.1f}\")\n",
    "print(f\"R^2 is {evaluationMetrics[1]:.5f}\")"
   ]
  },
  {
   "cell_type": "code",
   "execution_count": 13,
   "metadata": {},
   "outputs": [
    {
     "name": "stdout",
     "output_type": "stream",
     "text": [
      "** Normal and log-transformed inputs, normal output **\n",
      "Model coefficients\n",
      "              Column name   Coefficient\n",
      "0               intercept  46034.196767\n",
      "1          m1_total_spend      4.967977\n",
      "2         m1_total_events    320.032916\n",
      "3      m1_purchase_events  -2054.062406\n",
      "4        m1_user_sessions   -378.173218\n",
      "5      m1_total_spend_log  -7887.879815\n",
      "6     m1_total_events_log  -2700.519187\n",
      "7  m1_purchase_events_log  14332.576358\n",
      "8    m1_user_sessions_log   -296.789909\n",
      "+-----------------+-------------------+\n",
      "|   m2_total_spend|         prediction|\n",
      "+-----------------+-------------------+\n",
      "|              0.0| 1454.6740854820819|\n",
      "|              0.0| 17220.281521277124|\n",
      "|              0.0|-1100.3160772484116|\n",
      "|              0.0| 1454.6740854820819|\n",
      "|              0.0| -9482.492119901959|\n",
      "|              0.0|-1916.3105846395993|\n",
      "|936.8799743652344| 15489.803254065293|\n",
      "|              0.0| -95.80101092906261|\n",
      "|              0.0|  6024.080353453886|\n",
      "|              0.0| 1454.6740854820819|\n",
      "+-----------------+-------------------+\n",
      "only showing top 10 rows\n",
      "\n",
      "RMSE is 41554.5\n",
      "R^2 is 0.59090\n"
     ]
    }
   ],
   "source": [
    "print(\"** Normal and log-transformed inputs, normal output **\")\n",
    "inputCols = [\"m1_total_spend\",\"m1_total_events\",\"m1_purchase_events\",\"m1_user_sessions\",\n",
    "             \"m1_total_spend_log\",\"m1_total_events_log\",\"m1_purchase_events_log\",\"m1_user_sessions_log\"]\n",
    "outputCol = \"m2_total_spend\"\n",
    "\n",
    "pipeline = generatePipeline(inputCols, outputCol)\n",
    "pipelineModel = pipeline.fit(trainDF)\n",
    "    \n",
    "print(\"Model coefficients\")\n",
    "print(modelInfo(inputCols, pipelineModel))\n",
    "\n",
    "evaluationMetrics = getEvaluationMetrics(pipelineModel,\"m2_total_spend\",testDF)\n",
    "print(f\"RMSE is {evaluationMetrics[0]:.1f}\")\n",
    "print(f\"R^2 is {evaluationMetrics[1]:.5f}\")"
   ]
  },
  {
   "cell_type": "markdown",
   "metadata": {},
   "source": [
    "### Test out different combinations of hyperparameters\n",
    "\n",
    "Here we test out 25 combinations of hyperparameters under cross validation.\n",
    "\n",
    "- Regularization parameters: [0, 0.01, 0.2, 1, 10]\n",
    "- Amount of LASSO-ness: [0, 0.25, 0.5, 0.75, 1]\n",
    "\n",
    "The results that we find are that a regularization of 0.2 is desirable with an amount of LASSO-ness of 1 (L1 regularization only). Given that the R^2 and RMSE are quite similar to the previous models (`RMSE is 106998.3, R^2 is 0.91839`), it's not sure whether this is legitmately an improvement.\n"
   ]
  },
  {
   "cell_type": "code",
   "execution_count": 14,
   "metadata": {},
   "outputs": [
    {
     "name": "stdout",
     "output_type": "stream",
     "text": [
      "** Normal and log-transformed inputs, normal output **\n",
      "CPU times: user 4 s, sys: 1.25 s, total: 5.25 s\n",
      "Wall time: 59.2 s\n"
     ]
    }
   ],
   "source": [
    "%%time\n",
    "print(\"** Normal and log-transformed inputs, normal output **\")\n",
    "inputCols = [\"m1_total_spend\",\"m1_total_events\",\"m1_purchase_events\",\"m1_user_sessions\",\n",
    "             \"m1_total_spend_log\",\"m1_total_events_log\",\"m1_purchase_events_log\",\"m1_user_sessions_log\"]\n",
    "pipeline = generatePipeline(inputCols, \"m2_total_spend\")\n",
    "pipelineModel = pipeline.fit(trainDF)\n",
    "vecAssembler = VectorAssembler(inputCols=inputCols, outputCol=\"features\")\n",
    "\n",
    "# Select output column for linear regression\n",
    "lr = LinearRegression(featuresCol=\"features\", labelCol=\"m2_total_spend\")\n",
    "\n",
    "pipeline = Pipeline(stages=[vecAssembler, lr])\n",
    "    \n",
    "paramGrid = ParamGridBuilder() \\\n",
    "    .addGrid(lr.regParam, [0, 0.01, 0.2, 1, 10]) \\\n",
    "    .addGrid(lr.elasticNetParam, [0, 0.25, 0.5, 0.75, 1]) \\\n",
    "    .build()\n",
    "\n",
    "crossval = CrossValidator(estimator=pipeline,\n",
    "                          estimatorParamMaps=paramGrid,\n",
    "                          evaluator=RegressionEvaluator().setLabelCol(\"m2_total_spend\"),\n",
    "                          numFolds=4)\n",
    "\n",
    "# Run cross-validation, and choose the best set of parameters.\n",
    "cvModel = crossval.fit(trainDF)"
   ]
  },
  {
   "cell_type": "code",
   "execution_count": 15,
   "metadata": {},
   "outputs": [
    {
     "name": "stdout",
     "output_type": "stream",
     "text": [
      "Best model coefficients\n",
      "              Column name   Coefficient\n",
      "0               intercept  31457.416889\n",
      "1          m1_total_spend      4.997810\n",
      "2         m1_total_events    322.192469\n",
      "3      m1_purchase_events  -2085.126513\n",
      "4        m1_user_sessions   -377.625687\n",
      "5      m1_total_spend_log  -4755.139513\n",
      "6     m1_total_events_log  -2499.824344\n",
      "7  m1_purchase_events_log   9120.782572\n",
      "8    m1_user_sessions_log   -515.153737\n",
      "+-----------------+-------------------+\n",
      "|   m2_total_spend|         prediction|\n",
      "+-----------------+-------------------+\n",
      "|              0.0|  1242.176310043753|\n",
      "|              0.0| 16080.312874361229|\n",
      "|              0.0|  -916.075658715039|\n",
      "|              0.0|  1242.176310043753|\n",
      "|              0.0|-1009.4002857744053|\n",
      "|              0.0|-1670.7385947712792|\n",
      "|936.8799743652344| 12053.742415288976|\n",
      "|              0.0|-167.12844183439302|\n",
      "|              0.0| 6279.1061103897555|\n",
      "|              0.0|  1242.176310043753|\n",
      "+-----------------+-------------------+\n",
      "only showing top 10 rows\n",
      "\n",
      "RMSE is 41634.6\n",
      "R^2 is 0.58932\n",
      "\n",
      "{Param(parent='LinearRegression_6e2a91fbeeb7', name='regParam', doc='regularization parameter (>= 0).'): 0.01, Param(parent='LinearRegression_6e2a91fbeeb7', name='elasticNetParam', doc='the ElasticNet mixing parameter, in range [0, 1]. For alpha = 0, the penalty is an L2 penalty. For alpha = 1, it is an L1 penalty.'): 0.75}\n"
     ]
    }
   ],
   "source": [
    "print(\"Best model coefficients\")\n",
    "print(modelInfo(inputCols, cvModel.bestModel))\n",
    "\n",
    "evaluationMetrics = getEvaluationMetrics(cvModel.bestModel,\"m2_total_spend\",testDF)\n",
    "print(f\"RMSE is {evaluationMetrics[0]:.1f}\")\n",
    "print(f\"R^2 is {evaluationMetrics[1]:.5f}\")\n",
    "\n",
    "print()\n",
    "print(cvModel.getEstimatorParamMaps()[np.argmax(cvModel.avgMetrics)])"
   ]
  },
  {
   "cell_type": "markdown",
   "metadata": {},
   "source": [
    "### Save pipeline model and get model size\n",
    "\n",
    "The model size is 13.9 kB, according to the file explorer in Linux."
   ]
  },
  {
   "cell_type": "code",
   "execution_count": 16,
   "metadata": {},
   "outputs": [],
   "source": [
    "pipelinePath = \"models/lr-pipeline-model\"\n",
    "cvModel.bestModel.write().overwrite().save(pipelinePath)"
   ]
  },
  {
   "cell_type": "code",
   "execution_count": null,
   "metadata": {},
   "outputs": [],
   "source": []
  },
  {
   "cell_type": "code",
   "execution_count": null,
   "metadata": {},
   "outputs": [],
   "source": []
  }
 ],
 "metadata": {
  "kernelspec": {
   "display_name": "DS 5110 Spark 3.1",
   "language": "python",
   "name": "ds5110_spark3.1"
  },
  "language_info": {
   "codemirror_mode": {
    "name": "ipython",
    "version": 3
   },
   "file_extension": ".py",
   "mimetype": "text/x-python",
   "name": "python",
   "nbconvert_exporter": "python",
   "pygments_lexer": "ipython3",
   "version": "3.7.10"
  }
 },
 "nbformat": 4,
 "nbformat_minor": 4
}
