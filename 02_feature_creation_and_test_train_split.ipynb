{
 "cells": [
  {
   "cell_type": "markdown",
   "metadata": {},
   "source": [
    "## File 04 - Feature Creation\n",
    "\n",
    "In this file, we create new features from our data"
   ]
  },
  {
   "cell_type": "markdown",
   "metadata": {},
   "source": [
    "### Set up Spark session and data schema\n",
    "\n",
    "We can specify more options in the SparkSession creator, but currently the options are at the default settings."
   ]
  },
  {
   "cell_type": "code",
   "execution_count": 3,
   "metadata": {},
   "outputs": [
    {
     "name": "stdout",
     "output_type": "stream",
     "text": [
      "CPU times: user 549 ms, sys: 317 ms, total: 866 ms\n",
      "Wall time: 5.62 s\n"
     ]
    }
   ],
   "source": [
    "%%time\n",
    "from pyspark.sql import SparkSession\n",
    "from pyspark.sql import types as T\n",
    "import matplotlib.pyplot as plt\n",
    "from pyspark.sql.functions import col\n",
    "from pyspark.ml.feature import MinMaxScaler\n",
    "from pyspark.ml.feature import VectorAssembler\n",
    "from pyspark.ml import Pipeline\n",
    "from pyspark.sql.functions import udf\n",
    "from pyspark.sql.types import DoubleType\n",
    "from pyspark.sql.functions import *\n",
    "import datetime as dt\n",
    "\n",
    "import sys\n",
    "spark = SparkSession.builder \\\n",
    "        .appName(\"project\") \\\n",
    "        .getOrCreate()\n",
    "\n",
    "sc = spark.sparkContext\n",
    "\n",
    "#schema = \"`event_time` TIMESTAMP,`event_type` STRING,`product_id` INT,`category_id` BIGINT,`category_code` STRING,`brand` STRING,`price` FLOAT,`user_id` INT,`user_session` STRING\"\n",
    "#ddl_schema = T._parse_datatype_string(schema)"
   ]
  },
  {
   "cell_type": "markdown",
   "metadata": {},
   "source": [
    "See https://docs.google.com/document/d/1NG4KGticBXn0D3PL5_zMxLV2Pr7A8PQtLcasxCOd1nA/edit for table of features."
   ]
  },
  {
   "cell_type": "markdown",
   "metadata": {},
   "source": [
    "### Read in data"
   ]
  },
  {
   "cell_type": "code",
   "execution_count": 4,
   "metadata": {},
   "outputs": [
    {
     "name": "stdout",
     "output_type": "stream",
     "text": [
      "CPU times: user 4.41 ms, sys: 1.35 ms, total: 5.76 ms\n",
      "Wall time: 2.96 s\n"
     ]
    }
   ],
   "source": [
    "%%time\n",
    "full = spark.read.parquet(\"./processed_data/preprocessed_01.parquet\")\n",
    "m1 = spark.read.parquet(\"./processed_data/month_01_filtered.parquet\") # This brings in the data we can create additional features from"
   ]
  },
  {
   "cell_type": "code",
   "execution_count": 5,
   "metadata": {},
   "outputs": [
    {
     "name": "stdout",
     "output_type": "stream",
     "text": [
      "219080\n",
      "+---------+--------------+------------------+---------------+------------------+----------------+\n",
      "|  user_id|m2_total_spend|    m1_total_spend|m1_total_events|m1_purchase_events|m1_user_sessions|\n",
      "+---------+--------------+------------------+---------------+------------------+----------------+\n",
      "|413580824|           0.0|               0.0|              3|                 0|               2|\n",
      "|428963270|           0.0|               0.0|             68|                 0|               8|\n",
      "|501050566|           0.0|               0.0|              2|                 0|               1|\n",
      "|512378217|           0.0|               0.0|             25|                 0|               6|\n",
      "|512394054|39439.12109375|236.82000732421875|             56|                 2|              16|\n",
      "+---------+--------------+------------------+---------------+------------------+----------------+\n",
      "only showing top 5 rows\n",
      "\n"
     ]
    }
   ],
   "source": [
    "print(full.count())\n",
    "full.show(5)"
   ]
  },
  {
   "cell_type": "code",
   "execution_count": 6,
   "metadata": {},
   "outputs": [
    {
     "name": "stdout",
     "output_type": "stream",
     "text": [
      "2807167\n",
      "+---------+-------------------+----------+----------+-------------------+--------------------+--------+------+--------------------+\n",
      "|  user_id|         event_time|event_type|product_id|        category_id|       category_code|   brand| price|        user_session|\n",
      "+---------+-------------------+----------+----------+-------------------+--------------------+--------+------+--------------------+\n",
      "|416793411|2020-01-12 13:16:29|      view|   1004836|2232732093077520756|construction.tool...| samsung|231.38|315c1383-b002-4c3...|\n",
      "|465783976|2020-01-04 10:36:20|      view|  13901213|2053013557343158789|construction.comp...|  blanco|218.65|75f6bddc-41f8-497...|\n",
      "|465783976|2020-01-04 10:37:14|      view|  13902800|2053013561092866779|   computers.desktop|  blanco|140.35|75f6bddc-41f8-497...|\n",
      "|465783976|2020-01-04 10:38:07|      view|  13902800|2053013561092866779|   computers.desktop|  blanco|140.35|75f6bddc-41f8-497...|\n",
      "|465783976|2020-01-04 10:40:08|      view|  13902647|2053013561092866779|   computers.desktop|omoikiri|185.13|75f6bddc-41f8-497...|\n",
      "+---------+-------------------+----------+----------+-------------------+--------------------+--------+------+--------------------+\n",
      "only showing top 5 rows\n",
      "\n"
     ]
    }
   ],
   "source": [
    "print(m1.count())\n",
    "m1.show(5)"
   ]
  },
  {
   "cell_type": "markdown",
   "metadata": {},
   "source": [
    "## Begin Creating Features\n",
    "### Create each on an individual level, then join to full\n",
    "##### NOTE: Must rename all features so that they do not contain parenthesis - not compatable with saving to parquet"
   ]
  },
  {
   "cell_type": "markdown",
   "metadata": {},
   "source": [
    "_________________"
   ]
  },
  {
   "cell_type": "markdown",
   "metadata": {},
   "source": [
    "#### Number of items purchased per person, per category\n",
    "##### Commenting out for now - we'll have to think strategically about what 'huge' column sets we want"
   ]
  },
  {
   "cell_type": "code",
   "execution_count": 7,
   "metadata": {},
   "outputs": [],
   "source": [
    "#%%time\n",
    "#cats = m1.filter(m1.event_type == \"purchase\").groupBy('user_id').pivot('category_code').count()"
   ]
  },
  {
   "cell_type": "code",
   "execution_count": 8,
   "metadata": {},
   "outputs": [],
   "source": [
    "#%%time\n",
    "#cats.take(1)"
   ]
  },
  {
   "cell_type": "code",
   "execution_count": 9,
   "metadata": {},
   "outputs": [],
   "source": [
    "#%%time\n",
    "#full = full.join(cats, full.user_id == cats.user_id).drop(cats.user_id)"
   ]
  },
  {
   "cell_type": "code",
   "execution_count": 10,
   "metadata": {},
   "outputs": [],
   "source": [
    "#full.take(1)"
   ]
  },
  {
   "cell_type": "markdown",
   "metadata": {},
   "source": [
    "#### Number of sessions in month (num_sessions_month)"
   ]
  },
  {
   "cell_type": "code",
   "execution_count": 11,
   "metadata": {},
   "outputs": [],
   "source": [
    "sessions_total = m1.groupBy('user_id') \\\n",
    "                .agg(count('user_session'))\\\n",
    "                .withColumnRenamed(\"count(user_session)\", 'num_sessions_month')\n",
    "                    "
   ]
  },
  {
   "cell_type": "code",
   "execution_count": 12,
   "metadata": {},
   "outputs": [
    {
     "name": "stdout",
     "output_type": "stream",
     "text": [
      "+---------+------------------+\n",
      "|  user_id|num_sessions_month|\n",
      "+---------+------------------+\n",
      "|405614124|                 2|\n",
      "|485991194|                 3|\n",
      "|496765250|                 1|\n",
      "|501980918|              2141|\n",
      "|502621333|                 5|\n",
      "|509313388|                 8|\n",
      "|512364164|                 4|\n",
      "|512461742|                15|\n",
      "|512489465|                13|\n",
      "|512529571|                34|\n",
      "|512541716|                53|\n",
      "|512562919|                 4|\n",
      "|512598380|                 7|\n",
      "|512688457|                12|\n",
      "|512700240|                33|\n",
      "|512708582|                13|\n",
      "|512719971|                 9|\n",
      "|512720637|                30|\n",
      "|512742043|                 5|\n",
      "|512798925|                11|\n",
      "+---------+------------------+\n",
      "only showing top 20 rows\n",
      "\n"
     ]
    }
   ],
   "source": [
    "sessions_total.show()"
   ]
  },
  {
   "cell_type": "code",
   "execution_count": 13,
   "metadata": {},
   "outputs": [],
   "source": [
    "full = full.join(sessions_total, full.user_id == sessions_total.user_id).drop(sessions_total.user_id)"
   ]
  },
  {
   "cell_type": "markdown",
   "metadata": {},
   "source": [
    "#### Average Session Duration (AvgSessLen)"
   ]
  },
  {
   "cell_type": "code",
   "execution_count": 14,
   "metadata": {},
   "outputs": [],
   "source": [
    "session_ends = m1.groupBy('user_id', 'user_session').agg(max('event_time'), min('event_time'))"
   ]
  },
  {
   "cell_type": "code",
   "execution_count": 15,
   "metadata": {},
   "outputs": [
    {
     "name": "stdout",
     "output_type": "stream",
     "text": [
      "+---------+--------------------+-------------------+-------------------+\n",
      "|  user_id|        user_session|    max(event_time)|    min(event_time)|\n",
      "+---------+--------------------+-------------------+-------------------+\n",
      "|514283509|ba808472-24ca-4a5...|2020-01-19 12:30:36|2020-01-19 12:30:36|\n",
      "|524368563|c00a9199-98cb-412...|2020-01-08 11:43:08|2020-01-08 11:41:06|\n",
      "|554064616|04d50e0d-b80c-44e...|2020-01-08 10:02:28|2020-01-08 10:02:28|\n",
      "|554426664|a6aebb81-e68d-4fc...|2020-01-20 11:57:27|2020-01-20 11:48:18|\n",
      "|560605592|535c77ff-60a7-432...|2020-01-21 13:03:42|2020-01-21 12:53:09|\n",
      "|568789888|97820352-2275-4d5...|2020-01-30 13:32:14|2020-01-15 18:39:57|\n",
      "|568789888|149a4323-02ba-b09...|2020-01-04 15:42:04|2020-01-04 15:42:04|\n",
      "|568789888|235b7e77-1845-4fb...|2020-01-05 18:27:07|2020-01-05 18:27:07|\n",
      "|568789888|ee138fc0-4703-4e5...|2020-01-06 06:45:35|2020-01-06 06:44:28|\n",
      "|568789888|2c905dac-06d3-4a6...|2020-01-07 15:13:00|2020-01-07 15:13:00|\n",
      "|568789888|8724cf8e-d770-f2b...|2020-01-13 13:36:21|2020-01-13 13:36:21|\n",
      "|568789888|0202f81f-070c-c27...|2020-01-14 05:02:41|2020-01-14 05:02:41|\n",
      "|568789888|a27b6171-ac12-27d...|2020-01-15 04:44:33|2020-01-15 04:44:33|\n",
      "|568789888|07243911-82b9-081...|2020-01-15 13:49:16|2020-01-15 13:49:16|\n",
      "|568789888|76f8cb11-d11b-f8c...|2020-01-16 10:31:03|2020-01-16 10:31:03|\n",
      "|568789888|15b5b692-e614-373...|2020-01-16 12:31:31|2020-01-16 12:31:31|\n",
      "|568789888|093187ef-db9e-3d2...|2020-01-16 18:46:49|2020-01-16 18:46:49|\n",
      "|568789888|781faaa8-84e1-45c...|2020-01-17 17:51:31|2020-01-17 17:51:31|\n",
      "|568789888|abd3d730-6759-408...|2020-01-19 07:15:35|2020-01-19 07:15:35|\n",
      "|568789888|5bfef8f8-9092-b15...|2020-01-20 10:40:42|2020-01-20 10:40:42|\n",
      "+---------+--------------------+-------------------+-------------------+\n",
      "only showing top 20 rows\n",
      "\n"
     ]
    }
   ],
   "source": [
    "session_ends.show()"
   ]
  },
  {
   "cell_type": "code",
   "execution_count": 16,
   "metadata": {},
   "outputs": [],
   "source": [
    "session_ends = session_ends.withColumn('SessionLengthSecs', (col(\"max(event_time)\").cast('long') - col(\"min(event_time)\").cast('long')))"
   ]
  },
  {
   "cell_type": "code",
   "execution_count": 17,
   "metadata": {},
   "outputs": [
    {
     "name": "stdout",
     "output_type": "stream",
     "text": [
      "+---------+--------------------+-------------------+-------------------+-----------------+\n",
      "|  user_id|        user_session|    max(event_time)|    min(event_time)|SessionLengthSecs|\n",
      "+---------+--------------------+-------------------+-------------------+-----------------+\n",
      "|514283509|ba808472-24ca-4a5...|2020-01-19 12:30:36|2020-01-19 12:30:36|                0|\n",
      "|524368563|c00a9199-98cb-412...|2020-01-08 11:43:08|2020-01-08 11:41:06|              122|\n",
      "|554064616|04d50e0d-b80c-44e...|2020-01-08 10:02:28|2020-01-08 10:02:28|                0|\n",
      "|554426664|a6aebb81-e68d-4fc...|2020-01-20 11:57:27|2020-01-20 11:48:18|              549|\n",
      "|560605592|535c77ff-60a7-432...|2020-01-21 13:03:42|2020-01-21 12:53:09|              633|\n",
      "|568789888|97820352-2275-4d5...|2020-01-30 13:32:14|2020-01-15 18:39:57|          1277537|\n",
      "|568789888|149a4323-02ba-b09...|2020-01-04 15:42:04|2020-01-04 15:42:04|                0|\n",
      "|568789888|235b7e77-1845-4fb...|2020-01-05 18:27:07|2020-01-05 18:27:07|                0|\n",
      "|568789888|ee138fc0-4703-4e5...|2020-01-06 06:45:35|2020-01-06 06:44:28|               67|\n",
      "|568789888|2c905dac-06d3-4a6...|2020-01-07 15:13:00|2020-01-07 15:13:00|                0|\n",
      "|568789888|8724cf8e-d770-f2b...|2020-01-13 13:36:21|2020-01-13 13:36:21|                0|\n",
      "|568789888|0202f81f-070c-c27...|2020-01-14 05:02:41|2020-01-14 05:02:41|                0|\n",
      "|568789888|a27b6171-ac12-27d...|2020-01-15 04:44:33|2020-01-15 04:44:33|                0|\n",
      "|568789888|07243911-82b9-081...|2020-01-15 13:49:16|2020-01-15 13:49:16|                0|\n",
      "|568789888|76f8cb11-d11b-f8c...|2020-01-16 10:31:03|2020-01-16 10:31:03|                0|\n",
      "|568789888|15b5b692-e614-373...|2020-01-16 12:31:31|2020-01-16 12:31:31|                0|\n",
      "|568789888|093187ef-db9e-3d2...|2020-01-16 18:46:49|2020-01-16 18:46:49|                0|\n",
      "|568789888|781faaa8-84e1-45c...|2020-01-17 17:51:31|2020-01-17 17:51:31|                0|\n",
      "|568789888|abd3d730-6759-408...|2020-01-19 07:15:35|2020-01-19 07:15:35|                0|\n",
      "|568789888|5bfef8f8-9092-b15...|2020-01-20 10:40:42|2020-01-20 10:40:42|                0|\n",
      "+---------+--------------------+-------------------+-------------------+-----------------+\n",
      "only showing top 20 rows\n",
      "\n"
     ]
    }
   ],
   "source": [
    "session_ends.show()"
   ]
  },
  {
   "cell_type": "code",
   "execution_count": 18,
   "metadata": {},
   "outputs": [],
   "source": [
    "avg_sess = session_ends.groupBy('user_id').avg('SessionLengthSecs').withColumnRenamed('avg(SessionLengthSecs)', \"AvgSessLen\")"
   ]
  },
  {
   "cell_type": "code",
   "execution_count": 19,
   "metadata": {},
   "outputs": [
    {
     "name": "stdout",
     "output_type": "stream",
     "text": [
      "+---------+------------------+\n",
      "|  user_id|        AvgSessLen|\n",
      "+---------+------------------+\n",
      "|512700240| 336.2857142857143|\n",
      "|514013554|         44762.375|\n",
      "|514338009| 161.1595744680851|\n",
      "|514747635|               0.0|\n",
      "|516092497|108.26666666666667|\n",
      "|530467296|              31.0|\n",
      "|536666006|             128.2|\n",
      "|538669655|             287.0|\n",
      "|539141084|            565.32|\n",
      "|567758692|            1038.0|\n",
      "|569603970|23.282758620689656|\n",
      "|575813444|25.142857142857142|\n",
      "|581503547|             301.9|\n",
      "|597517612|            214.75|\n",
      "|598174578|              97.0|\n",
      "|602329313|              66.0|\n",
      "|605878179| 223.9090909090909|\n",
      "|606191296|              84.0|\n",
      "|606753158|              18.0|\n",
      "|607546688|             226.0|\n",
      "+---------+------------------+\n",
      "only showing top 20 rows\n",
      "\n"
     ]
    }
   ],
   "source": [
    "avg_sess.show()"
   ]
  },
  {
   "cell_type": "code",
   "execution_count": 20,
   "metadata": {},
   "outputs": [],
   "source": [
    "full = full.join(avg_sess, full.user_id == avg_sess.user_id).drop(avg_sess.user_id)"
   ]
  },
  {
   "cell_type": "code",
   "execution_count": null,
   "metadata": {},
   "outputs": [],
   "source": []
  },
  {
   "cell_type": "markdown",
   "metadata": {},
   "source": [
    "#### Std Deviation of session duration by person (stddev_SessionLengthSecs)"
   ]
  },
  {
   "cell_type": "code",
   "execution_count": 21,
   "metadata": {},
   "outputs": [
    {
     "name": "stdout",
     "output_type": "stream",
     "text": [
      "+---------+--------------------+-------------------+-------------------+-----------------+\n",
      "|  user_id|        user_session|    max(event_time)|    min(event_time)|SessionLengthSecs|\n",
      "+---------+--------------------+-------------------+-------------------+-----------------+\n",
      "|514283509|ba808472-24ca-4a5...|2020-01-19 12:30:36|2020-01-19 12:30:36|                0|\n",
      "|524368563|c00a9199-98cb-412...|2020-01-08 11:43:08|2020-01-08 11:41:06|              122|\n",
      "|554064616|04d50e0d-b80c-44e...|2020-01-08 10:02:28|2020-01-08 10:02:28|                0|\n",
      "|554426664|a6aebb81-e68d-4fc...|2020-01-20 11:57:27|2020-01-20 11:48:18|              549|\n",
      "|560605592|535c77ff-60a7-432...|2020-01-21 13:03:42|2020-01-21 12:53:09|              633|\n",
      "+---------+--------------------+-------------------+-------------------+-----------------+\n",
      "only showing top 5 rows\n",
      "\n"
     ]
    }
   ],
   "source": [
    "session_ends.show(5)"
   ]
  },
  {
   "cell_type": "code",
   "execution_count": 22,
   "metadata": {},
   "outputs": [],
   "source": [
    "std_session_length = session_ends.groupBy('user_id') \\\n",
    "                                 .agg(stddev('SessionLengthSecs')) \\\n",
    "                                 .withColumnRenamed(\"stddev_samp(SessionLengthSecs)\", 'stddev_SessionLengthSecs')"
   ]
  },
  {
   "cell_type": "code",
   "execution_count": 23,
   "metadata": {},
   "outputs": [
    {
     "name": "stdout",
     "output_type": "stream",
     "text": [
      "+---------+------------------------+\n",
      "|  user_id|stddev_SessionLengthSecs|\n",
      "+---------+------------------------+\n",
      "|512700240|      358.21209466167494|\n",
      "|514013554|      126444.70285909568|\n",
      "|514338009|       255.1480827963551|\n",
      "|514747635|                    null|\n",
      "|516092497|      201.15149467384978|\n",
      "+---------+------------------------+\n",
      "only showing top 5 rows\n",
      "\n"
     ]
    }
   ],
   "source": [
    "std_session_length.show(5)"
   ]
  },
  {
   "cell_type": "code",
   "execution_count": 24,
   "metadata": {},
   "outputs": [],
   "source": [
    "full = full.join(std_session_length, full.user_id == std_session_length.user_id).drop(std_session_length.user_id)"
   ]
  },
  {
   "cell_type": "markdown",
   "metadata": {},
   "source": [
    "#### UNFINISHED Distance from last interaction to end of month (seconds)\n"
   ]
  },
  {
   "cell_type": "code",
   "execution_count": 25,
   "metadata": {},
   "outputs": [
    {
     "data": {
      "text/plain": [
       "1580533200.0"
      ]
     },
     "execution_count": 25,
     "metadata": {},
     "output_type": "execute_result"
    }
   ],
   "source": [
    "new_month = dt.datetime(2020,2,1,0,0).timestamp() # This is the epoch seconds of Feb 1, 2020 at midnight\n",
    "new_month"
   ]
  },
  {
   "cell_type": "code",
   "execution_count": 26,
   "metadata": {},
   "outputs": [
    {
     "name": "stdout",
     "output_type": "stream",
     "text": [
      "+---------+-------------------+\n",
      "|  user_id|    max(event_time)|\n",
      "+---------+-------------------+\n",
      "|405614124|2020-01-23 21:47:06|\n",
      "|485991194|2020-01-06 18:42:02|\n",
      "|496765250|2020-01-08 18:55:44|\n",
      "|501980918|2020-01-31 11:38:47|\n",
      "|502621333|2020-01-26 16:08:41|\n",
      "|509313388|2020-01-30 13:24:17|\n",
      "|512364164|2020-01-08 18:16:11|\n",
      "|512461742|2020-01-30 12:13:15|\n",
      "|512489465|2020-01-30 10:42:10|\n",
      "|512529571|2020-01-29 16:43:41|\n",
      "|512541716|2020-01-31 03:45:26|\n",
      "|512562919|2020-01-18 11:50:59|\n",
      "|512598380|2020-01-16 18:33:08|\n",
      "|512688457|2020-01-28 15:02:45|\n",
      "|512700240|2020-01-31 04:17:39|\n",
      "|512708582|2020-01-25 11:16:52|\n",
      "|512719971|2020-01-25 04:26:11|\n",
      "|512720637|2020-01-31 16:29:26|\n",
      "|512742043|2020-01-23 16:24:52|\n",
      "|512798925|2020-01-27 08:51:30|\n",
      "+---------+-------------------+\n",
      "only showing top 20 rows\n",
      "\n"
     ]
    }
   ],
   "source": [
    "last_interaction = m1.groupBy('user_id').agg(max('event_time'))\n",
    "last_interaction.show()"
   ]
  },
  {
   "cell_type": "code",
   "execution_count": 27,
   "metadata": {},
   "outputs": [],
   "source": [
    "## last_int_dist = last_interaction.withColumn('time_from_end_month', timestamp(1580533200) - col('max(event_time)'))"
   ]
  },
  {
   "cell_type": "markdown",
   "metadata": {},
   "source": [
    "#### Average number of interactions per session (avg_interactions_per_session)"
   ]
  },
  {
   "cell_type": "code",
   "execution_count": 28,
   "metadata": {},
   "outputs": [],
   "source": [
    "interactions_per_session = m1.groupBy('user_id', 'user_session').agg(count('event_type'))"
   ]
  },
  {
   "cell_type": "code",
   "execution_count": 29,
   "metadata": {},
   "outputs": [
    {
     "name": "stdout",
     "output_type": "stream",
     "text": [
      "+---------+--------------------+-----------------+\n",
      "|  user_id|        user_session|count(event_type)|\n",
      "+---------+--------------------+-----------------+\n",
      "|514283509|ba808472-24ca-4a5...|                1|\n",
      "|524368563|c00a9199-98cb-412...|                4|\n",
      "|554064616|04d50e0d-b80c-44e...|                1|\n",
      "|554426664|a6aebb81-e68d-4fc...|                9|\n",
      "|560605592|535c77ff-60a7-432...|                6|\n",
      "|568789888|97820352-2275-4d5...|               72|\n",
      "|568789888|149a4323-02ba-b09...|                1|\n",
      "|568789888|235b7e77-1845-4fb...|                1|\n",
      "|568789888|ee138fc0-4703-4e5...|                2|\n",
      "|568789888|2c905dac-06d3-4a6...|                1|\n",
      "|568789888|8724cf8e-d770-f2b...|                1|\n",
      "|568789888|0202f81f-070c-c27...|                1|\n",
      "|568789888|a27b6171-ac12-27d...|                1|\n",
      "|568789888|07243911-82b9-081...|                1|\n",
      "|568789888|76f8cb11-d11b-f8c...|                1|\n",
      "|568789888|15b5b692-e614-373...|                1|\n",
      "|568789888|093187ef-db9e-3d2...|                1|\n",
      "|568789888|781faaa8-84e1-45c...|                1|\n",
      "|568789888|abd3d730-6759-408...|                1|\n",
      "|568789888|5bfef8f8-9092-b15...|                1|\n",
      "+---------+--------------------+-----------------+\n",
      "only showing top 20 rows\n",
      "\n"
     ]
    }
   ],
   "source": [
    "interactions_per_session.show()"
   ]
  },
  {
   "cell_type": "code",
   "execution_count": 30,
   "metadata": {},
   "outputs": [],
   "source": [
    "avg_interactions_per_session = interactions_per_session.groupBy('user_id').avg('count(event_type)')"
   ]
  },
  {
   "cell_type": "code",
   "execution_count": 31,
   "metadata": {},
   "outputs": [],
   "source": [
    "avg_interactions_per_session = avg_interactions_per_session.withColumnRenamed('avg(count(event_type))', \"avg_interactions_per_session\")"
   ]
  },
  {
   "cell_type": "code",
   "execution_count": 32,
   "metadata": {},
   "outputs": [],
   "source": [
    "full = full.join(avg_interactions_per_session, full.user_id == avg_interactions_per_session.user_id).drop(avg_interactions_per_session.user_id)"
   ]
  },
  {
   "cell_type": "markdown",
   "metadata": {},
   "source": [
    "#### Std Deviation of number of interactions per session per person (stddev_int_per_session)"
   ]
  },
  {
   "cell_type": "code",
   "execution_count": 33,
   "metadata": {},
   "outputs": [
    {
     "name": "stdout",
     "output_type": "stream",
     "text": [
      "+---------+----------------------+\n",
      "|  user_id|stddev_int_per_session|\n",
      "+---------+----------------------+\n",
      "|512700240|     2.138089935299395|\n",
      "|514013554|    3.4121631178560534|\n",
      "|514338009|      6.08820433161764|\n",
      "|514747635|                  null|\n",
      "|516092497|    1.8464895909600494|\n",
      "+---------+----------------------+\n",
      "only showing top 5 rows\n",
      "\n"
     ]
    }
   ],
   "source": [
    "std_interactions_per_session = interactions_per_session.groupBy('user_id') \\\n",
    "                                                       .agg(stddev('count(event_type)')) \\\n",
    "                                                       .withColumnRenamed(\"stddev_samp(count(event_type))\", 'stddev_int_per_session')\n",
    "std_interactions_per_session.show(5)"
   ]
  },
  {
   "cell_type": "code",
   "execution_count": 34,
   "metadata": {},
   "outputs": [],
   "source": [
    "full = full.join(std_interactions_per_session, full.user_id == std_interactions_per_session.user_id).drop(std_interactions_per_session.user_id)"
   ]
  },
  {
   "cell_type": "markdown",
   "metadata": {},
   "source": [
    "#### Max number of interactions within one session (max_interactions_one_session)"
   ]
  },
  {
   "cell_type": "code",
   "execution_count": 35,
   "metadata": {},
   "outputs": [],
   "source": [
    "max_interactions_per_session = interactions_per_session.groupBy('user_id').max('count(event_type)')"
   ]
  },
  {
   "cell_type": "code",
   "execution_count": 36,
   "metadata": {},
   "outputs": [],
   "source": [
    "max_interactions_per_session = max_interactions_per_session.withColumnRenamed('max(count(event_type))', \"max_interactions_one_session\")"
   ]
  },
  {
   "cell_type": "code",
   "execution_count": 37,
   "metadata": {},
   "outputs": [
    {
     "name": "stdout",
     "output_type": "stream",
     "text": [
      "+---------+----------------------------+\n",
      "|  user_id|max_interactions_one_session|\n",
      "+---------+----------------------------+\n",
      "|512700240|                           7|\n",
      "+---------+----------------------------+\n",
      "only showing top 1 row\n",
      "\n"
     ]
    }
   ],
   "source": [
    "max_interactions_per_session.show(1)"
   ]
  },
  {
   "cell_type": "code",
   "execution_count": 38,
   "metadata": {},
   "outputs": [],
   "source": [
    "full = full.join(max_interactions_per_session, full.user_id == max_interactions_per_session.user_id).drop(max_interactions_per_session.user_id)"
   ]
  },
  {
   "cell_type": "markdown",
   "metadata": {},
   "source": [
    "#### Percent of total events that are x (Purchase, Cart, View) ('purchase_pct_of_total_events', 'cart_pct_of_total_events', 'view_pct_of_total_events')"
   ]
  },
  {
   "cell_type": "code",
   "execution_count": 39,
   "metadata": {},
   "outputs": [],
   "source": [
    "event_counts = m1.groupBy('user_id', 'user_session').pivot('event_type').agg(count('event_type'))\n",
    "# Here the three types of event count are pivoted out for later tabulation"
   ]
  },
  {
   "cell_type": "code",
   "execution_count": 40,
   "metadata": {},
   "outputs": [
    {
     "name": "stdout",
     "output_type": "stream",
     "text": [
      "+---------+--------------------+----+--------+----+\n",
      "|  user_id|        user_session|cart|purchase|view|\n",
      "+---------+--------------------+----+--------+----+\n",
      "|602491865|7ec0e1e6-94e0-493...|   0|       0|   4|\n",
      "|552639168|d335b338-322b-4eb...|   1|       1|   2|\n",
      "|581273021|847d49fa-06a5-438...|   0|       0|   3|\n",
      "|515047041|591cd0ea-f290-47c...|   0|       0|   1|\n",
      "|591332625|1f8c24dd-9574-47c...|   1|       0|  14|\n",
      "|544146586|0b8b1f4e-6776-471...|   0|       0|   2|\n",
      "|583400913|91b1a207-0025-40c...|   0|       0|   1|\n",
      "|601537528|1e8169c6-4e52-488...|   0|       0|   1|\n",
      "|596809045|a7e2f49c-40b0-42c...|   0|       0|   1|\n",
      "|597031468|ec19bd73-8443-4c6...|   0|       0|   1|\n",
      "|597616595|276d2a56-208a-4f0...|   3|       0|   4|\n",
      "|595220818|3637a73f-7296-400...|   1|       0|   2|\n",
      "|547438388|3dd53be2-45a1-4f0...|   2|       1|   7|\n",
      "|594130277|5fa33f91-f26f-46e...|   0|       0|  10|\n",
      "|594783921|86ed108f-a0c6-42e...|   0|       0|   1|\n",
      "|543329028|714eca9f-3298-443...|   0|       0|   6|\n",
      "|598732220|21ba711e-fab7-41a...|   2|       0|   1|\n",
      "|518367012|d0af2217-a220-49d...|   0|       0|   1|\n",
      "|598355085|8cfe6c4e-4a5b-4e9...|   0|       0|  11|\n",
      "|519461814|9efeb502-bfdc-4a7...|   0|       0|  13|\n",
      "+---------+--------------------+----+--------+----+\n",
      "only showing top 20 rows\n",
      "\n"
     ]
    }
   ],
   "source": [
    "event_counts = event_counts.fillna(0) #replace nulls with 0 for math\n",
    "event_counts.show()"
   ]
  },
  {
   "cell_type": "code",
   "execution_count": 41,
   "metadata": {},
   "outputs": [],
   "source": [
    "events_per_session = event_counts.withColumn('events_per_session_total', col('cart') + col('purchase') + col('view')) \n",
    "# Get total number of events per session"
   ]
  },
  {
   "cell_type": "code",
   "execution_count": 42,
   "metadata": {},
   "outputs": [
    {
     "name": "stdout",
     "output_type": "stream",
     "text": [
      "+---------+--------------------+----+--------+----+------------------------+\n",
      "|  user_id|        user_session|cart|purchase|view|events_per_session_total|\n",
      "+---------+--------------------+----+--------+----+------------------------+\n",
      "|602491865|7ec0e1e6-94e0-493...|   0|       0|   4|                       4|\n",
      "|552639168|d335b338-322b-4eb...|   1|       1|   2|                       4|\n",
      "|581273021|847d49fa-06a5-438...|   0|       0|   3|                       3|\n",
      "|515047041|591cd0ea-f290-47c...|   0|       0|   1|                       1|\n",
      "|591332625|1f8c24dd-9574-47c...|   1|       0|  14|                      15|\n",
      "|544146586|0b8b1f4e-6776-471...|   0|       0|   2|                       2|\n",
      "|583400913|91b1a207-0025-40c...|   0|       0|   1|                       1|\n",
      "|601537528|1e8169c6-4e52-488...|   0|       0|   1|                       1|\n",
      "|596809045|a7e2f49c-40b0-42c...|   0|       0|   1|                       1|\n",
      "|597031468|ec19bd73-8443-4c6...|   0|       0|   1|                       1|\n",
      "|597616595|276d2a56-208a-4f0...|   3|       0|   4|                       7|\n",
      "|595220818|3637a73f-7296-400...|   1|       0|   2|                       3|\n",
      "|547438388|3dd53be2-45a1-4f0...|   2|       1|   7|                      10|\n",
      "|594130277|5fa33f91-f26f-46e...|   0|       0|  10|                      10|\n",
      "|594783921|86ed108f-a0c6-42e...|   0|       0|   1|                       1|\n",
      "|543329028|714eca9f-3298-443...|   0|       0|   6|                       6|\n",
      "|598732220|21ba711e-fab7-41a...|   2|       0|   1|                       3|\n",
      "|518367012|d0af2217-a220-49d...|   0|       0|   1|                       1|\n",
      "|598355085|8cfe6c4e-4a5b-4e9...|   0|       0|  11|                      11|\n",
      "|519461814|9efeb502-bfdc-4a7...|   0|       0|  13|                      13|\n",
      "+---------+--------------------+----+--------+----+------------------------+\n",
      "only showing top 20 rows\n",
      "\n"
     ]
    }
   ],
   "source": [
    "events_per_session.show()"
   ]
  },
  {
   "cell_type": "code",
   "execution_count": 43,
   "metadata": {},
   "outputs": [],
   "source": [
    "pct_events = events_per_session.groupBy('user_id').sum()"
   ]
  },
  {
   "cell_type": "code",
   "execution_count": 44,
   "metadata": {},
   "outputs": [],
   "source": [
    "pct_totalevents = pct_events.withColumn('purchase_pct_of_total_events', col('sum(purchase)')/col('sum(events_per_session_total)')) \\\n",
    "                  .withColumn('view_pct_of_total_events', col('sum(view)')/col('sum(events_per_session_total)')) \\\n",
    "                  .withColumn('cart_pct_of_total_events', col('sum(cart)')/col('sum(events_per_session_total)'))"
   ]
  },
  {
   "cell_type": "code",
   "execution_count": 45,
   "metadata": {},
   "outputs": [],
   "source": [
    "merge_me = pct_totalevents.select('user_id', 'purchase_pct_of_total_events', 'cart_pct_of_total_events', 'view_pct_of_total_events')"
   ]
  },
  {
   "cell_type": "code",
   "execution_count": 46,
   "metadata": {},
   "outputs": [],
   "source": [
    "full = full.join(merge_me, full.user_id == merge_me.user_id).drop(merge_me.user_id)"
   ]
  },
  {
   "cell_type": "markdown",
   "metadata": {},
   "source": [
    "#### Average number of purchases per session (avg_purchases_per_session)"
   ]
  },
  {
   "cell_type": "code",
   "execution_count": 47,
   "metadata": {},
   "outputs": [],
   "source": [
    "avg_purchases_per_session = events_per_session.groupBy('user_id').avg('purchase').withColumnRenamed('avg(purchase)', \"avg_purchases_per_session\")"
   ]
  },
  {
   "cell_type": "code",
   "execution_count": 48,
   "metadata": {},
   "outputs": [
    {
     "name": "stdout",
     "output_type": "stream",
     "text": [
      "+---------+-------------------------+\n",
      "|  user_id|avg_purchases_per_session|\n",
      "+---------+-------------------------+\n",
      "|512700240|       0.5714285714285714|\n",
      "|539141084|                     0.04|\n",
      "|606753158|                      0.0|\n",
      "|575813444|                      0.0|\n",
      "|581503547|                      0.0|\n",
      "|598174578|                      0.0|\n",
      "|569603970|                      0.0|\n",
      "|607546688|                      0.0|\n",
      "|605878179|       0.2727272727272727|\n",
      "|536666006|                      0.0|\n",
      "|567758692|                      0.5|\n",
      "|607701094|                      0.0|\n",
      "|514747635|                      0.0|\n",
      "|530467296|                      0.0|\n",
      "|602329313|                      0.0|\n",
      "|516092497|                      0.0|\n",
      "|597517612|                      0.0|\n",
      "|514013554|                      0.0|\n",
      "|606191296|                      0.0|\n",
      "|514338009|      0.32978723404255317|\n",
      "+---------+-------------------------+\n",
      "only showing top 20 rows\n",
      "\n"
     ]
    }
   ],
   "source": [
    "avg_purchases_per_session.show()"
   ]
  },
  {
   "cell_type": "code",
   "execution_count": 49,
   "metadata": {},
   "outputs": [],
   "source": [
    "full = full.join(avg_purchases_per_session, full.user_id == avg_purchases_per_session.user_id).drop(avg_purchases_per_session.user_id)"
   ]
  },
  {
   "cell_type": "markdown",
   "metadata": {},
   "source": [
    "#### STD of number of purchases per session per person (std_purchases_per_session)"
   ]
  },
  {
   "cell_type": "code",
   "execution_count": 50,
   "metadata": {},
   "outputs": [
    {
     "name": "stdout",
     "output_type": "stream",
     "text": [
      "+---------+-------------------------+\n",
      "|  user_id|std_purchases_per_session|\n",
      "+---------+-------------------------+\n",
      "|512700240|       0.5345224838248488|\n",
      "|539141084|                      0.2|\n",
      "|606753158|                      0.0|\n",
      "|575813444|                      0.0|\n",
      "|581503547|                      0.0|\n",
      "+---------+-------------------------+\n",
      "only showing top 5 rows\n",
      "\n"
     ]
    }
   ],
   "source": [
    "std_purchases_per_session = events_per_session.groupBy('user_id') \\\n",
    "                                              .agg(stddev('purchase')) \\\n",
    "                                              .withColumnRenamed('stddev_samp(purchase)', \"std_purchases_per_session\")\n",
    "std_purchases_per_session.show(5)"
   ]
  },
  {
   "cell_type": "code",
   "execution_count": 51,
   "metadata": {},
   "outputs": [],
   "source": [
    "full = full.join(std_purchases_per_session, full.user_id == std_purchases_per_session.user_id).drop(std_purchases_per_session.user_id)"
   ]
  },
  {
   "cell_type": "code",
   "execution_count": null,
   "metadata": {},
   "outputs": [],
   "source": []
  },
  {
   "cell_type": "markdown",
   "metadata": {},
   "source": [
    "#### Total number of each type of event over whole month (monthlyCartTotal, monthlyPurchaseTotal, monthlyViewTotal)"
   ]
  },
  {
   "cell_type": "code",
   "execution_count": 52,
   "metadata": {},
   "outputs": [],
   "source": [
    "event_counts_month = event_counts.groupBy('user_id').sum('cart', 'purchase', 'view')\\\n",
    "                     .withColumnRenamed('sum(cart)', 'monthlyCartTotal') \\\n",
    "                     .withColumnRenamed('sum(purchase)', 'monthlyPurchaseTotal') \\\n",
    "                     .withColumnRenamed('sum(view)', 'monthlyViewTotal')"
   ]
  },
  {
   "cell_type": "code",
   "execution_count": 53,
   "metadata": {},
   "outputs": [
    {
     "name": "stdout",
     "output_type": "stream",
     "text": [
      "+---------+----------------+--------------------+----------------+\n",
      "|  user_id|monthlyCartTotal|monthlyPurchaseTotal|monthlyViewTotal|\n",
      "+---------+----------------+--------------------+----------------+\n",
      "|512700240|               6|                   4|              23|\n",
      "|539141084|               2|                   1|             184|\n",
      "|606753158|               0|                   0|               5|\n",
      "|575813444|               0|                   0|               9|\n",
      "|581503547|               2|                   0|              57|\n",
      "|598174578|               0|                   0|               2|\n",
      "|569603970|               0|                   0|             148|\n",
      "|607546688|               0|                   0|               2|\n",
      "|605878179|               6|                   3|              71|\n",
      "|536666006|               0|                   0|              14|\n",
      "|567758692|               1|                   1|              27|\n",
      "|607701094|               0|                   0|              44|\n",
      "|514747635|               0|                   0|               1|\n",
      "|530467296|               0|                   0|               3|\n",
      "|602329313|               0|                   0|               2|\n",
      "|516092497|               0|                   0|              38|\n",
      "|597517612|               2|                   0|              38|\n",
      "|514013554|               0|                   0|              26|\n",
      "|606191296|               0|                   0|               2|\n",
      "|514338009|              59|                  31|             399|\n",
      "+---------+----------------+--------------------+----------------+\n",
      "only showing top 20 rows\n",
      "\n"
     ]
    }
   ],
   "source": [
    "event_counts_month.show()"
   ]
  },
  {
   "cell_type": "code",
   "execution_count": 54,
   "metadata": {},
   "outputs": [],
   "source": [
    "full = full.join(event_counts_month, full.user_id == event_counts_month.user_id).drop(event_counts_month.user_id)"
   ]
  },
  {
   "cell_type": "markdown",
   "metadata": {},
   "source": [
    "#### Total number of sessions that contain event over whole month (NumSessWithPurchases, NumSessWithCart, NumSessWithView)"
   ]
  },
  {
   "cell_type": "code",
   "execution_count": 55,
   "metadata": {},
   "outputs": [],
   "source": [
    "events_over_month = events_per_session.withColumn('purchaseInSession', when(col('purchase') == 0, 0).otherwise(1)) \\\n",
    "                                      .withColumn('cartInSession', when(col('cart')==0, 0).otherwise(1)) \\\n",
    "                                      .withColumn('viewInSession', when(col('view')==0, 0).otherwise(1))"
   ]
  },
  {
   "cell_type": "code",
   "execution_count": 56,
   "metadata": {},
   "outputs": [],
   "source": [
    "num_sesh_containing_event = events_over_month.groupBy('user_id').sum('purchaseInSession', \"cartInSession\", \"viewInSession\") \\\n",
    "                            .withColumnRenamed(\"sum(purchaseInSession)\", \"NumSessWithPurchases\") \\\n",
    "                            .withColumnRenamed(\"sum(cartInSession)\", \"NumSessWithCart\") \\\n",
    "                            .withColumnRenamed(\"sum(viewInSession)\", \"NumSessWithView\")"
   ]
  },
  {
   "cell_type": "code",
   "execution_count": 57,
   "metadata": {},
   "outputs": [
    {
     "name": "stdout",
     "output_type": "stream",
     "text": [
      "+---------+--------------------+---------------+---------------+\n",
      "|  user_id|NumSessWithPurchases|NumSessWithCart|NumSessWithView|\n",
      "+---------+--------------------+---------------+---------------+\n",
      "|512700240|                   4|              4|              7|\n",
      "|539141084|                   1|              1|             25|\n",
      "|606753158|                   0|              0|              2|\n",
      "|575813444|                   0|              0|              7|\n",
      "|581503547|                   0|              2|             10|\n",
      "|598174578|                   0|              0|              1|\n",
      "|569603970|                   0|              0|            145|\n",
      "|607546688|                   0|              0|              1|\n",
      "|605878179|                   3|              5|             11|\n",
      "|536666006|                   0|              0|              5|\n",
      "|567758692|                   1|              1|              2|\n",
      "|607701094|                   0|              0|              5|\n",
      "|514747635|                   0|              0|              1|\n",
      "|530467296|                   0|              0|              2|\n",
      "|602329313|                   0|              0|              1|\n",
      "|516092497|                   0|              0|             15|\n",
      "|597517612|                   0|              2|             16|\n",
      "|514013554|                   0|              0|              8|\n",
      "|606191296|                   0|              0|              1|\n",
      "|514338009|                  26|             27|             94|\n",
      "+---------+--------------------+---------------+---------------+\n",
      "only showing top 20 rows\n",
      "\n"
     ]
    }
   ],
   "source": [
    "num_sesh_containing_event.show()"
   ]
  },
  {
   "cell_type": "code",
   "execution_count": 58,
   "metadata": {},
   "outputs": [],
   "source": [
    "full = full.join(num_sesh_containing_event, full.user_id == num_sesh_containing_event.user_id).drop(num_sesh_containing_event.user_id)"
   ]
  },
  {
   "cell_type": "markdown",
   "metadata": {},
   "source": [
    "#### Percent of individual's sessions that end in cart/purchase (ses_end_purch, ses_end_cart)"
   ]
  },
  {
   "cell_type": "code",
   "execution_count": 59,
   "metadata": {},
   "outputs": [
    {
     "name": "stdout",
     "output_type": "stream",
     "text": [
      "+---------+--------------------+----+--------+----+-----------------+-------------+\n",
      "|  user_id|        user_session|cart|purchase|view|sess_end_purchase|sess_end_cart|\n",
      "+---------+--------------------+----+--------+----+-----------------+-------------+\n",
      "|602491865|7ec0e1e6-94e0-493...|   0|       0|   4|                0|            0|\n",
      "|552639168|d335b338-322b-4eb...|   1|       1|   2|                1|            0|\n",
      "|581273021|847d49fa-06a5-438...|   0|       0|   3|                0|            0|\n",
      "|515047041|591cd0ea-f290-47c...|   0|       0|   1|                0|            0|\n",
      "|591332625|1f8c24dd-9574-47c...|   1|       0|  14|                0|            1|\n",
      "+---------+--------------------+----+--------+----+-----------------+-------------+\n",
      "only showing top 5 rows\n",
      "\n"
     ]
    }
   ],
   "source": [
    "session_ends2 = event_counts.withColumn('sess_end_purchase', \\\n",
    "                                when(col('purchase') != 0, 1) \\\n",
    "                                .otherwise(0)) \\\n",
    "                            .withColumn('sess_end_cart', \\\n",
    "                                when((col(\"purchase\") == 0) & (col(\"cart\") != 0), 1) \\\n",
    "                                .otherwise(0))\n",
    "session_ends2.show(5)"
   ]
  },
  {
   "cell_type": "code",
   "execution_count": 60,
   "metadata": {},
   "outputs": [
    {
     "name": "stdout",
     "output_type": "stream",
     "text": [
      "+---------+-------------------+----------------------+------------------+\n",
      "|  user_id|count(user_session)|sum(sess_end_purchase)|sum(sess_end_cart)|\n",
      "+---------+-------------------+----------------------+------------------+\n",
      "|512700240|                  7|                     4|                 0|\n",
      "|539141084|                 25|                     1|                 0|\n",
      "|606753158|                  2|                     0|                 0|\n",
      "|575813444|                  7|                     0|                 0|\n",
      "|581503547|                 10|                     0|                 2|\n",
      "+---------+-------------------+----------------------+------------------+\n",
      "only showing top 5 rows\n",
      "\n"
     ]
    }
   ],
   "source": [
    "session_sum = session_ends2.groupBy('user_id').agg(count('user_session'), sum('sess_end_purchase'), sum('sess_end_cart'))\n",
    "session_sum.show(5)"
   ]
  },
  {
   "cell_type": "code",
   "execution_count": 61,
   "metadata": {},
   "outputs": [
    {
     "name": "stdout",
     "output_type": "stream",
     "text": [
      "+---------+-------------------+----------------------+------------------+------------------+------------+\n",
      "|  user_id|count(user_session)|sum(sess_end_purchase)|sum(sess_end_cart)|     ses_end_purch|ses_end_cart|\n",
      "+---------+-------------------+----------------------+------------------+------------------+------------+\n",
      "|512700240|                  7|                     4|                 0|0.5714285714285714|         0.0|\n",
      "|539141084|                 25|                     1|                 0|              0.04|         0.0|\n",
      "|606753158|                  2|                     0|                 0|               0.0|         0.0|\n",
      "|575813444|                  7|                     0|                 0|               0.0|         0.0|\n",
      "|581503547|                 10|                     0|                 2|               0.0|         0.2|\n",
      "+---------+-------------------+----------------------+------------------+------------------+------------+\n",
      "only showing top 5 rows\n",
      "\n"
     ]
    }
   ],
   "source": [
    "session_sum = session_sum.withColumn('ses_end_purch', col('sum(sess_end_purchase)')/col('count(user_session)')) \\\n",
    "                         .withColumn('ses_end_cart', col('sum(sess_end_cart)')/col('count(user_session)'))\n",
    "session_sum.show(5)"
   ]
  },
  {
   "cell_type": "code",
   "execution_count": 62,
   "metadata": {},
   "outputs": [
    {
     "name": "stdout",
     "output_type": "stream",
     "text": [
      "+---------+------------------+--------------------+\n",
      "|  user_id|     ses_end_purch|        ses_end_cart|\n",
      "+---------+------------------+--------------------+\n",
      "|512700240|0.5714285714285714|                 0.0|\n",
      "|539141084|              0.04|                 0.0|\n",
      "|606753158|               0.0|                 0.0|\n",
      "|575813444|               0.0|                 0.0|\n",
      "|581503547|               0.0|                 0.2|\n",
      "|598174578|               0.0|                 0.0|\n",
      "|569603970|               0.0|                 0.0|\n",
      "|607546688|               0.0|                 0.0|\n",
      "|605878179|0.2727272727272727| 0.18181818181818182|\n",
      "|536666006|               0.0|                 0.0|\n",
      "|567758692|               0.5|                 0.0|\n",
      "|607701094|               0.0|                 0.0|\n",
      "|514747635|               0.0|                 0.0|\n",
      "|530467296|               0.0|                 0.0|\n",
      "|602329313|               0.0|                 0.0|\n",
      "|516092497|               0.0|                 0.0|\n",
      "|597517612|               0.0|               0.125|\n",
      "|514013554|               0.0|                 0.0|\n",
      "|606191296|               0.0|                 0.0|\n",
      "|514338009|0.2765957446808511|0.010638297872340425|\n",
      "+---------+------------------+--------------------+\n",
      "only showing top 20 rows\n",
      "\n"
     ]
    }
   ],
   "source": [
    "temp = session_sum.select('user_id', \"ses_end_purch\", \"ses_end_cart\")\n",
    "temp.show()"
   ]
  },
  {
   "cell_type": "code",
   "execution_count": 63,
   "metadata": {},
   "outputs": [],
   "source": [
    "full = full.join(temp, full.user_id == temp.user_id).drop(temp.user_id)"
   ]
  },
  {
   "cell_type": "markdown",
   "metadata": {},
   "source": [
    "### Preview full dataframe"
   ]
  },
  {
   "cell_type": "code",
   "execution_count": 64,
   "metadata": {},
   "outputs": [
    {
     "data": {
      "text/plain": [
       "StructType(List(StructField(user_id,IntegerType,true),StructField(m2_total_spend,DoubleType,true),StructField(m1_total_spend,DoubleType,true),StructField(m1_total_events,LongType,true),StructField(m1_purchase_events,LongType,true),StructField(m1_user_sessions,LongType,true),StructField(num_sessions_month,LongType,false),StructField(AvgSessLen,DoubleType,true),StructField(stddev_SessionLengthSecs,DoubleType,true),StructField(avg_interactions_per_session,DoubleType,true),StructField(stddev_int_per_session,DoubleType,true),StructField(max_interactions_one_session,LongType,true),StructField(purchase_pct_of_total_events,DoubleType,true),StructField(cart_pct_of_total_events,DoubleType,true),StructField(view_pct_of_total_events,DoubleType,true),StructField(avg_purchases_per_session,DoubleType,true),StructField(std_purchases_per_session,DoubleType,true),StructField(monthlyCartTotal,LongType,true),StructField(monthlyPurchaseTotal,LongType,true),StructField(monthlyViewTotal,LongType,true),StructField(NumSessWithPurchases,LongType,true),StructField(NumSessWithCart,LongType,true),StructField(NumSessWithView,LongType,true),StructField(ses_end_purch,DoubleType,true),StructField(ses_end_cart,DoubleType,true)))"
      ]
     },
     "execution_count": 64,
     "metadata": {},
     "output_type": "execute_result"
    }
   ],
   "source": [
    "full.schema"
   ]
  },
  {
   "cell_type": "code",
   "execution_count": 65,
   "metadata": {},
   "outputs": [
    {
     "name": "stdout",
     "output_type": "stream",
     "text": [
      "+---------+--------------+--------------+---------------+------------------+----------------+------------------+----------+------------------------+----------------------------+----------------------+----------------------------+----------------------------+------------------------+------------------------+-------------------------+-------------------------+----------------+--------------------+----------------+--------------------+---------------+---------------+-------------+------------+\n",
      "|  user_id|m2_total_spend|m1_total_spend|m1_total_events|m1_purchase_events|m1_user_sessions|num_sessions_month|AvgSessLen|stddev_SessionLengthSecs|avg_interactions_per_session|stddev_int_per_session|max_interactions_one_session|purchase_pct_of_total_events|cart_pct_of_total_events|view_pct_of_total_events|avg_purchases_per_session|std_purchases_per_session|monthlyCartTotal|monthlyPurchaseTotal|monthlyViewTotal|NumSessWithPurchases|NumSessWithCart|NumSessWithView|ses_end_purch|ses_end_cart|\n",
      "+---------+--------------+--------------+---------------+------------------+----------------+------------------+----------+------------------------+----------------------------+----------------------+----------------------------+----------------------------+------------------------+------------------------+-------------------------+-------------------------+----------------+--------------------+----------------+--------------------+---------------+---------------+-------------+------------+\n",
      "|405614124|           0.0|           0.0|              2|                 0|               2|                 2|       0.0|                     0.0|                         1.0|                   0.0|                           1|                         0.0|                     0.0|                     1.0|                      0.0|                      0.0|               0|                   0|               2|                   0|              0|              2|          0.0|         0.0|\n",
      "+---------+--------------+--------------+---------------+------------------+----------------+------------------+----------+------------------------+----------------------------+----------------------+----------------------------+----------------------------+------------------------+------------------------+-------------------------+-------------------------+----------------+--------------------+----------------+--------------------+---------------+---------------+-------------+------------+\n",
      "only showing top 1 row\n",
      "\n"
     ]
    }
   ],
   "source": [
    "full.show(1)"
   ]
  },
  {
   "cell_type": "code",
   "execution_count": 66,
   "metadata": {},
   "outputs": [
    {
     "data": {
      "text/plain": [
       "219080"
      ]
     },
     "execution_count": 66,
     "metadata": {},
     "output_type": "execute_result"
    }
   ],
   "source": [
    "full.count()"
   ]
  },
  {
   "cell_type": "markdown",
   "metadata": {},
   "source": [
    "#### Save as parquet. (If saving in project group12 folder - Make sure to change permissions in bash using chmod 777 filename)"
   ]
  },
  {
   "cell_type": "code",
   "execution_count": 67,
   "metadata": {},
   "outputs": [
    {
     "name": "stdout",
     "output_type": "stream",
     "text": [
      "CPU times: user 4.7 ms, sys: 2.63 ms, total: 7.33 ms\n",
      "Wall time: 37.7 s\n"
     ]
    }
   ],
   "source": [
    "%%time\n",
    "full.write.mode(\"overwrite\").parquet(\"./processed_data/engineered_features.parquet\")"
   ]
  },
  {
   "cell_type": "code",
   "execution_count": 68,
   "metadata": {},
   "outputs": [],
   "source": [
    "%%time\n",
    "train, test = full.randomSplit([.8, .2], seed=42)"
   ]
  },
  {
   "cell_type": "code",
   "execution_count": 69,
   "metadata": {},
   "outputs": [
    {
     "name": "stdout",
     "output_type": "stream",
     "text": [
      "CPU times: user 8.06 ms, sys: 4.19 ms, total: 12.2 ms\n",
      "Wall time: 1min 8s\n"
     ]
    }
   ],
   "source": [
    "%%time\n",
    "train.write.mode(\"overwrite\").parquet(\"./processed_data/train.parquet\")\n",
    "test.write.mode(\"overwrite\").parquet(\"./processed_data/test.parquet\")"
   ]
  },
  {
   "cell_type": "code",
   "execution_count": null,
   "metadata": {},
   "outputs": [],
   "source": []
  }
 ],
 "metadata": {
  "kernelspec": {
   "display_name": "DS 5110 Spark 3.1",
   "language": "python",
   "name": "ds5110_spark3.1"
  },
  "language_info": {
   "codemirror_mode": {
    "name": "ipython",
    "version": 3
   },
   "file_extension": ".py",
   "mimetype": "text/x-python",
   "name": "python",
   "nbconvert_exporter": "python",
   "pygments_lexer": "ipython3",
   "version": "3.7.10"
  }
 },
 "nbformat": 4,
 "nbformat_minor": 4
}
