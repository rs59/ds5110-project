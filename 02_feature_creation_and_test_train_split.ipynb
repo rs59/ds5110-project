{
 "cells": [
  {
   "cell_type": "markdown",
   "metadata": {},
   "source": [
    "## File 02 - Feature Creation\n",
    "\n",
    "In this file, we create new features from our interaction-level dataset."
   ]
  },
  {
   "cell_type": "markdown",
   "metadata": {},
   "source": [
    "### Set up Spark session and data schema\n",
    "\n",
    "We can specify more options in the SparkSession creator, but currently the options are at the default settings."
   ]
  },
  {
   "cell_type": "code",
   "execution_count": 1,
   "metadata": {},
   "outputs": [
    {
     "name": "stdout",
     "output_type": "stream",
     "text": [
      "CPU times: user 468 ms, sys: 328 ms, total: 796 ms\n",
      "Wall time: 5.13 s\n"
     ]
    }
   ],
   "source": [
    "%%time\n",
    "from pyspark.sql import SparkSession\n",
    "from pyspark.sql import types as T\n",
    "import matplotlib.pyplot as plt\n",
    "from pyspark.sql.functions import col\n",
    "from pyspark.ml.feature import MinMaxScaler\n",
    "from pyspark.ml.feature import VectorAssembler\n",
    "from pyspark.ml import Pipeline\n",
    "from pyspark.sql.functions import udf\n",
    "from pyspark.sql.types import DoubleType\n",
    "from pyspark.sql.functions import *\n",
    "import datetime as dt\n",
    "from pyspark.sql.functions import translate\n",
    "\n",
    "from pyspark.ml.feature import PCA as PCAml\n",
    "from pyspark.ml.linalg import Vectors \n",
    "              \n",
    "import copy\n",
    "    \n",
    "import sys\n",
    "spark = SparkSession.builder \\\n",
    "        .appName(\"project\") \\\n",
    "        .getOrCreate()\n",
    "\n",
    "sc = spark.sparkContext\n",
    "\n",
    "#schema = \"`event_time` TIMESTAMP,`event_type` STRING,`product_id` INT,`category_id` BIGINT,`category_code` STRING,`brand` STRING,`price` FLOAT,`user_id` INT,`user_session` STRING\"\n",
    "#ddl_schema = T._parse_datatype_string(schema)"
   ]
  },
  {
   "cell_type": "markdown",
   "metadata": {},
   "source": [
    "See https://docs.google.com/document/d/1NG4KGticBXn0D3PL5_zMxLV2Pr7A8PQtLcasxCOd1nA/edit for table of features."
   ]
  },
  {
   "cell_type": "markdown",
   "metadata": {},
   "source": [
    "### Read in data"
   ]
  },
  {
   "cell_type": "code",
   "execution_count": 2,
   "metadata": {},
   "outputs": [
    {
     "name": "stdout",
     "output_type": "stream",
     "text": [
      "CPU times: user 1.27 ms, sys: 2.28 ms, total: 3.55 ms\n",
      "Wall time: 2.59 s\n"
     ]
    }
   ],
   "source": [
    "%%time\n",
    "full = spark.read.parquet(\"./processed_data/preprocessed_01.parquet\")\n",
    "m1 = spark.read.parquet(\"./processed_data/month_01_filtered.parquet\") # This brings in the data we can create additional features from"
   ]
  },
  {
   "cell_type": "code",
   "execution_count": 3,
   "metadata": {},
   "outputs": [
    {
     "name": "stdout",
     "output_type": "stream",
     "text": [
      "219080\n",
      "+---------+--------------+------------------+------------+--------------+\n",
      "|  user_id| T_total_spend|       total_spend|total_events|total_sessions|\n",
      "+---------+--------------+------------------+------------+--------------+\n",
      "|413580824|           0.0|               0.0|           3|             2|\n",
      "|428963270|           0.0|               0.0|          68|             8|\n",
      "|501050566|           0.0|               0.0|           2|             1|\n",
      "|512378217|           0.0|               0.0|          25|             6|\n",
      "|512394054|39439.12109375|236.82000732421875|          56|            16|\n",
      "+---------+--------------+------------------+------------+--------------+\n",
      "only showing top 5 rows\n",
      "\n"
     ]
    }
   ],
   "source": [
    "print(full.count())\n",
    "full.show(5)"
   ]
  },
  {
   "cell_type": "code",
   "execution_count": 4,
   "metadata": {},
   "outputs": [
    {
     "name": "stdout",
     "output_type": "stream",
     "text": [
      "2807167\n",
      "+---------+-------------------+----------+----------+-------------------+--------------------+--------+------+--------------------+\n",
      "|  user_id|         event_time|event_type|product_id|        category_id|       category_code|   brand| price|        user_session|\n",
      "+---------+-------------------+----------+----------+-------------------+--------------------+--------+------+--------------------+\n",
      "|416793411|2020-01-12 13:16:29|      view|   1004836|2232732093077520756|construction.tool...| samsung|231.38|315c1383-b002-4c3...|\n",
      "|465783976|2020-01-04 10:36:20|      view|  13901213|2053013557343158789|construction.comp...|  blanco|218.65|75f6bddc-41f8-497...|\n",
      "|465783976|2020-01-04 10:37:14|      view|  13902800|2053013561092866779|   computers.desktop|  blanco|140.35|75f6bddc-41f8-497...|\n",
      "|465783976|2020-01-04 10:38:07|      view|  13902800|2053013561092866779|   computers.desktop|  blanco|140.35|75f6bddc-41f8-497...|\n",
      "|465783976|2020-01-04 10:40:08|      view|  13902647|2053013561092866779|   computers.desktop|omoikiri|185.13|75f6bddc-41f8-497...|\n",
      "+---------+-------------------+----------+----------+-------------------+--------------------+--------+------+--------------------+\n",
      "only showing top 5 rows\n",
      "\n"
     ]
    }
   ],
   "source": [
    "print(m1.count())\n",
    "m1.show(5)"
   ]
  },
  {
   "cell_type": "markdown",
   "metadata": {},
   "source": [
    "## Begin Creating Features\n",
    "### Create each on an individual level, then join to full\n",
    "##### NOTE: Must rename all features so that they do not contain parenthesis - not compatible with saving to parquet"
   ]
  },
  {
   "cell_type": "markdown",
   "metadata": {},
   "source": [
    "_________________"
   ]
  },
  {
   "cell_type": "markdown",
   "metadata": {},
   "source": [
    "#### Average Session Duration (avg_session_length)"
   ]
  },
  {
   "cell_type": "code",
   "execution_count": 5,
   "metadata": {},
   "outputs": [],
   "source": [
    "session_ends = m1.groupBy('user_id', 'user_session').agg(max('event_time'), min('event_time'))"
   ]
  },
  {
   "cell_type": "code",
   "execution_count": 6,
   "metadata": {},
   "outputs": [
    {
     "name": "stdout",
     "output_type": "stream",
     "text": [
      "+---------+--------------------+-------------------+-------------------+\n",
      "|  user_id|        user_session|    max(event_time)|    min(event_time)|\n",
      "+---------+--------------------+-------------------+-------------------+\n",
      "|514283509|ba808472-24ca-4a5...|2020-01-19 12:30:36|2020-01-19 12:30:36|\n",
      "|524368563|c00a9199-98cb-412...|2020-01-08 11:43:08|2020-01-08 11:41:06|\n",
      "|554064616|04d50e0d-b80c-44e...|2020-01-08 10:02:28|2020-01-08 10:02:28|\n",
      "|554426664|a6aebb81-e68d-4fc...|2020-01-20 11:57:27|2020-01-20 11:48:18|\n",
      "|560605592|535c77ff-60a7-432...|2020-01-21 13:03:42|2020-01-21 12:53:09|\n",
      "+---------+--------------------+-------------------+-------------------+\n",
      "only showing top 5 rows\n",
      "\n"
     ]
    }
   ],
   "source": [
    "session_ends.show(5)"
   ]
  },
  {
   "cell_type": "code",
   "execution_count": 7,
   "metadata": {},
   "outputs": [],
   "source": [
    "session_ends = session_ends.withColumn('session_length', (col(\"max(event_time)\").cast('long') - col(\"min(event_time)\").cast('long')))"
   ]
  },
  {
   "cell_type": "code",
   "execution_count": 8,
   "metadata": {},
   "outputs": [
    {
     "name": "stdout",
     "output_type": "stream",
     "text": [
      "+---------+--------------------+-------------------+-------------------+--------------+\n",
      "|  user_id|        user_session|    max(event_time)|    min(event_time)|session_length|\n",
      "+---------+--------------------+-------------------+-------------------+--------------+\n",
      "|550527121|9124b2c1-02e4-4cc...|2020-01-31 22:39:05|2020-01-01 07:10:21|       2647724|\n",
      "|593313269|bcaf86f2-1c1d-420...|2020-01-31 16:40:45|2020-01-01 05:36:13|       2631872|\n",
      "|516733273|2b0fc08b-bd1d-439...|2020-01-31 14:24:46|2020-01-01 07:09:16|       2618130|\n",
      "|566985224|9d0368d8-c6ac-42d...|2020-01-31 14:45:42|2020-01-01 07:41:22|       2617460|\n",
      "|542394994|1b9f919f-f044-4b5...|2020-01-31 14:14:10|2020-01-01 08:02:12|       2614318|\n",
      "+---------+--------------------+-------------------+-------------------+--------------+\n",
      "only showing top 5 rows\n",
      "\n"
     ]
    }
   ],
   "source": [
    "session_ends.orderBy(col(\"session_length\").desc()).show(5)\n",
    "# NOTE: Lots of these sessions are unreasonably long"
   ]
  },
  {
   "cell_type": "code",
   "execution_count": 9,
   "metadata": {},
   "outputs": [],
   "source": [
    "avg_sess = session_ends.groupBy('user_id').avg('session_length').withColumnRenamed('avg(session_length)', \"avg_session_length\")"
   ]
  },
  {
   "cell_type": "code",
   "execution_count": 10,
   "metadata": {},
   "outputs": [
    {
     "name": "stdout",
     "output_type": "stream",
     "text": [
      "+---------+------------------+\n",
      "|  user_id|avg_session_length|\n",
      "+---------+------------------+\n",
      "|512700240| 336.2857142857143|\n",
      "|514013554|         44762.375|\n",
      "|514338009| 161.1595744680851|\n",
      "|514747635|               0.0|\n",
      "|516092497|108.26666666666667|\n",
      "+---------+------------------+\n",
      "only showing top 5 rows\n",
      "\n"
     ]
    }
   ],
   "source": [
    "avg_sess.show(5)"
   ]
  },
  {
   "cell_type": "code",
   "execution_count": 11,
   "metadata": {},
   "outputs": [
    {
     "name": "stdout",
     "output_type": "stream",
     "text": [
      "219080\n",
      "+---------+------------------+------------------+------------+--------------+------------------+\n",
      "|  user_id|     T_total_spend|       total_spend|total_events|total_sessions|avg_session_length|\n",
      "+---------+------------------+------------------+------------+--------------+------------------+\n",
      "|512700240|14504.489959716797|1436.1799926757812|          66|             7| 336.2857142857143|\n",
      "|514013554| 7735.519714355469|               0.0|          52|             8|         44762.375|\n",
      "|514338009| 2786062.823135376| 269863.6780014038|       23472|            94| 161.1595744680851|\n",
      "|514747635|               0.0|               0.0|           1|             1|               0.0|\n",
      "|516092497|               0.0|               0.0|          38|            15|108.26666666666667|\n",
      "+---------+------------------+------------------+------------+--------------+------------------+\n",
      "only showing top 5 rows\n",
      "\n"
     ]
    }
   ],
   "source": [
    "full = full.join(avg_sess, full.user_id == avg_sess.user_id).drop(avg_sess.user_id)\n",
    "print(full.count())\n",
    "full.show(5)"
   ]
  },
  {
   "cell_type": "markdown",
   "metadata": {},
   "source": [
    "#### Std Deviation of session duration by person (sd_session_length)"
   ]
  },
  {
   "cell_type": "code",
   "execution_count": 12,
   "metadata": {},
   "outputs": [
    {
     "name": "stdout",
     "output_type": "stream",
     "text": [
      "+---------+--------------------+-------------------+-------------------+--------------+\n",
      "|  user_id|        user_session|    max(event_time)|    min(event_time)|session_length|\n",
      "+---------+--------------------+-------------------+-------------------+--------------+\n",
      "|514283509|ba808472-24ca-4a5...|2020-01-19 12:30:36|2020-01-19 12:30:36|             0|\n",
      "|524368563|c00a9199-98cb-412...|2020-01-08 11:43:08|2020-01-08 11:41:06|           122|\n",
      "|554064616|04d50e0d-b80c-44e...|2020-01-08 10:02:28|2020-01-08 10:02:28|             0|\n",
      "|554426664|a6aebb81-e68d-4fc...|2020-01-20 11:57:27|2020-01-20 11:48:18|           549|\n",
      "|560605592|535c77ff-60a7-432...|2020-01-21 13:03:42|2020-01-21 12:53:09|           633|\n",
      "+---------+--------------------+-------------------+-------------------+--------------+\n",
      "only showing top 5 rows\n",
      "\n"
     ]
    }
   ],
   "source": [
    "session_ends.show(5)"
   ]
  },
  {
   "cell_type": "code",
   "execution_count": 13,
   "metadata": {},
   "outputs": [],
   "source": [
    "sd_session_length = session_ends.groupBy('user_id') \\\n",
    "                                 .agg(stddev('session_length')) \\\n",
    "                                 .withColumnRenamed(\"stddev_samp(session_length)\", 'sd_session_length')"
   ]
  },
  {
   "cell_type": "code",
   "execution_count": 14,
   "metadata": {},
   "outputs": [
    {
     "name": "stdout",
     "output_type": "stream",
     "text": [
      "+---------+------------------+\n",
      "|  user_id| sd_session_length|\n",
      "+---------+------------------+\n",
      "|512700240|358.21209466167494|\n",
      "|514013554|126444.70285909568|\n",
      "|514338009| 255.1480827963551|\n",
      "|514747635|              null|\n",
      "|516092497|201.15149467384978|\n",
      "+---------+------------------+\n",
      "only showing top 5 rows\n",
      "\n"
     ]
    }
   ],
   "source": [
    "sd_session_length.show(5)"
   ]
  },
  {
   "cell_type": "code",
   "execution_count": 15,
   "metadata": {},
   "outputs": [],
   "source": [
    "full = full.join(sd_session_length, full.user_id == sd_session_length.user_id).drop(sd_session_length.user_id)"
   ]
  },
  {
   "cell_type": "markdown",
   "metadata": {},
   "source": [
    "#### UNFINISHED Distance from last interaction to end of month (seconds)\n"
   ]
  },
  {
   "cell_type": "code",
   "execution_count": 16,
   "metadata": {},
   "outputs": [],
   "source": [
    "# new_month = dt.datetime(2020,2,1,0,0).timestamp() # This is the epoch seconds of Feb 1, 2020 at midnight\n",
    "# new_month"
   ]
  },
  {
   "cell_type": "code",
   "execution_count": 17,
   "metadata": {},
   "outputs": [],
   "source": [
    "# last_interaction = m1.groupBy('user_id').agg(max('event_time'))\n",
    "# last_interaction.show()"
   ]
  },
  {
   "cell_type": "code",
   "execution_count": 18,
   "metadata": {},
   "outputs": [],
   "source": [
    "## last_int_dist = last_interaction.withColumn('time_from_end_month', timestamp(1580533200) - col('max(event_time)'))"
   ]
  },
  {
   "cell_type": "markdown",
   "metadata": {},
   "source": [
    "#### Average number of interactions per session (avg_interactions_per_session)"
   ]
  },
  {
   "cell_type": "code",
   "execution_count": 19,
   "metadata": {},
   "outputs": [],
   "source": [
    "interactions_per_session = m1.groupBy('user_id', 'user_session').agg(count('event_type'))"
   ]
  },
  {
   "cell_type": "code",
   "execution_count": 20,
   "metadata": {},
   "outputs": [
    {
     "name": "stdout",
     "output_type": "stream",
     "text": [
      "+---------+--------------------+-----------------+\n",
      "|  user_id|        user_session|count(event_type)|\n",
      "+---------+--------------------+-----------------+\n",
      "|514283509|ba808472-24ca-4a5...|                1|\n",
      "|524368563|c00a9199-98cb-412...|                4|\n",
      "|554064616|04d50e0d-b80c-44e...|                1|\n",
      "|554426664|a6aebb81-e68d-4fc...|                9|\n",
      "|560605592|535c77ff-60a7-432...|                6|\n",
      "+---------+--------------------+-----------------+\n",
      "only showing top 5 rows\n",
      "\n"
     ]
    }
   ],
   "source": [
    "interactions_per_session.show(5)"
   ]
  },
  {
   "cell_type": "code",
   "execution_count": 21,
   "metadata": {},
   "outputs": [],
   "source": [
    "avg_interactions_per_session = interactions_per_session.groupBy('user_id').avg('count(event_type)')"
   ]
  },
  {
   "cell_type": "code",
   "execution_count": 22,
   "metadata": {},
   "outputs": [],
   "source": [
    "avg_interactions_per_session = avg_interactions_per_session.withColumnRenamed('avg(count(event_type))', \"avg_interactions_per_session\")"
   ]
  },
  {
   "cell_type": "code",
   "execution_count": 23,
   "metadata": {},
   "outputs": [
    {
     "name": "stdout",
     "output_type": "stream",
     "text": [
      "+---------+-------------+-----------+------------+--------------+------------------+------------------+----------------------------+\n",
      "|  user_id|T_total_spend|total_spend|total_events|total_sessions|avg_session_length| sd_session_length|avg_interactions_per_session|\n",
      "+---------+-------------+-----------+------------+--------------+------------------+------------------+----------------------------+\n",
      "|405614124|          0.0|        0.0|           2|             2|               0.0|               0.0|                         1.0|\n",
      "|485991194|          0.0|        0.0|           3|             1|             398.0|              null|                         3.0|\n",
      "|496765250|          0.0|        0.0|           1|             1|               0.0|              null|                         1.0|\n",
      "|501980918|          0.0|        0.0|        2141|            40|          1955.925|3099.7057626077335|                      53.525|\n",
      "|502621333|          0.0|        0.0|           5|             3|221.66666666666666| 383.9379290111011|          1.6666666666666667|\n",
      "+---------+-------------+-----------+------------+--------------+------------------+------------------+----------------------------+\n",
      "only showing top 5 rows\n",
      "\n"
     ]
    }
   ],
   "source": [
    "full = full.join(avg_interactions_per_session, full.user_id == avg_interactions_per_session.user_id).drop(avg_interactions_per_session.user_id)\n",
    "full.show(5)"
   ]
  },
  {
   "cell_type": "markdown",
   "metadata": {},
   "source": [
    "#### Std Deviation of number of interactions per session per person (stddev_int_per_session)"
   ]
  },
  {
   "cell_type": "code",
   "execution_count": 24,
   "metadata": {},
   "outputs": [
    {
     "name": "stdout",
     "output_type": "stream",
     "text": [
      "+---------+---------------------------+\n",
      "|  user_id|sd_interactions_per_session|\n",
      "+---------+---------------------------+\n",
      "|512700240|          2.138089935299395|\n",
      "|514013554|         3.4121631178560534|\n",
      "|514338009|           6.08820433161764|\n",
      "|514747635|                       null|\n",
      "|516092497|         1.8464895909600494|\n",
      "+---------+---------------------------+\n",
      "only showing top 5 rows\n",
      "\n"
     ]
    }
   ],
   "source": [
    "std_interactions_per_session = interactions_per_session.groupBy('user_id') \\\n",
    "                                                       .agg(stddev('count(event_type)')) \\\n",
    "                                                       .withColumnRenamed(\"stddev_samp(count(event_type))\", 'sd_interactions_per_session')\n",
    "std_interactions_per_session.show(5)"
   ]
  },
  {
   "cell_type": "code",
   "execution_count": 25,
   "metadata": {},
   "outputs": [
    {
     "name": "stdout",
     "output_type": "stream",
     "text": [
      "+---------+-------------+-----------+------------+--------------+------------------+------------------+----------------------------+---------------------------+\n",
      "|  user_id|T_total_spend|total_spend|total_events|total_sessions|avg_session_length| sd_session_length|avg_interactions_per_session|sd_interactions_per_session|\n",
      "+---------+-------------+-----------+------------+--------------+------------------+------------------+----------------------------+---------------------------+\n",
      "|405614124|          0.0|        0.0|           2|             2|               0.0|               0.0|                         1.0|                        0.0|\n",
      "|485991194|          0.0|        0.0|           3|             1|             398.0|              null|                         3.0|                       null|\n",
      "|496765250|          0.0|        0.0|           1|             1|               0.0|              null|                         1.0|                       null|\n",
      "|501980918|          0.0|        0.0|        2141|            40|          1955.925|3099.7057626077335|                      53.525|          78.74691284140147|\n",
      "|502621333|          0.0|        0.0|           5|             3|221.66666666666666| 383.9379290111011|          1.6666666666666667|         1.1547005383792515|\n",
      "+---------+-------------+-----------+------------+--------------+------------------+------------------+----------------------------+---------------------------+\n",
      "only showing top 5 rows\n",
      "\n"
     ]
    }
   ],
   "source": [
    "full = full.join(std_interactions_per_session, full.user_id == std_interactions_per_session.user_id).drop(std_interactions_per_session.user_id)\n",
    "full.show(5)"
   ]
  },
  {
   "cell_type": "markdown",
   "metadata": {},
   "source": [
    "#### Max number of interactions within one session (max_interactions_one_session)"
   ]
  },
  {
   "cell_type": "code",
   "execution_count": 26,
   "metadata": {},
   "outputs": [],
   "source": [
    "max_interactions_per_session = interactions_per_session.groupBy('user_id').max('count(event_type)')"
   ]
  },
  {
   "cell_type": "code",
   "execution_count": 27,
   "metadata": {},
   "outputs": [],
   "source": [
    "max_interactions_per_session = max_interactions_per_session.withColumnRenamed('max(count(event_type))', \"max_interactions_per_session\")"
   ]
  },
  {
   "cell_type": "code",
   "execution_count": 28,
   "metadata": {},
   "outputs": [
    {
     "name": "stdout",
     "output_type": "stream",
     "text": [
      "+---------+----------------------------+\n",
      "|  user_id|max_interactions_per_session|\n",
      "+---------+----------------------------+\n",
      "|512700240|                           7|\n",
      "+---------+----------------------------+\n",
      "only showing top 1 row\n",
      "\n"
     ]
    }
   ],
   "source": [
    "max_interactions_per_session.show(1)"
   ]
  },
  {
   "cell_type": "code",
   "execution_count": 29,
   "metadata": {},
   "outputs": [
    {
     "name": "stdout",
     "output_type": "stream",
     "text": [
      "+---------+-------------+-----------+------------+--------------+------------------+------------------+----------------------------+---------------------------+----------------------------+\n",
      "|  user_id|T_total_spend|total_spend|total_events|total_sessions|avg_session_length| sd_session_length|avg_interactions_per_session|sd_interactions_per_session|max_interactions_per_session|\n",
      "+---------+-------------+-----------+------------+--------------+------------------+------------------+----------------------------+---------------------------+----------------------------+\n",
      "|405614124|          0.0|        0.0|           2|             2|               0.0|               0.0|                         1.0|                        0.0|                           1|\n",
      "|485991194|          0.0|        0.0|           3|             1|             398.0|              null|                         3.0|                       null|                           3|\n",
      "|496765250|          0.0|        0.0|           1|             1|               0.0|              null|                         1.0|                       null|                           1|\n",
      "|501980918|          0.0|        0.0|        2141|            40|          1955.925|3099.7057626077335|                      53.525|          78.74691284140147|                         265|\n",
      "|502621333|          0.0|        0.0|           5|             3|221.66666666666666| 383.9379290111011|          1.6666666666666667|         1.1547005383792515|                           3|\n",
      "+---------+-------------+-----------+------------+--------------+------------------+------------------+----------------------------+---------------------------+----------------------------+\n",
      "only showing top 5 rows\n",
      "\n"
     ]
    }
   ],
   "source": [
    "full = full.join(max_interactions_per_session, full.user_id == max_interactions_per_session.user_id).drop(max_interactions_per_session.user_id)\n",
    "full.show(5)"
   ]
  },
  {
   "cell_type": "markdown",
   "metadata": {},
   "source": [
    "#### Percent of total events that are x (Purchase, Cart, View) ('purchase_pct_of_total_events', 'cart_pct_of_total_events', 'view_pct_of_total_events')"
   ]
  },
  {
   "cell_type": "code",
   "execution_count": 30,
   "metadata": {},
   "outputs": [],
   "source": [
    "event_counts = m1.groupBy('user_id', 'user_session').pivot('event_type').agg(count('event_type'))\n",
    "# Here the three types of event count are pivoted out for later tabulation"
   ]
  },
  {
   "cell_type": "code",
   "execution_count": 31,
   "metadata": {},
   "outputs": [
    {
     "name": "stdout",
     "output_type": "stream",
     "text": [
      "+---------+--------------------+----+--------+----+\n",
      "|  user_id|        user_session|cart|purchase|view|\n",
      "+---------+--------------------+----+--------+----+\n",
      "|602491865|7ec0e1e6-94e0-493...|   0|       0|   4|\n",
      "|552639168|d335b338-322b-4eb...|   1|       1|   2|\n",
      "|581273021|847d49fa-06a5-438...|   0|       0|   3|\n",
      "|515047041|591cd0ea-f290-47c...|   0|       0|   1|\n",
      "|591332625|1f8c24dd-9574-47c...|   1|       0|  14|\n",
      "+---------+--------------------+----+--------+----+\n",
      "only showing top 5 rows\n",
      "\n"
     ]
    }
   ],
   "source": [
    "event_counts = event_counts.fillna(0) #replace nulls with 0 for math\n",
    "event_counts.show(5)"
   ]
  },
  {
   "cell_type": "code",
   "execution_count": 32,
   "metadata": {},
   "outputs": [],
   "source": [
    "events_per_session = event_counts.withColumn('events_per_session_total', col('cart') + col('purchase') + col('view')) \n",
    "# Get total number of events per session"
   ]
  },
  {
   "cell_type": "code",
   "execution_count": 33,
   "metadata": {},
   "outputs": [
    {
     "name": "stdout",
     "output_type": "stream",
     "text": [
      "+---------+--------------------+----+--------+----+------------------------+\n",
      "|  user_id|        user_session|cart|purchase|view|events_per_session_total|\n",
      "+---------+--------------------+----+--------+----+------------------------+\n",
      "|602491865|7ec0e1e6-94e0-493...|   0|       0|   4|                       4|\n",
      "|552639168|d335b338-322b-4eb...|   1|       1|   2|                       4|\n",
      "|581273021|847d49fa-06a5-438...|   0|       0|   3|                       3|\n",
      "|515047041|591cd0ea-f290-47c...|   0|       0|   1|                       1|\n",
      "|591332625|1f8c24dd-9574-47c...|   1|       0|  14|                      15|\n",
      "+---------+--------------------+----+--------+----+------------------------+\n",
      "only showing top 5 rows\n",
      "\n"
     ]
    }
   ],
   "source": [
    "events_per_session.show(5)"
   ]
  },
  {
   "cell_type": "code",
   "execution_count": 34,
   "metadata": {},
   "outputs": [],
   "source": [
    "pct_events = events_per_session.groupBy('user_id').sum()"
   ]
  },
  {
   "cell_type": "code",
   "execution_count": 35,
   "metadata": {},
   "outputs": [],
   "source": [
    "pct_totalevents = pct_events.withColumn('purchase_pct_of_total_events', col('sum(purchase)')/col('sum(events_per_session_total)')) \\\n",
    "                  .withColumn('view_pct_of_total_events', col('sum(view)')/col('sum(events_per_session_total)')) \\\n",
    "                  .withColumn('cart_pct_of_total_events', col('sum(cart)')/col('sum(events_per_session_total)'))"
   ]
  },
  {
   "cell_type": "code",
   "execution_count": 36,
   "metadata": {},
   "outputs": [],
   "source": [
    "merge_me = pct_totalevents.select('user_id', 'purchase_pct_of_total_events', 'view_pct_of_total_events', 'cart_pct_of_total_events')"
   ]
  },
  {
   "cell_type": "code",
   "execution_count": 37,
   "metadata": {},
   "outputs": [
    {
     "name": "stdout",
     "output_type": "stream",
     "text": [
      "+---------+-------------+-----------+------------+--------------+------------------+------------------+----------------------------+---------------------------+----------------------------+----------------------------+------------------------+------------------------+\n",
      "|  user_id|T_total_spend|total_spend|total_events|total_sessions|avg_session_length| sd_session_length|avg_interactions_per_session|sd_interactions_per_session|max_interactions_per_session|purchase_pct_of_total_events|view_pct_of_total_events|cart_pct_of_total_events|\n",
      "+---------+-------------+-----------+------------+--------------+------------------+------------------+----------------------------+---------------------------+----------------------------+----------------------------+------------------------+------------------------+\n",
      "|405614124|          0.0|        0.0|           2|             2|               0.0|               0.0|                         1.0|                        0.0|                           1|                         0.0|                     1.0|                     0.0|\n",
      "|485991194|          0.0|        0.0|           3|             1|             398.0|              null|                         3.0|                       null|                           3|                         0.0|                     1.0|                     0.0|\n",
      "|496765250|          0.0|        0.0|           1|             1|               0.0|              null|                         1.0|                       null|                           1|                         0.0|                     1.0|                     0.0|\n",
      "|501980918|          0.0|        0.0|        2141|            40|          1955.925|3099.7057626077335|                      53.525|          78.74691284140147|                         265|                         0.0|                     1.0|                     0.0|\n",
      "|502621333|          0.0|        0.0|           5|             3|221.66666666666666| 383.9379290111011|          1.6666666666666667|         1.1547005383792515|                           3|                         0.0|                     1.0|                     0.0|\n",
      "+---------+-------------+-----------+------------+--------------+------------------+------------------+----------------------------+---------------------------+----------------------------+----------------------------+------------------------+------------------------+\n",
      "only showing top 5 rows\n",
      "\n"
     ]
    }
   ],
   "source": [
    "full = full.join(merge_me, full.user_id == merge_me.user_id).drop(merge_me.user_id)\n",
    "full.show(5)"
   ]
  },
  {
   "cell_type": "markdown",
   "metadata": {},
   "source": [
    "#### Average number of purchases per session (avg_purchases_per_session)"
   ]
  },
  {
   "cell_type": "code",
   "execution_count": 38,
   "metadata": {},
   "outputs": [],
   "source": [
    "avg_purchases_per_session = events_per_session.groupBy('user_id').avg('purchase').withColumnRenamed('avg(purchase)', \"avg_purchases_per_session\")"
   ]
  },
  {
   "cell_type": "code",
   "execution_count": 39,
   "metadata": {},
   "outputs": [
    {
     "name": "stdout",
     "output_type": "stream",
     "text": [
      "+---------+-------------------------+\n",
      "|  user_id|avg_purchases_per_session|\n",
      "+---------+-------------------------+\n",
      "|512700240|       0.5714285714285714|\n",
      "|539141084|                     0.04|\n",
      "|606753158|                      0.0|\n",
      "|575813444|                      0.0|\n",
      "|581503547|                      0.0|\n",
      "+---------+-------------------------+\n",
      "only showing top 5 rows\n",
      "\n"
     ]
    }
   ],
   "source": [
    "avg_purchases_per_session.show(5)"
   ]
  },
  {
   "cell_type": "code",
   "execution_count": 40,
   "metadata": {},
   "outputs": [
    {
     "name": "stdout",
     "output_type": "stream",
     "text": [
      "+---------+-------------+-----------+------------+--------------+------------------+------------------+----------------------------+---------------------------+----------------------------+----------------------------+------------------------+------------------------+-------------------------+\n",
      "|  user_id|T_total_spend|total_spend|total_events|total_sessions|avg_session_length| sd_session_length|avg_interactions_per_session|sd_interactions_per_session|max_interactions_per_session|purchase_pct_of_total_events|view_pct_of_total_events|cart_pct_of_total_events|avg_purchases_per_session|\n",
      "+---------+-------------+-----------+------------+--------------+------------------+------------------+----------------------------+---------------------------+----------------------------+----------------------------+------------------------+------------------------+-------------------------+\n",
      "|405614124|          0.0|        0.0|           2|             2|               0.0|               0.0|                         1.0|                        0.0|                           1|                         0.0|                     1.0|                     0.0|                      0.0|\n",
      "|485991194|          0.0|        0.0|           3|             1|             398.0|              null|                         3.0|                       null|                           3|                         0.0|                     1.0|                     0.0|                      0.0|\n",
      "|496765250|          0.0|        0.0|           1|             1|               0.0|              null|                         1.0|                       null|                           1|                         0.0|                     1.0|                     0.0|                      0.0|\n",
      "|501980918|          0.0|        0.0|        2141|            40|          1955.925|3099.7057626077335|                      53.525|          78.74691284140147|                         265|                         0.0|                     1.0|                     0.0|                      0.0|\n",
      "|502621333|          0.0|        0.0|           5|             3|221.66666666666666| 383.9379290111011|          1.6666666666666667|         1.1547005383792515|                           3|                         0.0|                     1.0|                     0.0|                      0.0|\n",
      "+---------+-------------+-----------+------------+--------------+------------------+------------------+----------------------------+---------------------------+----------------------------+----------------------------+------------------------+------------------------+-------------------------+\n",
      "only showing top 5 rows\n",
      "\n"
     ]
    }
   ],
   "source": [
    "full = full.join(avg_purchases_per_session, full.user_id == avg_purchases_per_session.user_id).drop(avg_purchases_per_session.user_id)\n",
    "full.show(5)"
   ]
  },
  {
   "cell_type": "markdown",
   "metadata": {},
   "source": [
    "#### STD of number of purchases per session per person (std_purchases_per_session)"
   ]
  },
  {
   "cell_type": "code",
   "execution_count": 41,
   "metadata": {},
   "outputs": [
    {
     "name": "stdout",
     "output_type": "stream",
     "text": [
      "+---------+------------------------+\n",
      "|  user_id|sd_purchases_per_session|\n",
      "+---------+------------------------+\n",
      "|512700240|      0.5345224838248488|\n",
      "|539141084|                     0.2|\n",
      "|606753158|                     0.0|\n",
      "|575813444|                     0.0|\n",
      "|581503547|                     0.0|\n",
      "+---------+------------------------+\n",
      "only showing top 5 rows\n",
      "\n"
     ]
    }
   ],
   "source": [
    "std_purchases_per_session = events_per_session.groupBy('user_id') \\\n",
    "                                              .agg(stddev('purchase')) \\\n",
    "                                              .withColumnRenamed('stddev_samp(purchase)', \"sd_purchases_per_session\")\n",
    "std_purchases_per_session.show(5)"
   ]
  },
  {
   "cell_type": "code",
   "execution_count": 42,
   "metadata": {},
   "outputs": [
    {
     "name": "stdout",
     "output_type": "stream",
     "text": [
      "+---------+-------------+-----------+------------+--------------+------------------+------------------+----------------------------+---------------------------+----------------------------+----------------------------+------------------------+------------------------+-------------------------+------------------------+\n",
      "|  user_id|T_total_spend|total_spend|total_events|total_sessions|avg_session_length| sd_session_length|avg_interactions_per_session|sd_interactions_per_session|max_interactions_per_session|purchase_pct_of_total_events|view_pct_of_total_events|cart_pct_of_total_events|avg_purchases_per_session|sd_purchases_per_session|\n",
      "+---------+-------------+-----------+------------+--------------+------------------+------------------+----------------------------+---------------------------+----------------------------+----------------------------+------------------------+------------------------+-------------------------+------------------------+\n",
      "|405614124|          0.0|        0.0|           2|             2|               0.0|               0.0|                         1.0|                        0.0|                           1|                         0.0|                     1.0|                     0.0|                      0.0|                     0.0|\n",
      "|485991194|          0.0|        0.0|           3|             1|             398.0|              null|                         3.0|                       null|                           3|                         0.0|                     1.0|                     0.0|                      0.0|                    null|\n",
      "|496765250|          0.0|        0.0|           1|             1|               0.0|              null|                         1.0|                       null|                           1|                         0.0|                     1.0|                     0.0|                      0.0|                    null|\n",
      "|501980918|          0.0|        0.0|        2141|            40|          1955.925|3099.7057626077335|                      53.525|          78.74691284140147|                         265|                         0.0|                     1.0|                     0.0|                      0.0|                     0.0|\n",
      "|502621333|          0.0|        0.0|           5|             3|221.66666666666666| 383.9379290111011|          1.6666666666666667|         1.1547005383792515|                           3|                         0.0|                     1.0|                     0.0|                      0.0|                     0.0|\n",
      "+---------+-------------+-----------+------------+--------------+------------------+------------------+----------------------------+---------------------------+----------------------------+----------------------------+------------------------+------------------------+-------------------------+------------------------+\n",
      "only showing top 5 rows\n",
      "\n"
     ]
    }
   ],
   "source": [
    "full = full.join(std_purchases_per_session, full.user_id == std_purchases_per_session.user_id).drop(std_purchases_per_session.user_id)\n",
    "full.show(5)"
   ]
  },
  {
   "cell_type": "markdown",
   "metadata": {},
   "source": [
    "#### Total number of each type of event over whole month (monthlyCartTotal, monthlyPurchaseTotal, monthlyViewTotal)"
   ]
  },
  {
   "cell_type": "code",
   "execution_count": 43,
   "metadata": {},
   "outputs": [],
   "source": [
    "event_counts_month = event_counts.groupBy('user_id').sum('cart', 'purchase', 'view')\\\n",
    "                     .withColumnRenamed('sum(cart)', 'cart_events') \\\n",
    "                     .withColumnRenamed('sum(purchase)', 'purchase_events') \\\n",
    "                     .withColumnRenamed('sum(view)', 'view_events')"
   ]
  },
  {
   "cell_type": "code",
   "execution_count": 44,
   "metadata": {},
   "outputs": [
    {
     "name": "stdout",
     "output_type": "stream",
     "text": [
      "+---------+-----------+---------------+-----------+\n",
      "|  user_id|cart_events|purchase_events|view_events|\n",
      "+---------+-----------+---------------+-----------+\n",
      "|512700240|          6|              4|         23|\n",
      "|539141084|          2|              1|        184|\n",
      "|606753158|          0|              0|          5|\n",
      "|575813444|          0|              0|          9|\n",
      "|581503547|          2|              0|         57|\n",
      "+---------+-----------+---------------+-----------+\n",
      "only showing top 5 rows\n",
      "\n"
     ]
    }
   ],
   "source": [
    "event_counts_month.show(5)"
   ]
  },
  {
   "cell_type": "code",
   "execution_count": 45,
   "metadata": {},
   "outputs": [
    {
     "name": "stdout",
     "output_type": "stream",
     "text": [
      "+---------+-------------+-----------+------------+--------------+------------------+------------------+----------------------------+---------------------------+----------------------------+----------------------------+------------------------+------------------------+-------------------------+------------------------+-----------+---------------+-----------+\n",
      "|  user_id|T_total_spend|total_spend|total_events|total_sessions|avg_session_length| sd_session_length|avg_interactions_per_session|sd_interactions_per_session|max_interactions_per_session|purchase_pct_of_total_events|view_pct_of_total_events|cart_pct_of_total_events|avg_purchases_per_session|sd_purchases_per_session|cart_events|purchase_events|view_events|\n",
      "+---------+-------------+-----------+------------+--------------+------------------+------------------+----------------------------+---------------------------+----------------------------+----------------------------+------------------------+------------------------+-------------------------+------------------------+-----------+---------------+-----------+\n",
      "|405614124|          0.0|        0.0|           2|             2|               0.0|               0.0|                         1.0|                        0.0|                           1|                         0.0|                     1.0|                     0.0|                      0.0|                     0.0|          0|              0|          2|\n",
      "|485991194|          0.0|        0.0|           3|             1|             398.0|              null|                         3.0|                       null|                           3|                         0.0|                     1.0|                     0.0|                      0.0|                    null|          0|              0|          3|\n",
      "|496765250|          0.0|        0.0|           1|             1|               0.0|              null|                         1.0|                       null|                           1|                         0.0|                     1.0|                     0.0|                      0.0|                    null|          0|              0|          1|\n",
      "|501980918|          0.0|        0.0|        2141|            40|          1955.925|3099.7057626077335|                      53.525|          78.74691284140147|                         265|                         0.0|                     1.0|                     0.0|                      0.0|                     0.0|          0|              0|       2141|\n",
      "|502621333|          0.0|        0.0|           5|             3|221.66666666666666| 383.9379290111011|          1.6666666666666667|         1.1547005383792515|                           3|                         0.0|                     1.0|                     0.0|                      0.0|                     0.0|          0|              0|          5|\n",
      "+---------+-------------+-----------+------------+--------------+------------------+------------------+----------------------------+---------------------------+----------------------------+----------------------------+------------------------+------------------------+-------------------------+------------------------+-----------+---------------+-----------+\n",
      "only showing top 5 rows\n",
      "\n"
     ]
    }
   ],
   "source": [
    "full = full.join(event_counts_month, full.user_id == event_counts_month.user_id).drop(event_counts_month.user_id)\n",
    "full.show(5)"
   ]
  },
  {
   "cell_type": "markdown",
   "metadata": {},
   "source": [
    "#### Total number of sessions that contain event over whole month (NumSessWithPurchases, NumSessWithCart, NumSessWithView)"
   ]
  },
  {
   "cell_type": "code",
   "execution_count": 46,
   "metadata": {},
   "outputs": [],
   "source": [
    "events_over_month = events_per_session.withColumn('purchase_events', when(col('purchase') == 0, 0).otherwise(1)) \\\n",
    "                                      .withColumn('cart_events', when(col('cart')==0, 0).otherwise(1)) \\\n",
    "                                      .withColumn('view_events', when(col('view')==0, 0).otherwise(1))"
   ]
  },
  {
   "cell_type": "code",
   "execution_count": 47,
   "metadata": {},
   "outputs": [],
   "source": [
    "num_sesh_containing_event = events_over_month.groupBy('user_id').sum('purchase_events', \"cart_events\", \"view_events\") \\\n",
    "                            .withColumnRenamed(\"sum(purchase_events)\", \"sessions_with_purchase\") \\\n",
    "                            .withColumnRenamed(\"sum(cart_events)\", \"sessions_with_cart\") \\\n",
    "                            .withColumnRenamed(\"sum(view_events)\", \"sessions_with_view\")"
   ]
  },
  {
   "cell_type": "code",
   "execution_count": 48,
   "metadata": {},
   "outputs": [
    {
     "name": "stdout",
     "output_type": "stream",
     "text": [
      "+---------+----------------------+------------------+------------------+\n",
      "|  user_id|sessions_with_purchase|sessions_with_cart|sessions_with_view|\n",
      "+---------+----------------------+------------------+------------------+\n",
      "|512700240|                     4|                 4|                 7|\n",
      "|539141084|                     1|                 1|                25|\n",
      "|606753158|                     0|                 0|                 2|\n",
      "|575813444|                     0|                 0|                 7|\n",
      "|581503547|                     0|                 2|                10|\n",
      "+---------+----------------------+------------------+------------------+\n",
      "only showing top 5 rows\n",
      "\n"
     ]
    }
   ],
   "source": [
    "num_sesh_containing_event.show(5)"
   ]
  },
  {
   "cell_type": "code",
   "execution_count": 49,
   "metadata": {},
   "outputs": [
    {
     "name": "stdout",
     "output_type": "stream",
     "text": [
      "+---------+-------------+-----------+------------+--------------+------------------+------------------+----------------------------+---------------------------+----------------------------+----------------------------+------------------------+------------------------+-------------------------+------------------------+-----------+---------------+-----------+----------------------+------------------+------------------+\n",
      "|  user_id|T_total_spend|total_spend|total_events|total_sessions|avg_session_length| sd_session_length|avg_interactions_per_session|sd_interactions_per_session|max_interactions_per_session|purchase_pct_of_total_events|view_pct_of_total_events|cart_pct_of_total_events|avg_purchases_per_session|sd_purchases_per_session|cart_events|purchase_events|view_events|sessions_with_purchase|sessions_with_cart|sessions_with_view|\n",
      "+---------+-------------+-----------+------------+--------------+------------------+------------------+----------------------------+---------------------------+----------------------------+----------------------------+------------------------+------------------------+-------------------------+------------------------+-----------+---------------+-----------+----------------------+------------------+------------------+\n",
      "|405614124|          0.0|        0.0|           2|             2|               0.0|               0.0|                         1.0|                        0.0|                           1|                         0.0|                     1.0|                     0.0|                      0.0|                     0.0|          0|              0|          2|                     0|                 0|                 2|\n",
      "|485991194|          0.0|        0.0|           3|             1|             398.0|              null|                         3.0|                       null|                           3|                         0.0|                     1.0|                     0.0|                      0.0|                    null|          0|              0|          3|                     0|                 0|                 1|\n",
      "|496765250|          0.0|        0.0|           1|             1|               0.0|              null|                         1.0|                       null|                           1|                         0.0|                     1.0|                     0.0|                      0.0|                    null|          0|              0|          1|                     0|                 0|                 1|\n",
      "|501980918|          0.0|        0.0|        2141|            40|          1955.925|3099.7057626077335|                      53.525|          78.74691284140147|                         265|                         0.0|                     1.0|                     0.0|                      0.0|                     0.0|          0|              0|       2141|                     0|                 0|                40|\n",
      "|502621333|          0.0|        0.0|           5|             3|221.66666666666666| 383.9379290111011|          1.6666666666666667|         1.1547005383792515|                           3|                         0.0|                     1.0|                     0.0|                      0.0|                     0.0|          0|              0|          5|                     0|                 0|                 3|\n",
      "+---------+-------------+-----------+------------+--------------+------------------+------------------+----------------------------+---------------------------+----------------------------+----------------------------+------------------------+------------------------+-------------------------+------------------------+-----------+---------------+-----------+----------------------+------------------+------------------+\n",
      "only showing top 5 rows\n",
      "\n"
     ]
    }
   ],
   "source": [
    "full = full.join(num_sesh_containing_event, full.user_id == num_sesh_containing_event.user_id).drop(num_sesh_containing_event.user_id)\n",
    "full.show(5)"
   ]
  },
  {
   "cell_type": "markdown",
   "metadata": {},
   "source": [
    "#### Percent of individual's sessions that end in cart/purchase (ses_end_purch, ses_end_cart)"
   ]
  },
  {
   "cell_type": "code",
   "execution_count": 50,
   "metadata": {},
   "outputs": [
    {
     "name": "stdout",
     "output_type": "stream",
     "text": [
      "+---------+--------------------+----+--------+----+------------+--------+\n",
      "|  user_id|        user_session|cart|purchase|view|end_purchase|end_cart|\n",
      "+---------+--------------------+----+--------+----+------------+--------+\n",
      "|602491865|7ec0e1e6-94e0-493...|   0|       0|   4|           0|       0|\n",
      "|552639168|d335b338-322b-4eb...|   1|       1|   2|           1|       0|\n",
      "|581273021|847d49fa-06a5-438...|   0|       0|   3|           0|       0|\n",
      "|515047041|591cd0ea-f290-47c...|   0|       0|   1|           0|       0|\n",
      "|591332625|1f8c24dd-9574-47c...|   1|       0|  14|           0|       1|\n",
      "+---------+--------------------+----+--------+----+------------+--------+\n",
      "only showing top 5 rows\n",
      "\n"
     ]
    }
   ],
   "source": [
    "session_ends2 = event_counts.withColumn('end_purchase', \\\n",
    "                                when(col('purchase') != 0, 1) \\\n",
    "                                .otherwise(0)) \\\n",
    "                            .withColumn('end_cart', \\\n",
    "                                when((col(\"purchase\") == 0) & (col(\"cart\") != 0), 1) \\\n",
    "                                .otherwise(0))\n",
    "session_ends2.show(5)"
   ]
  },
  {
   "cell_type": "code",
   "execution_count": 51,
   "metadata": {},
   "outputs": [
    {
     "name": "stdout",
     "output_type": "stream",
     "text": [
      "+---------+-------------------+-----------------+-------------+\n",
      "|  user_id|count(user_session)|sum(end_purchase)|sum(end_cart)|\n",
      "+---------+-------------------+-----------------+-------------+\n",
      "|512700240|                  7|                4|            0|\n",
      "|539141084|                 25|                1|            0|\n",
      "|606753158|                  2|                0|            0|\n",
      "|575813444|                  7|                0|            0|\n",
      "|581503547|                 10|                0|            2|\n",
      "+---------+-------------------+-----------------+-------------+\n",
      "only showing top 5 rows\n",
      "\n"
     ]
    }
   ],
   "source": [
    "session_sum = session_ends2.groupBy('user_id').agg(count('user_session'), sum('end_purchase'), sum('end_cart'))\n",
    "session_sum.show(5)"
   ]
  },
  {
   "cell_type": "code",
   "execution_count": 52,
   "metadata": {},
   "outputs": [
    {
     "name": "stdout",
     "output_type": "stream",
     "text": [
      "+---------+-------------------+-----------------+-------------+-------------------------+---------------------+\n",
      "|  user_id|count(user_session)|sum(end_purchase)|sum(end_cart)|pct_sessions_end_purchase|pct_sessions_end_cart|\n",
      "+---------+-------------------+-----------------+-------------+-------------------------+---------------------+\n",
      "|512700240|                  7|                4|            0|       0.5714285714285714|                  0.0|\n",
      "|539141084|                 25|                1|            0|                     0.04|                  0.0|\n",
      "|606753158|                  2|                0|            0|                      0.0|                  0.0|\n",
      "|575813444|                  7|                0|            0|                      0.0|                  0.0|\n",
      "|581503547|                 10|                0|            2|                      0.0|                  0.2|\n",
      "+---------+-------------------+-----------------+-------------+-------------------------+---------------------+\n",
      "only showing top 5 rows\n",
      "\n"
     ]
    }
   ],
   "source": [
    "session_sum = session_sum.withColumn('pct_sessions_end_purchase', col('sum(end_purchase)')/col('count(user_session)')) \\\n",
    "                         .withColumn('pct_sessions_end_cart', col('sum(end_cart)')/col('count(user_session)'))\n",
    "session_sum.show(5)"
   ]
  },
  {
   "cell_type": "code",
   "execution_count": 53,
   "metadata": {},
   "outputs": [
    {
     "name": "stdout",
     "output_type": "stream",
     "text": [
      "+---------+-------------------------+---------------------+\n",
      "|  user_id|pct_sessions_end_purchase|pct_sessions_end_cart|\n",
      "+---------+-------------------------+---------------------+\n",
      "|512700240|       0.5714285714285714|                  0.0|\n",
      "|539141084|                     0.04|                  0.0|\n",
      "|606753158|                      0.0|                  0.0|\n",
      "|575813444|                      0.0|                  0.0|\n",
      "|581503547|                      0.0|                  0.2|\n",
      "+---------+-------------------------+---------------------+\n",
      "only showing top 5 rows\n",
      "\n"
     ]
    }
   ],
   "source": [
    "temp = session_sum.select('user_id', \"pct_sessions_end_purchase\", \"pct_sessions_end_cart\")\n",
    "temp.show(5)"
   ]
  },
  {
   "cell_type": "code",
   "execution_count": 54,
   "metadata": {},
   "outputs": [
    {
     "name": "stdout",
     "output_type": "stream",
     "text": [
      "+---------+-------------+-----------+------------+--------------+------------------+------------------+----------------------------+---------------------------+----------------------------+----------------------------+------------------------+------------------------+-------------------------+------------------------+-----------+---------------+-----------+----------------------+------------------+------------------+-------------------------+---------------------+\n",
      "|  user_id|T_total_spend|total_spend|total_events|total_sessions|avg_session_length| sd_session_length|avg_interactions_per_session|sd_interactions_per_session|max_interactions_per_session|purchase_pct_of_total_events|view_pct_of_total_events|cart_pct_of_total_events|avg_purchases_per_session|sd_purchases_per_session|cart_events|purchase_events|view_events|sessions_with_purchase|sessions_with_cart|sessions_with_view|pct_sessions_end_purchase|pct_sessions_end_cart|\n",
      "+---------+-------------+-----------+------------+--------------+------------------+------------------+----------------------------+---------------------------+----------------------------+----------------------------+------------------------+------------------------+-------------------------+------------------------+-----------+---------------+-----------+----------------------+------------------+------------------+-------------------------+---------------------+\n",
      "|405614124|          0.0|        0.0|           2|             2|               0.0|               0.0|                         1.0|                        0.0|                           1|                         0.0|                     1.0|                     0.0|                      0.0|                     0.0|          0|              0|          2|                     0|                 0|                 2|                      0.0|                  0.0|\n",
      "|485991194|          0.0|        0.0|           3|             1|             398.0|              null|                         3.0|                       null|                           3|                         0.0|                     1.0|                     0.0|                      0.0|                    null|          0|              0|          3|                     0|                 0|                 1|                      0.0|                  0.0|\n",
      "|496765250|          0.0|        0.0|           1|             1|               0.0|              null|                         1.0|                       null|                           1|                         0.0|                     1.0|                     0.0|                      0.0|                    null|          0|              0|          1|                     0|                 0|                 1|                      0.0|                  0.0|\n",
      "|501980918|          0.0|        0.0|        2141|            40|          1955.925|3099.7057626077335|                      53.525|          78.74691284140147|                         265|                         0.0|                     1.0|                     0.0|                      0.0|                     0.0|          0|              0|       2141|                     0|                 0|                40|                      0.0|                  0.0|\n",
      "|502621333|          0.0|        0.0|           5|             3|221.66666666666666| 383.9379290111011|          1.6666666666666667|         1.1547005383792515|                           3|                         0.0|                     1.0|                     0.0|                      0.0|                     0.0|          0|              0|          5|                     0|                 0|                 3|                      0.0|                  0.0|\n",
      "+---------+-------------+-----------+------------+--------------+------------------+------------------+----------------------------+---------------------------+----------------------------+----------------------------+------------------------+------------------------+-------------------------+------------------------+-----------+---------------+-----------+----------------------+------------------+------------------+-------------------------+---------------------+\n",
      "only showing top 5 rows\n",
      "\n"
     ]
    }
   ],
   "source": [
    "full = full.join(temp, full.user_id == temp.user_id).drop(temp.user_id)\n",
    "full.show(5)"
   ]
  },
  {
   "cell_type": "markdown",
   "metadata": {},
   "source": [
    "### Preview full dataframe"
   ]
  },
  {
   "cell_type": "code",
   "execution_count": 55,
   "metadata": {},
   "outputs": [
    {
     "name": "stdout",
     "output_type": "stream",
     "text": [
      "root\n",
      " |-- user_id: integer (nullable = true)\n",
      " |-- T_total_spend: double (nullable = true)\n",
      " |-- total_spend: double (nullable = true)\n",
      " |-- total_events: long (nullable = true)\n",
      " |-- total_sessions: long (nullable = true)\n",
      " |-- avg_session_length: double (nullable = true)\n",
      " |-- sd_session_length: double (nullable = true)\n",
      " |-- avg_interactions_per_session: double (nullable = true)\n",
      " |-- sd_interactions_per_session: double (nullable = true)\n",
      " |-- max_interactions_per_session: long (nullable = true)\n",
      " |-- purchase_pct_of_total_events: double (nullable = true)\n",
      " |-- view_pct_of_total_events: double (nullable = true)\n",
      " |-- cart_pct_of_total_events: double (nullable = true)\n",
      " |-- avg_purchases_per_session: double (nullable = true)\n",
      " |-- sd_purchases_per_session: double (nullable = true)\n",
      " |-- cart_events: long (nullable = true)\n",
      " |-- purchase_events: long (nullable = true)\n",
      " |-- view_events: long (nullable = true)\n",
      " |-- sessions_with_purchase: long (nullable = true)\n",
      " |-- sessions_with_cart: long (nullable = true)\n",
      " |-- sessions_with_view: long (nullable = true)\n",
      " |-- pct_sessions_end_purchase: double (nullable = true)\n",
      " |-- pct_sessions_end_cart: double (nullable = true)\n",
      "\n"
     ]
    }
   ],
   "source": [
    "full.printSchema()"
   ]
  },
  {
   "cell_type": "code",
   "execution_count": 56,
   "metadata": {},
   "outputs": [
    {
     "name": "stdout",
     "output_type": "stream",
     "text": [
      "+---------+-------------+-----------+------------+--------------+------------------+-----------------+----------------------------+---------------------------+----------------------------+----------------------------+------------------------+------------------------+-------------------------+------------------------+-----------+---------------+-----------+----------------------+------------------+------------------+-------------------------+---------------------+\n",
      "|  user_id|T_total_spend|total_spend|total_events|total_sessions|avg_session_length|sd_session_length|avg_interactions_per_session|sd_interactions_per_session|max_interactions_per_session|purchase_pct_of_total_events|view_pct_of_total_events|cart_pct_of_total_events|avg_purchases_per_session|sd_purchases_per_session|cart_events|purchase_events|view_events|sessions_with_purchase|sessions_with_cart|sessions_with_view|pct_sessions_end_purchase|pct_sessions_end_cart|\n",
      "+---------+-------------+-----------+------------+--------------+------------------+-----------------+----------------------------+---------------------------+----------------------------+----------------------------+------------------------+------------------------+-------------------------+------------------------+-----------+---------------+-----------+----------------------+------------------+------------------+-------------------------+---------------------+\n",
      "|405614124|          0.0|        0.0|           2|             2|               0.0|              0.0|                         1.0|                        0.0|                           1|                         0.0|                     1.0|                     0.0|                      0.0|                     0.0|          0|              0|          2|                     0|                 0|                 2|                      0.0|                  0.0|\n",
      "+---------+-------------+-----------+------------+--------------+------------------+-----------------+----------------------------+---------------------------+----------------------------+----------------------------+------------------------+------------------------+-------------------------+------------------------+-----------+---------------+-----------+----------------------+------------------+------------------+-------------------------+---------------------+\n",
      "only showing top 1 row\n",
      "\n"
     ]
    }
   ],
   "source": [
    "full.show(1)"
   ]
  },
  {
   "cell_type": "code",
   "execution_count": 57,
   "metadata": {},
   "outputs": [
    {
     "data": {
      "text/plain": [
       "219080"
      ]
     },
     "execution_count": 57,
     "metadata": {},
     "output_type": "execute_result"
    }
   ],
   "source": [
    "full.count()"
   ]
  },
  {
   "cell_type": "markdown",
   "metadata": {},
   "source": [
    "#### Save as parquet. (If saving in project group12 folder - Make sure to change permissions in bash using chmod 777 filename)"
   ]
  },
  {
   "cell_type": "code",
   "execution_count": 58,
   "metadata": {},
   "outputs": [
    {
     "name": "stdout",
     "output_type": "stream",
     "text": [
      "CPU times: user 3.8 ms, sys: 1.5 ms, total: 5.3 ms\n",
      "Wall time: 25.6 s\n"
     ]
    }
   ],
   "source": [
    "%%time\n",
    "full.write.mode(\"overwrite\").parquet(\"./processed_data/engineered_features.parquet\")"
   ]
  },
  {
   "cell_type": "code",
   "execution_count": 59,
   "metadata": {},
   "outputs": [
    {
     "name": "stdout",
     "output_type": "stream",
     "text": [
      "CPU times: user 0 ns, sys: 2.14 ms, total: 2.14 ms\n",
      "Wall time: 20.4 ms\n"
     ]
    }
   ],
   "source": [
    "%%time\n",
    "train, test = full.randomSplit([.8, .2], seed=42)"
   ]
  },
  {
   "cell_type": "markdown",
   "metadata": {},
   "source": [
    "#### Purchased items in month 1, converted to PCA (pca_purchases)\n",
    "\n",
    "Note: Unlike all of the other preprocessing, we need to train the PCA model on the training set, then implement it on the test set. For this reason it comes after the train/test split."
   ]
  },
  {
   "cell_type": "code",
   "execution_count": 62,
   "metadata": {},
   "outputs": [
    {
     "name": "stdout",
     "output_type": "stream",
     "text": [
      "CPU times: user 5 µs, sys: 0 ns, total: 5 µs\n",
      "Wall time: 7.87 µs\n"
     ]
    }
   ],
   "source": [
    "%%time\n",
    "\n",
    "# Create a function that prepares a dataset for PCA.\n",
    "\n",
    "def pca_prepare_on_subset(subset_df, limited_columns=[]):\n",
    "    # Only get this data from the training (or test) set\n",
    "    m1_subset = m1.join(subset_df,'user_id','leftsemi')\n",
    "\n",
    "    # Remove the periods from the dataframe category_code and replace with dashes. PySpark does not do well with periods in column\n",
    "    #  names, for some reason\n",
    "    m1_stripped = m1.withColumn('category_code_s', translate('category_code', '.', '-'))\n",
    "\n",
    "    # Pivot so that each category of purchase becomes a colummn\n",
    "    cats = m1_stripped.filter(m1.event_type == \"purchase\").groupBy('user_id').pivot('category_code_s').count().na.fill(0)\n",
    "\n",
    "    pca_input_cols = [cols for cols in cats.columns if cols!='user_id' and cols!='null']\n",
    "        \n",
    "    # Make a new copy of columns (this is from the training set to the test set, in order to filter out other columns)\n",
    "    if(limited_columns==[]):\n",
    "        limited_columns = copy.deepcopy(pca_input_cols)\n",
    "        limited_columns.append('user_id')\n",
    "    else:\n",
    "        cats = cats.select(*limited_columns) # This is for the test set \n",
    "        # print(cats.schema)\n",
    "\n",
    "    # Transform columns into a sparse vector (prepare for PCA)\n",
    "    assembler = VectorAssembler(\n",
    "        inputCols=pca_input_cols,\n",
    "        outputCol=\"to_pca_columns\")\n",
    "    \n",
    "    # Create sparse vector\n",
    "    pca_df = assembler.transform(cats)\n",
    "    return limited_columns, pca_df\n",
    "    "
   ]
  },
  {
   "cell_type": "code",
   "execution_count": 63,
   "metadata": {},
   "outputs": [
    {
     "name": "stdout",
     "output_type": "stream",
     "text": [
      "+---------+---------------------------------------------------------------------------------------+\n",
      "|user_id  |to_pca_columns                                                                         |\n",
      "+---------+---------------------------------------------------------------------------------------+\n",
      "|514338009|(129,[7,11,15,25,47,57,72,80,95,109,122],[2.0,3.0,1.0,4.0,2.0,4.0,4.0,7.0,1.0,1.0,1.0])|\n",
      "|602481043|(129,[80],[2.0])                                                                       |\n",
      "+---------+---------------------------------------------------------------------------------------+\n",
      "only showing top 2 rows\n",
      "\n"
     ]
    }
   ],
   "source": [
    "# Get columns from training set and get training df\n",
    "limited_columns, train_pre_pca = pca_prepare_on_subset(train)\n",
    "# Limit to these columns on the test set and get test df\n",
    "_, test_pre_pca = pca_prepare_on_subset(test, limited_columns=limited_columns)\n",
    "\n",
    "# Visualize what this looks like\n",
    "train_pre_pca.select([\"user_id\",\"to_pca_columns\"]).show(2, truncate=False)\n",
    "\n",
    "# Create new PCA instance\n",
    "pca = PCAml(k=10, inputCol=\"to_pca_columns\", outputCol=\"pca_purchases\")\n",
    "# Fit on training data\n",
    "model = pca.fit(train_pre_pca)\n",
    "\n",
    "# Transform training and test sets\n",
    "train_with_pca = model.transform(train_pre_pca)\n",
    "test_with_pca = model.transform(test_pre_pca)\n"
   ]
  },
  {
   "cell_type": "code",
   "execution_count": 64,
   "metadata": {},
   "outputs": [],
   "source": [
    "# Merge PCA df back into full training set\n",
    "join_train_df = train_with_pca.select([\"user_id\",\"pca_purchases\"])\n",
    "train = train.join(join_train_df, train.user_id == join_train_df.user_id).drop(join_train_df.user_id)\n",
    "\n",
    "# Merge PCA df back into full test set\n",
    "join_test_df = test_with_pca.select([\"user_id\",\"pca_purchases\"])\n",
    "test = test.join(join_test_df, test.user_id == join_test_df.user_id).drop(join_test_df.user_id)"
   ]
  },
  {
   "cell_type": "code",
   "execution_count": 66,
   "metadata": {},
   "outputs": [
    {
     "name": "stdout",
     "output_type": "stream",
     "text": [
      "+---------+------------------+------------------+------------+--------------+------------------+------------------+----------------------------+---------------------------+----------------------------+----------------------------+------------------------+------------------------+-------------------------+------------------------+-----------+---------------+-----------+----------------------+------------------+------------------+-------------------------+---------------------+----------------------------------------------------------------------------------------------------------------------------------------------------------------------------------------------------------------------+\n",
      "|user_id  |T_total_spend     |total_spend       |total_events|total_sessions|avg_session_length|sd_session_length |avg_interactions_per_session|sd_interactions_per_session|max_interactions_per_session|purchase_pct_of_total_events|view_pct_of_total_events|cart_pct_of_total_events|avg_purchases_per_session|sd_purchases_per_session|cart_events|purchase_events|view_events|sessions_with_purchase|sessions_with_cart|sessions_with_view|pct_sessions_end_purchase|pct_sessions_end_cart|pca_purchases                                                                                                                                                                                                         |\n",
      "+---------+------------------+------------------+------------+--------------+------------------+------------------+----------------------------+---------------------------+----------------------------+----------------------------+------------------------+------------------------+-------------------------+------------------------+-----------+---------------+-----------+----------------------+------------------+------------------+-------------------------+---------------------+----------------------------------------------------------------------------------------------------------------------------------------------------------------------------------------------------------------------+\n",
      "|512541716|0.0               |250.7100067138672 |53          |16            |82.0625           |155.26298925801132|3.3125                      |3.8595120589698033         |15                          |0.018867924528301886        |0.9433962264150944      |0.03773584905660377     |0.0625                   |0.24999999999999997     |2          |1              |50         |1                     |1                 |16                |0.0625                   |0.0                  |[0.0,0.0,0.0,0.0,0.0,0.0,0.0,0.0,0.0,0.0]                                                                                                                                                                             |\n",
      "|512700240|14504.489959716797|1436.1799926757812|66          |7             |336.2857142857143 |358.21209466167494|4.714285714285714           |2.138089935299395          |7                           |0.12121212121212122         |0.696969696969697       |0.18181818181818182     |0.5714285714285714       |0.5345224838248488      |6          |4              |23         |4                     |4                 |7                 |0.5714285714285714       |0.0                  |[0.0028721094779266257,0.012912908076879344,-0.01173009225919143,-6.933677179246614E-4,-0.013292647217283076,0.031507697829990716,-0.02148165476070789,-0.040854197208222864,-0.0575711103001369,-0.12914594274192198]|\n",
      "|512720637|5018.699798583984 |62.52000045776367 |30          |4             |585823.5          |1171628.333386346 |7.5                         |11.676186592091328         |25                          |0.03333333333333333         |0.7666666666666667      |0.2                     |0.25                     |0.5                     |6          |1              |23         |1                     |2                 |4                 |0.25                     |0.25                 |[-6.871665869440721E-4,0.003372679378136012,0.003667708222278576,0.0015207452468863902,-4.4707092448594E-4,0.0027525765443331685,0.006141083227747458,0.009800608141201123,-0.002060233398167244,0.004695228208813629]|\n",
      "|512817510|0.0               |331.510009765625  |27          |5             |269.2             |405.4074493642168 |5.4                         |5.029910535983717          |13                          |0.037037037037037035        |0.8888888888888888      |0.07407407407407407     |0.2                      |0.4472135954999579      |2          |1              |24         |1                     |2                 |5                 |0.2                      |0.2                  |[-0.01030376098661502,0.018052732879244058,-0.03530725056846699,0.05677782599998386,0.025153803540839074,0.30525773722203464,0.016617623044916652,0.8794751896953712,0.2830159176914277,0.10890562768778142]          |\n",
      "|513272614|0.0               |1958.3399963378906|46          |20            |38.05             |40.729499202214086|2.3                         |1.1742858972247996         |4                           |0.13043478260869565         |0.6956521739130435      |0.17391304347826086     |0.3                      |0.4701623459816272      |8          |6              |32         |6                     |8                 |20                |0.3                      |0.15                 |[-0.18344855831437779,-0.36610614109421535,-5.841714555911533,-1.283001755529326,-0.1208010955579441,-0.044497400946849494,-0.07075259542375908,-0.08846558047437318,-0.10039824810599977,-0.029215340096633]         |\n",
      "+---------+------------------+------------------+------------+--------------+------------------+------------------+----------------------------+---------------------------+----------------------------+----------------------------+------------------------+------------------------+-------------------------+------------------------+-----------+---------------+-----------+----------------------+------------------+------------------+-------------------------+---------------------+----------------------------------------------------------------------------------------------------------------------------------------------------------------------------------------------------------------------+\n",
      "only showing top 5 rows\n",
      "\n",
      "+---------+-----------------+------------------+------------+--------------+------------------+------------------+----------------------------+---------------------------+----------------------------+----------------------------+------------------------+------------------------+-------------------------+------------------------+-----------+---------------+-----------+----------------------+------------------+------------------+-------------------------+---------------------+---------------------------------------------------------------------------------------------------------------------------------------------------------------------------------------------------------------------------+\n",
      "|user_id  |T_total_spend    |total_spend       |total_events|total_sessions|avg_session_length|sd_session_length |avg_interactions_per_session|sd_interactions_per_session|max_interactions_per_session|purchase_pct_of_total_events|view_pct_of_total_events|cart_pct_of_total_events|avg_purchases_per_session|sd_purchases_per_session|cart_events|purchase_events|view_events|sessions_with_purchase|sessions_with_cart|sessions_with_view|pct_sessions_end_purchase|pct_sessions_end_cart|pca_purchases                                                                                                                                                                                                              |\n",
      "+---------+-----------------+------------------+------------+--------------+------------------+------------------+----------------------------+---------------------------+----------------------------+----------------------------+------------------------+------------------------+-------------------------+------------------------+-----------+---------------+-----------+----------------------+------------------+------------------+-------------------------+---------------------+---------------------------------------------------------------------------------------------------------------------------------------------------------------------------------------------------------------------------+\n",
      "|517546711|0.0              |1119.4099960327148|110         |4             |882.25            |1449.5788756279069|27.5                        |45.066617356974994         |95                          |0.03636363636363636         |0.9090909090909091      |0.05454545454545454     |1.0                      |2.0                     |6          |4              |100        |1                     |1                 |4                 |0.25                     |0.0                  |[7.117689198115328E-4,0.0012709171482629626,-0.006704145423502485,-0.0037405323062067184,8.079502960453106E-4,0.001698477918852041,-2.7755847556867793E-4,-0.003197276681111802,-0.006645146751208516,0.009581139031113975]|\n",
      "|522016201|0.0              |315.2200012207031 |11          |2             |242.0             |57.982756057296896|5.5                         |0.7071067811865476         |6                           |0.09090909090909091         |0.7272727272727273      |0.18181818181818182     |0.5                      |0.7071067811865476      |2          |1              |8          |1                     |1                 |2                 |0.5                      |0.0                  |[-0.9990442351239863,-0.011267216514816599,0.0339093015473519,-0.0073904762191744,-0.007448617196650104,-0.017998297460381944,0.007347039455715593,-0.0037319248193850066,0.001638166085736681,-2.526663303796682E-4]      |\n",
      "|539141084|0.0              |92.66999816894531 |187         |25            |565.32            |979.4467281753168 |7.48                        |11.139718727747724         |43                          |0.0053475935828877          |0.983957219251337       |0.0106951871657754      |0.04                     |0.2                     |2          |1              |184        |1                     |1                 |25                |0.04                     |0.0                  |[-0.0010254902563121547,0.0021636025382752856,-0.0014531452460117035,0.007458243866855686,0.013628095703046468,0.004162372247604234,-0.0019227990380631503,0.004832873637904326,-0.012304733730560399,0.010601400422915222]|\n",
      "|553923283|7026.240142822266|439.06000900268555|156         |8             |456.375           |316.84964325145046|9.75                        |5.599744892148468          |18                          |0.05128205128205128         |0.8205128205128205      |0.1282051282051282      |0.5                      |0.5345224838248488      |10         |4              |64         |4                     |6                 |8                 |0.5                      |0.25                 |[-1.9985201150486858,0.06798222321893238,0.062265014723165965,-0.0145766051738205,-0.022886227160135247,-0.04245921417218446,0.005904699349815624,0.008184167794300161,0.00984873870517406,0.006665683744956839]           |\n",
      "|563949297|81092.20068359375|8274.06005859375  |56          |4             |274.75            |229.08713771546988|7.0                         |8.04155872120988           |19                          |0.10714285714285714         |0.5                     |0.39285714285714285     |0.75                     |0.49999999999999994     |11         |3              |14         |3                     |3                 |4                 |0.75                     |0.0                  |[-2.9971327053719587,-0.033801649544449794,0.10172790464205571,-0.0221714286575232,-0.02234585158995031,-0.05399489238114583,0.02204111836714678,-0.01119577445815502,0.004914498257210043,-7.579989911390046E-4]          |\n",
      "+---------+-----------------+------------------+------------+--------------+------------------+------------------+----------------------------+---------------------------+----------------------------+----------------------------+------------------------+------------------------+-------------------------+------------------------+-----------+---------------+-----------+----------------------+------------------+------------------+-------------------------+---------------------+---------------------------------------------------------------------------------------------------------------------------------------------------------------------------------------------------------------------------+\n",
      "only showing top 5 rows\n",
      "\n"
     ]
    }
   ],
   "source": [
    "train.show(5, truncate=False)\n",
    "test.show(5, truncate=False)"
   ]
  },
  {
   "cell_type": "markdown",
   "metadata": {},
   "source": [
    "#### Write train and test"
   ]
  },
  {
   "cell_type": "code",
   "execution_count": null,
   "metadata": {},
   "outputs": [],
   "source": [
    "%%time\n",
    "train.write.mode(\"overwrite\").parquet(\"./processed_data/train.parquet\")\n",
    "test.write.mode(\"overwrite\").parquet(\"./processed_data/test.parquet\")"
   ]
  }
 ],
 "metadata": {
  "kernelspec": {
   "display_name": "DS 5110 Spark 3.1",
   "language": "python",
   "name": "ds5110_spark3.1"
  },
  "language_info": {
   "codemirror_mode": {
    "name": "ipython",
    "version": 3
   },
   "file_extension": ".py",
   "mimetype": "text/x-python",
   "name": "python",
   "nbconvert_exporter": "python",
   "pygments_lexer": "ipython3",
   "version": "3.7.10"
  }
 },
 "nbformat": 4,
 "nbformat_minor": 4
}
