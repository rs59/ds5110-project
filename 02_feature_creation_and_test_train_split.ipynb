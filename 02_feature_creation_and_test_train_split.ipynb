{
 "cells": [
  {
   "cell_type": "markdown",
   "metadata": {},
   "source": [
    "## File 02 - Feature Creation\n",
    "\n",
    "In this file, we create new features from our interaction-level dataset."
   ]
  },
  {
   "cell_type": "markdown",
   "metadata": {},
   "source": [
    "### Set up Spark session and data schema\n",
    "\n",
    "We can specify more options in the SparkSession creator, but currently the options are at the default settings."
   ]
  },
  {
   "cell_type": "code",
   "execution_count": 1,
   "metadata": {},
   "outputs": [
    {
     "name": "stdout",
     "output_type": "stream",
     "text": [
      "CPU times: user 436 ms, sys: 286 ms, total: 722 ms\n",
      "Wall time: 4.49 s\n"
     ]
    }
   ],
   "source": [
    "%%time\n",
    "from pyspark.sql import SparkSession\n",
    "from pyspark.sql import types as T\n",
    "import matplotlib.pyplot as plt\n",
    "from pyspark.sql.functions import col\n",
    "from pyspark.ml.feature import MinMaxScaler\n",
    "from pyspark.ml.feature import VectorAssembler\n",
    "from pyspark.ml import Pipeline\n",
    "from pyspark.sql.functions import udf\n",
    "from pyspark.sql.types import DoubleType\n",
    "from pyspark.sql.functions import *\n",
    "import datetime as dt\n",
    "\n",
    "import sys\n",
    "spark = SparkSession.builder \\\n",
    "        .appName(\"project\") \\\n",
    "        .getOrCreate()\n",
    "\n",
    "sc = spark.sparkContext\n",
    "\n",
    "#schema = \"`event_time` TIMESTAMP,`event_type` STRING,`product_id` INT,`category_id` BIGINT,`category_code` STRING,`brand` STRING,`price` FLOAT,`user_id` INT,`user_session` STRING\"\n",
    "#ddl_schema = T._parse_datatype_string(schema)"
   ]
  },
  {
   "cell_type": "markdown",
   "metadata": {},
   "source": [
    "See https://docs.google.com/document/d/1NG4KGticBXn0D3PL5_zMxLV2Pr7A8PQtLcasxCOd1nA/edit for table of features."
   ]
  },
  {
   "cell_type": "markdown",
   "metadata": {},
   "source": [
    "### Read in data"
   ]
  },
  {
   "cell_type": "code",
   "execution_count": 2,
   "metadata": {},
   "outputs": [
    {
     "name": "stdout",
     "output_type": "stream",
     "text": [
      "CPU times: user 923 µs, sys: 1.89 ms, total: 2.81 ms\n",
      "Wall time: 2.98 s\n"
     ]
    }
   ],
   "source": [
    "%%time\n",
    "full = spark.read.parquet(\"./processed_data/preprocessed_01.parquet\")\n",
    "m1 = spark.read.parquet(\"./processed_data/month_01_filtered.parquet\") # This brings in the data we can create additional features from"
   ]
  },
  {
   "cell_type": "code",
   "execution_count": 3,
   "metadata": {},
   "outputs": [
    {
     "name": "stdout",
     "output_type": "stream",
     "text": [
      "219080\n",
      "+---------+--------------+------------------+------------+--------------+\n",
      "|  user_id| T_total_spend|       total_spend|total_events|total_sessions|\n",
      "+---------+--------------+------------------+------------+--------------+\n",
      "|413580824|           0.0|               0.0|           3|             2|\n",
      "|428963270|           0.0|               0.0|          68|             8|\n",
      "|501050566|           0.0|               0.0|           2|             1|\n",
      "|512378217|           0.0|               0.0|          25|             6|\n",
      "|512394054|39439.12109375|236.82000732421875|          56|            16|\n",
      "+---------+--------------+------------------+------------+--------------+\n",
      "only showing top 5 rows\n",
      "\n"
     ]
    }
   ],
   "source": [
    "print(full.count())\n",
    "full.show(5)"
   ]
  },
  {
   "cell_type": "code",
   "execution_count": 4,
   "metadata": {},
   "outputs": [
    {
     "name": "stdout",
     "output_type": "stream",
     "text": [
      "2807167\n",
      "+---------+-------------------+----------+----------+-------------------+--------------------+--------+------+--------------------+\n",
      "|  user_id|         event_time|event_type|product_id|        category_id|       category_code|   brand| price|        user_session|\n",
      "+---------+-------------------+----------+----------+-------------------+--------------------+--------+------+--------------------+\n",
      "|416793411|2020-01-12 13:16:29|      view|   1004836|2232732093077520756|construction.tool...| samsung|231.38|315c1383-b002-4c3...|\n",
      "|465783976|2020-01-04 10:36:20|      view|  13901213|2053013557343158789|construction.comp...|  blanco|218.65|75f6bddc-41f8-497...|\n",
      "|465783976|2020-01-04 10:37:14|      view|  13902800|2053013561092866779|   computers.desktop|  blanco|140.35|75f6bddc-41f8-497...|\n",
      "|465783976|2020-01-04 10:38:07|      view|  13902800|2053013561092866779|   computers.desktop|  blanco|140.35|75f6bddc-41f8-497...|\n",
      "|465783976|2020-01-04 10:40:08|      view|  13902647|2053013561092866779|   computers.desktop|omoikiri|185.13|75f6bddc-41f8-497...|\n",
      "+---------+-------------------+----------+----------+-------------------+--------------------+--------+------+--------------------+\n",
      "only showing top 5 rows\n",
      "\n"
     ]
    }
   ],
   "source": [
    "print(m1.count())\n",
    "m1.show(5)"
   ]
  },
  {
   "cell_type": "markdown",
   "metadata": {},
   "source": [
    "## Begin Creating Features\n",
    "### Create each on an individual level, then join to full\n",
    "##### NOTE: Must rename all features so that they do not contain parenthesis - not compatable with saving to parquet"
   ]
  },
  {
   "cell_type": "markdown",
   "metadata": {},
   "source": [
    "_________________"
   ]
  },
  {
   "cell_type": "markdown",
   "metadata": {},
   "source": [
    "#### Number of items purchased per person, per category\n",
    "##### Commenting out for now - we'll have to think strategically about what 'huge' column sets we want"
   ]
  },
  {
   "cell_type": "code",
   "execution_count": 5,
   "metadata": {},
   "outputs": [],
   "source": [
    "#%%time\n",
    "#cats = m1.filter(m1.event_type == \"purchase\").groupBy('user_id').pivot('category_code').count()"
   ]
  },
  {
   "cell_type": "code",
   "execution_count": 6,
   "metadata": {},
   "outputs": [],
   "source": [
    "#%%time\n",
    "#cats.take(1)"
   ]
  },
  {
   "cell_type": "code",
   "execution_count": 7,
   "metadata": {},
   "outputs": [],
   "source": [
    "#%%time\n",
    "#full = full.join(cats, full.user_id == cats.user_id).drop(cats.user_id)"
   ]
  },
  {
   "cell_type": "code",
   "execution_count": 8,
   "metadata": {},
   "outputs": [],
   "source": [
    "#full.take(1)"
   ]
  },
  {
   "cell_type": "markdown",
   "metadata": {},
   "source": [
    "#### Number of sessions in month (num_sessions_month) - needs to be deleted, duplicative"
   ]
  },
  {
   "cell_type": "code",
   "execution_count": 9,
   "metadata": {},
   "outputs": [],
   "source": [
    "# sessions_total = m1.groupBy('user_id') \\\n",
    "#                .agg(count('user_session'))\\\n",
    "#                .withColumnRenamed(\"count(user_session)\", 'num_sessions_month')\n",
    "                    "
   ]
  },
  {
   "cell_type": "code",
   "execution_count": 10,
   "metadata": {},
   "outputs": [],
   "source": [
    "# sessions_total.show(5)"
   ]
  },
  {
   "cell_type": "code",
   "execution_count": 11,
   "metadata": {},
   "outputs": [],
   "source": [
    "# full = full.join(sessions_total, full.user_id == sessions_total.user_id).drop(sessions_total.user_id)\n",
    "# print(full.count())\n",
    "# full.show(5)"
   ]
  },
  {
   "cell_type": "markdown",
   "metadata": {},
   "source": [
    "#### Average Session Duration (avg_session_length)"
   ]
  },
  {
   "cell_type": "code",
   "execution_count": 12,
   "metadata": {},
   "outputs": [],
   "source": [
    "session_ends = m1.groupBy('user_id', 'user_session').agg(max('event_time'), min('event_time'))"
   ]
  },
  {
   "cell_type": "code",
   "execution_count": 13,
   "metadata": {},
   "outputs": [
    {
     "name": "stdout",
     "output_type": "stream",
     "text": [
      "+---------+--------------------+-------------------+-------------------+\n",
      "|  user_id|        user_session|    max(event_time)|    min(event_time)|\n",
      "+---------+--------------------+-------------------+-------------------+\n",
      "|514283509|ba808472-24ca-4a5...|2020-01-19 12:30:36|2020-01-19 12:30:36|\n",
      "|524368563|c00a9199-98cb-412...|2020-01-08 11:43:08|2020-01-08 11:41:06|\n",
      "|554064616|04d50e0d-b80c-44e...|2020-01-08 10:02:28|2020-01-08 10:02:28|\n",
      "|554426664|a6aebb81-e68d-4fc...|2020-01-20 11:57:27|2020-01-20 11:48:18|\n",
      "|560605592|535c77ff-60a7-432...|2020-01-21 13:03:42|2020-01-21 12:53:09|\n",
      "+---------+--------------------+-------------------+-------------------+\n",
      "only showing top 5 rows\n",
      "\n"
     ]
    }
   ],
   "source": [
    "session_ends.show(5)"
   ]
  },
  {
   "cell_type": "code",
   "execution_count": 14,
   "metadata": {},
   "outputs": [],
   "source": [
    "session_ends = session_ends.withColumn('session_length', (col(\"max(event_time)\").cast('long') - col(\"min(event_time)\").cast('long')))"
   ]
  },
  {
   "cell_type": "code",
   "execution_count": 15,
   "metadata": {},
   "outputs": [
    {
     "name": "stdout",
     "output_type": "stream",
     "text": [
      "+---------+--------------------+-------------------+-------------------+--------------+\n",
      "|  user_id|        user_session|    max(event_time)|    min(event_time)|session_length|\n",
      "+---------+--------------------+-------------------+-------------------+--------------+\n",
      "|550527121|9124b2c1-02e4-4cc...|2020-01-31 22:39:05|2020-01-01 07:10:21|       2647724|\n",
      "|593313269|bcaf86f2-1c1d-420...|2020-01-31 16:40:45|2020-01-01 05:36:13|       2631872|\n",
      "|516733273|2b0fc08b-bd1d-439...|2020-01-31 14:24:46|2020-01-01 07:09:16|       2618130|\n",
      "|566985224|9d0368d8-c6ac-42d...|2020-01-31 14:45:42|2020-01-01 07:41:22|       2617460|\n",
      "|542394994|1b9f919f-f044-4b5...|2020-01-31 14:14:10|2020-01-01 08:02:12|       2614318|\n",
      "+---------+--------------------+-------------------+-------------------+--------------+\n",
      "only showing top 5 rows\n",
      "\n"
     ]
    }
   ],
   "source": [
    "session_ends.orderBy(col(\"session_length\").desc()).show(5)\n",
    "# NOTE: Lots of these sessions are unreasonably long"
   ]
  },
  {
   "cell_type": "code",
   "execution_count": 16,
   "metadata": {},
   "outputs": [],
   "source": [
    "avg_sess = session_ends.groupBy('user_id').avg('session_length').withColumnRenamed('avg(session_length)', \"avg_session_length\")"
   ]
  },
  {
   "cell_type": "code",
   "execution_count": 17,
   "metadata": {},
   "outputs": [
    {
     "name": "stdout",
     "output_type": "stream",
     "text": [
      "+---------+------------------+\n",
      "|  user_id|avg_session_length|\n",
      "+---------+------------------+\n",
      "|512700240| 336.2857142857143|\n",
      "|514013554|         44762.375|\n",
      "|514338009| 161.1595744680851|\n",
      "|514747635|               0.0|\n",
      "|516092497|108.26666666666667|\n",
      "+---------+------------------+\n",
      "only showing top 5 rows\n",
      "\n"
     ]
    }
   ],
   "source": [
    "avg_sess.show(5)"
   ]
  },
  {
   "cell_type": "code",
   "execution_count": 18,
   "metadata": {},
   "outputs": [
    {
     "name": "stdout",
     "output_type": "stream",
     "text": [
      "219080\n",
      "+---------+------------------+------------------+------------+--------------+------------------+\n",
      "|  user_id|     T_total_spend|       total_spend|total_events|total_sessions|avg_session_length|\n",
      "+---------+------------------+------------------+------------+--------------+------------------+\n",
      "|512700240|14504.489959716797|1436.1799926757812|          66|             7| 336.2857142857143|\n",
      "|514013554| 7735.519714355469|               0.0|          52|             8|         44762.375|\n",
      "|514338009| 2786062.823135376| 269863.6780014038|       23472|            94| 161.1595744680851|\n",
      "|514747635|               0.0|               0.0|           1|             1|               0.0|\n",
      "|516092497|               0.0|               0.0|          38|            15|108.26666666666667|\n",
      "+---------+------------------+------------------+------------+--------------+------------------+\n",
      "only showing top 5 rows\n",
      "\n"
     ]
    }
   ],
   "source": [
    "full = full.join(avg_sess, full.user_id == avg_sess.user_id).drop(avg_sess.user_id)\n",
    "print(full.count())\n",
    "full.show(5)"
   ]
  },
  {
   "cell_type": "markdown",
   "metadata": {},
   "source": [
    "#### Std Deviation of session duration by person (sd_session_length)"
   ]
  },
  {
   "cell_type": "code",
   "execution_count": 19,
   "metadata": {},
   "outputs": [
    {
     "name": "stdout",
     "output_type": "stream",
     "text": [
      "+---------+--------------------+-------------------+-------------------+--------------+\n",
      "|  user_id|        user_session|    max(event_time)|    min(event_time)|session_length|\n",
      "+---------+--------------------+-------------------+-------------------+--------------+\n",
      "|514283509|ba808472-24ca-4a5...|2020-01-19 12:30:36|2020-01-19 12:30:36|             0|\n",
      "|524368563|c00a9199-98cb-412...|2020-01-08 11:43:08|2020-01-08 11:41:06|           122|\n",
      "|554064616|04d50e0d-b80c-44e...|2020-01-08 10:02:28|2020-01-08 10:02:28|             0|\n",
      "|554426664|a6aebb81-e68d-4fc...|2020-01-20 11:57:27|2020-01-20 11:48:18|           549|\n",
      "|560605592|535c77ff-60a7-432...|2020-01-21 13:03:42|2020-01-21 12:53:09|           633|\n",
      "+---------+--------------------+-------------------+-------------------+--------------+\n",
      "only showing top 5 rows\n",
      "\n"
     ]
    }
   ],
   "source": [
    "session_ends.show(5)"
   ]
  },
  {
   "cell_type": "code",
   "execution_count": 20,
   "metadata": {},
   "outputs": [],
   "source": [
    "sd_session_length = session_ends.groupBy('user_id') \\\n",
    "                                 .agg(stddev('session_length')) \\\n",
    "                                 .withColumnRenamed(\"stddev_samp(session_length)\", 'sd_session_length')"
   ]
  },
  {
   "cell_type": "code",
   "execution_count": 21,
   "metadata": {},
   "outputs": [
    {
     "name": "stdout",
     "output_type": "stream",
     "text": [
      "+---------+------------------+\n",
      "|  user_id| sd_session_length|\n",
      "+---------+------------------+\n",
      "|512700240|358.21209466167494|\n",
      "|514013554|126444.70285909568|\n",
      "|514338009| 255.1480827963551|\n",
      "|514747635|              null|\n",
      "|516092497|201.15149467384978|\n",
      "+---------+------------------+\n",
      "only showing top 5 rows\n",
      "\n"
     ]
    }
   ],
   "source": [
    "sd_session_length.show(5)"
   ]
  },
  {
   "cell_type": "code",
   "execution_count": 22,
   "metadata": {},
   "outputs": [],
   "source": [
    "full = full.join(sd_session_length, full.user_id == sd_session_length.user_id).drop(sd_session_length.user_id)"
   ]
  },
  {
   "cell_type": "markdown",
   "metadata": {},
   "source": [
    "#### UNFINISHED Distance from last interaction to end of month (seconds)\n"
   ]
  },
  {
   "cell_type": "code",
   "execution_count": 23,
   "metadata": {},
   "outputs": [],
   "source": [
    "# new_month = dt.datetime(2020,2,1,0,0).timestamp() # This is the epoch seconds of Feb 1, 2020 at midnight\n",
    "# new_month"
   ]
  },
  {
   "cell_type": "code",
   "execution_count": 24,
   "metadata": {},
   "outputs": [],
   "source": [
    "# last_interaction = m1.groupBy('user_id').agg(max('event_time'))\n",
    "# last_interaction.show()"
   ]
  },
  {
   "cell_type": "code",
   "execution_count": 25,
   "metadata": {},
   "outputs": [],
   "source": [
    "## last_int_dist = last_interaction.withColumn('time_from_end_month', timestamp(1580533200) - col('max(event_time)'))"
   ]
  },
  {
   "cell_type": "markdown",
   "metadata": {},
   "source": [
    "#### Average number of interactions per session (avg_interactions_per_session)"
   ]
  },
  {
   "cell_type": "code",
   "execution_count": 26,
   "metadata": {},
   "outputs": [],
   "source": [
    "interactions_per_session = m1.groupBy('user_id', 'user_session').agg(count('event_type'))"
   ]
  },
  {
   "cell_type": "code",
   "execution_count": 27,
   "metadata": {},
   "outputs": [
    {
     "name": "stdout",
     "output_type": "stream",
     "text": [
      "+---------+--------------------+-----------------+\n",
      "|  user_id|        user_session|count(event_type)|\n",
      "+---------+--------------------+-----------------+\n",
      "|514283509|ba808472-24ca-4a5...|                1|\n",
      "|524368563|c00a9199-98cb-412...|                4|\n",
      "|554064616|04d50e0d-b80c-44e...|                1|\n",
      "|554426664|a6aebb81-e68d-4fc...|                9|\n",
      "|560605592|535c77ff-60a7-432...|                6|\n",
      "+---------+--------------------+-----------------+\n",
      "only showing top 5 rows\n",
      "\n"
     ]
    }
   ],
   "source": [
    "interactions_per_session.show(5)"
   ]
  },
  {
   "cell_type": "code",
   "execution_count": 28,
   "metadata": {},
   "outputs": [],
   "source": [
    "avg_interactions_per_session = interactions_per_session.groupBy('user_id').avg('count(event_type)')"
   ]
  },
  {
   "cell_type": "code",
   "execution_count": 29,
   "metadata": {},
   "outputs": [],
   "source": [
    "avg_interactions_per_session = avg_interactions_per_session.withColumnRenamed('avg(count(event_type))', \"avg_interactions_per_session\")"
   ]
  },
  {
   "cell_type": "code",
   "execution_count": 30,
   "metadata": {},
   "outputs": [
    {
     "name": "stdout",
     "output_type": "stream",
     "text": [
      "+---------+-------------+-----------+------------+--------------+------------------+------------------+----------------------------+\n",
      "|  user_id|T_total_spend|total_spend|total_events|total_sessions|avg_session_length| sd_session_length|avg_interactions_per_session|\n",
      "+---------+-------------+-----------+------------+--------------+------------------+------------------+----------------------------+\n",
      "|405614124|          0.0|        0.0|           2|             2|               0.0|               0.0|                         1.0|\n",
      "|485991194|          0.0|        0.0|           3|             1|             398.0|              null|                         3.0|\n",
      "|496765250|          0.0|        0.0|           1|             1|               0.0|              null|                         1.0|\n",
      "|501980918|          0.0|        0.0|        2141|            40|          1955.925|3099.7057626077335|                      53.525|\n",
      "|502621333|          0.0|        0.0|           5|             3|221.66666666666666| 383.9379290111011|          1.6666666666666667|\n",
      "+---------+-------------+-----------+------------+--------------+------------------+------------------+----------------------------+\n",
      "only showing top 5 rows\n",
      "\n"
     ]
    }
   ],
   "source": [
    "full = full.join(avg_interactions_per_session, full.user_id == avg_interactions_per_session.user_id).drop(avg_interactions_per_session.user_id)\n",
    "full.show(5)"
   ]
  },
  {
   "cell_type": "markdown",
   "metadata": {},
   "source": [
    "#### Std Deviation of number of interactions per session per person (stddev_int_per_session)"
   ]
  },
  {
   "cell_type": "code",
   "execution_count": 31,
   "metadata": {},
   "outputs": [
    {
     "name": "stdout",
     "output_type": "stream",
     "text": [
      "+---------+---------------------------+\n",
      "|  user_id|sd_interactions_per_session|\n",
      "+---------+---------------------------+\n",
      "|512700240|          2.138089935299395|\n",
      "|514013554|         3.4121631178560534|\n",
      "|514338009|           6.08820433161764|\n",
      "|514747635|                       null|\n",
      "|516092497|         1.8464895909600494|\n",
      "+---------+---------------------------+\n",
      "only showing top 5 rows\n",
      "\n"
     ]
    }
   ],
   "source": [
    "std_interactions_per_session = interactions_per_session.groupBy('user_id') \\\n",
    "                                                       .agg(stddev('count(event_type)')) \\\n",
    "                                                       .withColumnRenamed(\"stddev_samp(count(event_type))\", 'sd_interactions_per_session')\n",
    "std_interactions_per_session.show(5)"
   ]
  },
  {
   "cell_type": "code",
   "execution_count": 32,
   "metadata": {},
   "outputs": [
    {
     "name": "stdout",
     "output_type": "stream",
     "text": [
      "+---------+-------------+-----------+------------+--------------+------------------+------------------+----------------------------+---------------------------+\n",
      "|  user_id|T_total_spend|total_spend|total_events|total_sessions|avg_session_length| sd_session_length|avg_interactions_per_session|sd_interactions_per_session|\n",
      "+---------+-------------+-----------+------------+--------------+------------------+------------------+----------------------------+---------------------------+\n",
      "|405614124|          0.0|        0.0|           2|             2|               0.0|               0.0|                         1.0|                        0.0|\n",
      "|485991194|          0.0|        0.0|           3|             1|             398.0|              null|                         3.0|                       null|\n",
      "|496765250|          0.0|        0.0|           1|             1|               0.0|              null|                         1.0|                       null|\n",
      "|501980918|          0.0|        0.0|        2141|            40|          1955.925|3099.7057626077335|                      53.525|          78.74691284140147|\n",
      "|502621333|          0.0|        0.0|           5|             3|221.66666666666666| 383.9379290111011|          1.6666666666666667|         1.1547005383792515|\n",
      "+---------+-------------+-----------+------------+--------------+------------------+------------------+----------------------------+---------------------------+\n",
      "only showing top 5 rows\n",
      "\n"
     ]
    }
   ],
   "source": [
    "full = full.join(std_interactions_per_session, full.user_id == std_interactions_per_session.user_id).drop(std_interactions_per_session.user_id)\n",
    "full.show(5)"
   ]
  },
  {
   "cell_type": "markdown",
   "metadata": {},
   "source": [
    "#### Max number of interactions within one session (max_interactions_one_session)"
   ]
  },
  {
   "cell_type": "code",
   "execution_count": 33,
   "metadata": {},
   "outputs": [],
   "source": [
    "max_interactions_per_session = interactions_per_session.groupBy('user_id').max('count(event_type)')"
   ]
  },
  {
   "cell_type": "code",
   "execution_count": 34,
   "metadata": {},
   "outputs": [],
   "source": [
    "max_interactions_per_session = max_interactions_per_session.withColumnRenamed('max(count(event_type))', \"max_interactions_per_session\")"
   ]
  },
  {
   "cell_type": "code",
   "execution_count": 35,
   "metadata": {},
   "outputs": [
    {
     "name": "stdout",
     "output_type": "stream",
     "text": [
      "+---------+----------------------------+\n",
      "|  user_id|max_interactions_per_session|\n",
      "+---------+----------------------------+\n",
      "|512700240|                           7|\n",
      "+---------+----------------------------+\n",
      "only showing top 1 row\n",
      "\n"
     ]
    }
   ],
   "source": [
    "max_interactions_per_session.show(1)"
   ]
  },
  {
   "cell_type": "code",
   "execution_count": 36,
   "metadata": {},
   "outputs": [
    {
     "name": "stdout",
     "output_type": "stream",
     "text": [
      "+---------+-------------+-----------+------------+--------------+------------------+------------------+----------------------------+---------------------------+----------------------------+\n",
      "|  user_id|T_total_spend|total_spend|total_events|total_sessions|avg_session_length| sd_session_length|avg_interactions_per_session|sd_interactions_per_session|max_interactions_per_session|\n",
      "+---------+-------------+-----------+------------+--------------+------------------+------------------+----------------------------+---------------------------+----------------------------+\n",
      "|405614124|          0.0|        0.0|           2|             2|               0.0|               0.0|                         1.0|                        0.0|                           1|\n",
      "|485991194|          0.0|        0.0|           3|             1|             398.0|              null|                         3.0|                       null|                           3|\n",
      "|496765250|          0.0|        0.0|           1|             1|               0.0|              null|                         1.0|                       null|                           1|\n",
      "|501980918|          0.0|        0.0|        2141|            40|          1955.925|3099.7057626077335|                      53.525|          78.74691284140147|                         265|\n",
      "|502621333|          0.0|        0.0|           5|             3|221.66666666666666| 383.9379290111011|          1.6666666666666667|         1.1547005383792515|                           3|\n",
      "+---------+-------------+-----------+------------+--------------+------------------+------------------+----------------------------+---------------------------+----------------------------+\n",
      "only showing top 5 rows\n",
      "\n"
     ]
    }
   ],
   "source": [
    "full = full.join(max_interactions_per_session, full.user_id == max_interactions_per_session.user_id).drop(max_interactions_per_session.user_id)\n",
    "full.show(5)"
   ]
  },
  {
   "cell_type": "markdown",
   "metadata": {},
   "source": [
    "#### Percent of total events that are x (Purchase, Cart, View) ('purchase_pct_of_total_events', 'cart_pct_of_total_events', 'view_pct_of_total_events')"
   ]
  },
  {
   "cell_type": "code",
   "execution_count": 37,
   "metadata": {},
   "outputs": [],
   "source": [
    "event_counts = m1.groupBy('user_id', 'user_session').pivot('event_type').agg(count('event_type'))\n",
    "# Here the three types of event count are pivoted out for later tabulation"
   ]
  },
  {
   "cell_type": "code",
   "execution_count": 38,
   "metadata": {},
   "outputs": [
    {
     "name": "stdout",
     "output_type": "stream",
     "text": [
      "+---------+--------------------+----+--------+----+\n",
      "|  user_id|        user_session|cart|purchase|view|\n",
      "+---------+--------------------+----+--------+----+\n",
      "|602491865|7ec0e1e6-94e0-493...|   0|       0|   4|\n",
      "|552639168|d335b338-322b-4eb...|   1|       1|   2|\n",
      "|581273021|847d49fa-06a5-438...|   0|       0|   3|\n",
      "|515047041|591cd0ea-f290-47c...|   0|       0|   1|\n",
      "|591332625|1f8c24dd-9574-47c...|   1|       0|  14|\n",
      "+---------+--------------------+----+--------+----+\n",
      "only showing top 5 rows\n",
      "\n"
     ]
    }
   ],
   "source": [
    "event_counts = event_counts.fillna(0) #replace nulls with 0 for math\n",
    "event_counts.show(5)"
   ]
  },
  {
   "cell_type": "code",
   "execution_count": 39,
   "metadata": {},
   "outputs": [],
   "source": [
    "events_per_session = event_counts.withColumn('events_per_session_total', col('cart') + col('purchase') + col('view')) \n",
    "# Get total number of events per session"
   ]
  },
  {
   "cell_type": "code",
   "execution_count": 40,
   "metadata": {},
   "outputs": [
    {
     "name": "stdout",
     "output_type": "stream",
     "text": [
      "+---------+--------------------+----+--------+----+------------------------+\n",
      "|  user_id|        user_session|cart|purchase|view|events_per_session_total|\n",
      "+---------+--------------------+----+--------+----+------------------------+\n",
      "|602491865|7ec0e1e6-94e0-493...|   0|       0|   4|                       4|\n",
      "|552639168|d335b338-322b-4eb...|   1|       1|   2|                       4|\n",
      "|581273021|847d49fa-06a5-438...|   0|       0|   3|                       3|\n",
      "|515047041|591cd0ea-f290-47c...|   0|       0|   1|                       1|\n",
      "|591332625|1f8c24dd-9574-47c...|   1|       0|  14|                      15|\n",
      "+---------+--------------------+----+--------+----+------------------------+\n",
      "only showing top 5 rows\n",
      "\n"
     ]
    }
   ],
   "source": [
    "events_per_session.show(5)"
   ]
  },
  {
   "cell_type": "code",
   "execution_count": 41,
   "metadata": {},
   "outputs": [],
   "source": [
    "pct_events = events_per_session.groupBy('user_id').sum()"
   ]
  },
  {
   "cell_type": "code",
   "execution_count": 42,
   "metadata": {},
   "outputs": [],
   "source": [
    "pct_totalevents = pct_events.withColumn('purchase_pct_of_total_events', col('sum(purchase)')/col('sum(events_per_session_total)')) \\\n",
    "                  .withColumn('view_pct_of_total_events', col('sum(view)')/col('sum(events_per_session_total)')) \\\n",
    "                  .withColumn('cart_pct_of_total_events', col('sum(cart)')/col('sum(events_per_session_total)'))"
   ]
  },
  {
   "cell_type": "code",
   "execution_count": 44,
   "metadata": {},
   "outputs": [],
   "source": [
    "merge_me = pct_totalevents.select('user_id', 'purchase_pct_of_total_events', 'view_pct_of_total_events', 'cart_pct_of_total_events')"
   ]
  },
  {
   "cell_type": "code",
   "execution_count": 45,
   "metadata": {},
   "outputs": [
    {
     "name": "stdout",
     "output_type": "stream",
     "text": [
      "+---------+-------------+-----------+------------+--------------+------------------+------------------+----------------------------+---------------------------+----------------------------+----------------------------+------------------------+------------------------+\n",
      "|  user_id|T_total_spend|total_spend|total_events|total_sessions|avg_session_length| sd_session_length|avg_interactions_per_session|sd_interactions_per_session|max_interactions_per_session|purchase_pct_of_total_events|view_pct_of_total_events|cart_pct_of_total_events|\n",
      "+---------+-------------+-----------+------------+--------------+------------------+------------------+----------------------------+---------------------------+----------------------------+----------------------------+------------------------+------------------------+\n",
      "|405614124|          0.0|        0.0|           2|             2|               0.0|               0.0|                         1.0|                        0.0|                           1|                         0.0|                     1.0|                     0.0|\n",
      "|485991194|          0.0|        0.0|           3|             1|             398.0|              null|                         3.0|                       null|                           3|                         0.0|                     1.0|                     0.0|\n",
      "|496765250|          0.0|        0.0|           1|             1|               0.0|              null|                         1.0|                       null|                           1|                         0.0|                     1.0|                     0.0|\n",
      "|501980918|          0.0|        0.0|        2141|            40|          1955.925|3099.7057626077335|                      53.525|          78.74691284140147|                         265|                         0.0|                     1.0|                     0.0|\n",
      "|502621333|          0.0|        0.0|           5|             3|221.66666666666666| 383.9379290111011|          1.6666666666666667|         1.1547005383792515|                           3|                         0.0|                     1.0|                     0.0|\n",
      "+---------+-------------+-----------+------------+--------------+------------------+------------------+----------------------------+---------------------------+----------------------------+----------------------------+------------------------+------------------------+\n",
      "only showing top 5 rows\n",
      "\n"
     ]
    }
   ],
   "source": [
    "full = full.join(merge_me, full.user_id == merge_me.user_id).drop(merge_me.user_id)\n",
    "full.show(5)"
   ]
  },
  {
   "cell_type": "markdown",
   "metadata": {},
   "source": [
    "#### Average number of purchases per session (avg_purchases_per_session)"
   ]
  },
  {
   "cell_type": "code",
   "execution_count": 46,
   "metadata": {},
   "outputs": [],
   "source": [
    "avg_purchases_per_session = events_per_session.groupBy('user_id').avg('purchase').withColumnRenamed('avg(purchase)', \"avg_purchases_per_session\")"
   ]
  },
  {
   "cell_type": "code",
   "execution_count": 47,
   "metadata": {},
   "outputs": [
    {
     "name": "stdout",
     "output_type": "stream",
     "text": [
      "+---------+-------------------------+\n",
      "|  user_id|avg_purchases_per_session|\n",
      "+---------+-------------------------+\n",
      "|512700240|       0.5714285714285714|\n",
      "|539141084|                     0.04|\n",
      "|606753158|                      0.0|\n",
      "|575813444|                      0.0|\n",
      "|581503547|                      0.0|\n",
      "+---------+-------------------------+\n",
      "only showing top 5 rows\n",
      "\n"
     ]
    }
   ],
   "source": [
    "avg_purchases_per_session.show(5)"
   ]
  },
  {
   "cell_type": "code",
   "execution_count": 48,
   "metadata": {},
   "outputs": [
    {
     "name": "stdout",
     "output_type": "stream",
     "text": [
      "+---------+-------------+-----------+------------+--------------+------------------+------------------+----------------------------+---------------------------+----------------------------+----------------------------+------------------------+------------------------+-------------------------+\n",
      "|  user_id|T_total_spend|total_spend|total_events|total_sessions|avg_session_length| sd_session_length|avg_interactions_per_session|sd_interactions_per_session|max_interactions_per_session|purchase_pct_of_total_events|view_pct_of_total_events|cart_pct_of_total_events|avg_purchases_per_session|\n",
      "+---------+-------------+-----------+------------+--------------+------------------+------------------+----------------------------+---------------------------+----------------------------+----------------------------+------------------------+------------------------+-------------------------+\n",
      "|405614124|          0.0|        0.0|           2|             2|               0.0|               0.0|                         1.0|                        0.0|                           1|                         0.0|                     1.0|                     0.0|                      0.0|\n",
      "|485991194|          0.0|        0.0|           3|             1|             398.0|              null|                         3.0|                       null|                           3|                         0.0|                     1.0|                     0.0|                      0.0|\n",
      "|496765250|          0.0|        0.0|           1|             1|               0.0|              null|                         1.0|                       null|                           1|                         0.0|                     1.0|                     0.0|                      0.0|\n",
      "|501980918|          0.0|        0.0|        2141|            40|          1955.925|3099.7057626077335|                      53.525|          78.74691284140147|                         265|                         0.0|                     1.0|                     0.0|                      0.0|\n",
      "|502621333|          0.0|        0.0|           5|             3|221.66666666666666| 383.9379290111011|          1.6666666666666667|         1.1547005383792515|                           3|                         0.0|                     1.0|                     0.0|                      0.0|\n",
      "+---------+-------------+-----------+------------+--------------+------------------+------------------+----------------------------+---------------------------+----------------------------+----------------------------+------------------------+------------------------+-------------------------+\n",
      "only showing top 5 rows\n",
      "\n"
     ]
    }
   ],
   "source": [
    "full = full.join(avg_purchases_per_session, full.user_id == avg_purchases_per_session.user_id).drop(avg_purchases_per_session.user_id)\n",
    "full.show(5)"
   ]
  },
  {
   "cell_type": "markdown",
   "metadata": {},
   "source": [
    "#### STD of number of purchases per session per person (std_purchases_per_session)"
   ]
  },
  {
   "cell_type": "code",
   "execution_count": 49,
   "metadata": {},
   "outputs": [
    {
     "name": "stdout",
     "output_type": "stream",
     "text": [
      "+---------+------------------------+\n",
      "|  user_id|sd_purchases_per_session|\n",
      "+---------+------------------------+\n",
      "|512700240|      0.5345224838248488|\n",
      "|539141084|                     0.2|\n",
      "|606753158|                     0.0|\n",
      "|575813444|                     0.0|\n",
      "|581503547|                     0.0|\n",
      "+---------+------------------------+\n",
      "only showing top 5 rows\n",
      "\n"
     ]
    }
   ],
   "source": [
    "std_purchases_per_session = events_per_session.groupBy('user_id') \\\n",
    "                                              .agg(stddev('purchase')) \\\n",
    "                                              .withColumnRenamed('stddev_samp(purchase)', \"sd_purchases_per_session\")\n",
    "std_purchases_per_session.show(5)"
   ]
  },
  {
   "cell_type": "code",
   "execution_count": 50,
   "metadata": {},
   "outputs": [
    {
     "name": "stdout",
     "output_type": "stream",
     "text": [
      "+---------+-------------+-----------+------------+--------------+------------------+------------------+----------------------------+---------------------------+----------------------------+----------------------------+------------------------+------------------------+-------------------------+------------------------+\n",
      "|  user_id|T_total_spend|total_spend|total_events|total_sessions|avg_session_length| sd_session_length|avg_interactions_per_session|sd_interactions_per_session|max_interactions_per_session|purchase_pct_of_total_events|view_pct_of_total_events|cart_pct_of_total_events|avg_purchases_per_session|sd_purchases_per_session|\n",
      "+---------+-------------+-----------+------------+--------------+------------------+------------------+----------------------------+---------------------------+----------------------------+----------------------------+------------------------+------------------------+-------------------------+------------------------+\n",
      "|405614124|          0.0|        0.0|           2|             2|               0.0|               0.0|                         1.0|                        0.0|                           1|                         0.0|                     1.0|                     0.0|                      0.0|                     0.0|\n",
      "|485991194|          0.0|        0.0|           3|             1|             398.0|              null|                         3.0|                       null|                           3|                         0.0|                     1.0|                     0.0|                      0.0|                    null|\n",
      "|496765250|          0.0|        0.0|           1|             1|               0.0|              null|                         1.0|                       null|                           1|                         0.0|                     1.0|                     0.0|                      0.0|                    null|\n",
      "|501980918|          0.0|        0.0|        2141|            40|          1955.925|3099.7057626077335|                      53.525|          78.74691284140147|                         265|                         0.0|                     1.0|                     0.0|                      0.0|                     0.0|\n",
      "|502621333|          0.0|        0.0|           5|             3|221.66666666666666| 383.9379290111011|          1.6666666666666667|         1.1547005383792515|                           3|                         0.0|                     1.0|                     0.0|                      0.0|                     0.0|\n",
      "+---------+-------------+-----------+------------+--------------+------------------+------------------+----------------------------+---------------------------+----------------------------+----------------------------+------------------------+------------------------+-------------------------+------------------------+\n",
      "only showing top 5 rows\n",
      "\n"
     ]
    }
   ],
   "source": [
    "full = full.join(std_purchases_per_session, full.user_id == std_purchases_per_session.user_id).drop(std_purchases_per_session.user_id)\n",
    "full.show(5)"
   ]
  },
  {
   "cell_type": "markdown",
   "metadata": {},
   "source": [
    "#### Total number of each type of event over whole month (monthlyCartTotal, monthlyPurchaseTotal, monthlyViewTotal)"
   ]
  },
  {
   "cell_type": "code",
   "execution_count": 51,
   "metadata": {},
   "outputs": [],
   "source": [
    "event_counts_month = event_counts.groupBy('user_id').sum('cart', 'purchase', 'view')\\\n",
    "                     .withColumnRenamed('sum(cart)', 'cart_events') \\\n",
    "                     .withColumnRenamed('sum(purchase)', 'purchase_events') \\\n",
    "                     .withColumnRenamed('sum(view)', 'view_events')"
   ]
  },
  {
   "cell_type": "code",
   "execution_count": 52,
   "metadata": {},
   "outputs": [
    {
     "name": "stdout",
     "output_type": "stream",
     "text": [
      "+---------+-----------+---------------+-----------+\n",
      "|  user_id|cart_events|purchase_events|view_events|\n",
      "+---------+-----------+---------------+-----------+\n",
      "|512700240|          6|              4|         23|\n",
      "|539141084|          2|              1|        184|\n",
      "|606753158|          0|              0|          5|\n",
      "|575813444|          0|              0|          9|\n",
      "|581503547|          2|              0|         57|\n",
      "+---------+-----------+---------------+-----------+\n",
      "only showing top 5 rows\n",
      "\n"
     ]
    }
   ],
   "source": [
    "event_counts_month.show(5)"
   ]
  },
  {
   "cell_type": "code",
   "execution_count": 53,
   "metadata": {},
   "outputs": [
    {
     "name": "stdout",
     "output_type": "stream",
     "text": [
      "+---------+-------------+-----------+------------+--------------+------------------+------------------+----------------------------+---------------------------+----------------------------+----------------------------+------------------------+------------------------+-------------------------+------------------------+-----------+---------------+-----------+\n",
      "|  user_id|T_total_spend|total_spend|total_events|total_sessions|avg_session_length| sd_session_length|avg_interactions_per_session|sd_interactions_per_session|max_interactions_per_session|purchase_pct_of_total_events|view_pct_of_total_events|cart_pct_of_total_events|avg_purchases_per_session|sd_purchases_per_session|cart_events|purchase_events|view_events|\n",
      "+---------+-------------+-----------+------------+--------------+------------------+------------------+----------------------------+---------------------------+----------------------------+----------------------------+------------------------+------------------------+-------------------------+------------------------+-----------+---------------+-----------+\n",
      "|405614124|          0.0|        0.0|           2|             2|               0.0|               0.0|                         1.0|                        0.0|                           1|                         0.0|                     1.0|                     0.0|                      0.0|                     0.0|          0|              0|          2|\n",
      "|485991194|          0.0|        0.0|           3|             1|             398.0|              null|                         3.0|                       null|                           3|                         0.0|                     1.0|                     0.0|                      0.0|                    null|          0|              0|          3|\n",
      "|496765250|          0.0|        0.0|           1|             1|               0.0|              null|                         1.0|                       null|                           1|                         0.0|                     1.0|                     0.0|                      0.0|                    null|          0|              0|          1|\n",
      "|501980918|          0.0|        0.0|        2141|            40|          1955.925|3099.7057626077335|                      53.525|          78.74691284140147|                         265|                         0.0|                     1.0|                     0.0|                      0.0|                     0.0|          0|              0|       2141|\n",
      "|502621333|          0.0|        0.0|           5|             3|221.66666666666666| 383.9379290111011|          1.6666666666666667|         1.1547005383792515|                           3|                         0.0|                     1.0|                     0.0|                      0.0|                     0.0|          0|              0|          5|\n",
      "+---------+-------------+-----------+------------+--------------+------------------+------------------+----------------------------+---------------------------+----------------------------+----------------------------+------------------------+------------------------+-------------------------+------------------------+-----------+---------------+-----------+\n",
      "only showing top 5 rows\n",
      "\n"
     ]
    }
   ],
   "source": [
    "full = full.join(event_counts_month, full.user_id == event_counts_month.user_id).drop(event_counts_month.user_id)\n",
    "full.show(5)"
   ]
  },
  {
   "cell_type": "markdown",
   "metadata": {},
   "source": [
    "#### Total number of sessions that contain event over whole month (NumSessWithPurchases, NumSessWithCart, NumSessWithView)"
   ]
  },
  {
   "cell_type": "code",
   "execution_count": 54,
   "metadata": {},
   "outputs": [],
   "source": [
    "events_over_month = events_per_session.withColumn('purchase_events', when(col('purchase') == 0, 0).otherwise(1)) \\\n",
    "                                      .withColumn('cart_events', when(col('cart')==0, 0).otherwise(1)) \\\n",
    "                                      .withColumn('view_events', when(col('view')==0, 0).otherwise(1))"
   ]
  },
  {
   "cell_type": "code",
   "execution_count": 55,
   "metadata": {},
   "outputs": [],
   "source": [
    "num_sesh_containing_event = events_over_month.groupBy('user_id').sum('purchase_events', \"cart_events\", \"view_events\") \\\n",
    "                            .withColumnRenamed(\"sum(purchase_events)\", \"sessions_with_purchase\") \\\n",
    "                            .withColumnRenamed(\"sum(cart_events)\", \"sessions_with_cart\") \\\n",
    "                            .withColumnRenamed(\"sum(view_events)\", \"sessions_with_view\")"
   ]
  },
  {
   "cell_type": "code",
   "execution_count": 56,
   "metadata": {},
   "outputs": [
    {
     "name": "stdout",
     "output_type": "stream",
     "text": [
      "+---------+----------------------+------------------+------------------+\n",
      "|  user_id|sessions_with_purchase|sessions_with_cart|sessions_with_view|\n",
      "+---------+----------------------+------------------+------------------+\n",
      "|512700240|                     4|                 4|                 7|\n",
      "|539141084|                     1|                 1|                25|\n",
      "|606753158|                     0|                 0|                 2|\n",
      "|575813444|                     0|                 0|                 7|\n",
      "|581503547|                     0|                 2|                10|\n",
      "+---------+----------------------+------------------+------------------+\n",
      "only showing top 5 rows\n",
      "\n"
     ]
    }
   ],
   "source": [
    "num_sesh_containing_event.show(5)"
   ]
  },
  {
   "cell_type": "code",
   "execution_count": 57,
   "metadata": {},
   "outputs": [
    {
     "name": "stdout",
     "output_type": "stream",
     "text": [
      "+---------+-------------+-----------+------------+--------------+------------------+------------------+----------------------------+---------------------------+----------------------------+----------------------------+------------------------+------------------------+-------------------------+------------------------+-----------+---------------+-----------+----------------------+------------------+------------------+\n",
      "|  user_id|T_total_spend|total_spend|total_events|total_sessions|avg_session_length| sd_session_length|avg_interactions_per_session|sd_interactions_per_session|max_interactions_per_session|purchase_pct_of_total_events|view_pct_of_total_events|cart_pct_of_total_events|avg_purchases_per_session|sd_purchases_per_session|cart_events|purchase_events|view_events|sessions_with_purchase|sessions_with_cart|sessions_with_view|\n",
      "+---------+-------------+-----------+------------+--------------+------------------+------------------+----------------------------+---------------------------+----------------------------+----------------------------+------------------------+------------------------+-------------------------+------------------------+-----------+---------------+-----------+----------------------+------------------+------------------+\n",
      "|405614124|          0.0|        0.0|           2|             2|               0.0|               0.0|                         1.0|                        0.0|                           1|                         0.0|                     1.0|                     0.0|                      0.0|                     0.0|          0|              0|          2|                     0|                 0|                 2|\n",
      "|485991194|          0.0|        0.0|           3|             1|             398.0|              null|                         3.0|                       null|                           3|                         0.0|                     1.0|                     0.0|                      0.0|                    null|          0|              0|          3|                     0|                 0|                 1|\n",
      "|496765250|          0.0|        0.0|           1|             1|               0.0|              null|                         1.0|                       null|                           1|                         0.0|                     1.0|                     0.0|                      0.0|                    null|          0|              0|          1|                     0|                 0|                 1|\n",
      "|501980918|          0.0|        0.0|        2141|            40|          1955.925|3099.7057626077335|                      53.525|          78.74691284140147|                         265|                         0.0|                     1.0|                     0.0|                      0.0|                     0.0|          0|              0|       2141|                     0|                 0|                40|\n",
      "|502621333|          0.0|        0.0|           5|             3|221.66666666666666| 383.9379290111011|          1.6666666666666667|         1.1547005383792515|                           3|                         0.0|                     1.0|                     0.0|                      0.0|                     0.0|          0|              0|          5|                     0|                 0|                 3|\n",
      "+---------+-------------+-----------+------------+--------------+------------------+------------------+----------------------------+---------------------------+----------------------------+----------------------------+------------------------+------------------------+-------------------------+------------------------+-----------+---------------+-----------+----------------------+------------------+------------------+\n",
      "only showing top 5 rows\n",
      "\n"
     ]
    }
   ],
   "source": [
    "full = full.join(num_sesh_containing_event, full.user_id == num_sesh_containing_event.user_id).drop(num_sesh_containing_event.user_id)\n",
    "full.show(5)"
   ]
  },
  {
   "cell_type": "markdown",
   "metadata": {},
   "source": [
    "#### Percent of individual's sessions that end in cart/purchase (ses_end_purch, ses_end_cart)"
   ]
  },
  {
   "cell_type": "code",
   "execution_count": 58,
   "metadata": {},
   "outputs": [
    {
     "name": "stdout",
     "output_type": "stream",
     "text": [
      "+---------+--------------------+----+--------+----+------------+--------+\n",
      "|  user_id|        user_session|cart|purchase|view|end_purchase|end_cart|\n",
      "+---------+--------------------+----+--------+----+------------+--------+\n",
      "|602491865|7ec0e1e6-94e0-493...|   0|       0|   4|           0|       0|\n",
      "|552639168|d335b338-322b-4eb...|   1|       1|   2|           1|       0|\n",
      "|581273021|847d49fa-06a5-438...|   0|       0|   3|           0|       0|\n",
      "|515047041|591cd0ea-f290-47c...|   0|       0|   1|           0|       0|\n",
      "|591332625|1f8c24dd-9574-47c...|   1|       0|  14|           0|       1|\n",
      "+---------+--------------------+----+--------+----+------------+--------+\n",
      "only showing top 5 rows\n",
      "\n"
     ]
    }
   ],
   "source": [
    "session_ends2 = event_counts.withColumn('end_purchase', \\\n",
    "                                when(col('purchase') != 0, 1) \\\n",
    "                                .otherwise(0)) \\\n",
    "                            .withColumn('end_cart', \\\n",
    "                                when((col(\"purchase\") == 0) & (col(\"cart\") != 0), 1) \\\n",
    "                                .otherwise(0))\n",
    "session_ends2.show(5)"
   ]
  },
  {
   "cell_type": "code",
   "execution_count": 59,
   "metadata": {},
   "outputs": [
    {
     "name": "stdout",
     "output_type": "stream",
     "text": [
      "+---------+-------------------+-----------------+-------------+\n",
      "|  user_id|count(user_session)|sum(end_purchase)|sum(end_cart)|\n",
      "+---------+-------------------+-----------------+-------------+\n",
      "|512700240|                  7|                4|            0|\n",
      "|539141084|                 25|                1|            0|\n",
      "|606753158|                  2|                0|            0|\n",
      "|575813444|                  7|                0|            0|\n",
      "|581503547|                 10|                0|            2|\n",
      "+---------+-------------------+-----------------+-------------+\n",
      "only showing top 5 rows\n",
      "\n"
     ]
    }
   ],
   "source": [
    "session_sum = session_ends2.groupBy('user_id').agg(count('user_session'), sum('end_purchase'), sum('end_cart'))\n",
    "session_sum.show(5)"
   ]
  },
  {
   "cell_type": "code",
   "execution_count": 61,
   "metadata": {},
   "outputs": [
    {
     "name": "stdout",
     "output_type": "stream",
     "text": [
      "+---------+-------------------+-----------------+-------------+-------------------------+---------------------+\n",
      "|  user_id|count(user_session)|sum(end_purchase)|sum(end_cart)|pct_sessions_end_purchase|pct_sessions_end_cart|\n",
      "+---------+-------------------+-----------------+-------------+-------------------------+---------------------+\n",
      "|512700240|                  7|                4|            0|       0.5714285714285714|                  0.0|\n",
      "|539141084|                 25|                1|            0|                     0.04|                  0.0|\n",
      "|606753158|                  2|                0|            0|                      0.0|                  0.0|\n",
      "|575813444|                  7|                0|            0|                      0.0|                  0.0|\n",
      "|581503547|                 10|                0|            2|                      0.0|                  0.2|\n",
      "+---------+-------------------+-----------------+-------------+-------------------------+---------------------+\n",
      "only showing top 5 rows\n",
      "\n"
     ]
    }
   ],
   "source": [
    "session_sum = session_sum.withColumn('pct_sessions_end_purchase', col('sum(end_purchase)')/col('count(user_session)')) \\\n",
    "                         .withColumn('pct_sessions_end_cart', col('sum(end_cart)')/col('count(user_session)'))\n",
    "session_sum.show(5)"
   ]
  },
  {
   "cell_type": "code",
   "execution_count": 62,
   "metadata": {},
   "outputs": [
    {
     "name": "stdout",
     "output_type": "stream",
     "text": [
      "+---------+-------------------------+---------------------+\n",
      "|  user_id|pct_sessions_end_purchase|pct_sessions_end_cart|\n",
      "+---------+-------------------------+---------------------+\n",
      "|512700240|       0.5714285714285714|                  0.0|\n",
      "|539141084|                     0.04|                  0.0|\n",
      "|606753158|                      0.0|                  0.0|\n",
      "|575813444|                      0.0|                  0.0|\n",
      "|581503547|                      0.0|                  0.2|\n",
      "+---------+-------------------------+---------------------+\n",
      "only showing top 5 rows\n",
      "\n"
     ]
    }
   ],
   "source": [
    "temp = session_sum.select('user_id', \"pct_sessions_end_purchase\", \"pct_sessions_end_cart\")\n",
    "temp.show(5)"
   ]
  },
  {
   "cell_type": "code",
   "execution_count": 63,
   "metadata": {},
   "outputs": [
    {
     "name": "stdout",
     "output_type": "stream",
     "text": [
      "+---------+-------------+-----------+------------+--------------+------------------+------------------+----------------------------+---------------------------+----------------------------+----------------------------+------------------------+------------------------+-------------------------+------------------------+-----------+---------------+-----------+----------------------+------------------+------------------+-------------------------+---------------------+\n",
      "|  user_id|T_total_spend|total_spend|total_events|total_sessions|avg_session_length| sd_session_length|avg_interactions_per_session|sd_interactions_per_session|max_interactions_per_session|purchase_pct_of_total_events|view_pct_of_total_events|cart_pct_of_total_events|avg_purchases_per_session|sd_purchases_per_session|cart_events|purchase_events|view_events|sessions_with_purchase|sessions_with_cart|sessions_with_view|pct_sessions_end_purchase|pct_sessions_end_cart|\n",
      "+---------+-------------+-----------+------------+--------------+------------------+------------------+----------------------------+---------------------------+----------------------------+----------------------------+------------------------+------------------------+-------------------------+------------------------+-----------+---------------+-----------+----------------------+------------------+------------------+-------------------------+---------------------+\n",
      "|405614124|          0.0|        0.0|           2|             2|               0.0|               0.0|                         1.0|                        0.0|                           1|                         0.0|                     1.0|                     0.0|                      0.0|                     0.0|          0|              0|          2|                     0|                 0|                 2|                      0.0|                  0.0|\n",
      "|485991194|          0.0|        0.0|           3|             1|             398.0|              null|                         3.0|                       null|                           3|                         0.0|                     1.0|                     0.0|                      0.0|                    null|          0|              0|          3|                     0|                 0|                 1|                      0.0|                  0.0|\n",
      "|496765250|          0.0|        0.0|           1|             1|               0.0|              null|                         1.0|                       null|                           1|                         0.0|                     1.0|                     0.0|                      0.0|                    null|          0|              0|          1|                     0|                 0|                 1|                      0.0|                  0.0|\n",
      "|501980918|          0.0|        0.0|        2141|            40|          1955.925|3099.7057626077335|                      53.525|          78.74691284140147|                         265|                         0.0|                     1.0|                     0.0|                      0.0|                     0.0|          0|              0|       2141|                     0|                 0|                40|                      0.0|                  0.0|\n",
      "|502621333|          0.0|        0.0|           5|             3|221.66666666666666| 383.9379290111011|          1.6666666666666667|         1.1547005383792515|                           3|                         0.0|                     1.0|                     0.0|                      0.0|                     0.0|          0|              0|          5|                     0|                 0|                 3|                      0.0|                  0.0|\n",
      "+---------+-------------+-----------+------------+--------------+------------------+------------------+----------------------------+---------------------------+----------------------------+----------------------------+------------------------+------------------------+-------------------------+------------------------+-----------+---------------+-----------+----------------------+------------------+------------------+-------------------------+---------------------+\n",
      "only showing top 5 rows\n",
      "\n"
     ]
    }
   ],
   "source": [
    "full = full.join(temp, full.user_id == temp.user_id).drop(temp.user_id)\n",
    "full.show(5)"
   ]
  },
  {
   "cell_type": "markdown",
   "metadata": {},
   "source": [
    "### Preview full dataframe"
   ]
  },
  {
   "cell_type": "code",
   "execution_count": 64,
   "metadata": {},
   "outputs": [
    {
     "name": "stdout",
     "output_type": "stream",
     "text": [
      "root\n",
      " |-- user_id: integer (nullable = true)\n",
      " |-- T_total_spend: double (nullable = true)\n",
      " |-- total_spend: double (nullable = true)\n",
      " |-- total_events: long (nullable = true)\n",
      " |-- total_sessions: long (nullable = true)\n",
      " |-- avg_session_length: double (nullable = true)\n",
      " |-- sd_session_length: double (nullable = true)\n",
      " |-- avg_interactions_per_session: double (nullable = true)\n",
      " |-- sd_interactions_per_session: double (nullable = true)\n",
      " |-- max_interactions_per_session: long (nullable = true)\n",
      " |-- purchase_pct_of_total_events: double (nullable = true)\n",
      " |-- view_pct_of_total_events: double (nullable = true)\n",
      " |-- cart_pct_of_total_events: double (nullable = true)\n",
      " |-- avg_purchases_per_session: double (nullable = true)\n",
      " |-- sd_purchases_per_session: double (nullable = true)\n",
      " |-- cart_events: long (nullable = true)\n",
      " |-- purchase_events: long (nullable = true)\n",
      " |-- view_events: long (nullable = true)\n",
      " |-- sessions_with_purchase: long (nullable = true)\n",
      " |-- sessions_with_cart: long (nullable = true)\n",
      " |-- sessions_with_view: long (nullable = true)\n",
      " |-- pct_sessions_end_purchase: double (nullable = true)\n",
      " |-- pct_sessions_end_cart: double (nullable = true)\n",
      "\n"
     ]
    }
   ],
   "source": [
    "full.printSchema()"
   ]
  },
  {
   "cell_type": "code",
   "execution_count": 65,
   "metadata": {},
   "outputs": [
    {
     "name": "stdout",
     "output_type": "stream",
     "text": [
      "+---------+-------------+-----------+------------+--------------+------------------+-----------------+----------------------------+---------------------------+----------------------------+----------------------------+------------------------+------------------------+-------------------------+------------------------+-----------+---------------+-----------+----------------------+------------------+------------------+-------------------------+---------------------+\n",
      "|  user_id|T_total_spend|total_spend|total_events|total_sessions|avg_session_length|sd_session_length|avg_interactions_per_session|sd_interactions_per_session|max_interactions_per_session|purchase_pct_of_total_events|view_pct_of_total_events|cart_pct_of_total_events|avg_purchases_per_session|sd_purchases_per_session|cart_events|purchase_events|view_events|sessions_with_purchase|sessions_with_cart|sessions_with_view|pct_sessions_end_purchase|pct_sessions_end_cart|\n",
      "+---------+-------------+-----------+------------+--------------+------------------+-----------------+----------------------------+---------------------------+----------------------------+----------------------------+------------------------+------------------------+-------------------------+------------------------+-----------+---------------+-----------+----------------------+------------------+------------------+-------------------------+---------------------+\n",
      "|405614124|          0.0|        0.0|           2|             2|               0.0|              0.0|                         1.0|                        0.0|                           1|                         0.0|                     1.0|                     0.0|                      0.0|                     0.0|          0|              0|          2|                     0|                 0|                 2|                      0.0|                  0.0|\n",
      "+---------+-------------+-----------+------------+--------------+------------------+-----------------+----------------------------+---------------------------+----------------------------+----------------------------+------------------------+------------------------+-------------------------+------------------------+-----------+---------------+-----------+----------------------+------------------+------------------+-------------------------+---------------------+\n",
      "only showing top 1 row\n",
      "\n"
     ]
    }
   ],
   "source": [
    "full.show(1)"
   ]
  },
  {
   "cell_type": "code",
   "execution_count": 66,
   "metadata": {},
   "outputs": [
    {
     "data": {
      "text/plain": [
       "219080"
      ]
     },
     "execution_count": 66,
     "metadata": {},
     "output_type": "execute_result"
    }
   ],
   "source": [
    "full.count()"
   ]
  },
  {
   "cell_type": "markdown",
   "metadata": {},
   "source": [
    "#### Save as parquet. (If saving in project group12 folder - Make sure to change permissions in bash using chmod 777 filename)"
   ]
  },
  {
   "cell_type": "code",
   "execution_count": 67,
   "metadata": {},
   "outputs": [
    {
     "name": "stdout",
     "output_type": "stream",
     "text": [
      "CPU times: user 2.05 ms, sys: 1.72 ms, total: 3.76 ms\n",
      "Wall time: 23.1 s\n"
     ]
    }
   ],
   "source": [
    "%%time\n",
    "full.write.mode(\"overwrite\").parquet(\"./processed_data/engineered_features.parquet\")"
   ]
  },
  {
   "cell_type": "code",
   "execution_count": 68,
   "metadata": {},
   "outputs": [
    {
     "name": "stdout",
     "output_type": "stream",
     "text": [
      "CPU times: user 310 µs, sys: 1.3 ms, total: 1.61 ms\n",
      "Wall time: 18 ms\n"
     ]
    }
   ],
   "source": [
    "%%time\n",
    "train, test = full.randomSplit([.8, .2], seed=42)"
   ]
  },
  {
   "cell_type": "code",
   "execution_count": 69,
   "metadata": {},
   "outputs": [
    {
     "name": "stdout",
     "output_type": "stream",
     "text": [
      "CPU times: user 4.19 ms, sys: 2.64 ms, total: 6.83 ms\n",
      "Wall time: 44.1 s\n"
     ]
    }
   ],
   "source": [
    "%%time\n",
    "train.write.mode(\"overwrite\").parquet(\"./processed_data/train.parquet\")\n",
    "test.write.mode(\"overwrite\").parquet(\"./processed_data/test.parquet\")"
   ]
  },
  {
   "cell_type": "code",
   "execution_count": null,
   "metadata": {},
   "outputs": [],
   "source": []
  }
 ],
 "metadata": {
  "kernelspec": {
   "display_name": "DS 5110 Spark 3.1",
   "language": "python",
   "name": "ds5110_spark3.1"
  },
  "language_info": {
   "codemirror_mode": {
    "name": "ipython",
    "version": 3
   },
   "file_extension": ".py",
   "mimetype": "text/x-python",
   "name": "python",
   "nbconvert_exporter": "python",
   "pygments_lexer": "ipython3",
   "version": "3.7.10"
  }
 },
 "nbformat": 4,
 "nbformat_minor": 4
}
