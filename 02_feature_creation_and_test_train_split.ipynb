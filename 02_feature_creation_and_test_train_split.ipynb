{
 "cells": [
  {
   "cell_type": "markdown",
   "metadata": {},
   "source": [
    "## File 04 - Feature Creation\n",
    "\n",
    "In this file, we create new features from our data"
   ]
  },
  {
   "cell_type": "markdown",
   "metadata": {},
   "source": [
    "### Set up Spark session and data schema\n",
    "\n",
    "We can specify more options in the SparkSession creator, but currently the options are at the default settings."
   ]
  },
  {
   "cell_type": "code",
   "execution_count": 1,
   "metadata": {},
   "outputs": [
    {
     "name": "stdout",
     "output_type": "stream",
     "text": [
      "CPU times: user 535 ms, sys: 352 ms, total: 887 ms\n",
      "Wall time: 5.68 s\n"
     ]
    }
   ],
   "source": [
    "%%time\n",
    "from pyspark.sql import SparkSession\n",
    "from pyspark.sql import types as T\n",
    "import matplotlib.pyplot as plt\n",
    "from pyspark.sql.functions import col\n",
    "from pyspark.ml.feature import MinMaxScaler\n",
    "from pyspark.ml.feature import VectorAssembler\n",
    "from pyspark.ml import Pipeline\n",
    "from pyspark.sql.functions import udf\n",
    "from pyspark.sql.types import DoubleType\n",
    "from pyspark.sql.functions import *\n",
    "import datetime as dt\n",
    "\n",
    "import sys\n",
    "spark = SparkSession.builder \\\n",
    "        .appName(\"project\") \\\n",
    "        .getOrCreate()\n",
    "\n",
    "sc = spark.sparkContext\n",
    "\n",
    "#schema = \"`event_time` TIMESTAMP,`event_type` STRING,`product_id` INT,`category_id` BIGINT,`category_code` STRING,`brand` STRING,`price` FLOAT,`user_id` INT,`user_session` STRING\"\n",
    "#ddl_schema = T._parse_datatype_string(schema)"
   ]
  },
  {
   "cell_type": "markdown",
   "metadata": {},
   "source": [
    "See https://docs.google.com/document/d/1NG4KGticBXn0D3PL5_zMxLV2Pr7A8PQtLcasxCOd1nA/edit for table of features."
   ]
  },
  {
   "cell_type": "markdown",
   "metadata": {},
   "source": [
    "### Read in data"
   ]
  },
  {
   "cell_type": "code",
   "execution_count": 2,
   "metadata": {},
   "outputs": [
    {
     "name": "stdout",
     "output_type": "stream",
     "text": [
      "CPU times: user 2.88 ms, sys: 1.78 ms, total: 4.65 ms\n",
      "Wall time: 2.88 s\n"
     ]
    }
   ],
   "source": [
    "%%time\n",
    "full = spark.read.parquet(\"/project/ds5559/group12/processed_data/output_from_03.parquet\")\n",
    "m1 = spark.read.parquet(\"/project/ds5559/group12/raw_data/FilteredJan2020M1.parquet\") # This brings in the data we can create additional features from"
   ]
  },
  {
   "cell_type": "code",
   "execution_count": 3,
   "metadata": {},
   "outputs": [
    {
     "name": "stdout",
     "output_type": "stream",
     "text": [
      "359105\n",
      "+---------+------------------+------------------+---------------+------------------+----------------+\n",
      "|  user_id|    m2_total_spend|    m1_total_spend|m1_total_events|m1_purchase_events|m1_user_sessions|\n",
      "+---------+------------------+------------------+---------------+------------------+----------------+\n",
      "|512407417|               0.0| 805.9299926757812|             42|                 1|              11|\n",
      "|512423995|               0.0|129.99000549316406|             88|                 1|              11|\n",
      "|512445637|               0.0|27.799999237060547|             50|                 1|               7|\n",
      "|512479812|50881.730712890625|166.19000244140625|             73|                 1|               9|\n",
      "|512541716|               0.0| 250.7100067138672|             53|                 1|              16|\n",
      "+---------+------------------+------------------+---------------+------------------+----------------+\n",
      "only showing top 5 rows\n",
      "\n"
     ]
    }
   ],
   "source": [
    "print(full.count())\n",
    "full.show(5)"
   ]
  },
  {
   "cell_type": "code",
   "execution_count": 4,
   "metadata": {},
   "outputs": [
    {
     "name": "stdout",
     "output_type": "stream",
     "text": [
      "15923973\n",
      "+---------+-------------------+----------+----------+-------------------+--------------------+-------+------+--------------------+------+\n",
      "|  user_id|         event_time|event_type|product_id|        category_id|       category_code|  brand| price|        user_session|Period|\n",
      "+---------+-------------------+----------+----------+-------------------+--------------------+-------+------+--------------------+------+\n",
      "|512366912|2020-01-15 09:53:20|      view|   1004856|2232732093077520756|construction.tool...|samsung|128.45|93ce8365-4c50-4d3...|     1|\n",
      "|512366912|2020-01-15 09:53:26|      view|   1004856|2232732093077520756|construction.tool...|samsung|128.45|93ce8365-4c50-4d3...|     1|\n",
      "|512366912|2020-01-15 09:53:46|      view|   1004856|2232732093077520756|construction.tool...|samsung|128.45|93ce8365-4c50-4d3...|     1|\n",
      "|512366912|2020-01-15 10:42:48|      view|   1004856|2232732093077520756|construction.tool...|samsung|128.45|c2f4ccfe-f0e9-4a7...|     1|\n",
      "|512366912|2020-01-16 07:53:52|      view|   1004856|2232732093077520756|construction.tool...|samsung|129.99|67aeb356-bce4-431...|     1|\n",
      "+---------+-------------------+----------+----------+-------------------+--------------------+-------+------+--------------------+------+\n",
      "only showing top 5 rows\n",
      "\n"
     ]
    }
   ],
   "source": [
    "print(m1.count())\n",
    "m1.show(5)"
   ]
  },
  {
   "cell_type": "markdown",
   "metadata": {},
   "source": [
    "## Begin Creating Features\n",
    "### Create each on an individual level, then join to full\n",
    "##### NOTE: Must rename all features so that they do not contain parenthesis - not compatable with saving to parquet"
   ]
  },
  {
   "cell_type": "markdown",
   "metadata": {},
   "source": [
    "_________________"
   ]
  },
  {
   "cell_type": "markdown",
   "metadata": {},
   "source": [
    "#### Number of items purchased per person, per category\n",
    "##### Commenting out for now - we'll have to think strategically about what 'huge' column sets we want"
   ]
  },
  {
   "cell_type": "code",
   "execution_count": 5,
   "metadata": {},
   "outputs": [],
   "source": [
    "#%%time\n",
    "#cats = m1.filter(m1.event_type == \"purchase\").groupBy('user_id').pivot('category_code').count()"
   ]
  },
  {
   "cell_type": "code",
   "execution_count": 6,
   "metadata": {},
   "outputs": [],
   "source": [
    "#%%time\n",
    "#cats.take(1)"
   ]
  },
  {
   "cell_type": "code",
   "execution_count": 7,
   "metadata": {},
   "outputs": [],
   "source": [
    "#%%time\n",
    "#full = full.join(cats, full.user_id == cats.user_id).drop(cats.user_id)"
   ]
  },
  {
   "cell_type": "code",
   "execution_count": 8,
   "metadata": {},
   "outputs": [],
   "source": [
    "#full.take(1)"
   ]
  },
  {
   "cell_type": "markdown",
   "metadata": {},
   "source": [
    "#### Number of sessions in month (num_sessions_month)"
   ]
  },
  {
   "cell_type": "code",
   "execution_count": 9,
   "metadata": {},
   "outputs": [],
   "source": [
    "sessions_total = m1.groupBy('user_id') \\\n",
    "                .agg(count('user_session'))\\\n",
    "                .withColumnRenamed(\"count(user_session)\", 'num_sessions_month')\n",
    "                    "
   ]
  },
  {
   "cell_type": "code",
   "execution_count": 10,
   "metadata": {},
   "outputs": [
    {
     "name": "stdout",
     "output_type": "stream",
     "text": [
      "+---------+------------------+\n",
      "|  user_id|num_sessions_month|\n",
      "+---------+------------------+\n",
      "|512372691|                33|\n",
      "|512407417|                42|\n",
      "|512423995|                88|\n",
      "|512428523|                34|\n",
      "|512445637|                50|\n",
      "|512448189|                 9|\n",
      "|512460113|                13|\n",
      "|512479812|                73|\n",
      "|512510580|                78|\n",
      "|512513760|               160|\n",
      "|512517137|                13|\n",
      "|512541716|                53|\n",
      "|512547480|                37|\n",
      "|512550513|               223|\n",
      "|512552482|                85|\n",
      "|512555062|                30|\n",
      "|512562561|                82|\n",
      "|512562754|               322|\n",
      "|512583155|                22|\n",
      "|512596570|               143|\n",
      "+---------+------------------+\n",
      "only showing top 20 rows\n",
      "\n"
     ]
    }
   ],
   "source": [
    "sessions_total.show()"
   ]
  },
  {
   "cell_type": "code",
   "execution_count": 11,
   "metadata": {},
   "outputs": [],
   "source": [
    "full = full.join(sessions_total, full.user_id == sessions_total.user_id).drop(sessions_total.user_id)"
   ]
  },
  {
   "cell_type": "markdown",
   "metadata": {},
   "source": [
    "#### Average Session Duration (AvgSessLen)"
   ]
  },
  {
   "cell_type": "code",
   "execution_count": 12,
   "metadata": {},
   "outputs": [],
   "source": [
    "session_ends = m1.groupBy('user_id', 'user_session').agg(max('event_time'), min('event_time'))"
   ]
  },
  {
   "cell_type": "code",
   "execution_count": 13,
   "metadata": {},
   "outputs": [
    {
     "name": "stdout",
     "output_type": "stream",
     "text": [
      "+---------+--------------------+-------------------+-------------------+\n",
      "|  user_id|        user_session|    max(event_time)|    min(event_time)|\n",
      "+---------+--------------------+-------------------+-------------------+\n",
      "|512459247|3465c2cc-9df4-4a5...|2020-01-30 09:22:21|2020-01-30 09:15:20|\n",
      "|512501209|78c8cf4a-26f7-491...|2020-01-16 10:16:27|2020-01-16 10:14:19|\n",
      "|513212967|6b8144b3-a1d0-471...|2020-01-18 18:08:02|2020-01-18 18:01:23|\n",
      "|513212967|bfb38911-7ef3-401...|2020-01-25 09:29:57|2020-01-25 09:29:57|\n",
      "|513235701|677abd5e-88a8-4ab...|2020-01-23 17:44:40|2020-01-23 17:41:35|\n",
      "|513575696|c2ed7438-99d0-45b...|2020-01-09 07:36:52|2020-01-09 07:36:41|\n",
      "|513873816|a7655679-3f21-481...|2020-01-18 08:20:24|2020-01-18 08:16:05|\n",
      "|514052791|31a79da3-d7ae-458...|2020-01-26 02:21:16|2020-01-26 02:07:56|\n",
      "|514423406|2de9cfba-6d1b-441...|2020-01-16 04:54:02|2020-01-16 04:54:02|\n",
      "|514423406|80e604da-56b2-4ef...|2020-01-20 19:45:50|2020-01-20 19:45:40|\n",
      "|514423406|60bea535-4244-434...|2020-01-22 03:27:07|2020-01-22 03:27:07|\n",
      "|514687260|6313d529-e697-457...|2020-01-07 14:30:46|2020-01-07 14:29:20|\n",
      "|515937747|f2ef682e-ac64-4dc...|2020-01-03 17:34:21|2020-01-03 17:34:21|\n",
      "|516024028|174ffd34-b3c9-4ef...|2020-01-16 18:35:07|2020-01-16 18:33:51|\n",
      "|516729801|2695d003-f162-4ee...|2020-01-28 09:15:45|2020-01-28 09:11:37|\n",
      "|517023442|39ee9231-2a38-40f...|2020-01-05 22:20:16|2020-01-05 22:20:16|\n",
      "|517037372|6d020962-1814-414...|2020-01-16 12:30:53|2020-01-16 12:30:53|\n",
      "|519099682|e0140619-9773-4af...|2020-01-24 14:21:36|2020-01-24 14:20:17|\n",
      "|519848937|cd75a05c-e715-45d...|2020-01-18 05:22:10|2020-01-18 05:19:28|\n",
      "|520047723|7fa91d80-f05d-432...|2020-01-18 04:19:14|2020-01-18 04:10:04|\n",
      "+---------+--------------------+-------------------+-------------------+\n",
      "only showing top 20 rows\n",
      "\n"
     ]
    }
   ],
   "source": [
    "session_ends.show()"
   ]
  },
  {
   "cell_type": "code",
   "execution_count": 14,
   "metadata": {},
   "outputs": [],
   "source": [
    "session_ends = session_ends.withColumn('SessionLengthSecs', (col(\"max(event_time)\").cast('long') - col(\"min(event_time)\").cast('long')))"
   ]
  },
  {
   "cell_type": "code",
   "execution_count": 15,
   "metadata": {},
   "outputs": [
    {
     "name": "stdout",
     "output_type": "stream",
     "text": [
      "+---------+--------------------+-------------------+-------------------+-----------------+\n",
      "|  user_id|        user_session|    max(event_time)|    min(event_time)|SessionLengthSecs|\n",
      "+---------+--------------------+-------------------+-------------------+-----------------+\n",
      "|512459247|3465c2cc-9df4-4a5...|2020-01-30 09:22:21|2020-01-30 09:15:20|              421|\n",
      "|512501209|78c8cf4a-26f7-491...|2020-01-16 10:16:27|2020-01-16 10:14:19|              128|\n",
      "|513212967|6b8144b3-a1d0-471...|2020-01-18 18:08:02|2020-01-18 18:01:23|              399|\n",
      "|513212967|bfb38911-7ef3-401...|2020-01-25 09:29:57|2020-01-25 09:29:57|                0|\n",
      "|513235701|677abd5e-88a8-4ab...|2020-01-23 17:44:40|2020-01-23 17:41:35|              185|\n",
      "|513575696|c2ed7438-99d0-45b...|2020-01-09 07:36:52|2020-01-09 07:36:41|               11|\n",
      "|513873816|a7655679-3f21-481...|2020-01-18 08:20:24|2020-01-18 08:16:05|              259|\n",
      "|514052791|31a79da3-d7ae-458...|2020-01-26 02:21:16|2020-01-26 02:07:56|              800|\n",
      "|514423406|2de9cfba-6d1b-441...|2020-01-16 04:54:02|2020-01-16 04:54:02|                0|\n",
      "|514423406|80e604da-56b2-4ef...|2020-01-20 19:45:50|2020-01-20 19:45:40|               10|\n",
      "|514423406|60bea535-4244-434...|2020-01-22 03:27:07|2020-01-22 03:27:07|                0|\n",
      "|514687260|6313d529-e697-457...|2020-01-07 14:30:46|2020-01-07 14:29:20|               86|\n",
      "|515937747|f2ef682e-ac64-4dc...|2020-01-03 17:34:21|2020-01-03 17:34:21|                0|\n",
      "|516024028|174ffd34-b3c9-4ef...|2020-01-16 18:35:07|2020-01-16 18:33:51|               76|\n",
      "|516729801|2695d003-f162-4ee...|2020-01-28 09:15:45|2020-01-28 09:11:37|              248|\n",
      "|517023442|39ee9231-2a38-40f...|2020-01-05 22:20:16|2020-01-05 22:20:16|                0|\n",
      "|517037372|6d020962-1814-414...|2020-01-16 12:30:53|2020-01-16 12:30:53|                0|\n",
      "|519099682|e0140619-9773-4af...|2020-01-24 14:21:36|2020-01-24 14:20:17|               79|\n",
      "|519848937|cd75a05c-e715-45d...|2020-01-18 05:22:10|2020-01-18 05:19:28|              162|\n",
      "|520047723|7fa91d80-f05d-432...|2020-01-18 04:19:14|2020-01-18 04:10:04|              550|\n",
      "+---------+--------------------+-------------------+-------------------+-----------------+\n",
      "only showing top 20 rows\n",
      "\n"
     ]
    }
   ],
   "source": [
    "session_ends.show()"
   ]
  },
  {
   "cell_type": "code",
   "execution_count": 16,
   "metadata": {},
   "outputs": [],
   "source": [
    "avg_sess = session_ends.groupBy('user_id').avg('SessionLengthSecs').withColumnRenamed('avg(SessionLengthSecs)', \"AvgSessLen\")"
   ]
  },
  {
   "cell_type": "code",
   "execution_count": 17,
   "metadata": {},
   "outputs": [
    {
     "name": "stdout",
     "output_type": "stream",
     "text": [
      "+---------+------------------+\n",
      "|  user_id|        AvgSessLen|\n",
      "+---------+------------------+\n",
      "|512700240| 336.2857142857143|\n",
      "|512907846| 83.05555555555556|\n",
      "|512939102|323.23809523809524|\n",
      "|512975406|5124.0192307692305|\n",
      "|513504459|              46.2|\n",
      "|513615667| 497.3333333333333|\n",
      "|514290304|217.54545454545453|\n",
      "|514338009| 161.1595744680851|\n",
      "|514447047|             605.0|\n",
      "|515125070|            580.64|\n",
      "|515409104|209.85714285714286|\n",
      "|516873641|22868.166666666668|\n",
      "|517713387|             244.8|\n",
      "|518529350| 286.6666666666667|\n",
      "|519121308|252.16666666666666|\n",
      "|519298781|376.85714285714283|\n",
      "|520771974|             322.6|\n",
      "|524321301|14244.923076923076|\n",
      "|524566828| 46979.03846153846|\n",
      "|538147908|1074.3076923076924|\n",
      "+---------+------------------+\n",
      "only showing top 20 rows\n",
      "\n"
     ]
    }
   ],
   "source": [
    "avg_sess.show()"
   ]
  },
  {
   "cell_type": "code",
   "execution_count": 18,
   "metadata": {},
   "outputs": [],
   "source": [
    "full = full.join(avg_sess, full.user_id == avg_sess.user_id).drop(avg_sess.user_id)"
   ]
  },
  {
   "cell_type": "code",
   "execution_count": null,
   "metadata": {},
   "outputs": [],
   "source": []
  },
  {
   "cell_type": "markdown",
   "metadata": {},
   "source": [
    "#### Std Deviation of session duration by person (stddev_SessionLengthSecs)"
   ]
  },
  {
   "cell_type": "code",
   "execution_count": 19,
   "metadata": {},
   "outputs": [
    {
     "name": "stdout",
     "output_type": "stream",
     "text": [
      "+---------+--------------------+-------------------+-------------------+-----------------+\n",
      "|  user_id|        user_session|    max(event_time)|    min(event_time)|SessionLengthSecs|\n",
      "+---------+--------------------+-------------------+-------------------+-----------------+\n",
      "|512459247|3465c2cc-9df4-4a5...|2020-01-30 09:22:21|2020-01-30 09:15:20|              421|\n",
      "|512501209|78c8cf4a-26f7-491...|2020-01-16 10:16:27|2020-01-16 10:14:19|              128|\n",
      "|513212967|6b8144b3-a1d0-471...|2020-01-18 18:08:02|2020-01-18 18:01:23|              399|\n",
      "|513212967|bfb38911-7ef3-401...|2020-01-25 09:29:57|2020-01-25 09:29:57|                0|\n",
      "|513235701|677abd5e-88a8-4ab...|2020-01-23 17:44:40|2020-01-23 17:41:35|              185|\n",
      "+---------+--------------------+-------------------+-------------------+-----------------+\n",
      "only showing top 5 rows\n",
      "\n"
     ]
    }
   ],
   "source": [
    "session_ends.show(5)"
   ]
  },
  {
   "cell_type": "code",
   "execution_count": 20,
   "metadata": {},
   "outputs": [],
   "source": [
    "std_session_length = session_ends.groupBy('user_id') \\\n",
    "                                 .agg(stddev('SessionLengthSecs')) \\\n",
    "                                 .withColumnRenamed(\"stddev_samp(SessionLengthSecs)\", 'stddev_SessionLengthSecs')"
   ]
  },
  {
   "cell_type": "code",
   "execution_count": 21,
   "metadata": {},
   "outputs": [
    {
     "name": "stdout",
     "output_type": "stream",
     "text": [
      "+---------+------------------------+\n",
      "|  user_id|stddev_SessionLengthSecs|\n",
      "+---------+------------------------+\n",
      "|512700240|      358.21209466167494|\n",
      "|512907846|      146.57961989076196|\n",
      "|512939102|       442.5742767899988|\n",
      "|512975406|       34236.70295107879|\n",
      "|513504459|       67.80265481527991|\n",
      "+---------+------------------------+\n",
      "only showing top 5 rows\n",
      "\n"
     ]
    }
   ],
   "source": [
    "std_session_length.show(5)"
   ]
  },
  {
   "cell_type": "code",
   "execution_count": 22,
   "metadata": {},
   "outputs": [],
   "source": [
    "full = full.join(std_session_length, full.user_id == std_session_length.user_id).drop(std_session_length.user_id)"
   ]
  },
  {
   "cell_type": "markdown",
   "metadata": {},
   "source": [
    "#### UNFINISHED Distance from last interaction to end of month (seconds)\n"
   ]
  },
  {
   "cell_type": "code",
   "execution_count": 23,
   "metadata": {},
   "outputs": [
    {
     "data": {
      "text/plain": [
       "1580533200.0"
      ]
     },
     "execution_count": 23,
     "metadata": {},
     "output_type": "execute_result"
    }
   ],
   "source": [
    "new_month = dt.datetime(2020,2,1,0,0).timestamp() # This is the epoch seconds of Feb 1, 2020 at midnight\n",
    "new_month"
   ]
  },
  {
   "cell_type": "code",
   "execution_count": 24,
   "metadata": {},
   "outputs": [
    {
     "name": "stdout",
     "output_type": "stream",
     "text": [
      "+---------+-------------------+\n",
      "|  user_id|    max(event_time)|\n",
      "+---------+-------------------+\n",
      "|512372691|2020-01-24 08:37:05|\n",
      "|512407417|2020-01-30 15:28:07|\n",
      "|512423995|2020-01-31 18:55:41|\n",
      "|512428523|2020-01-16 09:49:41|\n",
      "|512445637|2020-01-28 12:42:03|\n",
      "|512448189|2020-01-12 18:40:43|\n",
      "|512460113|2020-01-29 19:02:16|\n",
      "|512479812|2020-01-28 16:29:46|\n",
      "|512510580|2020-01-31 07:35:47|\n",
      "|512513760|2020-01-31 06:55:48|\n",
      "|512517137|2020-01-23 14:33:44|\n",
      "|512541716|2020-01-31 03:45:26|\n",
      "|512547480|2020-01-18 05:01:55|\n",
      "|512550513|2020-01-30 12:25:41|\n",
      "|512552482|2020-01-31 18:57:30|\n",
      "|512555062|2020-01-29 06:03:46|\n",
      "|512562561|2020-01-31 12:13:52|\n",
      "|512562754|2020-01-30 18:53:40|\n",
      "|512583155|2020-01-26 23:43:46|\n",
      "|512596570|2020-01-21 08:45:29|\n",
      "+---------+-------------------+\n",
      "only showing top 20 rows\n",
      "\n"
     ]
    }
   ],
   "source": [
    "last_interaction = m1.groupBy('user_id').agg(max('event_time'))\n",
    "last_interaction.show()"
   ]
  },
  {
   "cell_type": "code",
   "execution_count": 25,
   "metadata": {},
   "outputs": [],
   "source": [
    "## last_int_dist = last_interaction.withColumn('time_from_end_month', timestamp(1580533200) - col('max(event_time)'))"
   ]
  },
  {
   "cell_type": "markdown",
   "metadata": {},
   "source": [
    "#### Average number of interactions per session (avg_interactions_per_session)"
   ]
  },
  {
   "cell_type": "code",
   "execution_count": 26,
   "metadata": {},
   "outputs": [],
   "source": [
    "interactions_per_session = m1.groupBy('user_id', 'user_session').agg(count('event_type'))"
   ]
  },
  {
   "cell_type": "code",
   "execution_count": 27,
   "metadata": {},
   "outputs": [
    {
     "name": "stdout",
     "output_type": "stream",
     "text": [
      "+---------+--------------------+-----------------+\n",
      "|  user_id|        user_session|count(event_type)|\n",
      "+---------+--------------------+-----------------+\n",
      "|512459247|3465c2cc-9df4-4a5...|                4|\n",
      "|512501209|78c8cf4a-26f7-491...|                5|\n",
      "|513212967|6b8144b3-a1d0-471...|                8|\n",
      "|513212967|bfb38911-7ef3-401...|                1|\n",
      "|513235701|677abd5e-88a8-4ab...|                8|\n",
      "|513575696|c2ed7438-99d0-45b...|                2|\n",
      "|513873816|a7655679-3f21-481...|                4|\n",
      "|514052791|31a79da3-d7ae-458...|               18|\n",
      "|514423406|2de9cfba-6d1b-441...|                1|\n",
      "|514423406|80e604da-56b2-4ef...|                2|\n",
      "|514423406|60bea535-4244-434...|                1|\n",
      "|514687260|6313d529-e697-457...|                4|\n",
      "|515937747|f2ef682e-ac64-4dc...|                1|\n",
      "|516024028|174ffd34-b3c9-4ef...|                3|\n",
      "|516729801|2695d003-f162-4ee...|                6|\n",
      "|517023442|39ee9231-2a38-40f...|                1|\n",
      "|517037372|6d020962-1814-414...|                1|\n",
      "|519099682|e0140619-9773-4af...|                3|\n",
      "|519848937|cd75a05c-e715-45d...|                6|\n",
      "|520047723|7fa91d80-f05d-432...|               19|\n",
      "+---------+--------------------+-----------------+\n",
      "only showing top 20 rows\n",
      "\n"
     ]
    }
   ],
   "source": [
    "interactions_per_session.show()"
   ]
  },
  {
   "cell_type": "code",
   "execution_count": 28,
   "metadata": {},
   "outputs": [],
   "source": [
    "avg_interactions_per_session = interactions_per_session.groupBy('user_id').avg('count(event_type)')"
   ]
  },
  {
   "cell_type": "code",
   "execution_count": 29,
   "metadata": {},
   "outputs": [],
   "source": [
    "avg_interactions_per_session = avg_interactions_per_session.withColumnRenamed('avg(count(event_type))', \"avg_interactions_per_session\")"
   ]
  },
  {
   "cell_type": "code",
   "execution_count": 30,
   "metadata": {},
   "outputs": [],
   "source": [
    "full = full.join(avg_interactions_per_session, full.user_id == avg_interactions_per_session.user_id).drop(avg_interactions_per_session.user_id)"
   ]
  },
  {
   "cell_type": "markdown",
   "metadata": {},
   "source": [
    "#### Std Deviation of number of interactions per session per person (stddev_int_per_session)"
   ]
  },
  {
   "cell_type": "code",
   "execution_count": 31,
   "metadata": {},
   "outputs": [
    {
     "name": "stdout",
     "output_type": "stream",
     "text": [
      "+---------+----------------------+\n",
      "|  user_id|stddev_int_per_session|\n",
      "+---------+----------------------+\n",
      "|512700240|     2.138089935299395|\n",
      "|512907846|     2.727851988394575|\n",
      "|512939102|    10.862780491200215|\n",
      "|512975406|     8.314790833588951|\n",
      "|513504459|     3.898717737923586|\n",
      "+---------+----------------------+\n",
      "only showing top 5 rows\n",
      "\n"
     ]
    }
   ],
   "source": [
    "std_interactions_per_session = interactions_per_session.groupBy('user_id') \\\n",
    "                                                       .agg(stddev('count(event_type)')) \\\n",
    "                                                       .withColumnRenamed(\"stddev_samp(count(event_type))\", 'stddev_int_per_session')\n",
    "std_interactions_per_session.show(5)"
   ]
  },
  {
   "cell_type": "code",
   "execution_count": 32,
   "metadata": {},
   "outputs": [],
   "source": [
    "full = full.join(std_interactions_per_session, full.user_id == std_interactions_per_session.user_id).drop(std_interactions_per_session.user_id)"
   ]
  },
  {
   "cell_type": "markdown",
   "metadata": {},
   "source": [
    "#### Max number of interactions within one session (max_interactions_one_session)"
   ]
  },
  {
   "cell_type": "code",
   "execution_count": 33,
   "metadata": {},
   "outputs": [],
   "source": [
    "max_interactions_per_session = interactions_per_session.groupBy('user_id').max('count(event_type)')"
   ]
  },
  {
   "cell_type": "code",
   "execution_count": 34,
   "metadata": {},
   "outputs": [],
   "source": [
    "max_interactions_per_session = max_interactions_per_session.withColumnRenamed('max(count(event_type))', \"max_interactions_one_session\")"
   ]
  },
  {
   "cell_type": "code",
   "execution_count": 35,
   "metadata": {},
   "outputs": [
    {
     "name": "stdout",
     "output_type": "stream",
     "text": [
      "+---------+----------------------------+\n",
      "|  user_id|max_interactions_one_session|\n",
      "+---------+----------------------------+\n",
      "|512700240|                           7|\n",
      "+---------+----------------------------+\n",
      "only showing top 1 row\n",
      "\n"
     ]
    }
   ],
   "source": [
    "max_interactions_per_session.show(1)"
   ]
  },
  {
   "cell_type": "code",
   "execution_count": 36,
   "metadata": {},
   "outputs": [],
   "source": [
    "full = full.join(max_interactions_per_session, full.user_id == max_interactions_per_session.user_id).drop(max_interactions_per_session.user_id)"
   ]
  },
  {
   "cell_type": "markdown",
   "metadata": {},
   "source": [
    "#### Percent of total events that are x (Purchase, Cart, View) ('purchase_pct_of_total_events', 'cart_pct_of_total_events', 'view_pct_of_total_events')"
   ]
  },
  {
   "cell_type": "code",
   "execution_count": 37,
   "metadata": {},
   "outputs": [],
   "source": [
    "event_counts = m1.groupBy('user_id', 'user_session').pivot('event_type').agg(count('event_type'))\n",
    "# Here the three types of event count are pivoted out for later tabulation"
   ]
  },
  {
   "cell_type": "code",
   "execution_count": 38,
   "metadata": {},
   "outputs": [
    {
     "name": "stdout",
     "output_type": "stream",
     "text": [
      "+---------+--------------------+----+--------+----+\n",
      "|  user_id|        user_session|cart|purchase|view|\n",
      "+---------+--------------------+----+--------+----+\n",
      "|514303875|205fae11-e924-407...|   0|       0|   1|\n",
      "|519241453|a9437a1d-41e5-4fa...|   0|       0|  14|\n",
      "|523201266|9daa4af6-6dac-4d1...|   1|       1|   2|\n",
      "|543762302|22e1020d-8b73-4fa...|   0|       0|   4|\n",
      "|546604646|f5d96e2e-18d1-462...|   0|       0|   1|\n",
      "|547438388|3dd53be2-45a1-4f0...|   2|       1|   7|\n",
      "|550007461|11a6f31b-0692-482...|   2|       1|   1|\n",
      "|552639168|d335b338-322b-4eb...|   1|       1|   2|\n",
      "|563020567|b5758a16-dce0-40a...|   0|       0|   1|\n",
      "|564814222|00ed7b07-a733-421...|   0|       0|   2|\n",
      "|567513518|ce0e10cd-0852-409...|   1|       1|   1|\n",
      "|568805468|6377f2a7-59e5-49a...|   0|       0|   1|\n",
      "|569919554|d5598d78-5d83-412...|   1|       1|   1|\n",
      "|585566367|b21c2b85-3a26-468...|   0|       0|   6|\n",
      "|591485124|bc9ef30b-8fcf-493...|   0|       0|  23|\n",
      "|596296622|6eda9fc5-f80a-44b...|   0|       0|   1|\n",
      "|601896730|cebc2fd7-ebce-454...|   1|       1|   3|\n",
      "|512508656|012fe6c4-434c-478...|   0|       0|   4|\n",
      "|513658061|49b37df1-9330-4e1...|   0|       0|   1|\n",
      "|517080649|9edef466-ef13-4d4...|   0|       0|   1|\n",
      "+---------+--------------------+----+--------+----+\n",
      "only showing top 20 rows\n",
      "\n"
     ]
    }
   ],
   "source": [
    "event_counts = event_counts.fillna(0) #replace nulls with 0 for math\n",
    "event_counts.show()"
   ]
  },
  {
   "cell_type": "code",
   "execution_count": 39,
   "metadata": {},
   "outputs": [],
   "source": [
    "events_per_session = event_counts.withColumn('events_per_session_total', col('cart') + col('purchase') + col('view')) \n",
    "# Get total number of events per session"
   ]
  },
  {
   "cell_type": "code",
   "execution_count": 40,
   "metadata": {},
   "outputs": [
    {
     "name": "stdout",
     "output_type": "stream",
     "text": [
      "+---------+--------------------+----+--------+----+------------------------+\n",
      "|  user_id|        user_session|cart|purchase|view|events_per_session_total|\n",
      "+---------+--------------------+----+--------+----+------------------------+\n",
      "|514303875|205fae11-e924-407...|   0|       0|   1|                       1|\n",
      "|519241453|a9437a1d-41e5-4fa...|   0|       0|  14|                      14|\n",
      "|523201266|9daa4af6-6dac-4d1...|   1|       1|   2|                       4|\n",
      "|543762302|22e1020d-8b73-4fa...|   0|       0|   4|                       4|\n",
      "|546604646|f5d96e2e-18d1-462...|   0|       0|   1|                       1|\n",
      "|547438388|3dd53be2-45a1-4f0...|   2|       1|   7|                      10|\n",
      "|550007461|11a6f31b-0692-482...|   2|       1|   1|                       4|\n",
      "|552639168|d335b338-322b-4eb...|   1|       1|   2|                       4|\n",
      "|563020567|b5758a16-dce0-40a...|   0|       0|   1|                       1|\n",
      "|564814222|00ed7b07-a733-421...|   0|       0|   2|                       2|\n",
      "|567513518|ce0e10cd-0852-409...|   1|       1|   1|                       3|\n",
      "|568805468|6377f2a7-59e5-49a...|   0|       0|   1|                       1|\n",
      "|569919554|d5598d78-5d83-412...|   1|       1|   1|                       3|\n",
      "|585566367|b21c2b85-3a26-468...|   0|       0|   6|                       6|\n",
      "|591485124|bc9ef30b-8fcf-493...|   0|       0|  23|                      23|\n",
      "|596296622|6eda9fc5-f80a-44b...|   0|       0|   1|                       1|\n",
      "|601896730|cebc2fd7-ebce-454...|   1|       1|   3|                       5|\n",
      "|512508656|012fe6c4-434c-478...|   0|       0|   4|                       4|\n",
      "|513658061|49b37df1-9330-4e1...|   0|       0|   1|                       1|\n",
      "|517080649|9edef466-ef13-4d4...|   0|       0|   1|                       1|\n",
      "+---------+--------------------+----+--------+----+------------------------+\n",
      "only showing top 20 rows\n",
      "\n"
     ]
    }
   ],
   "source": [
    "events_per_session.show()"
   ]
  },
  {
   "cell_type": "code",
   "execution_count": 41,
   "metadata": {},
   "outputs": [],
   "source": [
    "pct_events = events_per_session.groupBy('user_id').sum()"
   ]
  },
  {
   "cell_type": "code",
   "execution_count": 42,
   "metadata": {},
   "outputs": [],
   "source": [
    "pct_totalevents = pct_events.withColumn('purchase_pct_of_total_events', col('sum(purchase)')/col('sum(events_per_session_total)')) \\\n",
    "                  .withColumn('view_pct_of_total_events', col('sum(view)')/col('sum(events_per_session_total)')) \\\n",
    "                  .withColumn('cart_pct_of_total_events', col('sum(cart)')/col('sum(events_per_session_total)'))"
   ]
  },
  {
   "cell_type": "code",
   "execution_count": 43,
   "metadata": {},
   "outputs": [],
   "source": [
    "merge_me = pct_totalevents.select('user_id', 'purchase_pct_of_total_events', 'cart_pct_of_total_events', 'view_pct_of_total_events')"
   ]
  },
  {
   "cell_type": "code",
   "execution_count": 44,
   "metadata": {},
   "outputs": [],
   "source": [
    "full = full.join(merge_me, full.user_id == merge_me.user_id).drop(merge_me.user_id)"
   ]
  },
  {
   "cell_type": "markdown",
   "metadata": {},
   "source": [
    "#### Average number of purchases per session (avg_purchases_per_session)"
   ]
  },
  {
   "cell_type": "code",
   "execution_count": 45,
   "metadata": {},
   "outputs": [],
   "source": [
    "avg_purchases_per_session = events_per_session.groupBy('user_id').avg('purchase').withColumnRenamed('avg(purchase)', \"avg_purchases_per_session\")"
   ]
  },
  {
   "cell_type": "code",
   "execution_count": 46,
   "metadata": {},
   "outputs": [
    {
     "name": "stdout",
     "output_type": "stream",
     "text": [
      "+---------+-------------------------+\n",
      "|  user_id|avg_purchases_per_session|\n",
      "+---------+-------------------------+\n",
      "|519121308|      0.16666666666666666|\n",
      "|588954881|      0.09090909090909091|\n",
      "|568888698|       0.3076923076923077|\n",
      "|512700240|       0.5714285714285714|\n",
      "|512975406|      0.19230769230769232|\n",
      "|539141084|                     0.04|\n",
      "|512939102|     0.047619047619047616|\n",
      "|568834070|     7.680491551459293E-4|\n",
      "|597560455|                      0.2|\n",
      "|574391586|       0.5454545454545454|\n",
      "|603091367|                      1.0|\n",
      "|516873641|     0.016666666666666666|\n",
      "|595529721|                      1.0|\n",
      "|524321301|      0.15384615384615385|\n",
      "|531677136|     0.023809523809523808|\n",
      "|513504459|                      0.8|\n",
      "|598364094|       0.2702702702702703|\n",
      "|592713655|       0.3333333333333333|\n",
      "|562508584|                      0.2|\n",
      "|519298781|      0.14285714285714285|\n",
      "+---------+-------------------------+\n",
      "only showing top 20 rows\n",
      "\n"
     ]
    }
   ],
   "source": [
    "avg_purchases_per_session.show()"
   ]
  },
  {
   "cell_type": "code",
   "execution_count": 47,
   "metadata": {},
   "outputs": [],
   "source": [
    "full = full.join(avg_purchases_per_session, full.user_id == avg_purchases_per_session.user_id).drop(avg_purchases_per_session.user_id)"
   ]
  },
  {
   "cell_type": "markdown",
   "metadata": {},
   "source": [
    "#### STD of number of purchases per session per person (std_purchases_per_session)"
   ]
  },
  {
   "cell_type": "code",
   "execution_count": 48,
   "metadata": {},
   "outputs": [
    {
     "name": "stdout",
     "output_type": "stream",
     "text": [
      "+---------+-------------------------+\n",
      "|  user_id|std_purchases_per_session|\n",
      "+---------+-------------------------+\n",
      "|519121308|        0.408248290463863|\n",
      "|588954881|      0.30151134457776363|\n",
      "|568888698|       0.4803844614152614|\n",
      "|512700240|       0.5345224838248488|\n",
      "|512975406|       0.5614568423503459|\n",
      "+---------+-------------------------+\n",
      "only showing top 5 rows\n",
      "\n"
     ]
    }
   ],
   "source": [
    "std_purchases_per_session = events_per_session.groupBy('user_id') \\\n",
    "                                              .agg(stddev('purchase')) \\\n",
    "                                              .withColumnRenamed('stddev_samp(purchase)', \"std_purchases_per_session\")\n",
    "std_purchases_per_session.show(5)"
   ]
  },
  {
   "cell_type": "code",
   "execution_count": 49,
   "metadata": {},
   "outputs": [],
   "source": [
    "full = full.join(std_purchases_per_session, full.user_id == std_purchases_per_session.user_id).drop(std_purchases_per_session.user_id)"
   ]
  },
  {
   "cell_type": "code",
   "execution_count": null,
   "metadata": {},
   "outputs": [],
   "source": []
  },
  {
   "cell_type": "markdown",
   "metadata": {},
   "source": [
    "#### Total number of each type of event over whole month (monthlyCartTotal, monthlyPurchaseTotal, monthlyViewTotal)"
   ]
  },
  {
   "cell_type": "code",
   "execution_count": 50,
   "metadata": {},
   "outputs": [],
   "source": [
    "event_counts_month = event_counts.groupBy('user_id').sum('cart', 'purchase', 'view')\\\n",
    "                     .withColumnRenamed('sum(cart)', 'monthlyCartTotal') \\\n",
    "                     .withColumnRenamed('sum(purchase)', 'monthlyPurchaseTotal') \\\n",
    "                     .withColumnRenamed('sum(view)', 'monthlyViewTotal')"
   ]
  },
  {
   "cell_type": "code",
   "execution_count": 51,
   "metadata": {},
   "outputs": [
    {
     "name": "stdout",
     "output_type": "stream",
     "text": [
      "+---------+----------------+--------------------+----------------+\n",
      "|  user_id|monthlyCartTotal|monthlyPurchaseTotal|monthlyViewTotal|\n",
      "+---------+----------------+--------------------+----------------+\n",
      "|519121308|               6|                   1|              20|\n",
      "|588954881|               1|                   1|              25|\n",
      "|568888698|               8|                   4|              75|\n",
      "|512700240|               6|                   4|              23|\n",
      "|512975406|              26|                  10|             330|\n",
      "|539141084|               2|                   1|             184|\n",
      "|512939102|               7|                   1|             181|\n",
      "|568834070|               3|                   1|            1592|\n",
      "|597560455|               8|                   2|              25|\n",
      "|574391586|               9|                   6|              28|\n",
      "|603091367|               1|                   1|               2|\n",
      "|516873641|              26|                   1|             227|\n",
      "|595529721|              11|                   3|              11|\n",
      "|524321301|              12|                   2|              95|\n",
      "|531677136|               1|                   1|             285|\n",
      "|513504459|               4|                   4|               8|\n",
      "|598364094|              13|                  10|             395|\n",
      "|592713655|               8|                   2|              35|\n",
      "|562508584|               1|                   1|              16|\n",
      "|519298781|              15|                   1|              47|\n",
      "+---------+----------------+--------------------+----------------+\n",
      "only showing top 20 rows\n",
      "\n"
     ]
    }
   ],
   "source": [
    "event_counts_month.show()"
   ]
  },
  {
   "cell_type": "code",
   "execution_count": 52,
   "metadata": {},
   "outputs": [],
   "source": [
    "full = full.join(event_counts_month, full.user_id == event_counts_month.user_id).drop(event_counts_month.user_id)"
   ]
  },
  {
   "cell_type": "markdown",
   "metadata": {},
   "source": [
    "#### Total number of sessions that contain event over whole month (NumSessWithPurchases, NumSessWithCart, NumSessWithView)"
   ]
  },
  {
   "cell_type": "code",
   "execution_count": 53,
   "metadata": {},
   "outputs": [],
   "source": [
    "events_over_month = events_per_session.withColumn('purchaseInSession', when(col('purchase') == 0, 0).otherwise(1)) \\\n",
    "                                      .withColumn('cartInSession', when(col('cart')==0, 0).otherwise(1)) \\\n",
    "                                      .withColumn('viewInSession', when(col('view')==0, 0).otherwise(1))"
   ]
  },
  {
   "cell_type": "code",
   "execution_count": 54,
   "metadata": {},
   "outputs": [],
   "source": [
    "num_sesh_containing_event = events_over_month.groupBy('user_id').sum('purchaseInSession', \"cartInSession\", \"viewInSession\") \\\n",
    "                            .withColumnRenamed(\"sum(purchaseInSession)\", \"NumSessWithPurchases\") \\\n",
    "                            .withColumnRenamed(\"sum(cartInSession)\", \"NumSessWithCart\") \\\n",
    "                            .withColumnRenamed(\"sum(viewInSession)\", \"NumSessWithView\")"
   ]
  },
  {
   "cell_type": "code",
   "execution_count": 55,
   "metadata": {},
   "outputs": [
    {
     "name": "stdout",
     "output_type": "stream",
     "text": [
      "+---------+--------------------+---------------+---------------+\n",
      "|  user_id|NumSessWithPurchases|NumSessWithCart|NumSessWithView|\n",
      "+---------+--------------------+---------------+---------------+\n",
      "|519121308|                   1|              2|              6|\n",
      "|588954881|                   1|              1|             11|\n",
      "|568888698|                   4|              7|             13|\n",
      "|512700240|                   4|              4|              7|\n",
      "|512975406|                   7|             19|             46|\n",
      "|539141084|                   1|              1|             25|\n",
      "|512939102|                   1|              5|             21|\n",
      "|568834070|                   1|              3|           1302|\n",
      "|597560455|                   2|              4|             10|\n",
      "|574391586|                   6|              6|             11|\n",
      "|603091367|                   1|              1|              1|\n",
      "|516873641|                   1|              6|             59|\n",
      "|595529721|                   1|              3|              3|\n",
      "|524321301|                   2|              3|             13|\n",
      "|531677136|                   1|              1|             42|\n",
      "|513504459|                   2|              2|              5|\n",
      "|598364094|                   7|              7|             37|\n",
      "|592713655|                   1|              2|              6|\n",
      "|562508584|                   1|              1|              5|\n",
      "|519298781|                   1|              5|              7|\n",
      "+---------+--------------------+---------------+---------------+\n",
      "only showing top 20 rows\n",
      "\n"
     ]
    }
   ],
   "source": [
    "num_sesh_containing_event.show()"
   ]
  },
  {
   "cell_type": "code",
   "execution_count": 56,
   "metadata": {},
   "outputs": [],
   "source": [
    "full = full.join(num_sesh_containing_event, full.user_id == num_sesh_containing_event.user_id).drop(num_sesh_containing_event.user_id)"
   ]
  },
  {
   "cell_type": "markdown",
   "metadata": {},
   "source": [
    "#### Percent of individual's sessions that end in cart/purchase (ses_end_purch, ses_end_cart)"
   ]
  },
  {
   "cell_type": "code",
   "execution_count": 57,
   "metadata": {},
   "outputs": [
    {
     "name": "stdout",
     "output_type": "stream",
     "text": [
      "+---------+--------------------+----+--------+----+-----------------+-------------+\n",
      "|  user_id|        user_session|cart|purchase|view|sess_end_purchase|sess_end_cart|\n",
      "+---------+--------------------+----+--------+----+-----------------+-------------+\n",
      "|514303875|205fae11-e924-407...|   0|       0|   1|                0|            0|\n",
      "|519241453|a9437a1d-41e5-4fa...|   0|       0|  14|                0|            0|\n",
      "|523201266|9daa4af6-6dac-4d1...|   1|       1|   2|                1|            0|\n",
      "|543762302|22e1020d-8b73-4fa...|   0|       0|   4|                0|            0|\n",
      "|546604646|f5d96e2e-18d1-462...|   0|       0|   1|                0|            0|\n",
      "+---------+--------------------+----+--------+----+-----------------+-------------+\n",
      "only showing top 5 rows\n",
      "\n"
     ]
    }
   ],
   "source": [
    "session_ends2 = event_counts.withColumn('sess_end_purchase', \\\n",
    "                                when(col('purchase') != 0, 1) \\\n",
    "                                .otherwise(0)) \\\n",
    "                            .withColumn('sess_end_cart', \\\n",
    "                                when((col(\"purchase\") == 0) & (col(\"cart\") != 0), 1) \\\n",
    "                                .otherwise(0))\n",
    "session_ends2.show(5)"
   ]
  },
  {
   "cell_type": "code",
   "execution_count": 58,
   "metadata": {},
   "outputs": [
    {
     "name": "stdout",
     "output_type": "stream",
     "text": [
      "+---------+-------------------+----------------------+------------------+\n",
      "|  user_id|count(user_session)|sum(sess_end_purchase)|sum(sess_end_cart)|\n",
      "+---------+-------------------+----------------------+------------------+\n",
      "|519121308|                  6|                     1|                 1|\n",
      "|588954881|                 11|                     1|                 0|\n",
      "|568888698|                 13|                     4|                 3|\n",
      "|512700240|                  7|                     4|                 0|\n",
      "|512975406|                 52|                     7|                12|\n",
      "+---------+-------------------+----------------------+------------------+\n",
      "only showing top 5 rows\n",
      "\n"
     ]
    }
   ],
   "source": [
    "session_sum = session_ends2.groupBy('user_id').agg(count('user_session'), sum('sess_end_purchase'), sum('sess_end_cart'))\n",
    "session_sum.show(5)"
   ]
  },
  {
   "cell_type": "code",
   "execution_count": 59,
   "metadata": {},
   "outputs": [
    {
     "name": "stdout",
     "output_type": "stream",
     "text": [
      "+---------+-------------------+----------------------+------------------+-------------------+-------------------+\n",
      "|  user_id|count(user_session)|sum(sess_end_purchase)|sum(sess_end_cart)|      ses_end_purch|       ses_end_cart|\n",
      "+---------+-------------------+----------------------+------------------+-------------------+-------------------+\n",
      "|519121308|                  6|                     1|                 1|0.16666666666666666|0.16666666666666666|\n",
      "|588954881|                 11|                     1|                 0|0.09090909090909091|                0.0|\n",
      "|568888698|                 13|                     4|                 3| 0.3076923076923077|0.23076923076923078|\n",
      "|512700240|                  7|                     4|                 0| 0.5714285714285714|                0.0|\n",
      "|512975406|                 52|                     7|                12| 0.1346153846153846|0.23076923076923078|\n",
      "+---------+-------------------+----------------------+------------------+-------------------+-------------------+\n",
      "only showing top 5 rows\n",
      "\n"
     ]
    }
   ],
   "source": [
    "session_sum = session_sum.withColumn('ses_end_purch', col('sum(sess_end_purchase)')/col('count(user_session)')) \\\n",
    "                         .withColumn('ses_end_cart', col('sum(sess_end_cart)')/col('count(user_session)'))\n",
    "session_sum.show(5)"
   ]
  },
  {
   "cell_type": "code",
   "execution_count": 60,
   "metadata": {},
   "outputs": [
    {
     "name": "stdout",
     "output_type": "stream",
     "text": [
      "+---------+--------------------+--------------------+\n",
      "|  user_id|       ses_end_purch|        ses_end_cart|\n",
      "+---------+--------------------+--------------------+\n",
      "|519121308| 0.16666666666666666| 0.16666666666666666|\n",
      "|588954881| 0.09090909090909091|                 0.0|\n",
      "|568888698|  0.3076923076923077| 0.23076923076923078|\n",
      "|512700240|  0.5714285714285714|                 0.0|\n",
      "|512975406|  0.1346153846153846| 0.23076923076923078|\n",
      "|539141084|                0.04|                 0.0|\n",
      "|512939102|0.047619047619047616| 0.19047619047619047|\n",
      "|568834070|7.680491551459293E-4|0.001536098310291...|\n",
      "|597560455|                 0.2|                 0.2|\n",
      "|574391586|  0.5454545454545454|                 0.0|\n",
      "|603091367|                 1.0|                 0.0|\n",
      "|516873641|0.016666666666666666| 0.08333333333333333|\n",
      "|595529721|  0.3333333333333333|  0.6666666666666666|\n",
      "|524321301| 0.15384615384615385| 0.07692307692307693|\n",
      "|531677136|0.023809523809523808|                 0.0|\n",
      "|513504459|                 0.4|                 0.0|\n",
      "|598364094|  0.1891891891891892|                 0.0|\n",
      "|592713655| 0.16666666666666666| 0.16666666666666666|\n",
      "|562508584|                 0.2|                 0.0|\n",
      "|519298781| 0.14285714285714285|  0.5714285714285714|\n",
      "+---------+--------------------+--------------------+\n",
      "only showing top 20 rows\n",
      "\n"
     ]
    }
   ],
   "source": [
    "temp = session_sum.select('user_id', \"ses_end_purch\", \"ses_end_cart\")\n",
    "temp.show()"
   ]
  },
  {
   "cell_type": "code",
   "execution_count": 61,
   "metadata": {},
   "outputs": [],
   "source": [
    "full = full.join(temp, full.user_id == temp.user_id).drop(temp.user_id)"
   ]
  },
  {
   "cell_type": "markdown",
   "metadata": {},
   "source": [
    "### Preview full dataframe"
   ]
  },
  {
   "cell_type": "code",
   "execution_count": 62,
   "metadata": {},
   "outputs": [
    {
     "data": {
      "text/plain": [
       "StructType(List(StructField(user_id,IntegerType,true),StructField(m2_total_spend,DoubleType,true),StructField(m1_total_spend,DoubleType,true),StructField(m1_total_events,LongType,true),StructField(m1_purchase_events,LongType,true),StructField(m1_user_sessions,LongType,true),StructField(num_sessions_month,LongType,false),StructField(AvgSessLen,DoubleType,true),StructField(stddev_SessionLengthSecs,DoubleType,true),StructField(avg_interactions_per_session,DoubleType,true),StructField(stddev_int_per_session,DoubleType,true),StructField(max_interactions_one_session,LongType,true),StructField(purchase_pct_of_total_events,DoubleType,true),StructField(cart_pct_of_total_events,DoubleType,true),StructField(view_pct_of_total_events,DoubleType,true),StructField(avg_purchases_per_session,DoubleType,true),StructField(std_purchases_per_session,DoubleType,true),StructField(monthlyCartTotal,LongType,true),StructField(monthlyPurchaseTotal,LongType,true),StructField(monthlyViewTotal,LongType,true),StructField(NumSessWithPurchases,LongType,true),StructField(NumSessWithCart,LongType,true),StructField(NumSessWithView,LongType,true),StructField(ses_end_purch,DoubleType,true),StructField(ses_end_cart,DoubleType,true)))"
      ]
     },
     "execution_count": 62,
     "metadata": {},
     "output_type": "execute_result"
    }
   ],
   "source": [
    "full.schema"
   ]
  },
  {
   "cell_type": "code",
   "execution_count": 63,
   "metadata": {},
   "outputs": [
    {
     "name": "stdout",
     "output_type": "stream",
     "text": [
      "+---------+------------------+------------------+---------------+------------------+----------------+------------------+-----------------+------------------------+----------------------------+----------------------+----------------------------+----------------------------+------------------------+------------------------+-------------------------+-------------------------+----------------+--------------------+----------------+--------------------+---------------+---------------+-------------+------------+\n",
      "|  user_id|    m2_total_spend|    m1_total_spend|m1_total_events|m1_purchase_events|m1_user_sessions|num_sessions_month|       AvgSessLen|stddev_SessionLengthSecs|avg_interactions_per_session|stddev_int_per_session|max_interactions_one_session|purchase_pct_of_total_events|cart_pct_of_total_events|view_pct_of_total_events|avg_purchases_per_session|std_purchases_per_session|monthlyCartTotal|monthlyPurchaseTotal|monthlyViewTotal|NumSessWithPurchases|NumSessWithCart|NumSessWithView|ses_end_purch|ses_end_cart|\n",
      "+---------+------------------+------------------+---------------+------------------+----------------+------------------+-----------------+------------------------+----------------------------+----------------------+----------------------------+----------------------------+------------------------+------------------------+-------------------------+-------------------------+----------------+--------------------+----------------+--------------------+---------------+---------------+-------------+------------+\n",
      "|512372691|14188.679718017578|293.82000732421875|             66|                 6|               3|                33|539.3333333333334|      144.67319493718708|                        11.0|     6.244997998398398|                          18|         0.09090909090909091|     0.06060606060606061|      0.8484848484848485|                      1.0|                      0.0|               2|                   3|              28|                   3|              2|              3|          1.0|         0.0|\n",
      "+---------+------------------+------------------+---------------+------------------+----------------+------------------+-----------------+------------------------+----------------------------+----------------------+----------------------------+----------------------------+------------------------+------------------------+-------------------------+-------------------------+----------------+--------------------+----------------+--------------------+---------------+---------------+-------------+------------+\n",
      "only showing top 1 row\n",
      "\n"
     ]
    }
   ],
   "source": [
    "full.show(1)"
   ]
  },
  {
   "cell_type": "code",
   "execution_count": 66,
   "metadata": {},
   "outputs": [
    {
     "data": {
      "text/plain": [
       "359105"
      ]
     },
     "execution_count": 66,
     "metadata": {},
     "output_type": "execute_result"
    }
   ],
   "source": [
    "full.count()"
   ]
  },
  {
   "cell_type": "markdown",
   "metadata": {},
   "source": [
    "#### Save as parquet. Make sure to change permissions in bash using chmod 777 filename"
   ]
  },
  {
   "cell_type": "code",
   "execution_count": 64,
   "metadata": {},
   "outputs": [
    {
     "name": "stdout",
     "output_type": "stream",
     "text": [
      "CPU times: user 4.19 ms, sys: 4.48 ms, total: 8.67 ms\n",
      "Wall time: 44.2 s\n"
     ]
    }
   ],
   "source": [
    "%%time\n",
    "full.write.mode(\"overwrite\").parquet(\"/project/ds5559/group12/processed_data/engineered_features.parquet\")"
   ]
  }
 ],
 "metadata": {
  "kernelspec": {
   "display_name": "DS 5110 Spark 3.1",
   "language": "python",
   "name": "ds5110_spark3.1"
  },
  "language_info": {
   "codemirror_mode": {
    "name": "ipython",
    "version": 3
   },
   "file_extension": ".py",
   "mimetype": "text/x-python",
   "name": "python",
   "nbconvert_exporter": "python",
   "pygments_lexer": "ipython3",
   "version": "3.7.10"
  }
 },
 "nbformat": 4,
 "nbformat_minor": 4
}
