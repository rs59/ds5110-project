{
 "cells": [
  {
   "cell_type": "markdown",
   "metadata": {},
   "source": [
    "## File 02 - Feature Creation\n",
    "\n",
    "In this file, we create new features from our interaction-level dataset, handle obvious errors/outliers, and perform PCA. "
   ]
  },
  {
   "cell_type": "markdown",
   "metadata": {},
   "source": [
    "### Set up Spark session and data schema\n",
    "\n",
    "We can specify more options in the SparkSession creator, but currently the options are at the default settings."
   ]
  },
  {
   "cell_type": "code",
   "execution_count": 1,
   "metadata": {},
   "outputs": [
    {
     "name": "stdout",
     "output_type": "stream",
     "text": [
      "CPU times: user 556 ms, sys: 334 ms, total: 890 ms\n",
      "Wall time: 5.68 s\n"
     ]
    }
   ],
   "source": [
    "%%time\n",
    "from pyspark.sql import SparkSession\n",
    "from pyspark.sql import types as T\n",
    "import matplotlib.pyplot as plt\n",
    "from pyspark.sql.functions import col\n",
    "from pyspark.ml.feature import MinMaxScaler\n",
    "from pyspark.ml.feature import VectorAssembler\n",
    "from pyspark.ml import Pipeline\n",
    "from pyspark.sql.functions import udf\n",
    "from pyspark.sql.types import DoubleType, IntegerType\n",
    "from pyspark.sql.functions import *\n",
    "import datetime as dt\n",
    "from pyspark.sql.functions import translate\n",
    "\n",
    "from pyspark.ml.feature import PCA as PCAml\n",
    "from pyspark.ml.linalg import Vectors \n",
    "              \n",
    "import copy\n",
    "    \n",
    "import sys\n",
    "spark = SparkSession.builder \\\n",
    "        .appName(\"project\") \\\n",
    "        .getOrCreate()\n",
    "\n",
    "sc = spark.sparkContext\n",
    "\n",
    "#schema = \"`event_time` TIMESTAMP,`event_type` STRING,`product_id` INT,`category_id` BIGINT,`category_code` STRING,`brand` STRING,`price` FLOAT,`user_id` INT,`user_session` STRING\"\n",
    "#ddl_schema = T._parse_datatype_string(schema)"
   ]
  },
  {
   "cell_type": "markdown",
   "metadata": {},
   "source": [
    "See https://docs.google.com/document/d/1NG4KGticBXn0D3PL5_zMxLV2Pr7A8PQtLcasxCOd1nA/edit for table of features."
   ]
  },
  {
   "cell_type": "markdown",
   "metadata": {},
   "source": [
    "### Read in data"
   ]
  },
  {
   "cell_type": "code",
   "execution_count": 2,
   "metadata": {},
   "outputs": [
    {
     "name": "stdout",
     "output_type": "stream",
     "text": [
      "CPU times: user 3.12 ms, sys: 1.11 ms, total: 4.23 ms\n",
      "Wall time: 3.04 s\n"
     ]
    }
   ],
   "source": [
    "%%time\n",
    "full = spark.read.parquet(\"./processed_data/preprocessed_01.parquet\")\n",
    "m1 = spark.read.parquet(\"./processed_data/month_01_filtered.parquet\") # This brings in the data we can create additional features from"
   ]
  },
  {
   "cell_type": "code",
   "execution_count": 3,
   "metadata": {},
   "outputs": [
    {
     "name": "stdout",
     "output_type": "stream",
     "text": [
      "36228\n",
      "+---------+------------------+------------------+------------+--------------+\n",
      "|  user_id|     T_total_spend|       total_spend|total_events|total_sessions|\n",
      "+---------+------------------+------------------+------------+--------------+\n",
      "|416898622|               0.0|1197.9500122070312|          14|             2|\n",
      "|512431250|               0.0|  964.760009765625|          22|             7|\n",
      "|512432602|               0.0| 1253.659984588623|          19|             2|\n",
      "|512440297|               0.0| 65.86000061035156|          29|             9|\n",
      "|512444835|12648.860717773438| 46.04999923706055|          98|            20|\n",
      "+---------+------------------+------------------+------------+--------------+\n",
      "only showing top 5 rows\n",
      "\n"
     ]
    }
   ],
   "source": [
    "print(full.count())\n",
    "full.show(5)"
   ]
  },
  {
   "cell_type": "code",
   "execution_count": 4,
   "metadata": {},
   "outputs": [
    {
     "name": "stdout",
     "output_type": "stream",
     "text": [
      "1598123\n",
      "+---------+-------------------+----------+----------+-------------------+-------------+-----+------+--------------------+\n",
      "|  user_id|         event_time|event_type|product_id|        category_id|category_code|brand| price|        user_session|\n",
      "+---------+-------------------+----------+----------+-------------------+-------------+-----+------+--------------------+\n",
      "|512435762|2020-01-02 03:25:07|      view|   1500440|2232732071460078545|    kids.toys|epson|174.73|f044f5eb-15b6-458...|\n",
      "|512435762|2020-01-02 03:25:41|      view|   1500440|2232732071460078545|    kids.toys|epson|174.73|f044f5eb-15b6-458...|\n",
      "|512435762|2020-01-02 03:25:49|      view|   1500021|2232732071460078545|    kids.toys|epson|117.84|f044f5eb-15b6-458...|\n",
      "|512435762|2020-01-02 03:26:15|      view|   1500021|2232732071460078545|    kids.toys|epson|117.84|f044f5eb-15b6-458...|\n",
      "|512435762|2020-01-13 14:51:59|      view|  54900006|2232732128041238700|apparel.shirt| null| 51.48|e38bf463-f852-4b0...|\n",
      "+---------+-------------------+----------+----------+-------------------+-------------+-----+------+--------------------+\n",
      "only showing top 5 rows\n",
      "\n"
     ]
    }
   ],
   "source": [
    "print(m1.count())\n",
    "m1.show(5)"
   ]
  },
  {
   "cell_type": "markdown",
   "metadata": {},
   "source": [
    "## Begin Creating Features\n",
    "### Create each on an individual level, then join to full\n",
    "##### NOTE: Must rename all features so that they do not contain parenthesis - not compatible with saving to parquet"
   ]
  },
  {
   "cell_type": "markdown",
   "metadata": {},
   "source": [
    "_________________"
   ]
  },
  {
   "cell_type": "markdown",
   "metadata": {},
   "source": [
    "#### Average Session Duration (avg_session_length)"
   ]
  },
  {
   "cell_type": "code",
   "execution_count": 5,
   "metadata": {},
   "outputs": [],
   "source": [
    "session_ends = m1.groupBy('user_id', 'user_session').agg(max('event_time'), min('event_time'))"
   ]
  },
  {
   "cell_type": "code",
   "execution_count": 6,
   "metadata": {},
   "outputs": [
    {
     "name": "stdout",
     "output_type": "stream",
     "text": [
      "+---------+--------------------+-------------------+-------------------+\n",
      "|  user_id|        user_session|    max(event_time)|    min(event_time)|\n",
      "+---------+--------------------+-------------------+-------------------+\n",
      "|526912795|eca36803-522d-448...|2020-01-21 19:09:26|2020-01-21 19:06:49|\n",
      "|539924996|37d03579-4eed-4cc...|2020-01-06 08:06:32|2020-01-06 08:04:14|\n",
      "|541839658|4524b88b-41c5-4d1...|2020-01-15 14:59:12|2020-01-15 13:05:52|\n",
      "|554474132|c77d39b2-b1fa-4cc...|2020-01-08 12:08:16|2020-01-08 12:08:16|\n",
      "|561060528|d0b3c766-9c8a-4c4...|2020-01-09 06:15:54|2020-01-09 06:11:02|\n",
      "+---------+--------------------+-------------------+-------------------+\n",
      "only showing top 5 rows\n",
      "\n"
     ]
    }
   ],
   "source": [
    "session_ends.show(5)"
   ]
  },
  {
   "cell_type": "code",
   "execution_count": 7,
   "metadata": {},
   "outputs": [],
   "source": [
    "session_ends = session_ends.withColumn('session_length', (col(\"max(event_time)\").cast('long') - col(\"min(event_time)\").cast('long')))"
   ]
  },
  {
   "cell_type": "code",
   "execution_count": 8,
   "metadata": {},
   "outputs": [
    {
     "name": "stdout",
     "output_type": "stream",
     "text": [
      "+---------+--------------------+-------------------+-------------------+--------------+\n",
      "|  user_id|        user_session|    max(event_time)|    min(event_time)|session_length|\n",
      "+---------+--------------------+-------------------+-------------------+--------------+\n",
      "|594413646|dc9d1ec0-6440-467...|2020-01-31 19:31:07|2020-01-01 02:30:17|       2653250|\n",
      "|563182846|f5943245-7eb9-410...|2020-01-31 20:14:40|2020-01-01 05:04:00|       2646640|\n",
      "|519038485|810387f0-d371-425...|2020-01-31 17:44:11|2020-01-01 06:12:07|       2633524|\n",
      "|584249812|1940c594-f169-48c...|2020-01-31 15:09:53|2020-01-01 04:19:19|       2631034|\n",
      "|584249812|c1735f57-dc30-405...|2020-01-31 15:09:53|2020-01-01 04:22:54|       2630819|\n",
      "+---------+--------------------+-------------------+-------------------+--------------+\n",
      "only showing top 5 rows\n",
      "\n"
     ]
    }
   ],
   "source": [
    "session_ends.orderBy(col(\"session_length\").desc()).show(5)\n",
    "# NOTE: Lots of these sessions are unreasonably long"
   ]
  },
  {
   "cell_type": "code",
   "execution_count": 9,
   "metadata": {},
   "outputs": [],
   "source": [
    "avg_sess = session_ends.groupBy('user_id').avg('session_length').withColumnRenamed('avg(session_length)', \"avg_session_length\")"
   ]
  },
  {
   "cell_type": "code",
   "execution_count": 10,
   "metadata": {},
   "outputs": [
    {
     "name": "stdout",
     "output_type": "stream",
     "text": [
      "+---------+------------------+\n",
      "|  user_id|avg_session_length|\n",
      "+---------+------------------+\n",
      "|598364094|  555.972972972973|\n",
      "|518756087|             100.0|\n",
      "|539305139|              84.2|\n",
      "|555510639| 6160.772727272727|\n",
      "|566350946|             185.5|\n",
      "+---------+------------------+\n",
      "only showing top 5 rows\n",
      "\n"
     ]
    }
   ],
   "source": [
    "avg_sess.show(5)"
   ]
  },
  {
   "cell_type": "code",
   "execution_count": 11,
   "metadata": {},
   "outputs": [
    {
     "name": "stdout",
     "output_type": "stream",
     "text": [
      "36228\n",
      "+---------+-----------------+------------------+------------+--------------+------------------+\n",
      "|  user_id|    T_total_spend|       total_spend|total_events|total_sessions|avg_session_length|\n",
      "+---------+-----------------+------------------+------------+--------------+------------------+\n",
      "|598364094|              0.0| 8519.010177612305|         418|            37|  555.972972972973|\n",
      "|518756087|              0.0| 8.210000038146973|          29|             9|             100.0|\n",
      "|539305139|              0.0|10653.269989013672|         111|            30|              84.2|\n",
      "|555510639|68302.43673706055| 394.3600082397461|         972|            44| 6160.772727272727|\n",
      "|566350946|              0.0|25.459999084472656|           9|             2|             185.5|\n",
      "+---------+-----------------+------------------+------------+--------------+------------------+\n",
      "only showing top 5 rows\n",
      "\n"
     ]
    }
   ],
   "source": [
    "full = full.join(avg_sess, full.user_id == avg_sess.user_id).drop(avg_sess.user_id)\n",
    "print(full.count())\n",
    "full.show(5)"
   ]
  },
  {
   "cell_type": "markdown",
   "metadata": {},
   "source": [
    "#### Std Deviation of session duration by person (sd_session_length)"
   ]
  },
  {
   "cell_type": "code",
   "execution_count": 12,
   "metadata": {},
   "outputs": [
    {
     "name": "stdout",
     "output_type": "stream",
     "text": [
      "+---------+--------------------+-------------------+-------------------+--------------+\n",
      "|  user_id|        user_session|    max(event_time)|    min(event_time)|session_length|\n",
      "+---------+--------------------+-------------------+-------------------+--------------+\n",
      "|526912795|eca36803-522d-448...|2020-01-21 19:09:26|2020-01-21 19:06:49|           157|\n",
      "|539924996|37d03579-4eed-4cc...|2020-01-06 08:06:32|2020-01-06 08:04:14|           138|\n",
      "|541839658|4524b88b-41c5-4d1...|2020-01-15 14:59:12|2020-01-15 13:05:52|          6800|\n",
      "|554474132|c77d39b2-b1fa-4cc...|2020-01-08 12:08:16|2020-01-08 12:08:16|             0|\n",
      "|561060528|d0b3c766-9c8a-4c4...|2020-01-09 06:15:54|2020-01-09 06:11:02|           292|\n",
      "+---------+--------------------+-------------------+-------------------+--------------+\n",
      "only showing top 5 rows\n",
      "\n"
     ]
    }
   ],
   "source": [
    "session_ends.show(5)"
   ]
  },
  {
   "cell_type": "code",
   "execution_count": 13,
   "metadata": {},
   "outputs": [],
   "source": [
    "sd_session_length = session_ends.groupBy('user_id') \\\n",
    "                                 .agg(stddev('session_length')) \\\n",
    "                                 .withColumnRenamed(\"stddev_samp(session_length)\", 'sd_session_length')"
   ]
  },
  {
   "cell_type": "code",
   "execution_count": 14,
   "metadata": {},
   "outputs": [
    {
     "name": "stdout",
     "output_type": "stream",
     "text": [
      "+---------+------------------+\n",
      "|  user_id| sd_session_length|\n",
      "+---------+------------------+\n",
      "|598364094|1207.6052631019259|\n",
      "|518756087|247.70193782043773|\n",
      "|539305139| 88.46327895877435|\n",
      "|555510639| 28985.71549547044|\n",
      "|566350946|249.60869375885127|\n",
      "+---------+------------------+\n",
      "only showing top 5 rows\n",
      "\n"
     ]
    }
   ],
   "source": [
    "sd_session_length.show(5)"
   ]
  },
  {
   "cell_type": "code",
   "execution_count": 15,
   "metadata": {},
   "outputs": [],
   "source": [
    "full = full.join(sd_session_length, full.user_id == sd_session_length.user_id).drop(sd_session_length.user_id)"
   ]
  },
  {
   "cell_type": "markdown",
   "metadata": {},
   "source": [
    "#### Average number of interactions per session (avg_interactions_per_session)"
   ]
  },
  {
   "cell_type": "code",
   "execution_count": 16,
   "metadata": {},
   "outputs": [],
   "source": [
    "interactions_per_session = m1.groupBy('user_id', 'user_session').agg(count('event_type'))"
   ]
  },
  {
   "cell_type": "code",
   "execution_count": 17,
   "metadata": {},
   "outputs": [
    {
     "name": "stdout",
     "output_type": "stream",
     "text": [
      "+---------+--------------------+-----------------+\n",
      "|  user_id|        user_session|count(event_type)|\n",
      "+---------+--------------------+-----------------+\n",
      "|526912795|eca36803-522d-448...|                2|\n",
      "|539924996|37d03579-4eed-4cc...|                6|\n",
      "|541839658|4524b88b-41c5-4d1...|               55|\n",
      "|554474132|c77d39b2-b1fa-4cc...|                1|\n",
      "|561060528|d0b3c766-9c8a-4c4...|                6|\n",
      "+---------+--------------------+-----------------+\n",
      "only showing top 5 rows\n",
      "\n"
     ]
    }
   ],
   "source": [
    "interactions_per_session.show(5)"
   ]
  },
  {
   "cell_type": "code",
   "execution_count": 18,
   "metadata": {},
   "outputs": [],
   "source": [
    "avg_interactions_per_session = interactions_per_session.groupBy('user_id').avg('count(event_type)')"
   ]
  },
  {
   "cell_type": "code",
   "execution_count": 19,
   "metadata": {},
   "outputs": [],
   "source": [
    "avg_interactions_per_session = avg_interactions_per_session.withColumnRenamed('avg(count(event_type))', \"avg_interactions_per_session\")"
   ]
  },
  {
   "cell_type": "code",
   "execution_count": 20,
   "metadata": {},
   "outputs": [
    {
     "name": "stdout",
     "output_type": "stream",
     "text": [
      "+---------+-----------------+------------------+------------+--------------+------------------+------------------+----------------------------+\n",
      "|  user_id|    T_total_spend|       total_spend|total_events|total_sessions|avg_session_length| sd_session_length|avg_interactions_per_session|\n",
      "+---------+-----------------+------------------+------------+--------------+------------------+------------------+----------------------------+\n",
      "|598364094|              0.0| 8519.010177612305|         418|            37|  555.972972972973|1207.6052631019259|          11.297297297297296|\n",
      "|518756087|              0.0| 8.210000038146973|          29|             9|             100.0|247.70193782043773|          3.2222222222222223|\n",
      "|539305139|              0.0|10653.269989013672|         111|            30|              84.2| 88.46327895877435|                         3.7|\n",
      "|555510639|68302.43673706055| 394.3600082397461|         972|            44| 6160.772727272727| 28985.71549547044|          11.045454545454545|\n",
      "|566350946|              0.0|25.459999084472656|           9|             2|             185.5|249.60869375885127|                         4.5|\n",
      "+---------+-----------------+------------------+------------+--------------+------------------+------------------+----------------------------+\n",
      "only showing top 5 rows\n",
      "\n"
     ]
    }
   ],
   "source": [
    "full = full.join(avg_interactions_per_session, full.user_id == avg_interactions_per_session.user_id).drop(avg_interactions_per_session.user_id)\n",
    "full.show(5)"
   ]
  },
  {
   "cell_type": "markdown",
   "metadata": {},
   "source": [
    "#### Std Deviation of number of interactions per session per person (stddev_int_per_session)"
   ]
  },
  {
   "cell_type": "code",
   "execution_count": 21,
   "metadata": {},
   "outputs": [
    {
     "name": "stdout",
     "output_type": "stream",
     "text": [
      "+---------+---------------------------+\n",
      "|  user_id|sd_interactions_per_session|\n",
      "+---------+---------------------------+\n",
      "|598364094|         26.770490454213935|\n",
      "|518756087|          4.867693955503411|\n",
      "|539305139|         1.9145540580979452|\n",
      "|555510639|         12.279600299257046|\n",
      "|566350946|         3.5355339059327378|\n",
      "+---------+---------------------------+\n",
      "only showing top 5 rows\n",
      "\n"
     ]
    }
   ],
   "source": [
    "std_interactions_per_session = interactions_per_session.groupBy('user_id') \\\n",
    "                                                       .agg(stddev('count(event_type)')) \\\n",
    "                                                       .withColumnRenamed(\"stddev_samp(count(event_type))\", 'sd_interactions_per_session')\n",
    "std_interactions_per_session.show(5)"
   ]
  },
  {
   "cell_type": "code",
   "execution_count": 22,
   "metadata": {},
   "outputs": [
    {
     "name": "stdout",
     "output_type": "stream",
     "text": [
      "+---------+-----------------+------------------+------------+--------------+------------------+------------------+----------------------------+---------------------------+\n",
      "|  user_id|    T_total_spend|       total_spend|total_events|total_sessions|avg_session_length| sd_session_length|avg_interactions_per_session|sd_interactions_per_session|\n",
      "+---------+-----------------+------------------+------------+--------------+------------------+------------------+----------------------------+---------------------------+\n",
      "|598364094|              0.0| 8519.010177612305|         418|            37|  555.972972972973|1207.6052631019259|          11.297297297297296|         26.770490454213935|\n",
      "|518756087|              0.0| 8.210000038146973|          29|             9|             100.0|247.70193782043773|          3.2222222222222223|          4.867693955503411|\n",
      "|539305139|              0.0|10653.269989013672|         111|            30|              84.2| 88.46327895877435|                         3.7|         1.9145540580979452|\n",
      "|555510639|68302.43673706055| 394.3600082397461|         972|            44| 6160.772727272727| 28985.71549547044|          11.045454545454545|         12.279600299257046|\n",
      "|566350946|              0.0|25.459999084472656|           9|             2|             185.5|249.60869375885127|                         4.5|         3.5355339059327378|\n",
      "+---------+-----------------+------------------+------------+--------------+------------------+------------------+----------------------------+---------------------------+\n",
      "only showing top 5 rows\n",
      "\n"
     ]
    }
   ],
   "source": [
    "full = full.join(std_interactions_per_session, full.user_id == std_interactions_per_session.user_id).drop(std_interactions_per_session.user_id)\n",
    "full.show(5)"
   ]
  },
  {
   "cell_type": "markdown",
   "metadata": {},
   "source": [
    "#### Max number of interactions within one session (max_interactions_one_session)"
   ]
  },
  {
   "cell_type": "code",
   "execution_count": 23,
   "metadata": {},
   "outputs": [],
   "source": [
    "max_interactions_per_session = interactions_per_session.groupBy('user_id').max('count(event_type)')"
   ]
  },
  {
   "cell_type": "code",
   "execution_count": 24,
   "metadata": {},
   "outputs": [],
   "source": [
    "max_interactions_per_session = max_interactions_per_session.withColumnRenamed('max(count(event_type))', \"max_interactions_per_session\")"
   ]
  },
  {
   "cell_type": "code",
   "execution_count": 25,
   "metadata": {},
   "outputs": [
    {
     "name": "stdout",
     "output_type": "stream",
     "text": [
      "+---------+----------------------------+\n",
      "|  user_id|max_interactions_per_session|\n",
      "+---------+----------------------------+\n",
      "|598364094|                         150|\n",
      "+---------+----------------------------+\n",
      "only showing top 1 row\n",
      "\n"
     ]
    }
   ],
   "source": [
    "max_interactions_per_session.show(1)"
   ]
  },
  {
   "cell_type": "code",
   "execution_count": 26,
   "metadata": {},
   "outputs": [
    {
     "name": "stdout",
     "output_type": "stream",
     "text": [
      "+---------+-----------------+------------------+------------+--------------+------------------+------------------+----------------------------+---------------------------+----------------------------+\n",
      "|  user_id|    T_total_spend|       total_spend|total_events|total_sessions|avg_session_length| sd_session_length|avg_interactions_per_session|sd_interactions_per_session|max_interactions_per_session|\n",
      "+---------+-----------------+------------------+------------+--------------+------------------+------------------+----------------------------+---------------------------+----------------------------+\n",
      "|598364094|              0.0| 8519.010177612305|         418|            37|  555.972972972973|1207.6052631019259|          11.297297297297296|         26.770490454213935|                         150|\n",
      "|518756087|              0.0| 8.210000038146973|          29|             9|             100.0|247.70193782043773|          3.2222222222222223|          4.867693955503411|                          16|\n",
      "|539305139|              0.0|10653.269989013672|         111|            30|              84.2| 88.46327895877435|                         3.7|         1.9145540580979452|                          10|\n",
      "|555510639|68302.43673706055| 394.3600082397461|         972|            44| 6160.772727272727| 28985.71549547044|          11.045454545454545|         12.279600299257046|                          49|\n",
      "|566350946|              0.0|25.459999084472656|           9|             2|             185.5|249.60869375885127|                         4.5|         3.5355339059327378|                           7|\n",
      "+---------+-----------------+------------------+------------+--------------+------------------+------------------+----------------------------+---------------------------+----------------------------+\n",
      "only showing top 5 rows\n",
      "\n"
     ]
    }
   ],
   "source": [
    "full = full.join(max_interactions_per_session, full.user_id == max_interactions_per_session.user_id).drop(max_interactions_per_session.user_id)\n",
    "full.show(5)"
   ]
  },
  {
   "cell_type": "markdown",
   "metadata": {},
   "source": [
    "#### Percent of total events that are x (Purchase, Cart, View) ('purchase_pct_of_total_events', 'cart_pct_of_total_events', 'view_pct_of_total_events')"
   ]
  },
  {
   "cell_type": "code",
   "execution_count": 27,
   "metadata": {},
   "outputs": [],
   "source": [
    "event_counts = m1.groupBy('user_id', 'user_session').pivot('event_type').agg(count('event_type'))\n",
    "# Here the three types of event count are pivoted out for later tabulation"
   ]
  },
  {
   "cell_type": "code",
   "execution_count": 28,
   "metadata": {},
   "outputs": [
    {
     "name": "stdout",
     "output_type": "stream",
     "text": [
      "+---------+--------------------+----+--------+----+\n",
      "|  user_id|        user_session|cart|purchase|view|\n",
      "+---------+--------------------+----+--------+----+\n",
      "|605451879|35dce21a-47dd-45f...|   2|       1|   2|\n",
      "|571736229|3d568215-c626-462...|   0|       0|   1|\n",
      "|596589270|5dbba8f0-9904-498...|   3|       1|   7|\n",
      "|606099979|83be3ab8-b47c-409...|   0|       0|   2|\n",
      "|563099954|f718a878-5191-402...|   1|       0|   1|\n",
      "+---------+--------------------+----+--------+----+\n",
      "only showing top 5 rows\n",
      "\n"
     ]
    }
   ],
   "source": [
    "event_counts = event_counts.fillna(0) #replace nulls with 0 for math\n",
    "event_counts.show(5)"
   ]
  },
  {
   "cell_type": "code",
   "execution_count": 29,
   "metadata": {},
   "outputs": [],
   "source": [
    "events_per_session = event_counts.withColumn('events_per_session_total', col('cart') + col('purchase') + col('view')) \n",
    "# Get total number of events per session"
   ]
  },
  {
   "cell_type": "code",
   "execution_count": 30,
   "metadata": {},
   "outputs": [
    {
     "name": "stdout",
     "output_type": "stream",
     "text": [
      "+---------+--------------------+----+--------+----+------------------------+\n",
      "|  user_id|        user_session|cart|purchase|view|events_per_session_total|\n",
      "+---------+--------------------+----+--------+----+------------------------+\n",
      "|605451879|35dce21a-47dd-45f...|   2|       1|   2|                       5|\n",
      "|571736229|3d568215-c626-462...|   0|       0|   1|                       1|\n",
      "|596589270|5dbba8f0-9904-498...|   3|       1|   7|                      11|\n",
      "|606099979|83be3ab8-b47c-409...|   0|       0|   2|                       2|\n",
      "|563099954|f718a878-5191-402...|   1|       0|   1|                       2|\n",
      "+---------+--------------------+----+--------+----+------------------------+\n",
      "only showing top 5 rows\n",
      "\n"
     ]
    }
   ],
   "source": [
    "events_per_session.show(5)"
   ]
  },
  {
   "cell_type": "code",
   "execution_count": 31,
   "metadata": {},
   "outputs": [],
   "source": [
    "pct_events = events_per_session.groupBy('user_id').sum()"
   ]
  },
  {
   "cell_type": "code",
   "execution_count": 32,
   "metadata": {},
   "outputs": [],
   "source": [
    "pct_totalevents = pct_events.withColumn('purchase_pct_of_total_events', col('sum(purchase)')/col('sum(events_per_session_total)')) \\\n",
    "                  .withColumn('view_pct_of_total_events', col('sum(view)')/col('sum(events_per_session_total)')) \\\n",
    "                  .withColumn('cart_pct_of_total_events', col('sum(cart)')/col('sum(events_per_session_total)'))"
   ]
  },
  {
   "cell_type": "code",
   "execution_count": 33,
   "metadata": {},
   "outputs": [],
   "source": [
    "merge_me = pct_totalevents.select('user_id', 'purchase_pct_of_total_events', 'view_pct_of_total_events', 'cart_pct_of_total_events')"
   ]
  },
  {
   "cell_type": "code",
   "execution_count": 34,
   "metadata": {},
   "outputs": [
    {
     "name": "stdout",
     "output_type": "stream",
     "text": [
      "+---------+------------------+------------------+------------+--------------+------------------+-----------------+----------------------------+---------------------------+----------------------------+----------------------------+------------------------+------------------------+\n",
      "|  user_id|     T_total_spend|       total_spend|total_events|total_sessions|avg_session_length|sd_session_length|avg_interactions_per_session|sd_interactions_per_session|max_interactions_per_session|purchase_pct_of_total_events|view_pct_of_total_events|cart_pct_of_total_events|\n",
      "+---------+------------------+------------------+------------+--------------+------------------+-----------------+----------------------------+---------------------------+----------------------------+----------------------------+------------------------+------------------------+\n",
      "|512479812|50881.730712890625|166.19000244140625|          73|             9| 533.1111111111111|649.9266197895814|            8.11111111111111|          7.372998786864888|                          22|          0.0136986301369863|      0.9452054794520548|      0.0410958904109589|\n",
      "|512562561|               0.0| 38.33000183105469|          82|            11| 791.0909090909091|1232.483545897912|           7.454545454545454|          9.309818863583075|                          26|        0.012195121951219513|       0.926829268292683|     0.06097560975609756|\n",
      "|512583155|2888.1599731445312|443.65999603271484|          22|             4|            315.75| 410.904997130318|                         5.5|          3.696845502136472|                           9|         0.13636363636363635|      0.7272727272727273|     0.13636363636363635|\n",
      "|512996234|               0.0| 81.95999908447266|          12|             4|            189.25|            378.5|                         3.0|                        4.0|                           9|         0.08333333333333333|      0.8333333333333334|     0.08333333333333333|\n",
      "|513143907|               0.0|  965.219970703125|          15|             2|            3485.5|4929.241371651423|                         7.5|          9.192388155425117|                          14|         0.06666666666666667|      0.8666666666666667|     0.06666666666666667|\n",
      "+---------+------------------+------------------+------------+--------------+------------------+-----------------+----------------------------+---------------------------+----------------------------+----------------------------+------------------------+------------------------+\n",
      "only showing top 5 rows\n",
      "\n"
     ]
    }
   ],
   "source": [
    "full = full.join(merge_me, full.user_id == merge_me.user_id).drop(merge_me.user_id)\n",
    "full.show(5)"
   ]
  },
  {
   "cell_type": "markdown",
   "metadata": {},
   "source": [
    "#### Average number of purchases per session (avg_purchases_per_session)"
   ]
  },
  {
   "cell_type": "code",
   "execution_count": 35,
   "metadata": {},
   "outputs": [],
   "source": [
    "avg_purchases_per_session = events_per_session.groupBy('user_id').avg('purchase').withColumnRenamed('avg(purchase)', \"avg_purchases_per_session\")"
   ]
  },
  {
   "cell_type": "code",
   "execution_count": 36,
   "metadata": {},
   "outputs": [
    {
     "name": "stdout",
     "output_type": "stream",
     "text": [
      "+---------+-------------------------+\n",
      "|  user_id|avg_purchases_per_session|\n",
      "+---------+-------------------------+\n",
      "|598364094|       0.2702702702702703|\n",
      "|518756087|       0.1111111111111111|\n",
      "|555510639|      0.09090909090909091|\n",
      "|539305139|       0.5333333333333333|\n",
      "|566350946|                      0.5|\n",
      "+---------+-------------------------+\n",
      "only showing top 5 rows\n",
      "\n"
     ]
    }
   ],
   "source": [
    "avg_purchases_per_session.show(5)"
   ]
  },
  {
   "cell_type": "code",
   "execution_count": 37,
   "metadata": {},
   "outputs": [
    {
     "name": "stdout",
     "output_type": "stream",
     "text": [
      "+---------+------------------+------------------+------------+--------------+------------------+-----------------+----------------------------+---------------------------+----------------------------+----------------------------+------------------------+------------------------+-------------------------+\n",
      "|  user_id|     T_total_spend|       total_spend|total_events|total_sessions|avg_session_length|sd_session_length|avg_interactions_per_session|sd_interactions_per_session|max_interactions_per_session|purchase_pct_of_total_events|view_pct_of_total_events|cart_pct_of_total_events|avg_purchases_per_session|\n",
      "+---------+------------------+------------------+------------+--------------+------------------+-----------------+----------------------------+---------------------------+----------------------------+----------------------------+------------------------+------------------------+-------------------------+\n",
      "|512479812|50881.730712890625|166.19000244140625|          73|             9| 533.1111111111111|649.9266197895814|            8.11111111111111|          7.372998786864888|                          22|          0.0136986301369863|      0.9452054794520548|      0.0410958904109589|       0.1111111111111111|\n",
      "|512562561|               0.0| 38.33000183105469|          82|            11| 791.0909090909091|1232.483545897912|           7.454545454545454|          9.309818863583075|                          26|        0.012195121951219513|       0.926829268292683|     0.06097560975609756|      0.09090909090909091|\n",
      "|512583155|2888.1599731445312|443.65999603271484|          22|             4|            315.75| 410.904997130318|                         5.5|          3.696845502136472|                           9|         0.13636363636363635|      0.7272727272727273|     0.13636363636363635|                     0.75|\n",
      "|512996234|               0.0| 81.95999908447266|          12|             4|            189.25|            378.5|                         3.0|                        4.0|                           9|         0.08333333333333333|      0.8333333333333334|     0.08333333333333333|                     0.25|\n",
      "|513143907|               0.0|  965.219970703125|          15|             2|            3485.5|4929.241371651423|                         7.5|          9.192388155425117|                          14|         0.06666666666666667|      0.8666666666666667|     0.06666666666666667|                      0.5|\n",
      "+---------+------------------+------------------+------------+--------------+------------------+-----------------+----------------------------+---------------------------+----------------------------+----------------------------+------------------------+------------------------+-------------------------+\n",
      "only showing top 5 rows\n",
      "\n"
     ]
    }
   ],
   "source": [
    "full = full.join(avg_purchases_per_session, full.user_id == avg_purchases_per_session.user_id).drop(avg_purchases_per_session.user_id)\n",
    "full.show(5)"
   ]
  },
  {
   "cell_type": "markdown",
   "metadata": {},
   "source": [
    "#### STD of number of purchases per session per person (std_purchases_per_session)"
   ]
  },
  {
   "cell_type": "code",
   "execution_count": 38,
   "metadata": {},
   "outputs": [
    {
     "name": "stdout",
     "output_type": "stream",
     "text": [
      "+---------+------------------------+\n",
      "|  user_id|sd_purchases_per_session|\n",
      "+---------+------------------------+\n",
      "|598364094|      0.6518626580230877|\n",
      "|518756087|      0.3333333333333333|\n",
      "|555510639|     0.29080336345115265|\n",
      "|539305139|        0.68144538746106|\n",
      "|566350946|      0.7071067811865476|\n",
      "+---------+------------------------+\n",
      "only showing top 5 rows\n",
      "\n"
     ]
    }
   ],
   "source": [
    "std_purchases_per_session = events_per_session.groupBy('user_id') \\\n",
    "                                              .agg(stddev('purchase')) \\\n",
    "                                              .withColumnRenamed('stddev_samp(purchase)', \"sd_purchases_per_session\")\n",
    "std_purchases_per_session.show(5)"
   ]
  },
  {
   "cell_type": "code",
   "execution_count": 39,
   "metadata": {},
   "outputs": [
    {
     "name": "stdout",
     "output_type": "stream",
     "text": [
      "+---------+------------------+------------------+------------+--------------+------------------+-----------------+----------------------------+---------------------------+----------------------------+----------------------------+------------------------+------------------------+-------------------------+------------------------+\n",
      "|  user_id|     T_total_spend|       total_spend|total_events|total_sessions|avg_session_length|sd_session_length|avg_interactions_per_session|sd_interactions_per_session|max_interactions_per_session|purchase_pct_of_total_events|view_pct_of_total_events|cart_pct_of_total_events|avg_purchases_per_session|sd_purchases_per_session|\n",
      "+---------+------------------+------------------+------------+--------------+------------------+-----------------+----------------------------+---------------------------+----------------------------+----------------------------+------------------------+------------------------+-------------------------+------------------------+\n",
      "|512479812|50881.730712890625|166.19000244140625|          73|             9| 533.1111111111111|649.9266197895814|            8.11111111111111|          7.372998786864888|                          22|          0.0136986301369863|      0.9452054794520548|      0.0410958904109589|       0.1111111111111111|     0.33333333333333337|\n",
      "|512562561|               0.0| 38.33000183105469|          82|            11| 791.0909090909091|1232.483545897912|           7.454545454545454|          9.309818863583075|                          26|        0.012195121951219513|       0.926829268292683|     0.06097560975609756|      0.09090909090909091|     0.30151134457776363|\n",
      "|512583155|2888.1599731445312|443.65999603271484|          22|             4|            315.75| 410.904997130318|                         5.5|          3.696845502136472|                           9|         0.13636363636363635|      0.7272727272727273|     0.13636363636363635|                     0.75|                     0.5|\n",
      "|512996234|               0.0| 81.95999908447266|          12|             4|            189.25|            378.5|                         3.0|                        4.0|                           9|         0.08333333333333333|      0.8333333333333334|     0.08333333333333333|                     0.25|                     0.5|\n",
      "|513143907|               0.0|  965.219970703125|          15|             2|            3485.5|4929.241371651423|                         7.5|          9.192388155425117|                          14|         0.06666666666666667|      0.8666666666666667|     0.06666666666666667|                      0.5|      0.7071067811865476|\n",
      "+---------+------------------+------------------+------------+--------------+------------------+-----------------+----------------------------+---------------------------+----------------------------+----------------------------+------------------------+------------------------+-------------------------+------------------------+\n",
      "only showing top 5 rows\n",
      "\n"
     ]
    }
   ],
   "source": [
    "full = full.join(std_purchases_per_session, full.user_id == std_purchases_per_session.user_id).drop(std_purchases_per_session.user_id)\n",
    "full.show(5)"
   ]
  },
  {
   "cell_type": "markdown",
   "metadata": {},
   "source": [
    "#### Total number of each type of event over whole month (monthlyCartTotal, monthlyPurchaseTotal, monthlyViewTotal)"
   ]
  },
  {
   "cell_type": "code",
   "execution_count": 40,
   "metadata": {},
   "outputs": [],
   "source": [
    "event_counts_month = event_counts.groupBy('user_id').sum('cart', 'purchase', 'view')\\\n",
    "                     .withColumnRenamed('sum(cart)', 'cart_events') \\\n",
    "                     .withColumnRenamed('sum(purchase)', 'purchase_events') \\\n",
    "                     .withColumnRenamed('sum(view)', 'view_events')"
   ]
  },
  {
   "cell_type": "code",
   "execution_count": 41,
   "metadata": {},
   "outputs": [
    {
     "name": "stdout",
     "output_type": "stream",
     "text": [
      "+---------+-----------+---------------+-----------+\n",
      "|  user_id|cart_events|purchase_events|view_events|\n",
      "+---------+-----------+---------------+-----------+\n",
      "|598364094|         13|             10|        395|\n",
      "|518756087|          3|              1|         25|\n",
      "|555510639|         13|              4|        469|\n",
      "|539305139|         20|             16|         75|\n",
      "|566350946|          1|              1|          7|\n",
      "+---------+-----------+---------------+-----------+\n",
      "only showing top 5 rows\n",
      "\n"
     ]
    }
   ],
   "source": [
    "event_counts_month.show(5)"
   ]
  },
  {
   "cell_type": "code",
   "execution_count": 42,
   "metadata": {},
   "outputs": [
    {
     "name": "stdout",
     "output_type": "stream",
     "text": [
      "+---------+------------------+------------------+------------+--------------+------------------+-----------------+----------------------------+---------------------------+----------------------------+----------------------------+------------------------+------------------------+-------------------------+------------------------+-----------+---------------+-----------+\n",
      "|  user_id|     T_total_spend|       total_spend|total_events|total_sessions|avg_session_length|sd_session_length|avg_interactions_per_session|sd_interactions_per_session|max_interactions_per_session|purchase_pct_of_total_events|view_pct_of_total_events|cart_pct_of_total_events|avg_purchases_per_session|sd_purchases_per_session|cart_events|purchase_events|view_events|\n",
      "+---------+------------------+------------------+------------+--------------+------------------+-----------------+----------------------------+---------------------------+----------------------------+----------------------------+------------------------+------------------------+-------------------------+------------------------+-----------+---------------+-----------+\n",
      "|512479812|50881.730712890625|166.19000244140625|          73|             9| 533.1111111111111|649.9266197895814|            8.11111111111111|          7.372998786864888|                          22|          0.0136986301369863|      0.9452054794520548|      0.0410958904109589|       0.1111111111111111|     0.33333333333333337|          3|              1|         69|\n",
      "|512562561|               0.0| 38.33000183105469|          82|            11| 791.0909090909091|1232.483545897912|           7.454545454545454|          9.309818863583075|                          26|        0.012195121951219513|       0.926829268292683|     0.06097560975609756|      0.09090909090909091|     0.30151134457776363|          5|              1|         76|\n",
      "|512583155|2888.1599731445312|443.65999603271484|          22|             4|            315.75| 410.904997130318|                         5.5|          3.696845502136472|                           9|         0.13636363636363635|      0.7272727272727273|     0.13636363636363635|                     0.75|                     0.5|          3|              3|         16|\n",
      "|512996234|               0.0| 81.95999908447266|          12|             4|            189.25|            378.5|                         3.0|                        4.0|                           9|         0.08333333333333333|      0.8333333333333334|     0.08333333333333333|                     0.25|                     0.5|          1|              1|         10|\n",
      "|513143907|               0.0|  965.219970703125|          15|             2|            3485.5|4929.241371651423|                         7.5|          9.192388155425117|                          14|         0.06666666666666667|      0.8666666666666667|     0.06666666666666667|                      0.5|      0.7071067811865476|          1|              1|         13|\n",
      "+---------+------------------+------------------+------------+--------------+------------------+-----------------+----------------------------+---------------------------+----------------------------+----------------------------+------------------------+------------------------+-------------------------+------------------------+-----------+---------------+-----------+\n",
      "only showing top 5 rows\n",
      "\n"
     ]
    }
   ],
   "source": [
    "full = full.join(event_counts_month, full.user_id == event_counts_month.user_id).drop(event_counts_month.user_id)\n",
    "full.show(5)"
   ]
  },
  {
   "cell_type": "markdown",
   "metadata": {},
   "source": [
    "#### Total number of sessions that contain event over whole month (NumSessWithPurchases, NumSessWithCart, NumSessWithView)"
   ]
  },
  {
   "cell_type": "code",
   "execution_count": 43,
   "metadata": {},
   "outputs": [],
   "source": [
    "events_over_month = events_per_session.withColumn('purchase_events', when(col('purchase') == 0, 0).otherwise(1)) \\\n",
    "                                      .withColumn('cart_events', when(col('cart')==0, 0).otherwise(1)) \\\n",
    "                                      .withColumn('view_events', when(col('view')==0, 0).otherwise(1))"
   ]
  },
  {
   "cell_type": "code",
   "execution_count": 44,
   "metadata": {},
   "outputs": [],
   "source": [
    "num_sesh_containing_event = events_over_month.groupBy('user_id').sum('purchase_events', \"cart_events\", \"view_events\") \\\n",
    "                            .withColumnRenamed(\"sum(purchase_events)\", \"sessions_with_purchase\") \\\n",
    "                            .withColumnRenamed(\"sum(cart_events)\", \"sessions_with_cart\") \\\n",
    "                            .withColumnRenamed(\"sum(view_events)\", \"sessions_with_view\")"
   ]
  },
  {
   "cell_type": "code",
   "execution_count": 45,
   "metadata": {},
   "outputs": [
    {
     "name": "stdout",
     "output_type": "stream",
     "text": [
      "+---------+----------------------+------------------+------------------+\n",
      "|  user_id|sessions_with_purchase|sessions_with_cart|sessions_with_view|\n",
      "+---------+----------------------+------------------+------------------+\n",
      "|598364094|                     7|                 7|                37|\n",
      "|518756087|                     1|                 1|                 9|\n",
      "|555510639|                     4|                 7|                44|\n",
      "|539305139|                    14|                17|                30|\n",
      "|566350946|                     1|                 1|                 2|\n",
      "+---------+----------------------+------------------+------------------+\n",
      "only showing top 5 rows\n",
      "\n"
     ]
    }
   ],
   "source": [
    "num_sesh_containing_event.show(5)"
   ]
  },
  {
   "cell_type": "code",
   "execution_count": 46,
   "metadata": {},
   "outputs": [
    {
     "name": "stdout",
     "output_type": "stream",
     "text": [
      "+---------+------------------+------------------+------------+--------------+------------------+-----------------+----------------------------+---------------------------+----------------------------+----------------------------+------------------------+------------------------+-------------------------+------------------------+-----------+---------------+-----------+----------------------+------------------+------------------+\n",
      "|  user_id|     T_total_spend|       total_spend|total_events|total_sessions|avg_session_length|sd_session_length|avg_interactions_per_session|sd_interactions_per_session|max_interactions_per_session|purchase_pct_of_total_events|view_pct_of_total_events|cart_pct_of_total_events|avg_purchases_per_session|sd_purchases_per_session|cart_events|purchase_events|view_events|sessions_with_purchase|sessions_with_cart|sessions_with_view|\n",
      "+---------+------------------+------------------+------------+--------------+------------------+-----------------+----------------------------+---------------------------+----------------------------+----------------------------+------------------------+------------------------+-------------------------+------------------------+-----------+---------------+-----------+----------------------+------------------+------------------+\n",
      "|512479812|50881.730712890625|166.19000244140625|          73|             9| 533.1111111111111|649.9266197895814|            8.11111111111111|          7.372998786864888|                          22|          0.0136986301369863|      0.9452054794520548|      0.0410958904109589|       0.1111111111111111|     0.33333333333333337|          3|              1|         69|                     1|                 2|                 9|\n",
      "|512562561|               0.0| 38.33000183105469|          82|            11| 791.0909090909091|1232.483545897912|           7.454545454545454|          9.309818863583075|                          26|        0.012195121951219513|       0.926829268292683|     0.06097560975609756|      0.09090909090909091|     0.30151134457776363|          5|              1|         76|                     1|                 3|                11|\n",
      "|512583155|2888.1599731445312|443.65999603271484|          22|             4|            315.75| 410.904997130318|                         5.5|          3.696845502136472|                           9|         0.13636363636363635|      0.7272727272727273|     0.13636363636363635|                     0.75|                     0.5|          3|              3|         16|                     3|                 3|                 4|\n",
      "|512996234|               0.0| 81.95999908447266|          12|             4|            189.25|            378.5|                         3.0|                        4.0|                           9|         0.08333333333333333|      0.8333333333333334|     0.08333333333333333|                     0.25|                     0.5|          1|              1|         10|                     1|                 1|                 4|\n",
      "|513143907|               0.0|  965.219970703125|          15|             2|            3485.5|4929.241371651423|                         7.5|          9.192388155425117|                          14|         0.06666666666666667|      0.8666666666666667|     0.06666666666666667|                      0.5|      0.7071067811865476|          1|              1|         13|                     1|                 1|                 2|\n",
      "+---------+------------------+------------------+------------+--------------+------------------+-----------------+----------------------------+---------------------------+----------------------------+----------------------------+------------------------+------------------------+-------------------------+------------------------+-----------+---------------+-----------+----------------------+------------------+------------------+\n",
      "only showing top 5 rows\n",
      "\n"
     ]
    }
   ],
   "source": [
    "full = full.join(num_sesh_containing_event, full.user_id == num_sesh_containing_event.user_id).drop(num_sesh_containing_event.user_id)\n",
    "full.show(5)"
   ]
  },
  {
   "cell_type": "markdown",
   "metadata": {},
   "source": [
    "#### Percent of individual's sessions that end in cart/purchase (ses_end_purch, ses_end_cart)"
   ]
  },
  {
   "cell_type": "code",
   "execution_count": 47,
   "metadata": {},
   "outputs": [
    {
     "name": "stdout",
     "output_type": "stream",
     "text": [
      "+---------+--------------------+----+--------+----+------------+--------+\n",
      "|  user_id|        user_session|cart|purchase|view|end_purchase|end_cart|\n",
      "+---------+--------------------+----+--------+----+------------+--------+\n",
      "|605451879|35dce21a-47dd-45f...|   2|       1|   2|           1|       0|\n",
      "|571736229|3d568215-c626-462...|   0|       0|   1|           0|       0|\n",
      "|596589270|5dbba8f0-9904-498...|   3|       1|   7|           1|       0|\n",
      "|606099979|83be3ab8-b47c-409...|   0|       0|   2|           0|       0|\n",
      "|563099954|f718a878-5191-402...|   1|       0|   1|           0|       1|\n",
      "+---------+--------------------+----+--------+----+------------+--------+\n",
      "only showing top 5 rows\n",
      "\n"
     ]
    }
   ],
   "source": [
    "session_ends2 = event_counts.withColumn('end_purchase', \\\n",
    "                                when(col('purchase') != 0, 1) \\\n",
    "                                .otherwise(0)) \\\n",
    "                            .withColumn('end_cart', \\\n",
    "                                when((col(\"purchase\") == 0) & (col(\"cart\") != 0), 1) \\\n",
    "                                .otherwise(0))\n",
    "session_ends2.show(5)"
   ]
  },
  {
   "cell_type": "code",
   "execution_count": 48,
   "metadata": {},
   "outputs": [
    {
     "name": "stdout",
     "output_type": "stream",
     "text": [
      "+---------+-------------------+-----------------+-------------+\n",
      "|  user_id|count(user_session)|sum(end_purchase)|sum(end_cart)|\n",
      "+---------+-------------------+-----------------+-------------+\n",
      "|598364094|                 37|                7|            0|\n",
      "|518756087|                  9|                1|            0|\n",
      "|555510639|                 44|                4|            3|\n",
      "|539305139|                 30|               14|            3|\n",
      "|566350946|                  2|                1|            0|\n",
      "+---------+-------------------+-----------------+-------------+\n",
      "only showing top 5 rows\n",
      "\n"
     ]
    }
   ],
   "source": [
    "session_sum = session_ends2.groupBy('user_id').agg(count('user_session'), sum('end_purchase'), sum('end_cart'))\n",
    "session_sum.show(5)"
   ]
  },
  {
   "cell_type": "code",
   "execution_count": 49,
   "metadata": {},
   "outputs": [
    {
     "name": "stdout",
     "output_type": "stream",
     "text": [
      "+---------+-------------------+-----------------+-------------+-------------------------+---------------------+\n",
      "|  user_id|count(user_session)|sum(end_purchase)|sum(end_cart)|pct_sessions_end_purchase|pct_sessions_end_cart|\n",
      "+---------+-------------------+-----------------+-------------+-------------------------+---------------------+\n",
      "|598364094|                 37|                7|            0|       0.1891891891891892|                  0.0|\n",
      "|518756087|                  9|                1|            0|       0.1111111111111111|                  0.0|\n",
      "|555510639|                 44|                4|            3|      0.09090909090909091|  0.06818181818181818|\n",
      "|539305139|                 30|               14|            3|       0.4666666666666667|                  0.1|\n",
      "|566350946|                  2|                1|            0|                      0.5|                  0.0|\n",
      "+---------+-------------------+-----------------+-------------+-------------------------+---------------------+\n",
      "only showing top 5 rows\n",
      "\n"
     ]
    }
   ],
   "source": [
    "session_sum = session_sum.withColumn('pct_sessions_end_purchase', col('sum(end_purchase)')/col('count(user_session)')) \\\n",
    "                         .withColumn('pct_sessions_end_cart', col('sum(end_cart)')/col('count(user_session)'))\n",
    "session_sum.show(5)"
   ]
  },
  {
   "cell_type": "code",
   "execution_count": 50,
   "metadata": {},
   "outputs": [
    {
     "name": "stdout",
     "output_type": "stream",
     "text": [
      "+---------+-------------------------+---------------------+\n",
      "|  user_id|pct_sessions_end_purchase|pct_sessions_end_cart|\n",
      "+---------+-------------------------+---------------------+\n",
      "|598364094|       0.1891891891891892|                  0.0|\n",
      "|518756087|       0.1111111111111111|                  0.0|\n",
      "|555510639|      0.09090909090909091|  0.06818181818181818|\n",
      "|539305139|       0.4666666666666667|                  0.1|\n",
      "|566350946|                      0.5|                  0.0|\n",
      "+---------+-------------------------+---------------------+\n",
      "only showing top 5 rows\n",
      "\n"
     ]
    }
   ],
   "source": [
    "temp = session_sum.select('user_id', \"pct_sessions_end_purchase\", \"pct_sessions_end_cart\")\n",
    "temp.show(5)"
   ]
  },
  {
   "cell_type": "code",
   "execution_count": 51,
   "metadata": {},
   "outputs": [
    {
     "name": "stdout",
     "output_type": "stream",
     "text": [
      "+---------+------------------+------------------+------------+--------------+------------------+-----------------+----------------------------+---------------------------+----------------------------+----------------------------+------------------------+------------------------+-------------------------+------------------------+-----------+---------------+-----------+----------------------+------------------+------------------+-------------------------+---------------------+\n",
      "|  user_id|     T_total_spend|       total_spend|total_events|total_sessions|avg_session_length|sd_session_length|avg_interactions_per_session|sd_interactions_per_session|max_interactions_per_session|purchase_pct_of_total_events|view_pct_of_total_events|cart_pct_of_total_events|avg_purchases_per_session|sd_purchases_per_session|cart_events|purchase_events|view_events|sessions_with_purchase|sessions_with_cart|sessions_with_view|pct_sessions_end_purchase|pct_sessions_end_cart|\n",
      "+---------+------------------+------------------+------------+--------------+------------------+-----------------+----------------------------+---------------------------+----------------------------+----------------------------+------------------------+------------------------+-------------------------+------------------------+-----------+---------------+-----------+----------------------+------------------+------------------+-------------------------+---------------------+\n",
      "|512479812|50881.730712890625|166.19000244140625|          73|             9| 533.1111111111111|649.9266197895814|            8.11111111111111|          7.372998786864888|                          22|          0.0136986301369863|      0.9452054794520548|      0.0410958904109589|       0.1111111111111111|     0.33333333333333337|          3|              1|         69|                     1|                 2|                 9|       0.1111111111111111|   0.1111111111111111|\n",
      "|512562561|               0.0| 38.33000183105469|          82|            11| 791.0909090909091|1232.483545897912|           7.454545454545454|          9.309818863583075|                          26|        0.012195121951219513|       0.926829268292683|     0.06097560975609756|      0.09090909090909091|     0.30151134457776363|          5|              1|         76|                     1|                 3|                11|      0.09090909090909091|  0.18181818181818182|\n",
      "|512583155|2888.1599731445312|443.65999603271484|          22|             4|            315.75| 410.904997130318|                         5.5|          3.696845502136472|                           9|         0.13636363636363635|      0.7272727272727273|     0.13636363636363635|                     0.75|                     0.5|          3|              3|         16|                     3|                 3|                 4|                     0.75|                  0.0|\n",
      "|512996234|               0.0| 81.95999908447266|          12|             4|            189.25|            378.5|                         3.0|                        4.0|                           9|         0.08333333333333333|      0.8333333333333334|     0.08333333333333333|                     0.25|                     0.5|          1|              1|         10|                     1|                 1|                 4|                     0.25|                  0.0|\n",
      "|513143907|               0.0|  965.219970703125|          15|             2|            3485.5|4929.241371651423|                         7.5|          9.192388155425117|                          14|         0.06666666666666667|      0.8666666666666667|     0.06666666666666667|                      0.5|      0.7071067811865476|          1|              1|         13|                     1|                 1|                 2|                      0.5|                  0.0|\n",
      "+---------+------------------+------------------+------------+--------------+------------------+-----------------+----------------------------+---------------------------+----------------------------+----------------------------+------------------------+------------------------+-------------------------+------------------------+-----------+---------------+-----------+----------------------+------------------+------------------+-------------------------+---------------------+\n",
      "only showing top 5 rows\n",
      "\n"
     ]
    }
   ],
   "source": [
    "full = full.join(temp, full.user_id == temp.user_id).drop(temp.user_id)\n",
    "full.show(5)"
   ]
  },
  {
   "cell_type": "markdown",
   "metadata": {},
   "source": [
    "### Preview full dataframe"
   ]
  },
  {
   "cell_type": "code",
   "execution_count": 52,
   "metadata": {},
   "outputs": [
    {
     "name": "stdout",
     "output_type": "stream",
     "text": [
      "root\n",
      " |-- user_id: integer (nullable = true)\n",
      " |-- T_total_spend: double (nullable = true)\n",
      " |-- total_spend: double (nullable = true)\n",
      " |-- total_events: long (nullable = true)\n",
      " |-- total_sessions: long (nullable = true)\n",
      " |-- avg_session_length: double (nullable = true)\n",
      " |-- sd_session_length: double (nullable = true)\n",
      " |-- avg_interactions_per_session: double (nullable = true)\n",
      " |-- sd_interactions_per_session: double (nullable = true)\n",
      " |-- max_interactions_per_session: long (nullable = true)\n",
      " |-- purchase_pct_of_total_events: double (nullable = true)\n",
      " |-- view_pct_of_total_events: double (nullable = true)\n",
      " |-- cart_pct_of_total_events: double (nullable = true)\n",
      " |-- avg_purchases_per_session: double (nullable = true)\n",
      " |-- sd_purchases_per_session: double (nullable = true)\n",
      " |-- cart_events: long (nullable = true)\n",
      " |-- purchase_events: long (nullable = true)\n",
      " |-- view_events: long (nullable = true)\n",
      " |-- sessions_with_purchase: long (nullable = true)\n",
      " |-- sessions_with_cart: long (nullable = true)\n",
      " |-- sessions_with_view: long (nullable = true)\n",
      " |-- pct_sessions_end_purchase: double (nullable = true)\n",
      " |-- pct_sessions_end_cart: double (nullable = true)\n",
      "\n"
     ]
    }
   ],
   "source": [
    "full.printSchema()"
   ]
  },
  {
   "cell_type": "code",
   "execution_count": 53,
   "metadata": {},
   "outputs": [
    {
     "name": "stdout",
     "output_type": "stream",
     "text": [
      "+---------+------------------+------------------+------------+--------------+------------------+-----------------+----------------------------+---------------------------+----------------------------+----------------------------+------------------------+------------------------+-------------------------+------------------------+-----------+---------------+-----------+----------------------+------------------+------------------+-------------------------+---------------------+\n",
      "|  user_id|     T_total_spend|       total_spend|total_events|total_sessions|avg_session_length|sd_session_length|avg_interactions_per_session|sd_interactions_per_session|max_interactions_per_session|purchase_pct_of_total_events|view_pct_of_total_events|cart_pct_of_total_events|avg_purchases_per_session|sd_purchases_per_session|cart_events|purchase_events|view_events|sessions_with_purchase|sessions_with_cart|sessions_with_view|pct_sessions_end_purchase|pct_sessions_end_cart|\n",
      "+---------+------------------+------------------+------------+--------------+------------------+-----------------+----------------------------+---------------------------+----------------------------+----------------------------+------------------------+------------------------+-------------------------+------------------------+-----------+---------------+-----------+----------------------+------------------+------------------+-------------------------+---------------------+\n",
      "|512479812|50881.730712890625|166.19000244140625|          73|             9| 533.1111111111111|649.9266197895814|            8.11111111111111|          7.372998786864888|                          22|          0.0136986301369863|      0.9452054794520548|      0.0410958904109589|       0.1111111111111111|     0.33333333333333337|          3|              1|         69|                     1|                 2|                 9|       0.1111111111111111|   0.1111111111111111|\n",
      "+---------+------------------+------------------+------------+--------------+------------------+-----------------+----------------------------+---------------------------+----------------------------+----------------------------+------------------------+------------------------+-------------------------+------------------------+-----------+---------------+-----------+----------------------+------------------+------------------+-------------------------+---------------------+\n",
      "only showing top 1 row\n",
      "\n"
     ]
    }
   ],
   "source": [
    "full.show(1)"
   ]
  },
  {
   "cell_type": "code",
   "execution_count": 54,
   "metadata": {},
   "outputs": [
    {
     "data": {
      "text/plain": [
       "36228"
      ]
     },
     "execution_count": 54,
     "metadata": {},
     "output_type": "execute_result"
    }
   ],
   "source": [
    "full.count()"
   ]
  },
  {
   "cell_type": "markdown",
   "metadata": {},
   "source": [
    "#### Coerce NAs in standard deviation columnns to 0 (If there's only one, after all, the standard deviation IS 0!)"
   ]
  },
  {
   "cell_type": "code",
   "execution_count": 55,
   "metadata": {},
   "outputs": [],
   "source": [
    "full = full.fillna(0, subset=['sd_session_length', 'sd_interactions_per_session', 'sd_purchases_per_session'])"
   ]
  },
  {
   "cell_type": "markdown",
   "metadata": {},
   "source": [
    "### Remove errors/outliers"
   ]
  },
  {
   "cell_type": "code",
   "execution_count": 56,
   "metadata": {},
   "outputs": [
    {
     "name": "stdout",
     "output_type": "stream",
     "text": [
      "+--------------+\n",
      "|total_sessions|\n",
      "+--------------+\n",
      "|           532|\n",
      "|           514|\n",
      "|           317|\n",
      "|           310|\n",
      "|           305|\n",
      "|           239|\n",
      "|           229|\n",
      "|           226|\n",
      "|           219|\n",
      "|           199|\n",
      "|           172|\n",
      "|           149|\n",
      "|           142|\n",
      "|           139|\n",
      "|           137|\n",
      "|           137|\n",
      "|           136|\n",
      "|           135|\n",
      "|           135|\n",
      "|           133|\n",
      "|           132|\n",
      "|           127|\n",
      "|           127|\n",
      "|           124|\n",
      "|           123|\n",
      "|           123|\n",
      "|           122|\n",
      "|           121|\n",
      "|           120|\n",
      "|           116|\n",
      "+--------------+\n",
      "only showing top 30 rows\n",
      "\n"
     ]
    }
   ],
   "source": [
    "# Look at abnormally large number of sessions\n",
    "full.select('total_sessions').sort(desc('total_sessions')).show(30)"
   ]
  },
  {
   "cell_type": "code",
   "execution_count": 57,
   "metadata": {},
   "outputs": [
    {
     "name": "stdout",
     "output_type": "stream",
     "text": [
      "+--------------+\n",
      "|total_sessions|\n",
      "+--------------+\n",
      "|           239|\n",
      "|           229|\n",
      "|           226|\n",
      "|           219|\n",
      "|           199|\n",
      "+--------------+\n",
      "only showing top 5 rows\n",
      "\n"
     ]
    },
    {
     "data": {
      "text/plain": [
       "36223"
      ]
     },
     "execution_count": 57,
     "metadata": {},
     "output_type": "execute_result"
    }
   ],
   "source": [
    "# More than 10 sessions a day for a month (300) seems likely to be an error. Removing those rows. \n",
    "full = full.filter(col('total_sessions') <= 300)\n",
    "full.select('total_sessions').sort(desc('total_sessions')).show(5)\n",
    "full.count()"
   ]
  },
  {
   "cell_type": "code",
   "execution_count": 58,
   "metadata": {},
   "outputs": [
    {
     "name": "stdout",
     "output_type": "stream",
     "text": [
      "+------------------+\n",
      "|avg_session_length|\n",
      "+------------------+\n",
      "|         1907547.0|\n",
      "|1634483.3333333333|\n",
      "|1576443.6666666667|\n",
      "|        1388163.75|\n",
      "|1380737.3333333333|\n",
      "|         1363813.0|\n",
      "|        1281766.75|\n",
      "|        1209332.75|\n",
      "|         1125089.0|\n",
      "|         1102053.5|\n",
      "+------------------+\n",
      "only showing top 10 rows\n",
      "\n"
     ]
    }
   ],
   "source": [
    "# Look at abnormally long sessions\n",
    "# Average session length greater than 8 hours,or 28800 seconds, is almost certainly an error or a bot. \n",
    "full.select('avg_session_length').sort(desc('avg_session_length')).show(10)"
   ]
  },
  {
   "cell_type": "code",
   "execution_count": 59,
   "metadata": {},
   "outputs": [
    {
     "name": "stdout",
     "output_type": "stream",
     "text": [
      "+------------------+\n",
      "|avg_session_length|\n",
      "+------------------+\n",
      "|28758.166666666668|\n",
      "|28700.155172413793|\n",
      "|28679.555555555555|\n",
      "|          28589.75|\n",
      "| 28549.22033898305|\n",
      "+------------------+\n",
      "only showing top 5 rows\n",
      "\n"
     ]
    },
    {
     "data": {
      "text/plain": [
       "35029"
      ]
     },
     "execution_count": 59,
     "metadata": {},
     "output_type": "execute_result"
    }
   ],
   "source": [
    "# Remove individuals with average session length greater than 8 hours (28800 seconds)\n",
    "full = full.filter(col('avg_session_length') <= 28800)\n",
    "full.select('avg_session_length').sort(desc('avg_session_length')).show(5)\n",
    "full.count()"
   ]
  },
  {
   "cell_type": "code",
   "execution_count": 60,
   "metadata": {},
   "outputs": [
    {
     "name": "stdout",
     "output_type": "stream",
     "text": [
      "+------------------+---------------+--------------------+\n",
      "|       total_spend|purchase_events|       T_total_spend|\n",
      "+------------------+---------------+--------------------+\n",
      "| 5659847.821716309|             91|2.9127026746307373E7|\n",
      "|4188340.5565185547|             39| 2.177730318988037E7|\n",
      "| 4129082.121032715|            105| 2.901806042225647E7|\n",
      "|2105782.1861572266|             60|   6999343.371139526|\n",
      "|2076557.8867492676|             41|   8400942.108535767|\n",
      "|1998014.7842254639|            101|     8270191.4427948|\n",
      "|1979694.9905753136|            153| 2.891635742661667E7|\n",
      "|1746181.7509765625|             69|   7444496.798171997|\n",
      "|1630467.5068426132|             51|   7747082.560165405|\n",
      "|1517930.4067382812|             26|   6770653.144775391|\n",
      "|1516287.3457641602|             40|   5667982.841827393|\n",
      "| 1239730.245552063|             76|  6686890.5963897705|\n",
      "|1150882.8065872192|             55|   8165252.666542053|\n",
      "|1105710.3974609375|             49|  6337675.5344696045|\n",
      "| 1091065.090965271|             95|   7008385.960327148|\n",
      "|1068250.1749954224|             78|1.0092416855083466E7|\n",
      "| 1043036.939160347|             45|   6044978.893959045|\n",
      "|1013607.5302276611|             38|   4803137.577880859|\n",
      "| 951509.4333000183|             36|   5419035.561904907|\n",
      "| 872235.1594161987|             34|    4496551.80267334|\n",
      "| 831594.2392053604|            104|   4126253.293205261|\n",
      "| 766026.2759170532|             54|    5813460.47303009|\n",
      "| 713935.0563688278|             86|  4722897.9326171875|\n",
      "|  701711.045791626|            113|   3163202.289489746|\n",
      "| 662884.0279541016|             39|  1649345.8767700195|\n",
      "| 658451.3087081909|             75|   8438808.273925781|\n",
      "| 641873.7439250946|             37|  3149702.6528549194|\n",
      "| 591441.5932846069|             28|   6739512.280982971|\n",
      "| 569140.5294265747|             24|  2653224.1452026367|\n",
      "| 561260.9500350952|             29|   2904116.020843506|\n",
      "| 560377.4406738281|             13|   3051845.111595154|\n",
      "|  554784.120300293|             16|   1067180.934452057|\n",
      "|          507085.0|             33|  3162625.1917419434|\n",
      "| 489287.9756011963|             15|  3021251.3904418945|\n",
      "|483829.61332702637|             40|  3530733.3066596985|\n",
      "| 464142.5128326416|             17|   4708932.157430649|\n",
      "| 454987.8368835449|             23|   2159455.303199768|\n",
      "| 449676.8059082031|             24|  1282991.0561904907|\n",
      "| 437663.1569519043|             27|   2476701.959289551|\n",
      "| 435826.8323505521|             21|   2098975.193634033|\n",
      "|435294.01455688477|             27|   1340388.436416626|\n",
      "|434020.74279785156|             10|  1446248.6840515137|\n",
      "| 392409.7473144531|             28|   1945347.153289795|\n",
      "|          392183.0|             15|  1245096.8786621094|\n",
      "|383671.66009783745|             39|  1931420.2835083008|\n",
      "| 365779.7480773926|             16|   2916221.269165039|\n",
      "| 364167.4367160797|             67|    5703101.00189209|\n",
      "| 358785.6743469238|             31|   1297709.330871582|\n",
      "| 355745.7276611328|              6|   916218.2294769287|\n",
      "| 355331.7893218994|             43|  1651807.8279418945|\n",
      "+------------------+---------------+--------------------+\n",
      "only showing top 50 rows\n",
      "\n",
      "+-------+------------------+\n",
      "|summary|       total_spend|\n",
      "+-------+------------------+\n",
      "|  count|             35029|\n",
      "|   mean| 3655.721341518039|\n",
      "| stddev| 57855.99982898831|\n",
      "|    min|0.9700000286102295|\n",
      "|    25%| 134.3699951171875|\n",
      "|    50%| 295.7300109863281|\n",
      "|    75%| 855.9400024414062|\n",
      "|    max| 5659847.821716309|\n",
      "+-------+------------------+\n",
      "\n"
     ]
    }
   ],
   "source": [
    "# Look at outliers by total spend. \n",
    "full.select('total_spend', 'purchase_events', 'T_total_spend').sort(desc('total_spend')).show(50)\n",
    "full.select('total_spend').summary().show()"
   ]
  },
  {
   "cell_type": "code",
   "execution_count": 61,
   "metadata": {},
   "outputs": [
    {
     "name": "stdout",
     "output_type": "stream",
     "text": [
      "+-----------------+\n",
      "|      total_spend|\n",
      "+-----------------+\n",
      "|99683.20916748047|\n",
      "|99633.82038879395|\n",
      "|98847.98069000244|\n",
      "|98261.04052734375|\n",
      "|97949.04107666016|\n",
      "+-----------------+\n",
      "only showing top 5 rows\n",
      "\n"
     ]
    },
    {
     "data": {
      "text/plain": [
       "34859"
      ]
     },
     "execution_count": 61,
     "metadata": {},
     "output_type": "execute_result"
    }
   ],
   "source": [
    "# Remove those that spend > 100k a month... they probably aren't our 'usual' customer.  \n",
    "full = full.filter(col('total_spend') <= 100000)\n",
    "full.select('total_spend').sort(desc('total_spend')).show(5)\n",
    "full.count()"
   ]
  },
  {
   "cell_type": "code",
   "execution_count": 62,
   "metadata": {},
   "outputs": [
    {
     "name": "stdout",
     "output_type": "stream",
     "text": [
      "+------------+\n",
      "|total_events|\n",
      "+------------+\n",
      "|       25095|\n",
      "|       19958|\n",
      "|       19770|\n",
      "|       15515|\n",
      "|       13680|\n",
      "|       13552|\n",
      "|       12870|\n",
      "|       11250|\n",
      "|       11125|\n",
      "|       11000|\n",
      "|       10989|\n",
      "|       10803|\n",
      "|       10200|\n",
      "|        9724|\n",
      "|        9720|\n",
      "|        9450|\n",
      "|        8825|\n",
      "|        8484|\n",
      "|        8437|\n",
      "|        8154|\n",
      "|        7994|\n",
      "|        7975|\n",
      "|        7672|\n",
      "|        7545|\n",
      "|        7220|\n",
      "|        7140|\n",
      "|        6399|\n",
      "|        6372|\n",
      "|        6356|\n",
      "|        6355|\n",
      "|        6330|\n",
      "|        6190|\n",
      "|        6036|\n",
      "|        5577|\n",
      "|        5460|\n",
      "|        5382|\n",
      "|        5348|\n",
      "|        5340|\n",
      "|        5300|\n",
      "|        5268|\n",
      "|        5130|\n",
      "|        5100|\n",
      "|        4964|\n",
      "|        4914|\n",
      "|        4784|\n",
      "|        4725|\n",
      "|        4653|\n",
      "|        4640|\n",
      "|        4620|\n",
      "|        4564|\n",
      "+------------+\n",
      "only showing top 50 rows\n",
      "\n",
      "+-------+-----------------+\n",
      "|summary|     total_events|\n",
      "+-------+-----------------+\n",
      "|  count|            34859|\n",
      "|   mean|91.43084999569695|\n",
      "| stddev|426.2015939326351|\n",
      "|    min|                1|\n",
      "|    25%|               11|\n",
      "|    50%|               25|\n",
      "|    75%|               62|\n",
      "|    max|            25095|\n",
      "+-------+-----------------+\n",
      "\n"
     ]
    }
   ],
   "source": [
    "# Look at abnormally large numbers of events\n",
    "# Greater than 3000 events is almost certainly a mistake. That's more than 100 events every day of the month\n",
    "full.select('total_events').sort(desc('total_events')).show(50)\n",
    "full.select('total_events').summary().show()"
   ]
  },
  {
   "cell_type": "code",
   "execution_count": 63,
   "metadata": {},
   "outputs": [
    {
     "name": "stdout",
     "output_type": "stream",
     "text": [
      "+------------+\n",
      "|total_events|\n",
      "+------------+\n",
      "|        2928|\n",
      "|        2928|\n",
      "|        2928|\n",
      "|        2916|\n",
      "|        2900|\n",
      "+------------+\n",
      "only showing top 5 rows\n",
      "\n"
     ]
    },
    {
     "data": {
      "text/plain": [
       "34769"
      ]
     },
     "execution_count": 63,
     "metadata": {},
     "output_type": "execute_result"
    }
   ],
   "source": [
    "# Remove extreme> 3000 events a month\n",
    "full = full.filter(col('total_events') <= 3000)\n",
    "full.select('total_events').sort(desc('total_events')).show(5)\n",
    "full.count()"
   ]
  },
  {
   "cell_type": "markdown",
   "metadata": {},
   "source": [
    "#### Save as parquet. (If saving in project group12 folder - Make sure to change permissions in bash using chmod 777 filename)"
   ]
  },
  {
   "cell_type": "code",
   "execution_count": 64,
   "metadata": {},
   "outputs": [
    {
     "name": "stdout",
     "output_type": "stream",
     "text": [
      "CPU times: user 3.34 ms, sys: 2.17 ms, total: 5.52 ms\n",
      "Wall time: 24.9 s\n"
     ]
    }
   ],
   "source": [
    "%%time\n",
    "full.write.mode(\"overwrite\").parquet(\"./processed_data/engineered_features.parquet\")"
   ]
  },
  {
   "cell_type": "code",
   "execution_count": 65,
   "metadata": {},
   "outputs": [
    {
     "name": "stdout",
     "output_type": "stream",
     "text": [
      "CPU times: user 1.96 ms, sys: 677 µs, total: 2.64 ms\n",
      "Wall time: 18.6 ms\n"
     ]
    }
   ],
   "source": [
    "%%time\n",
    "train, test = full.randomSplit([.8, .2], seed=42)"
   ]
  },
  {
   "cell_type": "markdown",
   "metadata": {},
   "source": [
    "#### Purchased items in month 1, converted to PCA (pca_purchases)\n",
    "\n",
    "Note: Unlike all of the other preprocessing, we need to train the PCA model on the training set, then implement it on the test set. For this reason it comes after the train/test split."
   ]
  },
  {
   "cell_type": "code",
   "execution_count": 66,
   "metadata": {},
   "outputs": [
    {
     "name": "stdout",
     "output_type": "stream",
     "text": [
      "CPU times: user 3 µs, sys: 1e+03 ns, total: 4 µs\n",
      "Wall time: 6.91 µs\n"
     ]
    }
   ],
   "source": [
    "%%time\n",
    "\n",
    "# Create a function that prepares a dataset for PCA.\n",
    "\n",
    "def pca_prepare_on_subset(subset_df, limited_columns=[]):\n",
    "    # Only get this data from the training (or test) set\n",
    "    m1_subset = m1.join(subset_df,'user_id','leftsemi')\n",
    "\n",
    "    # Remove the periods from the dataframe category_code and replace with dashes. PySpark does not do well with periods in column\n",
    "    #  names, for some reason\n",
    "    m1_stripped = m1.withColumn('category_code_s', translate('category_code', '.', '-'))\n",
    "\n",
    "    # Pivot so that each category of purchase becomes a colummn\n",
    "    cats = m1_stripped.filter(m1.event_type == \"purchase\").groupBy('user_id').pivot('category_code_s').count().na.fill(0)\n",
    "\n",
    "    pca_input_cols = [cols for cols in cats.columns if cols!='user_id' and cols!='null']\n",
    "        \n",
    "    # Make a new copy of columns (this is from the training set to the test set, in order to filter out other columns)\n",
    "    if(limited_columns==[]):\n",
    "        limited_columns = copy.deepcopy(pca_input_cols)\n",
    "        limited_columns.append('user_id')\n",
    "    else:\n",
    "        cats = cats.select(*limited_columns) # This is for the test set \n",
    "        # print(cats.schema)\n",
    "\n",
    "    # Transform columns into a sparse vector (prepare for PCA)\n",
    "    assembler = VectorAssembler(\n",
    "        inputCols=pca_input_cols,\n",
    "        outputCol=\"to_pca_columns\")\n",
    "    \n",
    "    # Create sparse vector\n",
    "    pca_df = assembler.transform(cats)\n",
    "    return limited_columns, pca_df\n",
    "    "
   ]
  },
  {
   "cell_type": "code",
   "execution_count": 67,
   "metadata": {},
   "outputs": [
    {
     "name": "stdout",
     "output_type": "stream",
     "text": [
      "+---------+--------------+\n",
      "|user_id  |to_pca_columns|\n",
      "+---------+--------------+\n",
      "|513240274|(132,[],[])   |\n",
      "|513343186|(132,[],[])   |\n",
      "+---------+--------------+\n",
      "only showing top 2 rows\n",
      "\n"
     ]
    }
   ],
   "source": [
    "# Get columns from training set and get training df\n",
    "limited_columns, train_pre_pca = pca_prepare_on_subset(train)\n",
    "# Limit to these columns on the test set and get test df\n",
    "_, test_pre_pca = pca_prepare_on_subset(test, limited_columns=limited_columns)\n",
    "\n",
    "# Visualize what this looks like\n",
    "train_pre_pca.select([\"user_id\",\"to_pca_columns\"]).show(2, truncate=False)\n",
    "\n",
    "# Create new PCA instance\n",
    "pca = PCAml(k=30, inputCol=\"to_pca_columns\", outputCol=\"pca_purchases\")\n",
    "# Fit on training data\n",
    "model = pca.fit(train_pre_pca)\n",
    "\n",
    "# Transform training and test sets\n",
    "train_with_pca = model.transform(train_pre_pca)\n",
    "test_with_pca = model.transform(test_pre_pca)\n"
   ]
  },
  {
   "cell_type": "code",
   "execution_count": 68,
   "metadata": {},
   "outputs": [],
   "source": [
    "# Merge PCA df back into full training set\n",
    "join_train_df = train_with_pca.select([\"user_id\",\"pca_purchases\"])\n",
    "train = train.join(join_train_df, train.user_id == join_train_df.user_id).drop(join_train_df.user_id)\n",
    "\n",
    "# Merge PCA df back into full test set\n",
    "join_test_df = test_with_pca.select([\"user_id\",\"pca_purchases\"])\n",
    "test = test.join(join_test_df, test.user_id == join_test_df.user_id).drop(join_test_df.user_id)"
   ]
  },
  {
   "cell_type": "code",
   "execution_count": 69,
   "metadata": {},
   "outputs": [
    {
     "name": "stdout",
     "output_type": "stream",
     "text": [
      "+---------+------------------+------------------+------------+--------------+------------------+------------------+----------------------------+---------------------------+----------------------------+----------------------------+------------------------+------------------------+-------------------------+------------------------+-----------+---------------+-----------+----------------------+------------------+------------------+-------------------------+---------------------+------------------------------------------------------------------------------------------------------------------------------------------------------------------------------------------------------------------------------------------------------------------------------------------------------------------------------------------------------------------------------------------------------------------------------------------------------------------------------------------------------------------------------------------------------------------------------------------------------------------------------------------------------------------+\n",
      "|user_id  |T_total_spend     |total_spend       |total_events|total_sessions|avg_session_length|sd_session_length |avg_interactions_per_session|sd_interactions_per_session|max_interactions_per_session|purchase_pct_of_total_events|view_pct_of_total_events|cart_pct_of_total_events|avg_purchases_per_session|sd_purchases_per_session|cart_events|purchase_events|view_events|sessions_with_purchase|sessions_with_cart|sessions_with_view|pct_sessions_end_purchase|pct_sessions_end_cart|pca_purchases                                                                                                                                                                                                                                                                                                                                                                                                                                                                                                                                                                                                                                                     |\n",
      "+---------+------------------+------------------+------------+--------------+------------------+------------------+----------------------------+---------------------------+----------------------------+----------------------------+------------------------+------------------------+-------------------------+------------------------+-----------+---------------+-----------+----------------------+------------------+------------------+-------------------------+---------------------+------------------------------------------------------------------------------------------------------------------------------------------------------------------------------------------------------------------------------------------------------------------------------------------------------------------------------------------------------------------------------------------------------------------------------------------------------------------------------------------------------------------------------------------------------------------------------------------------------------------------------------------------------------------+\n",
      "|512479812|50881.730712890625|166.19000244140625|73          |9             |533.1111111111111 |649.9266197895814 |8.11111111111111            |7.372998786864888          |22                          |0.0136986301369863          |0.9452054794520548      |0.0410958904109589      |0.1111111111111111       |0.33333333333333337     |3          |1              |69         |1                     |2                 |9                 |0.1111111111111111       |0.1111111111111111   |[-0.9986468189507999,0.01668636817064511,0.03226872626845445,0.016685597118315517,0.004075091816903204,-0.020910194419707883,0.015603819647290214,0.007621407561517243,-2.554139147626974E-4,0.010757066867488738,-0.001980527163994893,0.0012586424713189979,-0.00635154688562518,8.820083686032245E-4,0.002396018371072951,0.011673054473156657,-4.229826457704905E-4,-4.664455953850994E-4,-0.00204611978768374,0.0011521062365413264,1.470829308501155E-5,3.636596259346883E-4,-1.0594206458246908E-4,-0.0017160744587982413,-4.468016657377741E-5,0.0014402103030417123,0.001458494152310147,6.95376535772535E-4,9.643106119785036E-4,2.209232688028509E-4]  |\n",
      "|512562561|0.0               |38.33000183105469 |82          |11            |791.0909090909091 |1232.483545897912 |7.454545454545454           |9.309818863583075          |26                          |0.012195121951219513        |0.926829268292683       |0.06097560975609756     |0.09090909090909091      |0.30151134457776363     |5          |1              |76         |1                     |3                 |11                |0.09090909090909091      |0.18181818181818182  |[-0.004730795009597625,-0.011382723424849394,-0.04202757386555327,-0.004581486191577594,-0.22401737787544876,0.05716164579736594,-0.11673891475374866,-0.04020355713860022,-0.4925332254441854,-0.0967364274963025,-0.7978660894192235,-0.12793521313330894,-0.11213643195863539,-0.0010555239198644104,0.010731478523563046,-0.005743870563975956,0.005737864828318826,0.015036736126993747,0.05301777322176096,-0.012043909386897176,-1.4990421739191628E-5,-0.009011139053459665,-0.0021779391016795713,-0.009122989710763892,-0.0010249830728484254,-5.930600590685481E-4,0.003194470132608215,0.016220595703093314,-0.03186672193087508,0.042574540190931244]|\n",
      "|512996234|0.0               |81.95999908447266 |12          |4             |189.25            |378.5             |3.0                         |4.0                        |9                           |0.08333333333333333         |0.8333333333333334      |0.08333333333333333     |0.25                     |0.5                     |1          |1              |10         |1                     |1                 |4                 |0.25                     |0.0                  |[-0.9986468189507999,0.01668636817064511,0.03226872626845445,0.016685597118315517,0.004075091816903204,-0.020910194419707883,0.015603819647290214,0.007621407561517243,-2.554139147626974E-4,0.010757066867488738,-0.001980527163994893,0.0012586424713189979,-0.00635154688562518,8.820083686032245E-4,0.002396018371072951,0.011673054473156657,-4.229826457704905E-4,-4.664455953850994E-4,-0.00204611978768374,0.0011521062365413264,1.470829308501155E-5,3.636596259346883E-4,-1.0594206458246908E-4,-0.0017160744587982413,-4.468016657377741E-5,0.0014402103030417123,0.001458494152310147,6.95376535772535E-4,9.643106119785036E-4,2.209232688028509E-4]  |\n",
      "|513143907|0.0               |965.219970703125  |15          |2             |3485.5            |4929.241371651423 |7.5                         |9.192388155425117          |14                          |0.06666666666666667         |0.8666666666666667      |0.06666666666666667     |0.5                      |0.7071067811865476      |1          |1              |13         |1                     |1                 |2                 |0.5                      |0.0                  |[-0.9986468189507999,0.01668636817064511,0.03226872626845445,0.016685597118315517,0.004075091816903204,-0.020910194419707883,0.015603819647290214,0.007621407561517243,-2.554139147626974E-4,0.010757066867488738,-0.001980527163994893,0.0012586424713189979,-0.00635154688562518,8.820083686032245E-4,0.002396018371072951,0.011673054473156657,-4.229826457704905E-4,-4.664455953850994E-4,-0.00204611978768374,0.0011521062365413264,1.470829308501155E-5,3.636596259346883E-4,-1.0594206458246908E-4,-0.0017160744587982413,-4.468016657377741E-5,0.0014402103030417123,0.001458494152310147,6.95376535772535E-4,9.643106119785036E-4,2.209232688028509E-4]  |\n",
      "|513240274|0.0               |51.459999084472656|53          |12            |133.0             |132.12528489691485|4.416666666666667           |3.287948609787881          |11                          |0.018867924528301886        |0.7924528301886793      |0.18867924528301888     |0.08333333333333333      |0.2886751345948129      |10         |1              |42         |1                     |5                 |12                |0.08333333333333333      |0.3333333333333333   |[0.0,0.0,0.0,0.0,0.0,0.0,0.0,0.0,0.0,0.0,0.0,0.0,0.0,0.0,0.0,0.0,0.0,0.0,0.0,0.0,0.0,0.0,0.0,0.0,0.0,0.0,0.0,0.0,0.0,0.0]                                                                                                                                                                                                                                                                                                                                                                                                                                                                                                                                         |\n",
      "+---------+------------------+------------------+------------+--------------+------------------+------------------+----------------------------+---------------------------+----------------------------+----------------------------+------------------------+------------------------+-------------------------+------------------------+-----------+---------------+-----------+----------------------+------------------+------------------+-------------------------+---------------------+------------------------------------------------------------------------------------------------------------------------------------------------------------------------------------------------------------------------------------------------------------------------------------------------------------------------------------------------------------------------------------------------------------------------------------------------------------------------------------------------------------------------------------------------------------------------------------------------------------------------------------------------------------------+\n",
      "only showing top 5 rows\n",
      "\n",
      "+---------+------------------+------------------+------------+--------------+------------------+------------------+----------------------------+---------------------------+----------------------------+----------------------------+------------------------+------------------------+-------------------------+------------------------+-----------+---------------+-----------+----------------------+------------------+------------------+-------------------------+---------------------+-------------------------------------------------------------------------------------------------------------------------------------------------------------------------------------------------------------------------------------------------------------------------------------------------------------------------------------------------------------------------------------------------------------------------------------------------------------------------------------------------------------------------------------------------------------------------------------------------------------------------------------------------------------------------+\n",
      "|user_id  |T_total_spend     |total_spend       |total_events|total_sessions|avg_session_length|sd_session_length |avg_interactions_per_session|sd_interactions_per_session|max_interactions_per_session|purchase_pct_of_total_events|view_pct_of_total_events|cart_pct_of_total_events|avg_purchases_per_session|sd_purchases_per_session|cart_events|purchase_events|view_events|sessions_with_purchase|sessions_with_cart|sessions_with_view|pct_sessions_end_purchase|pct_sessions_end_cart|pca_purchases                                                                                                                                                                                                                                                                                                                                                                                                                                                                                                                                                                                                                                                            |\n",
      "+---------+------------------+------------------+------------+--------------+------------------+------------------+----------------------------+---------------------------+----------------------------+----------------------------+------------------------+------------------------+-------------------------+------------------------+-----------+---------------+-----------+----------------------+------------------+------------------+-------------------------+---------------------+-------------------------------------------------------------------------------------------------------------------------------------------------------------------------------------------------------------------------------------------------------------------------------------------------------------------------------------------------------------------------------------------------------------------------------------------------------------------------------------------------------------------------------------------------------------------------------------------------------------------------------------------------------------------------+\n",
      "|512583155|2888.1599731445312|443.65999603271484|22          |4             |315.75            |410.904997130318  |5.5                         |3.696845502136472          |9                           |0.13636363636363635         |0.7272727272727273      |0.13636363636363635     |0.75                     |0.5                     |3          |3              |16         |3                     |3                 |4                 |0.75                     |0.0                  |[-2.9959404568523995,0.05005910451193533,0.09680617880536335,0.05005679135494655,0.012225275450709613,-0.06273058325912365,0.046811458941870644,0.022864222684551728,-7.662417442880923E-4,0.032271200602466216,-0.005941581491984678,0.003775927413956994,-0.01905464065687554,0.0026460251058096737,0.007188055113218853,0.03501916341946997,-0.0012689479373114714,-0.0013993367861552981,-0.0061383593630512205,0.0034563187096239793,4.412487925503465E-5,0.001090978877804065,-3.178261937474072E-4,-0.005148223376394724,-1.3404049972133222E-4,0.004320630909125137,0.004375482456930441,0.002086129607317605,0.0028929318359355105,6.627698064085527E-4]        |\n",
      "|513250192|0.0               |295.7300109863281 |15          |10            |11.4              |25.992306554055567|1.5                         |1.0801234497346435         |4                           |0.06666666666666667         |0.8666666666666667      |0.06666666666666667     |0.1                      |0.31622776601683794     |1          |1              |13         |1                     |1                 |10                |0.1                      |0.0                  |[-0.005885924256755895,-0.27267874354647564,-0.49900175680628117,0.8176892381115842,0.03380815482846391,-0.040147876992809736,0.02589621550301912,-0.01887029677684208,0.016013814162407748,-4.0875685043376256E-4,0.003343631966986992,-0.003365131528197747,0.005294167030108717,0.007525410204503632,-0.0020548352561193294,4.478263144897098E-4,0.0029830018798721342,-0.0037983051275398637,0.020101471342822003,-0.006081530243622288,0.008040663939082919,-0.0042053122965192485,0.0014977673673064618,0.002563018265677946,0.0026963628823503012,0.0033643129201538606,0.0036922904283702195,0.002983100738290064,-0.009746917972073586,0.00889360521573963]     |\n",
      "|513414997|0.0               |179.6699981689453 |9           |2             |173.5             |245.36605307173198|4.5                         |4.949747468305833          |8                           |0.1111111111111111          |0.4444444444444444      |0.4444444444444444      |0.5                      |0.7071067811865476      |4          |1              |4          |1                     |1                 |2                 |0.5                      |0.0                  |[-0.9986468189507999,0.01668636817064511,0.03226872626845445,0.016685597118315517,0.004075091816903204,-0.020910194419707883,0.015603819647290214,0.007621407561517243,-2.554139147626974E-4,0.010757066867488738,-0.001980527163994893,0.0012586424713189979,-0.00635154688562518,8.820083686032245E-4,0.002396018371072951,0.011673054473156657,-4.229826457704905E-4,-4.664455953850994E-4,-0.00204611978768374,0.0011521062365413264,1.470829308501155E-5,3.636596259346883E-4,-1.0594206458246908E-4,-0.0017160744587982413,-4.468016657377741E-5,0.0014402103030417123,0.001458494152310147,6.95376535772535E-4,9.643106119785036E-4,2.209232688028509E-4]         |\n",
      "|513850643|117907.1982421875 |7247.639892578125 |256         |11            |272.09090909090907|198.10373774639112|5.818181818181818           |3.2501748204729486         |12                          |0.09375                     |0.703125                |0.203125                |0.5454545454545454       |0.5222329678670935      |13         |6              |45         |6                     |7                 |11                |0.5454545454545454       |0.09090909090909091  |[-4.996449624174818,0.06499736105490864,0.13847944631289155,0.06823714599158914,0.015310175737789535,-0.06017918916336981,0.07622344093514014,0.056234044284496826,-0.017510849394764882,0.09067774603022027,0.00478477797983312,0.03450583115237973,-0.029989173588244447,-0.8600942900747753,-0.37598747540611016,0.12722513799905033,-0.020614314360647167,-0.025601571054246756,0.1494464534075659,-0.04915303882148795,0.01644335213433519,-0.01738495686852825,0.002447818995927789,0.013926240146852165,-4.2272246641815794E-4,-0.010163164762629682,0.011645288532918385,-0.010507744678088345,-0.06299547515287846,0.09804983123166135]                         |\n",
      "|514927844|0.0               |61.70000076293945 |49          |9             |323.44444444444446|473.87870576528104|5.444444444444445           |5.294126724756197          |17                          |0.02040816326530612         |0.9387755102040817      |0.04081632653061224     |0.1111111111111111       |0.3333333333333333      |2          |1              |46         |1                     |2                 |9                 |0.1111111111111111       |0.1111111111111111   |[1.532853039988306E-4,-6.964353174058746E-4,-0.0031318554432597234,3.605336915495916E-4,-0.002167370238086108,0.001216616429213127,-0.0063834098224124225,0.0054227781285969,-0.0012621541489399313,0.0041651109598868155,0.0017953949559846305,0.004833410467466326,0.0035890217748930503,-0.0036056247066666366,-0.007227346764636173,0.0010892649621185354,-0.008279625553894856,0.017188360806504346,-0.03849151696136012,0.010767977785220036,-0.007303844814255608,0.002109841062292394,-0.0014844705098870366,0.035810646157694116,0.002709542133865518,0.0022758463702888154,-0.053112306593407724,-0.011091450353740937,0.09733077064485776,0.06221973492745509]|\n",
      "+---------+------------------+------------------+------------+--------------+------------------+------------------+----------------------------+---------------------------+----------------------------+----------------------------+------------------------+------------------------+-------------------------+------------------------+-----------+---------------+-----------+----------------------+------------------+------------------+-------------------------+---------------------+-------------------------------------------------------------------------------------------------------------------------------------------------------------------------------------------------------------------------------------------------------------------------------------------------------------------------------------------------------------------------------------------------------------------------------------------------------------------------------------------------------------------------------------------------------------------------------------------------------------------------------------------------------------------------+\n",
      "only showing top 5 rows\n",
      "\n"
     ]
    }
   ],
   "source": [
    "train.show(5, truncate=False)\n",
    "test.show(5, truncate=False)"
   ]
  },
  {
   "cell_type": "markdown",
   "metadata": {},
   "source": [
    "#### Write train and test"
   ]
  },
  {
   "cell_type": "code",
   "execution_count": 70,
   "metadata": {},
   "outputs": [
    {
     "name": "stdout",
     "output_type": "stream",
     "text": [
      "CPU times: user 7.25 ms, sys: 3.61 ms, total: 10.9 ms\n",
      "Wall time: 58.3 s\n"
     ]
    }
   ],
   "source": [
    "%%time\n",
    "train.write.mode(\"overwrite\").parquet(\"./processed_data/train.parquet\")\n",
    "test.write.mode(\"overwrite\").parquet(\"./processed_data/test.parquet\")"
   ]
  },
  {
   "cell_type": "code",
   "execution_count": null,
   "metadata": {},
   "outputs": [],
   "source": []
  }
 ],
 "metadata": {
  "kernelspec": {
   "display_name": "DS 5110 Spark 3.1",
   "language": "python",
   "name": "ds5110_spark3.1"
  },
  "language_info": {
   "codemirror_mode": {
    "name": "ipython",
    "version": 3
   },
   "file_extension": ".py",
   "mimetype": "text/x-python",
   "name": "python",
   "nbconvert_exporter": "python",
   "pygments_lexer": "ipython3",
   "version": "3.7.10"
  }
 },
 "nbformat": 4,
 "nbformat_minor": 4
}
