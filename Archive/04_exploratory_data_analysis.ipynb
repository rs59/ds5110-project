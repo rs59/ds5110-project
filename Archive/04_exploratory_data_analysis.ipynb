{
 "cells": [
  {
   "cell_type": "markdown",
   "metadata": {},
   "source": [
    "## File 04 - Exploratory Data Analysis of Interaction-level Data\n",
    "\n",
    "In this file, we open the CSV in which the interaction-level ecommerce data is stored and we run some Spark SQL queries on it."
   ]
  },
  {
   "cell_type": "markdown",
   "metadata": {},
   "source": [
    "### Set up Spark session and data schema\n",
    "\n",
    "We can specify more options in the SparkSession creator, but currently the options are at the default settings."
   ]
  },
  {
   "cell_type": "code",
   "execution_count": 1,
   "metadata": {},
   "outputs": [
    {
     "name": "stdout",
     "output_type": "stream",
     "text": [
      "CPU times: user 215 ms, sys: 138 ms, total: 353 ms\n",
      "Wall time: 5.36 s\n"
     ]
    }
   ],
   "source": [
    "%%time\n",
    "from pyspark.sql import SparkSession\n",
    "from pyspark.sql import types as T\n",
    "\n",
    "spark = SparkSession.builder \\\n",
    "        .appName(\"project\") \\\n",
    "        .getOrCreate()\n",
    "\n",
    "sc = spark.sparkContext\n",
    "\n",
    "# In the case of needing to specify a schema (recommended behavior), we can use this code to help design it rapidly\n",
    "#   by using the default Spark settings and then making our own modifications.\n",
    "\n",
    "# To infer schema without using all data:\n",
    "# df = spark.read.option(\"header\",\"true\") \\\n",
    "#         .option(\"samplingRatio\",0.001) \\\n",
    "#         .csv(\"/project/ds5559/group12/raw_data/2019-10.csv\")\n",
    "# To print the basic schema as a DDL:\n",
    "# print(df._jdf.schema().toDDL())\n",
    "\n",
    "# We have completed the above step (this is our more accurate schema)\n",
    "# Defining the schema is unnecessary now that we are reading in parquets. \n",
    "#schema = \"`event_time` TIMESTAMP,`event_type` STRING,`product_id` INT,`category_id` BIGINT,`category_code` STRING,`brand` STRING,`price` FLOAT,`user_id` INT,`user_session` STRING\"\n",
    "#ddl_schema = T._parse_datatype_string(schema)"
   ]
  },
  {
   "cell_type": "markdown",
   "metadata": {},
   "source": [
    "### Read in dataframe"
   ]
  },
  {
   "cell_type": "code",
   "execution_count": 9,
   "metadata": {},
   "outputs": [
    {
     "name": "stdout",
     "output_type": "stream",
     "text": [
      "CPU times: user 1.09 ms, sys: 2.17 ms, total: 3.27 ms\n",
      "Wall time: 500 ms\n"
     ]
    }
   ],
   "source": [
    "%%time\n",
    "df = spark.read.parquet(\"./processed_data/month_01_filtered.parquet\")"
   ]
  },
  {
   "cell_type": "markdown",
   "metadata": {},
   "source": [
    "### Print number of records in dataframe\n",
    "\n",
    "N.B.: this takes **>20 s** for perhaps one of the simplest possible operations. So we should be careful to take exploratory actions only on subsets of the data."
   ]
  },
  {
   "cell_type": "code",
   "execution_count": 10,
   "metadata": {},
   "outputs": [
    {
     "name": "stdout",
     "output_type": "stream",
     "text": [
      "root\n",
      " |-- user_id: integer (nullable = true)\n",
      " |-- event_time: timestamp (nullable = true)\n",
      " |-- event_type: string (nullable = true)\n",
      " |-- product_id: integer (nullable = true)\n",
      " |-- category_id: long (nullable = true)\n",
      " |-- category_code: string (nullable = true)\n",
      " |-- brand: string (nullable = true)\n",
      " |-- price: float (nullable = true)\n",
      " |-- user_session: string (nullable = true)\n",
      "\n",
      "2807167 records\n",
      "CPU times: user 3.53 ms, sys: 0 ns, total: 3.53 ms\n",
      "Wall time: 366 ms\n"
     ]
    }
   ],
   "source": [
    "%%time\n",
    "df.printSchema()\n",
    "print(str(df.count())+\" records\")"
   ]
  },
  {
   "cell_type": "markdown",
   "metadata": {},
   "source": [
    "### Limit number of records in dataframe\n",
    "\n",
    "We can remove the category_id column, because it is a direct transformation of category_code (this could be turned into another table). It also helps make it easier to print the output here.\n",
    "\n",
    "Next, we limit the dataframe to just a 5000-records subset. Notably, the dataframe is arranged by time, so this is how the subset will be biased."
   ]
  },
  {
   "cell_type": "code",
   "execution_count": 11,
   "metadata": {},
   "outputs": [],
   "source": [
    "df=df.drop(\"category_id\")\n",
    "df=df.limit(5000)\n",
    "df.createOrReplaceTempView(\"records\")"
   ]
  },
  {
   "cell_type": "markdown",
   "metadata": {},
   "source": [
    "#### Print dataframe contents"
   ]
  },
  {
   "cell_type": "code",
   "execution_count": 12,
   "metadata": {},
   "outputs": [
    {
     "name": "stdout",
     "output_type": "stream",
     "text": [
      "+---------+-------------------+----------+----------+--------------------+---------+------+--------------------+\n",
      "|  user_id|         event_time|event_type|product_id|       category_code|    brand| price|        user_session|\n",
      "+---------+-------------------+----------+----------+--------------------+---------+------+--------------------+\n",
      "|416793411|2020-01-12 13:16:29|      view|   1004836|construction.tool...|  samsung|231.38|315c1383-b002-4c3...|\n",
      "|465783976|2020-01-04 10:36:20|      view|  13901213|construction.comp...|   blanco|218.65|75f6bddc-41f8-497...|\n",
      "|465783976|2020-01-04 10:37:14|      view|  13902800|   computers.desktop|   blanco|140.35|75f6bddc-41f8-497...|\n",
      "|465783976|2020-01-04 10:38:07|      view|  13902800|   computers.desktop|   blanco|140.35|75f6bddc-41f8-497...|\n",
      "|465783976|2020-01-04 10:40:08|      view|  13902647|   computers.desktop| omoikiri|185.13|75f6bddc-41f8-497...|\n",
      "|465783976|2020-01-04 10:41:03|      view|  13902813|   computers.desktop|   daniel| 93.92|75f6bddc-41f8-497...|\n",
      "|465783976|2020-01-04 11:16:11|      view|  13902696|   computers.desktop| omoikiri| 667.9|bdef27a6-6c4a-43f...|\n",
      "|469608197|2020-01-07 09:11:17|      view|  34700020|appliances.person...|     null| 58.87|59cf5f07-b449-4e5...|\n",
      "|512388209|2020-01-04 04:41:41|      view|  15100008|      apparel.shorts|      bts|514.56|de248a46-1896-4f5...|\n",
      "|512388209|2020-01-04 04:43:07|      view| 100014245|     accessories.bag|collistar| 20.94|de248a46-1896-4f5...|\n",
      "|512393344|2020-01-09 14:08:49|      view|   1004361|construction.tool...|    apple|1155.5|a6798869-4419-448...|\n",
      "|512393344|2020-01-09 14:12:09|      view|   1004240|construction.tool...|    apple|939.54|6b9fb442-37a5-42c...|\n",
      "|512393344|2020-01-09 18:01:35|      view|   1005115|construction.tool...|    apple|861.52|8051a556-1938-403...|\n",
      "|512396880|2020-01-30 14:42:57|      view|  16400204|                null|  granhel|203.09|1d03019c-bf02-45e...|\n",
      "|512396880|2020-01-06 14:48:25|      view| 100042949|         kids.skates|  hubster| 45.68|e813e564-8ac8-4af...|\n",
      "|512396880|2020-01-30 14:42:58|      cart|  13600021|furniture.bathroo...|   antika| 88.03|c7e15a25-6a4a-d78...|\n",
      "|512396880|2020-01-06 14:49:55|      view| 100040416|       apparel.shirt| suneight| 15.51|e813e564-8ac8-4af...|\n",
      "|512396880|2020-01-30 14:42:58|      cart|  22700068|                null|    force| 70.35|40b1ad78-040d-4bf...|\n",
      "|512396880|2020-01-06 14:50:28|      view| 100037340|       apparel.shirt|     null| 31.89|e813e564-8ac8-4af...|\n",
      "|512396880|2020-01-30 14:42:58|      cart|   3900971|  electronics.clocks|  ariston|128.45|e0ed11b9-0a73-4d8...|\n",
      "+---------+-------------------+----------+----------+--------------------+---------+------+--------------------+\n",
      "only showing top 20 rows\n",
      "\n",
      "CPU times: user 178 µs, sys: 2.19 ms, total: 2.37 ms\n",
      "Wall time: 380 ms\n"
     ]
    }
   ],
   "source": [
    "%%time\n",
    "spark.sql(\"SELECT * FROM records\").show()"
   ]
  },
  {
   "cell_type": "markdown",
   "metadata": {},
   "source": [
    "#### Top prices among all event types"
   ]
  },
  {
   "cell_type": "code",
   "execution_count": 13,
   "metadata": {},
   "outputs": [
    {
     "name": "stdout",
     "output_type": "stream",
     "text": [
      "+---------+-------------------+----------+----------+--------------------+---------+-------+--------------------+\n",
      "|  user_id|         event_time|event_type|product_id|       category_code|    brand|  price|        user_session|\n",
      "+---------+-------------------+----------+----------+--------------------+---------+-------+--------------------+\n",
      "|513455983|2020-01-07 05:21:49|      view| 100004522|electronics.audio...|pinskdrev|2548.33|75a92e9b-1a04-4ce...|\n",
      "|515683996|2020-01-24 07:11:38|      view| 100067576|electronics.audio...|    apple|2548.33|bc391c72-dded-4c7...|\n",
      "|512802367|2020-01-02 19:39:33|      view| 100015658|construction.tool...|  samsung|2548.07|bbf03942-4c87-45c...|\n",
      "|512802367|2020-01-02 19:40:44|      view|   1005284|construction.tool...|  samsung|2548.07|bbf03942-4c87-45c...|\n",
      "|512802367|2020-01-02 19:41:09|      view|   1005284|construction.tool...|  samsung|2548.07|bbf03942-4c87-45c...|\n",
      "|512802367|2020-01-02 19:42:32|      view|   1005284|construction.tool...|  samsung|2548.07|bbf03942-4c87-45c...|\n",
      "|512802367|2020-01-02 19:42:59|      view| 100015658|construction.tool...|  samsung|2548.07|bbf03942-4c87-45c...|\n",
      "|517473094|2020-01-11 19:41:08|      view|   1005284|construction.tool...|  samsung|2548.07|655d58a1-4aa6-4e3...|\n",
      "|519299525|2020-01-08 20:10:21|      view|   1005284|construction.tool...|  samsung|2548.07|f94b0ced-fa14-47b...|\n",
      "|512802367|2020-01-02 19:40:07|      view|   1005284|construction.tool...|  samsung|2548.07|bbf03942-4c87-45c...|\n",
      "|514083643|2020-01-22 11:52:11|      view| 100015658|construction.tool...|  samsung|2544.47|8f90c7f1-c3cf-4e7...|\n",
      "|514083643|2020-01-22 11:50:30|      view|   1005284|construction.tool...|  samsung|2544.47|8f90c7f1-c3cf-4e7...|\n",
      "|515683996|2020-01-31 11:42:07|      view| 100067576|electronics.audio...|    apple|2520.01|67baeee3-f803-48e...|\n",
      "|513037822|2020-01-14 07:53:51|      view|   1480492|   computers.desktop|     acer|2470.82|7f0812ef-c666-4eb...|\n",
      "|512983741|2020-01-20 17:14:59|      view|  51800009|                null|     null|2463.38|0f88e288-1830-4cb...|\n",
      "|520225646|2020-01-14 15:56:06|      view| 100060049|   apparel.underwear|      uta|2252.31|585aae2b-8fba-490...|\n",
      "|514500288|2020-01-10 15:35:06|      view| 100013838|  electronics.clocks|     oris|2207.26|38f56162-733d-4f2...|\n",
      "|513070800|2020-01-12 16:19:45|      view|   3901203|  electronics.clocks|     gree|2072.31|2096c92a-49b5-41f...|\n",
      "|523757251|2020-01-14 04:58:05|      view|   1005142|construction.tool...|    apple|2058.97|9c720d3e-6e00-46b...|\n",
      "|512678129|2020-01-03 03:00:53|      view|   1005136|construction.tool...|    apple|2007.49|0695ca25-a736-426...|\n",
      "+---------+-------------------+----------+----------+--------------------+---------+-------+--------------------+\n",
      "only showing top 20 rows\n",
      "\n",
      "CPU times: user 2 ms, sys: 895 µs, total: 2.89 ms\n",
      "Wall time: 436 ms\n"
     ]
    }
   ],
   "source": [
    "%%time\n",
    "spark.sql(\"SELECT * FROM records ORDER BY price DESC\").show(20)"
   ]
  },
  {
   "cell_type": "markdown",
   "metadata": {},
   "source": [
    "#### Who has bought how much\n",
    "\n",
    "Note: Sum of prices purchased and number of purchases made are not directly correlated. This could lead to an interesting feature about multiple items being bought simultaneously vs. being bought one at a time over a long length of time."
   ]
  },
  {
   "cell_type": "code",
   "execution_count": 14,
   "metadata": {},
   "outputs": [
    {
     "name": "stdout",
     "output_type": "stream",
     "text": [
      "+--------------+------------------+---------+\n",
      "|purchases_made|sum(price)        |user_id  |\n",
      "+--------------+------------------+---------+\n",
      "|31            |7801.34001159668  |514500288|\n",
      "|9             |2432.460029602051 |514362144|\n",
      "|4             |698.0399780273438 |513631466|\n",
      "|4             |3495.22998046875  |535172466|\n",
      "|3             |1674.8999633789062|519283088|\n",
      "|3             |1057.430019378662 |531584564|\n",
      "|3             |1455.5000228881836|512505115|\n",
      "|3             |396.15000915527344|523670929|\n",
      "|3             |28.949999809265137|529323523|\n",
      "|2             |235.67999267578125|516069879|\n",
      "+--------------+------------------+---------+\n",
      "only showing top 10 rows\n",
      "\n",
      "CPU times: user 1.81 ms, sys: 817 µs, total: 2.63 ms\n",
      "Wall time: 537 ms\n"
     ]
    }
   ],
   "source": [
    "%%time\n",
    "spark.sql(\"SELECT COUNT(*) AS purchases_made, SUM(price), user_id FROM records WHERE event_type=='purchase' GROUP BY user_id ORDER BY COUNT(*) DESC\").show(10,False)"
   ]
  },
  {
   "cell_type": "markdown",
   "metadata": {},
   "source": [
    "#### Distribution of actions"
   ]
  },
  {
   "cell_type": "code",
   "execution_count": 15,
   "metadata": {},
   "outputs": [
    {
     "name": "stdout",
     "output_type": "stream",
     "text": [
      "+--------+----------+\n",
      "|count(1)|event_type|\n",
      "+--------+----------+\n",
      "|    4622|      view|\n",
      "|     292|      cart|\n",
      "|      86|  purchase|\n",
      "+--------+----------+\n",
      "\n",
      "CPU times: user 2.34 ms, sys: 439 µs, total: 2.78 ms\n",
      "Wall time: 272 ms\n"
     ]
    }
   ],
   "source": [
    "%%time\n",
    "spark.sql(\"SELECT COUNT(*), event_type FROM records GROUP BY event_type ORDER BY COUNT(*) DESC\").show()"
   ]
  },
  {
   "cell_type": "code",
   "execution_count": null,
   "metadata": {},
   "outputs": [],
   "source": []
  },
  {
   "cell_type": "code",
   "execution_count": null,
   "metadata": {},
   "outputs": [],
   "source": []
  }
 ],
 "metadata": {
  "kernelspec": {
   "display_name": "DS 5110 Spark 3.1",
   "language": "python",
   "name": "ds5110_spark3.1"
  },
  "language_info": {
   "codemirror_mode": {
    "name": "ipython",
    "version": 3
   },
   "file_extension": ".py",
   "mimetype": "text/x-python",
   "name": "python",
   "nbconvert_exporter": "python",
   "pygments_lexer": "ipython3",
   "version": "3.7.10"
  }
 },
 "nbformat": 4,
 "nbformat_minor": 4
}
