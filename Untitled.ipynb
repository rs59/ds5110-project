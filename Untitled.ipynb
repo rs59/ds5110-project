{
 "cells": [
  {
   "cell_type": "code",
   "execution_count": 1,
   "metadata": {},
   "outputs": [
    {
     "name": "stdout",
     "output_type": "stream",
     "text": [
      "CPU times: user 168 ms, sys: 127 ms, total: 295 ms\n",
      "Wall time: 4.25 s\n"
     ]
    }
   ],
   "source": [
    "%%time\n",
    "from pyspark.sql import SparkSession\n",
    "from pyspark.sql import types as T\n",
    "from pyspark.sql.functions import col\n",
    "\n",
    "spark = SparkSession.builder \\\n",
    "        .appName(\"project\") \\\n",
    "        .getOrCreate()\n",
    "\n",
    "sc = spark.sparkContext\n",
    "\n",
    "schema = \"`event_time` TIMESTAMP,`event_type` STRING,`product_id` INT,`category_id` BIGINT,`category_code` STRING,`brand` STRING,`price` FLOAT,`user_id` INT,`user_session` STRING\"\n",
    "#ddl_schema = T._parse_datatype_string(schema)"
   ]
  },
  {
   "cell_type": "code",
   "execution_count": 2,
   "metadata": {},
   "outputs": [],
   "source": [
    "df1 = spark.read.schema(schema).csv(\"/project/ds5559/group12/raw_data/2020-01.csv\")"
   ]
  },
  {
   "cell_type": "code",
   "execution_count": 4,
   "metadata": {},
   "outputs": [
    {
     "name": "stdout",
     "output_type": "stream",
     "text": [
      "+-------------------+----------+----------+-------------------+--------------------+-------+------+---------+--------------------+\n",
      "|         event_time|event_type|product_id|        category_id|       category_code|  brand| price|  user_id|        user_session|\n",
      "+-------------------+----------+----------+-------------------+--------------------+-------+------+---------+--------------------+\n",
      "|2020-01-12 18:36:33|      view|   1004565|2232732093077520756|construction.tool...| huawei|165.58|512448189|1b721785-b36d-425...|\n",
      "|2020-01-12 18:37:13|      view|   1005160|2232732093077520756|construction.tool...| xiaomi| 169.5|512448189|1b721785-b36d-425...|\n",
      "|2020-01-12 18:37:46|      view|   1005265|2232732093077520756|construction.tool...| xiaomi|158.82|512448189|1b721785-b36d-425...|\n",
      "|2020-01-12 18:37:50|      view| 100041313|2232732093077520756|construction.tool...| xiaomi|187.13|512448189|1b721785-b36d-425...|\n",
      "|2020-01-12 18:38:20|      view|   1004856|2232732093077520756|construction.tool...|samsung|135.35|512448189|1b721785-b36d-425...|\n",
      "|2020-01-12 18:38:51|      view|   1004870|2232732093077520756|construction.tool...|samsung|267.29|512448189|1b721785-b36d-425...|\n",
      "|2020-01-12 18:39:22|      view|   1004870|2232732093077520756|construction.tool...|samsung|267.29|512448189|1b721785-b36d-425...|\n",
      "|2020-01-12 18:39:42|      cart|   1004870|2232732093077520756|construction.tool...|samsung|267.29|512448189|1b721785-b36d-425...|\n",
      "|2020-01-12 18:40:43|  purchase|   1004870|2232732093077520756|construction.tool...|samsung|267.29|512448189|1b721785-b36d-425...|\n",
      "+-------------------+----------+----------+-------------------+--------------------+-------+------+---------+--------------------+\n",
      "\n"
     ]
    }
   ],
   "source": [
    "# Select only rows with user_id=512448189\n",
    "df2 = df1.filter(col(\"user_id\") == 512448189)\n",
    "# print 30 of these rows\n",
    "df2.show(30)"
   ]
  },
  {
   "cell_type": "code",
   "execution_count": null,
   "metadata": {},
   "outputs": [],
   "source": []
  }
 ],
 "metadata": {
  "kernelspec": {
   "display_name": "DS 5110 Spark 3.1",
   "language": "python",
   "name": "ds5110_spark3.1"
  },
  "language_info": {
   "codemirror_mode": {
    "name": "ipython",
    "version": 3
   },
   "file_extension": ".py",
   "mimetype": "text/x-python",
   "name": "python",
   "nbconvert_exporter": "python",
   "pygments_lexer": "ipython3",
   "version": "3.7.10"
  }
 },
 "nbformat": 4,
 "nbformat_minor": 4
}
