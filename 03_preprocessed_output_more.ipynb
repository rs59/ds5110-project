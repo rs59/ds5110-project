{
 "cells": [
  {
   "cell_type": "markdown",
   "metadata": {},
   "source": [
    "## File 03 - Basic Preprocessed Data Output\n",
    "\n",
    "In this file, we create a small preprocessed data table."
   ]
  },
  {
   "cell_type": "markdown",
   "metadata": {},
   "source": [
    "### Set up Spark session and data schema\n",
    "\n",
    "We can specify more options in the SparkSession creator, but currently the options are at the default settings."
   ]
  },
  {
   "cell_type": "code",
   "execution_count": 1,
   "metadata": {},
   "outputs": [
    {
     "name": "stdout",
     "output_type": "stream",
     "text": [
      "CPU times: user 539 ms, sys: 325 ms, total: 865 ms\n",
      "Wall time: 5.71 s\n"
     ]
    }
   ],
   "source": [
    "%%time\n",
    "from pyspark.sql import SparkSession\n",
    "from pyspark.sql import types as T\n",
    "import matplotlib.pyplot as plt\n",
    "from pyspark.sql.functions import col\n",
    "from pyspark.ml.feature import MinMaxScaler\n",
    "from pyspark.ml.feature import VectorAssembler\n",
    "from pyspark.ml import Pipeline\n",
    "from pyspark.sql.functions import udf\n",
    "from pyspark.sql.types import DoubleType\n",
    "from pyspark.sql.functions import log\n",
    "\n",
    "import sys\n",
    "spark = SparkSession.builder \\\n",
    "        .appName(\"project\") \\\n",
    "        .getOrCreate()\n",
    "\n",
    "sc = spark.sparkContext\n",
    "\n",
    "schema = \"`event_time` TIMESTAMP,`event_type` STRING,`product_id` INT,`category_id` BIGINT,`category_code` STRING,`brand` STRING,`price` FLOAT,`user_id` INT,`user_session` STRING\"\n",
    "ddl_schema = T._parse_datatype_string(schema)"
   ]
  },
  {
   "cell_type": "markdown",
   "metadata": {},
   "source": [
    "### Read in prefiltered train & test sets"
   ]
  },
  {
   "cell_type": "code",
   "execution_count": 2,
   "metadata": {},
   "outputs": [
    {
     "name": "stdout",
     "output_type": "stream",
     "text": [
      "CPU times: user 5.57 ms, sys: 601 µs, total: 6.17 ms\n",
      "Wall time: 3.16 s\n"
     ]
    }
   ],
   "source": [
    "%%time\n",
    "train = spark.read.parquet(\"/project/ds5559/group12/raw_data/train_buyers.parquet\")\n",
    "test = spark.read.parquet(\"/project/ds5559/group12/raw_data/test_buyers.parquet\")\n",
    "full = train.union(test)"
   ]
  },
  {
   "cell_type": "code",
   "execution_count": 3,
   "metadata": {},
   "outputs": [
    {
     "data": {
      "text/plain": [
       "286853"
      ]
     },
     "execution_count": 3,
     "metadata": {},
     "output_type": "execute_result"
    }
   ],
   "source": [
    "train.select('user_id').distinct().count()"
   ]
  },
  {
   "cell_type": "code",
   "execution_count": 4,
   "metadata": {},
   "outputs": [
    {
     "data": {
      "text/plain": [
       "72252"
      ]
     },
     "execution_count": 4,
     "metadata": {},
     "output_type": "execute_result"
    }
   ],
   "source": [
    "test.select('user_id').distinct().count()"
   ]
  },
  {
   "cell_type": "markdown",
   "metadata": {},
   "source": [
    "### Get some descriptive statistics"
   ]
  },
  {
   "cell_type": "code",
   "execution_count": 5,
   "metadata": {},
   "outputs": [
    {
     "data": {
      "text/plain": [
       "23561460"
      ]
     },
     "execution_count": 5,
     "metadata": {},
     "output_type": "execute_result"
    }
   ],
   "source": [
    "full.count()"
   ]
  },
  {
   "cell_type": "code",
   "execution_count": 6,
   "metadata": {},
   "outputs": [
    {
     "data": {
      "text/plain": [
       "359105"
      ]
     },
     "execution_count": 6,
     "metadata": {},
     "output_type": "execute_result"
    }
   ],
   "source": [
    "full.select('user_id').distinct().count()"
   ]
  },
  {
   "cell_type": "code",
   "execution_count": 7,
   "metadata": {},
   "outputs": [
    {
     "name": "stdout",
     "output_type": "stream",
     "text": [
      "CPU times: user 2.42 ms, sys: 1.23 ms, total: 3.65 ms\n",
      "Wall time: 2.37 s\n"
     ]
    },
    {
     "data": {
      "text/plain": [
       "220463"
      ]
     },
     "execution_count": 7,
     "metadata": {},
     "output_type": "execute_result"
    }
   ],
   "source": [
    "%%time\n",
    "full.select('product_id').distinct().count()\n",
    "# There are 220,463 different products. "
   ]
  },
  {
   "cell_type": "code",
   "execution_count": 8,
   "metadata": {},
   "outputs": [
    {
     "name": "stdout",
     "output_type": "stream",
     "text": [
      "CPU times: user 2.35 ms, sys: 294 µs, total: 2.64 ms\n",
      "Wall time: 2.26 s\n"
     ]
    },
    {
     "data": {
      "text/plain": [
       "139"
      ]
     },
     "execution_count": 8,
     "metadata": {},
     "output_type": "execute_result"
    }
   ],
   "source": [
    "%%time\n",
    "full.select('category_code').distinct().count()\n",
    "# There are 139 different categories"
   ]
  },
  {
   "cell_type": "code",
   "execution_count": 9,
   "metadata": {},
   "outputs": [
    {
     "name": "stdout",
     "output_type": "stream",
     "text": [
      "CPU times: user 2 ms, sys: 1.71 ms, total: 3.71 ms\n",
      "Wall time: 1.91 s\n"
     ]
    },
    {
     "data": {
      "text/plain": [
       "5135"
      ]
     },
     "execution_count": 9,
     "metadata": {},
     "output_type": "execute_result"
    }
   ],
   "source": [
    "%%time\n",
    "full.select('brand').distinct().count()\n",
    "# There are 5135 different brands"
   ]
  },
  {
   "cell_type": "code",
   "execution_count": 10,
   "metadata": {},
   "outputs": [],
   "source": [
    "events = full.groupBy('event_type').count()"
   ]
  },
  {
   "cell_type": "code",
   "execution_count": 11,
   "metadata": {},
   "outputs": [
    {
     "name": "stdout",
     "output_type": "stream",
     "text": [
      "+----------+--------+\n",
      "|event_type|   count|\n",
      "+----------+--------+\n",
      "|  purchase| 1285824|\n",
      "|      view|19709697|\n",
      "|      cart| 2565939|\n",
      "+----------+--------+\n",
      "\n"
     ]
    }
   ],
   "source": [
    "events.show()"
   ]
  },
  {
   "cell_type": "code",
   "execution_count": 12,
   "metadata": {},
   "outputs": [
    {
     "data": {
      "image/png": "[encoded data removed]",
      "text/plain": [
       "<Figure size 640x480 with 1 Axes>"
      ]
     },
     "metadata": {},
     "output_type": "display_data"
    }
   ],
   "source": [
    "x = events.select('event_type').toPandas()['event_type']\n",
    "y = events.select('count').toPandas()['count']\n",
    "\n",
    "plt.bar(x, y)\n",
    "plt.title(\"Count Of Event Type (Total)\")\n",
    "plt.xlabel(\"Event Type\")\n",
    "plt.ylabel(\"Count\")\n",
    "\n",
    "\n",
    "plt.show()"
   ]
  },
  {
   "cell_type": "code",
   "execution_count": 13,
   "metadata": {},
   "outputs": [],
   "source": [
    "p1 = full.filter(full.Period == '1')\n",
    "p2 = full.filter(full.Period == '2')"
   ]
  },
  {
   "cell_type": "code",
   "execution_count": 14,
   "metadata": {},
   "outputs": [
    {
     "name": "stdout",
     "output_type": "stream",
     "text": [
      "15923973\n",
      "7637487\n"
     ]
    }
   ],
   "source": [
    "print(p1.count())\n",
    "print(p2.count())"
   ]
  },
  {
   "cell_type": "markdown",
   "metadata": {},
   "source": [
    "### Pivot Data"
   ]
  },
  {
   "cell_type": "code",
   "execution_count": 15,
   "metadata": {},
   "outputs": [],
   "source": [
    "# Get the number of items purchased per person, per category\n",
    "cats = p1.filter(p1.event_type == \"purchase\").groupBy('user_id').pivot('category_code').count()"
   ]
  },
  {
   "cell_type": "code",
   "execution_count": 16,
   "metadata": {},
   "outputs": [
    {
     "data": {
      "text/plain": [
       "[Row(user_id=512372691, null=1, accessories.bag=1, accessories.umbrella=None, accessories.wallet=None, apparel.belt=None, apparel.costume=None, apparel.dress=None, apparel.glove=None, apparel.jacket=None, apparel.jeans=None, apparel.jumper=None, apparel.pajamas=None, apparel.scarf=None, apparel.shirt=None, apparel.shoes=None, apparel.shoes.ballet_shoes=None, apparel.shoes.espadrilles=None, apparel.shoes.keds=None, apparel.shoes.moccasins=None, apparel.shoes.sandals=None, apparel.shoes.slipons=None, apparel.shoes.step_ins=None, apparel.shorts=None, apparel.skirt=None, apparel.sock=None, apparel.trousers=None, apparel.tshirt=None, apparel.underwear=None, appliances.environment.air_conditioner=None, appliances.environment.air_heater=None, appliances.environment.climate=None, appliances.environment.fan=None, appliances.environment.vacuum=None, appliances.environment.water_heater=None, appliances.iron=None, appliances.ironing_board=None, appliances.kitchen.blender=None, appliances.kitchen.coffee_grinder=None, appliances.kitchen.coffee_machine=None, appliances.kitchen.dishwasher=None, appliances.kitchen.fryer=None, appliances.kitchen.grill=None, appliances.kitchen.hob=None, appliances.kitchen.hood=None, appliances.kitchen.juicer=None, appliances.kitchen.kettle=None, appliances.kitchen.meat_grinder=None, appliances.kitchen.microwave=None, appliances.kitchen.mixer=None, appliances.kitchen.oven=None, appliances.kitchen.refrigerators=None, appliances.kitchen.steam_cooker=None, appliances.kitchen.toster=None, appliances.kitchen.washer=None, appliances.personal.hair_cutter=None, appliances.personal.massager=None, appliances.personal.scales=None, appliances.sewing_machine=None, auto.accessories.alarm=None, auto.accessories.anti_freeze=None, auto.accessories.compressor=None, auto.accessories.light=None, auto.accessories.parktronic=None, auto.accessories.player=None, auto.accessories.radar=None, auto.accessories.videoregister=None, auto.accessories.winch=None, computers.components.cooler=None, computers.components.cpu=None, computers.components.hdd=None, computers.components.memory=None, computers.components.motherboard=None, computers.components.power_supply=None, computers.components.sound_card=None, computers.components.videocards=None, computers.desktop=None, computers.ebooks=None, computers.notebook=None, computers.peripherals.camera=None, computers.peripherals.keyboard=None, computers.peripherals.monitor=None, computers.peripherals.mouse=None, computers.peripherals.printer=None, construction.components.faucet=None, construction.tools.drill=None, construction.tools.generator=None, construction.tools.light=None, construction.tools.painting=None, construction.tools.pump=None, construction.tools.saw=None, construction.tools.screw=None, construction.tools.soldering=None, construction.tools.welding=None, country_yard.cultivator=None, country_yard.furniture.bench=None, country_yard.furniture.hammok=None, country_yard.lawn_mower=None, electronics.audio.acoustic=None, electronics.audio.headphone=None, electronics.audio.microphone=None, electronics.audio.music_tools.piano=None, electronics.audio.subwoofer=None, electronics.camera.photo=None, electronics.camera.video=None, electronics.clocks=None, electronics.smartphone=None, electronics.tablet=None, electronics.telephone=None, electronics.video.projector=None, electronics.video.tv=None, furniture.bathroom.bath=None, furniture.bathroom.toilet=None, furniture.bedroom.bed=None, furniture.bedroom.blanket=1, furniture.bedroom.pillow=None, furniture.kitchen.chair=None, furniture.kitchen.table=None, furniture.living_room.cabinet=None, furniture.living_room.chair=None, furniture.living_room.shelving=None, furniture.living_room.sofa=None, furniture.universal.light=None, kids.carriage=None, kids.dolls=None, kids.fmcg.diapers=None, kids.skates=None, kids.swing=None, kids.toys=None, medicine.tools.tonometer=None, sport.bicycle=None, sport.diving=None, sport.ski=None, sport.snowboard=None, sport.tennis=None, sport.trainer=None, stationery.cartrige=None)]"
      ]
     },
     "execution_count": 16,
     "metadata": {},
     "output_type": "execute_result"
    }
   ],
   "source": [
    "cats.take(1)"
   ]
  },
  {
   "cell_type": "markdown",
   "metadata": {},
   "source": [
    "### Create temp view"
   ]
  },
  {
   "cell_type": "code",
   "execution_count": 17,
   "metadata": {},
   "outputs": [],
   "source": [
    "p1.createOrReplaceTempView(\"m1\")\n",
    "p2.createOrReplaceTempView('m2')\n",
    "cats.createOrReplaceTempView('cats')"
   ]
  },
  {
   "cell_type": "markdown",
   "metadata": {},
   "source": [
    "### Create a transformed table containing elements of interest for our model\n",
    "\n",
    "We propose a basic table format (see https://docs.google.com/document/d/1NG4KGticBXn0D3PL5_zMxLV2Pr7A8PQtLcasxCOd1nA/edit).\n",
    "\n",
    "Every row is a user_id who exists in M1 and may or may not exist in M2.\n",
    "Columns include:\n",
    "- `user_id` (ID)\n",
    "- `m2_total_spend` (sum among all purchase events, NB: month 2. Will be 0 is user does not exist in month 2 or makes no purchase events)\n",
    "- `m1_total_spend` (sum among all purchase events)\n",
    "- `m1_user_sessions` (count of distinct user sessions/browsing sessions)\n",
    "- `m1_purchase_events` (count of distinct purchase events)\n",
    "\n",
    "Additional rows may have been added below.\n"
   ]
  },
  {
   "cell_type": "code",
   "execution_count": 18,
   "metadata": {},
   "outputs": [
    {
     "name": "stdout",
     "output_type": "stream",
     "text": [
      "+---------+--------------------+--------------------+---------------+------------------+----------------+\n",
      "|  user_id|      m2_total_spend|      m1_total_spend|m1_total_events|m1_purchase_events|m1_user_sessions|\n",
      "+---------+--------------------+--------------------+---------------+------------------+----------------+\n",
      "|568782581|2.3885857005200386E8| 5.821735228239441E7|         926856|            227808|             532|\n",
      "|563599039|2.3802253637968063E8| 6.886928014480591E7|         442758|            133743|             108|\n",
      "|549109608|1.8224688173866272E8| 5.723722944006348E7|         343000|             88151|             132|\n",
      "|513230794|2.0587978875039673E8| 4.171333637634277E7|         412115|             85845|              33|\n",
      "|582826305|1.9694101198085403E8|1.7104022296691895E7|         605784|             61404|             123|\n",
      "+---------+--------------------+--------------------+---------------+------------------+----------------+\n",
      "only showing top 5 rows\n",
      "\n",
      "CPU times: user 1.73 ms, sys: 2.62 ms, total: 4.36 ms\n",
      "Wall time: 11 s\n"
     ]
    }
   ],
   "source": [
    "%%time\n",
    "df = spark.sql(\"\"\"SELECT\n",
    "\n",
    "               /* ID */\n",
    "               m1.user_id AS user_id,\n",
    "               \n",
    "               /* Output: Total spend in month 2; Will be 0 is user does not exist in month 2 or makes no purchase events */\n",
    "               IFNULL(SUM(m2.price),0) AS m2_total_spend,\n",
    "               \n",
    "               \n",
    "               /* Total spend in month 1: we sum the price of any 'purchase' events */\n",
    "               SUM(CAST(m1.event_type=='purchase' AS INT) * m1.price) AS m1_total_spend,\n",
    "               \n",
    "               /* Total events in month 1: includes all event types (multiple per session) */\n",
    "               COUNT(m1.event_type) AS m1_total_events,\n",
    "               \n",
    "               /* Total purchase events in month 1: we sum the occurence of any 'purchase' events */\n",
    "               SUM(CAST(m1.event_type=='purchase' AS INT)) AS m1_purchase_events,\n",
    "               \n",
    "               /* Total user sessions in month 1: we count all distinct user sessions */\n",
    "               COUNT(DISTINCT m1.user_session) AS m1_user_sessions\n",
    "               \n",
    "               FROM m1\n",
    "               \n",
    "            LEFT JOIN \n",
    "            (\n",
    "               SELECT * FROM m2\n",
    "               WHERE event_type='purchase'\n",
    "            ) m2\n",
    "            \n",
    "            ON m1.user_id=m2.user_id\n",
    "            \n",
    "            GROUP BY m1.user_id ORDER BY m1_purchase_events DESC\"\"\")\n",
    "df.show(5)"
   ]
  },
  {
   "cell_type": "code",
   "execution_count": 19,
   "metadata": {},
   "outputs": [],
   "source": [
    "#%%time\n",
    "#df.write.parquet(\"/project/ds5559/group12/raw_data/some_features.parquet\")"
   ]
  },
  {
   "cell_type": "code",
   "execution_count": 25,
   "metadata": {},
   "outputs": [
    {
     "name": "stdout",
     "output_type": "stream",
     "text": [
      "+---------+-------------------+----------+----------+-------------------+--------------------+---------+------+--------------------+------+\n",
      "|  user_id|         event_time|event_type|product_id|        category_id|       category_code|    brand| price|        user_session|Period|\n",
      "+---------+-------------------+----------+----------+-------------------+--------------------+---------+------+--------------------+------+\n",
      "|512394150|2020-01-02 17:14:25|      view|  10503781|2053013553199186187|                null|   hasbro|  9.76|be0067d2-8d0e-410...|     1|\n",
      "|512394150|2020-01-02 17:15:02|      view|  10503781|2053013553199186187|                null|   hasbro|  9.76|3e12276c-bafa-4de...|     1|\n",
      "|512394150|2020-01-02 17:15:18|      view|  10503781|2053013553199186187|                null|   hasbro|  9.76|ae5a0c6e-4cde-4b6...|     1|\n",
      "|512394150|2020-01-02 17:15:36|      view|  10503781|2053013553199186187|                null|   hasbro|  9.76|61ca5b0c-b6e5-42f...|     1|\n",
      "|512394150|2020-01-02 17:15:51|      cart|  10503781|2053013553199186187|                null|   hasbro|  9.76|61ca5b0c-b6e5-42f...|     1|\n",
      "|512394150|2020-01-02 17:17:25|      view|  10300401|2232732104888681081|       apparel.scarf|silverlit|  9.02|bdaed876-664f-4f2...|     1|\n",
      "|512394150|2020-01-09 06:47:57|      view|  17700153|2053013558861496931|       apparel.shoes|    babor| 37.84|168be0ec-aabf-440...|     1|\n",
      "|512394150|2020-01-09 06:48:30|      view|  17700049|2232732085594882243|                null|    babor| 91.38|168be0ec-aabf-440...|     1|\n",
      "|512394150|2020-01-09 06:48:59|      view|  19600579|2232732109628244704|       apparel.shirt|   drjart| 20.57|168be0ec-aabf-440...|     1|\n",
      "|512394150|2020-01-09 06:49:21|      cart|  19600579|2232732109628244704|       apparel.shirt|   drjart| 20.57|168be0ec-aabf-440...|     1|\n",
      "|512394150|2020-01-09 06:49:24|      view|  19600579|2232732109628244704|       apparel.shirt|   drjart| 20.57|168be0ec-aabf-440...|     1|\n",
      "|512394150|2020-01-09 06:49:48|      view|  17301863|2232732098446229999|apparel.shoes.san...|     null|144.15|168be0ec-aabf-440...|     1|\n",
      "|512394150|2020-01-09 06:50:34|      view|  17301863|2232732098446229999|apparel.shoes.san...|     null|144.15|168be0ec-aabf-440...|     1|\n",
      "|512394150|2020-01-09 06:50:46|      cart|  17301863|2232732098446229999|apparel.shoes.san...|     null|144.15|168be0ec-aabf-440...|     1|\n",
      "|512394150|2020-01-09 06:52:04|      view|  17301863|2232732098446229999|apparel.shoes.san...|     null|144.15|168be0ec-aabf-440...|     1|\n",
      "|512394150|2020-01-09 07:03:58|      view|  17301863|2232732098446229999|apparel.shoes.san...|     null|144.15|c3dfcf07-6e8d-48f...|     1|\n",
      "|512394150|2020-01-09 07:05:31|      cart|  17301863|2232732098446229999|apparel.shoes.san...|     null|144.15|c3dfcf07-6e8d-48f...|     1|\n",
      "|512394150|2020-01-09 09:07:47|      view|  19600394|2232732109628244704|       apparel.shirt|     null| 12.84|b4f038a5-1078-4fe...|     1|\n",
      "|512394150|2020-01-09 09:08:08|      view|  17301863|2232732098446229999|apparel.shoes.san...|     null|144.15|b4f038a5-1078-4fe...|     1|\n",
      "|512394150|2020-01-09 09:09:12|      cart|  17301863|2232732098446229999|apparel.shoes.san...|     null|144.15|b4f038a5-1078-4fe...|     1|\n",
      "+---------+-------------------+----------+----------+-------------------+--------------------+---------+------+--------------------+------+\n",
      "only showing top 20 rows\n",
      "\n"
     ]
    }
   ],
   "source": []
  },
  {
   "cell_type": "code",
   "execution_count": 26,
   "metadata": {},
   "outputs": [
    {
     "name": "stdout",
     "output_type": "stream",
     "text": [
      "+---------+-------------------+----------+----------+-------------------+--------------------+------+------+--------------------+------+\n",
      "|  user_id|         event_time|event_type|product_id|        category_id|       category_code| brand| price|        user_session|Period|\n",
      "+---------+-------------------+----------+----------+-------------------+--------------------+------+------+--------------------+------+\n",
      "|512439971|2020-01-02 14:32:40|      view|   1005217|2232732093077520756|construction.tool...|xiaomi|141.29|bee3f956-a5f0-4d8...|     1|\n",
      "|512439971|2020-01-02 14:33:08|      view|   1005217|2232732093077520756|construction.tool...|xiaomi|141.29|bee3f956-a5f0-4d8...|     1|\n",
      "|512439971|2020-01-03 06:22:51|      view|  12400291|2232732092087664982|electronics.audio...| total| 51.46|638b743b-342b-4dc...|     1|\n",
      "|512439971|2020-01-03 06:23:08|      view|  12400291|2232732092087664982|electronics.audio...| total| 51.46|638b743b-342b-4dc...|     1|\n",
      "|512439971|2020-01-03 06:29:05|      view|  12400291|2232732092087664982|electronics.audio...| total| 51.46|638b743b-342b-4dc...|     1|\n",
      "|512439971|2020-01-03 06:30:13|      view|  12300389|2053013563743667055|appliances.kitche...|  null| 23.14|638b743b-342b-4dc...|     1|\n",
      "|512439971|2020-01-03 06:30:33|      view|  12300389|2053013563743667055|appliances.kitche...|  null| 23.14|638b743b-342b-4dc...|     1|\n",
      "|512439971|2020-01-03 06:31:19|      view|  22700129|2232732091643068746|                null| stels| 62.96|638b743b-342b-4dc...|     1|\n",
      "|512439971|2020-01-03 06:40:43|      view|  12300108|2053013551932506308|construction.tool...| bosch| 50.31|638b743b-342b-4dc...|     1|\n",
      "|512439971|2020-01-03 06:41:11|      view|  12300447|2053013563743667055|appliances.kitche...| crown| 37.81|638b743b-342b-4dc...|     1|\n",
      "|512439971|2020-01-03 06:41:31|      view|  12300447|2053013563743667055|appliances.kitche...| crown| 37.81|638b743b-342b-4dc...|     1|\n",
      "|512439971|2020-01-03 06:41:39|      view|  12300447|2053013563743667055|appliances.kitche...| crown| 37.81|638b743b-342b-4dc...|     1|\n",
      "|512439971|2020-01-03 06:47:22|      view|  12300447|2053013563743667055|appliances.kitche...| crown| 37.81|638b743b-342b-4dc...|     1|\n",
      "|512439971|2020-01-03 06:47:45|      view|  12300108|2053013551932506308|construction.tool...| bosch| 50.31|638b743b-342b-4dc...|     1|\n",
      "|512439971|2020-01-03 06:57:57|      view|  12400121|2232732092087664982|electronics.audio...|alteco| 44.51|638b743b-342b-4dc...|     1|\n",
      "|512439971|2020-01-03 06:58:10|      view|  12400121|2232732092087664982|electronics.audio...|alteco| 44.51|638b743b-342b-4dc...|     1|\n",
      "|512439971|2020-01-03 06:58:15|      view|  12400121|2232732092087664982|electronics.audio...|alteco| 44.51|638b743b-342b-4dc...|     1|\n",
      "|512439971|2020-01-03 06:58:24|      view|  12300447|2053013563743667055|appliances.kitche...| crown| 37.81|638b743b-342b-4dc...|     1|\n",
      "|512439971|2020-01-03 06:58:45|      view|  12400121|2232732092087664982|electronics.audio...|alteco| 44.51|638b743b-342b-4dc...|     1|\n",
      "|512439971|2020-01-03 06:58:58|      view|  12300108|2053013551932506308|construction.tool...| bosch| 50.31|638b743b-342b-4dc...|     1|\n",
      "+---------+-------------------+----------+----------+-------------------+--------------------+------+------+--------------------+------+\n",
      "only showing top 20 rows\n",
      "\n"
     ]
    }
   ],
   "source": [
    "test.show()"
   ]
  },
  {
   "cell_type": "code",
   "execution_count": 32,
   "metadata": {},
   "outputs": [
    {
     "name": "stdout",
     "output_type": "stream",
     "text": [
      "286853\n",
      "+---------+--------------------+--------------------+---------------+------------------+----------------+\n",
      "|  user_id|      m2_total_spend|      m1_total_spend|m1_total_events|m1_purchase_events|m1_user_sessions|\n",
      "+---------+--------------------+--------------------+---------------+------------------+----------------+\n",
      "|563599039|2.3802253637968063E8| 6.886928014480591E7|         442758|            133743|             108|\n",
      "|549109608|1.8224688173866272E8| 5.723722944006348E7|         343000|             88151|             132|\n",
      "|598224683| 1.575333588699646E8|2.9562396529960632E7|         270300|             58650|             156|\n",
      "|572994775| 8.175372574493408E7| 1.597179462664032E7|         278478|             52731|             169|\n",
      "|513320236|1.1508168612892914E8|2.2369278694839478E7|         217890|             48330|              65|\n",
      "|602281209| 1.238869539738617E8|1.9945883200683594E7|         204320|             39040|             149|\n",
      "|601324663| 8.580432808032227E7|1.0922415023803711E7|         188000|             30750|              61|\n",
      "|592146169| 2.291341495513916E7|   5514538.153991699|         127400|             29666|              67|\n",
      "|592727922|1.1673367678547668E8|   8990452.824829102|         423648|             29376|              78|\n",
      "|517445697| 4.193260534939575E7|   9636030.007505417|         130355|             29290|             154|\n",
      "|600152037| 2.452843221221924E7|   4394389.220626831|         184544|             27492|             133|\n",
      "|572322956|2.2208796274469376E7|   5730729.441970825|         175896|             26964|             133|\n",
      "|513322839|2.4782991137771606E7|   6288004.392585754|         107970|             26169|              22|\n",
      "|561174161|6.2482197943611145E7|   8136881.659858704|         222183|             25320|             175|\n",
      "|572817408| 3.066646435466194E7|   4228052.990369797|         141168|             23868|             116|\n",
      "|538340540|6.7104980482406616E7|   9615336.572738647|         188370|             23842|             305|\n",
      "|561203381|  7.49958016791153E7|   9775213.008392334|         114395|             23701|             107|\n",
      "|512518772| 4.472462466957855E7|   9624894.356002808|         109446|             18093|             124|\n",
      "|572088087|1.6025796284118652E7|   2414767.884159088|         135442|             17422|              58|\n",
      "|569181579| 2.408297282499695E7|   4726249.283733368|         127190|             17250|             127|\n",
      "+---------+--------------------+--------------------+---------------+------------------+----------------+\n",
      "only showing top 20 rows\n",
      "\n"
     ]
    }
   ],
   "source": [
    "training = df.join(test, 'user_id', 'leftanti')\n",
    "print(training.count())\n",
    "training.show()"
   ]
  },
  {
   "cell_type": "code",
   "execution_count": 33,
   "metadata": {},
   "outputs": [
    {
     "name": "stdout",
     "output_type": "stream",
     "text": [
      "72252\n",
      "+---------+--------------------+--------------------+---------------+------------------+----------------+\n",
      "|  user_id|      m2_total_spend|      m1_total_spend|m1_total_events|m1_purchase_events|m1_user_sessions|\n",
      "+---------+--------------------+--------------------+---------------+------------------+----------------+\n",
      "|568782581|2.3885857005200386E8| 5.821735228239441E7|         926856|            227808|             532|\n",
      "|513230794|2.0587978875039673E8| 4.171333637634277E7|         412115|             85845|              33|\n",
      "|582826305|1.9694101198085403E8|1.7104022296691895E7|         605784|             61404|             123|\n",
      "|566448225| 8.611105072402954E7|    8298110.25957489|         335820|             28950|             331|\n",
      "|521025518| 5.805999201248169E7|1.1752005871582031E7|         142590|             28809|              54|\n",
      "|597278112|  4.95544200963974E7| 1.009350573943615E7|         134000|             24254|             169|\n",
      "|580880864| 2.891635742661667E7|  1979694.9905753136|         175418|             21267|             124|\n",
      "|581832564|1.6470641393539429E7|   4323962.924743652|          87368|             20904|              46|\n",
      "|514429354|1.5142852663726807E7|   4508071.963989258|          62540|             17700|             152|\n",
      "|568411069|4.6156147136592865E7|   4978137.207836151|          98842|             14892|             196|\n",
      "|513685594|  2.88257929866333E7|  1850180.0644140244|         277542|             14688|             150|\n",
      "|592671397|2.8190797554851532E7|   4216388.529733658|          88596|             14214|             144|\n",
      "|592567756|1.7649132700279236E7|   2475712.487634182|         104951|             14091|             154|\n",
      "|552852475|1.1325220452430725E7|  1553338.0653305054|          87066|             13608|              79|\n",
      "|554551310| 3.363704474884033E7|   4125039.743751526|         104715|             12636|             205|\n",
      "|549143389| 2.901806042225647E7|   4129082.121032715|          74241|             11865|              95|\n",
      "|513279392|2.2543981947052002E7|   5350124.006347656|          51792|              9880|              79|\n",
      "|529168923| 4.603483142504883E7|   7051714.779052734|          51792|              9048|              21|\n",
      "|557571065|1.2067139710876465E7|  2580835.3413085938|          52866|              8811|             176|\n",
      "|513393764|   9204670.736816406|  2124202.8905181885|          31808|              7668|              75|\n",
      "+---------+--------------------+--------------------+---------------+------------------+----------------+\n",
      "only showing top 20 rows\n",
      "\n"
     ]
    }
   ],
   "source": [
    "testing = df.join(train, 'user_id', 'leftanti')\n",
    "print(testing.count())\n",
    "testing.show()"
   ]
  },
  {
   "cell_type": "code",
   "execution_count": 34,
   "metadata": {},
   "outputs": [
    {
     "name": "stdout",
     "output_type": "stream",
     "text": [
      "CPU times: user 3.26 ms, sys: 1.87 ms, total: 5.13 ms\n",
      "Wall time: 15.1 s\n"
     ]
    }
   ],
   "source": [
    "%%time\n",
    "training.write.parquet(\"/project/ds5559/group12/raw_data/train_reshaped.parquet\")"
   ]
  },
  {
   "cell_type": "code",
   "execution_count": 35,
   "metadata": {},
   "outputs": [
    {
     "name": "stdout",
     "output_type": "stream",
     "text": [
      "CPU times: user 2.77 ms, sys: 1.22 ms, total: 3.99 ms\n",
      "Wall time: 11.7 s\n"
     ]
    }
   ],
   "source": [
    "%%time\n",
    "testing.write.parquet(\"/project/ds5559/group12/raw_data/test_reshaped.parquet\")"
   ]
  },
  {
   "cell_type": "code",
   "execution_count": 31,
   "metadata": {},
   "outputs": [
    {
     "data": {
      "text/plain": [
       "72252"
      ]
     },
     "execution_count": 31,
     "metadata": {},
     "output_type": "execute_result"
    }
   ],
   "source": [
    "training.count()"
   ]
  },
  {
   "cell_type": "code",
   "execution_count": 18,
   "metadata": {},
   "outputs": [],
   "source": [
    "cat_codes_plus = df.join(cats, df.user_id == cats.user_id, \"fullouter\")"
   ]
  },
  {
   "cell_type": "code",
   "execution_count": 19,
   "metadata": {},
   "outputs": [
    {
     "name": "stdout",
     "output_type": "stream",
     "text": [
      "CPU times: user 2.41 ms, sys: 1.11 ms, total: 3.52 ms\n",
      "Wall time: 7.78 s\n"
     ]
    },
    {
     "data": {
      "text/plain": [
       "359105"
      ]
     },
     "execution_count": 19,
     "metadata": {},
     "output_type": "execute_result"
    }
   ],
   "source": [
    "%%time\n",
    "cat_codes_plus.count()"
   ]
  },
  {
   "cell_type": "code",
   "execution_count": 20,
   "metadata": {},
   "outputs": [
    {
     "name": "stdout",
     "output_type": "stream",
     "text": [
      "CPU times: user 1.48 s, sys: 91.5 ms, total: 1.57 s\n",
      "Wall time: 10.5 s\n"
     ]
    }
   ],
   "source": [
    "%%time\n",
    "user_sessions = cat_codes_plus.select('m1_user_sessions').toPandas()"
   ]
  },
  {
   "cell_type": "code",
   "execution_count": 21,
   "metadata": {},
   "outputs": [
    {
     "name": "stdout",
     "output_type": "stream",
     "text": [
      "+-------+-----------------+\n",
      "|summary| m1_user_sessions|\n",
      "+-------+-----------------+\n",
      "|  count|           359105|\n",
      "|   mean|7.512850002088526|\n",
      "| stddev| 24.2115288468888|\n",
      "|    min|                1|\n",
      "|    max|             9149|\n",
      "+-------+-----------------+\n",
      "\n"
     ]
    }
   ],
   "source": [
    "cat_codes_plus.describe('m1_user_sessions').show()"
   ]
  },
  {
   "cell_type": "code",
   "execution_count": 22,
   "metadata": {},
   "outputs": [
    {
     "data": {
      "image/png": "[encoded data removed]",
      "text/plain": [
       "<Figure size 640x480 with 1 Axes>"
      ]
     },
     "metadata": {},
     "output_type": "display_data"
    },
    {
     "name": "stdout",
     "output_type": "stream",
     "text": [
      "CPU times: user 158 ms, sys: 10.5 ms, total: 169 ms\n",
      "Wall time: 167 ms\n"
     ]
    }
   ],
   "source": [
    "%%time\n",
    "plt.boxplot(user_sessions)\n",
    "plt.show()"
   ]
  },
  {
   "cell_type": "code",
   "execution_count": 23,
   "metadata": {},
   "outputs": [],
   "source": [
    "mean = 7.512850002088526\n",
    "std = 24.2115288468888\n",
    "cutoff = mean + 3*std"
   ]
  },
  {
   "cell_type": "markdown",
   "metadata": {},
   "source": [
    "## Let's remove outliers and retry this"
   ]
  },
  {
   "cell_type": "code",
   "execution_count": 24,
   "metadata": {},
   "outputs": [],
   "source": [
    "#https://stackoverflow.com/questions/40337744/scalenormalise-a-column-in-spark-dataframe-pyspark\n",
    "unlist = udf(lambda x: round(float(list(x)[0]),3), DoubleType())\n",
    "for i in [\"m1_user_sessions\"]:\n",
    "    # VectorAssembler Transformation - Converting column to vector type\n",
    "    assembler = VectorAssembler(inputCols=[i],outputCol=i+\"_Vect\")\n",
    "\n",
    "    # MinMaxScaler Transformation\n",
    "    scaler = MinMaxScaler(inputCol=i+\"_Vect\", outputCol=i+\"_Scaled\")\n",
    "\n",
    "    # Pipeline of VectorAssembler and MinMaxScaler\n",
    "    pipeline = Pipeline(stages=[assembler, scaler])\n",
    "\n",
    "    # Fitting pipeline on dataframe\n",
    "    ccp = pipeline.fit(cat_codes_plus).transform(cat_codes_plus).withColumn(i+\"_Scaled\", unlist(i+\"_Scaled\")).drop(i+\"_Vect\")\n"
   ]
  },
  {
   "cell_type": "code",
   "execution_count": 25,
   "metadata": {},
   "outputs": [
    {
     "name": "stdout",
     "output_type": "stream",
     "text": [
      "+-----------------------+\n",
      "|m1_user_sessions_Scaled|\n",
      "+-----------------------+\n",
      "|                    0.0|\n",
      "|                  0.001|\n",
      "|                  0.001|\n",
      "|                  0.001|\n",
      "|                  0.001|\n",
      "|                    0.0|\n",
      "|                    0.0|\n",
      "|                  0.001|\n",
      "|                  0.002|\n",
      "|                  0.004|\n",
      "|                    0.0|\n",
      "|                  0.002|\n",
      "|                  0.001|\n",
      "|                  0.005|\n",
      "|                  0.001|\n",
      "|                  0.001|\n",
      "|                  0.001|\n",
      "|                  0.004|\n",
      "|                    0.0|\n",
      "|                  0.002|\n",
      "+-----------------------+\n",
      "only showing top 20 rows\n",
      "\n"
     ]
    }
   ],
   "source": [
    "ccp.select(\"m1_user_sessions_Scaled\").show()"
   ]
  },
  {
   "cell_type": "code",
   "execution_count": 26,
   "metadata": {},
   "outputs": [
    {
     "name": "stdout",
     "output_type": "stream",
     "text": [
      "+-------+-----------------------+\n",
      "|summary|m1_user_sessions_Scaled|\n",
      "+-------+-----------------------+\n",
      "|  count|                 359105|\n",
      "|   mean|   6.641762158700039E-4|\n",
      "| stddev|   0.002671847744529227|\n",
      "|    min|                    0.0|\n",
      "|    max|                    1.0|\n",
      "+-------+-----------------------+\n",
      "\n"
     ]
    }
   ],
   "source": [
    "ccp.describe('m1_user_sessions_Scaled').show()"
   ]
  },
  {
   "cell_type": "code",
   "execution_count": 27,
   "metadata": {},
   "outputs": [],
   "source": [
    "# That's a pain in the ass. Going to drop extreme outliers (>3x standard deviation)"
   ]
  },
  {
   "cell_type": "code",
   "execution_count": 28,
   "metadata": {},
   "outputs": [],
   "source": [
    "cat_codes_plus.createOrReplaceTempView('cats')"
   ]
  },
  {
   "cell_type": "code",
   "execution_count": 29,
   "metadata": {},
   "outputs": [
    {
     "name": "stdout",
     "output_type": "stream",
     "text": [
      "80.14743654275493\n"
     ]
    }
   ],
   "source": [
    "print(cutoff)"
   ]
  },
  {
   "cell_type": "code",
   "execution_count": 30,
   "metadata": {},
   "outputs": [
    {
     "name": "stdout",
     "output_type": "stream",
     "text": [
      "CPU times: user 1.09 ms, sys: 30 µs, total: 1.12 ms\n",
      "Wall time: 27.5 ms\n"
     ]
    }
   ],
   "source": [
    "%%time\n",
    "df = spark.sql(\"\"\"SELECT * FROM cats\n",
    "               WHERE m1_user_sessions <= 80\n",
    "               \"\"\")"
   ]
  },
  {
   "cell_type": "code",
   "execution_count": 31,
   "metadata": {},
   "outputs": [
    {
     "name": "stdout",
     "output_type": "stream",
     "text": [
      "CPU times: user 2.8 ms, sys: 687 µs, total: 3.49 ms\n",
      "Wall time: 8.37 s\n"
     ]
    },
    {
     "data": {
      "text/plain": [
       "358410"
      ]
     },
     "execution_count": 31,
     "metadata": {},
     "output_type": "execute_result"
    }
   ],
   "source": [
    "%%time\n",
    "df.count() # It looks like doing that wound up dropping "
   ]
  },
  {
   "cell_type": "code",
   "execution_count": 32,
   "metadata": {},
   "outputs": [
    {
     "data": {
      "text/plain": [
       "10695"
      ]
     },
     "execution_count": 32,
     "metadata": {},
     "output_type": "execute_result"
    }
   ],
   "source": [
    "359105-348410 #We dropped this many extreme outliers - given their frequent purchases, \n",
    "#I'd say they were all shoe-ins for purchase the next month, but they'd make it suuper difficult to model accurately"
   ]
  },
  {
   "cell_type": "code",
   "execution_count": 33,
   "metadata": {},
   "outputs": [
    {
     "name": "stdout",
     "output_type": "stream",
     "text": [
      "+-------+-----------------+\n",
      "|summary| m1_user_sessions|\n",
      "+-------+-----------------+\n",
      "|  count|           358410|\n",
      "|   mean|7.171153148628665|\n",
      "| stddev|8.377241229441916|\n",
      "|    min|                1|\n",
      "|    max|               80|\n",
      "+-------+-----------------+\n",
      "\n",
      "CPU times: user 3.7 ms, sys: 1.03 ms, total: 4.73 ms\n",
      "Wall time: 8.48 s\n"
     ]
    }
   ],
   "source": [
    "%%time\n",
    "df.describe('m1_user_sessions').show()"
   ]
  },
  {
   "cell_type": "code",
   "execution_count": 34,
   "metadata": {},
   "outputs": [],
   "source": [
    "user_sessions_filtered = df.select(\"m1_user_sessions\").toPandas()"
   ]
  },
  {
   "cell_type": "code",
   "execution_count": 35,
   "metadata": {},
   "outputs": [
    {
     "data": {
      "image/png": "[encoded data removed]",
      "text/plain": [
       "<Figure size 640x480 with 1 Axes>"
      ]
     },
     "metadata": {},
     "output_type": "display_data"
    }
   ],
   "source": [
    "n_bins = 81\n",
    "\n",
    "plt.hist(user_sessions_filtered, bins=n_bins)\n",
    "plt.show() "
   ]
  },
  {
   "cell_type": "markdown",
   "metadata": {},
   "source": [
    "Looking at this... I think we could prune outliers again if we want. It's already not 'proper' because this isn't normally distributed. We're just trying to get the crazy cases to go away. "
   ]
  },
  {
   "cell_type": "code",
   "execution_count": 36,
   "metadata": {},
   "outputs": [],
   "source": [
    "ccp_ln = ccp.withColumn('log_m1_user_sessions', log(ccp['m1_user_sessions']))"
   ]
  },
  {
   "cell_type": "code",
   "execution_count": 37,
   "metadata": {},
   "outputs": [
    {
     "name": "stdout",
     "output_type": "stream",
     "text": [
      "+----------------+--------------------+\n",
      "|m1_user_sessions|log_m1_user_sessions|\n",
      "+----------------+--------------------+\n",
      "|               3|  1.0986122886681096|\n",
      "|              11|  2.3978952727983707|\n",
      "|              11|  2.3978952727983707|\n",
      "|               7|  1.9459101490553132|\n",
      "|               7|  1.9459101490553132|\n",
      "+----------------+--------------------+\n",
      "only showing top 5 rows\n",
      "\n"
     ]
    }
   ],
   "source": [
    "ccp_ln.select('m1_user_sessions', 'log_m1_user_sessions').show(5)"
   ]
  },
  {
   "cell_type": "code",
   "execution_count": 38,
   "metadata": {},
   "outputs": [],
   "source": [
    "user_sessions_log = ccp_ln.select(\"log_m1_user_sessions\").toPandas()"
   ]
  },
  {
   "cell_type": "code",
   "execution_count": 39,
   "metadata": {},
   "outputs": [
    {
     "data": {
      "image/png": "[encoded data removed]",
      "text/plain": [
       "<Figure size 640x480 with 1 Axes>"
      ]
     },
     "metadata": {},
     "output_type": "display_data"
    }
   ],
   "source": [
    "plt.hist(user_sessions_log)\n",
    "plt.show()"
   ]
  },
  {
   "cell_type": "code",
   "execution_count": 40,
   "metadata": {},
   "outputs": [
    {
     "ename": "AnalysisException",
     "evalue": "Found duplicate column(s) when inserting into file:/project/ds5559/group12/raw_data/some_features.parquet: `user_id`",
     "output_type": "error",
     "traceback": [
      "\u001b[0;31m---------------------------------------------------------------------------\u001b[0m",
      "\u001b[0;31mAnalysisException\u001b[0m                         Traceback (most recent call last)",
      "\u001b[0;32m<timed eval>\u001b[0m in \u001b[0;36m<module>\u001b[0;34m\u001b[0m\n",
      "\u001b[0;32m/usr/local/spark/python/pyspark/sql/readwriter.py\u001b[0m in \u001b[0;36mparquet\u001b[0;34m(self, path, mode, partitionBy, compression)\u001b[0m\n\u001b[1;32m   1248\u001b[0m             \u001b[0mself\u001b[0m\u001b[0;34m.\u001b[0m\u001b[0mpartitionBy\u001b[0m\u001b[0;34m(\u001b[0m\u001b[0mpartitionBy\u001b[0m\u001b[0;34m)\u001b[0m\u001b[0;34m\u001b[0m\u001b[0;34m\u001b[0m\u001b[0m\n\u001b[1;32m   1249\u001b[0m         \u001b[0mself\u001b[0m\u001b[0;34m.\u001b[0m\u001b[0m_set_opts\u001b[0m\u001b[0;34m(\u001b[0m\u001b[0mcompression\u001b[0m\u001b[0;34m=\u001b[0m\u001b[0mcompression\u001b[0m\u001b[0;34m)\u001b[0m\u001b[0;34m\u001b[0m\u001b[0;34m\u001b[0m\u001b[0m\n\u001b[0;32m-> 1250\u001b[0;31m         \u001b[0mself\u001b[0m\u001b[0;34m.\u001b[0m\u001b[0m_jwrite\u001b[0m\u001b[0;34m.\u001b[0m\u001b[0mparquet\u001b[0m\u001b[0;34m(\u001b[0m\u001b[0mpath\u001b[0m\u001b[0;34m)\u001b[0m\u001b[0;34m\u001b[0m\u001b[0;34m\u001b[0m\u001b[0m\n\u001b[0m\u001b[1;32m   1251\u001b[0m \u001b[0;34m\u001b[0m\u001b[0m\n\u001b[1;32m   1252\u001b[0m     \u001b[0;32mdef\u001b[0m \u001b[0mtext\u001b[0m\u001b[0;34m(\u001b[0m\u001b[0mself\u001b[0m\u001b[0;34m,\u001b[0m \u001b[0mpath\u001b[0m\u001b[0;34m,\u001b[0m \u001b[0mcompression\u001b[0m\u001b[0;34m=\u001b[0m\u001b[0;32mNone\u001b[0m\u001b[0;34m,\u001b[0m \u001b[0mlineSep\u001b[0m\u001b[0;34m=\u001b[0m\u001b[0;32mNone\u001b[0m\u001b[0;34m)\u001b[0m\u001b[0;34m:\u001b[0m\u001b[0;34m\u001b[0m\u001b[0;34m\u001b[0m\u001b[0m\n",
      "\u001b[0;32m/usr/local/spark/python/lib/py4j-0.10.9-src.zip/py4j/java_gateway.py\u001b[0m in \u001b[0;36m__call__\u001b[0;34m(self, *args)\u001b[0m\n\u001b[1;32m   1303\u001b[0m         \u001b[0manswer\u001b[0m \u001b[0;34m=\u001b[0m \u001b[0mself\u001b[0m\u001b[0;34m.\u001b[0m\u001b[0mgateway_client\u001b[0m\u001b[0;34m.\u001b[0m\u001b[0msend_command\u001b[0m\u001b[0;34m(\u001b[0m\u001b[0mcommand\u001b[0m\u001b[0;34m)\u001b[0m\u001b[0;34m\u001b[0m\u001b[0;34m\u001b[0m\u001b[0m\n\u001b[1;32m   1304\u001b[0m         return_value = get_return_value(\n\u001b[0;32m-> 1305\u001b[0;31m             answer, self.gateway_client, self.target_id, self.name)\n\u001b[0m\u001b[1;32m   1306\u001b[0m \u001b[0;34m\u001b[0m\u001b[0m\n\u001b[1;32m   1307\u001b[0m         \u001b[0;32mfor\u001b[0m \u001b[0mtemp_arg\u001b[0m \u001b[0;32min\u001b[0m \u001b[0mtemp_args\u001b[0m\u001b[0;34m:\u001b[0m\u001b[0;34m\u001b[0m\u001b[0;34m\u001b[0m\u001b[0m\n",
      "\u001b[0;32m/usr/local/spark/python/pyspark/sql/utils.py\u001b[0m in \u001b[0;36mdeco\u001b[0;34m(*a, **kw)\u001b[0m\n\u001b[1;32m    115\u001b[0m                 \u001b[0;31m# Hide where the exception came from that shows a non-Pythonic\u001b[0m\u001b[0;34m\u001b[0m\u001b[0;34m\u001b[0m\u001b[0;34m\u001b[0m\u001b[0m\n\u001b[1;32m    116\u001b[0m                 \u001b[0;31m# JVM exception message.\u001b[0m\u001b[0;34m\u001b[0m\u001b[0;34m\u001b[0m\u001b[0;34m\u001b[0m\u001b[0m\n\u001b[0;32m--> 117\u001b[0;31m                 \u001b[0;32mraise\u001b[0m \u001b[0mconverted\u001b[0m \u001b[0;32mfrom\u001b[0m \u001b[0;32mNone\u001b[0m\u001b[0;34m\u001b[0m\u001b[0;34m\u001b[0m\u001b[0m\n\u001b[0m\u001b[1;32m    118\u001b[0m             \u001b[0;32melse\u001b[0m\u001b[0;34m:\u001b[0m\u001b[0;34m\u001b[0m\u001b[0;34m\u001b[0m\u001b[0m\n\u001b[1;32m    119\u001b[0m                 \u001b[0;32mraise\u001b[0m\u001b[0;34m\u001b[0m\u001b[0;34m\u001b[0m\u001b[0m\n",
      "\u001b[0;31mAnalysisException\u001b[0m: Found duplicate column(s) when inserting into file:/project/ds5559/group12/raw_data/some_features.parquet: `user_id`"
     ]
    }
   ],
   "source": []
  },
  {
   "cell_type": "code",
   "execution_count": 42,
   "metadata": {},
   "outputs": [
    {
     "name": "stdout",
     "output_type": "stream",
     "text": [
      "+---------+------------------+------------------+---------------+------------------+----------------+---------+----+---------------+--------------------+------------------+------------+---------------+-------------+-------------+--------------+-------------+--------------+---------------+-------------+-------------+-------------+--------------------------+-------------------------+------------------+-----------------------+---------------------+---------------------+----------------------+--------------+-------------+------------+----------------+--------------+-----------------+--------------------------------------+---------------------------------+------------------------------+--------------------------+-----------------------------+-----------------------------------+---------------+------------------------+--------------------------+---------------------------------+---------------------------------+-----------------------------+------------------------+------------------------+----------------------+-----------------------+-------------------------+-------------------------+-------------------------------+----------------------------+------------------------+-----------------------+--------------------------------+-------------------------------+-------------------------+-------------------------+-------------------------------+----------------------------+--------------------------+-------------------------+----------------------+----------------------------+---------------------------+----------------------+---------------------------+-----------------------+----------------------+------------------------------+----------------------+---------------------------+------------------------+------------------------+---------------------------+--------------------------------+---------------------------------+-------------------------------+-------------------------------+-----------------+----------------+------------------+----------------------------+------------------------------+-----------------------------+---------------------------+-----------------------------+------------------------------+------------------------+----------------------------+------------------------+---------------------------+-----------------------+----------------------+------------------------+----------------------------+--------------------------+-----------------------+----------------------------+-----------------------------+-----------------------+--------------------------+---------------------------+----------------------------+-----------------------------------+---------------------------+------------------------+------------------------+------------------+----------------------+------------------+---------------------+---------------------------+--------------------+-----------------------+-------------------------+---------------------+-------------------------+------------------------+-----------------------+-----------------------+-----------------------------+---------------------------+------------------------------+--------------------------+-------------------------+-------------+----------+-----------------+-----------+----------+---------+------------------------+-------------+------------+---------+---------------+------------+-------------+-------------------+-----------------------+--------------------+\n",
      "|  user_id|    m2_total_spend|    m1_total_spend|m1_total_events|m1_purchase_events|m1_user_sessions|  user_id|null|accessories.bag|accessories.umbrella|accessories.wallet|apparel.belt|apparel.costume|apparel.dress|apparel.glove|apparel.jacket|apparel.jeans|apparel.jumper|apparel.pajamas|apparel.scarf|apparel.shirt|apparel.shoes|apparel.shoes.ballet_shoes|apparel.shoes.espadrilles|apparel.shoes.keds|apparel.shoes.moccasins|apparel.shoes.sandals|apparel.shoes.slipons|apparel.shoes.step_ins|apparel.shorts|apparel.skirt|apparel.sock|apparel.trousers|apparel.tshirt|apparel.underwear|appliances.environment.air_conditioner|appliances.environment.air_heater|appliances.environment.climate|appliances.environment.fan|appliances.environment.vacuum|appliances.environment.water_heater|appliances.iron|appliances.ironing_board|appliances.kitchen.blender|appliances.kitchen.coffee_grinder|appliances.kitchen.coffee_machine|appliances.kitchen.dishwasher|appliances.kitchen.fryer|appliances.kitchen.grill|appliances.kitchen.hob|appliances.kitchen.hood|appliances.kitchen.juicer|appliances.kitchen.kettle|appliances.kitchen.meat_grinder|appliances.kitchen.microwave|appliances.kitchen.mixer|appliances.kitchen.oven|appliances.kitchen.refrigerators|appliances.kitchen.steam_cooker|appliances.kitchen.toster|appliances.kitchen.washer|appliances.personal.hair_cutter|appliances.personal.massager|appliances.personal.scales|appliances.sewing_machine|auto.accessories.alarm|auto.accessories.anti_freeze|auto.accessories.compressor|auto.accessories.light|auto.accessories.parktronic|auto.accessories.player|auto.accessories.radar|auto.accessories.videoregister|auto.accessories.winch|computers.components.cooler|computers.components.cpu|computers.components.hdd|computers.components.memory|computers.components.motherboard|computers.components.power_supply|computers.components.sound_card|computers.components.videocards|computers.desktop|computers.ebooks|computers.notebook|computers.peripherals.camera|computers.peripherals.keyboard|computers.peripherals.monitor|computers.peripherals.mouse|computers.peripherals.printer|construction.components.faucet|construction.tools.drill|construction.tools.generator|construction.tools.light|construction.tools.painting|construction.tools.pump|construction.tools.saw|construction.tools.screw|construction.tools.soldering|construction.tools.welding|country_yard.cultivator|country_yard.furniture.bench|country_yard.furniture.hammok|country_yard.lawn_mower|electronics.audio.acoustic|electronics.audio.headphone|electronics.audio.microphone|electronics.audio.music_tools.piano|electronics.audio.subwoofer|electronics.camera.photo|electronics.camera.video|electronics.clocks|electronics.smartphone|electronics.tablet|electronics.telephone|electronics.video.projector|electronics.video.tv|furniture.bathroom.bath|furniture.bathroom.toilet|furniture.bedroom.bed|furniture.bedroom.blanket|furniture.bedroom.pillow|furniture.kitchen.chair|furniture.kitchen.table|furniture.living_room.cabinet|furniture.living_room.chair|furniture.living_room.shelving|furniture.living_room.sofa|furniture.universal.light|kids.carriage|kids.dolls|kids.fmcg.diapers|kids.skates|kids.swing|kids.toys|medicine.tools.tonometer|sport.bicycle|sport.diving|sport.ski|sport.snowboard|sport.tennis|sport.trainer|stationery.cartrige|m1_user_sessions_Scaled|log_m1_user_sessions|\n",
      "+---------+------------------+------------------+---------------+------------------+----------------+---------+----+---------------+--------------------+------------------+------------+---------------+-------------+-------------+--------------+-------------+--------------+---------------+-------------+-------------+-------------+--------------------------+-------------------------+------------------+-----------------------+---------------------+---------------------+----------------------+--------------+-------------+------------+----------------+--------------+-----------------+--------------------------------------+---------------------------------+------------------------------+--------------------------+-----------------------------+-----------------------------------+---------------+------------------------+--------------------------+---------------------------------+---------------------------------+-----------------------------+------------------------+------------------------+----------------------+-----------------------+-------------------------+-------------------------+-------------------------------+----------------------------+------------------------+-----------------------+--------------------------------+-------------------------------+-------------------------+-------------------------+-------------------------------+----------------------------+--------------------------+-------------------------+----------------------+----------------------------+---------------------------+----------------------+---------------------------+-----------------------+----------------------+------------------------------+----------------------+---------------------------+------------------------+------------------------+---------------------------+--------------------------------+---------------------------------+-------------------------------+-------------------------------+-----------------+----------------+------------------+----------------------------+------------------------------+-----------------------------+---------------------------+-----------------------------+------------------------------+------------------------+----------------------------+------------------------+---------------------------+-----------------------+----------------------+------------------------+----------------------------+--------------------------+-----------------------+----------------------------+-----------------------------+-----------------------+--------------------------+---------------------------+----------------------------+-----------------------------------+---------------------------+------------------------+------------------------+------------------+----------------------+------------------+---------------------+---------------------------+--------------------+-----------------------+-------------------------+---------------------+-------------------------+------------------------+-----------------------+-----------------------+-----------------------------+---------------------------+------------------------------+--------------------------+-------------------------+-------------+----------+-----------------+-----------+----------+---------+------------------------+-------------+------------+---------+---------------+------------+-------------+-------------------+-----------------------+--------------------+\n",
      "|512372691|14188.679718017578|293.82000732421875|             66|                 6|               3|512372691|   1|              1|                null|              null|        null|           null|         null|         null|          null|         null|          null|           null|         null|         null|         null|                      null|                     null|              null|                   null|                 null|                 null|                  null|          null|         null|        null|            null|          null|             null|                                  null|                             null|                          null|                      null|                         null|                               null|           null|                    null|                      null|                             null|                             null|                         null|                    null|                    null|                  null|                   null|                     null|                     null|                           null|                        null|                    null|                   null|                            null|                           null|                     null|                     null|                           null|                        null|                      null|                     null|                  null|                        null|                       null|                  null|                       null|                   null|                  null|                          null|                  null|                       null|                    null|                    null|                       null|                            null|                             null|                           null|                           null|             null|            null|              null|                        null|                          null|                         null|                       null|                         null|                          null|                    null|                        null|                    null|                       null|                   null|                  null|                    null|                        null|                      null|                   null|                        null|                         null|                   null|                      null|                       null|                        null|                               null|                       null|                    null|                    null|              null|                  null|              null|                 null|                       null|                null|                   null|                     null|                 null|                        1|                    null|                   null|                   null|                         null|                       null|                          null|                      null|                     null|         null|      null|             null|       null|      null|     null|                    null|         null|        null|     null|           null|        null|         null|               null|                    0.0|  1.0986122886681096|\n",
      "+---------+------------------+------------------+---------------+------------------+----------------+---------+----+---------------+--------------------+------------------+------------+---------------+-------------+-------------+--------------+-------------+--------------+---------------+-------------+-------------+-------------+--------------------------+-------------------------+------------------+-----------------------+---------------------+---------------------+----------------------+--------------+-------------+------------+----------------+--------------+-----------------+--------------------------------------+---------------------------------+------------------------------+--------------------------+-----------------------------+-----------------------------------+---------------+------------------------+--------------------------+---------------------------------+---------------------------------+-----------------------------+------------------------+------------------------+----------------------+-----------------------+-------------------------+-------------------------+-------------------------------+----------------------------+------------------------+-----------------------+--------------------------------+-------------------------------+-------------------------+-------------------------+-------------------------------+----------------------------+--------------------------+-------------------------+----------------------+----------------------------+---------------------------+----------------------+---------------------------+-----------------------+----------------------+------------------------------+----------------------+---------------------------+------------------------+------------------------+---------------------------+--------------------------------+---------------------------------+-------------------------------+-------------------------------+-----------------+----------------+------------------+----------------------------+------------------------------+-----------------------------+---------------------------+-----------------------------+------------------------------+------------------------+----------------------------+------------------------+---------------------------+-----------------------+----------------------+------------------------+----------------------------+--------------------------+-----------------------+----------------------------+-----------------------------+-----------------------+--------------------------+---------------------------+----------------------------+-----------------------------------+---------------------------+------------------------+------------------------+------------------+----------------------+------------------+---------------------+---------------------------+--------------------+-----------------------+-------------------------+---------------------+-------------------------+------------------------+-----------------------+-----------------------+-----------------------------+---------------------------+------------------------------+--------------------------+-------------------------+-------------+----------+-----------------+-----------+----------+---------+------------------------+-------------+------------+---------+---------------+------------+-------------+-------------------+-----------------------+--------------------+\n",
      "only showing top 1 row\n",
      "\n"
     ]
    }
   ],
   "source": [
    "ccp_ln.show(1)"
   ]
  },
  {
   "cell_type": "code",
   "execution_count": null,
   "metadata": {},
   "outputs": [],
   "source": []
  }
 ],
 "metadata": {
  "kernelspec": {
   "display_name": "DS 5110 Spark 3.1",
   "language": "python",
   "name": "ds5110_spark3.1"
  },
  "language_info": {
   "codemirror_mode": {
    "name": "ipython",
    "version": 3
   },
   "file_extension": ".py",
   "mimetype": "text/x-python",
   "name": "python",
   "nbconvert_exporter": "python",
   "pygments_lexer": "ipython3",
   "version": "3.7.10"
  }
 },
 "nbformat": 4,
 "nbformat_minor": 4
}
