{
 "cells": [
  {
   "cell_type": "markdown",
   "metadata": {},
   "source": [
    "## File 06 - PCA Linear Regression\n",
    "##### Group 12:\n",
    "\n",
    "##### Hannah Schmuckler, mmc4cv\n",
    "\n",
    "##### Rob Schwartz, res7cd"
   ]
  },
  {
   "cell_type": "markdown",
   "metadata": {},
   "source": [
    "In this file, we create a small ML pipeline based on the output from File 02 (Feature creation).\n",
    "\n",
    "We create a linear regression model, but this time use PCA features that were created in file 02. We compare k-values. "
   ]
  },
  {
   "cell_type": "code",
   "execution_count": 1,
   "metadata": {},
   "outputs": [
    {
     "name": "stdout",
     "output_type": "stream",
     "text": [
      "CPU times: user 568 ms, sys: 428 ms, total: 996 ms\n",
      "Wall time: 8.14 s\n"
     ]
    }
   ],
   "source": [
    "%%time\n",
    "from pyspark.sql import SparkSession\n",
    "from pyspark.sql import types as T\n",
    "from pyspark.ml import Pipeline\n",
    "from pyspark.ml.feature import VectorAssembler\n",
    "from pyspark.ml.regression import LinearRegression, LinearRegressionModel, LinearRegressionSummary\n",
    "from pyspark.ml.evaluation import RegressionEvaluator\n",
    "from pyspark.ml.tuning import ParamGridBuilder, CrossValidator\n",
    "from pyspark.sql.functions import col\n",
    "from pyspark.sql.functions import log\n",
    "from pyspark.ml.stat import Correlation\n",
    "\n",
    "import pandas as pd\n",
    "import numpy as np\n",
    "import copy\n",
    "\n",
    "spark = SparkSession.builder \\\n",
    "        .appName(\"project\") \\\n",
    "        .getOrCreate()\n",
    "\n",
    "sc = spark.sparkContext"
   ]
  },
  {
   "cell_type": "markdown",
   "metadata": {},
   "source": [
    "### Read in dataframes for train and test sets\n",
    "\n",
    "This data should have been previously generated: we can find it in the `processed_data` folder."
   ]
  },
  {
   "cell_type": "code",
   "execution_count": 2,
   "metadata": {},
   "outputs": [
    {
     "name": "stdout",
     "output_type": "stream",
     "text": [
      "CPU times: user 3.76 ms, sys: 272 µs, total: 4.03 ms\n",
      "Wall time: 4.19 s\n"
     ]
    }
   ],
   "source": [
    "%%time\n",
    "trainDF = spark.read.parquet(\"./processed_data/train.parquet\")\n",
    "testDF = spark.read.parquet(\"./processed_data/test.parquet\")\n",
    "# trainDF.show(5)"
   ]
  },
  {
   "cell_type": "markdown",
   "metadata": {},
   "source": [
    "### Set up Spark ML pipeline training for linear regression\n",
    "\n",
    "Here we decide which input columns should be used in order to create our training pipeline. To implement this step, we create the function `generatePipeline(inputCols, outputCol)`. Then, we train the pipeline using this function."
   ]
  },
  {
   "cell_type": "code",
   "execution_count": 3,
   "metadata": {},
   "outputs": [
    {
     "name": "stdout",
     "output_type": "stream",
     "text": [
      "CPU times: user 2 µs, sys: 2 µs, total: 4 µs\n",
      "Wall time: 6.44 µs\n"
     ]
    }
   ],
   "source": [
    "%%time\n",
    "\n",
    "\n",
    "def generatePipeline(inputCols, outputCol):\n",
    "    # Select input columns for linear regression\n",
    "    vecAssembler = VectorAssembler(inputCols=inputCols, outputCol=\"features\")\n",
    "\n",
    "    # Select output column for linear regression\n",
    "    lr = LinearRegression(featuresCol=\"features\", labelCol=outputCol)\n",
    "\n",
    "    # The following lines (pipeline creation and fitting) replace these two commented-out lines.\n",
    "    # vecTrainDF = vecAssembler.transform(trainDF)\n",
    " \n",
    "    pipeline = Pipeline(stages=[vecAssembler, lr])\n",
    "    return pipeline\n"
   ]
  },
  {
   "cell_type": "markdown",
   "metadata": {},
   "source": [
    "### View the model information\n",
    "\n",
    "Print out the model coefficients and view the pValues, RMSE and R^2. We define the functions `modelInfo(inputCols, pipelineModel)` and `getEvaluationMetrics(pipelineModel,outputCol,testDF)` to report this information."
   ]
  },
  {
   "cell_type": "code",
   "execution_count": 4,
   "metadata": {},
   "outputs": [],
   "source": [
    "def modelInfo(inputCols, pipelineModel):\n",
    "    # Create a zipped list containing the coefficients and the data\n",
    "    modelCols = copy.deepcopy(inputCols)\n",
    "    modelCoeffs = list(pipelineModel.stages[-1].coefficients)\n",
    "    modelCoeffs.insert(0,pipelineModel.stages[-1].intercept)\n",
    "    modelCols.insert(0,\"intercept\")\n",
    "    modelZippedList = list(map(list, zip(modelCols, modelCoeffs)))\n",
    "    \n",
    "    # p-values don't work with PCA\n",
    "    #pvals = pipelineModel.stages[-1].summary.pValues\n",
    "    \n",
    "    # Create the pandas DataFrame\n",
    "    modelDF = pd.DataFrame(modelZippedList, columns = ['Column name', 'Coefficient'])\n",
    "    # modelDF['pValues'] = pvals\n",
    "    return modelDF\n"
   ]
  },
  {
   "cell_type": "code",
   "execution_count": 5,
   "metadata": {},
   "outputs": [],
   "source": [
    "# Calculate adjusted r2 (https://towardsdatascience.com/machine-learning-linear-regression-using-pyspark-9d5d5c772b42)\n",
    "# This function will allow us to calculate the adjusted r-square value when we do PCA later. The default r-square function does not take into account k. \n",
    "def adj_r2(r2, inputCols, testDF, k = 0):\n",
    "    n = testDF.count()\n",
    "    if k == 0:\n",
    "        p = len(inputCols)\n",
    "    else: \n",
    "        p = len(inputCols) + k - 1\n",
    "    \n",
    "    adjusted_r2 = 1-(((1-r2)*(n-1))/(n-p-1))\n",
    "    return adjusted_r2"
   ]
  },
  {
   "cell_type": "code",
   "execution_count": 6,
   "metadata": {},
   "outputs": [],
   "source": [
    "def getEvaluationMetrics(pipelineModel,outputCol,testDF,inputCols,k):\n",
    "    predDF = pipelineModel.transform(testDF)\n",
    "    predDF.select(outputCol, \"prediction\").show(10)\n",
    "    \n",
    "    print(predDF)\n",
    "    \n",
    "    regressionEvaluator = RegressionEvaluator(\n",
    "    predictionCol=\"prediction\",\n",
    "    labelCol=outputCol,\n",
    "    metricName=\"rmse\")\n",
    "    rmse = regressionEvaluator.evaluate(predDF)\n",
    "\n",
    "    regressionEvaluator = RegressionEvaluator(\n",
    "    predictionCol=\"prediction\",\n",
    "    labelCol=outputCol,\n",
    "    metricName=\"r2\")\n",
    "    r2 = regressionEvaluator.evaluate(predDF)\n",
    "      \n",
    "    # Manually calculate Adjusted r2\n",
    "    adjusted_r2 = adj_r2(r2, inputCols, testDF, k)\n",
    "    \n",
    "    return rmse, r2, adjusted_r2\n"
   ]
  },
  {
   "cell_type": "code",
   "execution_count": null,
   "metadata": {},
   "outputs": [],
   "source": []
  },
  {
   "cell_type": "markdown",
   "metadata": {},
   "source": [
    "### PCA\n",
    "First, we'll see how each PCA variant performs on its own. We've created four variations with different k values: 10, 20, 50, and 100. Our PCA represents the categories of purchases that customers made in month one. "
   ]
  },
  {
   "cell_type": "code",
   "execution_count": 7,
   "metadata": {},
   "outputs": [
    {
     "name": "stdout",
     "output_type": "stream",
     "text": [
      "** PCA 10 **\n",
      "Model coefficients\n",
      "       Column name  Coefficient\n",
      "0        intercept    16.498896\n",
      "1  pca_purchases10  -274.866115\n",
      "+------------------+------------------+\n",
      "|     T_total_spend|        prediction|\n",
      "+------------------+------------------+\n",
      "|               0.0|18.388107610880304|\n",
      "|               0.0|24.058767198489555|\n",
      "|               0.0| 17.91693081574608|\n",
      "|               0.0|338.05151648298573|\n",
      "|               0.0|254.21827080566473|\n",
      "|               0.0| 38.56716882864596|\n",
      "| 312.4200134277344| 20.43665840632384|\n",
      "|  6009.78010559082|254.21827080566473|\n",
      "|1627.1900024414062| 54.57791769584591|\n",
      "|1393.8800354003906|131.87719543591749|\n",
      "+------------------+------------------+\n",
      "only showing top 10 rows\n",
      "\n",
      "DataFrame[user_id: int, total_spend: double, total_events: bigint, total_sessions: bigint, T_total_spend: double, avg_session_length: double, sd_session_length: double, avg_interactions_per_session: double, sd_interactions_per_session: double, max_interactions_per_session: bigint, purchase_pct_of_total_events: double, view_pct_of_total_events: double, cart_pct_of_total_events: double, avg_purchases_per_session: double, sd_purchases_per_session: double, cart_events: bigint, purchase_events: bigint, view_events: bigint, sessions_with_purchase: bigint, sessions_with_cart: bigint, sessions_with_view: bigint, pct_sessions_end_purchase: double, pct_sessions_end_cart: double, total_spend_log: double, total_events_log: double, purchase_events_log: double, total_sessions_log: double, avg_session_length_log: double, T_total_spend_log: double, pca_purchases10: vector, pca_purchases20: vector, pca_purchases50: vector, pca_purchases100: vector, features: vector, prediction: double]\n",
      "RMSE is 2283.7\n",
      "R^2 is 0.14104\n",
      "Adjusted R^2 is 0.14092\n"
     ]
    }
   ],
   "source": [
    "print(\"** PCA 10 **\")\n",
    "inputCols = [\"pca_purchases10\"]\n",
    "\n",
    "# sd_session_length breaks it, as does sd_interactions_per_session, sd_purchases_per_session\n",
    "outputCol = \"T_total_spend\"\n",
    "\n",
    "pipeline = generatePipeline(inputCols, outputCol)\n",
    "pipelineModel = pipeline.fit(trainDF)\n",
    "    \n",
    "print(\"Model coefficients\")\n",
    "print(modelInfo(inputCols, pipelineModel))\n",
    "\n",
    "evaluationMetrics = getEvaluationMetrics(pipelineModel,outputCol,testDF, inputCols, 10)\n",
    "print(f\"RMSE is {evaluationMetrics[0]:.1f}\")\n",
    "print(f\"R^2 is {evaluationMetrics[1]:.5f}\")\n",
    "print(f\"Adjusted R^2 is {evaluationMetrics[2]:.5f}\")"
   ]
  },
  {
   "cell_type": "code",
   "execution_count": 8,
   "metadata": {},
   "outputs": [
    {
     "name": "stdout",
     "output_type": "stream",
     "text": [
      "** PCA 20 **\n",
      "Model coefficients\n",
      "       Column name  Coefficient\n",
      "0        intercept     3.000018\n",
      "1  pca_purchases20  -274.857092\n",
      "+------------------+------------------+\n",
      "|     T_total_spend|        prediction|\n",
      "+------------------+------------------+\n",
      "|               0.0|7.6885225618468205|\n",
      "|               0.0|15.150733461172578|\n",
      "|               0.0| 5.440875896002195|\n",
      "|               0.0| 321.6890969666492|\n",
      "|               0.0|240.34247634880285|\n",
      "|               0.0|38.242885316940225|\n",
      "| 312.4200134277344|  58.0081992636654|\n",
      "|  6009.78010559082|240.34247634880285|\n",
      "|1627.1900024414062| 364.3507162823513|\n",
      "|1393.8800354003906|116.51253004292738|\n",
      "+------------------+------------------+\n",
      "only showing top 10 rows\n",
      "\n",
      "DataFrame[user_id: int, total_spend: double, total_events: bigint, total_sessions: bigint, T_total_spend: double, avg_session_length: double, sd_session_length: double, avg_interactions_per_session: double, sd_interactions_per_session: double, max_interactions_per_session: bigint, purchase_pct_of_total_events: double, view_pct_of_total_events: double, cart_pct_of_total_events: double, avg_purchases_per_session: double, sd_purchases_per_session: double, cart_events: bigint, purchase_events: bigint, view_events: bigint, sessions_with_purchase: bigint, sessions_with_cart: bigint, sessions_with_view: bigint, pct_sessions_end_purchase: double, pct_sessions_end_cart: double, total_spend_log: double, total_events_log: double, purchase_events_log: double, total_sessions_log: double, avg_session_length_log: double, T_total_spend_log: double, pca_purchases10: vector, pca_purchases20: vector, pca_purchases50: vector, pca_purchases100: vector, features: vector, prediction: double]\n",
      "RMSE is 2282.8\n",
      "R^2 is 0.14173\n",
      "Adjusted R^2 is 0.14149\n"
     ]
    }
   ],
   "source": [
    "print(\"** PCA 20 **\")\n",
    "inputCols = [\"pca_purchases20\"]\n",
    "\n",
    "# sd_session_length breaks it, as does sd_interactions_per_session, sd_purchases_per_session\n",
    "outputCol = \"T_total_spend\"\n",
    "\n",
    "pipeline = generatePipeline(inputCols, outputCol)\n",
    "pipelineModel = pipeline.fit(trainDF)\n",
    "    \n",
    "print(\"Model coefficients\")\n",
    "print(modelInfo(inputCols, pipelineModel))\n",
    "\n",
    "evaluationMetrics = getEvaluationMetrics(pipelineModel,outputCol,testDF, inputCols, 20)\n",
    "print(f\"RMSE is {evaluationMetrics[0]:.1f}\")\n",
    "print(f\"R^2 is {evaluationMetrics[1]:.5f}\")\n",
    "print(f\"Adjusted R^2 is {evaluationMetrics[2]:.5f}\")"
   ]
  },
  {
   "cell_type": "code",
   "execution_count": 9,
   "metadata": {},
   "outputs": [
    {
     "name": "stdout",
     "output_type": "stream",
     "text": [
      "** PCA 50 **\n",
      "Model coefficients\n",
      "       Column name  Coefficient\n",
      "0        intercept   -11.911242\n",
      "1  pca_purchases50  -274.922295\n",
      "+------------------+--------------------+\n",
      "|     T_total_spend|          prediction|\n",
      "+------------------+--------------------+\n",
      "|               0.0|-0.08604014342354027|\n",
      "|               0.0|   11.73863094435069|\n",
      "|               0.0|  -9.883890142817528|\n",
      "|               0.0|  303.58809235670697|\n",
      "|               0.0|   227.0088763163214|\n",
      "|               0.0|  259.31563447469205|\n",
      "| 312.4200134277344|   62.03615349120954|\n",
      "|  6009.78010559082|   227.0088763163214|\n",
      "|1627.1900024414062|  345.28597710450634|\n",
      "|1393.8800354003906|   99.48662692145429|\n",
      "+------------------+--------------------+\n",
      "only showing top 10 rows\n",
      "\n",
      "DataFrame[user_id: int, total_spend: double, total_events: bigint, total_sessions: bigint, T_total_spend: double, avg_session_length: double, sd_session_length: double, avg_interactions_per_session: double, sd_interactions_per_session: double, max_interactions_per_session: bigint, purchase_pct_of_total_events: double, view_pct_of_total_events: double, cart_pct_of_total_events: double, avg_purchases_per_session: double, sd_purchases_per_session: double, cart_events: bigint, purchase_events: bigint, view_events: bigint, sessions_with_purchase: bigint, sessions_with_cart: bigint, sessions_with_view: bigint, pct_sessions_end_purchase: double, pct_sessions_end_cart: double, total_spend_log: double, total_events_log: double, purchase_events_log: double, total_sessions_log: double, avg_session_length_log: double, T_total_spend_log: double, pca_purchases10: vector, pca_purchases20: vector, pca_purchases50: vector, pca_purchases100: vector, features: vector, prediction: double]\n",
      "RMSE is 2279.9\n",
      "R^2 is 0.14394\n",
      "Adjusted R^2 is 0.14334\n"
     ]
    }
   ],
   "source": [
    "print(\"** PCA 50 **\")\n",
    "inputCols = [\"pca_purchases50\"]\n",
    "\n",
    "# sd_session_length breaks it, as does sd_interactions_per_session, sd_purchases_per_session\n",
    "outputCol = \"T_total_spend\"\n",
    "\n",
    "pipeline = generatePipeline(inputCols, outputCol)\n",
    "pipelineModel = pipeline.fit(trainDF)\n",
    "    \n",
    "print(\"Model coefficients\")\n",
    "print(modelInfo(inputCols, pipelineModel))\n",
    "\n",
    "evaluationMetrics = getEvaluationMetrics(pipelineModel,outputCol,testDF, inputCols, 50)\n",
    "print(f\"RMSE is {evaluationMetrics[0]:.1f}\")\n",
    "print(f\"R^2 is {evaluationMetrics[1]:.5f}\")\n",
    "print(f\"Adjusted R^2 is {evaluationMetrics[2]:.5f}\")"
   ]
  },
  {
   "cell_type": "code",
   "execution_count": 10,
   "metadata": {},
   "outputs": [
    {
     "name": "stdout",
     "output_type": "stream",
     "text": [
      "** PCA 100 **\n",
      "Model coefficients\n",
      "        Column name  Coefficient\n",
      "0         intercept   -18.129547\n",
      "1  pca_purchases100  -274.978438\n",
      "+------------------+-------------------+\n",
      "|     T_total_spend|         prediction|\n",
      "+------------------+-------------------+\n",
      "|               0.0|  128.0118099202071|\n",
      "|               0.0|-1.7165766838571699|\n",
      "|               0.0|  658.0872617356608|\n",
      "|               0.0|  299.2365078186722|\n",
      "|               0.0| 220.59970954830678|\n",
      "|               0.0| 218.19452970664932|\n",
      "| 312.4200134277344| 61.612941328389134|\n",
      "|  6009.78010559082| 220.59970954830678|\n",
      "|1627.1900024414062|  493.0728778636065|\n",
      "|1393.8800354003906|  92.17758433384682|\n",
      "+------------------+-------------------+\n",
      "only showing top 10 rows\n",
      "\n",
      "DataFrame[user_id: int, total_spend: double, total_events: bigint, total_sessions: bigint, T_total_spend: double, avg_session_length: double, sd_session_length: double, avg_interactions_per_session: double, sd_interactions_per_session: double, max_interactions_per_session: bigint, purchase_pct_of_total_events: double, view_pct_of_total_events: double, cart_pct_of_total_events: double, avg_purchases_per_session: double, sd_purchases_per_session: double, cart_events: bigint, purchase_events: bigint, view_events: bigint, sessions_with_purchase: bigint, sessions_with_cart: bigint, sessions_with_view: bigint, pct_sessions_end_purchase: double, pct_sessions_end_cart: double, total_spend_log: double, total_events_log: double, purchase_events_log: double, total_sessions_log: double, avg_session_length_log: double, T_total_spend_log: double, pca_purchases10: vector, pca_purchases20: vector, pca_purchases50: vector, pca_purchases100: vector, features: vector, prediction: double]\n",
      "RMSE is 2281.1\n",
      "R^2 is 0.14302\n",
      "Adjusted R^2 is 0.14182\n"
     ]
    }
   ],
   "source": [
    "print(\"** PCA 100 **\")\n",
    "inputCols = [\"pca_purchases100\"]\n",
    "\n",
    "# sd_session_length breaks it, as does sd_interactions_per_session, sd_purchases_per_session\n",
    "outputCol = \"T_total_spend\"\n",
    "\n",
    "pipeline = generatePipeline(inputCols, outputCol)\n",
    "pipelineModel = pipeline.fit(trainDF)\n",
    "    \n",
    "print(\"Model coefficients\")\n",
    "print(modelInfo(inputCols, pipelineModel))\n",
    "\n",
    "evaluationMetrics = getEvaluationMetrics(pipelineModel,outputCol,testDF, inputCols, 100)\n",
    "print(f\"RMSE is {evaluationMetrics[0]:.1f}\")\n",
    "print(f\"R^2 is {evaluationMetrics[1]:.5f}\")\n",
    "print(f\"Adjusted R^2 is {evaluationMetrics[2]:.5f}\")"
   ]
  },
  {
   "cell_type": "markdown",
   "metadata": {},
   "source": [
    "#### The adjusted r-square is highest for the PCA with the highest k value, 100. However, all of them are very close - a very small sacrafice in performance helps with a great reduction in dimensionality. "
   ]
  },
  {
   "cell_type": "code",
   "execution_count": 11,
   "metadata": {},
   "outputs": [
    {
     "name": "stdout",
     "output_type": "stream",
     "text": [
      "** PCA 10 + all other features **\n",
      "Model coefficients\n",
      "                  Column name  Coefficient\n",
      "0                   intercept   351.774375\n",
      "1                 total_spend     0.430083\n",
      "2           sd_session_length     0.000447\n",
      "3    cart_pct_of_total_events  -265.405678\n",
      "4   avg_purchases_per_session  -117.318675\n",
      "5                 cart_events    10.360983\n",
      "6             purchase_events   -28.830292\n",
      "7          sessions_with_cart    79.836426\n",
      "8          sessions_with_view    -6.146621\n",
      "9       pct_sessions_end_cart  -402.860244\n",
      "10            total_spend_log   -18.379311\n",
      "11           total_events_log   -63.313512\n",
      "12            pca_purchases10   -19.453177\n",
      "+------------------+------------------+\n",
      "|     T_total_spend|        prediction|\n",
      "+------------------+------------------+\n",
      "|               0.0|107.44056659916882|\n",
      "|               0.0|104.66517793217096|\n",
      "|               0.0|22.727672460024735|\n",
      "|               0.0|234.79518845076026|\n",
      "|               0.0|-54.97627819008051|\n",
      "|               0.0| -24.9436535551489|\n",
      "| 312.4200134277344|-95.42861913818052|\n",
      "|  6009.78010559082|  584.988265178736|\n",
      "|1627.1900024414062|183.92304687043816|\n",
      "|1393.8800354003906|125.25364040000949|\n",
      "+------------------+------------------+\n",
      "only showing top 10 rows\n",
      "\n",
      "DataFrame[user_id: int, total_spend: double, total_events: bigint, total_sessions: bigint, T_total_spend: double, avg_session_length: double, sd_session_length: double, avg_interactions_per_session: double, sd_interactions_per_session: double, max_interactions_per_session: bigint, purchase_pct_of_total_events: double, view_pct_of_total_events: double, cart_pct_of_total_events: double, avg_purchases_per_session: double, sd_purchases_per_session: double, cart_events: bigint, purchase_events: bigint, view_events: bigint, sessions_with_purchase: bigint, sessions_with_cart: bigint, sessions_with_view: bigint, pct_sessions_end_purchase: double, pct_sessions_end_cart: double, total_spend_log: double, total_events_log: double, purchase_events_log: double, total_sessions_log: double, avg_session_length_log: double, T_total_spend_log: double, pca_purchases10: vector, pca_purchases20: vector, pca_purchases50: vector, pca_purchases100: vector, features: vector, prediction: double]\n",
      "RMSE is 2199.6\n",
      "R^2 is 0.20314\n",
      "Adjusted R^2 is 0.20291\n"
     ]
    }
   ],
   "source": [
    "print(\"** PCA 10 + all other features **\")\n",
    "inputCols = [\"total_spend\", \"sd_session_length\",\n",
    "             \"cart_pct_of_total_events\", \"avg_purchases_per_session\", \"cart_events\", \"purchase_events\", \n",
    "             \"sessions_with_cart\", \"sessions_with_view\", \"pct_sessions_end_cart\", \"total_spend_log\", \"total_events_log\", \"pca_purchases10\"]\n",
    "\n",
    "# sd_session_length breaks it, as does sd_interactions_per_session, sd_purchases_per_session\n",
    "outputCol = \"T_total_spend\"\n",
    "\n",
    "pipeline = generatePipeline(inputCols, outputCol)\n",
    "pipelineModel = pipeline.fit(trainDF)\n",
    "    \n",
    "print(\"Model coefficients\")\n",
    "print(modelInfo(inputCols, pipelineModel))\n",
    "\n",
    "evaluationMetrics = getEvaluationMetrics(pipelineModel,outputCol,testDF, inputCols, 10)\n",
    "print(f\"RMSE is {evaluationMetrics[0]:.1f}\")\n",
    "print(f\"R^2 is {evaluationMetrics[1]:.5f}\")\n",
    "print(f\"Adjusted R^2 is {evaluationMetrics[2]:.5f}\")"
   ]
  },
  {
   "cell_type": "code",
   "execution_count": 12,
   "metadata": {},
   "outputs": [
    {
     "name": "stdout",
     "output_type": "stream",
     "text": [
      "** PCA 20 + all other features **\n",
      "Model coefficients\n",
      "                  Column name  Coefficient\n",
      "0                   intercept   352.336150\n",
      "1                 total_spend     0.432883\n",
      "2           sd_session_length     0.000443\n",
      "3    cart_pct_of_total_events  -258.179977\n",
      "4   avg_purchases_per_session  -117.771595\n",
      "5                 cart_events    10.171157\n",
      "6             purchase_events   -25.245002\n",
      "7          sessions_with_cart    79.393788\n",
      "8          sessions_with_view    -6.157408\n",
      "9       pct_sessions_end_cart  -398.926873\n",
      "10            total_spend_log   -18.818522\n",
      "11           total_events_log   -63.310927\n",
      "12            pca_purchases20   -14.600050\n",
      "+------------------+------------------+\n",
      "|     T_total_spend|        prediction|\n",
      "+------------------+------------------+\n",
      "|               0.0|111.73347536960472|\n",
      "|               0.0|105.55782701319663|\n",
      "|               0.0|25.761377134798295|\n",
      "|               0.0|233.00177689299971|\n",
      "|               0.0|-57.37355443047761|\n",
      "|               0.0|-27.59503668315415|\n",
      "| 312.4200134277344|-51.01792057681888|\n",
      "|  6009.78010559082| 586.2026331878943|\n",
      "|1627.1900024414062|341.34421709241883|\n",
      "|1393.8800354003906|124.37862057969008|\n",
      "+------------------+------------------+\n",
      "only showing top 10 rows\n",
      "\n",
      "DataFrame[user_id: int, total_spend: double, total_events: bigint, total_sessions: bigint, T_total_spend: double, avg_session_length: double, sd_session_length: double, avg_interactions_per_session: double, sd_interactions_per_session: double, max_interactions_per_session: bigint, purchase_pct_of_total_events: double, view_pct_of_total_events: double, cart_pct_of_total_events: double, avg_purchases_per_session: double, sd_purchases_per_session: double, cart_events: bigint, purchase_events: bigint, view_events: bigint, sessions_with_purchase: bigint, sessions_with_cart: bigint, sessions_with_view: bigint, pct_sessions_end_purchase: double, pct_sessions_end_cart: double, total_spend_log: double, total_events_log: double, purchase_events_log: double, total_sessions_log: double, avg_session_length_log: double, T_total_spend_log: double, pca_purchases10: vector, pca_purchases20: vector, pca_purchases50: vector, pca_purchases100: vector, features: vector, prediction: double]\n",
      "RMSE is 2200.8\n",
      "R^2 is 0.20233\n",
      "Adjusted R^2 is 0.20198\n"
     ]
    }
   ],
   "source": [
    "print(\"** PCA 20 + all other features **\")\n",
    "inputCols = [\"total_spend\", \"sd_session_length\",\n",
    "             \"cart_pct_of_total_events\", \"avg_purchases_per_session\", \"cart_events\", \"purchase_events\", \n",
    "             \"sessions_with_cart\", \"sessions_with_view\", \"pct_sessions_end_cart\", \"total_spend_log\", \"total_events_log\", \"pca_purchases20\"]\n",
    "\n",
    "# sd_session_length breaks it, as does sd_interactions_per_session, sd_purchases_per_session\n",
    "outputCol = \"T_total_spend\"\n",
    "\n",
    "pipeline = generatePipeline(inputCols, outputCol)\n",
    "pipelineModel = pipeline.fit(trainDF)\n",
    "    \n",
    "print(\"Model coefficients\")\n",
    "print(modelInfo(inputCols, pipelineModel))\n",
    "\n",
    "evaluationMetrics = getEvaluationMetrics(pipelineModel,outputCol,testDF, inputCols, 20)\n",
    "print(f\"RMSE is {evaluationMetrics[0]:.1f}\")\n",
    "print(f\"R^2 is {evaluationMetrics[1]:.5f}\")\n",
    "print(f\"Adjusted R^2 is {evaluationMetrics[2]:.5f}\")"
   ]
  },
  {
   "cell_type": "code",
   "execution_count": 13,
   "metadata": {},
   "outputs": [
    {
     "name": "stdout",
     "output_type": "stream",
     "text": [
      "** PCA 50 + all other features **\n",
      "Model coefficients\n",
      "                  Column name  Coefficient\n",
      "0                   intercept   348.089712\n",
      "1                 total_spend     0.435719\n",
      "2           sd_session_length     0.000435\n",
      "3    cart_pct_of_total_events  -258.080567\n",
      "4   avg_purchases_per_session  -118.222579\n",
      "5                 cart_events     9.941050\n",
      "6             purchase_events   -31.788890\n",
      "7          sessions_with_cart    78.834710\n",
      "8          sessions_with_view    -6.242064\n",
      "9       pct_sessions_end_cart  -394.991110\n",
      "10            total_spend_log   -18.185279\n",
      "11           total_events_log   -62.878437\n",
      "12            pca_purchases50   -21.465918\n",
      "+------------------+------------------+\n",
      "|     T_total_spend|        prediction|\n",
      "+------------------+------------------+\n",
      "|               0.0|107.76882961835136|\n",
      "|               0.0|28.794762828693933|\n",
      "|               0.0| 15.61780352501313|\n",
      "|               0.0|232.15708102267246|\n",
      "|               0.0|-58.16794994987646|\n",
      "|               0.0| 78.17504807698782|\n",
      "| 312.4200134277344|-96.64482488542717|\n",
      "|  6009.78010559082| 590.2110003388577|\n",
      "|1627.1900024414062|335.55980489466646|\n",
      "|1393.8800354003906|123.35179817383747|\n",
      "+------------------+------------------+\n",
      "only showing top 10 rows\n",
      "\n",
      "DataFrame[user_id: int, total_spend: double, total_events: bigint, total_sessions: bigint, T_total_spend: double, avg_session_length: double, sd_session_length: double, avg_interactions_per_session: double, sd_interactions_per_session: double, max_interactions_per_session: bigint, purchase_pct_of_total_events: double, view_pct_of_total_events: double, cart_pct_of_total_events: double, avg_purchases_per_session: double, sd_purchases_per_session: double, cart_events: bigint, purchase_events: bigint, view_events: bigint, sessions_with_purchase: bigint, sessions_with_cart: bigint, sessions_with_view: bigint, pct_sessions_end_purchase: double, pct_sessions_end_cart: double, total_spend_log: double, total_events_log: double, purchase_events_log: double, total_sessions_log: double, avg_session_length_log: double, T_total_spend_log: double, pca_purchases10: vector, pca_purchases20: vector, pca_purchases50: vector, pca_purchases100: vector, features: vector, prediction: double]\n",
      "RMSE is 2200.6\n",
      "R^2 is 0.20245\n",
      "Adjusted R^2 is 0.20177\n"
     ]
    }
   ],
   "source": [
    "print(\"** PCA 50 + all other features **\")\n",
    "inputCols = [\"total_spend\", \"sd_session_length\",\n",
    "             \"cart_pct_of_total_events\", \"avg_purchases_per_session\", \"cart_events\", \"purchase_events\", \n",
    "             \"sessions_with_cart\", \"sessions_with_view\", \"pct_sessions_end_cart\", \"total_spend_log\", \"total_events_log\", \"pca_purchases50\"]\n",
    "\n",
    "\n",
    "# sd_session_length breaks it, as does sd_interactions_per_session, sd_purchases_per_session\n",
    "outputCol = \"T_total_spend\"\n",
    "\n",
    "pipeline = generatePipeline(inputCols, outputCol)\n",
    "pipelineModel = pipeline.fit(trainDF)\n",
    "    \n",
    "print(\"Model coefficients\")\n",
    "print(modelInfo(inputCols, pipelineModel))\n",
    "\n",
    "evaluationMetrics = getEvaluationMetrics(pipelineModel,outputCol,testDF, inputCols, 50)\n",
    "print(f\"RMSE is {evaluationMetrics[0]:.1f}\")\n",
    "print(f\"R^2 is {evaluationMetrics[1]:.5f}\")\n",
    "print(f\"Adjusted R^2 is {evaluationMetrics[2]:.5f}\")"
   ]
  },
  {
   "cell_type": "code",
   "execution_count": 14,
   "metadata": {},
   "outputs": [
    {
     "name": "stdout",
     "output_type": "stream",
     "text": [
      "** PCA 100 + all other features **\n",
      "Model coefficients\n",
      "                  Column name  Coefficient\n",
      "0                   intercept   324.340614\n",
      "1                 total_spend     0.433205\n",
      "2           sd_session_length     0.000414\n",
      "3    cart_pct_of_total_events  -245.778856\n",
      "4   avg_purchases_per_session  -118.868935\n",
      "5                 cart_events     9.242983\n",
      "6             purchase_events   -56.249895\n",
      "7          sessions_with_cart    82.631315\n",
      "8          sessions_with_view    -6.485063\n",
      "9       pct_sessions_end_cart  -415.141783\n",
      "10            total_spend_log   -14.360580\n",
      "11           total_events_log   -61.594333\n",
      "12           pca_purchases100   -48.727836\n",
      "+------------------+------------------+\n",
      "|     T_total_spend|        prediction|\n",
      "+------------------+------------------+\n",
      "|               0.0|130.17943376318345|\n",
      "|               0.0|30.057751146321664|\n",
      "|               0.0| 605.8833443458468|\n",
      "|               0.0|235.37122692489302|\n",
      "|               0.0|-61.09414031890759|\n",
      "|               0.0| 68.15954826670617|\n",
      "| 312.4200134277344|-92.42480202206724|\n",
      "|  6009.78010559082| 596.1324091901638|\n",
      "|1627.1900024414062|420.58510850812485|\n",
      "|1393.8800354003906|122.36910388552477|\n",
      "+------------------+------------------+\n",
      "only showing top 10 rows\n",
      "\n",
      "DataFrame[user_id: int, total_spend: double, total_events: bigint, total_sessions: bigint, T_total_spend: double, avg_session_length: double, sd_session_length: double, avg_interactions_per_session: double, sd_interactions_per_session: double, max_interactions_per_session: bigint, purchase_pct_of_total_events: double, view_pct_of_total_events: double, cart_pct_of_total_events: double, avg_purchases_per_session: double, sd_purchases_per_session: double, cart_events: bigint, purchase_events: bigint, view_events: bigint, sessions_with_purchase: bigint, sessions_with_cart: bigint, sessions_with_view: bigint, pct_sessions_end_purchase: double, pct_sessions_end_cart: double, total_spend_log: double, total_events_log: double, purchase_events_log: double, total_sessions_log: double, avg_session_length_log: double, T_total_spend_log: double, pca_purchases10: vector, pca_purchases20: vector, pca_purchases50: vector, pca_purchases100: vector, features: vector, prediction: double]\n",
      "RMSE is 2202.2\n",
      "R^2 is 0.20126\n",
      "Adjusted R^2 is 0.20002\n"
     ]
    }
   ],
   "source": [
    "print(\"** PCA 100 + all other features **\")\n",
    "inputCols = [\"total_spend\", \"sd_session_length\",\n",
    "             \"cart_pct_of_total_events\", \"avg_purchases_per_session\", \"cart_events\", \"purchase_events\", \n",
    "             \"sessions_with_cart\", \"sessions_with_view\", \"pct_sessions_end_cart\", \"total_spend_log\", \"total_events_log\", \"pca_purchases100\"]\n",
    "\n",
    "\n",
    "# sd_session_length breaks it, as does sd_interactions_per_session, sd_purchases_per_session\n",
    "outputCol = \"T_total_spend\"\n",
    "\n",
    "pipeline = generatePipeline(inputCols, outputCol)\n",
    "pipelineModel = pipeline.fit(trainDF)\n",
    "    \n",
    "print(\"Model coefficients\")\n",
    "print(modelInfo(inputCols, pipelineModel))\n",
    "\n",
    "evaluationMetrics = getEvaluationMetrics(pipelineModel,outputCol,testDF, inputCols, 100)\n",
    "print(f\"RMSE is {evaluationMetrics[0]:.1f}\")\n",
    "print(f\"R^2 is {evaluationMetrics[1]:.5f}\")\n",
    "print(f\"Adjusted R^2 is {evaluationMetrics[2]:.5f}\")"
   ]
  },
  {
   "cell_type": "markdown",
   "metadata": {},
   "source": [
    "# Champion Model\n",
    "#### When compared against a linear regression without the PCA features, performance of the models with PCA suffers. This is not just due to the increased number of features increasing the adjusted r-square. The feature we have encoded with PCA must not be a good predictor.  "
   ]
  },
  {
   "cell_type": "code",
   "execution_count": 15,
   "metadata": {},
   "outputs": [],
   "source": [
    "# pvalues breaks when used with this so taking that out\n",
    "def modelInfo2(inputCols, pipelineModel):\n",
    "    # Create a zipped list containing the coefficients and the data\n",
    "    modelCols = copy.deepcopy(inputCols)\n",
    "    modelCoeffs = list(pipelineModel.stages[-1].coefficients)\n",
    "    modelCoeffs.insert(0,pipelineModel.stages[-1].intercept)\n",
    "    modelCols.insert(0,\"intercept\")\n",
    "    modelZippedList = list(map(list, zip(modelCols, modelCoeffs)))\n",
    "        \n",
    "    # Create the pandas DataFrame\n",
    "    modelDF = pd.DataFrame(modelZippedList, columns = ['Column name', 'Coefficient'])\n",
    "    \n",
    "    return modelDF"
   ]
  },
  {
   "cell_type": "code",
   "execution_count": 16,
   "metadata": {},
   "outputs": [
    {
     "name": "stdout",
     "output_type": "stream",
     "text": [
      "** Champion Model **\n",
      "CPU times: user 5.34 s, sys: 1.4 s, total: 6.74 s\n",
      "Wall time: 2min 10s\n"
     ]
    }
   ],
   "source": [
    "%%time\n",
    "print(\"** Champion Model **\")\n",
    "inputCols = [\"total_spend\", \"sd_session_length\",\n",
    "              \"avg_purchases_per_session\", \"cart_events\", \n",
    "             \"sessions_with_cart\", \"sessions_with_view\", \"pct_sessions_end_cart\", \"total_spend_log\", \"total_events_log\", \"pca_purchases10\"]\n",
    "\n",
    "outputCol = \"T_total_spend\"\n",
    "# Below creation of pipeline is necessary for crossval to run. I wonder if there's a way to get it to run on the generate pipeline fn? \n",
    "vecAssembler = VectorAssembler(inputCols=inputCols, outputCol=\"features\")\n",
    "\n",
    "# Select output column for linear regression\n",
    "lr = LinearRegression(featuresCol=\"features\", labelCol=\"T_total_spend\")\n",
    "\n",
    "pipeline = Pipeline(stages=[vecAssembler, lr])\n",
    "    \n",
    "paramGrid = ParamGridBuilder() \\\n",
    "    .addGrid(lr.regParam, [0, 0.01, 0.2, 1, 10]) \\\n",
    "    .addGrid(lr.elasticNetParam, [0, 0.25, 0.5, 0.75, 1]) \\\n",
    "    .build()\n",
    "\n",
    "crossval = CrossValidator(estimator=pipeline,\n",
    "                          estimatorParamMaps=paramGrid,\n",
    "                          evaluator=RegressionEvaluator().setLabelCol(\"T_total_spend\"),\n",
    "                          numFolds=4)\n",
    "\n",
    "# Run cross-validation, and choose the best set of parameters.\n",
    "cvModel = crossval.setParallelism(8).fit(trainDF)"
   ]
  },
  {
   "cell_type": "code",
   "execution_count": 17,
   "metadata": {},
   "outputs": [
    {
     "name": "stdout",
     "output_type": "stream",
     "text": [
      "Best model coefficients\n",
      "                  Column name  Coefficient\n",
      "0                   intercept   146.439957\n",
      "1                 total_spend     0.425120\n",
      "2           sd_session_length     0.000367\n",
      "3   avg_purchases_per_session   -91.112432\n",
      "4                 cart_events     5.532628\n",
      "5          sessions_with_cart    62.295721\n",
      "6          sessions_with_view    -2.155294\n",
      "7       pct_sessions_end_cart  -231.925664\n",
      "8             total_spend_log    -7.004726\n",
      "9            total_events_log   -38.530261\n",
      "10            pca_purchases10     0.000000\n",
      "+------------------+-------------------+\n",
      "|     T_total_spend|         prediction|\n",
      "+------------------+-------------------+\n",
      "|               0.0|  97.14451746520089|\n",
      "|               0.0| 55.620751388341716|\n",
      "|               0.0|-3.7926072597744565|\n",
      "|               0.0|  164.2302977535853|\n",
      "|               0.0| 23.700282810460692|\n",
      "|               0.0| 59.802637858039375|\n",
      "| 312.4200134277344|-12.774374240771948|\n",
      "|  6009.78010559082|  574.1374007991707|\n",
      "|1627.1900024414062| 184.19610311225657|\n",
      "|1393.8800354003906| 102.32203764582721|\n",
      "+------------------+-------------------+\n",
      "only showing top 10 rows\n",
      "\n",
      "DataFrame[user_id: int, total_spend: double, total_events: bigint, total_sessions: bigint, T_total_spend: double, avg_session_length: double, sd_session_length: double, avg_interactions_per_session: double, sd_interactions_per_session: double, max_interactions_per_session: bigint, purchase_pct_of_total_events: double, view_pct_of_total_events: double, cart_pct_of_total_events: double, avg_purchases_per_session: double, sd_purchases_per_session: double, cart_events: bigint, purchase_events: bigint, view_events: bigint, sessions_with_purchase: bigint, sessions_with_cart: bigint, sessions_with_view: bigint, pct_sessions_end_purchase: double, pct_sessions_end_cart: double, total_spend_log: double, total_events_log: double, purchase_events_log: double, total_sessions_log: double, avg_session_length_log: double, T_total_spend_log: double, pca_purchases10: vector, pca_purchases20: vector, pca_purchases50: vector, pca_purchases100: vector, features: vector, prediction: double]\n",
      "RMSE is 2199.2\n",
      "R^2 is 0.20346\n",
      "Adjusted R^2 is 0.20325\n",
      "\n",
      "{Param(parent='LinearRegression_18d29f896557', name='regParam', doc='regularization parameter (>= 0).'): 0.0, Param(parent='LinearRegression_18d29f896557', name='elasticNetParam', doc='the ElasticNet mixing parameter, in range [0, 1]. For alpha = 0, the penalty is an L2 penalty. For alpha = 1, it is an L1 penalty.'): 0.0}\n"
     ]
    }
   ],
   "source": [
    "print(\"Best model coefficients\")\n",
    "print(modelInfo2(inputCols, cvModel.bestModel))\n",
    "\n",
    "\n",
    "evaluationMetrics = getEvaluationMetrics(cvModel.bestModel,\"T_total_spend\",testDF,inputCols, 10)\n",
    "print(f\"RMSE is {evaluationMetrics[0]:.1f}\")\n",
    "print(f\"R^2 is {evaluationMetrics[1]:.5f}\")\n",
    "print(f\"Adjusted R^2 is {evaluationMetrics[2]:.5f}\")\n",
    "\n",
    "print()\n",
    "print(cvModel.getEstimatorParamMaps()[np.argmax(cvModel.avgMetrics)])"
   ]
  },
  {
   "cell_type": "markdown",
   "metadata": {},
   "source": [
    "### CV for best PCA ONLY"
   ]
  },
  {
   "cell_type": "code",
   "execution_count": 22,
   "metadata": {},
   "outputs": [
    {
     "name": "stdout",
     "output_type": "stream",
     "text": [
      "** PCA Only **\n",
      "CPU times: user 5.11 s, sys: 1.44 s, total: 6.55 s\n",
      "Wall time: 1min 30s\n"
     ]
    }
   ],
   "source": [
    "%%time\n",
    "print(\"** PCA Only **\")\n",
    "inputCols = [\"pca_purchases50\"]\n",
    "\n",
    "outputCol = \"T_total_spend\"\n",
    "# Below creation of pipeline is necessary for crossval to run. I wonder if there's a way to get it to run on the generate pipeline fn? \n",
    "vecAssembler = VectorAssembler(inputCols=inputCols, outputCol=\"features\")\n",
    "\n",
    "# Select output column for linear regression\n",
    "lr = LinearRegression(featuresCol=\"features\", labelCol=\"T_total_spend\")\n",
    "\n",
    "pipeline = Pipeline(stages=[vecAssembler, lr])\n",
    "    \n",
    "paramGrid = ParamGridBuilder() \\\n",
    "    .addGrid(lr.regParam, [0, 0.01, 0.2, 1, 10]) \\\n",
    "    .addGrid(lr.elasticNetParam, [0, 0.25, 0.5, 0.75, 1]) \\\n",
    "    .build()\n",
    "\n",
    "crossval = CrossValidator(estimator=pipeline,\n",
    "                          estimatorParamMaps=paramGrid,\n",
    "                          evaluator=RegressionEvaluator().setLabelCol(\"T_total_spend\"),\n",
    "                          numFolds=4)\n",
    "\n",
    "# Run cross-validation, and choose the best set of parameters.\n",
    "cvModel = crossval.setParallelism(8).fit(trainDF)"
   ]
  },
  {
   "cell_type": "code",
   "execution_count": 24,
   "metadata": {},
   "outputs": [
    {
     "name": "stdout",
     "output_type": "stream",
     "text": [
      "Best model coefficients\n",
      "       Column name  Coefficient\n",
      "0        intercept    -9.953911\n",
      "1  pca_purchases50  -274.589055\n",
      "+------------------+------------------+\n",
      "|     T_total_spend|        prediction|\n",
      "+------------------+------------------+\n",
      "|               0.0|1.6128141870923454|\n",
      "|               0.0|  8.90735816111607|\n",
      "|               0.0| -7.95072766014445|\n",
      "|               0.0| 304.5789532264374|\n",
      "|               0.0|228.79933755629847|\n",
      "|               0.0|245.02677473623731|\n",
      "| 312.4200134277344| 58.86015972470783|\n",
      "|  6009.78010559082|228.79933755629847|\n",
      "|1627.1900024414062|340.74907101879154|\n",
      "|1393.8800354003906|100.66348844773286|\n",
      "+------------------+------------------+\n",
      "only showing top 10 rows\n",
      "\n",
      "DataFrame[user_id: int, total_spend: double, total_events: bigint, total_sessions: bigint, T_total_spend: double, avg_session_length: double, sd_session_length: double, avg_interactions_per_session: double, sd_interactions_per_session: double, max_interactions_per_session: bigint, purchase_pct_of_total_events: double, view_pct_of_total_events: double, cart_pct_of_total_events: double, avg_purchases_per_session: double, sd_purchases_per_session: double, cart_events: bigint, purchase_events: bigint, view_events: bigint, sessions_with_purchase: bigint, sessions_with_cart: bigint, sessions_with_view: bigint, pct_sessions_end_purchase: double, pct_sessions_end_cart: double, total_spend_log: double, total_events_log: double, purchase_events_log: double, total_sessions_log: double, avg_session_length_log: double, T_total_spend_log: double, pca_purchases10: vector, pca_purchases20: vector, pca_purchases50: vector, pca_purchases100: vector, features: vector, prediction: double]\n",
      "RMSE is 2280.0\n",
      "R^2 is 0.14385\n",
      "Adjusted R^2 is 0.14325\n",
      "\n",
      "{Param(parent='LinearRegression_1bb3a459a45c', name='regParam', doc='regularization parameter (>= 0).'): 10.0, Param(parent='LinearRegression_1bb3a459a45c', name='elasticNetParam', doc='the ElasticNet mixing parameter, in range [0, 1]. For alpha = 0, the penalty is an L2 penalty. For alpha = 1, it is an L1 penalty.'): 1.0}\n"
     ]
    }
   ],
   "source": [
    "print(\"Best model coefficients\")\n",
    "print(modelInfo2(inputCols, cvModel.bestModel))\n",
    "\n",
    "\n",
    "evaluationMetrics = getEvaluationMetrics(cvModel.bestModel,\"T_total_spend\",testDF,inputCols, 50)\n",
    "print(f\"RMSE is {evaluationMetrics[0]:.1f}\")\n",
    "print(f\"R^2 is {evaluationMetrics[1]:.5f}\")\n",
    "print(f\"Adjusted R^2 is {evaluationMetrics[2]:.5f}\")\n",
    "\n",
    "print()\n",
    "print(cvModel.getEstimatorParamMaps()[np.argmax(cvModel.avgMetrics)])"
   ]
  },
  {
   "cell_type": "code",
   "execution_count": null,
   "metadata": {},
   "outputs": [],
   "source": []
  },
  {
   "cell_type": "code",
   "execution_count": null,
   "metadata": {},
   "outputs": [],
   "source": []
  }
 ],
 "metadata": {
  "kernelspec": {
   "display_name": "DS 5110 Spark 3.1",
   "language": "python",
   "name": "ds5110_spark3.1"
  },
  "language_info": {
   "codemirror_mode": {
    "name": "ipython",
    "version": 3
   },
   "file_extension": ".py",
   "mimetype": "text/x-python",
   "name": "python",
   "nbconvert_exporter": "python",
   "pygments_lexer": "ipython3",
   "version": "3.7.10"
  }
 },
 "nbformat": 4,
 "nbformat_minor": 4
}
