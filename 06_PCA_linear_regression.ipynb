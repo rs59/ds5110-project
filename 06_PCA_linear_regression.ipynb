{
 "cells": [
  {
   "cell_type": "markdown",
   "metadata": {},
   "source": [
    "## File 06 - PCA + Linear Regression\n",
    "##### Group 12:\n",
    "\n",
    "##### Hannah Schmuckler, mmc4cv\n",
    "\n",
    "##### Rob Schwartz, res7cd"
   ]
  },
  {
   "cell_type": "markdown",
   "metadata": {},
   "source": [
    "In this file, we create a small ML pipeline based on the output from File 02 (Feature creation).\n",
    "\n",
    "We create a linear regression model, but this time use PCA features that were created in file 02. We compare k-values. "
   ]
  },
  {
   "cell_type": "code",
   "execution_count": 1,
   "metadata": {},
   "outputs": [
    {
     "name": "stdout",
     "output_type": "stream",
     "text": [
      "CPU times: user 441 ms, sys: 354 ms, total: 795 ms\n",
      "Wall time: 5.85 s\n"
     ]
    }
   ],
   "source": [
    "%%time\n",
    "from pyspark.sql import SparkSession\n",
    "from pyspark.sql import types as T\n",
    "from pyspark.ml import Pipeline\n",
    "from pyspark.ml.feature import VectorAssembler, StandardScaler\n",
    "from pyspark.ml.regression import LinearRegression, LinearRegressionModel, LinearRegressionSummary\n",
    "from pyspark.ml.evaluation import RegressionEvaluator\n",
    "from pyspark.ml.tuning import ParamGridBuilder, CrossValidator\n",
    "from pyspark.sql.functions import col\n",
    "from pyspark.sql.functions import log\n",
    "from pyspark.ml.stat import Correlation\n",
    "\n",
    "import pandas as pd\n",
    "import numpy as np\n",
    "import copy\n",
    "\n",
    "spark = SparkSession.builder \\\n",
    "        .appName(\"project\") \\\n",
    "        .getOrCreate()\n",
    "\n",
    "sc = spark.sparkContext"
   ]
  },
  {
   "cell_type": "markdown",
   "metadata": {},
   "source": [
    "### Read in dataframes for train and test sets\n",
    "\n",
    "This data should have been previously generated: we can find it in the `processed_data` folder."
   ]
  },
  {
   "cell_type": "code",
   "execution_count": 2,
   "metadata": {},
   "outputs": [
    {
     "name": "stdout",
     "output_type": "stream",
     "text": [
      "CPU times: user 1.08 ms, sys: 2.12 ms, total: 3.2 ms\n",
      "Wall time: 3.42 s\n"
     ]
    }
   ],
   "source": [
    "%%time\n",
    "trainDF = spark.read.parquet(\"./processed_data/train.parquet\")\n",
    "testDF = spark.read.parquet(\"./processed_data/test.parquet\")\n",
    "# trainDF.show(5)"
   ]
  },
  {
   "cell_type": "markdown",
   "metadata": {},
   "source": [
    "### Set up Spark ML pipeline training for linear regression\n",
    "\n",
    "Here we decide which input columns should be used in order to create our training pipeline. To implement this step, we create the function `generatePipeline(inputCols, outputCol)`. Then, we train the pipeline using this function."
   ]
  },
  {
   "cell_type": "code",
   "execution_count": 3,
   "metadata": {},
   "outputs": [
    {
     "name": "stdout",
     "output_type": "stream",
     "text": [
      "CPU times: user 3 µs, sys: 0 ns, total: 3 µs\n",
      "Wall time: 5.01 µs\n"
     ]
    }
   ],
   "source": [
    "%%time\n",
    "\n",
    "\n",
    "def generatePipeline(inputCols, outputCol):\n",
    "    # Select input columns for linear regression\n",
    "    vecAssembler = VectorAssembler(inputCols=inputCols, outputCol=\"unscaled_features\")\n",
    "    # Scale features\n",
    "    ss = StandardScaler(inputCol = \"unscaled_features\", outputCol = \"features\", withMean = True, withStd = True)\n",
    "    # Select output column for linear regression\n",
    "    lr = LinearRegression(featuresCol=\"features\", labelCol=outputCol)\n",
    "\n",
    " \n",
    "    pipeline = Pipeline(stages=[vecAssembler, ss, lr])\n",
    "    return pipeline\n"
   ]
  },
  {
   "cell_type": "markdown",
   "metadata": {},
   "source": [
    "### View the model information\n",
    "\n",
    "Print out the model coefficients and view the pValues, RMSE and R^2. We define the functions `modelInfo(inputCols, pipelineModel)` and `getEvaluationMetrics(pipelineModel,outputCol,testDF)` to report this information."
   ]
  },
  {
   "cell_type": "code",
   "execution_count": 4,
   "metadata": {},
   "outputs": [],
   "source": [
    "def modelInfo(inputCols, pipelineModel):\n",
    "    # Create a zipped list containing the coefficients and the data\n",
    "    modelCols = copy.deepcopy(inputCols)\n",
    "    modelCoeffs = list(pipelineModel.stages[-1].coefficients)\n",
    "    modelCoeffs.insert(0,pipelineModel.stages[-1].intercept)\n",
    "    modelCols.insert(0,\"intercept\")\n",
    "    modelZippedList = list(map(list, zip(modelCols, modelCoeffs)))\n",
    "    \n",
    "    # p-values don't work with PCA\n",
    "    #pvals = pipelineModel.stages[-1].summary.pValues\n",
    "    \n",
    "    # Create the pandas DataFrame\n",
    "    modelDF = pd.DataFrame(modelZippedList, columns = ['Column name', 'Coefficient'])\n",
    "    # modelDF['pValues'] = pvals\n",
    "    return modelDF\n"
   ]
  },
  {
   "cell_type": "code",
   "execution_count": 5,
   "metadata": {},
   "outputs": [],
   "source": [
    "# Calculate adjusted r2 (https://towardsdatascience.com/machine-learning-linear-regression-using-pyspark-9d5d5c772b42)\n",
    "# This function will allow us to calculate the adjusted r-square value when we do PCA later. The default r-square function does not take into account k. \n",
    "def adj_r2(r2, inputCols, testDF, k = 0):\n",
    "    n = testDF.count()\n",
    "    if k == 0:\n",
    "        p = len(inputCols)\n",
    "    else: \n",
    "        p = len(inputCols) + k - 1\n",
    "    \n",
    "    adjusted_r2 = 1-(((1-r2)*(n-1))/(n-p-1))\n",
    "    return adjusted_r2"
   ]
  },
  {
   "cell_type": "code",
   "execution_count": 6,
   "metadata": {},
   "outputs": [],
   "source": [
    "def getEvaluationMetrics(pipelineModel,outputCol,testDF,inputCols,k):\n",
    "    predDF = pipelineModel.transform(testDF)\n",
    "    predDF.select(outputCol, \"prediction\").show(10)\n",
    "    \n",
    "    print(predDF)\n",
    "    \n",
    "    regressionEvaluator = RegressionEvaluator(\n",
    "    predictionCol=\"prediction\",\n",
    "    labelCol=outputCol,\n",
    "    metricName=\"rmse\")\n",
    "    rmse = regressionEvaluator.evaluate(predDF)\n",
    "\n",
    "    regressionEvaluator = RegressionEvaluator(\n",
    "    predictionCol=\"prediction\",\n",
    "    labelCol=outputCol,\n",
    "    metricName=\"r2\")\n",
    "    r2 = regressionEvaluator.evaluate(predDF)\n",
    "      \n",
    "    # Manually calculate Adjusted r2\n",
    "    adjusted_r2 = adj_r2(r2, inputCols, testDF, k)\n",
    "    \n",
    "    return rmse, r2, adjusted_r2\n"
   ]
  },
  {
   "cell_type": "code",
   "execution_count": null,
   "metadata": {},
   "outputs": [],
   "source": []
  },
  {
   "cell_type": "markdown",
   "metadata": {},
   "source": [
    "### PCA\n",
    "First, we'll see how each PCA variant performs on its own. We've created four variations with different k values: 10, 20, 50, and 100. Our PCA represents the categories of purchases that customers made in month one. "
   ]
  },
  {
   "cell_type": "code",
   "execution_count": 7,
   "metadata": {},
   "outputs": [
    {
     "name": "stdout",
     "output_type": "stream",
     "text": [
      "** PCA 10 **\n",
      "Model coefficients\n",
      "       Column name  Coefficient\n",
      "0        intercept   423.176077\n",
      "1  pca_purchases10  -858.458237\n",
      "+------------------+------------------+\n",
      "|     T_total_spend|        prediction|\n",
      "+------------------+------------------+\n",
      "|               0.0|18.388107610861937|\n",
      "|               0.0|24.058767198471003|\n",
      "|               0.0|17.916930815727596|\n",
      "|               0.0|338.05151648295737|\n",
      "|               0.0|254.21827080568016|\n",
      "|               0.0| 38.56716882862713|\n",
      "| 312.4200134277344|20.436658406307515|\n",
      "|  6009.78010559082|254.21827080568016|\n",
      "|1627.1900024414062|54.577917695824794|\n",
      "|1393.8800354003906|131.87719543591697|\n",
      "+------------------+------------------+\n",
      "only showing top 10 rows\n",
      "\n",
      "DataFrame[user_id: int, total_spend: double, total_events: bigint, total_sessions: bigint, T_total_spend: double, avg_session_length: double, sd_session_length: double, avg_interactions_per_session: double, sd_interactions_per_session: double, max_interactions_per_session: bigint, purchase_pct_of_total_events: double, view_pct_of_total_events: double, cart_pct_of_total_events: double, avg_purchases_per_session: double, sd_purchases_per_session: double, cart_events: bigint, purchase_events: bigint, view_events: bigint, sessions_with_purchase: bigint, sessions_with_cart: bigint, sessions_with_view: bigint, pct_sessions_end_purchase: double, pct_sessions_end_cart: double, total_spend_log: double, total_events_log: double, purchase_events_log: double, total_sessions_log: double, avg_session_length_log: double, T_total_spend_log: double, pca_purchases10: vector, pca_purchases20: vector, pca_purchases50: vector, pca_purchases100: vector, unscaled_features: vector, features: vector, prediction: double]\n",
      "RMSE is 2283.7\n",
      "R^2 is 0.14104\n",
      "Adjusted R^2 is 0.14092\n"
     ]
    }
   ],
   "source": [
    "print(\"** PCA 10 **\")\n",
    "inputCols = [\"pca_purchases10\"]\n",
    "\n",
    "# sd_session_length breaks it, as does sd_interactions_per_session, sd_purchases_per_session\n",
    "outputCol = \"T_total_spend\"\n",
    "\n",
    "pipeline = generatePipeline(inputCols, outputCol)\n",
    "pipelineModel = pipeline.fit(trainDF)\n",
    "    \n",
    "print(\"Model coefficients\")\n",
    "print(modelInfo(inputCols, pipelineModel))\n",
    "\n",
    "evaluationMetrics = getEvaluationMetrics(pipelineModel,outputCol,testDF, inputCols, 10)\n",
    "print(f\"RMSE is {evaluationMetrics[0]:.1f}\")\n",
    "print(f\"R^2 is {evaluationMetrics[1]:.5f}\")\n",
    "print(f\"Adjusted R^2 is {evaluationMetrics[2]:.5f}\")"
   ]
  },
  {
   "cell_type": "code",
   "execution_count": 8,
   "metadata": {},
   "outputs": [
    {
     "name": "stdout",
     "output_type": "stream",
     "text": [
      "** PCA 20 **\n",
      "Model coefficients\n",
      "       Column name  Coefficient\n",
      "0        intercept   423.176077\n",
      "1  pca_purchases20  -858.430058\n",
      "+------------------+------------------+\n",
      "|     T_total_spend|        prediction|\n",
      "+------------------+------------------+\n",
      "|               0.0| 7.688522561828734|\n",
      "|               0.0|15.150733461153948|\n",
      "|               0.0|  5.44087589598422|\n",
      "|               0.0|321.68909696662126|\n",
      "|               0.0|240.34247634881848|\n",
      "|               0.0| 38.24288531692082|\n",
      "| 312.4200134277344| 58.00819926364369|\n",
      "|  6009.78010559082|240.34247634881848|\n",
      "|1627.1900024414062| 364.3507162822982|\n",
      "|1393.8800354003906|116.51253004292721|\n",
      "+------------------+------------------+\n",
      "only showing top 10 rows\n",
      "\n",
      "DataFrame[user_id: int, total_spend: double, total_events: bigint, total_sessions: bigint, T_total_spend: double, avg_session_length: double, sd_session_length: double, avg_interactions_per_session: double, sd_interactions_per_session: double, max_interactions_per_session: bigint, purchase_pct_of_total_events: double, view_pct_of_total_events: double, cart_pct_of_total_events: double, avg_purchases_per_session: double, sd_purchases_per_session: double, cart_events: bigint, purchase_events: bigint, view_events: bigint, sessions_with_purchase: bigint, sessions_with_cart: bigint, sessions_with_view: bigint, pct_sessions_end_purchase: double, pct_sessions_end_cart: double, total_spend_log: double, total_events_log: double, purchase_events_log: double, total_sessions_log: double, avg_session_length_log: double, T_total_spend_log: double, pca_purchases10: vector, pca_purchases20: vector, pca_purchases50: vector, pca_purchases100: vector, unscaled_features: vector, features: vector, prediction: double]\n",
      "RMSE is 2282.8\n",
      "R^2 is 0.14173\n",
      "Adjusted R^2 is 0.14149\n"
     ]
    }
   ],
   "source": [
    "print(\"** PCA 20 **\")\n",
    "inputCols = [\"pca_purchases20\"]\n",
    "\n",
    "# sd_session_length breaks it, as does sd_interactions_per_session, sd_purchases_per_session\n",
    "outputCol = \"T_total_spend\"\n",
    "\n",
    "pipeline = generatePipeline(inputCols, outputCol)\n",
    "pipelineModel = pipeline.fit(trainDF)\n",
    "    \n",
    "print(\"Model coefficients\")\n",
    "print(modelInfo(inputCols, pipelineModel))\n",
    "\n",
    "evaluationMetrics = getEvaluationMetrics(pipelineModel,outputCol,testDF, inputCols, 20)\n",
    "print(f\"RMSE is {evaluationMetrics[0]:.1f}\")\n",
    "print(f\"R^2 is {evaluationMetrics[1]:.5f}\")\n",
    "print(f\"Adjusted R^2 is {evaluationMetrics[2]:.5f}\")"
   ]
  },
  {
   "cell_type": "code",
   "execution_count": 9,
   "metadata": {},
   "outputs": [
    {
     "name": "stdout",
     "output_type": "stream",
     "text": [
      "** PCA 50 **\n",
      "Model coefficients\n",
      "       Column name  Coefficient\n",
      "0        intercept   423.176077\n",
      "1  pca_purchases50  -858.633698\n",
      "+------------------+-------------------+\n",
      "|     T_total_spend|         prediction|\n",
      "+------------------+-------------------+\n",
      "|               0.0|-0.0860401434403002|\n",
      "|               0.0| 11.738630944336819|\n",
      "|               0.0| -9.883890142834957|\n",
      "|               0.0|  303.5880923566796|\n",
      "|               0.0| 227.00887631633898|\n",
      "|               0.0|  259.3156344746661|\n",
      "| 312.4200134277344|  62.03615349120412|\n",
      "|  6009.78010559082| 227.00887631633898|\n",
      "|1627.1900024414062|  345.2859771044529|\n",
      "|1393.8800354003906|  99.48662692145513|\n",
      "+------------------+-------------------+\n",
      "only showing top 10 rows\n",
      "\n",
      "DataFrame[user_id: int, total_spend: double, total_events: bigint, total_sessions: bigint, T_total_spend: double, avg_session_length: double, sd_session_length: double, avg_interactions_per_session: double, sd_interactions_per_session: double, max_interactions_per_session: bigint, purchase_pct_of_total_events: double, view_pct_of_total_events: double, cart_pct_of_total_events: double, avg_purchases_per_session: double, sd_purchases_per_session: double, cart_events: bigint, purchase_events: bigint, view_events: bigint, sessions_with_purchase: bigint, sessions_with_cart: bigint, sessions_with_view: bigint, pct_sessions_end_purchase: double, pct_sessions_end_cart: double, total_spend_log: double, total_events_log: double, purchase_events_log: double, total_sessions_log: double, avg_session_length_log: double, T_total_spend_log: double, pca_purchases10: vector, pca_purchases20: vector, pca_purchases50: vector, pca_purchases100: vector, unscaled_features: vector, features: vector, prediction: double]\n",
      "RMSE is 2279.9\n",
      "R^2 is 0.14394\n",
      "Adjusted R^2 is 0.14334\n"
     ]
    }
   ],
   "source": [
    "print(\"** PCA 50 **\")\n",
    "inputCols = [\"pca_purchases50\"]\n",
    "\n",
    "# sd_session_length breaks it, as does sd_interactions_per_session, sd_purchases_per_session\n",
    "outputCol = \"T_total_spend\"\n",
    "\n",
    "pipeline = generatePipeline(inputCols, outputCol)\n",
    "pipelineModel = pipeline.fit(trainDF)\n",
    "    \n",
    "print(\"Model coefficients\")\n",
    "print(modelInfo(inputCols, pipelineModel))\n",
    "\n",
    "evaluationMetrics = getEvaluationMetrics(pipelineModel,outputCol,testDF, inputCols, 50)\n",
    "print(f\"RMSE is {evaluationMetrics[0]:.1f}\")\n",
    "print(f\"R^2 is {evaluationMetrics[1]:.5f}\")\n",
    "print(f\"Adjusted R^2 is {evaluationMetrics[2]:.5f}\")"
   ]
  },
  {
   "cell_type": "code",
   "execution_count": 10,
   "metadata": {},
   "outputs": [
    {
     "name": "stdout",
     "output_type": "stream",
     "text": [
      "** PCA 100 **\n",
      "Model coefficients\n",
      "        Column name  Coefficient\n",
      "0         intercept   423.176077\n",
      "1  pca_purchases100  -858.809043\n",
      "+------------------+------------------+\n",
      "|     T_total_spend|        prediction|\n",
      "+------------------+------------------+\n",
      "|               0.0|128.01180992021096|\n",
      "|               0.0|-1.716576683878884|\n",
      "|               0.0| 658.0872617356658|\n",
      "|               0.0|299.23650781864416|\n",
      "|               0.0|220.59970954832517|\n",
      "|               0.0|218.19452970661703|\n",
      "| 312.4200134277344|61.612941328384636|\n",
      "|  6009.78010559082|220.59970954832517|\n",
      "|1627.1900024414062|493.07287786353885|\n",
      "|1393.8800354003906| 92.17758433384711|\n",
      "+------------------+------------------+\n",
      "only showing top 10 rows\n",
      "\n",
      "DataFrame[user_id: int, total_spend: double, total_events: bigint, total_sessions: bigint, T_total_spend: double, avg_session_length: double, sd_session_length: double, avg_interactions_per_session: double, sd_interactions_per_session: double, max_interactions_per_session: bigint, purchase_pct_of_total_events: double, view_pct_of_total_events: double, cart_pct_of_total_events: double, avg_purchases_per_session: double, sd_purchases_per_session: double, cart_events: bigint, purchase_events: bigint, view_events: bigint, sessions_with_purchase: bigint, sessions_with_cart: bigint, sessions_with_view: bigint, pct_sessions_end_purchase: double, pct_sessions_end_cart: double, total_spend_log: double, total_events_log: double, purchase_events_log: double, total_sessions_log: double, avg_session_length_log: double, T_total_spend_log: double, pca_purchases10: vector, pca_purchases20: vector, pca_purchases50: vector, pca_purchases100: vector, unscaled_features: vector, features: vector, prediction: double]\n",
      "RMSE is 2281.1\n",
      "R^2 is 0.14302\n",
      "Adjusted R^2 is 0.14182\n"
     ]
    }
   ],
   "source": [
    "print(\"** PCA 100 **\")\n",
    "inputCols = [\"pca_purchases100\"]\n",
    "\n",
    "# sd_session_length breaks it, as does sd_interactions_per_session, sd_purchases_per_session\n",
    "outputCol = \"T_total_spend\"\n",
    "\n",
    "pipeline = generatePipeline(inputCols, outputCol)\n",
    "pipelineModel = pipeline.fit(trainDF)\n",
    "    \n",
    "print(\"Model coefficients\")\n",
    "print(modelInfo(inputCols, pipelineModel))\n",
    "\n",
    "evaluationMetrics = getEvaluationMetrics(pipelineModel,outputCol,testDF, inputCols, 100)\n",
    "print(f\"RMSE is {evaluationMetrics[0]:.1f}\")\n",
    "print(f\"R^2 is {evaluationMetrics[1]:.5f}\")\n",
    "print(f\"Adjusted R^2 is {evaluationMetrics[2]:.5f}\")"
   ]
  },
  {
   "cell_type": "markdown",
   "metadata": {},
   "source": [
    "#### The adjusted r-square is highest for the PCA with the highest k value, 100. However, all of them are very close - a very small sacrafice in performance helps with a great reduction in dimensionality. "
   ]
  },
  {
   "cell_type": "code",
   "execution_count": 11,
   "metadata": {},
   "outputs": [
    {
     "name": "stdout",
     "output_type": "stream",
     "text": [
      "** PCA 10 + all other features **\n",
      "Model coefficients\n",
      "                  Column name  Coefficient\n",
      "0                   intercept   423.176077\n",
      "1                 total_spend   934.878440\n",
      "2           sd_session_length    39.758379\n",
      "3    cart_pct_of_total_events   -31.713678\n",
      "4   avg_purchases_per_session   -55.521223\n",
      "5                 cart_events    88.682364\n",
      "6             purchase_events  -128.992321\n",
      "7          sessions_with_cart   313.724969\n",
      "8          sessions_with_view   -57.840846\n",
      "9       pct_sessions_end_cart   -62.206563\n",
      "10            total_spend_log   -25.774385\n",
      "11           total_events_log   -70.292791\n",
      "12            pca_purchases10   -60.755906\n",
      "+------------------+-------------------+\n",
      "|     T_total_spend|         prediction|\n",
      "+------------------+-------------------+\n",
      "|               0.0| 107.44056659905914|\n",
      "|               0.0| 104.66517793216622|\n",
      "|               0.0| 22.727672460071915|\n",
      "|               0.0|  234.7951884508281|\n",
      "|               0.0| -54.97627818989281|\n",
      "|               0.0|-24.943653555208527|\n",
      "| 312.4200134277344| -95.42861913807599|\n",
      "|  6009.78010559082|  584.9882651787516|\n",
      "|1627.1900024414062|  183.9230468702541|\n",
      "|1393.8800354003906| 125.25364040010476|\n",
      "+------------------+-------------------+\n",
      "only showing top 10 rows\n",
      "\n",
      "DataFrame[user_id: int, total_spend: double, total_events: bigint, total_sessions: bigint, T_total_spend: double, avg_session_length: double, sd_session_length: double, avg_interactions_per_session: double, sd_interactions_per_session: double, max_interactions_per_session: bigint, purchase_pct_of_total_events: double, view_pct_of_total_events: double, cart_pct_of_total_events: double, avg_purchases_per_session: double, sd_purchases_per_session: double, cart_events: bigint, purchase_events: bigint, view_events: bigint, sessions_with_purchase: bigint, sessions_with_cart: bigint, sessions_with_view: bigint, pct_sessions_end_purchase: double, pct_sessions_end_cart: double, total_spend_log: double, total_events_log: double, purchase_events_log: double, total_sessions_log: double, avg_session_length_log: double, T_total_spend_log: double, pca_purchases10: vector, pca_purchases20: vector, pca_purchases50: vector, pca_purchases100: vector, unscaled_features: vector, features: vector, prediction: double]\n",
      "RMSE is 2199.6\n",
      "R^2 is 0.20314\n",
      "Adjusted R^2 is 0.20291\n"
     ]
    }
   ],
   "source": [
    "print(\"** PCA 10 + all other features **\")\n",
    "inputCols = [\"total_spend\", \"sd_session_length\",\n",
    "             \"cart_pct_of_total_events\", \"avg_purchases_per_session\", \"cart_events\", \"purchase_events\", \n",
    "             \"sessions_with_cart\", \"sessions_with_view\", \"pct_sessions_end_cart\", \"total_spend_log\", \"total_events_log\", \"pca_purchases10\"]\n",
    "\n",
    "# sd_session_length breaks it, as does sd_interactions_per_session, sd_purchases_per_session\n",
    "outputCol = \"T_total_spend\"\n",
    "\n",
    "pipeline = generatePipeline(inputCols, outputCol)\n",
    "pipelineModel = pipeline.fit(trainDF)\n",
    "    \n",
    "print(\"Model coefficients\")\n",
    "print(modelInfo(inputCols, pipelineModel))\n",
    "\n",
    "evaluationMetrics = getEvaluationMetrics(pipelineModel,outputCol,testDF, inputCols, 10)\n",
    "print(f\"RMSE is {evaluationMetrics[0]:.1f}\")\n",
    "print(f\"R^2 is {evaluationMetrics[1]:.5f}\")\n",
    "print(f\"Adjusted R^2 is {evaluationMetrics[2]:.5f}\")"
   ]
  },
  {
   "cell_type": "code",
   "execution_count": 12,
   "metadata": {},
   "outputs": [
    {
     "name": "stdout",
     "output_type": "stream",
     "text": [
      "** PCA 20 + all other features **\n",
      "Model coefficients\n",
      "                  Column name  Coefficient\n",
      "0                   intercept   423.176077\n",
      "1                 total_spend   940.965193\n",
      "2           sd_session_length    39.410965\n",
      "3    cart_pct_of_total_events   -30.850269\n",
      "4   avg_purchases_per_session   -55.735568\n",
      "5                 cart_events    87.057600\n",
      "6             purchase_events  -112.951036\n",
      "7          sessions_with_cart   311.985577\n",
      "8          sessions_with_view   -57.942362\n",
      "9       pct_sessions_end_cart   -61.599202\n",
      "10            total_spend_log   -26.390316\n",
      "11           total_events_log   -70.289921\n",
      "12            pca_purchases20   -45.598685\n",
      "+------------------+------------------+\n",
      "|     T_total_spend|        prediction|\n",
      "+------------------+------------------+\n",
      "|               0.0| 111.7334753694372|\n",
      "|               0.0|105.55782701314308|\n",
      "|               0.0|25.761377134790337|\n",
      "|               0.0|233.00177689306605|\n",
      "|               0.0|-57.37355443028122|\n",
      "|               0.0|-27.59503668328307|\n",
      "| 312.4200134277344| -51.0179205766388|\n",
      "|  6009.78010559082| 586.2026331879078|\n",
      "|1627.1900024414062| 341.3442170922954|\n",
      "|1393.8800354003906|124.37862057978413|\n",
      "+------------------+------------------+\n",
      "only showing top 10 rows\n",
      "\n",
      "DataFrame[user_id: int, total_spend: double, total_events: bigint, total_sessions: bigint, T_total_spend: double, avg_session_length: double, sd_session_length: double, avg_interactions_per_session: double, sd_interactions_per_session: double, max_interactions_per_session: bigint, purchase_pct_of_total_events: double, view_pct_of_total_events: double, cart_pct_of_total_events: double, avg_purchases_per_session: double, sd_purchases_per_session: double, cart_events: bigint, purchase_events: bigint, view_events: bigint, sessions_with_purchase: bigint, sessions_with_cart: bigint, sessions_with_view: bigint, pct_sessions_end_purchase: double, pct_sessions_end_cart: double, total_spend_log: double, total_events_log: double, purchase_events_log: double, total_sessions_log: double, avg_session_length_log: double, T_total_spend_log: double, pca_purchases10: vector, pca_purchases20: vector, pca_purchases50: vector, pca_purchases100: vector, unscaled_features: vector, features: vector, prediction: double]\n",
      "RMSE is 2200.8\n",
      "R^2 is 0.20233\n",
      "Adjusted R^2 is 0.20198\n"
     ]
    }
   ],
   "source": [
    "print(\"** PCA 20 + all other features **\")\n",
    "inputCols = [\"total_spend\", \"sd_session_length\",\n",
    "             \"cart_pct_of_total_events\", \"avg_purchases_per_session\", \"cart_events\", \"purchase_events\", \n",
    "             \"sessions_with_cart\", \"sessions_with_view\", \"pct_sessions_end_cart\", \"total_spend_log\", \"total_events_log\", \"pca_purchases20\"]\n",
    "\n",
    "# sd_session_length breaks it, as does sd_interactions_per_session, sd_purchases_per_session\n",
    "outputCol = \"T_total_spend\"\n",
    "\n",
    "pipeline = generatePipeline(inputCols, outputCol)\n",
    "pipelineModel = pipeline.fit(trainDF)\n",
    "    \n",
    "print(\"Model coefficients\")\n",
    "print(modelInfo(inputCols, pipelineModel))\n",
    "\n",
    "evaluationMetrics = getEvaluationMetrics(pipelineModel,outputCol,testDF, inputCols, 20)\n",
    "print(f\"RMSE is {evaluationMetrics[0]:.1f}\")\n",
    "print(f\"R^2 is {evaluationMetrics[1]:.5f}\")\n",
    "print(f\"Adjusted R^2 is {evaluationMetrics[2]:.5f}\")"
   ]
  },
  {
   "cell_type": "code",
   "execution_count": 13,
   "metadata": {},
   "outputs": [
    {
     "name": "stdout",
     "output_type": "stream",
     "text": [
      "** PCA 50 + all other features **\n",
      "Model coefficients\n",
      "                  Column name  Coefficient\n",
      "0                   intercept   423.176077\n",
      "1                 total_spend   947.130259\n",
      "2           sd_session_length    38.647519\n",
      "3    cart_pct_of_total_events   -30.838390\n",
      "4   avg_purchases_per_session   -55.948996\n",
      "5                 cart_events    85.088053\n",
      "6             purchase_events  -142.229661\n",
      "7          sessions_with_cart   309.788626\n",
      "8          sessions_with_view   -58.738985\n",
      "9       pct_sessions_end_cart   -60.991472\n",
      "10            total_spend_log   -25.502282\n",
      "11           total_events_log   -69.809756\n",
      "12            pca_purchases50   -67.042072\n",
      "+------------------+------------------+\n",
      "|     T_total_spend|        prediction|\n",
      "+------------------+------------------+\n",
      "|               0.0|107.76882961794149|\n",
      "|               0.0| 28.79476282887208|\n",
      "|               0.0|15.617803524783369|\n",
      "|               0.0| 232.1570810227544|\n",
      "|               0.0|-58.16794994968734|\n",
      "|               0.0| 78.17504807737066|\n",
      "| 312.4200134277344|-96.64482488514426|\n",
      "|  6009.78010559082| 590.2110003388633|\n",
      "|1627.1900024414062|335.55980489438167|\n",
      "|1393.8800354003906|123.35179817393913|\n",
      "+------------------+------------------+\n",
      "only showing top 10 rows\n",
      "\n",
      "DataFrame[user_id: int, total_spend: double, total_events: bigint, total_sessions: bigint, T_total_spend: double, avg_session_length: double, sd_session_length: double, avg_interactions_per_session: double, sd_interactions_per_session: double, max_interactions_per_session: bigint, purchase_pct_of_total_events: double, view_pct_of_total_events: double, cart_pct_of_total_events: double, avg_purchases_per_session: double, sd_purchases_per_session: double, cart_events: bigint, purchase_events: bigint, view_events: bigint, sessions_with_purchase: bigint, sessions_with_cart: bigint, sessions_with_view: bigint, pct_sessions_end_purchase: double, pct_sessions_end_cart: double, total_spend_log: double, total_events_log: double, purchase_events_log: double, total_sessions_log: double, avg_session_length_log: double, T_total_spend_log: double, pca_purchases10: vector, pca_purchases20: vector, pca_purchases50: vector, pca_purchases100: vector, unscaled_features: vector, features: vector, prediction: double]\n",
      "RMSE is 2200.6\n",
      "R^2 is 0.20245\n",
      "Adjusted R^2 is 0.20177\n"
     ]
    }
   ],
   "source": [
    "print(\"** PCA 50 + all other features **\")\n",
    "inputCols = [\"total_spend\", \"sd_session_length\",\n",
    "             \"cart_pct_of_total_events\", \"avg_purchases_per_session\", \"cart_events\", \"purchase_events\", \n",
    "             \"sessions_with_cart\", \"sessions_with_view\", \"pct_sessions_end_cart\", \"total_spend_log\", \"total_events_log\", \"pca_purchases50\"]\n",
    "\n",
    "\n",
    "# sd_session_length breaks it, as does sd_interactions_per_session, sd_purchases_per_session\n",
    "outputCol = \"T_total_spend\"\n",
    "\n",
    "pipeline = generatePipeline(inputCols, outputCol)\n",
    "pipelineModel = pipeline.fit(trainDF)\n",
    "    \n",
    "print(\"Model coefficients\")\n",
    "print(modelInfo(inputCols, pipelineModel))\n",
    "\n",
    "evaluationMetrics = getEvaluationMetrics(pipelineModel,outputCol,testDF, inputCols, 50)\n",
    "print(f\"RMSE is {evaluationMetrics[0]:.1f}\")\n",
    "print(f\"R^2 is {evaluationMetrics[1]:.5f}\")\n",
    "print(f\"Adjusted R^2 is {evaluationMetrics[2]:.5f}\")"
   ]
  },
  {
   "cell_type": "code",
   "execution_count": 14,
   "metadata": {},
   "outputs": [
    {
     "name": "stdout",
     "output_type": "stream",
     "text": [
      "** PCA 100 + all other features **\n",
      "Model coefficients\n",
      "                  Column name  Coefficient\n",
      "0                   intercept   423.176077\n",
      "1                 total_spend   941.666265\n",
      "2           sd_session_length    36.791566\n",
      "3    cart_pct_of_total_events   -29.368443\n",
      "4   avg_purchases_per_session   -56.254885\n",
      "5                 cart_events    79.113115\n",
      "6             purchase_events  -251.672941\n",
      "7          sessions_with_cart   324.707754\n",
      "8          sessions_with_view   -61.025653\n",
      "9       pct_sessions_end_cart   -64.102983\n",
      "10            total_spend_log   -20.138683\n",
      "11           total_events_log   -68.384100\n",
      "12           pca_purchases100  -152.186138\n",
      "+------------------+------------------+\n",
      "|     T_total_spend|        prediction|\n",
      "+------------------+------------------+\n",
      "|               0.0|130.17943376323757|\n",
      "|               0.0|30.057751146559724|\n",
      "|               0.0| 605.8833443461938|\n",
      "|               0.0|235.37122692499605|\n",
      "|               0.0|-61.09414031876884|\n",
      "|               0.0| 68.15954826703626|\n",
      "| 312.4200134277344|-92.42480202179115|\n",
      "|  6009.78010559082| 596.1324091901545|\n",
      "|1627.1900024414062|420.58510850840986|\n",
      "|1393.8800354003906|122.36910388565605|\n",
      "+------------------+------------------+\n",
      "only showing top 10 rows\n",
      "\n",
      "DataFrame[user_id: int, total_spend: double, total_events: bigint, total_sessions: bigint, T_total_spend: double, avg_session_length: double, sd_session_length: double, avg_interactions_per_session: double, sd_interactions_per_session: double, max_interactions_per_session: bigint, purchase_pct_of_total_events: double, view_pct_of_total_events: double, cart_pct_of_total_events: double, avg_purchases_per_session: double, sd_purchases_per_session: double, cart_events: bigint, purchase_events: bigint, view_events: bigint, sessions_with_purchase: bigint, sessions_with_cart: bigint, sessions_with_view: bigint, pct_sessions_end_purchase: double, pct_sessions_end_cart: double, total_spend_log: double, total_events_log: double, purchase_events_log: double, total_sessions_log: double, avg_session_length_log: double, T_total_spend_log: double, pca_purchases10: vector, pca_purchases20: vector, pca_purchases50: vector, pca_purchases100: vector, unscaled_features: vector, features: vector, prediction: double]\n",
      "RMSE is 2202.2\n",
      "R^2 is 0.20126\n",
      "Adjusted R^2 is 0.20002\n"
     ]
    }
   ],
   "source": [
    "print(\"** PCA 100 + all other features **\")\n",
    "inputCols = [\"total_spend\", \"sd_session_length\",\n",
    "             \"cart_pct_of_total_events\", \"avg_purchases_per_session\", \"cart_events\", \"purchase_events\", \n",
    "             \"sessions_with_cart\", \"sessions_with_view\", \"pct_sessions_end_cart\", \"total_spend_log\", \"total_events_log\", \"pca_purchases100\"]\n",
    "\n",
    "\n",
    "# sd_session_length breaks it, as does sd_interactions_per_session, sd_purchases_per_session\n",
    "outputCol = \"T_total_spend\"\n",
    "\n",
    "pipeline = generatePipeline(inputCols, outputCol)\n",
    "pipelineModel = pipeline.fit(trainDF)\n",
    "    \n",
    "print(\"Model coefficients\")\n",
    "print(modelInfo(inputCols, pipelineModel))\n",
    "\n",
    "evaluationMetrics = getEvaluationMetrics(pipelineModel,outputCol,testDF, inputCols, 100)\n",
    "print(f\"RMSE is {evaluationMetrics[0]:.1f}\")\n",
    "print(f\"R^2 is {evaluationMetrics[1]:.5f}\")\n",
    "print(f\"Adjusted R^2 is {evaluationMetrics[2]:.5f}\")"
   ]
  },
  {
   "cell_type": "markdown",
   "metadata": {},
   "source": [
    "# Champion Model\n",
    "#### When compared against a linear regression without the PCA features, performance of the models with PCA suffers. This is not just due to the increased number of features increasing the adjusted r-square. The feature we have encoded with PCA must not be a good predictor.  "
   ]
  },
  {
   "cell_type": "code",
   "execution_count": 15,
   "metadata": {},
   "outputs": [],
   "source": [
    "# pvalues breaks when used with this so taking that out\n",
    "def modelInfo2(inputCols, pipelineModel):\n",
    "    # Create a zipped list containing the coefficients and the data\n",
    "    modelCols = copy.deepcopy(inputCols)\n",
    "    modelCoeffs = list(pipelineModel.stages[-1].coefficients)\n",
    "    modelCoeffs.insert(0,pipelineModel.stages[-1].intercept)\n",
    "    modelCols.insert(0,\"intercept\")\n",
    "    modelZippedList = list(map(list, zip(modelCols, modelCoeffs)))\n",
    "        \n",
    "    # Create the pandas DataFrame\n",
    "    modelDF = pd.DataFrame(modelZippedList, columns = ['Column name', 'Coefficient'])\n",
    "    \n",
    "    return modelDF"
   ]
  },
  {
   "cell_type": "code",
   "execution_count": 16,
   "metadata": {},
   "outputs": [
    {
     "name": "stdout",
     "output_type": "stream",
     "text": [
      "** Champion Model **\n",
      "CPU times: user 3.08 s, sys: 601 ms, total: 3.68 s\n",
      "Wall time: 2min 47s\n"
     ]
    }
   ],
   "source": [
    "%%time\n",
    "print(\"** Champion Model **\")\n",
    "inputCols = [\"total_spend\", \"sd_session_length\",\n",
    "              \"avg_purchases_per_session\", \"cart_events\", \n",
    "             \"sessions_with_cart\", \"sessions_with_view\", \"pct_sessions_end_cart\", \"total_spend_log\", \"total_events_log\", \"pca_purchases10\"]\n",
    "\n",
    "outputCol = \"T_total_spend\"\n",
    "# Below creation of pipeline is necessary for crossval to run.\n",
    "vecAssembler = VectorAssembler(inputCols=inputCols, outputCol=\"features\")\n",
    "\n",
    "# Select output column for linear regression\n",
    "lr = LinearRegression(featuresCol=\"features\", labelCol=\"T_total_spend\")\n",
    "\n",
    "pipeline = Pipeline(stages=[vecAssembler, lr])\n",
    "    \n",
    "paramGrid = ParamGridBuilder() \\\n",
    "    .addGrid(lr.regParam, [0, 0.01, 0.2, 1, 10]) \\\n",
    "    .addGrid(lr.elasticNetParam, [0, 0.25, 0.5, 0.75, 1]) \\\n",
    "    .build()\n",
    "\n",
    "crossval = CrossValidator(estimator=pipeline,\n",
    "                          estimatorParamMaps=paramGrid,\n",
    "                          evaluator=RegressionEvaluator().setLabelCol(\"T_total_spend\"),\n",
    "                          numFolds=4)\n",
    "\n",
    "# Run cross-validation, and choose the best set of parameters.\n",
    "cvModel = crossval.setParallelism(8).fit(trainDF)"
   ]
  },
  {
   "cell_type": "code",
   "execution_count": 17,
   "metadata": {},
   "outputs": [
    {
     "name": "stdout",
     "output_type": "stream",
     "text": [
      "Best model coefficients\n",
      "                  Column name  Coefficient\n",
      "0                   intercept   146.439957\n",
      "1                 total_spend     0.425120\n",
      "2           sd_session_length     0.000367\n",
      "3   avg_purchases_per_session   -91.112432\n",
      "4                 cart_events     5.532628\n",
      "5          sessions_with_cart    62.295721\n",
      "6          sessions_with_view    -2.155294\n",
      "7       pct_sessions_end_cart  -231.925664\n",
      "8             total_spend_log    -7.004726\n",
      "9            total_events_log   -38.530261\n",
      "10            pca_purchases10     0.000000\n",
      "+------------------+-------------------+\n",
      "|     T_total_spend|         prediction|\n",
      "+------------------+-------------------+\n",
      "|               0.0|  97.14451746519937|\n",
      "|               0.0|  55.62075138834193|\n",
      "|               0.0| -3.792607259772865|\n",
      "|               0.0| 164.23029775358347|\n",
      "|               0.0| 23.700282810459797|\n",
      "|               0.0|   59.8026378580403|\n",
      "| 312.4200134277344|-12.774374240773113|\n",
      "|  6009.78010559082|  574.1374007991684|\n",
      "|1627.1900024414062| 184.19610311225836|\n",
      "|1393.8800354003906| 102.32203764582675|\n",
      "+------------------+-------------------+\n",
      "only showing top 10 rows\n",
      "\n",
      "DataFrame[user_id: int, total_spend: double, total_events: bigint, total_sessions: bigint, T_total_spend: double, avg_session_length: double, sd_session_length: double, avg_interactions_per_session: double, sd_interactions_per_session: double, max_interactions_per_session: bigint, purchase_pct_of_total_events: double, view_pct_of_total_events: double, cart_pct_of_total_events: double, avg_purchases_per_session: double, sd_purchases_per_session: double, cart_events: bigint, purchase_events: bigint, view_events: bigint, sessions_with_purchase: bigint, sessions_with_cart: bigint, sessions_with_view: bigint, pct_sessions_end_purchase: double, pct_sessions_end_cart: double, total_spend_log: double, total_events_log: double, purchase_events_log: double, total_sessions_log: double, avg_session_length_log: double, T_total_spend_log: double, pca_purchases10: vector, pca_purchases20: vector, pca_purchases50: vector, pca_purchases100: vector, features: vector, prediction: double]\n",
      "RMSE is 2199.2\n",
      "R^2 is 0.20346\n",
      "Adjusted R^2 is 0.20325\n",
      "\n",
      "{Param(parent='LinearRegression_8c65ac7d893c', name='regParam', doc='regularization parameter (>= 0).'): 0.0, Param(parent='LinearRegression_8c65ac7d893c', name='elasticNetParam', doc='the ElasticNet mixing parameter, in range [0, 1]. For alpha = 0, the penalty is an L2 penalty. For alpha = 1, it is an L1 penalty.'): 0.0}\n",
      "\n",
      "[2275.736697441482, 2275.736697441482, 2275.736697441482, 2275.736697441482, 2275.736697441482, 2275.736442371736, 2275.7352064381103, 2275.7357040897496, 2275.735359813441, 2275.7360818653974, 2275.7316021027436, 2275.7254668737028, 2275.71363161277, 2275.7046168582, 2275.695438614629, 2275.7113477719486, 2275.665222201115, 2275.619606507383, 2275.5736811142347, 2275.525371148369, 2275.4969820006854, 2275.0638651961735, 2274.746562712173, 2274.5214848779656, 2274.353159822938]\n"
     ]
    }
   ],
   "source": [
    "print(\"Best model coefficients\")\n",
    "print(modelInfo2(inputCols, cvModel.bestModel))\n",
    "\n",
    "\n",
    "evaluationMetrics = getEvaluationMetrics(cvModel.bestModel,\"T_total_spend\",testDF,inputCols, 10)\n",
    "print(f\"RMSE is {evaluationMetrics[0]:.1f}\")\n",
    "print(f\"R^2 is {evaluationMetrics[1]:.5f}\")\n",
    "print(f\"Adjusted R^2 is {evaluationMetrics[2]:.5f}\")\n",
    "\n",
    "print()\n",
    "print(cvModel.getEstimatorParamMaps()[np.argmax(cvModel.avgMetrics)])\n",
    "print()\n",
    "print(cvModel.avgMetrics)"
   ]
  },
  {
   "cell_type": "markdown",
   "metadata": {},
   "source": [
    "### CV for best PCA ONLY"
   ]
  },
  {
   "cell_type": "code",
   "execution_count": 18,
   "metadata": {},
   "outputs": [
    {
     "name": "stdout",
     "output_type": "stream",
     "text": [
      "** PCA Only **\n",
      "CPU times: user 2.88 s, sys: 588 ms, total: 3.46 s\n",
      "Wall time: 2min 8s\n"
     ]
    }
   ],
   "source": [
    "%%time\n",
    "print(\"** PCA Only **\")\n",
    "inputCols = [\"pca_purchases50\"]\n",
    "\n",
    "outputCol = \"T_total_spend\"\n",
    "# Below creation of pipeline is necessary for crossval to run.\n",
    "vecAssembler = VectorAssembler(inputCols=inputCols, outputCol=\"features\")\n",
    "\n",
    "# Select output column for linear regression\n",
    "lr = LinearRegression(featuresCol=\"features\", labelCol=\"T_total_spend\")\n",
    "\n",
    "pipeline = Pipeline(stages=[vecAssembler, lr])\n",
    "    \n",
    "paramGrid = ParamGridBuilder() \\\n",
    "    .addGrid(lr.regParam, [0, 0.01, 0.2, 1, 10]) \\\n",
    "    .addGrid(lr.elasticNetParam, [0, 0.25, 0.5, 0.75, 1]) \\\n",
    "    .build()\n",
    "\n",
    "crossval = CrossValidator(estimator=pipeline,\n",
    "                          estimatorParamMaps=paramGrid,\n",
    "                          evaluator=RegressionEvaluator().setLabelCol(\"T_total_spend\"),\n",
    "                          numFolds=4)\n",
    "\n",
    "# Run cross-validation, and choose the best set of parameters.\n",
    "cvModel = crossval.setParallelism(8).fit(trainDF)"
   ]
  },
  {
   "cell_type": "code",
   "execution_count": 19,
   "metadata": {},
   "outputs": [
    {
     "name": "stdout",
     "output_type": "stream",
     "text": [
      "Best model coefficients\n",
      "       Column name  Coefficient\n",
      "0        intercept     2.780719\n",
      "1  pca_purchases50  -272.143137\n",
      "+------------------+------------------+\n",
      "|     T_total_spend|        prediction|\n",
      "+------------------+------------------+\n",
      "|               0.0|12.596824864880098|\n",
      "|               0.0| 36.45282469512711|\n",
      "|               0.0| 4.562739044819039|\n",
      "|               0.0| 310.4887668677507|\n",
      "|               0.0|240.20335068705054|\n",
      "|               0.0|201.51094719992932|\n",
      "| 312.4200134277344|31.884430243953364|\n",
      "|  6009.78010559082|240.20335068705054|\n",
      "|1627.1900024414062| 326.4408097820845|\n",
      "|1393.8800354003906| 108.0470169569804|\n",
      "+------------------+------------------+\n",
      "only showing top 10 rows\n",
      "\n",
      "DataFrame[user_id: int, total_spend: double, total_events: bigint, total_sessions: bigint, T_total_spend: double, avg_session_length: double, sd_session_length: double, avg_interactions_per_session: double, sd_interactions_per_session: double, max_interactions_per_session: bigint, purchase_pct_of_total_events: double, view_pct_of_total_events: double, cart_pct_of_total_events: double, avg_purchases_per_session: double, sd_purchases_per_session: double, cart_events: bigint, purchase_events: bigint, view_events: bigint, sessions_with_purchase: bigint, sessions_with_cart: bigint, sessions_with_view: bigint, pct_sessions_end_purchase: double, pct_sessions_end_cart: double, total_spend_log: double, total_events_log: double, purchase_events_log: double, total_sessions_log: double, avg_session_length_log: double, T_total_spend_log: double, pca_purchases10: vector, pca_purchases20: vector, pca_purchases50: vector, pca_purchases100: vector, features: vector, prediction: double]\n",
      "RMSE is 2280.7\n",
      "R^2 is 0.14332\n",
      "Adjusted R^2 is 0.14272\n",
      "\n",
      "{Param(parent='LinearRegression_0ed41be40f86', name='regParam', doc='regularization parameter (>= 0).'): 0.0, Param(parent='LinearRegression_0ed41be40f86', name='elasticNetParam', doc='the ElasticNet mixing parameter, in range [0, 1]. For alpha = 0, the penalty is an L2 penalty. For alpha = 1, it is an L1 penalty.'): 0.0}\n",
      "\n",
      "[2341.9623911257045, 2341.9623911257045, 2341.9623911257045, 2341.9623911257045, 2341.9623911257045, 2341.9623591446207, 2341.9619445976145, 2341.9615300777173, 2341.9611156930387, 2341.9607014539874, 2341.961753048391, 2341.953488064924, 2341.9452815570035, 2341.9371393782176, 2341.9290756310093, 2341.959233221665, 2341.9187381606844, 2341.8783886444, 2341.83911377025, 2341.7974945139185, 2341.9344349385124, 2341.566382128218, 2341.309986008604, 2341.221401546196, 2341.27568166796]\n"
     ]
    }
   ],
   "source": [
    "print(\"Best model coefficients\")\n",
    "print(modelInfo2(inputCols, cvModel.bestModel))\n",
    "\n",
    "\n",
    "evaluationMetrics = getEvaluationMetrics(cvModel.bestModel,\"T_total_spend\",testDF,inputCols, 50)\n",
    "print(f\"RMSE is {evaluationMetrics[0]:.1f}\")\n",
    "print(f\"R^2 is {evaluationMetrics[1]:.5f}\")\n",
    "print(f\"Adjusted R^2 is {evaluationMetrics[2]:.5f}\")\n",
    "\n",
    "print()\n",
    "print(cvModel.getEstimatorParamMaps()[np.argmax(cvModel.avgMetrics)])\n",
    "print()\n",
    "print(cvModel.avgMetrics)"
   ]
  },
  {
   "cell_type": "code",
   "execution_count": null,
   "metadata": {},
   "outputs": [],
   "source": []
  },
  {
   "cell_type": "code",
   "execution_count": null,
   "metadata": {},
   "outputs": [],
   "source": []
  },
  {
   "cell_type": "code",
   "execution_count": null,
   "metadata": {},
   "outputs": [],
   "source": []
  }
 ],
 "metadata": {
  "kernelspec": {
   "display_name": "DS 5110 Spark 3.1",
   "language": "python",
   "name": "ds5110_spark3.1"
  },
  "language_info": {
   "codemirror_mode": {
    "name": "ipython",
    "version": 3
   },
   "file_extension": ".py",
   "mimetype": "text/x-python",
   "name": "python",
   "nbconvert_exporter": "python",
   "pygments_lexer": "ipython3",
   "version": "3.7.10"
  }
 },
 "nbformat": 4,
 "nbformat_minor": 4
}
