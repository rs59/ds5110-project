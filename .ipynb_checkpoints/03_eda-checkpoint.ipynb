{
 "cells": [
  {
   "cell_type": "markdown",
   "metadata": {},
   "source": [
    "## File 03: Exploratory Data Analysis, Individual Level\n",
    "##### Group 12:\n",
    "\n",
    "##### Hannah Schmuckler, mmc4cv\n",
    "\n",
    "##### Rob Schwartz, res7cd"
   ]
  },
  {
   "cell_type": "markdown",
   "metadata": {},
   "source": [
    "At a minimum, the file should include a summary containing:\n",
    "* Number of records\n",
    "* Number of columns\n",
    "* Statistical summary of response variable\n",
    "* Statistical summary of potential predictor variables (if there are a large number of predictors, select the top 10)\n",
    "* Note: Summarize categorical variables with counts and percentages for each level and summarize numerical variables with mean/quantiles/standard deviation.\n",
    "* Include up to five helpful graphs"
   ]
  },
  {
   "cell_type": "code",
   "execution_count": null,
   "metadata": {},
   "outputs": [],
   "source": []
  },
  {
   "cell_type": "code",
   "execution_count": 1,
   "metadata": {},
   "outputs": [
    {
     "name": "stdout",
     "output_type": "stream",
     "text": [
      "CPU times: user 584 ms, sys: 451 ms, total: 1.04 s\n",
      "Wall time: 5.84 s\n"
     ]
    }
   ],
   "source": [
    "%%time\n",
    "from pyspark.sql import SparkSession\n",
    "from pyspark.sql import types as T\n",
    "import matplotlib.pyplot as plt\n",
    "from pyspark.sql.functions import col\n",
    "import pandas as pd\n",
    "import pyspark.sql.functions as f\n",
    "from pyspark.sql.window import Window\n",
    "from pyspark.sql.functions import col\n",
    "from pyspark.sql.functions import log\n",
    "\n",
    "\n",
    "import sys\n",
    "spark = SparkSession.builder \\\n",
    "        .appName(\"project\") \\\n",
    "        .getOrCreate()\n",
    "\n",
    "sc = spark.sparkContext"
   ]
  },
  {
   "cell_type": "markdown",
   "metadata": {},
   "source": [
    "### Read in data"
   ]
  },
  {
   "cell_type": "markdown",
   "metadata": {},
   "source": [
    "#### Note: Our data was originally formatted in a 'tall' file forma with 9 columns:\n",
    "* event_time\n",
    "* event_type\n",
    "* product_id\n",
    "* category_code\n",
    "* brand\n",
    "* price\n",
    "* user_id\n",
    "* user_session"
   ]
  },
  {
   "cell_type": "markdown",
   "metadata": {},
   "source": [
    "It was also significantly larger than the 3gb limitation for class. However, our question required us to filter the data to only those who made a purchase in the first month, which reduced the size to a manageable level. \n",
    "\n",
    "All of the features in the dataset below have been engineered by us on an individual level, instead of the event-level data originally provided. "
   ]
  },
  {
   "cell_type": "code",
   "execution_count": 2,
   "metadata": {},
   "outputs": [],
   "source": [
    "full = spark.read.parquet(\"./processed_data/engineered_features.parquet\")"
   ]
  },
  {
   "cell_type": "code",
   "execution_count": 3,
   "metadata": {},
   "outputs": [
    {
     "name": "stdout",
     "output_type": "stream",
     "text": [
      "root\n",
      " |-- user_id: integer (nullable = true)\n",
      " |-- total_spend: double (nullable = true)\n",
      " |-- total_events: long (nullable = true)\n",
      " |-- total_sessions: long (nullable = true)\n",
      " |-- T_total_spend: double (nullable = true)\n",
      " |-- avg_session_length: double (nullable = true)\n",
      " |-- sd_session_length: double (nullable = true)\n",
      " |-- avg_interactions_per_session: double (nullable = true)\n",
      " |-- sd_interactions_per_session: double (nullable = true)\n",
      " |-- max_interactions_per_session: long (nullable = true)\n",
      " |-- purchase_pct_of_total_events: double (nullable = true)\n",
      " |-- view_pct_of_total_events: double (nullable = true)\n",
      " |-- cart_pct_of_total_events: double (nullable = true)\n",
      " |-- avg_purchases_per_session: double (nullable = true)\n",
      " |-- sd_purchases_per_session: double (nullable = true)\n",
      " |-- cart_events: long (nullable = true)\n",
      " |-- purchase_events: long (nullable = true)\n",
      " |-- view_events: long (nullable = true)\n",
      " |-- sessions_with_purchase: long (nullable = true)\n",
      " |-- sessions_with_cart: long (nullable = true)\n",
      " |-- sessions_with_view: long (nullable = true)\n",
      " |-- pct_sessions_end_purchase: double (nullable = true)\n",
      " |-- pct_sessions_end_cart: double (nullable = true)\n",
      " |-- total_spend_log: double (nullable = true)\n",
      " |-- total_events_log: double (nullable = true)\n",
      " |-- purchase_events_log: double (nullable = true)\n",
      " |-- total_sessions_log: double (nullable = true)\n",
      " |-- avg_session_length_log: double (nullable = true)\n",
      " |-- T_total_spend_log: double (nullable = true)\n",
      "\n"
     ]
    }
   ],
   "source": [
    "full.printSchema()"
   ]
  },
  {
   "cell_type": "code",
   "execution_count": 4,
   "metadata": {},
   "outputs": [
    {
     "data": {
      "text/plain": [
       "29"
      ]
     },
     "execution_count": 4,
     "metadata": {},
     "output_type": "execute_result"
    }
   ],
   "source": [
    "# Number of columns\n",
    "len(full.schema)"
   ]
  },
  {
   "cell_type": "code",
   "execution_count": null,
   "metadata": {},
   "outputs": [],
   "source": []
  },
  {
   "cell_type": "markdown",
   "metadata": {},
   "source": [
    "##### A single record looks like this:"
   ]
  },
  {
   "cell_type": "code",
   "execution_count": 5,
   "metadata": {},
   "outputs": [
    {
     "name": "stdout",
     "output_type": "stream",
     "text": [
      "-RECORD 0--------------------------------------------\n",
      " user_id                      | 435055582            \n",
      " total_spend                  | 159.72000122070312   \n",
      " total_events                 | 77                   \n",
      " total_sessions               | 59                   \n",
      " T_total_spend                | 159.72000122070312   \n",
      " avg_session_length           | 121.45762711864407   \n",
      " sd_session_length            | 621.2218028578814    \n",
      " avg_interactions_per_session | 1.305084745762712    \n",
      " sd_interactions_per_session  | 1.118099330732286    \n",
      " max_interactions_per_session | 9                    \n",
      " purchase_pct_of_total_events | 0.012987012987012988 \n",
      " view_pct_of_total_events     | 0.961038961038961    \n",
      " cart_pct_of_total_events     | 0.025974025974025976 \n",
      " avg_purchases_per_session    | 0.01694915254237288  \n",
      " sd_purchases_per_session     | 0.13018891098082386  \n",
      " cart_events                  | 2                    \n",
      " purchase_events              | 1                    \n",
      " view_events                  | 74                   \n",
      " sessions_with_purchase       | 1                    \n",
      " sessions_with_cart           | 2                    \n",
      " sessions_with_view           | 59                   \n",
      " pct_sessions_end_purchase    | 0.01694915254237288  \n",
      " pct_sessions_end_cart        | 0.01694915254237288  \n",
      " total_spend_log              | 5.073428550774817    \n",
      " total_events_log             | 4.34381840878234     \n",
      " purchase_events_log          | 9.995003330834232E-4 \n",
      " total_sessions_log           | 4.077554392914626    \n",
      " avg_session_length_log       | 4.799573687249317    \n",
      " T_total_spend_log            | 5.073428550774817    \n",
      "only showing top 1 row\n",
      "\n",
      "CPU times: user 1.1 ms, sys: 1.1 ms, total: 2.19 ms\n",
      "Wall time: 1.65 s\n"
     ]
    }
   ],
   "source": [
    "%%time\n",
    "full.show(1, vertical=True)"
   ]
  },
  {
   "cell_type": "code",
   "execution_count": 6,
   "metadata": {},
   "outputs": [
    {
     "name": "stdout",
     "output_type": "stream",
     "text": [
      "+-------+------------------+\n",
      "|summary|       total_spend|\n",
      "+-------+------------------+\n",
      "|  count|            359045|\n",
      "|   mean| 725.9766045853055|\n",
      "| stddev| 2120.897366507496|\n",
      "|    min| 0.800000011920929|\n",
      "|    25%|122.72999954223633|\n",
      "|    50%| 257.3800048828125|\n",
      "|    75%| 713.9100189208984|\n",
      "|    max|294910.72656440735|\n",
      "+-------+------------------+\n",
      "\n",
      "+-------+-----------------+\n",
      "|summary|     total_events|\n",
      "+-------+-----------------+\n",
      "|  count|           359045|\n",
      "|   mean|44.08205099639321|\n",
      "| stddev|70.67533822699554|\n",
      "|    min|                1|\n",
      "|    25%|               10|\n",
      "|    50%|               22|\n",
      "|    75%|               50|\n",
      "|    max|             1962|\n",
      "+-------+-----------------+\n",
      "\n",
      "+-------+-----------------+\n",
      "|summary|   total_sessions|\n",
      "+-------+-----------------+\n",
      "|  count|           359045|\n",
      "|   mean|7.361208205099639|\n",
      "| stddev|9.650350956979544|\n",
      "|    min|                1|\n",
      "|    25%|                2|\n",
      "|    50%|                4|\n",
      "|    75%|                9|\n",
      "|    max|              292|\n",
      "+-------+-----------------+\n",
      "\n",
      "+-------+------------------+\n",
      "|summary|     T_total_spend|\n",
      "+-------+------------------+\n",
      "|  count|            359045|\n",
      "|   mean|421.63228811820005|\n",
      "| stddev|2530.1267852512406|\n",
      "|    min|               0.0|\n",
      "|    25%|               0.0|\n",
      "|    50%|               0.0|\n",
      "|    75%|25.709999084472656|\n",
      "|    max|302725.79859542847|\n",
      "+-------+------------------+\n",
      "\n",
      "+-------+------------------+\n",
      "|summary|avg_session_length|\n",
      "+-------+------------------+\n",
      "|  count|            359045|\n",
      "|   mean|6482.9844478299765|\n",
      "| stddev|48040.447033073535|\n",
      "|    min|               0.0|\n",
      "|    25%|            136.25|\n",
      "|    50%|             245.5|\n",
      "|    75%|             465.0|\n",
      "|    max|         2418565.0|\n",
      "+-------+------------------+\n",
      "\n",
      "+-------+------------------+\n",
      "|summary| sd_session_length|\n",
      "+-------+------------------+\n",
      "|  count|            359045|\n",
      "|   mean|14747.723707474155|\n",
      "| stddev| 88550.91544102934|\n",
      "|    min|               0.0|\n",
      "|    25%|   66.585158506482|\n",
      "|    50%|203.61409577924607|\n",
      "|    75%|485.09998969284675|\n",
      "|    max| 1720386.555986183|\n",
      "+-------+------------------+\n",
      "\n",
      "+-------+----------------------------+\n",
      "|summary|avg_interactions_per_session|\n",
      "+-------+----------------------------+\n",
      "|  count|                      359045|\n",
      "|   mean|          6.1935648895776625|\n",
      "| stddev|           4.601764924822669|\n",
      "|    min|                         1.0|\n",
      "|    25%|                         3.6|\n",
      "|    50%|                         5.0|\n",
      "|    75%|           7.333333333333333|\n",
      "|    max|                       393.0|\n",
      "+-------+----------------------------+\n",
      "\n",
      "+-------+---------------------------+\n",
      "|summary|sd_interactions_per_session|\n",
      "+-------+---------------------------+\n",
      "|  count|                     359045|\n",
      "|   mean|           4.36352021566744|\n",
      "| stddev|         5.0821393542968005|\n",
      "|    min|                        0.0|\n",
      "|    25%|         1.2909944487358056|\n",
      "|    50%|          3.055050463303893|\n",
      "|    75%|          5.779160216714668|\n",
      "|    max|         142.02816622064793|\n",
      "+-------+---------------------------+\n",
      "\n",
      "+-------+----------------------------+\n",
      "|summary|max_interactions_per_session|\n",
      "+-------+----------------------------+\n",
      "|  count|                      359045|\n",
      "|   mean|          14.509228648219583|\n",
      "| stddev|          15.128279208349456|\n",
      "|    min|                           1|\n",
      "|    25%|                           6|\n",
      "|    50%|                          10|\n",
      "|    75%|                          18|\n",
      "|    max|                         777|\n",
      "+-------+----------------------------+\n",
      "\n",
      "+-------+----------------------------+\n",
      "|summary|purchase_pct_of_total_events|\n",
      "+-------+----------------------------+\n",
      "|  count|                      359045|\n",
      "|   mean|         0.10318314864651325|\n",
      "| stddev|         0.08540978662788226|\n",
      "|    min|         6.30119722747322E-4|\n",
      "|    25%|         0.03488372093023256|\n",
      "|    50%|         0.07894736842105263|\n",
      "|    75%|         0.15384615384615385|\n",
      "|    max|                         1.0|\n",
      "+-------+----------------------------+\n",
      "\n",
      "+-------+------------------------+\n",
      "|summary|view_pct_of_total_events|\n",
      "+-------+------------------------+\n",
      "|  count|                  359045|\n",
      "|   mean|      0.7239990130667169|\n",
      "| stddev|     0.18030979965439028|\n",
      "|    min|                     0.0|\n",
      "|    25%|                     0.6|\n",
      "|    50%|                    0.75|\n",
      "|    75%|      0.8791946308724832|\n",
      "|    max|      0.9982238010657194|\n",
      "+-------+------------------------+\n",
      "\n",
      "+-------+------------------------+\n",
      "|summary|cart_pct_of_total_events|\n",
      "+-------+------------------------+\n",
      "|  count|                  359045|\n",
      "|   mean|     0.17281783828672365|\n",
      "| stddev|     0.11948903991627063|\n",
      "|    min|                     0.0|\n",
      "|    25%|     0.07692307692307693|\n",
      "|    50%|     0.15555555555555556|\n",
      "|    75%|                    0.25|\n",
      "|    max|      0.9885057471264368|\n",
      "+-------+------------------------+\n",
      "\n",
      "+-------+-------------------------+\n",
      "|summary|avg_purchases_per_session|\n",
      "+-------+-------------------------+\n",
      "|  count|                   359045|\n",
      "|   mean|       0.5306101126559927|\n",
      "| stddev|      0.47407264667818577|\n",
      "|    min|     0.003424657534246575|\n",
      "|    25%|                   0.1875|\n",
      "|    50%|                      0.4|\n",
      "|    75%|                      1.0|\n",
      "|    max|                     14.0|\n",
      "+-------+-------------------------+\n",
      "\n",
      "+-------+------------------------+\n",
      "|summary|sd_purchases_per_session|\n",
      "+-------+------------------------+\n",
      "|  count|                  359045|\n",
      "|   mean|     0.45103162490170656|\n",
      "| stddev|     0.36217111226021415|\n",
      "|    min|                     0.0|\n",
      "|    25%|      0.2581988897471611|\n",
      "|    50%|      0.4472135954999579|\n",
      "|    75%|      0.5773502691896257|\n",
      "|    max|      27.247080744382675|\n",
      "+-------+------------------------+\n",
      "\n",
      "+-------+-----------------+\n",
      "|summary|      cart_events|\n",
      "+-------+-----------------+\n",
      "|  count|           359045|\n",
      "|   mean|5.004188889972009|\n",
      "| stddev|8.630793498682497|\n",
      "|    min|                0|\n",
      "|    25%|                1|\n",
      "|    50%|                3|\n",
      "|    75%|                5|\n",
      "|    max|              602|\n",
      "+-------+-----------------+\n",
      "\n",
      "+-------+-----------------+\n",
      "|summary|  purchase_events|\n",
      "+-------+-----------------+\n",
      "|  count|           359045|\n",
      "|   mean|2.322277151889039|\n",
      "| stddev|4.467652985872102|\n",
      "|    min|                1|\n",
      "|    25%|                1|\n",
      "|    50%|                1|\n",
      "|    75%|                2|\n",
      "|    max|              409|\n",
      "+-------+-----------------+\n",
      "\n",
      "+-------+-----------------+\n",
      "|summary|      view_events|\n",
      "+-------+-----------------+\n",
      "|  count|           359045|\n",
      "|   mean|36.75558495453216|\n",
      "| stddev|65.23856396700457|\n",
      "|    min|                0|\n",
      "|    25%|                6|\n",
      "|    50%|               16|\n",
      "|    75%|               41|\n",
      "|    max|             1935|\n",
      "+-------+-----------------+\n",
      "\n",
      "+-------+----------------------+\n",
      "|summary|sessions_with_purchase|\n",
      "+-------+----------------------+\n",
      "|  count|                359045|\n",
      "|   mean|    1.9214583130248297|\n",
      "| stddev|    2.8624076858310894|\n",
      "|    min|                     1|\n",
      "|    25%|                     1|\n",
      "|    50%|                     1|\n",
      "|    75%|                     2|\n",
      "|    max|                   140|\n",
      "+-------+----------------------+\n",
      "\n",
      "+-------+------------------+\n",
      "|summary|sessions_with_cart|\n",
      "+-------+------------------+\n",
      "|  count|            359045|\n",
      "|   mean| 2.763380634739378|\n",
      "| stddev|3.9264747319524904|\n",
      "|    min|                 0|\n",
      "|    25%|                 1|\n",
      "|    50%|                 2|\n",
      "|    75%|                 3|\n",
      "|    max|               200|\n",
      "+-------+------------------+\n",
      "\n",
      "+-------+------------------+\n",
      "|summary|sessions_with_view|\n",
      "+-------+------------------+\n",
      "|  count|            359045|\n",
      "|   mean| 7.247793452074252|\n",
      "| stddev| 9.407112128831653|\n",
      "|    min|                 0|\n",
      "|    25%|                 2|\n",
      "|    50%|                 4|\n",
      "|    75%|                 9|\n",
      "|    max|               292|\n",
      "+-------+------------------+\n",
      "\n",
      "+-------+-------------------------+\n",
      "|summary|pct_sessions_end_purchase|\n",
      "+-------+-------------------------+\n",
      "|  count|                   359045|\n",
      "|   mean|       0.4568567641835875|\n",
      "| stddev|       0.3327824394055071|\n",
      "|    min|     0.003424657534246575|\n",
      "|    25%|      0.16666666666666666|\n",
      "|    50%|       0.3333333333333333|\n",
      "|    75%|       0.6666666666666666|\n",
      "|    max|                      1.0|\n",
      "+-------+-------------------------+\n",
      "\n",
      "+-------+---------------------+\n",
      "|summary|pct_sessions_end_cart|\n",
      "+-------+---------------------+\n",
      "|  count|               359045|\n",
      "|   mean|  0.09800506004645378|\n",
      "| stddev|  0.15456527670766085|\n",
      "|    min|                  0.0|\n",
      "|    25%|                  0.0|\n",
      "|    50%|                  0.0|\n",
      "|    75%|  0.16666666666666666|\n",
      "|    max|                  1.0|\n",
      "+-------+---------------------+\n",
      "\n",
      "+-------+--------------------+\n",
      "|summary|     total_spend_log|\n",
      "+-------+--------------------+\n",
      "|  count|              359045|\n",
      "|   mean|   5.596136864863591|\n",
      "| stddev|   1.401188032482981|\n",
      "|    min|-0.22189431703121995|\n",
      "|    25%|   4.809994964813492|\n",
      "|    50%|    5.55055749633489|\n",
      "|    75%|   6.570758331213362|\n",
      "|    max|  12.594427971098023|\n",
      "+-------+--------------------+\n",
      "\n",
      "+-------+--------------------+\n",
      "|summary|    total_events_log|\n",
      "+-------+--------------------+\n",
      "|  count|              359045|\n",
      "|   mean|  3.1365453963018863|\n",
      "| stddev|  1.1108276727442985|\n",
      "|    min|9.995003330834232E-4|\n",
      "|    25%|  2.3026850879943788|\n",
      "|    50%|  3.0910879068707438|\n",
      "|    75%|  3.9120430052281487|\n",
      "|    max|   7.581720149809175|\n",
      "+-------+--------------------+\n",
      "\n",
      "+-------+--------------------+\n",
      "|summary| purchase_events_log|\n",
      "+-------+--------------------+\n",
      "|  count|              359045|\n",
      "|   mean|  0.4572394314759755|\n",
      "| stddev|  0.6981282265172335|\n",
      "|    min|9.995003330834232E-4|\n",
      "|    25%|9.995003330834232E-4|\n",
      "|    50%|9.995003330834232E-4|\n",
      "|    75%|  0.6936470556015963|\n",
      "|    max|  6.0137176010275875|\n",
      "+-------+--------------------+\n",
      "\n",
      "+-------+--------------------+\n",
      "|summary|  total_sessions_log|\n",
      "+-------+--------------------+\n",
      "|  count|              359045|\n",
      "|   mean|  1.4817664612616495|\n",
      "| stddev|  1.0015660395748158|\n",
      "|    min|9.995003330834232E-4|\n",
      "|    25%|  0.6936470556015963|\n",
      "|    50%|  1.3865443298750981|\n",
      "|    75%|  2.1973356822749484|\n",
      "|    max|  5.6767572269199515|\n",
      "+-------+--------------------+\n",
      "\n",
      "+-------+----------------------+\n",
      "|summary|avg_session_length_log|\n",
      "+-------+----------------------+\n",
      "|  count|                359045|\n",
      "|   mean|      5.69624197148434|\n",
      "| stddev|    1.5223390034250155|\n",
      "|    min|    -6.907755278982137|\n",
      "|    25%|    4.9144987729659615|\n",
      "|    50%|     5.503301020546035|\n",
      "|    75%|     6.142039556122678|\n",
      "|    max|    14.698684947460396|\n",
      "+-------+----------------------+\n",
      "\n",
      "+-------+------------------+\n",
      "|summary| T_total_spend_log|\n",
      "+-------+------------------+\n",
      "|  count|            359045|\n",
      "|   mean|-3.503674021087405|\n",
      "| stddev| 5.805868870932043|\n",
      "|    min|-6.907755278982137|\n",
      "|    25%|-6.907755278982137|\n",
      "|    50%|-6.907755278982137|\n",
      "|    75%| 3.246918880284452|\n",
      "|    max|12.620582722945128|\n",
      "+-------+------------------+\n",
      "\n",
      "CPU times: user 76.9 ms, sys: 21.6 ms, total: 98.6 ms\n",
      "Wall time: 12 s\n"
     ]
    }
   ],
   "source": [
    "%%time\n",
    "## Note: We have not yet determined our best predictors, but perhaps looking at these outputs will help us.\n",
    "for i in range(1,len(full.columns)):\n",
    "    j = full.columns[i]\n",
    "    full.select(j).summary().show()"
   ]
  },
  {
   "cell_type": "markdown",
   "metadata": {},
   "source": [
    "There are additional features that are not yet fully integrated in our engineered features. Here is our original dataset so we can do some basic summary of things like product_id, brand and individual price. \n",
    "\n",
    "Note that period is a feature that we added after filtering the data to easily keep track of which month a given row is from. This is the month 1 dataset, where all our predictors will come from. The month 2 dataset (not in this document) has been aggregated above to produce our response variable. "
   ]
  },
  {
   "cell_type": "code",
   "execution_count": 7,
   "metadata": {},
   "outputs": [],
   "source": [
    "m1 = spark.read.parquet('./processed_data/month_01_filtered.parquet')"
   ]
  },
  {
   "cell_type": "code",
   "execution_count": 8,
   "metadata": {},
   "outputs": [
    {
     "name": "stdout",
     "output_type": "stream",
     "text": [
      "root\n",
      " |-- user_id: integer (nullable = true)\n",
      " |-- event_time: timestamp (nullable = true)\n",
      " |-- event_type: string (nullable = true)\n",
      " |-- product_id: integer (nullable = true)\n",
      " |-- category_id: long (nullable = true)\n",
      " |-- category_code: string (nullable = true)\n",
      " |-- brand: string (nullable = true)\n",
      " |-- price: float (nullable = true)\n",
      " |-- user_session: string (nullable = true)\n",
      "\n"
     ]
    }
   ],
   "source": [
    "m1.printSchema()"
   ]
  },
  {
   "cell_type": "code",
   "execution_count": 9,
   "metadata": {},
   "outputs": [
    {
     "data": {
      "text/plain": [
       "9"
      ]
     },
     "execution_count": 9,
     "metadata": {},
     "output_type": "execute_result"
    }
   ],
   "source": [
    "# Number of columns\n",
    "len(m1.schema)"
   ]
  },
  {
   "cell_type": "code",
   "execution_count": 10,
   "metadata": {},
   "outputs": [
    {
     "data": {
      "text/plain": [
       "3"
      ]
     },
     "execution_count": 10,
     "metadata": {},
     "output_type": "execute_result"
    }
   ],
   "source": [
    "m1.select('event_type').distinct().count()"
   ]
  },
  {
   "cell_type": "code",
   "execution_count": 11,
   "metadata": {},
   "outputs": [
    {
     "name": "stdout",
     "output_type": "stream",
     "text": [
      "CPU times: user 3.06 ms, sys: 0 ns, total: 3.06 ms\n",
      "Wall time: 1.43 s\n"
     ]
    },
    {
     "data": {
      "text/plain": [
       "181283"
      ]
     },
     "execution_count": 11,
     "metadata": {},
     "output_type": "execute_result"
    }
   ],
   "source": [
    "%%time\n",
    "m1.select('product_id').distinct().count()\n",
    "# There are 181,283 different products. "
   ]
  },
  {
   "cell_type": "code",
   "execution_count": 12,
   "metadata": {},
   "outputs": [
    {
     "name": "stdout",
     "output_type": "stream",
     "text": [
      "CPU times: user 2.07 ms, sys: 1.06 ms, total: 3.13 ms\n",
      "Wall time: 1.57 s\n"
     ]
    },
    {
     "data": {
      "text/plain": [
       "136"
      ]
     },
     "execution_count": 12,
     "metadata": {},
     "output_type": "execute_result"
    }
   ],
   "source": [
    "%%time\n",
    "m1.select('category_code').distinct().count()\n",
    "# There are 136 different categories"
   ]
  },
  {
   "cell_type": "code",
   "execution_count": 13,
   "metadata": {},
   "outputs": [
    {
     "name": "stdout",
     "output_type": "stream",
     "text": [
      "CPU times: user 1.17 ms, sys: 2.18 ms, total: 3.35 ms\n",
      "Wall time: 677 ms\n"
     ]
    },
    {
     "data": {
      "text/plain": [
       "4770"
      ]
     },
     "execution_count": 13,
     "metadata": {},
     "output_type": "execute_result"
    }
   ],
   "source": [
    "%%time\n",
    "m1.select('brand').distinct().count()\n",
    "# There are 4770 different brands"
   ]
  },
  {
   "cell_type": "code",
   "execution_count": 14,
   "metadata": {},
   "outputs": [
    {
     "name": "stdout",
     "output_type": "stream",
     "text": [
      "+-------+-----------------+\n",
      "|summary|            price|\n",
      "+-------+-----------------+\n",
      "|  count|         15923973|\n",
      "|   mean|272.8108554043269|\n",
      "| stddev|334.8869399729854|\n",
      "|    min|              0.0|\n",
      "|    max|          2574.07|\n",
      "+-------+-----------------+\n",
      "\n"
     ]
    }
   ],
   "source": [
    "m1.describe('price').show()"
   ]
  },
  {
   "cell_type": "code",
   "execution_count": 15,
   "metadata": {},
   "outputs": [
    {
     "name": "stdout",
     "output_type": "stream",
     "text": [
      "CPU times: user 2.72 ms, sys: 633 µs, total: 3.36 ms\n",
      "Wall time: 2.54 s\n"
     ]
    },
    {
     "data": {
      "text/plain": [
       "2697902"
      ]
     },
     "execution_count": 15,
     "metadata": {},
     "output_type": "execute_result"
    }
   ],
   "source": [
    "%%time\n",
    "m1.select('user_session').distinct().count()\n",
    "# There are 2697902 different user sessions"
   ]
  },
  {
   "cell_type": "markdown",
   "metadata": {},
   "source": [
    "### Visualization"
   ]
  },
  {
   "cell_type": "markdown",
   "metadata": {},
   "source": [
    "##### Response Variable: Spend in month 2"
   ]
  },
  {
   "cell_type": "code",
   "execution_count": 25,
   "metadata": {},
   "outputs": [
    {
     "data": {
      "image/png": "[encoded data removed]",
      "text/plain": [
       "<Figure size 640x480 with 1 Axes>"
      ]
     },
     "metadata": {},
     "output_type": "display_data"
    }
   ],
   "source": [
    "response = full.select('T_total_spend').toPandas()['T_total_spend']\n",
    "plt.boxplot(response)\n",
    "plt.show()"
   ]
  },
  {
   "cell_type": "markdown",
   "metadata": {},
   "source": [
    "That's essentially useless, we're obviously going to have to do some transformation on our response and remove outliers, but here's a histogram:"
   ]
  },
  {
   "cell_type": "code",
   "execution_count": 26,
   "metadata": {},
   "outputs": [
    {
     "data": {
      "image/png": "[encoded data removed]",
      "text/plain": [
       "<Figure size 640x480 with 1 Axes>"
      ]
     },
     "metadata": {},
     "output_type": "display_data"
    }
   ],
   "source": [
    "plt.hist(response, bins = 50)\n",
    "plt.show()"
   ]
  },
  {
   "cell_type": "markdown",
   "metadata": {},
   "source": [
    "What does it look like log-transformed? That might be more useful. "
   ]
  },
  {
   "cell_type": "code",
   "execution_count": 23,
   "metadata": {},
   "outputs": [
    {
     "data": {
      "image/png": "[encoded data removed]",
      "text/plain": [
       "<Figure size 640x480 with 1 Axes>"
      ]
     },
     "metadata": {},
     "output_type": "display_data"
    }
   ],
   "source": [
    "response = full.select('T_total_spend_log').toPandas()['T_total_spend_log']\n",
    "plt.hist(response, bins = 50)\n",
    "plt.show()"
   ]
  },
  {
   "cell_type": "code",
   "execution_count": null,
   "metadata": {},
   "outputs": [],
   "source": []
  },
  {
   "cell_type": "markdown",
   "metadata": {},
   "source": [
    "### Just to get an idea of how common purchases are..."
   ]
  },
  {
   "cell_type": "code",
   "execution_count": 19,
   "metadata": {},
   "outputs": [
    {
     "data": {
      "image/png": "[encoded data removed]",
      "text/plain": [
       "<Figure size 640x480 with 1 Axes>"
      ]
     },
     "metadata": {},
     "output_type": "display_data"
    }
   ],
   "source": [
    "events = m1.groupBy('event_type').count()\n",
    "x = events.select('event_type').toPandas()['event_type']\n",
    "y = events.select('count').toPandas()['count']\n",
    "\n",
    "plt.bar(x, y)\n",
    "plt.title(\"Count Of Event Type (Total)\")\n",
    "plt.xlabel(\"Event Type\")\n",
    "plt.ylabel(\"Count\")\n",
    "\n",
    "\n",
    "plt.show()"
   ]
  },
  {
   "cell_type": "markdown",
   "metadata": {},
   "source": [
    "#### To get an idea of the variation in behavior...standard deviation of interactions per session"
   ]
  },
  {
   "cell_type": "code",
   "execution_count": 20,
   "metadata": {},
   "outputs": [
    {
     "data": {
      "image/png": "[encoded data removed]",
      "text/plain": [
       "<Figure size 640x480 with 1 Axes>"
      ]
     },
     "metadata": {},
     "output_type": "display_data"
    }
   ],
   "source": [
    "response = full.select('sd_interactions_per_session').toPandas()['sd_interactions_per_session']\n",
    "plt.hist(response)\n",
    "plt.show()"
   ]
  },
  {
   "cell_type": "markdown",
   "metadata": {},
   "source": [
    "#### Average Purchases Per Session"
   ]
  },
  {
   "cell_type": "code",
   "execution_count": 21,
   "metadata": {},
   "outputs": [
    {
     "data": {
      "image/png": "[encoded data removed]",
      "text/plain": [
       "<Figure size 640x480 with 1 Axes>"
      ]
     },
     "metadata": {},
     "output_type": "display_data"
    }
   ],
   "source": [
    "response = full.select('avg_purchases_per_session').toPandas()['avg_purchases_per_session']\n",
    "plt.violinplot(response)\n",
    "plt.show()\n"
   ]
  },
  {
   "cell_type": "code",
   "execution_count": null,
   "metadata": {},
   "outputs": [],
   "source": []
  },
  {
   "cell_type": "code",
   "execution_count": null,
   "metadata": {},
   "outputs": [],
   "source": []
  },
  {
   "cell_type": "code",
   "execution_count": null,
   "metadata": {},
   "outputs": [],
   "source": []
  }
 ],
 "metadata": {
  "kernelspec": {
   "display_name": "DS 5110 Spark 3.1",
   "language": "python",
   "name": "ds5110_spark3.1"
  },
  "language_info": {
   "codemirror_mode": {
    "name": "ipython",
    "version": 3
   },
   "file_extension": ".py",
   "mimetype": "text/x-python",
   "name": "python",
   "nbconvert_exporter": "python",
   "pygments_lexer": "ipython3",
   "version": "3.7.10"
  }
 },
 "nbformat": 4,
 "nbformat_minor": 4
}
