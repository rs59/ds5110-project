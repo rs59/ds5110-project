{
 "cells": [
  {
   "cell_type": "markdown",
   "metadata": {},
   "source": [
    "### 03: Exploratory Data Analysis, Individual Level\n",
    "##### Group 12:\n",
    "\n",
    "##### Hannah Schmuckler, mmc4cv\n",
    "\n",
    "##### Rob Schwartz, res7cd"
   ]
  },
  {
   "cell_type": "markdown",
   "metadata": {},
   "source": [
    "At a minimum, the file should include a summary containing:\n",
    "* Number of records\n",
    "* Number of columns\n",
    "* Statistical summary of response variable\n",
    "* Statistical summary of potential predictor variables (if there are a large number of predictors, select the top 10)\n",
    "* Note: Summarize categorical variables with counts and percentages for each level and summarize numerical variables with mean/quantiles/standard deviation.\n",
    "* Include up to five helpful graphs"
   ]
  },
  {
   "cell_type": "code",
   "execution_count": null,
   "metadata": {},
   "outputs": [],
   "source": []
  },
  {
   "cell_type": "code",
   "execution_count": 1,
   "metadata": {},
   "outputs": [
    {
     "name": "stdout",
     "output_type": "stream",
     "text": [
      "CPU times: user 647 ms, sys: 535 ms, total: 1.18 s\n",
      "Wall time: 7.04 s\n"
     ]
    }
   ],
   "source": [
    "%%time\n",
    "from pyspark.sql import SparkSession\n",
    "from pyspark.sql import types as T\n",
    "import matplotlib.pyplot as plt\n",
    "from pyspark.sql.functions import col\n",
    "import pandas as pd\n",
    "import pyspark.sql.functions as f\n",
    "from pyspark.sql.window import Window\n",
    "from pyspark.sql.functions import col\n",
    "from pyspark.sql.functions import log\n",
    "\n",
    "\n",
    "import sys\n",
    "spark = SparkSession.builder \\\n",
    "        .appName(\"project\") \\\n",
    "        .getOrCreate()\n",
    "\n",
    "sc = spark.sparkContext"
   ]
  },
  {
   "cell_type": "markdown",
   "metadata": {},
   "source": [
    "### Read in data"
   ]
  },
  {
   "cell_type": "markdown",
   "metadata": {},
   "source": [
    "#### Note: Our data was originally formatted in a 'tall' file forma with 9 columns:\n",
    "* event_time\n",
    "* event_type\n",
    "* product_id\n",
    "* category_code\n",
    "* brand\n",
    "* price\n",
    "* user_id\n",
    "* user_session"
   ]
  },
  {
   "cell_type": "markdown",
   "metadata": {},
   "source": [
    "It was also significantly larger than the 3gb limitation for class. However, our question required us to filter the data to only those who made a purchase in the first month, which reduced the size to a manageable level. \n",
    "\n",
    "All of the features in the dataset below have been engineered by us on an individual level, instead of the event-level data originally provided. "
   ]
  },
  {
   "cell_type": "code",
   "execution_count": 2,
   "metadata": {},
   "outputs": [],
   "source": [
    "full = spark.read.parquet(\"./processed_data/engineered_features.parquet\")"
   ]
  },
  {
   "cell_type": "code",
   "execution_count": 3,
   "metadata": {},
   "outputs": [
    {
     "name": "stdout",
     "output_type": "stream",
     "text": [
      "root\n",
      " |-- user_id: integer (nullable = true)\n",
      " |-- T_total_spend: double (nullable = true)\n",
      " |-- total_spend: double (nullable = true)\n",
      " |-- total_events: long (nullable = true)\n",
      " |-- total_sessions: long (nullable = true)\n",
      " |-- avg_session_length: double (nullable = true)\n",
      " |-- sd_session_length: double (nullable = true)\n",
      " |-- avg_interactions_per_session: double (nullable = true)\n",
      " |-- sd_interactions_per_session: double (nullable = true)\n",
      " |-- max_interactions_per_session: long (nullable = true)\n",
      " |-- purchase_pct_of_total_events: double (nullable = true)\n",
      " |-- view_pct_of_total_events: double (nullable = true)\n",
      " |-- cart_pct_of_total_events: double (nullable = true)\n",
      " |-- avg_purchases_per_session: double (nullable = true)\n",
      " |-- sd_purchases_per_session: double (nullable = true)\n",
      " |-- cart_events: long (nullable = true)\n",
      " |-- purchase_events: long (nullable = true)\n",
      " |-- view_events: long (nullable = true)\n",
      " |-- sessions_with_purchase: long (nullable = true)\n",
      " |-- sessions_with_cart: long (nullable = true)\n",
      " |-- sessions_with_view: long (nullable = true)\n",
      " |-- pct_sessions_end_purchase: double (nullable = true)\n",
      " |-- pct_sessions_end_cart: double (nullable = true)\n",
      " |-- total_spend_log: double (nullable = true)\n",
      " |-- total_events_log: double (nullable = true)\n",
      " |-- purchase_events_log: double (nullable = true)\n",
      " |-- total_sessions_log: double (nullable = true)\n",
      " |-- T_total_spend_log: double (nullable = true)\n",
      "\n"
     ]
    }
   ],
   "source": [
    "full.printSchema()"
   ]
  },
  {
   "cell_type": "code",
   "execution_count": 4,
   "metadata": {},
   "outputs": [
    {
     "data": {
      "text/plain": [
       "28"
      ]
     },
     "execution_count": 4,
     "metadata": {},
     "output_type": "execute_result"
    }
   ],
   "source": [
    "# Number of columns\n",
    "len(full.schema)"
   ]
  },
  {
   "cell_type": "code",
   "execution_count": null,
   "metadata": {},
   "outputs": [],
   "source": []
  },
  {
   "cell_type": "markdown",
   "metadata": {},
   "source": [
    "##### A single record looks like this:"
   ]
  },
  {
   "cell_type": "code",
   "execution_count": 5,
   "metadata": {},
   "outputs": [
    {
     "name": "stdout",
     "output_type": "stream",
     "text": [
      "-RECORD 0--------------------------------------------\n",
      " user_id                      | 501386580            \n",
      " T_total_spend                | 0.0                  \n",
      " total_spend                  | 40.93000030517578    \n",
      " total_events                 | 55                   \n",
      " total_sessions               | 5                    \n",
      " avg_session_length           | 405.8                \n",
      " sd_session_length            | 596.7216268914677    \n",
      " avg_interactions_per_session | 11.0                 \n",
      " sd_interactions_per_session  | 18.49324200890693    \n",
      " max_interactions_per_session | 44                   \n",
      " purchase_pct_of_total_events | 0.01818181818181818  \n",
      " view_pct_of_total_events     | 0.8363636363636363   \n",
      " cart_pct_of_total_events     | 0.14545454545454545  \n",
      " avg_purchases_per_session    | 0.2                  \n",
      " sd_purchases_per_session     | 0.4472135954999579   \n",
      " cart_events                  | 8                    \n",
      " purchase_events              | 1                    \n",
      " view_events                  | 46                   \n",
      " sessions_with_purchase       | 1                    \n",
      " sessions_with_cart           | 2                    \n",
      " sessions_with_view           | 5                    \n",
      " pct_sessions_end_purchase    | 0.2                  \n",
      " pct_sessions_end_cart        | 0.2                  \n",
      " total_spend_log              | 3.711887729618715    \n",
      " total_events_log             | 4.0073513668853655   \n",
      " purchase_events_log          | 9.995003330834232E-4 \n",
      " total_sessions_log           | 1.6096378924367667   \n",
      " T_total_spend_log            | -6.907755278982137   \n",
      "only showing top 1 row\n",
      "\n",
      "CPU times: user 1.09 ms, sys: 1.09 ms, total: 2.18 ms\n",
      "Wall time: 2 s\n"
     ]
    }
   ],
   "source": [
    "%%time\n",
    "full.show(1, vertical=True)"
   ]
  },
  {
   "cell_type": "code",
   "execution_count": 6,
   "metadata": {},
   "outputs": [
    {
     "name": "stdout",
     "output_type": "stream",
     "text": [
      "+-------+------------------+\n",
      "|summary|     T_total_spend|\n",
      "+-------+------------------+\n",
      "|  count|            348356|\n",
      "|   mean|13620.947006292476|\n",
      "| stddev| 70357.31293647869|\n",
      "|    min|               0.0|\n",
      "|    25%|               0.0|\n",
      "|    50%|               0.0|\n",
      "|    75%|               0.0|\n",
      "|    max| 4302172.777099609|\n",
      "+-------+------------------+\n",
      "\n",
      "+-------+------------------+\n",
      "|summary|       total_spend|\n",
      "+-------+------------------+\n",
      "|  count|            348356|\n",
      "|   mean|1458.9048338518921|\n",
      "| stddev| 5510.717350408984|\n",
      "|    min| 0.800000011920929|\n",
      "|    25%|131.47999954223633|\n",
      "|    50%| 288.2699890136719|\n",
      "|    75%| 849.1599731445312|\n",
      "|    max| 99929.39895629883|\n",
      "+-------+------------------+\n",
      "\n",
      "+-------+------------------+\n",
      "|summary|      total_events|\n",
      "+-------+------------------+\n",
      "|  count|            348356|\n",
      "|   mean| 77.24325402748912|\n",
      "| stddev|201.58473752052757|\n",
      "|    min|                 1|\n",
      "|    25%|                11|\n",
      "|    50%|                25|\n",
      "|    75%|                62|\n",
      "|    max|              3000|\n",
      "+-------+------------------+\n",
      "\n",
      "+-------+------------------+\n",
      "|summary|    total_sessions|\n",
      "+-------+------------------+\n",
      "|  count|            348356|\n",
      "|   mean|6.9544288027190575|\n",
      "| stddev| 8.750027536684302|\n",
      "|    min|                 1|\n",
      "|    25%|                 2|\n",
      "|    50%|                 4|\n",
      "|    75%|                 9|\n",
      "|    max|               292|\n",
      "+-------+------------------+\n",
      "\n",
      "+-------+------------------+\n",
      "|summary|avg_session_length|\n",
      "+-------+------------------+\n",
      "|  count|            348356|\n",
      "|   mean| 1056.736062119034|\n",
      "| stddev| 6140.618659827442|\n",
      "|    min|               0.0|\n",
      "|    25%|             134.0|\n",
      "|    50%|239.33333333333334|\n",
      "|    75%|             440.8|\n",
      "|    max| 86399.11764705883|\n",
      "+-------+------------------+\n",
      "\n",
      "+-------+------------------+\n",
      "|summary| sd_session_length|\n",
      "+-------+------------------+\n",
      "|  count|            348356|\n",
      "|   mean| 3009.888108162488|\n",
      "| stddev|  23864.9952361661|\n",
      "|    min|               0.0|\n",
      "|    25%|62.932503525602726|\n",
      "|    50%|195.12527674899943|\n",
      "|    75%|450.91805914058625|\n",
      "|    max| 468135.6701894469|\n",
      "+-------+------------------+\n",
      "\n",
      "+-------+----------------------------+\n",
      "|summary|avg_interactions_per_session|\n",
      "+-------+----------------------------+\n",
      "|  count|                      348356|\n",
      "|   mean|          6.2014244676504235|\n",
      "| stddev|           4.627740166099612|\n",
      "|    min|                         1.0|\n",
      "|    25%|                         3.6|\n",
      "|    50%|                         5.0|\n",
      "|    75%|           7.333333333333333|\n",
      "|    max|                       393.0|\n",
      "+-------+----------------------------+\n",
      "\n",
      "+-------+---------------------------+\n",
      "|summary|sd_interactions_per_session|\n",
      "+-------+---------------------------+\n",
      "|  count|                     348356|\n",
      "|   mean|           4.31622595057771|\n",
      "| stddev|         5.0662596165543095|\n",
      "|    min|                        0.0|\n",
      "|    25%|         1.1832159566199232|\n",
      "|    50%|                        3.0|\n",
      "|    75%|          5.730557190560593|\n",
      "|    max|         142.02816622064793|\n",
      "+-------+---------------------------+\n",
      "\n",
      "+-------+----------------------------+\n",
      "|summary|max_interactions_per_session|\n",
      "+-------+----------------------------+\n",
      "|  count|                      348356|\n",
      "|   mean|          14.256341214160226|\n",
      "| stddev|          14.686581693005236|\n",
      "|    min|                           1|\n",
      "|    25%|                           6|\n",
      "|    50%|                          10|\n",
      "|    75%|                          17|\n",
      "|    max|                         393|\n",
      "+-------+----------------------------+\n",
      "\n",
      "+-------+----------------------------+\n",
      "|summary|purchase_pct_of_total_events|\n",
      "+-------+----------------------------+\n",
      "|  count|                      348356|\n",
      "|   mean|          0.1038235828383535|\n",
      "| stddev|         0.08588909447743164|\n",
      "|    min|         4.19639110365086E-4|\n",
      "|    25%|         0.03571428571428571|\n",
      "|    50%|                        0.08|\n",
      "|    75%|         0.15384615384615385|\n",
      "|    max|                         1.0|\n",
      "+-------+----------------------------+\n",
      "\n",
      "+-------+------------------------+\n",
      "|summary|view_pct_of_total_events|\n",
      "+-------+------------------------+\n",
      "|  count|                  348356|\n",
      "|   mean|      0.7244343657297596|\n",
      "| stddev|     0.18051730071363253|\n",
      "|    min|                     0.0|\n",
      "|    25%|                     0.6|\n",
      "|    50%|                    0.75|\n",
      "|    75%|                    0.88|\n",
      "|    max|      0.9982238010657194|\n",
      "+-------+------------------------+\n",
      "\n",
      "+-------+------------------------+\n",
      "|summary|cart_pct_of_total_events|\n",
      "+-------+------------------------+\n",
      "|  count|                  348356|\n",
      "|   mean|     0.17174205143184215|\n",
      "| stddev|      0.1188874406638842|\n",
      "|    min|                     0.0|\n",
      "|    25%|     0.07608695652173914|\n",
      "|    50%|     0.15384615384615385|\n",
      "|    75%|                    0.25|\n",
      "|    max|      0.9885057471264368|\n",
      "+-------+------------------------+\n",
      "\n",
      "+-------+-------------------------+\n",
      "|summary|avg_purchases_per_session|\n",
      "+-------+-------------------------+\n",
      "|  count|                   348356|\n",
      "|   mean|        0.532889051443683|\n",
      "| stddev|       0.4744193792607961|\n",
      "|    min|     0.003424657534246575|\n",
      "|    25%|                      0.2|\n",
      "|    50%|                      0.4|\n",
      "|    75%|                      1.0|\n",
      "|    max|                     14.0|\n",
      "+-------+-------------------------+\n",
      "\n",
      "+-------+------------------------+\n",
      "|summary|sd_purchases_per_session|\n",
      "+-------+------------------------+\n",
      "|  count|                  348356|\n",
      "|   mean|      0.4465078628840017|\n",
      "| stddev|     0.35599799532210424|\n",
      "|    min|                     0.0|\n",
      "|    25%|                    0.25|\n",
      "|    50%|      0.4472135954999579|\n",
      "|    75%|      0.5773502691896257|\n",
      "|    max|      10.344080432788601|\n",
      "+-------+------------------------+\n",
      "\n",
      "+-------+-----------------+\n",
      "|summary|      cart_events|\n",
      "+-------+-----------------+\n",
      "|  count|           348356|\n",
      "|   mean|4.506398626692234|\n",
      "| stddev|6.257764160206909|\n",
      "|    min|                0|\n",
      "|    25%|                1|\n",
      "|    50%|                3|\n",
      "|    75%|                5|\n",
      "|    max|              301|\n",
      "+-------+-----------------+\n",
      "\n",
      "+-------+-----------------+\n",
      "|summary|  purchase_events|\n",
      "+-------+-----------------+\n",
      "|  count|           348356|\n",
      "|   mean|2.093146091928946|\n",
      "| stddev| 2.98687381895718|\n",
      "|    min|                1|\n",
      "|    25%|                1|\n",
      "|    50%|                1|\n",
      "|    75%|                2|\n",
      "|    max|              161|\n",
      "+-------+-----------------+\n",
      "\n",
      "+-------+------------------+\n",
      "|summary|       view_events|\n",
      "+-------+------------------+\n",
      "|  count|            348356|\n",
      "|   mean|34.893293068010884|\n",
      "| stddev|59.999058460026546|\n",
      "|    min|                 0|\n",
      "|    25%|                 6|\n",
      "|    50%|                16|\n",
      "|    75%|                39|\n",
      "|    max|              2450|\n",
      "+-------+------------------+\n",
      "\n",
      "+-------+----------------------+\n",
      "|summary|sessions_with_purchase|\n",
      "+-------+----------------------+\n",
      "|  count|                348356|\n",
      "|   mean|     1.766503232325552|\n",
      "| stddev|    2.0284815686777384|\n",
      "|    min|                     1|\n",
      "|    25%|                     1|\n",
      "|    50%|                     1|\n",
      "|    75%|                     2|\n",
      "|    max|                   103|\n",
      "+-------+----------------------+\n",
      "\n",
      "+-------+------------------+\n",
      "|summary|sessions_with_cart|\n",
      "+-------+------------------+\n",
      "|  count|            348356|\n",
      "|   mean|2.5227698101941693|\n",
      "| stddev| 2.826379482343698|\n",
      "|    min|                 0|\n",
      "|    25%|                 1|\n",
      "|    50%|                 2|\n",
      "|    75%|                 3|\n",
      "|    max|               105|\n",
      "+-------+------------------+\n",
      "\n",
      "+-------+------------------+\n",
      "|summary|sessions_with_view|\n",
      "+-------+------------------+\n",
      "|  count|            348356|\n",
      "|   mean| 6.885390232980055|\n",
      "| stddev| 8.652058185756314|\n",
      "|    min|                 0|\n",
      "|    25%|                 2|\n",
      "|    50%|                 4|\n",
      "|    75%|                 9|\n",
      "|    max|               292|\n",
      "+-------+------------------+\n",
      "\n",
      "+-------+-------------------------+\n",
      "|summary|pct_sessions_end_purchase|\n",
      "+-------+-------------------------+\n",
      "|  count|                   348356|\n",
      "|   mean|      0.46036099997679814|\n",
      "| stddev|      0.33417199509048506|\n",
      "|    min|     0.003424657534246575|\n",
      "|    25%|      0.16666666666666666|\n",
      "|    50%|       0.3333333333333333|\n",
      "|    75%|       0.6666666666666666|\n",
      "|    max|                      1.0|\n",
      "+-------+-------------------------+\n",
      "\n",
      "+-------+---------------------+\n",
      "|summary|pct_sessions_end_cart|\n",
      "+-------+---------------------+\n",
      "|  count|               348356|\n",
      "|   mean|  0.09554233241772933|\n",
      "| stddev|   0.1534968498100656|\n",
      "|    min|                  0.0|\n",
      "|    25%|                  0.0|\n",
      "|    50%|                  0.0|\n",
      "|    75%|  0.16666666666666666|\n",
      "|    max|                  1.0|\n",
      "+-------+---------------------+\n",
      "\n",
      "+-------+--------------------+\n",
      "|summary|     total_spend_log|\n",
      "+-------+--------------------+\n",
      "|  count|              348356|\n",
      "|   mean|   5.782233046933498|\n",
      "| stddev|  1.5705036074612098|\n",
      "|    min|-0.22189431703121995|\n",
      "|    25%|   4.878862351005001|\n",
      "|    50%|    5.66390097181022|\n",
      "|    75%|  6.7442487715715895|\n",
      "|    max|  11.512219215197547|\n",
      "+-------+--------------------+\n",
      "\n",
      "+-------+--------------------+\n",
      "|summary|    total_events_log|\n",
      "+-------+--------------------+\n",
      "|  count|              348356|\n",
      "|   mean|   3.321631473214271|\n",
      "| stddev|  1.2932994611896698|\n",
      "|    min|9.995003330834232E-4|\n",
      "|    25%|  2.3979861777572986|\n",
      "|    50%|   3.218915824068222|\n",
      "|    75%|   4.127150513947278|\n",
      "|    max|   8.006367900983525|\n",
      "+-------+--------------------+\n",
      "\n",
      "+-------+--------------------+\n",
      "|summary| purchase_events_log|\n",
      "+-------+--------------------+\n",
      "|  count|              348356|\n",
      "|   mean|  0.4287143332528452|\n",
      "| stddev|  0.6517843533297876|\n",
      "|    min|9.995003330834232E-4|\n",
      "|    25%|9.995003330834232E-4|\n",
      "|    50%|9.995003330834232E-4|\n",
      "|    75%|  0.6936470556015963|\n",
      "|    max|   5.081410576145298|\n",
      "+-------+--------------------+\n",
      "\n",
      "+-------+--------------------+\n",
      "|summary|  total_sessions_log|\n",
      "+-------+--------------------+\n",
      "|  count|              348356|\n",
      "|   mean|  1.4465502625609157|\n",
      "| stddev|  0.9833452475387788|\n",
      "|    min|9.995003330834232E-4|\n",
      "|    25%|  0.6936470556015963|\n",
      "|    50%|  1.3865443298750981|\n",
      "|    75%|  2.1973356822749484|\n",
      "|    max|  5.6767572269199515|\n",
      "+-------+--------------------+\n",
      "\n",
      "+-------+-------------------+\n",
      "|summary|  T_total_spend_log|\n",
      "+-------+-------------------+\n",
      "|  count|             348356|\n",
      "|   mean|-2.8379397008496343|\n",
      "| stddev|    7.1253140659768|\n",
      "|    min| -6.907755278982137|\n",
      "|    25%| -6.907755278982137|\n",
      "|    50%| -6.907755278982137|\n",
      "|    75%| -6.907755278982137|\n",
      "|    max|   15.2746307502766|\n",
      "+-------+-------------------+\n",
      "\n",
      "CPU times: user 70.6 ms, sys: 27 ms, total: 97.6 ms\n",
      "Wall time: 15.5 s\n"
     ]
    }
   ],
   "source": [
    "%%time\n",
    "## Note: We have not yet determined our best predictors, but perhaps looking at these outputs will help us.\n",
    "for i in range(1,len(full.columns)):\n",
    "    j = full.columns[i]\n",
    "    full.select(j).summary().show()"
   ]
  },
  {
   "cell_type": "markdown",
   "metadata": {},
   "source": [
    "There are additional features that are not yet fully integrated in our engineered features. Here is our original dataset so we can do some basic summary of things like product_id, brand and individual price. \n",
    "\n",
    "Note that period is a feature that we added after filtering the data to easily keep track of which month a given row is from. This is the month 1 dataset, where all our predictors will come from. The month 2 dataset (not in this document) has been aggregated above to produce our response variable. "
   ]
  },
  {
   "cell_type": "code",
   "execution_count": 7,
   "metadata": {},
   "outputs": [],
   "source": [
    "m1 = spark.read.parquet('./processed_data/month_01_filtered.parquet')"
   ]
  },
  {
   "cell_type": "code",
   "execution_count": 8,
   "metadata": {},
   "outputs": [
    {
     "name": "stdout",
     "output_type": "stream",
     "text": [
      "root\n",
      " |-- user_id: integer (nullable = true)\n",
      " |-- event_time: timestamp (nullable = true)\n",
      " |-- event_type: string (nullable = true)\n",
      " |-- product_id: integer (nullable = true)\n",
      " |-- category_id: long (nullable = true)\n",
      " |-- category_code: string (nullable = true)\n",
      " |-- brand: string (nullable = true)\n",
      " |-- price: float (nullable = true)\n",
      " |-- user_session: string (nullable = true)\n",
      "\n"
     ]
    }
   ],
   "source": [
    "m1.printSchema()"
   ]
  },
  {
   "cell_type": "code",
   "execution_count": 9,
   "metadata": {},
   "outputs": [
    {
     "data": {
      "text/plain": [
       "9"
      ]
     },
     "execution_count": 9,
     "metadata": {},
     "output_type": "execute_result"
    }
   ],
   "source": [
    "# Number of columns\n",
    "len(m1.schema)"
   ]
  },
  {
   "cell_type": "code",
   "execution_count": 10,
   "metadata": {},
   "outputs": [
    {
     "data": {
      "text/plain": [
       "3"
      ]
     },
     "execution_count": 10,
     "metadata": {},
     "output_type": "execute_result"
    }
   ],
   "source": [
    "m1.select('event_type').distinct().count()"
   ]
  },
  {
   "cell_type": "code",
   "execution_count": 11,
   "metadata": {},
   "outputs": [
    {
     "name": "stdout",
     "output_type": "stream",
     "text": [
      "CPU times: user 1.59 ms, sys: 1.68 ms, total: 3.26 ms\n",
      "Wall time: 1.65 s\n"
     ]
    },
    {
     "data": {
      "text/plain": [
       "181283"
      ]
     },
     "execution_count": 11,
     "metadata": {},
     "output_type": "execute_result"
    }
   ],
   "source": [
    "%%time\n",
    "m1.select('product_id').distinct().count()\n",
    "# There are 181,283 different products. "
   ]
  },
  {
   "cell_type": "code",
   "execution_count": 12,
   "metadata": {},
   "outputs": [
    {
     "name": "stdout",
     "output_type": "stream",
     "text": [
      "CPU times: user 1.67 ms, sys: 1.63 ms, total: 3.3 ms\n",
      "Wall time: 1.45 s\n"
     ]
    },
    {
     "data": {
      "text/plain": [
       "136"
      ]
     },
     "execution_count": 12,
     "metadata": {},
     "output_type": "execute_result"
    }
   ],
   "source": [
    "%%time\n",
    "m1.select('category_code').distinct().count()\n",
    "# There are 136 different categories"
   ]
  },
  {
   "cell_type": "code",
   "execution_count": 13,
   "metadata": {},
   "outputs": [
    {
     "name": "stdout",
     "output_type": "stream",
     "text": [
      "CPU times: user 2.71 ms, sys: 633 µs, total: 3.34 ms\n",
      "Wall time: 1.11 s\n"
     ]
    },
    {
     "data": {
      "text/plain": [
       "4770"
      ]
     },
     "execution_count": 13,
     "metadata": {},
     "output_type": "execute_result"
    }
   ],
   "source": [
    "%%time\n",
    "m1.select('brand').distinct().count()\n",
    "# There are 4770 different brands"
   ]
  },
  {
   "cell_type": "code",
   "execution_count": 14,
   "metadata": {},
   "outputs": [
    {
     "name": "stdout",
     "output_type": "stream",
     "text": [
      "+-------+------------------+\n",
      "|summary|             price|\n",
      "+-------+------------------+\n",
      "|  count|          15923973|\n",
      "|   mean|272.81085540432696|\n",
      "| stddev| 334.8869399729826|\n",
      "|    min|               0.0|\n",
      "|    max|           2574.07|\n",
      "+-------+------------------+\n",
      "\n"
     ]
    }
   ],
   "source": [
    "m1.describe('price').show()"
   ]
  },
  {
   "cell_type": "code",
   "execution_count": 15,
   "metadata": {},
   "outputs": [
    {
     "name": "stdout",
     "output_type": "stream",
     "text": [
      "CPU times: user 1.42 ms, sys: 2.4 ms, total: 3.82 ms\n",
      "Wall time: 3.69 s\n"
     ]
    },
    {
     "data": {
      "text/plain": [
       "2697902"
      ]
     },
     "execution_count": 15,
     "metadata": {},
     "output_type": "execute_result"
    }
   ],
   "source": [
    "%%time\n",
    "m1.select('user_session').distinct().count()\n",
    "# There are 2697902 different user sessions"
   ]
  },
  {
   "cell_type": "markdown",
   "metadata": {},
   "source": [
    "### Visualization"
   ]
  },
  {
   "cell_type": "markdown",
   "metadata": {},
   "source": [
    "##### Response Variable: Spend in month 2"
   ]
  },
  {
   "cell_type": "code",
   "execution_count": 16,
   "metadata": {},
   "outputs": [
    {
     "data": {
      "image/png": "[encoded data removed]",
      "text/plain": [
       "<Figure size 640x480 with 1 Axes>"
      ]
     },
     "metadata": {},
     "output_type": "display_data"
    }
   ],
   "source": [
    "response = full.select('T_total_spend').toPandas()['T_total_spend']\n",
    "plt.boxplot(response)\n",
    "plt.show()"
   ]
  },
  {
   "cell_type": "markdown",
   "metadata": {},
   "source": [
    "That's essentially useless, we're obviously going to have to do some transformation on our response and remove outliers, but here's a histogram:"
   ]
  },
  {
   "cell_type": "code",
   "execution_count": 17,
   "metadata": {},
   "outputs": [
    {
     "data": {
      "image/png": "[encoded data removed]",
      "text/plain": [
       "<Figure size 640x480 with 1 Axes>"
      ]
     },
     "metadata": {},
     "output_type": "display_data"
    }
   ],
   "source": [
    "plt.hist(response)\n",
    "plt.show()"
   ]
  },
  {
   "cell_type": "markdown",
   "metadata": {},
   "source": [
    "What does it look like log-transformed? That might be more useful. "
   ]
  },
  {
   "cell_type": "code",
   "execution_count": 18,
   "metadata": {},
   "outputs": [
    {
     "data": {
      "image/png": "[encoded data removed]",
      "text/plain": [
       "<Figure size 640x480 with 1 Axes>"
      ]
     },
     "metadata": {},
     "output_type": "display_data"
    }
   ],
   "source": [
    "response = full.select('T_total_spend_log').toPandas()['T_total_spend_log']\n",
    "plt.hist(response)\n",
    "plt.show()"
   ]
  },
  {
   "cell_type": "code",
   "execution_count": null,
   "metadata": {},
   "outputs": [],
   "source": []
  },
  {
   "cell_type": "markdown",
   "metadata": {},
   "source": [
    "### Just to get an idea of how common purchases are..."
   ]
  },
  {
   "cell_type": "code",
   "execution_count": 19,
   "metadata": {},
   "outputs": [
    {
     "data": {
      "image/png": "[encoded data removed]",
      "text/plain": [
       "<Figure size 640x480 with 1 Axes>"
      ]
     },
     "metadata": {},
     "output_type": "display_data"
    }
   ],
   "source": [
    "events = m1.groupBy('event_type').count()\n",
    "x = events.select('event_type').toPandas()['event_type']\n",
    "y = events.select('count').toPandas()['count']\n",
    "\n",
    "plt.bar(x, y)\n",
    "plt.title(\"Count Of Event Type (Total)\")\n",
    "plt.xlabel(\"Event Type\")\n",
    "plt.ylabel(\"Count\")\n",
    "\n",
    "\n",
    "plt.show()"
   ]
  },
  {
   "cell_type": "markdown",
   "metadata": {},
   "source": [
    "#### To get an idea of the variation in behavior...standard deviation of interactions per session"
   ]
  },
  {
   "cell_type": "code",
   "execution_count": 20,
   "metadata": {},
   "outputs": [
    {
     "data": {
      "image/png": "[encoded data removed]",
      "text/plain": [
       "<Figure size 640x480 with 1 Axes>"
      ]
     },
     "metadata": {},
     "output_type": "display_data"
    }
   ],
   "source": [
    "response = full.select('sd_interactions_per_session').toPandas()['sd_interactions_per_session']\n",
    "plt.hist(response)\n",
    "plt.show()"
   ]
  },
  {
   "cell_type": "markdown",
   "metadata": {},
   "source": [
    "#### Average Purchases Per Session"
   ]
  },
  {
   "cell_type": "code",
   "execution_count": 21,
   "metadata": {},
   "outputs": [
    {
     "data": {
      "image/png": "[encoded data removed]",
      "text/plain": [
       "<Figure size 640x480 with 1 Axes>"
      ]
     },
     "metadata": {},
     "output_type": "display_data"
    }
   ],
   "source": [
    "response = full.select('avg_purchases_per_session').toPandas()['avg_purchases_per_session']\n",
    "plt.violinplot(response)\n",
    "plt.show()\n"
   ]
  },
  {
   "cell_type": "code",
   "execution_count": null,
   "metadata": {},
   "outputs": [],
   "source": []
  },
  {
   "cell_type": "code",
   "execution_count": null,
   "metadata": {},
   "outputs": [],
   "source": []
  },
  {
   "cell_type": "code",
   "execution_count": null,
   "metadata": {},
   "outputs": [],
   "source": []
  }
 ],
 "metadata": {
  "kernelspec": {
   "display_name": "DS 5110 Spark 3.1",
   "language": "python",
   "name": "ds5110_spark3.1"
  },
  "language_info": {
   "codemirror_mode": {
    "name": "ipython",
    "version": 3
   },
   "file_extension": ".py",
   "mimetype": "text/x-python",
   "name": "python",
   "nbconvert_exporter": "python",
   "pygments_lexer": "ipython3",
   "version": "3.7.10"
  }
 },
 "nbformat": 4,
 "nbformat_minor": 4
}
