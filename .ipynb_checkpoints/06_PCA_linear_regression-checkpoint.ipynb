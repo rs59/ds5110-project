{
 "cells": [
  {
   "cell_type": "markdown",
   "metadata": {},
   "source": [
    "### File 06 - PCA Linear Regression"
   ]
  },
  {
   "cell_type": "markdown",
   "metadata": {},
   "source": [
    "In this file, we create a small ML pipeline based on the output from File 02 (Feature creation).\n",
    "\n",
    "We create a linear regression model, but this time use PCA features that were created in file 02. We compare k-values. "
   ]
  },
  {
   "cell_type": "code",
   "execution_count": 1,
   "metadata": {},
   "outputs": [
    {
     "name": "stdout",
     "output_type": "stream",
     "text": [
      "CPU times: user 504 ms, sys: 415 ms, total: 919 ms\n",
      "Wall time: 5.75 s\n"
     ]
    }
   ],
   "source": [
    "%%time\n",
    "from pyspark.sql import SparkSession\n",
    "from pyspark.sql import types as T\n",
    "from pyspark.ml import Pipeline\n",
    "from pyspark.ml.feature import VectorAssembler\n",
    "from pyspark.ml.regression import LinearRegression, LinearRegressionModel, LinearRegressionSummary\n",
    "from pyspark.ml.evaluation import RegressionEvaluator\n",
    "from pyspark.ml.tuning import ParamGridBuilder, CrossValidator\n",
    "from pyspark.sql.functions import col\n",
    "from pyspark.sql.functions import log\n",
    "from pyspark.ml.stat import Correlation\n",
    "\n",
    "import pandas as pd\n",
    "import numpy as np\n",
    "import copy\n",
    "\n",
    "spark = SparkSession.builder \\\n",
    "        .appName(\"project\") \\\n",
    "        .getOrCreate()\n",
    "\n",
    "sc = spark.sparkContext"
   ]
  },
  {
   "cell_type": "markdown",
   "metadata": {},
   "source": [
    "### Read in dataframes for train and test sets\n",
    "\n",
    "This data should have been previously generated: we can find it in the `processed_data` folder."
   ]
  },
  {
   "cell_type": "code",
   "execution_count": 2,
   "metadata": {},
   "outputs": [
    {
     "name": "stdout",
     "output_type": "stream",
     "text": [
      "CPU times: user 1.49 ms, sys: 3.58 ms, total: 5.06 ms\n",
      "Wall time: 3.34 s\n"
     ]
    }
   ],
   "source": [
    "%%time\n",
    "trainDF = spark.read.parquet(\"./processed_data/train.parquet\")\n",
    "testDF = spark.read.parquet(\"./processed_data/test.parquet\")\n",
    "# trainDF.show(5)"
   ]
  },
  {
   "cell_type": "markdown",
   "metadata": {},
   "source": [
    "### Set up Spark ML pipeline training for linear regression\n",
    "\n",
    "Here we decide which input columns should be used in order to create our training pipeline. To implement this step, we create the function `generatePipeline(inputCols, outputCol)`. Then, we train the pipeline using this function."
   ]
  },
  {
   "cell_type": "code",
   "execution_count": 3,
   "metadata": {},
   "outputs": [
    {
     "name": "stdout",
     "output_type": "stream",
     "text": [
      "CPU times: user 13.7 ms, sys: 5.73 ms, total: 19.4 ms\n",
      "Wall time: 4.66 s\n"
     ]
    }
   ],
   "source": [
    "%%time\n",
    "\n",
    "inputCols = [\"total_spend\",\"total_events\",\"purchase_events\",\"total_sessions\"]\n",
    "\n",
    "def generatePipeline(inputCols, outputCol):\n",
    "    # Select input columns for linear regression\n",
    "    vecAssembler = VectorAssembler(inputCols=inputCols, outputCol=\"features\")\n",
    "\n",
    "    # Select output column for linear regression\n",
    "    lr = LinearRegression(featuresCol=\"features\", labelCol=outputCol)\n",
    "\n",
    "    # The following lines (pipeline creation and fitting) replace these two commented-out lines.\n",
    "    # vecTrainDF = vecAssembler.transform(trainDF)\n",
    " \n",
    "    pipeline = Pipeline(stages=[vecAssembler, lr])\n",
    "    return pipeline\n",
    "    \n",
    "pipeline = generatePipeline(inputCols, \"T_total_spend\")\n",
    "pipelineModel = pipeline.fit(trainDF)\n",
    "\n"
   ]
  },
  {
   "cell_type": "markdown",
   "metadata": {},
   "source": [
    "### View the model information\n",
    "\n",
    "Print out the model coefficients and view the pValues, RMSE and R^2. We define the functions `modelInfo(inputCols, pipelineModel)` and `getEvaluationMetrics(pipelineModel,outputCol,testDF)` to report this information."
   ]
  },
  {
   "cell_type": "code",
   "execution_count": 4,
   "metadata": {},
   "outputs": [],
   "source": [
    "def modelInfo(inputCols, pipelineModel):\n",
    "    # Create a zipped list containing the coefficients and the data\n",
    "    modelCols = copy.deepcopy(inputCols)\n",
    "    modelCoeffs = list(pipelineModel.stages[-1].coefficients)\n",
    "    modelCoeffs.insert(0,pipelineModel.stages[-1].intercept)\n",
    "    modelCols.insert(0,\"intercept\")\n",
    "    modelZippedList = list(map(list, zip(modelCols, modelCoeffs)))\n",
    "    \n",
    "    # p-values don't work with PCA\n",
    "    #pvals = pipelineModel.stages[-1].summary.pValues\n",
    "    \n",
    "    # Create the pandas DataFrame\n",
    "    modelDF = pd.DataFrame(modelZippedList, columns = ['Column name', 'Coefficient'])\n",
    "    # modelDF['pValues'] = pvals\n",
    "    return modelDF\n"
   ]
  },
  {
   "cell_type": "code",
   "execution_count": 5,
   "metadata": {},
   "outputs": [],
   "source": [
    "# Calculate adjusted r2 (https://towardsdatascience.com/machine-learning-linear-regression-using-pyspark-9d5d5c772b42)\n",
    "# This function will allow us to calculate the adjusted r-square value when we do PCA later. The default r-square function does not take into account k. \n",
    "def adj_r2(r2, inputCols, testDF, k = 0):\n",
    "    n = testDF.count()\n",
    "    if k == 0:\n",
    "        p = len(inputCols)\n",
    "    else: \n",
    "        p = len(inputCols) + k - 1\n",
    "    \n",
    "    adjusted_r2 = 1-(((1-r2)*(n-1))/(n-p-1))\n",
    "    return adjusted_r2"
   ]
  },
  {
   "cell_type": "code",
   "execution_count": 6,
   "metadata": {},
   "outputs": [],
   "source": [
    "def getEvaluationMetrics(pipelineModel,outputCol,testDF,inputCols,k):\n",
    "    predDF = pipelineModel.transform(testDF)\n",
    "    predDF.select(outputCol, \"prediction\").show(10)\n",
    "    \n",
    "    print(predDF)\n",
    "    \n",
    "    regressionEvaluator = RegressionEvaluator(\n",
    "    predictionCol=\"prediction\",\n",
    "    labelCol=outputCol,\n",
    "    metricName=\"rmse\")\n",
    "    rmse = regressionEvaluator.evaluate(predDF)\n",
    "\n",
    "    regressionEvaluator = RegressionEvaluator(\n",
    "    predictionCol=\"prediction\",\n",
    "    labelCol=outputCol,\n",
    "    metricName=\"r2\")\n",
    "    r2 = regressionEvaluator.evaluate(predDF)\n",
    "      \n",
    "    # Manually calculate Adjusted r2\n",
    "    adjusted_r2 = adj_r2(r2, inputCols, testDF, k)\n",
    "    \n",
    "    return rmse, r2, adjusted_r2\n"
   ]
  },
  {
   "cell_type": "code",
   "execution_count": null,
   "metadata": {},
   "outputs": [],
   "source": []
  },
  {
   "cell_type": "markdown",
   "metadata": {},
   "source": [
    "### PCA\n",
    "First, we'll see how each PCA variant performs on its own. We've created four variations with different k values: 10, 20, 50, and 100. Our PCA represents the categories of purchases that customers made in month one. "
   ]
  },
  {
   "cell_type": "code",
   "execution_count": 7,
   "metadata": {},
   "outputs": [
    {
     "name": "stdout",
     "output_type": "stream",
     "text": [
      "** PCA 10 **\n",
      "Model coefficients\n",
      "       Column name  Coefficient\n",
      "0        intercept  4249.783142\n",
      "1  pca_purchases10 -6018.619738\n",
      "+-----------------+------------------+\n",
      "|    T_total_spend|        prediction|\n",
      "+-----------------+------------------+\n",
      "|              0.0|16222.022803958636|\n",
      "|              0.0|14165.292918462947|\n",
      "|              0.0| 7054.707380808632|\n",
      "|              0.0| 4261.523596944663|\n",
      "|              0.0| 4443.930340058431|\n",
      "|              0.0|4843.5200384033615|\n",
      "|              0.0|14165.292918462947|\n",
      "|              0.0| 9207.538030410084|\n",
      "|79118.00024795532|139349.27246711947|\n",
      "|663.1999969482422|10506.865630229699|\n",
      "+-----------------+------------------+\n",
      "only showing top 10 rows\n",
      "\n",
      "DataFrame[user_id: int, T_total_spend: double, total_spend: double, total_events: bigint, total_sessions: bigint, avg_session_length: double, sd_session_length: double, avg_interactions_per_session: double, sd_interactions_per_session: double, max_interactions_per_session: bigint, purchase_pct_of_total_events: double, view_pct_of_total_events: double, cart_pct_of_total_events: double, avg_purchases_per_session: double, sd_purchases_per_session: double, cart_events: bigint, purchase_events: bigint, view_events: bigint, sessions_with_purchase: bigint, sessions_with_cart: bigint, sessions_with_view: bigint, pct_sessions_end_purchase: double, pct_sessions_end_cart: double, total_spend_log: double, total_events_log: double, purchase_events_log: double, total_sessions_log: double, T_total_spend_log: double, pca_purchases10: vector, pca_purchases20: vector, pca_purchases50: vector, pca_purchases100: vector, features: vector, prediction: double]\n",
      "RMSE is 68180.7\n",
      "R^2 is 0.05171\n",
      "Adjusted R^2 is 0.05158\n"
     ]
    }
   ],
   "source": [
    "print(\"** PCA 10 **\")\n",
    "inputCols = [\"pca_purchases10\"]\n",
    "\n",
    "# sd_session_length breaks it, as does sd_interactions_per_session, sd_purchases_per_session\n",
    "outputCol = \"T_total_spend\"\n",
    "\n",
    "pipeline = generatePipeline(inputCols, outputCol)\n",
    "pipelineModel = pipeline.fit(trainDF)\n",
    "    \n",
    "print(\"Model coefficients\")\n",
    "print(modelInfo(inputCols, pipelineModel))\n",
    "\n",
    "evaluationMetrics = getEvaluationMetrics(pipelineModel,outputCol,testDF, inputCols, 10)\n",
    "print(f\"RMSE is {evaluationMetrics[0]:.1f}\")\n",
    "print(f\"R^2 is {evaluationMetrics[1]:.5f}\")\n",
    "print(f\"Adjusted R^2 is {evaluationMetrics[2]:.5f}\")"
   ]
  },
  {
   "cell_type": "code",
   "execution_count": 8,
   "metadata": {},
   "outputs": [
    {
     "name": "stdout",
     "output_type": "stream",
     "text": [
      "** PCA 20 **\n",
      "Model coefficients\n",
      "       Column name  Coefficient\n",
      "0        intercept  3302.769792\n",
      "1  pca_purchases20 -6090.548809\n",
      "+-----------------+------------------+\n",
      "|    T_total_spend|        prediction|\n",
      "+-----------------+------------------+\n",
      "|              0.0|14924.016233146831|\n",
      "|              0.0|13261.655393385969|\n",
      "|              0.0|25212.340462443914|\n",
      "|              0.0| 3423.800684836333|\n",
      "|              0.0|3529.2899271059546|\n",
      "|              0.0| 4945.947730154665|\n",
      "|              0.0|13261.655393385969|\n",
      "|              0.0| 8282.212592473055|\n",
      "|79118.00024795532|133486.25812927008|\n",
      "|663.1999969482422| 9460.859597112536|\n",
      "+-----------------+------------------+\n",
      "only showing top 10 rows\n",
      "\n",
      "DataFrame[user_id: int, T_total_spend: double, total_spend: double, total_events: bigint, total_sessions: bigint, avg_session_length: double, sd_session_length: double, avg_interactions_per_session: double, sd_interactions_per_session: double, max_interactions_per_session: bigint, purchase_pct_of_total_events: double, view_pct_of_total_events: double, cart_pct_of_total_events: double, avg_purchases_per_session: double, sd_purchases_per_session: double, cart_events: bigint, purchase_events: bigint, view_events: bigint, sessions_with_purchase: bigint, sessions_with_cart: bigint, sessions_with_view: bigint, pct_sessions_end_purchase: double, pct_sessions_end_cart: double, total_spend_log: double, total_events_log: double, purchase_events_log: double, total_sessions_log: double, T_total_spend_log: double, pca_purchases10: vector, pca_purchases20: vector, pca_purchases50: vector, pca_purchases100: vector, features: vector, prediction: double]\n",
      "RMSE is 67996.7\n",
      "R^2 is 0.05683\n",
      "Adjusted R^2 is 0.05655\n"
     ]
    }
   ],
   "source": [
    "print(\"** PCA 20 **\")\n",
    "inputCols = [\"pca_purchases20\"]\n",
    "\n",
    "# sd_session_length breaks it, as does sd_interactions_per_session, sd_purchases_per_session\n",
    "outputCol = \"T_total_spend\"\n",
    "\n",
    "pipeline = generatePipeline(inputCols, outputCol)\n",
    "pipelineModel = pipeline.fit(trainDF)\n",
    "    \n",
    "print(\"Model coefficients\")\n",
    "print(modelInfo(inputCols, pipelineModel))\n",
    "\n",
    "evaluationMetrics = getEvaluationMetrics(pipelineModel,outputCol,testDF, inputCols, 20)\n",
    "print(f\"RMSE is {evaluationMetrics[0]:.1f}\")\n",
    "print(f\"R^2 is {evaluationMetrics[1]:.5f}\")\n",
    "print(f\"Adjusted R^2 is {evaluationMetrics[2]:.5f}\")"
   ]
  },
  {
   "cell_type": "code",
   "execution_count": 9,
   "metadata": {},
   "outputs": [
    {
     "name": "stdout",
     "output_type": "stream",
     "text": [
      "** PCA 50 **\n",
      "Model coefficients\n",
      "       Column name  Coefficient\n",
      "0        intercept  2243.838346\n",
      "1  pca_purchases50 -6164.415169\n",
      "+-----------------+------------------+\n",
      "|    T_total_spend|        prediction|\n",
      "+-----------------+------------------+\n",
      "|              0.0| 12467.35327157172|\n",
      "|              0.0| 12296.52457444936|\n",
      "|              0.0|20367.420154728115|\n",
      "|              0.0|2645.8068345480833|\n",
      "|              0.0|3691.1328516170292|\n",
      "|              0.0| 16615.53500024911|\n",
      "|              0.0| 12296.52457444936|\n",
      "|              0.0| 7270.181460086474|\n",
      "|79118.00024795532|123987.13502881095|\n",
      "|663.1999969482422| 8260.856816430161|\n",
      "+-----------------+------------------+\n",
      "only showing top 10 rows\n",
      "\n",
      "DataFrame[user_id: int, T_total_spend: double, total_spend: double, total_events: bigint, total_sessions: bigint, avg_session_length: double, sd_session_length: double, avg_interactions_per_session: double, sd_interactions_per_session: double, max_interactions_per_session: bigint, purchase_pct_of_total_events: double, view_pct_of_total_events: double, cart_pct_of_total_events: double, avg_purchases_per_session: double, sd_purchases_per_session: double, cart_events: bigint, purchase_events: bigint, view_events: bigint, sessions_with_purchase: bigint, sessions_with_cart: bigint, sessions_with_view: bigint, pct_sessions_end_purchase: double, pct_sessions_end_cart: double, total_spend_log: double, total_events_log: double, purchase_events_log: double, total_sessions_log: double, T_total_spend_log: double, pca_purchases10: vector, pca_purchases20: vector, pca_purchases50: vector, pca_purchases100: vector, features: vector, prediction: double]\n",
      "RMSE is 67838.8\n",
      "R^2 is 0.06120\n",
      "Adjusted R^2 is 0.06052\n"
     ]
    }
   ],
   "source": [
    "print(\"** PCA 50 **\")\n",
    "inputCols = [\"pca_purchases50\"]\n",
    "\n",
    "# sd_session_length breaks it, as does sd_interactions_per_session, sd_purchases_per_session\n",
    "outputCol = \"T_total_spend\"\n",
    "\n",
    "pipeline = generatePipeline(inputCols, outputCol)\n",
    "pipelineModel = pipeline.fit(trainDF)\n",
    "    \n",
    "print(\"Model coefficients\")\n",
    "print(modelInfo(inputCols, pipelineModel))\n",
    "\n",
    "evaluationMetrics = getEvaluationMetrics(pipelineModel,outputCol,testDF, inputCols, 50)\n",
    "print(f\"RMSE is {evaluationMetrics[0]:.1f}\")\n",
    "print(f\"R^2 is {evaluationMetrics[1]:.5f}\")\n",
    "print(f\"Adjusted R^2 is {evaluationMetrics[2]:.5f}\")"
   ]
  },
  {
   "cell_type": "code",
   "execution_count": 10,
   "metadata": {},
   "outputs": [
    {
     "name": "stdout",
     "output_type": "stream",
     "text": [
      "** PCA 100 **\n",
      "Model coefficients\n",
      "        Column name  Coefficient\n",
      "0         intercept  1687.288407\n",
      "1  pca_purchases100 -6209.014438\n",
      "+-----------------+------------------+\n",
      "|    T_total_spend|        prediction|\n",
      "+-----------------+------------------+\n",
      "|              0.0| 11876.49285967455|\n",
      "|              0.0|11847.232049525555|\n",
      "|              0.0|23495.729228865268|\n",
      "|              0.0| 18688.53330831621|\n",
      "|              0.0| 15815.21653862747|\n",
      "|              0.0|14739.728192962637|\n",
      "|              0.0|11847.232049525555|\n",
      "|              0.0| 6767.260228149837|\n",
      "|79118.00024795532| 123238.8723546263|\n",
      "|663.1999969482422|7709.3533120768025|\n",
      "+-----------------+------------------+\n",
      "only showing top 10 rows\n",
      "\n",
      "DataFrame[user_id: int, T_total_spend: double, total_spend: double, total_events: bigint, total_sessions: bigint, avg_session_length: double, sd_session_length: double, avg_interactions_per_session: double, sd_interactions_per_session: double, max_interactions_per_session: bigint, purchase_pct_of_total_events: double, view_pct_of_total_events: double, cart_pct_of_total_events: double, avg_purchases_per_session: double, sd_purchases_per_session: double, cart_events: bigint, purchase_events: bigint, view_events: bigint, sessions_with_purchase: bigint, sessions_with_cart: bigint, sessions_with_view: bigint, pct_sessions_end_purchase: double, pct_sessions_end_cart: double, total_spend_log: double, total_events_log: double, purchase_events_log: double, total_sessions_log: double, T_total_spend_log: double, pca_purchases10: vector, pca_purchases20: vector, pca_purchases50: vector, pca_purchases100: vector, features: vector, prediction: double]\n",
      "RMSE is 67782.8\n",
      "R^2 is 0.06275\n",
      "Adjusted R^2 is 0.06140\n"
     ]
    }
   ],
   "source": [
    "print(\"** PCA 100 **\")\n",
    "inputCols = [\"pca_purchases100\"]\n",
    "\n",
    "# sd_session_length breaks it, as does sd_interactions_per_session, sd_purchases_per_session\n",
    "outputCol = \"T_total_spend\"\n",
    "\n",
    "pipeline = generatePipeline(inputCols, outputCol)\n",
    "pipelineModel = pipeline.fit(trainDF)\n",
    "    \n",
    "print(\"Model coefficients\")\n",
    "print(modelInfo(inputCols, pipelineModel))\n",
    "\n",
    "evaluationMetrics = getEvaluationMetrics(pipelineModel,outputCol,testDF, inputCols, 100)\n",
    "print(f\"RMSE is {evaluationMetrics[0]:.1f}\")\n",
    "print(f\"R^2 is {evaluationMetrics[1]:.5f}\")\n",
    "print(f\"Adjusted R^2 is {evaluationMetrics[2]:.5f}\")"
   ]
  },
  {
   "cell_type": "markdown",
   "metadata": {},
   "source": [
    "#### The adjusted r-square is highest for the PCA with the highest k value, 100. However, all of them are very close - a very small sacrafice in performance helps with a great reduction in dimensionality. "
   ]
  },
  {
   "cell_type": "code",
   "execution_count": 11,
   "metadata": {},
   "outputs": [
    {
     "name": "stdout",
     "output_type": "stream",
     "text": [
      "** PCA 10 + all other features **\n",
      "Model coefficients\n",
      "                     Column name   Coefficient\n",
      "0                      intercept  63423.298618\n",
      "1                    total_spend      3.972754\n",
      "2                   total_events    221.079053\n",
      "3                 total_sessions   1453.161990\n",
      "4             avg_session_length     -0.103075\n",
      "5   avg_interactions_per_session   -242.107532\n",
      "6   max_interactions_per_session     88.161212\n",
      "7   purchase_pct_of_total_events -61019.196518\n",
      "8       view_pct_of_total_events -48319.275145\n",
      "9       cart_pct_of_total_events -56517.727969\n",
      "10     avg_purchases_per_session  -4470.158508\n",
      "11                   cart_events    -33.960747\n",
      "12               purchase_events  -2188.408853\n",
      "13                   view_events   -195.934449\n",
      "14        sessions_with_purchase  -2118.196622\n",
      "15            sessions_with_cart    772.924790\n",
      "16            sessions_with_view  -1132.466683\n",
      "17     pct_sessions_end_purchase -14325.948417\n",
      "18         pct_sessions_end_cart  -3588.031521\n",
      "19             sd_session_length      0.052958\n",
      "20   sd_interactions_per_session    -79.824570\n",
      "21      sd_purchases_per_session  -6158.440491\n",
      "22               total_spend_log   1482.746399\n",
      "23              total_events_log   1187.323917\n",
      "24           purchase_events_log   8097.749181\n",
      "25            total_sessions_log  -9847.995486\n",
      "26               pca_purchases10    -60.596930\n",
      "+-----------------+-------------------+\n",
      "|    T_total_spend|         prediction|\n",
      "+-----------------+-------------------+\n",
      "|              0.0|  8455.423145556735|\n",
      "|              0.0|  4571.289721261106|\n",
      "|              0.0|  4647.635491366709|\n",
      "|              0.0|-2667.2803858645275|\n",
      "|              0.0| -510.0537288427149|\n",
      "|              0.0|-3430.0766648940553|\n",
      "|              0.0| 2052.9924677358504|\n",
      "|              0.0|  8597.279736754419|\n",
      "|79118.00024795532| 142668.66435226068|\n",
      "|663.1999969482422|  8483.371174784479|\n",
      "+-----------------+-------------------+\n",
      "only showing top 10 rows\n",
      "\n",
      "DataFrame[user_id: int, T_total_spend: double, total_spend: double, total_events: bigint, total_sessions: bigint, avg_session_length: double, sd_session_length: double, avg_interactions_per_session: double, sd_interactions_per_session: double, max_interactions_per_session: bigint, purchase_pct_of_total_events: double, view_pct_of_total_events: double, cart_pct_of_total_events: double, avg_purchases_per_session: double, sd_purchases_per_session: double, cart_events: bigint, purchase_events: bigint, view_events: bigint, sessions_with_purchase: bigint, sessions_with_cart: bigint, sessions_with_view: bigint, pct_sessions_end_purchase: double, pct_sessions_end_cart: double, total_spend_log: double, total_events_log: double, purchase_events_log: double, total_sessions_log: double, T_total_spend_log: double, pca_purchases10: vector, pca_purchases20: vector, pca_purchases50: vector, pca_purchases100: vector, features: vector, prediction: double]\n",
      "RMSE is 43402.5\n",
      "R^2 is 0.61572\n",
      "Adjusted R^2 is 0.61553\n"
     ]
    }
   ],
   "source": [
    "print(\"** PCA 10 + all other features **\")\n",
    "inputCols = [\"total_spend\",\"total_events\", \"total_sessions\", \"avg_session_length\", \"avg_interactions_per_session\", \"max_interactions_per_session\",\n",
    "             \"purchase_pct_of_total_events\", \"view_pct_of_total_events\", \"cart_pct_of_total_events\",\"avg_purchases_per_session\", \"cart_events\", \"purchase_events\",\n",
    "             \"view_events\", \"sessions_with_purchase\", \"sessions_with_cart\",\"sessions_with_view\", \"pct_sessions_end_purchase\", \"pct_sessions_end_cart\", 'sd_session_length', \n",
    "             'sd_interactions_per_session', 'sd_purchases_per_session', \"total_spend_log\", \"total_events_log\", \"purchase_events_log\", \"total_sessions_log\",\n",
    "            'pca_purchases10']\n",
    "\n",
    "# sd_session_length breaks it, as does sd_interactions_per_session, sd_purchases_per_session\n",
    "outputCol = \"T_total_spend\"\n",
    "\n",
    "pipeline = generatePipeline(inputCols, outputCol)\n",
    "pipelineModel = pipeline.fit(trainDF)\n",
    "    \n",
    "print(\"Model coefficients\")\n",
    "print(modelInfo(inputCols, pipelineModel))\n",
    "\n",
    "evaluationMetrics = getEvaluationMetrics(pipelineModel,outputCol,testDF, inputCols, 10)\n",
    "print(f\"RMSE is {evaluationMetrics[0]:.1f}\")\n",
    "print(f\"R^2 is {evaluationMetrics[1]:.5f}\")\n",
    "print(f\"Adjusted R^2 is {evaluationMetrics[2]:.5f}\")"
   ]
  },
  {
   "cell_type": "code",
   "execution_count": 12,
   "metadata": {},
   "outputs": [
    {
     "name": "stdout",
     "output_type": "stream",
     "text": [
      "** PCA 20 + all other features **\n",
      "Model coefficients\n",
      "                     Column name   Coefficient\n",
      "0                      intercept  64070.428142\n",
      "1                    total_spend      3.971888\n",
      "2                   total_events    221.183961\n",
      "3                 total_sessions   1467.302454\n",
      "4             avg_session_length     -0.101948\n",
      "5   avg_interactions_per_session   -242.848078\n",
      "6   max_interactions_per_session     87.440270\n",
      "7   purchase_pct_of_total_events -61456.848064\n",
      "8       view_pct_of_total_events -48755.388167\n",
      "9       cart_pct_of_total_events -56867.865279\n",
      "10     avg_purchases_per_session  -4522.307171\n",
      "11                   cart_events    -36.308621\n",
      "12               purchase_events  -2164.340779\n",
      "13                   view_events   -195.819222\n",
      "14        sessions_with_purchase  -2147.008530\n",
      "15            sessions_with_cart    775.241793\n",
      "16            sessions_with_view  -1143.978272\n",
      "17     pct_sessions_end_purchase -14468.809940\n",
      "18         pct_sessions_end_cart  -3614.575561\n",
      "19             sd_session_length      0.052726\n",
      "20   sd_interactions_per_session    -80.042449\n",
      "21      sd_purchases_per_session  -6224.093103\n",
      "22               total_spend_log   1473.969548\n",
      "23              total_events_log   1188.535639\n",
      "24           purchase_events_log   8148.932636\n",
      "25            total_sessions_log  -9921.675776\n",
      "26               pca_purchases20    -59.786701\n",
      "+-----------------+-------------------+\n",
      "|    T_total_spend|         prediction|\n",
      "+-----------------+-------------------+\n",
      "|              0.0|  8429.322499535956|\n",
      "|              0.0|  4545.065206077998|\n",
      "|              0.0|  8356.533039606395|\n",
      "|              0.0|-2686.1354462386444|\n",
      "|              0.0| -515.1961910317477|\n",
      "|              0.0| -3519.082608965451|\n",
      "|              0.0|  2020.293075525573|\n",
      "|              0.0|  8564.288939307182|\n",
      "|79118.00024795532| 152442.00100672513|\n",
      "|663.1999969482422|  8475.602352993927|\n",
      "+-----------------+-------------------+\n",
      "only showing top 10 rows\n",
      "\n",
      "DataFrame[user_id: int, T_total_spend: double, total_spend: double, total_events: bigint, total_sessions: bigint, avg_session_length: double, sd_session_length: double, avg_interactions_per_session: double, sd_interactions_per_session: double, max_interactions_per_session: bigint, purchase_pct_of_total_events: double, view_pct_of_total_events: double, cart_pct_of_total_events: double, avg_purchases_per_session: double, sd_purchases_per_session: double, cart_events: bigint, purchase_events: bigint, view_events: bigint, sessions_with_purchase: bigint, sessions_with_cart: bigint, sessions_with_view: bigint, pct_sessions_end_purchase: double, pct_sessions_end_cart: double, total_spend_log: double, total_events_log: double, purchase_events_log: double, total_sessions_log: double, T_total_spend_log: double, pca_purchases10: vector, pca_purchases20: vector, pca_purchases50: vector, pca_purchases100: vector, features: vector, prediction: double]\n",
      "RMSE is 43405.3\n",
      "R^2 is 0.61567\n",
      "Adjusted R^2 is 0.61542\n"
     ]
    }
   ],
   "source": [
    "print(\"** PCA 20 + all other features **\")\n",
    "inputCols = [\"total_spend\",\"total_events\", \"total_sessions\", \"avg_session_length\", \"avg_interactions_per_session\", \"max_interactions_per_session\",\n",
    "             \"purchase_pct_of_total_events\", \"view_pct_of_total_events\", \"cart_pct_of_total_events\",\"avg_purchases_per_session\", \"cart_events\", \"purchase_events\",\n",
    "             \"view_events\", \"sessions_with_purchase\", \"sessions_with_cart\",\"sessions_with_view\", \"pct_sessions_end_purchase\", \"pct_sessions_end_cart\", 'sd_session_length', \n",
    "             'sd_interactions_per_session', 'sd_purchases_per_session', \"total_spend_log\", \"total_events_log\", \"purchase_events_log\", \"total_sessions_log\",\n",
    "            'pca_purchases20']\n",
    "\n",
    "# sd_session_length breaks it, as does sd_interactions_per_session, sd_purchases_per_session\n",
    "outputCol = \"T_total_spend\"\n",
    "\n",
    "pipeline = generatePipeline(inputCols, outputCol)\n",
    "pipelineModel = pipeline.fit(trainDF)\n",
    "    \n",
    "print(\"Model coefficients\")\n",
    "print(modelInfo(inputCols, pipelineModel))\n",
    "\n",
    "evaluationMetrics = getEvaluationMetrics(pipelineModel,outputCol,testDF, inputCols, 20)\n",
    "print(f\"RMSE is {evaluationMetrics[0]:.1f}\")\n",
    "print(f\"R^2 is {evaluationMetrics[1]:.5f}\")\n",
    "print(f\"Adjusted R^2 is {evaluationMetrics[2]:.5f}\")"
   ]
  },
  {
   "cell_type": "code",
   "execution_count": 13,
   "metadata": {},
   "outputs": [
    {
     "name": "stdout",
     "output_type": "stream",
     "text": [
      "** PCA 50 + all other features **\n",
      "Model coefficients\n",
      "                     Column name   Coefficient\n",
      "0                      intercept  64025.534032\n",
      "1                    total_spend      3.962949\n",
      "2                   total_events    221.505175\n",
      "3                 total_sessions   1471.251424\n",
      "4             avg_session_length     -0.096650\n",
      "5   avg_interactions_per_session   -245.127099\n",
      "6   max_interactions_per_session     84.540344\n",
      "7   purchase_pct_of_total_events -61084.457760\n",
      "8       view_pct_of_total_events -48648.969022\n",
      "9       cart_pct_of_total_events -56786.703303\n",
      "10     avg_purchases_per_session  -4596.230400\n",
      "11                   cart_events    -34.680544\n",
      "12               purchase_events  -2134.384139\n",
      "13                   view_events   -196.033375\n",
      "14        sessions_with_purchase  -2226.040924\n",
      "15            sessions_with_cart    782.260437\n",
      "16            sessions_with_view  -1155.352317\n",
      "17     pct_sessions_end_purchase -14261.465905\n",
      "18         pct_sessions_end_cart  -3645.229388\n",
      "19             sd_session_length      0.051222\n",
      "20   sd_interactions_per_session    -78.459838\n",
      "21      sd_purchases_per_session  -6227.700437\n",
      "22               total_spend_log   1424.360892\n",
      "23              total_events_log   1243.211649\n",
      "24           purchase_events_log   8245.516313\n",
      "25            total_sessions_log  -9877.781820\n",
      "26               pca_purchases50    -76.175592\n",
      "+-----------------+-------------------+\n",
      "|    T_total_spend|         prediction|\n",
      "+-----------------+-------------------+\n",
      "|              0.0|  7785.296764121427|\n",
      "|              0.0|   4550.53006155038|\n",
      "|              0.0|  8283.701828507335|\n",
      "|              0.0|-2642.6990238885774|\n",
      "|              0.0|-400.48134980265604|\n",
      "|              0.0|-26.219829826666682|\n",
      "|              0.0|  2018.320227563163|\n",
      "|              0.0|   8484.78185443057|\n",
      "|79118.00024795532| 152759.63905615857|\n",
      "|663.1999969482422|  8480.852976601389|\n",
      "+-----------------+-------------------+\n",
      "only showing top 10 rows\n",
      "\n",
      "DataFrame[user_id: int, T_total_spend: double, total_spend: double, total_events: bigint, total_sessions: bigint, avg_session_length: double, sd_session_length: double, avg_interactions_per_session: double, sd_interactions_per_session: double, max_interactions_per_session: bigint, purchase_pct_of_total_events: double, view_pct_of_total_events: double, cart_pct_of_total_events: double, avg_purchases_per_session: double, sd_purchases_per_session: double, cart_events: bigint, purchase_events: bigint, view_events: bigint, sessions_with_purchase: bigint, sessions_with_cart: bigint, sessions_with_view: bigint, pct_sessions_end_purchase: double, pct_sessions_end_cart: double, total_spend_log: double, total_events_log: double, purchase_events_log: double, total_sessions_log: double, T_total_spend_log: double, pca_purchases10: vector, pca_purchases20: vector, pca_purchases50: vector, pca_purchases100: vector, features: vector, prediction: double]\n",
      "RMSE is 43422.6\n",
      "R^2 is 0.61537\n",
      "Adjusted R^2 is 0.61495\n"
     ]
    }
   ],
   "source": [
    "print(\"** PCA 50 + all other features **\")\n",
    "inputCols = [\"total_spend\",\"total_events\", \"total_sessions\", \"avg_session_length\", \"avg_interactions_per_session\", \"max_interactions_per_session\",\n",
    "             \"purchase_pct_of_total_events\", \"view_pct_of_total_events\", \"cart_pct_of_total_events\",\"avg_purchases_per_session\", \"cart_events\", \"purchase_events\",\n",
    "             \"view_events\", \"sessions_with_purchase\", \"sessions_with_cart\",\"sessions_with_view\", \"pct_sessions_end_purchase\", \"pct_sessions_end_cart\", 'sd_session_length', \n",
    "             'sd_interactions_per_session', 'sd_purchases_per_session', \"total_spend_log\", \"total_events_log\", \"purchase_events_log\", \"total_sessions_log\",\n",
    "            'pca_purchases50']\n",
    "\n",
    "# sd_session_length breaks it, as does sd_interactions_per_session, sd_purchases_per_session\n",
    "outputCol = \"T_total_spend\"\n",
    "\n",
    "pipeline = generatePipeline(inputCols, outputCol)\n",
    "pipelineModel = pipeline.fit(trainDF)\n",
    "    \n",
    "print(\"Model coefficients\")\n",
    "print(modelInfo(inputCols, pipelineModel))\n",
    "\n",
    "evaluationMetrics = getEvaluationMetrics(pipelineModel,outputCol,testDF, inputCols, 50)\n",
    "print(f\"RMSE is {evaluationMetrics[0]:.1f}\")\n",
    "print(f\"R^2 is {evaluationMetrics[1]:.5f}\")\n",
    "print(f\"Adjusted R^2 is {evaluationMetrics[2]:.5f}\")"
   ]
  },
  {
   "cell_type": "code",
   "execution_count": 14,
   "metadata": {},
   "outputs": [
    {
     "name": "stdout",
     "output_type": "stream",
     "text": [
      "** PCA 100 + all other features **\n",
      "Model coefficients\n",
      "                     Column name   Coefficient\n",
      "0                      intercept  64544.011873\n",
      "1                    total_spend      3.966504\n",
      "2                   total_events    221.610719\n",
      "3                 total_sessions   1481.892329\n",
      "4             avg_session_length     -0.098597\n",
      "5   avg_interactions_per_session   -244.208334\n",
      "6   max_interactions_per_session     85.977061\n",
      "7   purchase_pct_of_total_events -61917.383850\n",
      "8       view_pct_of_total_events -49176.515283\n",
      "9       cart_pct_of_total_events -57237.630080\n",
      "10     avg_purchases_per_session  -4541.246077\n",
      "11                   cart_events    -37.863972\n",
      "12               purchase_events  -1668.499650\n",
      "13                   view_events   -195.915067\n",
      "14        sessions_with_purchase  -2151.265483\n",
      "15            sessions_with_cart    767.437917\n",
      "16            sessions_with_view  -1156.984208\n",
      "17     pct_sessions_end_purchase -14458.359573\n",
      "18         pct_sessions_end_cart  -3614.741810\n",
      "19             sd_session_length      0.052031\n",
      "20   sd_interactions_per_session    -77.550063\n",
      "21      sd_purchases_per_session  -6206.603412\n",
      "22               total_spend_log   1461.273691\n",
      "23              total_events_log   1193.753776\n",
      "24           purchase_events_log   8220.787182\n",
      "25            total_sessions_log  -9961.387577\n",
      "26              pca_purchases100    510.381985\n",
      "+-----------------+------------------+\n",
      "|    T_total_spend|        prediction|\n",
      "+-----------------+------------------+\n",
      "|              0.0| 7856.175093316931|\n",
      "|              0.0| 4502.935229928138|\n",
      "|              0.0|1045.9328061580163|\n",
      "|              0.0|-920.4134954765759|\n",
      "|              0.0| 4245.868715863668|\n",
      "|              0.0| 78.74012946669245|\n",
      "|              0.0|1967.0706746013675|\n",
      "|              0.0| 8447.153523528454|\n",
      "|79118.00024795532| 152729.1469983632|\n",
      "|663.1999969482422| 8395.964043554697|\n",
      "+-----------------+------------------+\n",
      "only showing top 10 rows\n",
      "\n",
      "DataFrame[user_id: int, T_total_spend: double, total_spend: double, total_events: bigint, total_sessions: bigint, avg_session_length: double, sd_session_length: double, avg_interactions_per_session: double, sd_interactions_per_session: double, max_interactions_per_session: bigint, purchase_pct_of_total_events: double, view_pct_of_total_events: double, cart_pct_of_total_events: double, avg_purchases_per_session: double, sd_purchases_per_session: double, cart_events: bigint, purchase_events: bigint, view_events: bigint, sessions_with_purchase: bigint, sessions_with_cart: bigint, sessions_with_view: bigint, pct_sessions_end_purchase: double, pct_sessions_end_cart: double, total_spend_log: double, total_events_log: double, purchase_events_log: double, total_sessions_log: double, T_total_spend_log: double, pca_purchases10: vector, pca_purchases20: vector, pca_purchases50: vector, pca_purchases100: vector, features: vector, prediction: double]\n",
      "RMSE is 43460.2\n",
      "R^2 is 0.61470\n",
      "Adjusted R^2 is 0.61400\n"
     ]
    }
   ],
   "source": [
    "print(\"** PCA 100 + all other features **\")\n",
    "inputCols = [\"total_spend\",\"total_events\", \"total_sessions\", \"avg_session_length\", \"avg_interactions_per_session\", \"max_interactions_per_session\",\n",
    "             \"purchase_pct_of_total_events\", \"view_pct_of_total_events\", \"cart_pct_of_total_events\",\"avg_purchases_per_session\", \"cart_events\", \"purchase_events\",\n",
    "             \"view_events\", \"sessions_with_purchase\", \"sessions_with_cart\",\"sessions_with_view\", \"pct_sessions_end_purchase\", \"pct_sessions_end_cart\", 'sd_session_length', \n",
    "             'sd_interactions_per_session', 'sd_purchases_per_session', \"total_spend_log\", \"total_events_log\", \"purchase_events_log\", \"total_sessions_log\",\n",
    "            'pca_purchases100']\n",
    "\n",
    "# sd_session_length breaks it, as does sd_interactions_per_session, sd_purchases_per_session\n",
    "outputCol = \"T_total_spend\"\n",
    "\n",
    "pipeline = generatePipeline(inputCols, outputCol)\n",
    "pipelineModel = pipeline.fit(trainDF)\n",
    "    \n",
    "print(\"Model coefficients\")\n",
    "print(modelInfo(inputCols, pipelineModel))\n",
    "\n",
    "evaluationMetrics = getEvaluationMetrics(pipelineModel,outputCol,testDF, inputCols, 100)\n",
    "print(f\"RMSE is {evaluationMetrics[0]:.1f}\")\n",
    "print(f\"R^2 is {evaluationMetrics[1]:.5f}\")\n",
    "print(f\"Adjusted R^2 is {evaluationMetrics[2]:.5f}\")"
   ]
  },
  {
   "cell_type": "markdown",
   "metadata": {},
   "source": [
    "#### When compared against a linear regression without the PCA features, performance of the models with PCA suffers. This is not just due to the increased number of features increasing the adjusted r-square. The feature we have encoded with PCA must not be a good predictor.  "
   ]
  },
  {
   "cell_type": "code",
   "execution_count": 18,
   "metadata": {},
   "outputs": [
    {
     "name": "stdout",
     "output_type": "stream",
     "text": [
      "** Champion Linear Regression Model with PCA (k=10) Added **\n",
      "Model coefficients\n",
      "                     Column name   Coefficient\n",
      "0                      intercept  11428.893823\n",
      "1                    total_spend      3.963334\n",
      "2                   total_events    221.957675\n",
      "3             avg_session_length     -0.181925\n",
      "4   max_interactions_per_session     22.151790\n",
      "5       cart_pct_of_total_events  -6886.856672\n",
      "6      avg_purchases_per_session  -4976.049138\n",
      "7                purchase_events  -2098.678209\n",
      "8       sd_purchases_per_session  -6846.984863\n",
      "9                    view_events   -196.568342\n",
      "10        sessions_with_purchase  -1477.524897\n",
      "11            sessions_with_view    344.505094\n",
      "12     pct_sessions_end_purchase -14394.190953\n",
      "13         pct_sessions_end_cart   1441.524961\n",
      "14             sd_session_length      0.088787\n",
      "15               total_spend_log   1521.500097\n",
      "16              total_events_log   1066.565885\n",
      "17           purchase_events_log   7531.094591\n",
      "18            total_sessions_log  -8324.431118\n",
      "19               pca_purchases10     -2.029704\n",
      "+-----------------+-------------------+\n",
      "|    T_total_spend|         prediction|\n",
      "+-----------------+-------------------+\n",
      "|              0.0|  8436.277637079162|\n",
      "|              0.0|  4711.904459733595|\n",
      "|              0.0|  3848.241392329154|\n",
      "|              0.0| -2286.557603859297|\n",
      "|              0.0|-343.08229431838663|\n",
      "|              0.0| -3122.363002719003|\n",
      "|              0.0|  2404.980359287365|\n",
      "|              0.0|  9045.750494706042|\n",
      "|79118.00024795532| 139739.27219111088|\n",
      "|663.1999969482422|  8621.156435295525|\n",
      "+-----------------+-------------------+\n",
      "only showing top 10 rows\n",
      "\n",
      "DataFrame[user_id: int, T_total_spend: double, total_spend: double, total_events: bigint, total_sessions: bigint, avg_session_length: double, sd_session_length: double, avg_interactions_per_session: double, sd_interactions_per_session: double, max_interactions_per_session: bigint, purchase_pct_of_total_events: double, view_pct_of_total_events: double, cart_pct_of_total_events: double, avg_purchases_per_session: double, sd_purchases_per_session: double, cart_events: bigint, purchase_events: bigint, view_events: bigint, sessions_with_purchase: bigint, sessions_with_cart: bigint, sessions_with_view: bigint, pct_sessions_end_purchase: double, pct_sessions_end_cart: double, total_spend_log: double, total_events_log: double, purchase_events_log: double, total_sessions_log: double, T_total_spend_log: double, pca_purchases10: vector, pca_purchases20: vector, pca_purchases50: vector, pca_purchases100: vector, features: vector, prediction: double]\n",
      "RMSE is 43385.0\n",
      "R^2 is 0.61603\n",
      "Adjusted R^2 is 0.61588\n"
     ]
    }
   ],
   "source": [
    "print(\"** Champion Linear Regression Model with PCA (k=10) Added **\")\n",
    "\n",
    "inputCols = [\"total_spend\",\"total_events\", \"avg_session_length\", \"max_interactions_per_session\", \n",
    "              \"cart_pct_of_total_events\",\"avg_purchases_per_session\",  \"purchase_events\", 'sd_purchases_per_session',\n",
    "              \"view_events\", \"sessions_with_purchase\", \"sessions_with_view\", \"pct_sessions_end_purchase\", \"pct_sessions_end_cart\", 'sd_session_length', \n",
    "            \"total_spend_log\",\"total_events_log\", \"purchase_events_log\", \"total_sessions_log\",\n",
    "            'pca_purchases10']\n",
    "\n",
    "# sd_session_length breaks it, as does sd_interactions_per_session, sd_purchases_per_session\n",
    "outputCol = \"T_total_spend\"\n",
    "\n",
    "pipeline = generatePipeline(inputCols, outputCol)\n",
    "pipelineModel = pipeline.fit(trainDF)\n",
    "    \n",
    "print(\"Model coefficients\")\n",
    "print(modelInfo(inputCols, pipelineModel))\n",
    "\n",
    "evaluationMetrics = getEvaluationMetrics(pipelineModel,outputCol,testDF, inputCols, 10)\n",
    "print(f\"RMSE is {evaluationMetrics[0]:.1f}\")\n",
    "print(f\"R^2 is {evaluationMetrics[1]:.5f}\")\n",
    "print(f\"Adjusted R^2 is {evaluationMetrics[2]:.5f}\")"
   ]
  },
  {
   "cell_type": "markdown",
   "metadata": {},
   "source": [
    "### When pca_purchases10 is added, the adjusted R^2 of this regression falls from .61617 to .61588. The raw R^2 value also falls. "
   ]
  },
  {
   "cell_type": "code",
   "execution_count": null,
   "metadata": {},
   "outputs": [],
   "source": []
  }
 ],
 "metadata": {
  "kernelspec": {
   "display_name": "DS 5110 Spark 3.1",
   "language": "python",
   "name": "ds5110_spark3.1"
  },
  "language_info": {
   "codemirror_mode": {
    "name": "ipython",
    "version": 3
   },
   "file_extension": ".py",
   "mimetype": "text/x-python",
   "name": "python",
   "nbconvert_exporter": "python",
   "pygments_lexer": "ipython3",
   "version": "3.7.10"
  }
 },
 "nbformat": 4,
 "nbformat_minor": 4
}
