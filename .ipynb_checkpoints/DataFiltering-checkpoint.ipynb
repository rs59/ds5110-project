{
 "cells": [
  {
   "cell_type": "code",
   "execution_count": 3,
   "metadata": {},
   "outputs": [
    {
     "name": "stdout",
     "output_type": "stream",
     "text": [
      "CPU times: user 2.55 ms, sys: 695 µs, total: 3.25 ms\n",
      "Wall time: 8.97 ms\n"
     ]
    }
   ],
   "source": [
    "%%time\n",
    "from pyspark.sql import SparkSession\n",
    "from pyspark.sql import types as T\n",
    "from pyspark.sql.functions import lit\n",
    "\n",
    "spark = SparkSession.builder \\\n",
    "        .appName(\"project\") \\\n",
    "        .getOrCreate()\n",
    "\n",
    "sc = spark.sparkContext\n",
    "\n",
    "schema = \"`event_time` TIMESTAMP,`event_type` STRING,`product_id` INT,`category_id` BIGINT,`category_code` STRING,`brand` STRING,`price` DECIMAL(7,2),`user_id` INT,`user_session` STRING\"\n",
    "ddl_schema = T._parse_datatype_string(schema)"
   ]
  },
  {
   "cell_type": "code",
   "execution_count": 4,
   "metadata": {},
   "outputs": [
    {
     "name": "stdout",
     "output_type": "stream",
     "text": [
      "Time Period 1 Count: 55967041\n",
      "Time Period 2 Count: 55318565\n",
      "CPU times: user 5.44 ms, sys: 4.45 ms, total: 9.89 ms\n",
      "Wall time: 7.98 s\n"
     ]
    }
   ],
   "source": [
    "%%time\n",
    "df01 = spark.read.option(\"header\",\"true\") \\\n",
    "        .schema(ddl_schema) \\\n",
    "        .csv(\"/project/ds5559/group12/raw_data/2020-01.csv\") # January 2020\n",
    "\n",
    "df02 = spark.read.option(\"header\",\"true\") \\\n",
    "        .schema(ddl_schema) \\\n",
    "        .csv(\"/project/ds5559/group12/raw_data/2020-02.csv\") # February 2020\n",
    "print(f'Time Period 1 Count: {df01.count()}')\n",
    "print(f'Time Period 2 Count: {df02.count()}')"
   ]
  },
  {
   "cell_type": "markdown",
   "metadata": {},
   "source": [
    "#### Get distinct id list so more frequent visitors are no more likely to be picked than less frequent ones. "
   ]
  },
  {
   "cell_type": "code",
   "execution_count": 22,
   "metadata": {},
   "outputs": [
    {
     "name": "stdout",
     "output_type": "stream",
     "text": [
      "CPU times: user 1.34 ms, sys: 1.28 ms, total: 2.62 ms\n",
      "Wall time: 11.2 ms\n"
     ]
    }
   ],
   "source": [
    "%%time\n",
    "ids = df01.select('user_session').distinct()\n",
    "#ids.count()"
   ]
  },
  {
   "cell_type": "markdown",
   "metadata": {},
   "source": [
    "#### Shuffle data & take random sample of first time period"
   ]
  },
  {
   "cell_type": "code",
   "execution_count": 23,
   "metadata": {},
   "outputs": [
    {
     "name": "stdout",
     "output_type": "stream",
     "text": [
      "CPU times: user 216 µs, sys: 204 µs, total: 420 µs\n",
      "Wall time: 1.37 ms\n"
     ]
    }
   ],
   "source": [
    "%%time\n",
    "sample01 = ids.sample(.1, 18) #18 is a seed for reproduceability"
   ]
  },
  {
   "cell_type": "code",
   "execution_count": 24,
   "metadata": {},
   "outputs": [],
   "source": [
    "#%%time\n",
    "#sample01.count()"
   ]
  },
  {
   "cell_type": "code",
   "execution_count": 25,
   "metadata": {},
   "outputs": [
    {
     "name": "stdout",
     "output_type": "stream",
     "text": [
      "CPU times: user 1.48 ms, sys: 0 ns, total: 1.48 ms\n",
      "Wall time: 13.5 ms\n"
     ]
    }
   ],
   "source": [
    "%%time\n",
    "selected_t1 = df01.join(sample01, 'user_session', 'leftsemi')"
   ]
  },
  {
   "cell_type": "code",
   "execution_count": 26,
   "metadata": {},
   "outputs": [
    {
     "name": "stdout",
     "output_type": "stream",
     "text": [
      "5592558\n",
      "CPU times: user 3.57 ms, sys: 3.34 ms, total: 6.91 ms\n",
      "Wall time: 40.8 s\n"
     ]
    }
   ],
   "source": [
    "%%time\n",
    "print(selected_t1.count())"
   ]
  },
  {
   "cell_type": "code",
   "execution_count": 27,
   "metadata": {},
   "outputs": [
    {
     "name": "stdout",
     "output_type": "stream",
     "text": [
      "15381\n",
      "CPU times: user 5.47 ms, sys: 2.81 ms, total: 8.27 ms\n",
      "Wall time: 39 s\n"
     ]
    }
   ],
   "source": [
    "%%time\n",
    "selected_t2 = df02.join(sample01, 'user_session', 'leftsemi')\n",
    "print(selected_t2.count())"
   ]
  },
  {
   "cell_type": "markdown",
   "metadata": {},
   "source": [
    "#### Add time period tags so we don't have to deal with futzing with date-time when trying to separate time periods"
   ]
  },
  {
   "cell_type": "code",
   "execution_count": 28,
   "metadata": {},
   "outputs": [
    {
     "name": "stdout",
     "output_type": "stream",
     "text": [
      "CPU times: user 1.56 ms, sys: 1.6 ms, total: 3.16 ms\n",
      "Wall time: 34.3 ms\n"
     ]
    }
   ],
   "source": [
    "%%time\n",
    "selected_t1 = selected_t1.withColumn(\"Period\", lit(1))\n",
    "selected_t2 = selected_t2.withColumn(\"Period\", lit(2))"
   ]
  },
  {
   "cell_type": "code",
   "execution_count": 29,
   "metadata": {},
   "outputs": [],
   "source": [
    "#Confirmed looks as expected - wall time 6 minutes\n",
    "#%%time\n",
    "#selected_t1.show(5)"
   ]
  },
  {
   "cell_type": "code",
   "execution_count": 30,
   "metadata": {},
   "outputs": [],
   "source": [
    "#Confirmed looks as expected - wall time 6 mins\n",
    "#%%time\n",
    "#selected_t2.show(5)"
   ]
  },
  {
   "cell_type": "markdown",
   "metadata": {},
   "source": [
    "#### Union the two into one dataframe"
   ]
  },
  {
   "cell_type": "code",
   "execution_count": 31,
   "metadata": {},
   "outputs": [
    {
     "name": "stdout",
     "output_type": "stream",
     "text": [
      "CPU times: user 411 µs, sys: 378 µs, total: 789 µs\n",
      "Wall time: 5.14 ms\n"
     ]
    }
   ],
   "source": [
    "%%time\n",
    "finaldf = selected_t1.union(selected_t2)"
   ]
  },
  {
   "cell_type": "code",
   "execution_count": 32,
   "metadata": {},
   "outputs": [],
   "source": [
    "# %%time # Wall time 12 mins with show()\n",
    "# print(finaldf.count())\n",
    "# finaldf.show(5) # Looks as expected"
   ]
  },
  {
   "cell_type": "markdown",
   "metadata": {},
   "source": [
    "#### Train Test Split"
   ]
  },
  {
   "cell_type": "code",
   "execution_count": 33,
   "metadata": {},
   "outputs": [
    {
     "name": "stdout",
     "output_type": "stream",
     "text": [
      "CPU times: user 264 µs, sys: 241 µs, total: 505 µs\n",
      "Wall time: 1.31 ms\n"
     ]
    }
   ],
   "source": [
    "%%time\n",
    "train_ids = sample01.sample(.8, 543)"
   ]
  },
  {
   "cell_type": "code",
   "execution_count": 34,
   "metadata": {},
   "outputs": [
    {
     "name": "stdout",
     "output_type": "stream",
     "text": [
      "CPU times: user 874 µs, sys: 888 µs, total: 1.76 ms\n",
      "Wall time: 14.6 ms\n"
     ]
    }
   ],
   "source": [
    "%%time \n",
    "#Wall time 5 mins\n",
    "training_data = finaldf.join(train_ids, 'user_session', 'leftsemi')\n",
    "#print(training_data.count())"
   ]
  },
  {
   "cell_type": "code",
   "execution_count": 35,
   "metadata": {},
   "outputs": [
    {
     "name": "stdout",
     "output_type": "stream",
     "text": [
      "CPU times: user 1.55 ms, sys: 474 µs, total: 2.03 ms\n",
      "Wall time: 13.5 ms\n"
     ]
    }
   ],
   "source": [
    "%%time \n",
    "# Wall time 1 min\n",
    "test_data = finaldf.join(train_ids, 'user_session', 'leftanti')\n",
    "#print(test_data.count())"
   ]
  },
  {
   "cell_type": "code",
   "execution_count": 36,
   "metadata": {},
   "outputs": [],
   "source": [
    "#%%time \n",
    "# Wall time 11 mins\n",
    "#training_data.show(5) #Looks as expected"
   ]
  },
  {
   "cell_type": "code",
   "execution_count": 37,
   "metadata": {},
   "outputs": [],
   "source": [
    "# %%time \n",
    "# Wall time 11 mins\n",
    "# test_data.show(5) #Looks as expected"
   ]
  },
  {
   "cell_type": "code",
   "execution_count": 40,
   "metadata": {},
   "outputs": [
    {
     "name": "stdout",
     "output_type": "stream",
     "text": [
      "CPU times: user 60.7 ms, sys: 50.4 ms, total: 111 ms\n",
      "Wall time: 13min 49s\n"
     ]
    }
   ],
   "source": [
    "# %%time\n",
    "#Wall time 14 mins\n",
    "# training_data.write.csv(\"/project/ds5559/group12/raw_data/train10percent.csv\")"
   ]
  },
  {
   "cell_type": "code",
   "execution_count": 39,
   "metadata": {},
   "outputs": [
    {
     "name": "stdout",
     "output_type": "stream",
     "text": [
      "CPU times: user 61 ms, sys: 50.9 ms, total: 112 ms\n",
      "Wall time: 13min 49s\n"
     ]
    }
   ],
   "source": [
    "#%%time \n",
    "#Wall time 14 mins\n",
    "#test_data.write.csv(\"/project/ds5559/group12/raw_data/test10percent.csv\")"
   ]
  },
  {
   "cell_type": "code",
   "execution_count": 42,
   "metadata": {},
   "outputs": [
    {
     "name": "stdout",
     "output_type": "stream",
     "text": [
      "CPU times: user 59.8 ms, sys: 52.5 ms, total: 112 ms\n",
      "Wall time: 14min 3s\n"
     ]
    }
   ],
   "source": [
    "#%%time \n",
    "#Wall time 14 minutes\n",
    "#training_data.write.parquet(\"/project/ds5559/group12/raw_data/train10percent.parquet\")"
   ]
  },
  {
   "cell_type": "code",
   "execution_count": 43,
   "metadata": {},
   "outputs": [
    {
     "name": "stdout",
     "output_type": "stream",
     "text": [
      "CPU times: user 63.7 ms, sys: 50.2 ms, total: 114 ms\n",
      "Wall time: 14min 25s\n"
     ]
    }
   ],
   "source": [
    "#%%time \n",
    "#Wall time 14 minutes\n",
    "#test_data.write.parquet(\"/project/ds5559/group12/raw_data/test10percent.parquet\")"
   ]
  },
  {
   "cell_type": "markdown",
   "metadata": {},
   "source": [
    "## Alternatively... only people who made a purchase in time period 1"
   ]
  },
  {
   "cell_type": "code",
   "execution_count": 6,
   "metadata": {},
   "outputs": [
    {
     "name": "stdout",
     "output_type": "stream",
     "text": [
      "CPU times: user 3.63 ms, sys: 2.63 ms, total: 6.26 ms\n",
      "Wall time: 14.6 s\n"
     ]
    },
    {
     "data": {
      "text/plain": [
       "690930"
      ]
     },
     "execution_count": 6,
     "metadata": {},
     "output_type": "execute_result"
    }
   ],
   "source": [
    "%%time \n",
    "buyers = df01.filter(df01.event_type == 'purchase').select(df01.user_session).distinct() #700k\n",
    "#buyers.count() # 15 seconds"
   ]
  },
  {
   "cell_type": "code",
   "execution_count": 8,
   "metadata": {},
   "outputs": [
    {
     "name": "stdout",
     "output_type": "stream",
     "text": [
      "5853224\n",
      "+--------------------+-------------------+----------+----------+-------------------+--------------------+-------+------+---------+\n",
      "|        user_session|         event_time|event_type|product_id|        category_id|       category_code|  brand| price|  user_id|\n",
      "+--------------------+-------------------+----------+----------+-------------------+--------------------+-------+------+---------+\n",
      "|0001d6fa-2839-402...|2020-01-31 13:43:02|      view|   1005212|2232732093077520756|construction.tool...|samsung|164.06|599532510|\n",
      "|0001d6fa-2839-402...|2020-01-31 13:45:06|      cart|   1005212|2232732093077520756|construction.tool...|samsung|164.06|599532510|\n",
      "|0001d6fa-2839-402...|2020-01-31 13:46:41|  purchase|   1005212|2232732093077520756|construction.tool...|samsung|164.06|599532510|\n",
      "|0001d6fa-2839-402...|2020-01-31 13:47:28|      view|   1005212|2232732093077520756|construction.tool...|samsung|164.06|599532510|\n",
      "|0001d6fa-2839-402...|2020-01-31 13:47:38|      view|   1005212|2232732093077520756|construction.tool...|samsung|164.06|599532510|\n",
      "+--------------------+-------------------+----------+----------+-------------------+--------------------+-------+------+---------+\n",
      "only showing top 5 rows\n",
      "\n",
      "CPU times: user 33.5 ms, sys: 33.3 ms, total: 66.8 ms\n",
      "Wall time: 7min 51s\n"
     ]
    }
   ],
   "source": [
    "%%time\n",
    "buyer_data_1 = df01.join(buyers, 'user_session', 'leftsemi')\n",
    "# print(buyer_data_1.count()) # 5.8 million\n",
    "#buyer_data_1.show(5) # 8 mins, looks as expected"
   ]
  },
  {
   "cell_type": "code",
   "execution_count": 10,
   "metadata": {},
   "outputs": [
    {
     "name": "stdout",
     "output_type": "stream",
     "text": [
      "36473\n",
      "CPU times: user 6.4 ms, sys: 3.49 ms, total: 9.89 ms\n",
      "Wall time: 44.9 s\n"
     ]
    }
   ],
   "source": [
    "%%time\n",
    "buyer_data_2 = df02.join(buyers, 'user_session', 'leftsemi')\n",
    "print(buyer_data_2.count())"
   ]
  },
  {
   "cell_type": "code",
   "execution_count": 12,
   "metadata": {},
   "outputs": [
    {
     "name": "stdout",
     "output_type": "stream",
     "text": [
      "CPU times: user 1.16 ms, sys: 2.02 ms, total: 3.18 ms\n",
      "Wall time: 34.7 ms\n"
     ]
    }
   ],
   "source": [
    "%%time\n",
    "buyer_data_1 = buyer_data_1.withColumn(\"Period\", lit(1)) # Add time period\n",
    "buyer_data_2 = buyer_data_2.withColumn(\"Period\", lit(2))"
   ]
  },
  {
   "cell_type": "code",
   "execution_count": 13,
   "metadata": {},
   "outputs": [
    {
     "name": "stdout",
     "output_type": "stream",
     "text": [
      "CPU times: user 649 µs, sys: 1.17 ms, total: 1.82 ms\n",
      "Wall time: 16.5 ms\n"
     ]
    }
   ],
   "source": [
    "%%time\n",
    "buyer_final_df = buyer_data_1.union(buyer_data_2)"
   ]
  },
  {
   "cell_type": "code",
   "execution_count": 14,
   "metadata": {},
   "outputs": [],
   "source": [
    "# Train Test Split"
   ]
  },
  {
   "cell_type": "code",
   "execution_count": 17,
   "metadata": {},
   "outputs": [
    {
     "name": "stdout",
     "output_type": "stream",
     "text": [
      "CPU times: user 1.13 ms, sys: 35 µs, total: 1.17 ms\n",
      "Wall time: 1.87 ms\n"
     ]
    }
   ],
   "source": [
    "%%time\n",
    "buyer_train_ids = buyers.sample(.8, 543)"
   ]
  },
  {
   "cell_type": "code",
   "execution_count": 31,
   "metadata": {},
   "outputs": [
    {
     "name": "stdout",
     "output_type": "stream",
     "text": [
      "CPU times: user 2.09 ms, sys: 0 ns, total: 2.09 ms\n",
      "Wall time: 15.3 ms\n"
     ]
    }
   ],
   "source": [
    "%%time \n",
    "#Wall time 1 mins\n",
    "training_datab = buyer_final_df.join(buyer_train_ids, 'user_session', 'leftsemi')\n",
    "#print(training_datab.count())"
   ]
  },
  {
   "cell_type": "code",
   "execution_count": 30,
   "metadata": {},
   "outputs": [
    {
     "name": "stdout",
     "output_type": "stream",
     "text": [
      "1177198\n",
      "CPU times: user 12.2 ms, sys: 5.79 ms, total: 18 ms\n",
      "Wall time: 1min 50s\n"
     ]
    }
   ],
   "source": [
    "%%time \n",
    "#Wall time 1 mins\n",
    "test_datab = buyer_final_df.join(buyer_train_ids, 'user_session', 'leftanti')\n",
    "print(test_datab.count())"
   ]
  },
  {
   "cell_type": "code",
   "execution_count": 35,
   "metadata": {},
   "outputs": [
    {
     "name": "stdout",
     "output_type": "stream",
     "text": [
      "CPU times: user 66.3 ms, sys: 49.9 ms, total: 116 ms\n",
      "Wall time: 14min 10s\n"
     ]
    }
   ],
   "source": [
    "%%time \n",
    "#Wall time 14 minutes\n",
    "#training_datab.write.parquet(\"/project/ds5559/group12/raw_data/train_buyers.parquet\")"
   ]
  },
  {
   "cell_type": "code",
   "execution_count": 37,
   "metadata": {},
   "outputs": [
    {
     "name": "stdout",
     "output_type": "stream",
     "text": [
      "CPU times: user 61.5 ms, sys: 46.8 ms, total: 108 ms\n",
      "Wall time: 12min 56s\n"
     ]
    }
   ],
   "source": [
    "%%time \n",
    "#Wall time 13 minutes\n",
    "#test_datab.write.parquet(\"/project/ds5559/group12/raw_data/test_buyers.parquet\")"
   ]
  },
  {
   "cell_type": "code",
   "execution_count": 32,
   "metadata": {},
   "outputs": [
    {
     "name": "stdout",
     "output_type": "stream",
     "text": [
      "+--------------------+-------------------+----------+----------+-------------------+--------------------+-------+------+---------+------+\n",
      "|        user_session|         event_time|event_type|product_id|        category_id|       category_code|  brand| price|  user_id|Period|\n",
      "+--------------------+-------------------+----------+----------+-------------------+--------------------+-------+------+---------+------+\n",
      "|0001d6fa-2839-402...|2020-01-31 13:43:02|      view|   1005212|2232732093077520756|construction.tool...|samsung|164.06|599532510|     1|\n",
      "|0001d6fa-2839-402...|2020-01-31 13:45:06|      cart|   1005212|2232732093077520756|construction.tool...|samsung|164.06|599532510|     1|\n",
      "|0001d6fa-2839-402...|2020-01-31 13:46:41|  purchase|   1005212|2232732093077520756|construction.tool...|samsung|164.06|599532510|     1|\n",
      "|0001d6fa-2839-402...|2020-01-31 13:47:28|      view|   1005212|2232732093077520756|construction.tool...|samsung|164.06|599532510|     1|\n",
      "|0001d6fa-2839-402...|2020-01-31 13:47:38|      view|   1005212|2232732093077520756|construction.tool...|samsung|164.06|599532510|     1|\n",
      "+--------------------+-------------------+----------+----------+-------------------+--------------------+-------+------+---------+------+\n",
      "only showing top 5 rows\n",
      "\n"
     ]
    },
    {
     "ename": "NameError",
     "evalue": "name 'trainig_datab' is not defined",
     "output_type": "error",
     "traceback": [
      "\u001b[0;31m---------------------------------------------------------------------------\u001b[0m",
      "\u001b[0;31mNameError\u001b[0m                                 Traceback (most recent call last)",
      "\u001b[0;32m<timed exec>\u001b[0m in \u001b[0;36m<module>\u001b[0;34m\u001b[0m\n",
      "\u001b[0;31mNameError\u001b[0m: name 'trainig_datab' is not defined"
     ]
    }
   ],
   "source": [
    "%%time \n",
    "#Wall time 26 min\n",
    "training_datab.show(5)"
   ]
  },
  {
   "cell_type": "code",
   "execution_count": 34,
   "metadata": {},
   "outputs": [
    {
     "data": {
      "text/plain": [
       "4712499"
      ]
     },
     "execution_count": 34,
     "metadata": {},
     "output_type": "execute_result"
    }
   ],
   "source": [
    "training_datab.count()"
   ]
  },
  {
   "cell_type": "code",
   "execution_count": 33,
   "metadata": {},
   "outputs": [
    {
     "name": "stdout",
     "output_type": "stream",
     "text": [
      "+--------------------+-------------------+----------+----------+-------------------+-------------+--------+-----+---------+------+\n",
      "|        user_session|         event_time|event_type|product_id|        category_id|category_code|   brand|price|  user_id|Period|\n",
      "+--------------------+-------------------+----------+----------+-------------------+-------------+--------+-----+---------+------+\n",
      "|0007e40b-2d95-460...|2020-01-16 11:51:48|      view|   7004322|2232732079009824823|  kids.skates|babytime|61.78|579436960|     1|\n",
      "|0007e40b-2d95-460...|2020-01-16 11:52:14|      view|   7005805|2232732079009824823|  kids.skates|babytime|61.60|579436960|     1|\n",
      "|0007e40b-2d95-460...|2020-01-16 11:53:36|      view|   7005063|2232732079009824823|  kids.skates|babytime|63.06|579436960|     1|\n",
      "|0007e40b-2d95-460...|2020-01-16 11:54:13|      view|   7006592|2232732079009824823|  kids.skates|    yoga|59.20|579436960|     1|\n",
      "|0007e40b-2d95-460...|2020-01-16 11:54:30|      view|   7006592|2232732079009824823|  kids.skates|    yoga|59.20|579436960|     1|\n",
      "+--------------------+-------------------+----------+----------+-------------------+-------------+--------+-----+---------+------+\n",
      "only showing top 5 rows\n",
      "\n",
      "CPU times: user 68.6 ms, sys: 49.8 ms, total: 118 ms\n",
      "Wall time: 14min 18s\n"
     ]
    },
    {
     "data": {
      "text/plain": [
       "1177198"
      ]
     },
     "execution_count": 33,
     "metadata": {},
     "output_type": "execute_result"
    }
   ],
   "source": [
    "%%time\n",
    "test_datab.show(5)\n",
    "test_datab.count()"
   ]
  },
  {
   "cell_type": "code",
   "execution_count": null,
   "metadata": {},
   "outputs": [],
   "source": []
  }
 ],
 "metadata": {
  "kernelspec": {
   "display_name": "DS 5110 Spark 3.1",
   "language": "python",
   "name": "ds5110_spark3.1"
  },
  "language_info": {
   "codemirror_mode": {
    "name": "ipython",
    "version": 3
   },
   "file_extension": ".py",
   "mimetype": "text/x-python",
   "name": "python",
   "nbconvert_exporter": "python",
   "pygments_lexer": "ipython3",
   "version": "3.7.10"
  }
 },
 "nbformat": 4,
 "nbformat_minor": 4
}
