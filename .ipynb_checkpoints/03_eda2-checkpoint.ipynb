{
 "cells": [
  {
   "cell_type": "markdown",
   "metadata": {},
   "source": [
    "### 05: Exploratory Data Analysis, Individual Level\n",
    "##### Group 12:\n",
    "\n",
    "##### Hannah Schmuckler, mmc4cv\n",
    "\n",
    "##### Rob Schwartz, res7cd"
   ]
  },
  {
   "cell_type": "markdown",
   "metadata": {},
   "source": [
    "At a minimum, the file should include a summary containing:\n",
    "* Number of records\n",
    "* Number of columns\n",
    "* Statistical summary of response variable\n",
    "* Statistical summary of potential predictor variables (if there are a large number of predictors, select the top 10)\n",
    "* Note: Summarize categorical variables with counts and percentages for each level and summarize numerical variables with mean/quantiles/standard deviation.\n",
    "* Include up to five helpful graphs"
   ]
  },
  {
   "cell_type": "code",
   "execution_count": null,
   "metadata": {},
   "outputs": [],
   "source": []
  },
  {
   "cell_type": "code",
   "execution_count": 2,
   "metadata": {},
   "outputs": [
    {
     "name": "stdout",
     "output_type": "stream",
     "text": [
      "CPU times: user 682 µs, sys: 0 ns, total: 682 µs\n",
      "Wall time: 819 µs\n"
     ]
    }
   ],
   "source": [
    "%%time\n",
    "from pyspark.sql import SparkSession\n",
    "from pyspark.sql import types as T\n",
    "import matplotlib.pyplot as plt\n",
    "from pyspark.sql.functions import col\n",
    "import pandas as pd\n",
    "import pyspark.sql.functions as f\n",
    "from pyspark.sql.window import Window\n",
    "\n",
    "\n",
    "import sys\n",
    "spark = SparkSession.builder \\\n",
    "        .appName(\"project\") \\\n",
    "        .getOrCreate()\n",
    "\n",
    "sc = spark.sparkContext"
   ]
  },
  {
   "cell_type": "markdown",
   "metadata": {},
   "source": [
    "### Read in data"
   ]
  },
  {
   "cell_type": "markdown",
   "metadata": {},
   "source": [
    "#### Note: Our data was originally formatted in a 'tall' file forma with 9 columns:\n",
    "* event_time\n",
    "* event_type\n",
    "* product_id\n",
    "* category_code\n",
    "* brand\n",
    "* price\n",
    "* user_id\n",
    "* user_session"
   ]
  },
  {
   "cell_type": "markdown",
   "metadata": {},
   "source": [
    "It was also significantly larger than the 3gb limitation for class. To address the size issue, we selected a random sample of individuals. \n",
    "\n",
    "All of the features in the dataset below have been engineered by us on an individual level, instead of the event-level data originally provided. "
   ]
  },
  {
   "cell_type": "code",
   "execution_count": 3,
   "metadata": {},
   "outputs": [],
   "source": [
    "full = spark.read.parquet(\"./processed_data/engineered_features.parquet\")"
   ]
  },
  {
   "cell_type": "code",
   "execution_count": 4,
   "metadata": {},
   "outputs": [
    {
     "name": "stdout",
     "output_type": "stream",
     "text": [
      "root\n",
      " |-- user_id: integer (nullable = true)\n",
      " |-- m2_total_spend: double (nullable = true)\n",
      " |-- m1_total_spend: double (nullable = true)\n",
      " |-- m1_total_events: long (nullable = true)\n",
      " |-- m1_purchase_events: long (nullable = true)\n",
      " |-- m1_user_sessions: long (nullable = true)\n",
      " |-- num_sessions_month: long (nullable = true)\n",
      " |-- AvgSessLen: double (nullable = true)\n",
      " |-- stddev_SessionLengthSecs: double (nullable = true)\n",
      " |-- avg_interactions_per_session: double (nullable = true)\n",
      " |-- stddev_int_per_session: double (nullable = true)\n",
      " |-- max_interactions_one_session: long (nullable = true)\n",
      " |-- purchase_pct_of_total_events: double (nullable = true)\n",
      " |-- cart_pct_of_total_events: double (nullable = true)\n",
      " |-- view_pct_of_total_events: double (nullable = true)\n",
      " |-- avg_purchases_per_session: double (nullable = true)\n",
      " |-- std_purchases_per_session: double (nullable = true)\n",
      " |-- monthlyCartTotal: long (nullable = true)\n",
      " |-- monthlyPurchaseTotal: long (nullable = true)\n",
      " |-- monthlyViewTotal: long (nullable = true)\n",
      " |-- NumSessWithPurchases: long (nullable = true)\n",
      " |-- NumSessWithCart: long (nullable = true)\n",
      " |-- NumSessWithView: long (nullable = true)\n",
      " |-- ses_end_purch: double (nullable = true)\n",
      " |-- ses_end_cart: double (nullable = true)\n",
      "\n"
     ]
    }
   ],
   "source": [
    "full.printSchema()"
   ]
  },
  {
   "cell_type": "code",
   "execution_count": 5,
   "metadata": {},
   "outputs": [
    {
     "data": {
      "text/plain": [
       "25"
      ]
     },
     "execution_count": 5,
     "metadata": {},
     "output_type": "execute_result"
    }
   ],
   "source": [
    "# Number of columns\n",
    "len(full.schema)"
   ]
  },
  {
   "cell_type": "markdown",
   "metadata": {},
   "source": [
    "##### A single record looks like this:"
   ]
  },
  {
   "cell_type": "code",
   "execution_count": 6,
   "metadata": {},
   "outputs": [
    {
     "name": "stdout",
     "output_type": "stream",
     "text": [
      "-RECORD 0------------------------------------------\n",
      " user_id                      | 413580824          \n",
      " m2_total_spend               | 0.0                \n",
      " m1_total_spend               | 0.0                \n",
      " m1_total_events              | 3                  \n",
      " m1_purchase_events           | 0                  \n",
      " m1_user_sessions             | 2                  \n",
      " num_sessions_month           | 3                  \n",
      " AvgSessLen                   | 38.5               \n",
      " stddev_SessionLengthSecs     | 54.44722215136416  \n",
      " avg_interactions_per_session | 1.5                \n",
      " stddev_int_per_session       | 0.7071067811865476 \n",
      " max_interactions_one_session | 2                  \n",
      " purchase_pct_of_total_events | 0.0                \n",
      " cart_pct_of_total_events     | 0.0                \n",
      " view_pct_of_total_events     | 1.0                \n",
      " avg_purchases_per_session    | 0.0                \n",
      " std_purchases_per_session    | 0.0                \n",
      " monthlyCartTotal             | 0                  \n",
      " monthlyPurchaseTotal         | 0                  \n",
      " monthlyViewTotal             | 3                  \n",
      " NumSessWithPurchases         | 0                  \n",
      " NumSessWithCart              | 0                  \n",
      " NumSessWithView              | 2                  \n",
      " ses_end_purch                | 0.0                \n",
      " ses_end_cart                 | 0.0                \n",
      "only showing top 1 row\n",
      "\n",
      "CPU times: user 1.1 ms, sys: 1.1 ms, total: 2.2 ms\n",
      "Wall time: 1.8 s\n"
     ]
    }
   ],
   "source": [
    "%%time\n",
    "full.show(1, vertical=True)"
   ]
  },
  {
   "cell_type": "code",
   "execution_count": 7,
   "metadata": {},
   "outputs": [
    {
     "name": "stdout",
     "output_type": "stream",
     "text": [
      "+-------+-------------------+\n",
      "|summary|     m2_total_spend|\n",
      "+-------+-------------------+\n",
      "|  count|             219080|\n",
      "|   mean| 3911.7643793777147|\n",
      "| stddev|  231481.4145618852|\n",
      "|    min|                0.0|\n",
      "|    25%|                0.0|\n",
      "|    50%|                0.0|\n",
      "|    75%|                0.0|\n",
      "|    max|8.611105072402954E7|\n",
      "+-------+-------------------+\n",
      "\n",
      "+-------+------------------+\n",
      "|summary|    m1_total_spend|\n",
      "+-------+------------------+\n",
      "|  count|            219080|\n",
      "|   mean|375.27011449155697|\n",
      "| stddev|26808.034855558904|\n",
      "|    min|               0.0|\n",
      "|    25%|               0.0|\n",
      "|    50%|               0.0|\n",
      "|    75%|               0.0|\n",
      "|    max|  8298110.25957489|\n",
      "+-------+------------------+\n",
      "\n",
      "+-------+-----------------+\n",
      "|summary|  m1_total_events|\n",
      "+-------+-----------------+\n",
      "|  count|           219080|\n",
      "|   mean|23.83292404601059|\n",
      "| stddev| 785.672172369044|\n",
      "|    min|                1|\n",
      "|    25%|                1|\n",
      "|    50%|                4|\n",
      "|    75%|               11|\n",
      "|    max|           335820|\n",
      "+-------+-----------------+\n",
      "\n",
      "+-------+------------------+\n",
      "|summary|m1_purchase_events|\n",
      "+-------+------------------+\n",
      "|  count|            219080|\n",
      "|   mean|1.1178747489501553|\n",
      "| stddev| 72.76027635167544|\n",
      "|    min|                 0|\n",
      "|    25%|                 0|\n",
      "|    50%|                 0|\n",
      "|    75%|                 0|\n",
      "|    max|             28950|\n",
      "+-------+------------------+\n",
      "\n",
      "+-------+------------------+\n",
      "|summary|  m1_user_sessions|\n",
      "+-------+------------------+\n",
      "|  count|            219080|\n",
      "|   mean|3.1178382326090928|\n",
      "| stddev|11.881828118892214|\n",
      "|    min|                 1|\n",
      "|    25%|                 1|\n",
      "|    50%|                 1|\n",
      "|    75%|                 3|\n",
      "|    max|              4642|\n",
      "+-------+------------------+\n",
      "\n",
      "+-------+------------------+\n",
      "|summary|num_sessions_month|\n",
      "+-------+------------------+\n",
      "|  count|            219080|\n",
      "|   mean| 12.81342888442578|\n",
      "| stddev| 37.59297034319337|\n",
      "|    min|                 1|\n",
      "|    25%|                 1|\n",
      "|    50%|                 3|\n",
      "|    75%|                11|\n",
      "|    max|              6048|\n",
      "+-------+------------------+\n",
      "\n",
      "+-------+------------------+\n",
      "|summary|        AvgSessLen|\n",
      "+-------+------------------+\n",
      "|  count|            219080|\n",
      "|   mean| 4117.651612214474|\n",
      "| stddev| 49236.61871763942|\n",
      "|    min|               0.0|\n",
      "|    25%|               0.0|\n",
      "|    50%|              40.5|\n",
      "|    75%|209.42857142857142|\n",
      "|    max|         2585613.0|\n",
      "+-------+------------------+\n",
      "\n",
      "+-------+------------------------+\n",
      "|summary|stddev_SessionLengthSecs|\n",
      "+-------+------------------------+\n",
      "|  count|                  108268|\n",
      "|   mean|         9453.3498337631|\n",
      "| stddev|       70554.82178732018|\n",
      "|    min|                     0.0|\n",
      "|    25%|       19.79898987322333|\n",
      "|    50%|      119.72572822914881|\n",
      "|    75%|      359.21024484276614|\n",
      "|    max|       1850786.945931919|\n",
      "+-------+------------------------+\n",
      "\n",
      "+-------+----------------------------+\n",
      "|summary|avg_interactions_per_session|\n",
      "+-------+----------------------------+\n",
      "|  count|                      219080|\n",
      "|   mean|           3.546020810211969|\n",
      "| stddev|           8.046055936891424|\n",
      "|    min|                         1.0|\n",
      "|    25%|                         1.0|\n",
      "|    50%|                         2.0|\n",
      "|    75%|                         4.0|\n",
      "|    max|                      1934.0|\n",
      "+-------+----------------------------+\n",
      "\n",
      "+-------+----------------------+\n",
      "|summary|stddev_int_per_session|\n",
      "+-------+----------------------+\n",
      "|  count|                108268|\n",
      "|   mean|     3.171661762660062|\n",
      "| stddev|     4.504080404523064|\n",
      "|    min|                   0.0|\n",
      "|    25%|    0.5773502691896257|\n",
      "|    50%|    1.7232808737106584|\n",
      "|    75%|     4.196559437338057|\n",
      "|    max|    171.82694782833104|\n",
      "+-------+----------------------+\n",
      "\n",
      "+-------+----------------------------+\n",
      "|summary|max_interactions_one_session|\n",
      "+-------+----------------------------+\n",
      "|  count|                      219080|\n",
      "|   mean|           5.947758809567281|\n",
      "| stddev|          11.605148326439908|\n",
      "|    min|                           1|\n",
      "|    25%|                           1|\n",
      "|    50%|                           2|\n",
      "|    75%|                           6|\n",
      "|    max|                        1934|\n",
      "+-------+----------------------------+\n",
      "\n",
      "+-------+----------------------------+\n",
      "|summary|purchase_pct_of_total_events|\n",
      "+-------+----------------------------+\n",
      "|  count|                      219080|\n",
      "|   mean|        0.008452082499911999|\n",
      "| stddev|         0.03742467999164926|\n",
      "|    min|                         0.0|\n",
      "|    25%|                         0.0|\n",
      "|    50%|                         0.0|\n",
      "|    75%|                         0.0|\n",
      "|    max|                         1.0|\n",
      "+-------+----------------------------+\n",
      "\n",
      "+-------+------------------------+\n",
      "|summary|cart_pct_of_total_events|\n",
      "+-------+------------------------+\n",
      "|  count|                  219080|\n",
      "|   mean|    0.028726327508357886|\n",
      "| stddev|     0.08664488174472215|\n",
      "|    min|                     0.0|\n",
      "|    25%|                     0.0|\n",
      "|    50%|                     0.0|\n",
      "|    75%|                     0.0|\n",
      "|    max|                     1.0|\n",
      "+-------+------------------------+\n",
      "\n",
      "+-------+------------------------+\n",
      "|summary|view_pct_of_total_events|\n",
      "+-------+------------------------+\n",
      "|  count|                  219080|\n",
      "|   mean|      0.9628215899917284|\n",
      "| stddev|     0.11063909272507204|\n",
      "|    min|                     0.0|\n",
      "|    25%|                     1.0|\n",
      "|    50%|                     1.0|\n",
      "|    75%|                     1.0|\n",
      "|    max|                     1.0|\n",
      "+-------+------------------------+\n",
      "\n",
      "+-------+-------------------------+\n",
      "|summary|avg_purchases_per_session|\n",
      "+-------+-------------------------+\n",
      "|  count|                   219080|\n",
      "|   mean|      0.04331824140998141|\n",
      "| stddev|       0.1982131742717173|\n",
      "|    min|                      0.0|\n",
      "|    25%|                      0.0|\n",
      "|    50%|                      0.0|\n",
      "|    75%|                      0.0|\n",
      "|    max|                      6.0|\n",
      "+-------+-------------------------+\n",
      "\n",
      "+-------+-------------------------+\n",
      "|summary|std_purchases_per_session|\n",
      "+-------+-------------------------+\n",
      "|  count|                   108268|\n",
      "|   mean|      0.07443034597669564|\n",
      "| stddev|       0.2201327207370418|\n",
      "|    min|                      0.0|\n",
      "|    25%|                      0.0|\n",
      "|    50%|                      0.0|\n",
      "|    75%|                      0.0|\n",
      "|    max|       7.0710678118654755|\n",
      "+-------+-------------------------+\n",
      "\n",
      "+-------+------------------+\n",
      "|summary|  monthlyCartTotal|\n",
      "+-------+------------------+\n",
      "|  count|            219080|\n",
      "|   mean|0.5991692532408253|\n",
      "| stddev|2.8275550844299824|\n",
      "|    min|                 0|\n",
      "|    25%|                 0|\n",
      "|    50%|                 0|\n",
      "|    75%|                 0|\n",
      "|    max|               260|\n",
      "+-------+------------------+\n",
      "\n",
      "+-------+--------------------+\n",
      "|summary|monthlyPurchaseTotal|\n",
      "+-------+--------------------+\n",
      "|  count|              219080|\n",
      "|   mean| 0.19050575132371736|\n",
      "| stddev|   1.341900779672323|\n",
      "|    min|                   0|\n",
      "|    25%|                   0|\n",
      "|    50%|                   0|\n",
      "|    75%|                   0|\n",
      "|    max|                 150|\n",
      "+-------+--------------------+\n",
      "\n",
      "+-------+------------------+\n",
      "|summary|  monthlyViewTotal|\n",
      "+-------+------------------+\n",
      "|  count|            219080|\n",
      "|   mean|12.023758444403871|\n",
      "| stddev| 36.12769727062092|\n",
      "|    min|                 0|\n",
      "|    25%|                 1|\n",
      "|    50%|                 3|\n",
      "|    75%|                10|\n",
      "|    max|              6044|\n",
      "+-------+------------------+\n",
      "\n",
      "+-------+--------------------+\n",
      "|summary|NumSessWithPurchases|\n",
      "+-------+--------------------+\n",
      "|  count|              219080|\n",
      "|   mean|  0.1581111922585357|\n",
      "| stddev|  0.9597074905688754|\n",
      "|    min|                   0|\n",
      "|    25%|                   0|\n",
      "|    50%|                   0|\n",
      "|    75%|                   0|\n",
      "|    max|                 109|\n",
      "+-------+--------------------+\n",
      "\n",
      "+-------+-------------------+\n",
      "|summary|    NumSessWithCart|\n",
      "+-------+-------------------+\n",
      "|  count|             219080|\n",
      "|   mean|0.35243746576593027|\n",
      "| stddev| 1.4074672064311833|\n",
      "|    min|                  0|\n",
      "|    25%|                  0|\n",
      "|    50%|                  0|\n",
      "|    75%|                  0|\n",
      "|    max|                123|\n",
      "+-------+-------------------+\n",
      "\n",
      "+-------+------------------+\n",
      "|summary|   NumSessWithView|\n",
      "+-------+------------------+\n",
      "|  count|            219080|\n",
      "|   mean|3.0970421763739275|\n",
      "| stddev|11.855685659492407|\n",
      "|    min|                 0|\n",
      "|    25%|                 1|\n",
      "|    50%|                 1|\n",
      "|    75%|                 3|\n",
      "|    max|              4642|\n",
      "+-------+------------------+\n",
      "\n",
      "+-------+-------------------+\n",
      "|summary|      ses_end_purch|\n",
      "+-------+-------------------+\n",
      "|  count|             219080|\n",
      "|   mean|0.03726815560620215|\n",
      "| stddev|0.15699722721191245|\n",
      "|    min|                0.0|\n",
      "|    25%|                0.0|\n",
      "|    50%|                0.0|\n",
      "|    75%|                0.0|\n",
      "|    max|                1.0|\n",
      "+-------+-------------------+\n",
      "\n",
      "+-------+-------------------+\n",
      "|summary|       ses_end_cart|\n",
      "+-------+-------------------+\n",
      "|  count|             219080|\n",
      "|   mean|0.04860163936548865|\n",
      "| stddev|0.16953099338051228|\n",
      "|    min|                0.0|\n",
      "|    25%|                0.0|\n",
      "|    50%|                0.0|\n",
      "|    75%|                0.0|\n",
      "|    max|                1.0|\n",
      "+-------+-------------------+\n",
      "\n",
      "CPU times: user 72.6 ms, sys: 18.5 ms, total: 91.1 ms\n",
      "Wall time: 11.9 s\n"
     ]
    }
   ],
   "source": [
    "%%time\n",
    "## Note: We have not yet determined our best predictors, but perhaps looking at these outputs will help us.\n",
    "for i in range(1,len(full.columns)):\n",
    "    j = full.columns[i]\n",
    "    full.select(j).summary().show()"
   ]
  },
  {
   "cell_type": "markdown",
   "metadata": {},
   "source": [
    "There are additional features that are not yet fully integrated in our engineered features. Here is our original dataset so we can do some basic summary of things like product_id, brand and individual price. \n",
    "\n",
    "Note that period is a feature that we added after filtering the data to easily keep track of which month a given row is from. This is the month 1 dataset, where all our predictors will come from. The month 2 dataset (not in this document) has been aggregated above to produce our response variable. "
   ]
  },
  {
   "cell_type": "code",
   "execution_count": 30,
   "metadata": {},
   "outputs": [],
   "source": [
    "m1 = spark.read.parquet(./processed_data/month_01_filtered.parquet)"
   ]
  },
  {
   "cell_type": "code",
   "execution_count": 35,
   "metadata": {},
   "outputs": [
    {
     "name": "stdout",
     "output_type": "stream",
     "text": [
      "root\n",
      " |-- user_id: integer (nullable = true)\n",
      " |-- event_time: timestamp (nullable = true)\n",
      " |-- event_type: string (nullable = true)\n",
      " |-- product_id: integer (nullable = true)\n",
      " |-- category_id: long (nullable = true)\n",
      " |-- category_code: string (nullable = true)\n",
      " |-- brand: string (nullable = true)\n",
      " |-- price: float (nullable = true)\n",
      " |-- user_session: string (nullable = true)\n",
      " |-- Period: integer (nullable = true)\n",
      "\n"
     ]
    }
   ],
   "source": [
    "m1.printSchema()"
   ]
  },
  {
   "cell_type": "code",
   "execution_count": 37,
   "metadata": {},
   "outputs": [
    {
     "data": {
      "text/plain": [
       "10"
      ]
     },
     "execution_count": 37,
     "metadata": {},
     "output_type": "execute_result"
    }
   ],
   "source": [
    "# Number of columns\n",
    "len(m1.schema)"
   ]
  },
  {
   "cell_type": "code",
   "execution_count": 97,
   "metadata": {},
   "outputs": [
    {
     "data": {
      "text/plain": [
       "3"
      ]
     },
     "execution_count": 97,
     "metadata": {},
     "output_type": "execute_result"
    }
   ],
   "source": [
    "m1.select('event_type').distinct().count()"
   ]
  },
  {
   "cell_type": "code",
   "execution_count": 31,
   "metadata": {},
   "outputs": [
    {
     "name": "stdout",
     "output_type": "stream",
     "text": [
      "CPU times: user 3.26 ms, sys: 74 µs, total: 3.33 ms\n",
      "Wall time: 1.9 s\n"
     ]
    },
    {
     "data": {
      "text/plain": [
       "181283"
      ]
     },
     "execution_count": 31,
     "metadata": {},
     "output_type": "execute_result"
    }
   ],
   "source": [
    "%%time\n",
    "m1.select('product_id').distinct().count()\n",
    "# There are 181,283 different products. "
   ]
  },
  {
   "cell_type": "code",
   "execution_count": 32,
   "metadata": {},
   "outputs": [
    {
     "name": "stdout",
     "output_type": "stream",
     "text": [
      "CPU times: user 187 µs, sys: 2.83 ms, total: 3.02 ms\n",
      "Wall time: 1.21 s\n"
     ]
    },
    {
     "data": {
      "text/plain": [
       "136"
      ]
     },
     "execution_count": 32,
     "metadata": {},
     "output_type": "execute_result"
    }
   ],
   "source": [
    "%%time\n",
    "m1.select('category_code').distinct().count()\n",
    "# There are 136 different categories"
   ]
  },
  {
   "cell_type": "code",
   "execution_count": 34,
   "metadata": {},
   "outputs": [
    {
     "name": "stdout",
     "output_type": "stream",
     "text": [
      "CPU times: user 766 µs, sys: 2.65 ms, total: 3.42 ms\n",
      "Wall time: 1.29 s\n"
     ]
    },
    {
     "data": {
      "text/plain": [
       "4770"
      ]
     },
     "execution_count": 34,
     "metadata": {},
     "output_type": "execute_result"
    }
   ],
   "source": [
    "%%time\n",
    "m1.select('brand').distinct().count()\n",
    "# There are 4770 different brands"
   ]
  },
  {
   "cell_type": "code",
   "execution_count": 42,
   "metadata": {},
   "outputs": [
    {
     "name": "stdout",
     "output_type": "stream",
     "text": [
      "+-------+-----------------+\n",
      "|summary|            price|\n",
      "+-------+-----------------+\n",
      "|  count|         15923973|\n",
      "|   mean|272.8108554043269|\n",
      "| stddev|334.8869399729803|\n",
      "|    min|              0.0|\n",
      "|    max|          2574.07|\n",
      "+-------+-----------------+\n",
      "\n"
     ]
    }
   ],
   "source": [
    "m1.describe('price').show()"
   ]
  },
  {
   "cell_type": "code",
   "execution_count": 43,
   "metadata": {},
   "outputs": [
    {
     "name": "stdout",
     "output_type": "stream",
     "text": [
      "CPU times: user 1.57 ms, sys: 1.73 ms, total: 3.3 ms\n",
      "Wall time: 2.15 s\n"
     ]
    },
    {
     "data": {
      "text/plain": [
       "2697902"
      ]
     },
     "execution_count": 43,
     "metadata": {},
     "output_type": "execute_result"
    }
   ],
   "source": [
    "%%time\n",
    "m1.select('user_session').distinct().count()\n",
    "# There are 2697902 different user sessions"
   ]
  },
  {
   "cell_type": "markdown",
   "metadata": {},
   "source": [
    "### Visualization"
   ]
  },
  {
   "cell_type": "markdown",
   "metadata": {},
   "source": [
    "##### Response Variable: Spend in month 2"
   ]
  },
  {
   "cell_type": "code",
   "execution_count": 49,
   "metadata": {},
   "outputs": [
    {
     "data": {
      "image/png": "[encoded data removed]",
      "text/plain": [
       "<Figure size 640x480 with 1 Axes>"
      ]
     },
     "metadata": {},
     "output_type": "display_data"
    }
   ],
   "source": [
    "response = full.select('m2_total_spend').toPandas()['m2_total_spend']\n",
    "plt.boxplot(response)\n",
    "plt.show()"
   ]
  },
  {
   "cell_type": "markdown",
   "metadata": {},
   "source": [
    "That's essentially useless, we're obviously going to have to do some transformation on our response and remove outliers, but here's a histogram:"
   ]
  },
  {
   "cell_type": "code",
   "execution_count": 50,
   "metadata": {},
   "outputs": [
    {
     "data": {
      "image/png": "[encoded data removed]",
      "text/plain": [
       "<Figure size 640x480 with 1 Axes>"
      ]
     },
     "metadata": {},
     "output_type": "display_data"
    }
   ],
   "source": [
    "plt.hist(response)\n",
    "plt.show()"
   ]
  },
  {
   "cell_type": "markdown",
   "metadata": {},
   "source": [
    "### Just to get an idea of how common purchases are..."
   ]
  },
  {
   "cell_type": "code",
   "execution_count": 89,
   "metadata": {},
   "outputs": [
    {
     "data": {
      "image/png": "[encoded data removed]",
      "text/plain": [
       "<Figure size 640x480 with 1 Axes>"
      ]
     },
     "metadata": {},
     "output_type": "display_data"
    }
   ],
   "source": [
    "events = m1.groupBy('event_type').count()\n",
    "x = events.select('event_type').toPandas()['event_type']\n",
    "y = events.select('count').toPandas()['count']\n",
    "\n",
    "plt.bar(x, y)\n",
    "plt.title(\"Count Of Event Type (Total)\")\n",
    "plt.xlabel(\"Event Type\")\n",
    "plt.ylabel(\"Count\")\n",
    "\n",
    "\n",
    "plt.show()"
   ]
  },
  {
   "cell_type": "markdown",
   "metadata": {},
   "source": [
    "#### To get an idea of the variation in behavior...standard deviation of interactions per session"
   ]
  },
  {
   "cell_type": "code",
   "execution_count": 95,
   "metadata": {},
   "outputs": [
    {
     "data": {
      "image/png": "[encoded data removed]",
      "text/plain": [
       "<Figure size 640x480 with 1 Axes>"
      ]
     },
     "metadata": {},
     "output_type": "display_data"
    }
   ],
   "source": [
    "response = full.select('stddev_int_per_session').toPandas()['stddev_int_per_session']\n",
    "plt.hist(response)\n",
    "plt.show()"
   ]
  },
  {
   "cell_type": "markdown",
   "metadata": {},
   "source": [
    "#### Average Purchases Per Session"
   ]
  },
  {
   "cell_type": "code",
   "execution_count": 94,
   "metadata": {},
   "outputs": [
    {
     "data": {
      "image/png": "[encoded data removed]",
      "text/plain": [
       "<Figure size 640x480 with 1 Axes>"
      ]
     },
     "metadata": {},
     "output_type": "display_data"
    }
   ],
   "source": [
    "response = full.select('avg_purchases_per_session').toPandas()['avg_purchases_per_session']\n",
    "plt.violinplot(response)\n",
    "plt.show()\n"
   ]
  },
  {
   "cell_type": "code",
   "execution_count": null,
   "metadata": {},
   "outputs": [],
   "source": []
  }
 ],
 "metadata": {
  "kernelspec": {
   "display_name": "DS 5110 Spark 3.1",
   "language": "python",
   "name": "ds5110_spark3.1"
  },
  "language_info": {
   "codemirror_mode": {
    "name": "ipython",
    "version": 3
   },
   "file_extension": ".py",
   "mimetype": "text/x-python",
   "name": "python",
   "nbconvert_exporter": "python",
   "pygments_lexer": "ipython3",
   "version": "3.7.10"
  }
 },
 "nbformat": 4,
 "nbformat_minor": 4
}
