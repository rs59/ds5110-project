{
 "cells": [
  {
   "cell_type": "markdown",
   "metadata": {},
   "source": [
    "## File 02 - Feature Creation\n",
    "\n",
    "In this file, we create new features from our interaction-level dataset, handle obvious errors/outliers, and perform PCA. "
   ]
  },
  {
   "cell_type": "markdown",
   "metadata": {},
   "source": [
    "### Set up Spark session and data schema\n",
    "\n",
    "We can specify more options in the SparkSession creator, but currently the options are at the default settings."
   ]
  },
  {
   "cell_type": "code",
   "execution_count": 172,
   "metadata": {},
   "outputs": [
    {
     "name": "stdout",
     "output_type": "stream",
     "text": [
      "CPU times: user 831 µs, sys: 485 µs, total: 1.32 ms\n",
      "Wall time: 942 µs\n"
     ]
    }
   ],
   "source": [
    "%%time\n",
    "from pyspark.sql import SparkSession\n",
    "from pyspark.sql import types as T\n",
    "import matplotlib.pyplot as plt\n",
    "from pyspark.sql.functions import col\n",
    "from pyspark.ml.feature import MinMaxScaler\n",
    "from pyspark.ml.feature import VectorAssembler\n",
    "from pyspark.ml import Pipeline\n",
    "from pyspark.sql.functions import udf\n",
    "from pyspark.sql.types import DoubleType, IntegerType\n",
    "from pyspark.sql.functions import *\n",
    "import datetime as dt\n",
    "from pyspark.sql.functions import translate\n",
    "\n",
    "from pyspark.ml.feature import PCA as PCAml\n",
    "from pyspark.ml.linalg import Vectors \n",
    "              \n",
    "import copy\n",
    "    \n",
    "import sys\n",
    "spark = SparkSession.builder \\\n",
    "        .appName(\"project\") \\\n",
    "        .getOrCreate()\n",
    "\n",
    "sc = spark.sparkContext\n",
    "\n",
    "#schema = \"`event_time` TIMESTAMP,`event_type` STRING,`product_id` INT,`category_id` BIGINT,`category_code` STRING,`brand` STRING,`price` FLOAT,`user_id` INT,`user_session` STRING\"\n",
    "#ddl_schema = T._parse_datatype_string(schema)"
   ]
  },
  {
   "cell_type": "markdown",
   "metadata": {},
   "source": [
    "See https://docs.google.com/document/d/1NG4KGticBXn0D3PL5_zMxLV2Pr7A8PQtLcasxCOd1nA/edit for table of features."
   ]
  },
  {
   "cell_type": "markdown",
   "metadata": {},
   "source": [
    "### Read in data"
   ]
  },
  {
   "cell_type": "code",
   "execution_count": 173,
   "metadata": {},
   "outputs": [
    {
     "name": "stdout",
     "output_type": "stream",
     "text": [
      "CPU times: user 3.7 ms, sys: 168 µs, total: 3.87 ms\n",
      "Wall time: 519 ms\n"
     ]
    }
   ],
   "source": [
    "%%time\n",
    "full = spark.read.parquet(\"./processed_data/preprocessed_01.parquet\")\n",
    "m1 = spark.read.parquet(\"./processed_data/month_01_filtered.parquet\") # This brings in the data we can create additional features from"
   ]
  },
  {
   "cell_type": "code",
   "execution_count": 174,
   "metadata": {},
   "outputs": [
    {
     "name": "stdout",
     "output_type": "stream",
     "text": [
      "219080\n",
      "+---------+--------------+------------------+------------+--------------+\n",
      "|  user_id| T_total_spend|       total_spend|total_events|total_sessions|\n",
      "+---------+--------------+------------------+------------+--------------+\n",
      "|413580824|           0.0|               0.0|           3|             2|\n",
      "|428963270|           0.0|               0.0|          68|             8|\n",
      "|501050566|           0.0|               0.0|           2|             1|\n",
      "|512378217|           0.0|               0.0|          25|             6|\n",
      "|512394054|39439.12109375|236.82000732421875|          56|            16|\n",
      "+---------+--------------+------------------+------------+--------------+\n",
      "only showing top 5 rows\n",
      "\n"
     ]
    }
   ],
   "source": [
    "print(full.count())\n",
    "full.show(5)"
   ]
  },
  {
   "cell_type": "code",
   "execution_count": 175,
   "metadata": {},
   "outputs": [
    {
     "name": "stdout",
     "output_type": "stream",
     "text": [
      "2807167\n",
      "+---------+-------------------+----------+----------+-------------------+--------------------+--------+------+--------------------+\n",
      "|  user_id|         event_time|event_type|product_id|        category_id|       category_code|   brand| price|        user_session|\n",
      "+---------+-------------------+----------+----------+-------------------+--------------------+--------+------+--------------------+\n",
      "|416793411|2020-01-12 13:16:29|      view|   1004836|2232732093077520756|construction.tool...| samsung|231.38|315c1383-b002-4c3...|\n",
      "|465783976|2020-01-04 10:36:20|      view|  13901213|2053013557343158789|construction.comp...|  blanco|218.65|75f6bddc-41f8-497...|\n",
      "|465783976|2020-01-04 10:37:14|      view|  13902800|2053013561092866779|   computers.desktop|  blanco|140.35|75f6bddc-41f8-497...|\n",
      "|465783976|2020-01-04 10:38:07|      view|  13902800|2053013561092866779|   computers.desktop|  blanco|140.35|75f6bddc-41f8-497...|\n",
      "|465783976|2020-01-04 10:40:08|      view|  13902647|2053013561092866779|   computers.desktop|omoikiri|185.13|75f6bddc-41f8-497...|\n",
      "+---------+-------------------+----------+----------+-------------------+--------------------+--------+------+--------------------+\n",
      "only showing top 5 rows\n",
      "\n"
     ]
    }
   ],
   "source": [
    "print(m1.count())\n",
    "m1.show(5)"
   ]
  },
  {
   "cell_type": "markdown",
   "metadata": {},
   "source": [
    "## Begin Creating Features\n",
    "### Create each on an individual level, then join to full\n",
    "##### NOTE: Must rename all features so that they do not contain parenthesis - not compatible with saving to parquet"
   ]
  },
  {
   "cell_type": "markdown",
   "metadata": {},
   "source": [
    "_________________"
   ]
  },
  {
   "cell_type": "markdown",
   "metadata": {},
   "source": [
    "#### Average Session Duration (avg_session_length)"
   ]
  },
  {
   "cell_type": "code",
   "execution_count": 176,
   "metadata": {},
   "outputs": [],
   "source": [
    "session_ends = m1.groupBy('user_id', 'user_session').agg(max('event_time'), min('event_time'))"
   ]
  },
  {
   "cell_type": "code",
   "execution_count": 177,
   "metadata": {},
   "outputs": [
    {
     "name": "stdout",
     "output_type": "stream",
     "text": [
      "+---------+--------------------+-------------------+-------------------+\n",
      "|  user_id|        user_session|    max(event_time)|    min(event_time)|\n",
      "+---------+--------------------+-------------------+-------------------+\n",
      "|514283509|ba808472-24ca-4a5...|2020-01-19 12:30:36|2020-01-19 12:30:36|\n",
      "|524368563|c00a9199-98cb-412...|2020-01-08 11:43:08|2020-01-08 11:41:06|\n",
      "|554064616|04d50e0d-b80c-44e...|2020-01-08 10:02:28|2020-01-08 10:02:28|\n",
      "|554426664|a6aebb81-e68d-4fc...|2020-01-20 11:57:27|2020-01-20 11:48:18|\n",
      "|560605592|535c77ff-60a7-432...|2020-01-21 13:03:42|2020-01-21 12:53:09|\n",
      "+---------+--------------------+-------------------+-------------------+\n",
      "only showing top 5 rows\n",
      "\n"
     ]
    }
   ],
   "source": [
    "session_ends.show(5)"
   ]
  },
  {
   "cell_type": "code",
   "execution_count": 178,
   "metadata": {},
   "outputs": [],
   "source": [
    "session_ends = session_ends.withColumn('session_length', (col(\"max(event_time)\").cast('long') - col(\"min(event_time)\").cast('long')))"
   ]
  },
  {
   "cell_type": "code",
   "execution_count": 179,
   "metadata": {},
   "outputs": [
    {
     "name": "stdout",
     "output_type": "stream",
     "text": [
      "+---------+--------------------+-------------------+-------------------+--------------+\n",
      "|  user_id|        user_session|    max(event_time)|    min(event_time)|session_length|\n",
      "+---------+--------------------+-------------------+-------------------+--------------+\n",
      "|550527121|9124b2c1-02e4-4cc...|2020-01-31 22:39:05|2020-01-01 07:10:21|       2647724|\n",
      "|593313269|bcaf86f2-1c1d-420...|2020-01-31 16:40:45|2020-01-01 05:36:13|       2631872|\n",
      "|516733273|2b0fc08b-bd1d-439...|2020-01-31 14:24:46|2020-01-01 07:09:16|       2618130|\n",
      "|566985224|9d0368d8-c6ac-42d...|2020-01-31 14:45:42|2020-01-01 07:41:22|       2617460|\n",
      "|542394994|1b9f919f-f044-4b5...|2020-01-31 14:14:10|2020-01-01 08:02:12|       2614318|\n",
      "+---------+--------------------+-------------------+-------------------+--------------+\n",
      "only showing top 5 rows\n",
      "\n"
     ]
    }
   ],
   "source": [
    "session_ends.orderBy(col(\"session_length\").desc()).show(5)\n",
    "# NOTE: Lots of these sessions are unreasonably long"
   ]
  },
  {
   "cell_type": "code",
   "execution_count": 180,
   "metadata": {},
   "outputs": [],
   "source": [
    "avg_sess = session_ends.groupBy('user_id').avg('session_length').withColumnRenamed('avg(session_length)', \"avg_session_length\")"
   ]
  },
  {
   "cell_type": "code",
   "execution_count": 181,
   "metadata": {},
   "outputs": [
    {
     "name": "stdout",
     "output_type": "stream",
     "text": [
      "+---------+------------------+\n",
      "|  user_id|avg_session_length|\n",
      "+---------+------------------+\n",
      "|512700240| 336.2857142857143|\n",
      "|514013554|         44762.375|\n",
      "|514338009| 161.1595744680851|\n",
      "|514747635|               0.0|\n",
      "|516092497|108.26666666666667|\n",
      "+---------+------------------+\n",
      "only showing top 5 rows\n",
      "\n"
     ]
    }
   ],
   "source": [
    "avg_sess.show(5)"
   ]
  },
  {
   "cell_type": "code",
   "execution_count": 182,
   "metadata": {},
   "outputs": [
    {
     "name": "stdout",
     "output_type": "stream",
     "text": [
      "219080\n",
      "+---------+------------------+------------------+------------+--------------+------------------+\n",
      "|  user_id|     T_total_spend|       total_spend|total_events|total_sessions|avg_session_length|\n",
      "+---------+------------------+------------------+------------+--------------+------------------+\n",
      "|512700240|14504.489959716797|1436.1799926757812|          66|             7| 336.2857142857143|\n",
      "|514013554| 7735.519714355469|               0.0|          52|             8|         44762.375|\n",
      "|514338009| 2786062.823135376| 269863.6780014038|       23472|            94| 161.1595744680851|\n",
      "|514747635|               0.0|               0.0|           1|             1|               0.0|\n",
      "|516092497|               0.0|               0.0|          38|            15|108.26666666666667|\n",
      "+---------+------------------+------------------+------------+--------------+------------------+\n",
      "only showing top 5 rows\n",
      "\n"
     ]
    }
   ],
   "source": [
    "full = full.join(avg_sess, full.user_id == avg_sess.user_id).drop(avg_sess.user_id)\n",
    "print(full.count())\n",
    "full.show(5)"
   ]
  },
  {
   "cell_type": "markdown",
   "metadata": {},
   "source": [
    "#### Std Deviation of session duration by person (sd_session_length)"
   ]
  },
  {
   "cell_type": "code",
   "execution_count": 183,
   "metadata": {},
   "outputs": [
    {
     "name": "stdout",
     "output_type": "stream",
     "text": [
      "+---------+--------------------+-------------------+-------------------+--------------+\n",
      "|  user_id|        user_session|    max(event_time)|    min(event_time)|session_length|\n",
      "+---------+--------------------+-------------------+-------------------+--------------+\n",
      "|514283509|ba808472-24ca-4a5...|2020-01-19 12:30:36|2020-01-19 12:30:36|             0|\n",
      "|524368563|c00a9199-98cb-412...|2020-01-08 11:43:08|2020-01-08 11:41:06|           122|\n",
      "|554064616|04d50e0d-b80c-44e...|2020-01-08 10:02:28|2020-01-08 10:02:28|             0|\n",
      "|554426664|a6aebb81-e68d-4fc...|2020-01-20 11:57:27|2020-01-20 11:48:18|           549|\n",
      "|560605592|535c77ff-60a7-432...|2020-01-21 13:03:42|2020-01-21 12:53:09|           633|\n",
      "+---------+--------------------+-------------------+-------------------+--------------+\n",
      "only showing top 5 rows\n",
      "\n"
     ]
    }
   ],
   "source": [
    "session_ends.show(5)"
   ]
  },
  {
   "cell_type": "code",
   "execution_count": 184,
   "metadata": {},
   "outputs": [],
   "source": [
    "sd_session_length = session_ends.groupBy('user_id') \\\n",
    "                                 .agg(stddev('session_length')) \\\n",
    "                                 .withColumnRenamed(\"stddev_samp(session_length)\", 'sd_session_length')"
   ]
  },
  {
   "cell_type": "code",
   "execution_count": 185,
   "metadata": {},
   "outputs": [
    {
     "name": "stdout",
     "output_type": "stream",
     "text": [
      "+---------+------------------+\n",
      "|  user_id| sd_session_length|\n",
      "+---------+------------------+\n",
      "|512700240|358.21209466167494|\n",
      "|514013554|126444.70285909568|\n",
      "|514338009| 255.1480827963551|\n",
      "|514747635|              null|\n",
      "|516092497|201.15149467384978|\n",
      "+---------+------------------+\n",
      "only showing top 5 rows\n",
      "\n"
     ]
    }
   ],
   "source": [
    "sd_session_length.show(5)"
   ]
  },
  {
   "cell_type": "code",
   "execution_count": 186,
   "metadata": {},
   "outputs": [],
   "source": [
    "full = full.join(sd_session_length, full.user_id == sd_session_length.user_id).drop(sd_session_length.user_id)"
   ]
  },
  {
   "cell_type": "markdown",
   "metadata": {},
   "source": [
    "#### UNFINISHED Distance from last interaction to end of month (seconds)\n"
   ]
  },
  {
   "cell_type": "code",
   "execution_count": 187,
   "metadata": {},
   "outputs": [],
   "source": [
    "# new_month = dt.datetime(2020,2,1,0,0).timestamp() # This is the epoch seconds of Feb 1, 2020 at midnight\n",
    "# new_month"
   ]
  },
  {
   "cell_type": "code",
   "execution_count": 188,
   "metadata": {},
   "outputs": [],
   "source": [
    "# last_interaction = m1.groupBy('user_id').agg(max('event_time'))\n",
    "# last_interaction.show()"
   ]
  },
  {
   "cell_type": "code",
   "execution_count": 189,
   "metadata": {},
   "outputs": [],
   "source": [
    "## last_int_dist = last_interaction.withColumn('time_from_end_month', timestamp(1580533200) - col('max(event_time)'))"
   ]
  },
  {
   "cell_type": "markdown",
   "metadata": {},
   "source": [
    "#### Average number of interactions per session (avg_interactions_per_session)"
   ]
  },
  {
   "cell_type": "code",
   "execution_count": 190,
   "metadata": {},
   "outputs": [],
   "source": [
    "interactions_per_session = m1.groupBy('user_id', 'user_session').agg(count('event_type'))"
   ]
  },
  {
   "cell_type": "code",
   "execution_count": 191,
   "metadata": {},
   "outputs": [
    {
     "name": "stdout",
     "output_type": "stream",
     "text": [
      "+---------+--------------------+-----------------+\n",
      "|  user_id|        user_session|count(event_type)|\n",
      "+---------+--------------------+-----------------+\n",
      "|514283509|ba808472-24ca-4a5...|                1|\n",
      "|524368563|c00a9199-98cb-412...|                4|\n",
      "|554064616|04d50e0d-b80c-44e...|                1|\n",
      "|554426664|a6aebb81-e68d-4fc...|                9|\n",
      "|560605592|535c77ff-60a7-432...|                6|\n",
      "+---------+--------------------+-----------------+\n",
      "only showing top 5 rows\n",
      "\n"
     ]
    }
   ],
   "source": [
    "interactions_per_session.show(5)"
   ]
  },
  {
   "cell_type": "code",
   "execution_count": 192,
   "metadata": {},
   "outputs": [],
   "source": [
    "avg_interactions_per_session = interactions_per_session.groupBy('user_id').avg('count(event_type)')"
   ]
  },
  {
   "cell_type": "code",
   "execution_count": 193,
   "metadata": {},
   "outputs": [],
   "source": [
    "avg_interactions_per_session = avg_interactions_per_session.withColumnRenamed('avg(count(event_type))', \"avg_interactions_per_session\")"
   ]
  },
  {
   "cell_type": "code",
   "execution_count": 194,
   "metadata": {},
   "outputs": [
    {
     "name": "stdout",
     "output_type": "stream",
     "text": [
      "+---------+-------------+-----------+------------+--------------+------------------+------------------+----------------------------+\n",
      "|  user_id|T_total_spend|total_spend|total_events|total_sessions|avg_session_length| sd_session_length|avg_interactions_per_session|\n",
      "+---------+-------------+-----------+------------+--------------+------------------+------------------+----------------------------+\n",
      "|405614124|          0.0|        0.0|           2|             2|               0.0|               0.0|                         1.0|\n",
      "|485991194|          0.0|        0.0|           3|             1|             398.0|              null|                         3.0|\n",
      "|496765250|          0.0|        0.0|           1|             1|               0.0|              null|                         1.0|\n",
      "|501980918|          0.0|        0.0|        2141|            40|          1955.925|3099.7057626077335|                      53.525|\n",
      "|502621333|          0.0|        0.0|           5|             3|221.66666666666666| 383.9379290111011|          1.6666666666666667|\n",
      "+---------+-------------+-----------+------------+--------------+------------------+------------------+----------------------------+\n",
      "only showing top 5 rows\n",
      "\n"
     ]
    }
   ],
   "source": [
    "full = full.join(avg_interactions_per_session, full.user_id == avg_interactions_per_session.user_id).drop(avg_interactions_per_session.user_id)\n",
    "full.show(5)"
   ]
  },
  {
   "cell_type": "markdown",
   "metadata": {},
   "source": [
    "#### Std Deviation of number of interactions per session per person (stddev_int_per_session)"
   ]
  },
  {
   "cell_type": "code",
   "execution_count": 195,
   "metadata": {},
   "outputs": [
    {
     "name": "stdout",
     "output_type": "stream",
     "text": [
      "+---------+---------------------------+\n",
      "|  user_id|sd_interactions_per_session|\n",
      "+---------+---------------------------+\n",
      "|512700240|          2.138089935299395|\n",
      "|514013554|         3.4121631178560534|\n",
      "|514338009|           6.08820433161764|\n",
      "|514747635|                       null|\n",
      "|516092497|         1.8464895909600494|\n",
      "+---------+---------------------------+\n",
      "only showing top 5 rows\n",
      "\n"
     ]
    }
   ],
   "source": [
    "std_interactions_per_session = interactions_per_session.groupBy('user_id') \\\n",
    "                                                       .agg(stddev('count(event_type)')) \\\n",
    "                                                       .withColumnRenamed(\"stddev_samp(count(event_type))\", 'sd_interactions_per_session')\n",
    "std_interactions_per_session.show(5)"
   ]
  },
  {
   "cell_type": "code",
   "execution_count": 196,
   "metadata": {},
   "outputs": [
    {
     "name": "stdout",
     "output_type": "stream",
     "text": [
      "+---------+-------------+-----------+------------+--------------+------------------+------------------+----------------------------+---------------------------+\n",
      "|  user_id|T_total_spend|total_spend|total_events|total_sessions|avg_session_length| sd_session_length|avg_interactions_per_session|sd_interactions_per_session|\n",
      "+---------+-------------+-----------+------------+--------------+------------------+------------------+----------------------------+---------------------------+\n",
      "|405614124|          0.0|        0.0|           2|             2|               0.0|               0.0|                         1.0|                        0.0|\n",
      "|485991194|          0.0|        0.0|           3|             1|             398.0|              null|                         3.0|                       null|\n",
      "|496765250|          0.0|        0.0|           1|             1|               0.0|              null|                         1.0|                       null|\n",
      "|501980918|          0.0|        0.0|        2141|            40|          1955.925|3099.7057626077335|                      53.525|          78.74691284140147|\n",
      "|502621333|          0.0|        0.0|           5|             3|221.66666666666666| 383.9379290111011|          1.6666666666666667|         1.1547005383792515|\n",
      "+---------+-------------+-----------+------------+--------------+------------------+------------------+----------------------------+---------------------------+\n",
      "only showing top 5 rows\n",
      "\n"
     ]
    }
   ],
   "source": [
    "full = full.join(std_interactions_per_session, full.user_id == std_interactions_per_session.user_id).drop(std_interactions_per_session.user_id)\n",
    "full.show(5)"
   ]
  },
  {
   "cell_type": "markdown",
   "metadata": {},
   "source": [
    "#### Max number of interactions within one session (max_interactions_one_session)"
   ]
  },
  {
   "cell_type": "code",
   "execution_count": 197,
   "metadata": {},
   "outputs": [],
   "source": [
    "max_interactions_per_session = interactions_per_session.groupBy('user_id').max('count(event_type)')"
   ]
  },
  {
   "cell_type": "code",
   "execution_count": 198,
   "metadata": {},
   "outputs": [],
   "source": [
    "max_interactions_per_session = max_interactions_per_session.withColumnRenamed('max(count(event_type))', \"max_interactions_per_session\")"
   ]
  },
  {
   "cell_type": "code",
   "execution_count": 199,
   "metadata": {},
   "outputs": [
    {
     "name": "stdout",
     "output_type": "stream",
     "text": [
      "+---------+----------------------------+\n",
      "|  user_id|max_interactions_per_session|\n",
      "+---------+----------------------------+\n",
      "|512700240|                           7|\n",
      "+---------+----------------------------+\n",
      "only showing top 1 row\n",
      "\n"
     ]
    }
   ],
   "source": [
    "max_interactions_per_session.show(1)"
   ]
  },
  {
   "cell_type": "code",
   "execution_count": 200,
   "metadata": {},
   "outputs": [
    {
     "name": "stdout",
     "output_type": "stream",
     "text": [
      "+---------+-------------+-----------+------------+--------------+------------------+------------------+----------------------------+---------------------------+----------------------------+\n",
      "|  user_id|T_total_spend|total_spend|total_events|total_sessions|avg_session_length| sd_session_length|avg_interactions_per_session|sd_interactions_per_session|max_interactions_per_session|\n",
      "+---------+-------------+-----------+------------+--------------+------------------+------------------+----------------------------+---------------------------+----------------------------+\n",
      "|405614124|          0.0|        0.0|           2|             2|               0.0|               0.0|                         1.0|                        0.0|                           1|\n",
      "|485991194|          0.0|        0.0|           3|             1|             398.0|              null|                         3.0|                       null|                           3|\n",
      "|496765250|          0.0|        0.0|           1|             1|               0.0|              null|                         1.0|                       null|                           1|\n",
      "|501980918|          0.0|        0.0|        2141|            40|          1955.925|3099.7057626077335|                      53.525|          78.74691284140147|                         265|\n",
      "|502621333|          0.0|        0.0|           5|             3|221.66666666666666| 383.9379290111011|          1.6666666666666667|         1.1547005383792515|                           3|\n",
      "+---------+-------------+-----------+------------+--------------+------------------+------------------+----------------------------+---------------------------+----------------------------+\n",
      "only showing top 5 rows\n",
      "\n"
     ]
    }
   ],
   "source": [
    "full = full.join(max_interactions_per_session, full.user_id == max_interactions_per_session.user_id).drop(max_interactions_per_session.user_id)\n",
    "full.show(5)"
   ]
  },
  {
   "cell_type": "markdown",
   "metadata": {},
   "source": [
    "#### Percent of total events that are x (Purchase, Cart, View) ('purchase_pct_of_total_events', 'cart_pct_of_total_events', 'view_pct_of_total_events')"
   ]
  },
  {
   "cell_type": "code",
   "execution_count": 201,
   "metadata": {},
   "outputs": [],
   "source": [
    "event_counts = m1.groupBy('user_id', 'user_session').pivot('event_type').agg(count('event_type'))\n",
    "# Here the three types of event count are pivoted out for later tabulation"
   ]
  },
  {
   "cell_type": "code",
   "execution_count": 202,
   "metadata": {},
   "outputs": [
    {
     "name": "stdout",
     "output_type": "stream",
     "text": [
      "+---------+--------------------+----+--------+----+\n",
      "|  user_id|        user_session|cart|purchase|view|\n",
      "+---------+--------------------+----+--------+----+\n",
      "|602491865|7ec0e1e6-94e0-493...|   0|       0|   4|\n",
      "|552639168|d335b338-322b-4eb...|   1|       1|   2|\n",
      "|581273021|847d49fa-06a5-438...|   0|       0|   3|\n",
      "|515047041|591cd0ea-f290-47c...|   0|       0|   1|\n",
      "|591332625|1f8c24dd-9574-47c...|   1|       0|  14|\n",
      "+---------+--------------------+----+--------+----+\n",
      "only showing top 5 rows\n",
      "\n"
     ]
    }
   ],
   "source": [
    "event_counts = event_counts.fillna(0) #replace nulls with 0 for math\n",
    "event_counts.show(5)"
   ]
  },
  {
   "cell_type": "code",
   "execution_count": 203,
   "metadata": {},
   "outputs": [],
   "source": [
    "events_per_session = event_counts.withColumn('events_per_session_total', col('cart') + col('purchase') + col('view')) \n",
    "# Get total number of events per session"
   ]
  },
  {
   "cell_type": "code",
   "execution_count": 204,
   "metadata": {},
   "outputs": [
    {
     "name": "stdout",
     "output_type": "stream",
     "text": [
      "+---------+--------------------+----+--------+----+------------------------+\n",
      "|  user_id|        user_session|cart|purchase|view|events_per_session_total|\n",
      "+---------+--------------------+----+--------+----+------------------------+\n",
      "|602491865|7ec0e1e6-94e0-493...|   0|       0|   4|                       4|\n",
      "|552639168|d335b338-322b-4eb...|   1|       1|   2|                       4|\n",
      "|581273021|847d49fa-06a5-438...|   0|       0|   3|                       3|\n",
      "|515047041|591cd0ea-f290-47c...|   0|       0|   1|                       1|\n",
      "|591332625|1f8c24dd-9574-47c...|   1|       0|  14|                      15|\n",
      "+---------+--------------------+----+--------+----+------------------------+\n",
      "only showing top 5 rows\n",
      "\n"
     ]
    }
   ],
   "source": [
    "events_per_session.show(5)"
   ]
  },
  {
   "cell_type": "code",
   "execution_count": 205,
   "metadata": {},
   "outputs": [],
   "source": [
    "pct_events = events_per_session.groupBy('user_id').sum()"
   ]
  },
  {
   "cell_type": "code",
   "execution_count": 206,
   "metadata": {},
   "outputs": [],
   "source": [
    "pct_totalevents = pct_events.withColumn('purchase_pct_of_total_events', col('sum(purchase)')/col('sum(events_per_session_total)')) \\\n",
    "                  .withColumn('view_pct_of_total_events', col('sum(view)')/col('sum(events_per_session_total)')) \\\n",
    "                  .withColumn('cart_pct_of_total_events', col('sum(cart)')/col('sum(events_per_session_total)'))"
   ]
  },
  {
   "cell_type": "code",
   "execution_count": 207,
   "metadata": {},
   "outputs": [],
   "source": [
    "merge_me = pct_totalevents.select('user_id', 'purchase_pct_of_total_events', 'view_pct_of_total_events', 'cart_pct_of_total_events')"
   ]
  },
  {
   "cell_type": "code",
   "execution_count": 208,
   "metadata": {},
   "outputs": [
    {
     "name": "stdout",
     "output_type": "stream",
     "text": [
      "+---------+-------------+-----------+------------+--------------+------------------+------------------+----------------------------+---------------------------+----------------------------+----------------------------+------------------------+------------------------+\n",
      "|  user_id|T_total_spend|total_spend|total_events|total_sessions|avg_session_length| sd_session_length|avg_interactions_per_session|sd_interactions_per_session|max_interactions_per_session|purchase_pct_of_total_events|view_pct_of_total_events|cart_pct_of_total_events|\n",
      "+---------+-------------+-----------+------------+--------------+------------------+------------------+----------------------------+---------------------------+----------------------------+----------------------------+------------------------+------------------------+\n",
      "|405614124|          0.0|        0.0|           2|             2|               0.0|               0.0|                         1.0|                        0.0|                           1|                         0.0|                     1.0|                     0.0|\n",
      "|485991194|          0.0|        0.0|           3|             1|             398.0|              null|                         3.0|                       null|                           3|                         0.0|                     1.0|                     0.0|\n",
      "|496765250|          0.0|        0.0|           1|             1|               0.0|              null|                         1.0|                       null|                           1|                         0.0|                     1.0|                     0.0|\n",
      "|501980918|          0.0|        0.0|        2141|            40|          1955.925|3099.7057626077335|                      53.525|          78.74691284140147|                         265|                         0.0|                     1.0|                     0.0|\n",
      "|502621333|          0.0|        0.0|           5|             3|221.66666666666666| 383.9379290111011|          1.6666666666666667|         1.1547005383792515|                           3|                         0.0|                     1.0|                     0.0|\n",
      "+---------+-------------+-----------+------------+--------------+------------------+------------------+----------------------------+---------------------------+----------------------------+----------------------------+------------------------+------------------------+\n",
      "only showing top 5 rows\n",
      "\n"
     ]
    }
   ],
   "source": [
    "full = full.join(merge_me, full.user_id == merge_me.user_id).drop(merge_me.user_id)\n",
    "full.show(5)"
   ]
  },
  {
   "cell_type": "markdown",
   "metadata": {},
   "source": [
    "#### Average number of purchases per session (avg_purchases_per_session)"
   ]
  },
  {
   "cell_type": "code",
   "execution_count": 209,
   "metadata": {},
   "outputs": [],
   "source": [
    "avg_purchases_per_session = events_per_session.groupBy('user_id').avg('purchase').withColumnRenamed('avg(purchase)', \"avg_purchases_per_session\")"
   ]
  },
  {
   "cell_type": "code",
   "execution_count": 210,
   "metadata": {},
   "outputs": [
    {
     "name": "stdout",
     "output_type": "stream",
     "text": [
      "+---------+-------------------------+\n",
      "|  user_id|avg_purchases_per_session|\n",
      "+---------+-------------------------+\n",
      "|512700240|       0.5714285714285714|\n",
      "|539141084|                     0.04|\n",
      "|606753158|                      0.0|\n",
      "|575813444|                      0.0|\n",
      "|581503547|                      0.0|\n",
      "+---------+-------------------------+\n",
      "only showing top 5 rows\n",
      "\n"
     ]
    }
   ],
   "source": [
    "avg_purchases_per_session.show(5)"
   ]
  },
  {
   "cell_type": "code",
   "execution_count": 211,
   "metadata": {},
   "outputs": [
    {
     "name": "stdout",
     "output_type": "stream",
     "text": [
      "+---------+-------------+-----------+------------+--------------+------------------+------------------+----------------------------+---------------------------+----------------------------+----------------------------+------------------------+------------------------+-------------------------+\n",
      "|  user_id|T_total_spend|total_spend|total_events|total_sessions|avg_session_length| sd_session_length|avg_interactions_per_session|sd_interactions_per_session|max_interactions_per_session|purchase_pct_of_total_events|view_pct_of_total_events|cart_pct_of_total_events|avg_purchases_per_session|\n",
      "+---------+-------------+-----------+------------+--------------+------------------+------------------+----------------------------+---------------------------+----------------------------+----------------------------+------------------------+------------------------+-------------------------+\n",
      "|405614124|          0.0|        0.0|           2|             2|               0.0|               0.0|                         1.0|                        0.0|                           1|                         0.0|                     1.0|                     0.0|                      0.0|\n",
      "|485991194|          0.0|        0.0|           3|             1|             398.0|              null|                         3.0|                       null|                           3|                         0.0|                     1.0|                     0.0|                      0.0|\n",
      "|496765250|          0.0|        0.0|           1|             1|               0.0|              null|                         1.0|                       null|                           1|                         0.0|                     1.0|                     0.0|                      0.0|\n",
      "|501980918|          0.0|        0.0|        2141|            40|          1955.925|3099.7057626077335|                      53.525|          78.74691284140147|                         265|                         0.0|                     1.0|                     0.0|                      0.0|\n",
      "|502621333|          0.0|        0.0|           5|             3|221.66666666666666| 383.9379290111011|          1.6666666666666667|         1.1547005383792515|                           3|                         0.0|                     1.0|                     0.0|                      0.0|\n",
      "+---------+-------------+-----------+------------+--------------+------------------+------------------+----------------------------+---------------------------+----------------------------+----------------------------+------------------------+------------------------+-------------------------+\n",
      "only showing top 5 rows\n",
      "\n"
     ]
    }
   ],
   "source": [
    "full = full.join(avg_purchases_per_session, full.user_id == avg_purchases_per_session.user_id).drop(avg_purchases_per_session.user_id)\n",
    "full.show(5)"
   ]
  },
  {
   "cell_type": "markdown",
   "metadata": {},
   "source": [
    "#### STD of number of purchases per session per person (std_purchases_per_session)"
   ]
  },
  {
   "cell_type": "code",
   "execution_count": 212,
   "metadata": {},
   "outputs": [
    {
     "name": "stdout",
     "output_type": "stream",
     "text": [
      "+---------+------------------------+\n",
      "|  user_id|sd_purchases_per_session|\n",
      "+---------+------------------------+\n",
      "|512700240|      0.5345224838248488|\n",
      "|539141084|                     0.2|\n",
      "|606753158|                     0.0|\n",
      "|575813444|                     0.0|\n",
      "|581503547|                     0.0|\n",
      "+---------+------------------------+\n",
      "only showing top 5 rows\n",
      "\n"
     ]
    }
   ],
   "source": [
    "std_purchases_per_session = events_per_session.groupBy('user_id') \\\n",
    "                                              .agg(stddev('purchase')) \\\n",
    "                                              .withColumnRenamed('stddev_samp(purchase)', \"sd_purchases_per_session\")\n",
    "std_purchases_per_session.show(5)"
   ]
  },
  {
   "cell_type": "code",
   "execution_count": 213,
   "metadata": {},
   "outputs": [
    {
     "name": "stdout",
     "output_type": "stream",
     "text": [
      "+---------+-------------+-----------+------------+--------------+------------------+------------------+----------------------------+---------------------------+----------------------------+----------------------------+------------------------+------------------------+-------------------------+------------------------+\n",
      "|  user_id|T_total_spend|total_spend|total_events|total_sessions|avg_session_length| sd_session_length|avg_interactions_per_session|sd_interactions_per_session|max_interactions_per_session|purchase_pct_of_total_events|view_pct_of_total_events|cart_pct_of_total_events|avg_purchases_per_session|sd_purchases_per_session|\n",
      "+---------+-------------+-----------+------------+--------------+------------------+------------------+----------------------------+---------------------------+----------------------------+----------------------------+------------------------+------------------------+-------------------------+------------------------+\n",
      "|405614124|          0.0|        0.0|           2|             2|               0.0|               0.0|                         1.0|                        0.0|                           1|                         0.0|                     1.0|                     0.0|                      0.0|                     0.0|\n",
      "|485991194|          0.0|        0.0|           3|             1|             398.0|              null|                         3.0|                       null|                           3|                         0.0|                     1.0|                     0.0|                      0.0|                    null|\n",
      "|496765250|          0.0|        0.0|           1|             1|               0.0|              null|                         1.0|                       null|                           1|                         0.0|                     1.0|                     0.0|                      0.0|                    null|\n",
      "|501980918|          0.0|        0.0|        2141|            40|          1955.925|3099.7057626077335|                      53.525|          78.74691284140147|                         265|                         0.0|                     1.0|                     0.0|                      0.0|                     0.0|\n",
      "|502621333|          0.0|        0.0|           5|             3|221.66666666666666| 383.9379290111011|          1.6666666666666667|         1.1547005383792515|                           3|                         0.0|                     1.0|                     0.0|                      0.0|                     0.0|\n",
      "+---------+-------------+-----------+------------+--------------+------------------+------------------+----------------------------+---------------------------+----------------------------+----------------------------+------------------------+------------------------+-------------------------+------------------------+\n",
      "only showing top 5 rows\n",
      "\n"
     ]
    }
   ],
   "source": [
    "full = full.join(std_purchases_per_session, full.user_id == std_purchases_per_session.user_id).drop(std_purchases_per_session.user_id)\n",
    "full.show(5)"
   ]
  },
  {
   "cell_type": "markdown",
   "metadata": {},
   "source": [
    "#### Total number of each type of event over whole month (monthlyCartTotal, monthlyPurchaseTotal, monthlyViewTotal)"
   ]
  },
  {
   "cell_type": "code",
   "execution_count": 214,
   "metadata": {},
   "outputs": [],
   "source": [
    "event_counts_month = event_counts.groupBy('user_id').sum('cart', 'purchase', 'view')\\\n",
    "                     .withColumnRenamed('sum(cart)', 'cart_events') \\\n",
    "                     .withColumnRenamed('sum(purchase)', 'purchase_events') \\\n",
    "                     .withColumnRenamed('sum(view)', 'view_events')"
   ]
  },
  {
   "cell_type": "code",
   "execution_count": 215,
   "metadata": {},
   "outputs": [
    {
     "name": "stdout",
     "output_type": "stream",
     "text": [
      "+---------+-----------+---------------+-----------+\n",
      "|  user_id|cart_events|purchase_events|view_events|\n",
      "+---------+-----------+---------------+-----------+\n",
      "|512700240|          6|              4|         23|\n",
      "|539141084|          2|              1|        184|\n",
      "|606753158|          0|              0|          5|\n",
      "|575813444|          0|              0|          9|\n",
      "|581503547|          2|              0|         57|\n",
      "+---------+-----------+---------------+-----------+\n",
      "only showing top 5 rows\n",
      "\n"
     ]
    }
   ],
   "source": [
    "event_counts_month.show(5)"
   ]
  },
  {
   "cell_type": "code",
   "execution_count": 216,
   "metadata": {},
   "outputs": [
    {
     "name": "stdout",
     "output_type": "stream",
     "text": [
      "+---------+-------------+-----------+------------+--------------+------------------+------------------+----------------------------+---------------------------+----------------------------+----------------------------+------------------------+------------------------+-------------------------+------------------------+-----------+---------------+-----------+\n",
      "|  user_id|T_total_spend|total_spend|total_events|total_sessions|avg_session_length| sd_session_length|avg_interactions_per_session|sd_interactions_per_session|max_interactions_per_session|purchase_pct_of_total_events|view_pct_of_total_events|cart_pct_of_total_events|avg_purchases_per_session|sd_purchases_per_session|cart_events|purchase_events|view_events|\n",
      "+---------+-------------+-----------+------------+--------------+------------------+------------------+----------------------------+---------------------------+----------------------------+----------------------------+------------------------+------------------------+-------------------------+------------------------+-----------+---------------+-----------+\n",
      "|405614124|          0.0|        0.0|           2|             2|               0.0|               0.0|                         1.0|                        0.0|                           1|                         0.0|                     1.0|                     0.0|                      0.0|                     0.0|          0|              0|          2|\n",
      "|485991194|          0.0|        0.0|           3|             1|             398.0|              null|                         3.0|                       null|                           3|                         0.0|                     1.0|                     0.0|                      0.0|                    null|          0|              0|          3|\n",
      "|496765250|          0.0|        0.0|           1|             1|               0.0|              null|                         1.0|                       null|                           1|                         0.0|                     1.0|                     0.0|                      0.0|                    null|          0|              0|          1|\n",
      "|501980918|          0.0|        0.0|        2141|            40|          1955.925|3099.7057626077335|                      53.525|          78.74691284140147|                         265|                         0.0|                     1.0|                     0.0|                      0.0|                     0.0|          0|              0|       2141|\n",
      "|502621333|          0.0|        0.0|           5|             3|221.66666666666666| 383.9379290111011|          1.6666666666666667|         1.1547005383792515|                           3|                         0.0|                     1.0|                     0.0|                      0.0|                     0.0|          0|              0|          5|\n",
      "+---------+-------------+-----------+------------+--------------+------------------+------------------+----------------------------+---------------------------+----------------------------+----------------------------+------------------------+------------------------+-------------------------+------------------------+-----------+---------------+-----------+\n",
      "only showing top 5 rows\n",
      "\n"
     ]
    }
   ],
   "source": [
    "full = full.join(event_counts_month, full.user_id == event_counts_month.user_id).drop(event_counts_month.user_id)\n",
    "full.show(5)"
   ]
  },
  {
   "cell_type": "markdown",
   "metadata": {},
   "source": [
    "#### Total number of sessions that contain event over whole month (NumSessWithPurchases, NumSessWithCart, NumSessWithView)"
   ]
  },
  {
   "cell_type": "code",
   "execution_count": 217,
   "metadata": {},
   "outputs": [],
   "source": [
    "events_over_month = events_per_session.withColumn('purchase_events', when(col('purchase') == 0, 0).otherwise(1)) \\\n",
    "                                      .withColumn('cart_events', when(col('cart')==0, 0).otherwise(1)) \\\n",
    "                                      .withColumn('view_events', when(col('view')==0, 0).otherwise(1))"
   ]
  },
  {
   "cell_type": "code",
   "execution_count": 218,
   "metadata": {},
   "outputs": [],
   "source": [
    "num_sesh_containing_event = events_over_month.groupBy('user_id').sum('purchase_events', \"cart_events\", \"view_events\") \\\n",
    "                            .withColumnRenamed(\"sum(purchase_events)\", \"sessions_with_purchase\") \\\n",
    "                            .withColumnRenamed(\"sum(cart_events)\", \"sessions_with_cart\") \\\n",
    "                            .withColumnRenamed(\"sum(view_events)\", \"sessions_with_view\")"
   ]
  },
  {
   "cell_type": "code",
   "execution_count": 219,
   "metadata": {},
   "outputs": [
    {
     "name": "stdout",
     "output_type": "stream",
     "text": [
      "+---------+----------------------+------------------+------------------+\n",
      "|  user_id|sessions_with_purchase|sessions_with_cart|sessions_with_view|\n",
      "+---------+----------------------+------------------+------------------+\n",
      "|512700240|                     4|                 4|                 7|\n",
      "|539141084|                     1|                 1|                25|\n",
      "|606753158|                     0|                 0|                 2|\n",
      "|575813444|                     0|                 0|                 7|\n",
      "|581503547|                     0|                 2|                10|\n",
      "+---------+----------------------+------------------+------------------+\n",
      "only showing top 5 rows\n",
      "\n"
     ]
    }
   ],
   "source": [
    "num_sesh_containing_event.show(5)"
   ]
  },
  {
   "cell_type": "code",
   "execution_count": 220,
   "metadata": {},
   "outputs": [
    {
     "name": "stdout",
     "output_type": "stream",
     "text": [
      "+---------+-------------+-----------+------------+--------------+------------------+------------------+----------------------------+---------------------------+----------------------------+----------------------------+------------------------+------------------------+-------------------------+------------------------+-----------+---------------+-----------+----------------------+------------------+------------------+\n",
      "|  user_id|T_total_spend|total_spend|total_events|total_sessions|avg_session_length| sd_session_length|avg_interactions_per_session|sd_interactions_per_session|max_interactions_per_session|purchase_pct_of_total_events|view_pct_of_total_events|cart_pct_of_total_events|avg_purchases_per_session|sd_purchases_per_session|cart_events|purchase_events|view_events|sessions_with_purchase|sessions_with_cart|sessions_with_view|\n",
      "+---------+-------------+-----------+------------+--------------+------------------+------------------+----------------------------+---------------------------+----------------------------+----------------------------+------------------------+------------------------+-------------------------+------------------------+-----------+---------------+-----------+----------------------+------------------+------------------+\n",
      "|405614124|          0.0|        0.0|           2|             2|               0.0|               0.0|                         1.0|                        0.0|                           1|                         0.0|                     1.0|                     0.0|                      0.0|                     0.0|          0|              0|          2|                     0|                 0|                 2|\n",
      "|485991194|          0.0|        0.0|           3|             1|             398.0|              null|                         3.0|                       null|                           3|                         0.0|                     1.0|                     0.0|                      0.0|                    null|          0|              0|          3|                     0|                 0|                 1|\n",
      "|496765250|          0.0|        0.0|           1|             1|               0.0|              null|                         1.0|                       null|                           1|                         0.0|                     1.0|                     0.0|                      0.0|                    null|          0|              0|          1|                     0|                 0|                 1|\n",
      "|501980918|          0.0|        0.0|        2141|            40|          1955.925|3099.7057626077335|                      53.525|          78.74691284140147|                         265|                         0.0|                     1.0|                     0.0|                      0.0|                     0.0|          0|              0|       2141|                     0|                 0|                40|\n",
      "|502621333|          0.0|        0.0|           5|             3|221.66666666666666| 383.9379290111011|          1.6666666666666667|         1.1547005383792515|                           3|                         0.0|                     1.0|                     0.0|                      0.0|                     0.0|          0|              0|          5|                     0|                 0|                 3|\n",
      "+---------+-------------+-----------+------------+--------------+------------------+------------------+----------------------------+---------------------------+----------------------------+----------------------------+------------------------+------------------------+-------------------------+------------------------+-----------+---------------+-----------+----------------------+------------------+------------------+\n",
      "only showing top 5 rows\n",
      "\n"
     ]
    }
   ],
   "source": [
    "full = full.join(num_sesh_containing_event, full.user_id == num_sesh_containing_event.user_id).drop(num_sesh_containing_event.user_id)\n",
    "full.show(5)"
   ]
  },
  {
   "cell_type": "markdown",
   "metadata": {},
   "source": [
    "#### Percent of individual's sessions that end in cart/purchase (ses_end_purch, ses_end_cart)"
   ]
  },
  {
   "cell_type": "code",
   "execution_count": 221,
   "metadata": {},
   "outputs": [
    {
     "name": "stdout",
     "output_type": "stream",
     "text": [
      "+---------+--------------------+----+--------+----+------------+--------+\n",
      "|  user_id|        user_session|cart|purchase|view|end_purchase|end_cart|\n",
      "+---------+--------------------+----+--------+----+------------+--------+\n",
      "|602491865|7ec0e1e6-94e0-493...|   0|       0|   4|           0|       0|\n",
      "|552639168|d335b338-322b-4eb...|   1|       1|   2|           1|       0|\n",
      "|581273021|847d49fa-06a5-438...|   0|       0|   3|           0|       0|\n",
      "|515047041|591cd0ea-f290-47c...|   0|       0|   1|           0|       0|\n",
      "|591332625|1f8c24dd-9574-47c...|   1|       0|  14|           0|       1|\n",
      "+---------+--------------------+----+--------+----+------------+--------+\n",
      "only showing top 5 rows\n",
      "\n"
     ]
    }
   ],
   "source": [
    "session_ends2 = event_counts.withColumn('end_purchase', \\\n",
    "                                when(col('purchase') != 0, 1) \\\n",
    "                                .otherwise(0)) \\\n",
    "                            .withColumn('end_cart', \\\n",
    "                                when((col(\"purchase\") == 0) & (col(\"cart\") != 0), 1) \\\n",
    "                                .otherwise(0))\n",
    "session_ends2.show(5)"
   ]
  },
  {
   "cell_type": "code",
   "execution_count": 222,
   "metadata": {},
   "outputs": [
    {
     "name": "stdout",
     "output_type": "stream",
     "text": [
      "+---------+-------------------+-----------------+-------------+\n",
      "|  user_id|count(user_session)|sum(end_purchase)|sum(end_cart)|\n",
      "+---------+-------------------+-----------------+-------------+\n",
      "|512700240|                  7|                4|            0|\n",
      "|539141084|                 25|                1|            0|\n",
      "|606753158|                  2|                0|            0|\n",
      "|575813444|                  7|                0|            0|\n",
      "|581503547|                 10|                0|            2|\n",
      "+---------+-------------------+-----------------+-------------+\n",
      "only showing top 5 rows\n",
      "\n"
     ]
    }
   ],
   "source": [
    "session_sum = session_ends2.groupBy('user_id').agg(count('user_session'), sum('end_purchase'), sum('end_cart'))\n",
    "session_sum.show(5)"
   ]
  },
  {
   "cell_type": "code",
   "execution_count": 223,
   "metadata": {},
   "outputs": [
    {
     "name": "stdout",
     "output_type": "stream",
     "text": [
      "+---------+-------------------+-----------------+-------------+-------------------------+---------------------+\n",
      "|  user_id|count(user_session)|sum(end_purchase)|sum(end_cart)|pct_sessions_end_purchase|pct_sessions_end_cart|\n",
      "+---------+-------------------+-----------------+-------------+-------------------------+---------------------+\n",
      "|512700240|                  7|                4|            0|       0.5714285714285714|                  0.0|\n",
      "|539141084|                 25|                1|            0|                     0.04|                  0.0|\n",
      "|606753158|                  2|                0|            0|                      0.0|                  0.0|\n",
      "|575813444|                  7|                0|            0|                      0.0|                  0.0|\n",
      "|581503547|                 10|                0|            2|                      0.0|                  0.2|\n",
      "+---------+-------------------+-----------------+-------------+-------------------------+---------------------+\n",
      "only showing top 5 rows\n",
      "\n"
     ]
    }
   ],
   "source": [
    "session_sum = session_sum.withColumn('pct_sessions_end_purchase', col('sum(end_purchase)')/col('count(user_session)')) \\\n",
    "                         .withColumn('pct_sessions_end_cart', col('sum(end_cart)')/col('count(user_session)'))\n",
    "session_sum.show(5)"
   ]
  },
  {
   "cell_type": "code",
   "execution_count": 224,
   "metadata": {},
   "outputs": [
    {
     "name": "stdout",
     "output_type": "stream",
     "text": [
      "+---------+-------------------------+---------------------+\n",
      "|  user_id|pct_sessions_end_purchase|pct_sessions_end_cart|\n",
      "+---------+-------------------------+---------------------+\n",
      "|512700240|       0.5714285714285714|                  0.0|\n",
      "|539141084|                     0.04|                  0.0|\n",
      "|606753158|                      0.0|                  0.0|\n",
      "|575813444|                      0.0|                  0.0|\n",
      "|581503547|                      0.0|                  0.2|\n",
      "+---------+-------------------------+---------------------+\n",
      "only showing top 5 rows\n",
      "\n"
     ]
    }
   ],
   "source": [
    "temp = session_sum.select('user_id', \"pct_sessions_end_purchase\", \"pct_sessions_end_cart\")\n",
    "temp.show(5)"
   ]
  },
  {
   "cell_type": "code",
   "execution_count": 225,
   "metadata": {},
   "outputs": [
    {
     "name": "stdout",
     "output_type": "stream",
     "text": [
      "+---------+-------------+-----------+------------+--------------+------------------+------------------+----------------------------+---------------------------+----------------------------+----------------------------+------------------------+------------------------+-------------------------+------------------------+-----------+---------------+-----------+----------------------+------------------+------------------+-------------------------+---------------------+\n",
      "|  user_id|T_total_spend|total_spend|total_events|total_sessions|avg_session_length| sd_session_length|avg_interactions_per_session|sd_interactions_per_session|max_interactions_per_session|purchase_pct_of_total_events|view_pct_of_total_events|cart_pct_of_total_events|avg_purchases_per_session|sd_purchases_per_session|cart_events|purchase_events|view_events|sessions_with_purchase|sessions_with_cart|sessions_with_view|pct_sessions_end_purchase|pct_sessions_end_cart|\n",
      "+---------+-------------+-----------+------------+--------------+------------------+------------------+----------------------------+---------------------------+----------------------------+----------------------------+------------------------+------------------------+-------------------------+------------------------+-----------+---------------+-----------+----------------------+------------------+------------------+-------------------------+---------------------+\n",
      "|405614124|          0.0|        0.0|           2|             2|               0.0|               0.0|                         1.0|                        0.0|                           1|                         0.0|                     1.0|                     0.0|                      0.0|                     0.0|          0|              0|          2|                     0|                 0|                 2|                      0.0|                  0.0|\n",
      "|485991194|          0.0|        0.0|           3|             1|             398.0|              null|                         3.0|                       null|                           3|                         0.0|                     1.0|                     0.0|                      0.0|                    null|          0|              0|          3|                     0|                 0|                 1|                      0.0|                  0.0|\n",
      "|496765250|          0.0|        0.0|           1|             1|               0.0|              null|                         1.0|                       null|                           1|                         0.0|                     1.0|                     0.0|                      0.0|                    null|          0|              0|          1|                     0|                 0|                 1|                      0.0|                  0.0|\n",
      "|501980918|          0.0|        0.0|        2141|            40|          1955.925|3099.7057626077335|                      53.525|          78.74691284140147|                         265|                         0.0|                     1.0|                     0.0|                      0.0|                     0.0|          0|              0|       2141|                     0|                 0|                40|                      0.0|                  0.0|\n",
      "|502621333|          0.0|        0.0|           5|             3|221.66666666666666| 383.9379290111011|          1.6666666666666667|         1.1547005383792515|                           3|                         0.0|                     1.0|                     0.0|                      0.0|                     0.0|          0|              0|          5|                     0|                 0|                 3|                      0.0|                  0.0|\n",
      "+---------+-------------+-----------+------------+--------------+------------------+------------------+----------------------------+---------------------------+----------------------------+----------------------------+------------------------+------------------------+-------------------------+------------------------+-----------+---------------+-----------+----------------------+------------------+------------------+-------------------------+---------------------+\n",
      "only showing top 5 rows\n",
      "\n"
     ]
    }
   ],
   "source": [
    "full = full.join(temp, full.user_id == temp.user_id).drop(temp.user_id)\n",
    "full.show(5)"
   ]
  },
  {
   "cell_type": "markdown",
   "metadata": {},
   "source": [
    "### Preview full dataframe"
   ]
  },
  {
   "cell_type": "code",
   "execution_count": 226,
   "metadata": {},
   "outputs": [
    {
     "name": "stdout",
     "output_type": "stream",
     "text": [
      "root\n",
      " |-- user_id: integer (nullable = true)\n",
      " |-- T_total_spend: double (nullable = true)\n",
      " |-- total_spend: double (nullable = true)\n",
      " |-- total_events: long (nullable = true)\n",
      " |-- total_sessions: long (nullable = true)\n",
      " |-- avg_session_length: double (nullable = true)\n",
      " |-- sd_session_length: double (nullable = true)\n",
      " |-- avg_interactions_per_session: double (nullable = true)\n",
      " |-- sd_interactions_per_session: double (nullable = true)\n",
      " |-- max_interactions_per_session: long (nullable = true)\n",
      " |-- purchase_pct_of_total_events: double (nullable = true)\n",
      " |-- view_pct_of_total_events: double (nullable = true)\n",
      " |-- cart_pct_of_total_events: double (nullable = true)\n",
      " |-- avg_purchases_per_session: double (nullable = true)\n",
      " |-- sd_purchases_per_session: double (nullable = true)\n",
      " |-- cart_events: long (nullable = true)\n",
      " |-- purchase_events: long (nullable = true)\n",
      " |-- view_events: long (nullable = true)\n",
      " |-- sessions_with_purchase: long (nullable = true)\n",
      " |-- sessions_with_cart: long (nullable = true)\n",
      " |-- sessions_with_view: long (nullable = true)\n",
      " |-- pct_sessions_end_purchase: double (nullable = true)\n",
      " |-- pct_sessions_end_cart: double (nullable = true)\n",
      "\n"
     ]
    }
   ],
   "source": [
    "full.printSchema()"
   ]
  },
  {
   "cell_type": "code",
   "execution_count": 227,
   "metadata": {},
   "outputs": [
    {
     "name": "stdout",
     "output_type": "stream",
     "text": [
      "+---------+-------------+-----------+------------+--------------+------------------+-----------------+----------------------------+---------------------------+----------------------------+----------------------------+------------------------+------------------------+-------------------------+------------------------+-----------+---------------+-----------+----------------------+------------------+------------------+-------------------------+---------------------+\n",
      "|  user_id|T_total_spend|total_spend|total_events|total_sessions|avg_session_length|sd_session_length|avg_interactions_per_session|sd_interactions_per_session|max_interactions_per_session|purchase_pct_of_total_events|view_pct_of_total_events|cart_pct_of_total_events|avg_purchases_per_session|sd_purchases_per_session|cart_events|purchase_events|view_events|sessions_with_purchase|sessions_with_cart|sessions_with_view|pct_sessions_end_purchase|pct_sessions_end_cart|\n",
      "+---------+-------------+-----------+------------+--------------+------------------+-----------------+----------------------------+---------------------------+----------------------------+----------------------------+------------------------+------------------------+-------------------------+------------------------+-----------+---------------+-----------+----------------------+------------------+------------------+-------------------------+---------------------+\n",
      "|405614124|          0.0|        0.0|           2|             2|               0.0|              0.0|                         1.0|                        0.0|                           1|                         0.0|                     1.0|                     0.0|                      0.0|                     0.0|          0|              0|          2|                     0|                 0|                 2|                      0.0|                  0.0|\n",
      "+---------+-------------+-----------+------------+--------------+------------------+-----------------+----------------------------+---------------------------+----------------------------+----------------------------+------------------------+------------------------+-------------------------+------------------------+-----------+---------------+-----------+----------------------+------------------+------------------+-------------------------+---------------------+\n",
      "only showing top 1 row\n",
      "\n"
     ]
    }
   ],
   "source": [
    "full.show(1)"
   ]
  },
  {
   "cell_type": "code",
   "execution_count": 228,
   "metadata": {},
   "outputs": [
    {
     "data": {
      "text/plain": [
       "219080"
      ]
     },
     "execution_count": 228,
     "metadata": {},
     "output_type": "execute_result"
    }
   ],
   "source": [
    "full.count()"
   ]
  },
  {
   "cell_type": "markdown",
   "metadata": {},
   "source": [
    "### Remove errors/outliers"
   ]
  },
  {
   "cell_type": "code",
   "execution_count": 229,
   "metadata": {},
   "outputs": [
    {
     "name": "stdout",
     "output_type": "stream",
     "text": [
      "+--------------+\n",
      "|total_sessions|\n",
      "+--------------+\n",
      "|          4642|\n",
      "|           938|\n",
      "|           854|\n",
      "|           738|\n",
      "|           532|\n",
      "|           505|\n",
      "|           396|\n",
      "|           347|\n",
      "|           331|\n",
      "|           317|\n",
      "|           313|\n",
      "|           301|\n",
      "|           290|\n",
      "|           278|\n",
      "|           271|\n",
      "|           271|\n",
      "|           253|\n",
      "|           242|\n",
      "|           239|\n",
      "|           221|\n",
      "|           195|\n",
      "|           192|\n",
      "|           190|\n",
      "|           173|\n",
      "|           171|\n",
      "|           171|\n",
      "|           171|\n",
      "|           158|\n",
      "|           154|\n",
      "|           152|\n",
      "+--------------+\n",
      "only showing top 30 rows\n",
      "\n"
     ]
    }
   ],
   "source": [
    "# Look at abnormally large number of sessions\n",
    "full.select('total_sessions').sort(desc('total_sessions')).show(30)"
   ]
  },
  {
   "cell_type": "code",
   "execution_count": 230,
   "metadata": {},
   "outputs": [
    {
     "name": "stdout",
     "output_type": "stream",
     "text": [
      "+--------------+\n",
      "|total_sessions|\n",
      "+--------------+\n",
      "|           290|\n",
      "|           278|\n",
      "|           271|\n",
      "|           271|\n",
      "|           253|\n",
      "+--------------+\n",
      "only showing top 5 rows\n",
      "\n"
     ]
    },
    {
     "data": {
      "text/plain": [
       "219068"
      ]
     },
     "execution_count": 230,
     "metadata": {},
     "output_type": "execute_result"
    }
   ],
   "source": [
    "# More than 10 sessions a day for a month (300) seems likely to be an error. Removing those rows. \n",
    "full = full.filter(col('total_sessions') <= 300)\n",
    "full.select('total_sessions').sort(desc('total_sessions')).show(5)\n",
    "full.count()"
   ]
  },
  {
   "cell_type": "code",
   "execution_count": 231,
   "metadata": {},
   "outputs": [
    {
     "name": "stdout",
     "output_type": "stream",
     "text": [
      "+------------------+\n",
      "|avg_session_length|\n",
      "+------------------+\n",
      "|         2585613.0|\n",
      "|         2536592.0|\n",
      "|         2501178.0|\n",
      "|         2374330.0|\n",
      "|         2370803.0|\n",
      "|         2352540.0|\n",
      "|         2339932.0|\n",
      "|         2290105.0|\n",
      "|         2265817.0|\n",
      "|         2239533.0|\n",
      "+------------------+\n",
      "only showing top 10 rows\n",
      "\n"
     ]
    }
   ],
   "source": [
    "# Look at abnormally long sessions\n",
    "# Average session length greater than 8 hours,or 28800 seconds, is almost certainly an error\n",
    "full.select('avg_session_length').sort(desc('avg_session_length')).show(10)"
   ]
  },
  {
   "cell_type": "code",
   "execution_count": 232,
   "metadata": {},
   "outputs": [
    {
     "name": "stdout",
     "output_type": "stream",
     "text": [
      "+------------------+\n",
      "|avg_session_length|\n",
      "+------------------+\n",
      "|           28780.5|\n",
      "|           28740.0|\n",
      "|          28720.25|\n",
      "|           28684.0|\n",
      "|           28657.5|\n",
      "+------------------+\n",
      "only showing top 5 rows\n",
      "\n"
     ]
    },
    {
     "data": {
      "text/plain": [
       "215443"
      ]
     },
     "execution_count": 232,
     "metadata": {},
     "output_type": "execute_result"
    }
   ],
   "source": [
    "# Remove individuals with average session length greater than 8 hours (28800 seconds)\n",
    "full = full.filter(col('avg_session_length') <= 28800)\n",
    "full.select('avg_session_length').sort(desc('avg_session_length')).show(5)\n",
    "full.count()"
   ]
  },
  {
   "cell_type": "code",
   "execution_count": 233,
   "metadata": {},
   "outputs": [
    {
     "name": "stdout",
     "output_type": "stream",
     "text": [
      "+------------------+---------------+--------------------+\n",
      "|       total_spend|purchase_events|       T_total_spend|\n",
      "+------------------+---------------+--------------------+\n",
      "|2044030.4928588867|             37|   6177837.887897491|\n",
      "|1612291.2746582031|             62|   6665424.844734192|\n",
      "|1510384.8189868927|             86|   7986746.659622192|\n",
      "|1194616.5629119873|             50|     6517077.0703125|\n",
      "| 1185409.803451538|             35|1.2214709955963135E7|\n",
      "|1130508.6236572266|             51|1.6676558014251709E7|\n",
      "| 872235.1594161987|             34|    4496551.80267334|\n",
      "| 779262.9273910522|             38|  3791775.5050964355|\n",
      "| 683402.0625114441|             47|   9966037.290367126|\n",
      "| 642396.4184399843|             82|   7555947.780554295|\n",
      "| 619132.0810317993|             16|    3823697.43548584|\n",
      "|504365.63328552246|             43|   1629816.219696045|\n",
      "| 478818.6016845703|             27|   4265970.681861877|\n",
      "|451705.52406311035|             78|   890662.3084888458|\n",
      "|  437716.404296875|             18|   4507557.630065918|\n",
      "| 430248.8093261719|             35|  2398293.2334594727|\n",
      "|382120.99990844727|             17|    7850063.33102417|\n",
      "|380728.25427246094|             18|  1525590.1976394653|\n",
      "|351577.52003479004|             20|   2294953.663192749|\n",
      "| 338740.3817138672|             13|  1927076.5895690918|\n",
      "| 338516.1580810547|             60|  2743237.7959899902|\n",
      "| 327689.2785612941|             14|   7175355.247192383|\n",
      "| 323472.3217468262|             50|  1968424.9357910156|\n",
      "| 317521.6077270508|             83|  1131772.4945926666|\n",
      "|309276.43841552734|             26|   704684.1942596436|\n",
      "| 307461.2415161133|             29|  1033802.6483764648|\n",
      "|286127.84160614014|             40|  3313196.4604492188|\n",
      "|277954.92251586914|             43|    885804.339630127|\n",
      "| 273272.0194168091|             39|  1124531.1747894287|\n",
      "| 269863.6780014038|             31|   2786062.823135376|\n",
      "| 268498.6195755005|             12|  1469043.7304229736|\n",
      "| 257083.5996246338|             36|   4799036.001396179|\n",
      "|255268.61492156982|             30|   630044.8818969727|\n",
      "|247086.72341918945|             29|  1386380.2592878342|\n",
      "| 242874.4485168457|             20|  1231355.0339813232|\n",
      "| 239495.5185546875|             48|  1294523.1552276611|\n",
      "|236697.44244384766|             12|   924458.6407470703|\n",
      "|210602.26684570312|             22|  2420901.4533233643|\n",
      "|195843.49967193604|             22|  1035277.2056427002|\n",
      "|193345.60029506683|             90|  3860774.9776735306|\n",
      "|191835.03945541382|             25|  2730365.5531311035|\n",
      "|185839.49907684326|             53|   931649.2697753906|\n",
      "|173897.50021743774|             18|      6326732.890625|\n",
      "| 173497.2786102295|             23|   784733.4227933884|\n",
      "|172485.23931884766|              7|   1518743.631286621|\n",
      "| 170283.7517261505|             16|  1035336.5451507568|\n",
      "|165092.20025634766|              9|     781218.28175354|\n",
      "|164211.59729003906|             15|  1555510.8096313477|\n",
      "|162430.79846191406|              8|   855358.8026428223|\n",
      "|  160476.478515625|             22|    999093.438583374|\n",
      "+------------------+---------------+--------------------+\n",
      "only showing top 50 rows\n",
      "\n",
      "+-------+------------------+\n",
      "|summary|       total_spend|\n",
      "+-------+------------------+\n",
      "|  count|            215443|\n",
      "|   mean|243.82085406132745|\n",
      "| stddev|  9695.33711137627|\n",
      "|    min|               0.0|\n",
      "|    25%|               0.0|\n",
      "|    50%|               0.0|\n",
      "|    75%|               0.0|\n",
      "|    max|2044030.4928588867|\n",
      "+-------+------------------+\n",
      "\n"
     ]
    }
   ],
   "source": [
    "# Look at outliers by total spend. \n",
    "full.select('total_spend', 'purchase_events', 'T_total_spend').sort(desc('total_spend')).show(50)\n",
    "full.select('total_spend').summary().show()"
   ]
  },
  {
   "cell_type": "code",
   "execution_count": 234,
   "metadata": {},
   "outputs": [
    {
     "name": "stdout",
     "output_type": "stream",
     "text": [
      "+-----------------+\n",
      "|      total_spend|\n",
      "+-----------------+\n",
      "|97969.59899902344|\n",
      "|95540.28037261963|\n",
      "|94285.19989013672|\n",
      "|94272.89993286133|\n",
      "| 94056.2700805664|\n",
      "+-----------------+\n",
      "only showing top 5 rows\n",
      "\n"
     ]
    },
    {
     "data": {
      "text/plain": [
       "215367"
      ]
     },
     "execution_count": 234,
     "metadata": {},
     "output_type": "execute_result"
    }
   ],
   "source": [
    "# Remove extreme outliers that spend > 100k a month... \n",
    "full = full.filter(col('total_spend') <= 100000)\n",
    "full.select('total_spend').sort(desc('total_spend')).show(5)\n",
    "full.count()"
   ]
  },
  {
   "cell_type": "code",
   "execution_count": 243,
   "metadata": {},
   "outputs": [
    {
     "name": "stdout",
     "output_type": "stream",
     "text": [
      "+------------+\n",
      "|total_events|\n",
      "+------------+\n",
      "|        3000|\n",
      "|        2982|\n",
      "|        2925|\n",
      "|        2886|\n",
      "|        2871|\n",
      "|        2844|\n",
      "|        2790|\n",
      "|        2723|\n",
      "|        2720|\n",
      "|        2716|\n",
      "|        2682|\n",
      "|        2632|\n",
      "|        2628|\n",
      "|        2584|\n",
      "|        2565|\n",
      "|        2560|\n",
      "|        2544|\n",
      "|        2538|\n",
      "|        2520|\n",
      "|        2516|\n",
      "|        2470|\n",
      "|        2470|\n",
      "|        2436|\n",
      "|        2425|\n",
      "|        2416|\n",
      "|        2394|\n",
      "|        2390|\n",
      "|        2385|\n",
      "|        2384|\n",
      "|        2365|\n",
      "|        2324|\n",
      "|        2254|\n",
      "|        2222|\n",
      "|        2208|\n",
      "|        2196|\n",
      "|        2190|\n",
      "|        2160|\n",
      "|        2160|\n",
      "|        2142|\n",
      "|        2141|\n",
      "|        2132|\n",
      "|        2080|\n",
      "|        2058|\n",
      "|        2025|\n",
      "|        2001|\n",
      "|        2000|\n",
      "|        1995|\n",
      "|        1980|\n",
      "|        1975|\n",
      "|        1950|\n",
      "+------------+\n",
      "only showing top 50 rows\n",
      "\n",
      "+-------+------------------+\n",
      "|summary|      total_events|\n",
      "+-------+------------------+\n",
      "|  count|            215313|\n",
      "|   mean|15.916674794369127|\n",
      "| stddev| 65.83642775757605|\n",
      "|    min|                 1|\n",
      "|    25%|                 1|\n",
      "|    50%|                 3|\n",
      "|    75%|                11|\n",
      "|    max|              3000|\n",
      "+-------+------------------+\n",
      "\n"
     ]
    }
   ],
   "source": [
    "# Look at abnormally large numbers of events\n",
    "# Greater than 3000 events is almost certainly a mistake. That's more than 100 events every day of the month\n",
    "full.select('total_events').sort(desc('total_events')).show(50)\n",
    "full.select('total_events').summary().show()"
   ]
  },
  {
   "cell_type": "code",
   "execution_count": 244,
   "metadata": {},
   "outputs": [
    {
     "name": "stdout",
     "output_type": "stream",
     "text": [
      "+------------+\n",
      "|total_events|\n",
      "+------------+\n",
      "|        3000|\n",
      "|        2982|\n",
      "|        2925|\n",
      "|        2886|\n",
      "|        2871|\n",
      "+------------+\n",
      "only showing top 5 rows\n",
      "\n"
     ]
    },
    {
     "data": {
      "text/plain": [
       "215313"
      ]
     },
     "execution_count": 244,
     "metadata": {},
     "output_type": "execute_result"
    }
   ],
   "source": [
    "# Remove extreme> 3000 events a month\n",
    "full = full.filter(col('total_events') <= 3000)\n",
    "full.select('total_events').sort(desc('total_events')).show(5)\n",
    "full.count()"
   ]
  },
  {
   "cell_type": "markdown",
   "metadata": {},
   "source": [
    "#### Save as parquet. (If saving in project group12 folder - Make sure to change permissions in bash using chmod 777 filename)"
   ]
  },
  {
   "cell_type": "code",
   "execution_count": 245,
   "metadata": {},
   "outputs": [
    {
     "name": "stdout",
     "output_type": "stream",
     "text": [
      "CPU times: user 3.97 ms, sys: 3.25 ms, total: 7.22 ms\n",
      "Wall time: 33 s\n"
     ]
    }
   ],
   "source": [
    "%%time\n",
    "full.write.mode(\"overwrite\").parquet(\"./processed_data/engineered_features.parquet\")"
   ]
  },
  {
   "cell_type": "code",
   "execution_count": 246,
   "metadata": {},
   "outputs": [
    {
     "name": "stdout",
     "output_type": "stream",
     "text": [
      "CPU times: user 1.2 ms, sys: 1.17 ms, total: 2.37 ms\n",
      "Wall time: 11.4 ms\n"
     ]
    }
   ],
   "source": [
    "%%time\n",
    "train, test = full.randomSplit([.8, .2], seed=42)"
   ]
  },
  {
   "cell_type": "markdown",
   "metadata": {},
   "source": [
    "#### Purchased items in month 1, converted to PCA (pca_purchases)\n",
    "\n",
    "Note: Unlike all of the other preprocessing, we need to train the PCA model on the training set, then implement it on the test set. For this reason it comes after the train/test split."
   ]
  },
  {
   "cell_type": "code",
   "execution_count": 247,
   "metadata": {},
   "outputs": [
    {
     "name": "stdout",
     "output_type": "stream",
     "text": [
      "CPU times: user 8 µs, sys: 4 µs, total: 12 µs\n",
      "Wall time: 15.7 µs\n"
     ]
    }
   ],
   "source": [
    "%%time\n",
    "\n",
    "# Create a function that prepares a dataset for PCA.\n",
    "\n",
    "# This function needs as input a list of columns on which PCA should be performed (and optionally\n",
    "#       the subset of acceptable columns from the training set). So, this way we don't test on data that we have never seen in training\n",
    "# This function need to return the subset of columns that should be used on the test set as well as the new PCA dataframe\n",
    "def pca_prepare_on_subset(subset_df, limited_columns=[]):\n",
    "    \n",
    "    # Only get this data from the training (or test) set\n",
    "    m1_subset = m1.join(subset_df,'user_id','leftsemi')\n",
    "\n",
    "    # Remove the periods from the dataframe category_code and replace with dashes. PySpark does not do well with periods in column\n",
    "    #  names, for some reason\n",
    "    m1_stripped = m1.withColumn('category_code_s', translate('category_code', '.', '-'))\n",
    "\n",
    "    # Pivot so that each category of purchase becomes a column\n",
    "    # This table only contains user_id and the categories that a user purchases\n",
    "    # This table is very sparse\n",
    "    cats = m1_stripped.filter(m1.event_type == \"purchase\").groupBy('user_id').pivot('category_code_s').count().na.fill(0)\n",
    "\n",
    "    # Now these are the specific columns we use as PCA input\n",
    "    pca_input_cols = [cols for cols in cats.columns if cols!='user_id' and cols!='null']\n",
    "        \n",
    "    # Make a new copy of columns (this is from the training set to the test set, in order to filter out other columns)\n",
    "    if(limited_columns==[]):\n",
    "        limited_columns = copy.deepcopy(pca_input_cols)\n",
    "        limited_columns.append('user_id')\n",
    "    else:\n",
    "        cats = cats.select(*limited_columns) # This is for the test set to select only the columns from train\n",
    "        # print(cats.schema)\n",
    "\n",
    "    # Transform columns into a sparse vector (prepare for PCA)\n",
    "    assembler = VectorAssembler(\n",
    "        inputCols=pca_input_cols,\n",
    "        outputCol=\"to_pca_columns\")\n",
    "    \n",
    "    # Create non sparse vector\n",
    "    pca_df = assembler.transform(cats)\n",
    "    return limited_columns, pca_df\n",
    "    "
   ]
  },
  {
   "cell_type": "code",
   "execution_count": 1,
   "metadata": {},
   "outputs": [
    {
     "ename": "NameError",
     "evalue": "name 'pca_prepare_on_subset' is not defined",
     "output_type": "error",
     "traceback": [
      "\u001b[0;31m---------------------------------------------------------------------------\u001b[0m",
      "\u001b[0;31mNameError\u001b[0m                                 Traceback (most recent call last)",
      "\u001b[0;32m<ipython-input-1-f9800238cc35>\u001b[0m in \u001b[0;36m<module>\u001b[0;34m\u001b[0m\n\u001b[1;32m      1\u001b[0m \u001b[0;31m# Get columns from training set and get training df\u001b[0m\u001b[0;34m\u001b[0m\u001b[0;34m\u001b[0m\u001b[0;34m\u001b[0m\u001b[0m\n\u001b[0;32m----> 2\u001b[0;31m \u001b[0mlimited_columns\u001b[0m\u001b[0;34m,\u001b[0m \u001b[0mtrain_pre_pca\u001b[0m \u001b[0;34m=\u001b[0m \u001b[0mpca_prepare_on_subset\u001b[0m\u001b[0;34m(\u001b[0m\u001b[0mtrain\u001b[0m\u001b[0;34m)\u001b[0m\u001b[0;34m\u001b[0m\u001b[0;34m\u001b[0m\u001b[0m\n\u001b[0m\u001b[1;32m      3\u001b[0m \u001b[0;31m# Limit to these columns on the test set and get test df\u001b[0m\u001b[0;34m\u001b[0m\u001b[0;34m\u001b[0m\u001b[0;34m\u001b[0m\u001b[0m\n\u001b[1;32m      4\u001b[0m \u001b[0m_\u001b[0m\u001b[0;34m,\u001b[0m \u001b[0mtest_pre_pca\u001b[0m \u001b[0;34m=\u001b[0m \u001b[0mpca_prepare_on_subset\u001b[0m\u001b[0;34m(\u001b[0m\u001b[0mtest\u001b[0m\u001b[0;34m,\u001b[0m \u001b[0mlimited_columns\u001b[0m\u001b[0;34m=\u001b[0m\u001b[0mlimited_columns\u001b[0m\u001b[0;34m)\u001b[0m\u001b[0;34m\u001b[0m\u001b[0;34m\u001b[0m\u001b[0m\n\u001b[1;32m      5\u001b[0m \u001b[0;34m\u001b[0m\u001b[0m\n",
      "\u001b[0;31mNameError\u001b[0m: name 'pca_prepare_on_subset' is not defined"
     ]
    }
   ],
   "source": [
    "# Get columns from training set and get training df\n",
    "limited_columns, train_pre_pca = pca_prepare_on_subset(train)\n",
    "# Limit to these columns on the test set and get test df\n",
    "_, test_pre_pca = pca_prepare_on_subset(test, limited_columns=limited_columns)\n",
    "\n",
    "# Visualize what this looks like\n",
    "train_pre_pca.select([\"user_id\",\"to_pca_columns\"]).show(2, truncate=False)\n",
    "\n",
    "# Create new PCA instance\n",
    "pca = PCAml(k=10, inputCol=\"to_pca_columns\", outputCol=\"pca_purchases\")\n",
    "# Fit on training data\n",
    "model = pca.fit(train_pre_pca)\n",
    "\n",
    "# Transform training and test sets\n",
    "train_with_pca = model.transform(train_pre_pca)\n",
    "test_with_pca = model.transform(test_pre_pca)\n"
   ]
  },
  {
   "cell_type": "code",
   "execution_count": 249,
   "metadata": {},
   "outputs": [],
   "source": [
    "# Merge PCA df back into full training set\n",
    "join_train_df = train_with_pca.select([\"user_id\",\"pca_purchases\"])\n",
    "train = train.join(join_train_df, train.user_id == join_train_df.user_id).drop(join_train_df.user_id)\n",
    "\n",
    "# Merge PCA df back into full test set\n",
    "join_test_df = test_with_pca.select([\"user_id\",\"pca_purchases\"])\n",
    "test = test.join(join_test_df, test.user_id == join_test_df.user_id).drop(join_test_df.user_id)"
   ]
  },
  {
   "cell_type": "code",
   "execution_count": 250,
   "metadata": {},
   "outputs": [
    {
     "name": "stdout",
     "output_type": "stream",
     "text": [
      "+---------+------------------+------------------+------------+--------------+------------------+------------------+----------------------------+---------------------------+----------------------------+----------------------------+------------------------+------------------------+-------------------------+------------------------+-----------+---------------+-----------+----------------------+------------------+------------------+-------------------------+---------------------+------------------------------------------------------------------------------------------------------------------------------------------------------------------------------------------------------------------------+\n",
      "|user_id  |T_total_spend     |total_spend       |total_events|total_sessions|avg_session_length|sd_session_length |avg_interactions_per_session|sd_interactions_per_session|max_interactions_per_session|purchase_pct_of_total_events|view_pct_of_total_events|cart_pct_of_total_events|avg_purchases_per_session|sd_purchases_per_session|cart_events|purchase_events|view_events|sessions_with_purchase|sessions_with_cart|sessions_with_view|pct_sessions_end_purchase|pct_sessions_end_cart|pca_purchases                                                                                                                                                                                                           |\n",
      "+---------+------------------+------------------+------------+--------------+------------------+------------------+----------------------------+---------------------------+----------------------------+----------------------------+------------------------+------------------------+-------------------------+------------------------+-----------+---------------+-----------+----------------------+------------------+------------------+-------------------------+---------------------+------------------------------------------------------------------------------------------------------------------------------------------------------------------------------------------------------------------------+\n",
      "|512541716|0.0               |250.7100067138672 |53          |16            |82.0625           |155.26298925801132|3.3125                      |3.8595120589698033         |15                          |0.018867924528301886        |0.9433962264150944      |0.03773584905660377     |0.0625                   |0.24999999999999997     |2          |1              |50         |1                     |1                 |16                |0.0625                   |0.0                  |[0.0,0.0,0.0,0.0,0.0,0.0,0.0,0.0,0.0,0.0]                                                                                                                                                                               |\n",
      "|512700240|14504.489959716797|1436.1799926757812|66          |7             |336.2857142857143 |358.21209466167494|4.714285714285714           |2.138089935299395          |7                           |0.12121212121212122         |0.696969696969697       |0.18181818181818182     |0.5714285714285714       |0.5345224838248488      |6          |4              |23         |4                     |4                 |7                 |0.5714285714285714       |0.0                  |[0.0028721094779266217,0.012912908076879379,-0.01173009225919151,-6.933677179245805E-4,-0.013292647217282943,0.031507697829990876,-0.02148165476070915,-0.04085419720822444,-0.057571110300137535,-0.1291459427419212]  |\n",
      "|513272614|0.0               |1958.3399963378906|46          |20            |38.05             |40.729499202214086|2.3                         |1.1742858972247996         |4                           |0.13043478260869565         |0.6956521739130435      |0.17391304347826086     |0.3                      |0.4701623459816272      |8          |6              |32         |6                     |8                 |20                |0.3                      |0.15                 |[-0.18344855831437776,-0.366106141094222,-5.841714555911533,-1.2830017555293278,-0.12080109555794305,-0.04449740094685019,-0.07075259542375816,-0.08846558047437424,-0.10039824810599707,-0.029215340096632687]         |\n",
      "|513435923|0.0               |146.4600067138672 |176         |12            |1002.9166666666666|2222.728522184689 |14.666666666666666          |19.373521448960517         |59                          |0.005681818181818182        |0.9545454545454546      |0.03977272727272727     |0.08333333333333333      |0.28867513459481287     |7          |1              |168        |1                     |2                 |12                |0.08333333333333333      |0.08333333333333333  |[-0.9990442351239863,-0.01126721651481656,0.03390930154735192,-0.007390476219174381,-0.007448617196650107,-0.017998297460381937,0.007347039455715583,-0.0037319248193850405,0.0016381660857366735,-2.526663303796979E-4]|\n",
      "|514227518|4784.539886474609 |143.1199951171875 |124         |3             |609.3333333333334 |638.2368943686454 |10.333333333333334          |8.082903768654761          |15                          |0.03225806451612903         |0.9354838709677419      |0.03225806451612903     |0.3333333333333333       |0.5773502691896257      |1          |1              |29         |1                     |1                 |3                 |0.3333333333333333       |0.0                  |[-0.03057475971906296,-0.061017690182370334,-0.9736190926519223,-0.21383362592155464,-0.02013351592632384,-0.007416233491141698,-0.011792099237293026,-0.014744263412395707,-0.01673304135099951,-0.0048692233494387815]|\n",
      "+---------+------------------+------------------+------------+--------------+------------------+------------------+----------------------------+---------------------------+----------------------------+----------------------------+------------------------+------------------------+-------------------------+------------------------+-----------+---------------+-----------+----------------------+------------------+------------------+-------------------------+---------------------+------------------------------------------------------------------------------------------------------------------------------------------------------------------------------------------------------------------------+\n",
      "only showing top 5 rows\n",
      "\n",
      "+---------+-------------+------------------+------------+--------------+------------------+------------------+----------------------------+---------------------------+----------------------------+----------------------------+------------------------+------------------------+-------------------------+------------------------+-----------+---------------+-----------+----------------------+------------------+------------------+-------------------------+---------------------+------------------------------------------------------------------------------------------------------------------------------------------------------------------------------------------------------------------------+\n",
      "|user_id  |T_total_spend|total_spend       |total_events|total_sessions|avg_session_length|sd_session_length |avg_interactions_per_session|sd_interactions_per_session|max_interactions_per_session|purchase_pct_of_total_events|view_pct_of_total_events|cart_pct_of_total_events|avg_purchases_per_session|sd_purchases_per_session|cart_events|purchase_events|view_events|sessions_with_purchase|sessions_with_cart|sessions_with_view|pct_sessions_end_purchase|pct_sessions_end_cart|pca_purchases                                                                                                                                                                                                           |\n",
      "+---------+-------------+------------------+------------+--------------+------------------+------------------+----------------------------+---------------------------+----------------------------+----------------------------+------------------------+------------------------+-------------------------+------------------------+-----------+---------------+-----------+----------------------+------------------+------------------+-------------------------+---------------------+------------------------------------------------------------------------------------------------------------------------------------------------------------------------------------------------------------------------+\n",
      "|512817510|0.0          |331.510009765625  |27          |5             |269.2             |405.4074493642168 |5.4                         |5.029910535983717          |13                          |0.037037037037037035        |0.8888888888888888      |0.07407407407407407     |0.2                      |0.4472135954999579      |2          |1              |24         |1                     |2                 |5                 |0.2                      |0.2                  |[-0.01030376098661502,0.018052732879243978,-0.035307250568466834,0.05677782599998369,0.025153803540839046,0.3052577372220355,0.016617623044925423,0.8794751896953739,0.2830159176914197,0.10890562768777806]            |\n",
      "|514109970|0.0          |532.780029296875  |29          |5             |325.8             |584.3703449012451 |5.8                         |6.610597552415364          |17                          |0.06896551724137931         |0.8275862068965517      |0.10344827586206896     |0.4                      |0.5477225575051661      |3          |2              |24         |2                     |3                 |5                 |0.4                      |0.2                  |[-1.9980884702479726,-0.02253443302963312,0.06781860309470383,-0.014780952438348762,-0.014897234393300214,-0.035996594920763875,0.014694078911431166,-0.007463849638770081,0.003276332171473347,-5.053326607593958E-4]  |\n",
      "|516002411|0.0          |124.56999969482422|4           |1             |112.0             |null              |4.0                         |null                       |4                           |0.25                        |0.5                     |0.25                    |1.0                      |null                    |1          |1              |2          |1                     |1                 |1                 |1.0                      |0.0                  |[-0.9990442351239863,-0.01126721651481656,0.03390930154735192,-0.007390476219174381,-0.007448617196650107,-0.017998297460381937,0.007347039455715583,-0.0037319248193850405,0.0016381660857366735,-2.526663303796979E-4]|\n",
      "|521001369|0.0          |1106.5899658203125|89          |12            |466.4166666666667 |499.2116436457739 |7.416666666666667           |7.86775159442106           |29                          |0.011235955056179775        |0.9662921348314607      |0.02247191011235955     |0.08333333333333333      |0.2886751345948129      |2          |1              |86         |1                     |1                 |12                |0.08333333333333333      |0.0                  |[-0.009486395795851891,0.03048227641084422,-0.103211606769307,0.37779887049984995,0.8861430798482851,-0.19536380266288836,0.03271627470636939,0.002370872028574548,0.03895496967246609,-0.023850374505876955]           |\n",
      "|522016201|0.0          |315.2200012207031 |11          |2             |242.0             |57.982756057296896|5.5                         |0.7071067811865476         |6                           |0.09090909090909091         |0.7272727272727273      |0.18181818181818182     |0.5                      |0.7071067811865476      |2          |1              |8          |1                     |1                 |2                 |0.5                      |0.0                  |[-0.9990442351239863,-0.01126721651481656,0.03390930154735192,-0.007390476219174381,-0.007448617196650107,-0.017998297460381937,0.007347039455715583,-0.0037319248193850405,0.0016381660857366735,-2.526663303796979E-4]|\n",
      "+---------+-------------+------------------+------------+--------------+------------------+------------------+----------------------------+---------------------------+----------------------------+----------------------------+------------------------+------------------------+-------------------------+------------------------+-----------+---------------+-----------+----------------------+------------------+------------------+-------------------------+---------------------+------------------------------------------------------------------------------------------------------------------------------------------------------------------------------------------------------------------------+\n",
      "only showing top 5 rows\n",
      "\n"
     ]
    }
   ],
   "source": [
    "train.show(5, truncate=False)\n",
    "test.show(5, truncate=False)"
   ]
  },
  {
   "cell_type": "markdown",
   "metadata": {},
   "source": [
    "#### Write train and test"
   ]
  },
  {
   "cell_type": "code",
   "execution_count": 251,
   "metadata": {},
   "outputs": [
    {
     "name": "stdout",
     "output_type": "stream",
     "text": [
      "CPU times: user 9.54 ms, sys: 6.63 ms, total: 16.2 ms\n",
      "Wall time: 1min 12s\n"
     ]
    }
   ],
   "source": [
    "%%time\n",
    "train.write.mode(\"overwrite\").parquet(\"./processed_data/train.parquet\")\n",
    "test.write.mode(\"overwrite\").parquet(\"./processed_data/test.parquet\")"
   ]
  },
  {
   "cell_type": "code",
   "execution_count": null,
   "metadata": {},
   "outputs": [],
   "source": []
  }
 ],
 "metadata": {
  "kernelspec": {
   "display_name": "DS 5110 Spark 3.1",
   "language": "python",
   "name": "ds5110_spark3.1"
  },
  "language_info": {
   "codemirror_mode": {
    "name": "ipython",
    "version": 3
   },
   "file_extension": ".py",
   "mimetype": "text/x-python",
   "name": "python",
   "nbconvert_exporter": "python",
   "pygments_lexer": "ipython3",
   "version": "3.7.10"
  }
 },
 "nbformat": 4,
 "nbformat_minor": 4
}
