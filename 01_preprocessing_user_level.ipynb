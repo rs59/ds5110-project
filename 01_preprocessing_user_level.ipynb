{
 "cells": [
  {
   "cell_type": "markdown",
   "metadata": {},
   "source": [
    "## File 01 - User-level Preprocessed Data Output\n",
    "\n",
    "In this file, we create the preprocessed user-level data with a few features.\n",
    "\n",
    "Outputs:\n",
    "- The preprocessed data file is output to `processed_data/preprocessed_01.parquet`.\n",
    "- Additionally, the raw data is filtered on the preprocessed data user ids: `processed_data/month_01_filtered.parquet`, `processed_data/month_02_filtered.parquet`.\n",
    "\n",
    "And then in script 02, we add additional features to the preprocessed data table for every row."
   ]
  },
  {
   "cell_type": "markdown",
   "metadata": {},
   "source": [
    "### Set up Spark session and data schema\n",
    "\n",
    "We can specify more options in the SparkSession creator, but currently the options are at the default settings."
   ]
  },
  {
   "cell_type": "code",
   "execution_count": 1,
   "metadata": {},
   "outputs": [
    {
     "name": "stdout",
     "output_type": "stream",
     "text": [
      "CPU times: user 219 ms, sys: 142 ms, total: 361 ms\n",
      "Wall time: 5.04 s\n"
     ]
    }
   ],
   "source": [
    "%%time\n",
    "from pyspark.sql import SparkSession\n",
    "from pyspark.sql import types as T\n",
    "\n",
    "spark = SparkSession.builder \\\n",
    "        .appName(\"project\") \\\n",
    "        .getOrCreate()\n",
    "\n",
    "sc = spark.sparkContext\n",
    "\n",
    "schema = \"`event_time` TIMESTAMP,`event_type` STRING,`product_id` INT,`category_id` BIGINT,`category_code` STRING,`brand` STRING,`price` FLOAT,`user_id` INT,`user_session` STRING\"\n",
    "#ddl_schema = T._parse_datatype_string(schema)"
   ]
  },
  {
   "cell_type": "markdown",
   "metadata": {},
   "source": [
    "### Read in dataframes"
   ]
  },
  {
   "cell_type": "code",
   "execution_count": 2,
   "metadata": {},
   "outputs": [
    {
     "name": "stdout",
     "output_type": "stream",
     "text": [
      "CPU times: user 2.43 ms, sys: 3.47 ms, total: 5.9 ms\n",
      "Wall time: 1.75 s\n"
     ]
    }
   ],
   "source": [
    "%%time\n",
    "df1 = spark.read.schema(schema).csv(\"/project/ds5559/group12/raw_data/2020-01.csv\")\n",
    "df2 = spark.read.schema(schema).csv(\"/project/ds5559/group12/raw_data/2020-02.csv\")"
   ]
  },
  {
   "cell_type": "markdown",
   "metadata": {},
   "source": [
    "### Limit number of records in dataframes\n",
    "\n",
    "We can limit each dataframe to a smaller subset. Notably, the dataframe is arranged by time, so this is how the subset will be biased."
   ]
  },
  {
   "cell_type": "code",
   "execution_count": 3,
   "metadata": {},
   "outputs": [],
   "source": [
    "# df1=df1.limit(100000)\n",
    "df1.createOrReplaceTempView(\"m1\")\n",
    "\n",
    "# df2=df11.limit(100000)\n",
    "df2.createOrReplaceTempView(\"m2\")"
   ]
  },
  {
   "cell_type": "markdown",
   "metadata": {},
   "source": [
    "### Create a transformed table containing elements of interest for our model\n",
    "\n",
    "We propose a basic table format (see https://docs.google.com/document/d/1NG4KGticBXn0D3PL5_zMxLV2Pr7A8PQtLcasxCOd1nA/edit).\n",
    "\n",
    "Every row is a user_id who exists in M1 and may or may not exist in M2.\n",
    "Columns include:\n",
    "- `user_id` (ID)\n",
    "- `m2_total_spend` (sum among all purchase events, NB: month 2. Will be 0 is user does not exist in month 2 or makes no purchase events)\n",
    "- `m1_total_spend` (sum among all purchase events)\n",
    "- `m1_user_sessions` (count of distinct user sessions/browsing sessions)\n",
    "- `m1_purchase_events` (count of distinct purchase events)\n",
    "\n",
    "Additional rows may have been added below.\n"
   ]
  },
  {
   "cell_type": "code",
   "execution_count": 4,
   "metadata": {},
   "outputs": [
    {
     "name": "stdout",
     "output_type": "stream",
     "text": [
      "+---------+--------------------+--------------------+---------------+------------------+----------------+\n",
      "|  user_id|      m2_total_spend|      m1_total_spend|m1_total_events|m1_purchase_events|m1_user_sessions|\n",
      "+---------+--------------------+--------------------+---------------+------------------+----------------+\n",
      "|568782581|2.3885857005200386E8| 5.821735228239441E7|         926856|            227808|             532|\n",
      "|563599039|2.3802253637968063E8| 6.886928014480591E7|         442758|            133743|             108|\n",
      "|549109608|1.8224688173866272E8| 5.723722944006348E7|         343000|             88151|             132|\n",
      "|513230794|2.0587978875039673E8| 4.171333637634277E7|         412115|             85845|              33|\n",
      "|582826305|1.9694101198085403E8|1.7104022296691895E7|         605784|             61404|             123|\n",
      "|598224683| 1.575333588699646E8|2.9562396529960632E7|         270300|             58650|             156|\n",
      "|572994775| 8.175372574493408E7| 1.597179462664032E7|         278478|             52731|             169|\n",
      "|513320236|1.1508168612892914E8|2.2369278694839478E7|         217890|             48330|              65|\n",
      "|602281209| 1.238869539738617E8|1.9945883200683594E7|         204320|             39040|             149|\n",
      "|601324663| 8.580432808032227E7|1.0922415023803711E7|         188000|             30750|              61|\n",
      "|592146169| 2.291341495513916E7|   5514538.153991699|         127400|             29666|              67|\n",
      "|592727922|1.1673367678547668E8|   8990452.824829102|         423648|             29376|              78|\n",
      "|517445697| 4.193260534939575E7|   9636030.007505417|         130355|             29290|             154|\n",
      "|566448225| 8.611105072402954E7|    8298110.25957489|         335820|             28950|             331|\n",
      "|521025518| 5.805999201248169E7|1.1752005871582031E7|         142590|             28809|              54|\n",
      "|600152037| 2.452843221221924E7|   4394389.220626831|         184544|             27492|             133|\n",
      "|572322956|2.2208796274469376E7|   5730729.441970825|         175896|             26964|             133|\n",
      "|513322839|2.4782991137771606E7|   6288004.392585754|         107970|             26169|              22|\n",
      "|561174161|6.2482197943611145E7|   8136881.659858704|         222183|             25320|             175|\n",
      "|597278112|  4.95544200963974E7| 1.009350573943615E7|         134000|             24254|             169|\n",
      "|572817408| 3.066646435466194E7|   4228052.990369797|         141168|             23868|             116|\n",
      "|538340540|6.7104980482406616E7|   9615336.572738647|         188370|             23842|             305|\n",
      "|561203381|  7.49958016791153E7|   9775213.008392334|         114395|             23701|             107|\n",
      "|580880864| 2.891635742661667E7|  1979694.9905753136|         175418|             21267|             124|\n",
      "|581832564|1.6470641393539429E7|   4323962.924743652|          87368|             20904|              46|\n",
      "|512518772| 4.472462466957855E7|   9624894.356002808|         109446|             18093|             124|\n",
      "|514429354|1.5142852663726807E7|   4508071.963989258|          62540|             17700|             152|\n",
      "|572088087|1.6025796284118652E7|   2414767.884159088|         135442|             17422|              58|\n",
      "|569181579| 2.408297282499695E7|   4726249.283733368|         127190|             17250|             127|\n",
      "|515428951|   7.0913896449646E7|1.7054528414669037E7|          94926|             17238|             132|\n",
      "|594206080|1.1189700821528435E7|   2606906.506881714|          84150|             16060|             101|\n",
      "|541733144| 3.808537581970215E7|   3636531.129333496|         225940|             15800|              61|\n",
      "|568411069|4.6156147136592865E7|   4978137.207836151|          98842|             14892|             196|\n",
      "|513685594|  2.88257929866333E7|  1850180.0644140244|         277542|             14688|             150|\n",
      "|562444578|2.1140884814110994E7|  1568527.7348985672|         146718|             14274|              77|\n",
      "|538216048|1.1745681221057129E8|1.9642999943202972E7|          85312|             14260|             162|\n",
      "|592671397|2.8190797554851532E7|   4216388.529733658|          88596|             14214|             144|\n",
      "|572855504| 1.428898683743763E7|  2553706.4387760162|          69052|             14152|              36|\n",
      "|592567756|1.7649132700279236E7|   2475712.487634182|         104951|             14091|             154|\n",
      "|552852475|1.1325220452430725E7|  1553338.0653305054|          87066|             13608|              79|\n",
      "|512409624|4.8499491992767334E7|   9735478.742614746|          64974|             13464|             206|\n",
      "|554568653| 5.637195401036835E7|   8566707.645549774|          77615|             13015|             143|\n",
      "|554551310| 3.363704474884033E7|   4125039.743751526|         104715|             12636|             205|\n",
      "|600040542| 1.209483629193306E7|  1577711.2792429924|          85656|             12556|              87|\n",
      "|585835507| 1.827018294062805E7|   4817638.480710983|          64800|             12300|              53|\n",
      "|590623686|1.0341352056703568E7|   2356840.192434311|         114576|             12276|              76|\n",
      "|583697927| 1.659820088847351E7|  1812667.1866149902|          98688|             12000|             110|\n",
      "|549143389| 2.901806042225647E7|   4129082.121032715|          74241|             11865|              95|\n",
      "|599628994|  7709937.9876823425|  2416981.9139328003|          49389|             11410|              39|\n",
      "|549724553|2.1931035414505005E7|  2792569.0963253975|          71928|             11211|              81|\n",
      "+---------+--------------------+--------------------+---------------+------------------+----------------+\n",
      "only showing top 50 rows\n",
      "\n",
      "CPU times: user 10.7 ms, sys: 7.75 ms, total: 18.4 ms\n",
      "Wall time: 1min 32s\n"
     ]
    }
   ],
   "source": [
    "%%time\n",
    "df = spark.sql(\"\"\"SELECT\n",
    "\n",
    "               /* ID */\n",
    "               m1.user_id AS user_id,\n",
    "               \n",
    "               /* Output: Total spend in month 2; Will be 0 is user does not exist in month 2 or makes no purchase events */\n",
    "               IFNULL(SUM(m2.price),0) AS m2_total_spend,\n",
    "               \n",
    "               \n",
    "               /* Total spend in month 1: we sum the price of any 'purchase' events */\n",
    "               SUM(CAST(m1.event_type=='purchase' AS INT) * m1.price) AS m1_total_spend,\n",
    "               \n",
    "               /* Total events in month 1: includes all event types (multiple per session) */\n",
    "               COUNT(m1.event_type) AS m1_total_events,\n",
    "               \n",
    "               /* Total purchase events in month 1: we sum the occurence of any 'purchase' events */\n",
    "               SUM(CAST(m1.event_type=='purchase' AS INT)) AS m1_purchase_events,\n",
    "               \n",
    "               /* Total user sessions in month 1: we count all distinct user sessions */\n",
    "               COUNT(DISTINCT m1.user_session) AS m1_user_sessions\n",
    "               \n",
    "               FROM m1\n",
    "            \n",
    "            /* Note: This is a left join, so participants in month 1 must participate to be included in the output */\n",
    "            LEFT JOIN \n",
    "            (\n",
    "               SELECT * FROM m2\n",
    "               WHERE event_type='purchase'\n",
    "            ) m2\n",
    "            \n",
    "            ON m1.user_id=m2.user_id\n",
    "            \n",
    "            /* Prevent adding bad data where user_id is null */\n",
    "            WHERE ISNULL(m1.user_id)<>1\n",
    "            \n",
    "            GROUP BY m1.user_id ORDER BY m1_purchase_events DESC\"\"\")\n",
    "df.show(50)"
   ]
  },
  {
   "cell_type": "markdown",
   "metadata": {},
   "source": [
    "#### Filter the overall dataset to a subset in order to make sure that the output from the feature addition script is under 3GB."
   ]
  },
  {
   "cell_type": "code",
   "execution_count": 5,
   "metadata": {},
   "outputs": [
    {
     "name": "stdout",
     "output_type": "stream",
     "text": [
      "CPU times: user 6.38 ms, sys: 7.37 ms, total: 13.8 ms\n",
      "Wall time: 1min 8s\n"
     ]
    }
   ],
   "source": [
    "%%time\n",
    "\n",
    "# We can control this level to make the preprocessed data under 3 GB\n",
    "split_level = 0.05 # percentage\n",
    "\n",
    "kept_df, garbage_df = df.randomSplit([split_level, 1-split_level], seed=42)\n",
    "kept_df.write.mode(\"overwrite\").parquet(\"./processed_data/preprocessed_01.parquet\")"
   ]
  },
  {
   "cell_type": "markdown",
   "metadata": {},
   "source": [
    "#### Write the preprocessed data to file."
   ]
  },
  {
   "cell_type": "code",
   "execution_count": 6,
   "metadata": {},
   "outputs": [
    {
     "name": "stdout",
     "output_type": "stream",
     "text": [
      "CPU times: user 2 µs, sys: 2 µs, total: 4 µs\n",
      "Wall time: 6.44 µs\n"
     ]
    }
   ],
   "source": [
    "%%time\n",
    "# Not necessary at this time, but this CSV can be written if desired\n",
    "# kept_df.coalesce(1).write.option(\"header\", \"true\").csv(\"./processed_data/temp_preprocessed_01.csv\")"
   ]
  },
  {
   "cell_type": "markdown",
   "metadata": {},
   "source": [
    "#### Write the raw data, filtered on the appropriate user-ids, to files."
   ]
  },
  {
   "cell_type": "code",
   "execution_count": 7,
   "metadata": {},
   "outputs": [
    {
     "name": "stdout",
     "output_type": "stream",
     "text": [
      "+---------+-------------------+----------+----------+-------------------+--------------------+--------+------+--------------------+\n",
      "|  user_id|         event_time|event_type|product_id|        category_id|       category_code|   brand| price|        user_session|\n",
      "+---------+-------------------+----------+----------+-------------------+--------------------+--------+------+--------------------+\n",
      "|405614124|2020-01-06 11:42:08|      view|   1004767|2232732093077520756|construction.tool...| samsung|232.77|18bc9e5e-d556-4cd...|\n",
      "|405614124|2020-01-23 21:47:06|      view|   4804718|2232732079706079299|       sport.bicycle|   apple|321.41|7e972da4-7007-46d...|\n",
      "|485991194|2020-01-06 18:35:24|      view|   1004767|2232732093077520756|construction.tool...| samsung|232.67|a7ac67d4-bec6-42b...|\n",
      "|485991194|2020-01-06 18:41:44|      view|   1004767|2232732093077520756|construction.tool...| samsung|232.67|a7ac67d4-bec6-42b...|\n",
      "|485991194|2020-01-06 18:42:02|      view|   1004767|2232732093077520756|construction.tool...| samsung|232.67|a7ac67d4-bec6-42b...|\n",
      "|496765250|2020-01-08 18:55:44|      view|   4804718|2232732079706079299|       sport.bicycle|   apple|336.53|f7862011-17af-4cf...|\n",
      "|501980918|2020-01-05 03:56:52|      view|   2701387|2232732091718566220|appliances.kitche...|    null|221.09|7febd784-e20c-450...|\n",
      "|501980918|2020-01-05 03:57:00|      view|   2701431|2232732091718566220|appliances.kitche...|    null|231.64|7febd784-e20c-450...|\n",
      "|501980918|2020-01-05 03:57:10|      view|   2701652|2232732091718566220|appliances.kitche...|    null|215.45|7febd784-e20c-450...|\n",
      "|501980918|2020-01-05 03:57:20|      view|   2701419|2232732091718566220|appliances.kitche...|    null|177.38|7febd784-e20c-450...|\n",
      "|501980918|2020-01-05 03:58:00|      view|   2700600|2232732091718566220|appliances.kitche...|    null|249.71|7febd784-e20c-450...|\n",
      "|501980918|2020-01-05 03:58:07|      view|   2700406|2232732091718566220|appliances.kitche...|    null|261.63|7febd784-e20c-450...|\n",
      "|501980918|2020-01-05 03:58:30|      view|   2702012|2232732091718566220|appliances.kitche...|    null|283.12|7febd784-e20c-450...|\n",
      "|501980918|2020-01-05 04:00:25|      view|   6000231|2232732103546503769|       apparel.shoes|     tec|169.89|7febd784-e20c-450...|\n",
      "|501980918|2020-01-05 04:00:48|      view|   6000162|2232732103546503769|       apparel.shoes| pandora| 192.8|7febd784-e20c-450...|\n",
      "|501980918|2020-01-05 04:02:15|      view|   6000215|2232732103546503769|       apparel.shoes| pandora|153.16|7febd784-e20c-450...|\n",
      "|501980918|2020-01-05 04:09:50|      view|   6000105|2232732103546503769|       apparel.shoes|starline|182.24|7febd784-e20c-450...|\n",
      "|501980918|2020-01-05 04:10:20|      view|   6000232|2232732103546503769|       apparel.shoes|starline|165.51|7febd784-e20c-450...|\n",
      "|501980918|2020-01-05 04:11:09|      view|   6000004|2232732103546503769|       apparel.shoes|starline|146.72|7febd784-e20c-450...|\n",
      "|501980918|2020-01-05 04:13:17|      view|   6000159|2053013560807654091|auto.accessories....| pandora|145.18|7febd784-e20c-450...|\n",
      "+---------+-------------------+----------+----------+-------------------+--------------------+--------+------+--------------------+\n",
      "only showing top 20 rows\n",
      "\n",
      "CPU times: user 38.1 ms, sys: 39.7 ms, total: 77.8 ms\n",
      "Wall time: 6min 18s\n"
     ]
    }
   ],
   "source": [
    "%%time\n",
    "month_01_filtered = df1.join(kept_df,'user_id','leftsemi')\n",
    "month_01_filtered.show(20)"
   ]
  },
  {
   "cell_type": "code",
   "execution_count": 8,
   "metadata": {},
   "outputs": [
    {
     "name": "stdout",
     "output_type": "stream",
     "text": [
      "+---------+-------------------+----------+----------+-------------------+--------------------+-------+------+--------------------+\n",
      "|  user_id|         event_time|event_type|product_id|        category_id|       category_code|  brand| price|        user_session|\n",
      "+---------+-------------------+----------+----------+-------------------+--------------------+-------+------+--------------------+\n",
      "|485991194|2020-02-07 17:23:12|      view|  21400996|2232732082063278200|  electronics.clocks|  casio| 82.06|f039b328-dabb-444...|\n",
      "|485991194|2020-02-07 21:30:52|      view|   4803977|2232732079706079299|       sport.bicycle|samsung|102.33|f039b328-dabb-444...|\n",
      "|496765250|2020-02-24 19:23:42|      view|   5701037|2053013554415534427|electronics.video.tv|   swat|100.39|21467349-aaca-49b...|\n",
      "|496765250|2020-02-24 19:24:51|      view|   5701037|2053013554415534427|electronics.video.tv|   swat|100.39|21467349-aaca-49b...|\n",
      "|496765250|2020-02-24 19:25:14|      view|   5700793|2053013554415534427|electronics.video.tv|kenwood|172.84|1d687895-e6f5-481...|\n",
      "|496765250|2020-02-24 19:33:04|      view|   4700476|2053013560899928785|auto.accessories....| xiaomi| 51.46|788c672e-657b-4bb...|\n",
      "|496765250|2020-02-24 19:33:40|      view|   4700476|2053013560899928785|auto.accessories....| xiaomi| 51.46|788c672e-657b-4bb...|\n",
      "|501980918|2020-02-03 04:04:37|      view|   2700283|2232732091718566220|appliances.kitche...|  pozis|295.99|7f23bf04-f3c6-479...|\n",
      "|501980918|2020-02-03 07:15:02|      view|   2701416|2232732091718566220|appliances.kitche...|   null|191.02|cd74f7cc-7d59-656...|\n",
      "|501980918|2020-02-03 07:15:10|      view|   2702218|2232732091718566220|appliances.kitche...|   null|276.12|cd74f7cc-7d59-656...|\n",
      "|501980918|2020-02-03 07:15:20|      view|   2700600|2232732091718566220|appliances.kitche...|   null|249.42|cd74f7cc-7d59-656...|\n",
      "|501980918|2020-02-03 07:15:30|      view|   2702289|2232732091718566220|appliances.kitche...|   null| 266.7|cd74f7cc-7d59-656...|\n",
      "|501980918|2020-02-03 07:15:42|      view|   2701416|2232732091718566220|appliances.kitche...|   null|191.02|cd74f7cc-7d59-656...|\n",
      "|501980918|2020-02-03 07:16:16|      view|   2702218|2232732091718566220|appliances.kitche...|   null|276.12|cd74f7cc-7d59-656...|\n",
      "|501980918|2020-02-03 07:16:21|      view|   2700600|2232732091718566220|appliances.kitche...|   null|249.42|cd74f7cc-7d59-656...|\n",
      "|501980918|2020-02-03 07:16:27|      view|   2702289|2232732091718566220|appliances.kitche...|   null| 266.7|cd74f7cc-7d59-656...|\n",
      "|501980918|2020-02-03 07:16:46|      view|   2701419|2232732091718566220|appliances.kitche...|   null|168.92|cd74f7cc-7d59-656...|\n",
      "|501980918|2020-02-03 07:17:06|      view|   2700406|2232732091718566220|appliances.kitche...|   null|260.75|cd74f7cc-7d59-656...|\n",
      "|501980918|2020-02-03 07:17:11|      view|   2701652|2232732091718566220|appliances.kitche...|   null|205.21|cd74f7cc-7d59-656...|\n",
      "|501980918|2020-02-03 07:17:19|      view|   2700599|2232732091718566220|appliances.kitche...|   null|213.37|cd74f7cc-7d59-656...|\n",
      "+---------+-------------------+----------+----------+-------------------+--------------------+-------+------+--------------------+\n",
      "only showing top 20 rows\n",
      "\n",
      "CPU times: user 32.8 ms, sys: 42 ms, total: 74.8 ms\n",
      "Wall time: 6min 34s\n"
     ]
    }
   ],
   "source": [
    "%%time\n",
    "month_02_filtered = df2.join(kept_df,'user_id','leftsemi')\n",
    "month_02_filtered.show(20)"
   ]
  },
  {
   "cell_type": "code",
   "execution_count": 9,
   "metadata": {},
   "outputs": [
    {
     "name": "stdout",
     "output_type": "stream",
     "text": [
      "CPU times: user 36.6 ms, sys: 34.6 ms, total: 71.2 ms\n",
      "Wall time: 7min 35s\n"
     ]
    }
   ],
   "source": [
    "%%time\n",
    "month_01_filtered.write.mode(\"overwrite\").parquet(\"./processed_data/month_01_filtered.parquet\")"
   ]
  },
  {
   "cell_type": "code",
   "execution_count": 10,
   "metadata": {},
   "outputs": [
    {
     "name": "stdout",
     "output_type": "stream",
     "text": [
      "CPU times: user 34.6 ms, sys: 34.6 ms, total: 69.3 ms\n",
      "Wall time: 7min 34s\n"
     ]
    }
   ],
   "source": [
    "%%time\n",
    "month_02_filtered.write.mode(\"overwrite\").parquet(\"./processed_data/month_02_filtered.parquet\")"
   ]
  },
  {
   "cell_type": "code",
   "execution_count": null,
   "metadata": {},
   "outputs": [],
   "source": []
  },
  {
   "cell_type": "code",
   "execution_count": null,
   "metadata": {},
   "outputs": [],
   "source": []
  }
 ],
 "metadata": {
  "kernelspec": {
   "display_name": "DS 5110 Spark 3.1",
   "language": "python",
   "name": "ds5110_spark3.1"
  },
  "language_info": {
   "codemirror_mode": {
    "name": "ipython",
    "version": 3
   },
   "file_extension": ".py",
   "mimetype": "text/x-python",
   "name": "python",
   "nbconvert_exporter": "python",
   "pygments_lexer": "ipython3",
   "version": "3.7.10"
  }
 },
 "nbformat": 4,
 "nbformat_minor": 4
}
